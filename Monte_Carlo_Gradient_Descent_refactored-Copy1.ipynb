{
 "cells": [
  {
   "cell_type": "code",
   "execution_count": 2,
   "metadata": {},
   "outputs": [],
   "source": [
    "import numpy as np\n",
    "from numpy import random as rd\n",
    "from pykrx import stock\n",
    "\n",
    "#여러 ETF들 종목코드\n",
    "#ETF_ticker = [\"252670\", \"122630\", \"233740\", \"251340\", \"114800\", \"069500\", \"102110\", \"225800\", \"138230\", \"132030\", \"280940\", \"292570\", \"292590\", \"292580\"]\n",
    "#14종목을 유니버스로 두는 경우 가중치가 특정 종목에 쏠려서 4종목으로 유니버스 축소\n",
    "#아래 티커는 각각 kodex레버리지 / KODEX MSCI모멘텀 / kosef미국달러선물 / KODEX 모멘텀PLUS\n",
    "ETF_ticker = [\"122630\", \"275280\", \"138230\", \"244620\"]\n",
    "N = len(ETF_ticker) #ETF 갯수만큼 자산 총 갯수는 N개로 제한된다.\n",
    "stocks_data = []\n",
    "srt = \"20140101\"\n",
    "end = \"20191231\"\n",
    "for i in range(0, N):\n",
    "    stocks_data.append(stock.get_market_ohlcv_by_date(srt, end, ETF_ticker[i])[\"종가\"][-300:])#룩백윈도우는 300일\n"
   ]
  },
  {
   "cell_type": "code",
   "execution_count": 3,
   "metadata": {
    "scrolled": true
   },
   "outputs": [
    {
     "data": {
      "text/plain": [
       "array([[768600.45819398, 768600.45819398],\n",
       "       [768600.45819398, 768600.45819398]])"
      ]
     },
     "execution_count": 3,
     "metadata": {},
     "output_type": "execute_result"
    }
   ],
   "source": [
    "np.var(stocks_data[0])\n",
    "np.cov(stocks_data[0], stocks_data[0])\n",
    "#numpy에서 var는 biased estimator, cov는 unbiased를 사용함."
   ]
  },
  {
   "cell_type": "code",
   "execution_count": 4,
   "metadata": {},
   "outputs": [
    {
     "data": {
      "text/plain": [
       "9.619047619047619"
      ]
     },
     "execution_count": 4,
     "metadata": {},
     "output_type": "execute_result"
    }
   ],
   "source": [
    "arr123 = [3,5,10,7,4,1,2]\n",
    "np.var(arr123, ddof=1)\n",
    "#var method에서 ddof=1로 설정하면 unbiased estimator를 사용함"
   ]
  },
  {
   "cell_type": "code",
   "execution_count": 5,
   "metadata": {},
   "outputs": [
    {
     "data": {
      "text/plain": [
       "array([[9.61904762, 9.61904762],\n",
       "       [9.61904762, 9.61904762]])"
      ]
     },
     "execution_count": 5,
     "metadata": {},
     "output_type": "execute_result"
    }
   ],
   "source": [
    "np.cov(arr123, arr123)#, bias=True)"
   ]
  },
  {
   "cell_type": "code",
   "execution_count": 6,
   "metadata": {
    "scrolled": false
   },
   "outputs": [],
   "source": [
    "#var - cov matrix 생성\n",
    "def getCov(a, b):\n",
    "    return np.cov(a,b)\n",
    "\n",
    "var_cov_mat = np.identity(N) # N * N 단위행렬\n",
    "\n",
    "for i in range(0, N):\n",
    "    for j in range(0, N):\n",
    "        var_cov_mat[i][j] = getCov(stocks_data[i], stocks_data[j])[0,1]"
   ]
  },
  {
   "cell_type": "code",
   "execution_count": 7,
   "metadata": {
    "scrolled": false
   },
   "outputs": [
    {
     "data": {
      "text/html": [
       "<div>\n",
       "<style scoped>\n",
       "    .dataframe tbody tr th:only-of-type {\n",
       "        vertical-align: middle;\n",
       "    }\n",
       "\n",
       "    .dataframe tbody tr th {\n",
       "        vertical-align: top;\n",
       "    }\n",
       "\n",
       "    .dataframe thead th {\n",
       "        text-align: right;\n",
       "    }\n",
       "</style>\n",
       "<table border=\"1\" class=\"dataframe\">\n",
       "  <thead>\n",
       "    <tr style=\"text-align: right;\">\n",
       "      <th></th>\n",
       "      <th>0</th>\n",
       "      <th>1</th>\n",
       "      <th>2</th>\n",
       "      <th>3</th>\n",
       "    </tr>\n",
       "  </thead>\n",
       "  <tbody>\n",
       "    <tr>\n",
       "      <td>0</td>\n",
       "      <td>768600.458194</td>\n",
       "      <td>196003.595318</td>\n",
       "      <td>-101183.123746</td>\n",
       "      <td>202043.399331</td>\n",
       "    </tr>\n",
       "    <tr>\n",
       "      <td>1</td>\n",
       "      <td>196003.595318</td>\n",
       "      <td>125679.129320</td>\n",
       "      <td>-115309.425864</td>\n",
       "      <td>144233.040134</td>\n",
       "    </tr>\n",
       "    <tr>\n",
       "      <td>2</td>\n",
       "      <td>-101183.123746</td>\n",
       "      <td>-115309.425864</td>\n",
       "      <td>153888.159420</td>\n",
       "      <td>-116942.705017</td>\n",
       "    </tr>\n",
       "    <tr>\n",
       "      <td>3</td>\n",
       "      <td>202043.399331</td>\n",
       "      <td>144233.040134</td>\n",
       "      <td>-116942.705017</td>\n",
       "      <td>252306.451773</td>\n",
       "    </tr>\n",
       "  </tbody>\n",
       "</table>\n",
       "</div>"
      ],
      "text/plain": [
       "               0              1              2              3\n",
       "0  768600.458194  196003.595318 -101183.123746  202043.399331\n",
       "1  196003.595318  125679.129320 -115309.425864  144233.040134\n",
       "2 -101183.123746 -115309.425864  153888.159420 -116942.705017\n",
       "3  202043.399331  144233.040134 -116942.705017  252306.451773"
      ]
     },
     "execution_count": 7,
     "metadata": {},
     "output_type": "execute_result"
    }
   ],
   "source": [
    "import pandas as pd\n",
    "df = pd.DataFrame(var_cov_mat)\n",
    "df #var cov matrix를 살펴봅니다"
   ]
  },
  {
   "cell_type": "code",
   "execution_count": 8,
   "metadata": {
    "scrolled": false
   },
   "outputs": [
    {
     "name": "stdout",
     "output_type": "stream",
     "text": [
      "(21737353.42821542, [0.0, 0.52, 0.47, 0.01])\n",
      "300000\n"
     ]
    }
   ],
   "source": [
    "con = 0 # 몬테카를로 조건을 만족한 For문 횟수\n",
    "minloss = []\n",
    "\n",
    "#몬테카를로에서 30만이라는 값은 0 <= w_i <= 1, sum(w) = 1, i = 1,2,3,4 를 만족하는 R^4 공간에 비교하면 작은 값이라 생각됨.\n",
    "for i in range(300000): \n",
    "    # sum(w) = 1 를 만족하는 w 생성\n",
    "    w = []\n",
    "    wmax = 100\n",
    "    wadded = 0\n",
    "    for i in range(0, N): #sum(w) = 1 을 만족하는 무작위 가중치 벡터 생성\n",
    "        added = rd.randint(0, wmax-wadded+1)\n",
    "        wadded += added\n",
    "        if i == N-1 and np.sum(w) != 100:\n",
    "            added = round((1 - np.sum(w))*100,3)\n",
    "        w.append(added/100)\n",
    "\n",
    "\n",
    "    if np.round(np.sum(w),3) == 1:\n",
    "        con+=1\n",
    "\n",
    "    #생성된 weight vector를 통해 minimize문제 풀기\n",
    "    risk = np.dot(np.dot(np.transpose(w), var_cov_mat), w) # sigma _ w\n",
    "    sigma_and_w = np.dot(var_cov_mat, w)\n",
    "    \n",
    "    lossfunc = 0\n",
    "    for i in range(0, N):\n",
    "        lossfunc += (w[i] - risk**2/(sigma_and_w[i] * N))**2\n",
    "    minloss.append((lossfunc, w)) #가장 작은 lossfunc 값을 생성하는 가중치 벡터 w를 저장\n",
    "print(min(minloss))\n",
    "print(con)\n",
    "#"
   ]
  },
  {
   "cell_type": "code",
   "execution_count": 40,
   "metadata": {},
   "outputs": [],
   "source": [
    "import scipy as sp\n",
    "from scipy import optimize\n",
    "def eq_constraint(w):\n",
    "    summation = 0\n",
    "    for i in w:\n",
    "        summation += i\n",
    "    return summation -1\n",
    "\n",
    "w_init = [1/N for i in range(0,N)]\n",
    "\n",
    "\n",
    "def flarray(w):\n",
    "    summation = 0\n",
    "    N = len(w)\n",
    "    for wi, i in zip(w, range(0,N)):\n",
    "        summation += (wi - risk/(N* np.array(np.dot(var_cov_mat, w)[i])))**2\n",
    "    return summation\n"
   ]
  },
  {
   "cell_type": "code",
   "execution_count": 44,
   "metadata": {
    "scrolled": true
   },
   "outputs": [
    {
     "name": "stdout",
     "output_type": "stream",
     "text": [
      "Optimization terminated successfully.    (Exit mode 0)\n",
      "            Current function value: 0.19002280581990166\n",
      "            Iterations: 7\n",
      "            Function evaluations: 46\n",
      "            Gradient evaluations: 7\n"
     ]
    },
    {
     "data": {
      "text/plain": [
       "array([0.25211862, 0.393922  , 0.01577513, 0.33818425])"
      ]
     },
     "execution_count": 44,
     "metadata": {},
     "output_type": "execute_result"
    }
   ],
   "source": [
    "sp.optimize.fmin_slsqp(flarray, np.array([0.25, 0.25, 0.25, 0.25]), eqcons=[eq_constraint])"
   ]
  },
  {
   "cell_type": "code",
   "execution_count": 8,
   "metadata": {
    "scrolled": false
   },
   "outputs": [],
   "source": [
    "ret = pd.DataFrame(np.nan,index=np.arange(len(stocks_data[0])), columns=ETF_ticker)\n",
    "for stock, idx in zip(ETF_ticker, range(0,N)): #수익률을 구해줍니다. 컬럼을 누적해서 곱하면 누적수익률이 됨.\n",
    "    for i in range(1, len(stocks_data[0])):\n",
    "        ret[stock].iloc[i] =  stocks_data[idx][i]/stocks_data[idx][i-1] "
   ]
  },
  {
   "cell_type": "code",
   "execution_count": 9,
   "metadata": {},
   "outputs": [
    {
     "data": {
      "text/html": [
       "<div>\n",
       "<style scoped>\n",
       "    .dataframe tbody tr th:only-of-type {\n",
       "        vertical-align: middle;\n",
       "    }\n",
       "\n",
       "    .dataframe tbody tr th {\n",
       "        vertical-align: top;\n",
       "    }\n",
       "\n",
       "    .dataframe thead th {\n",
       "        text-align: right;\n",
       "    }\n",
       "</style>\n",
       "<table border=\"1\" class=\"dataframe\">\n",
       "  <thead>\n",
       "    <tr style=\"text-align: right;\">\n",
       "      <th></th>\n",
       "      <th>122630</th>\n",
       "      <th>275280</th>\n",
       "      <th>138230</th>\n",
       "      <th>244620</th>\n",
       "    </tr>\n",
       "  </thead>\n",
       "  <tbody>\n",
       "    <tr>\n",
       "      <td>0</td>\n",
       "      <td>NaN</td>\n",
       "      <td>NaN</td>\n",
       "      <td>NaN</td>\n",
       "      <td>NaN</td>\n",
       "    </tr>\n",
       "    <tr>\n",
       "      <td>1</td>\n",
       "      <td>0.996033</td>\n",
       "      <td>0.994170</td>\n",
       "      <td>0.994454</td>\n",
       "      <td>1.012081</td>\n",
       "    </tr>\n",
       "    <tr>\n",
       "      <td>2</td>\n",
       "      <td>1.025090</td>\n",
       "      <td>1.012815</td>\n",
       "      <td>0.997855</td>\n",
       "      <td>1.012940</td>\n",
       "    </tr>\n",
       "    <tr>\n",
       "      <td>3</td>\n",
       "      <td>0.981352</td>\n",
       "      <td>0.988419</td>\n",
       "      <td>1.007309</td>\n",
       "      <td>0.985245</td>\n",
       "    </tr>\n",
       "    <tr>\n",
       "      <td>4</td>\n",
       "      <td>1.007918</td>\n",
       "      <td>1.013343</td>\n",
       "      <td>0.997866</td>\n",
       "      <td>1.007940</td>\n",
       "    </tr>\n",
       "    <tr>\n",
       "      <td>...</td>\n",
       "      <td>...</td>\n",
       "      <td>...</td>\n",
       "      <td>...</td>\n",
       "      <td>...</td>\n",
       "    </tr>\n",
       "    <tr>\n",
       "      <td>295</td>\n",
       "      <td>0.998586</td>\n",
       "      <td>1.000000</td>\n",
       "      <td>1.002852</td>\n",
       "      <td>0.997768</td>\n",
       "    </tr>\n",
       "    <tr>\n",
       "      <td>296</td>\n",
       "      <td>0.986195</td>\n",
       "      <td>0.992563</td>\n",
       "      <td>0.999594</td>\n",
       "      <td>0.997204</td>\n",
       "    </tr>\n",
       "    <tr>\n",
       "      <td>297</td>\n",
       "      <td>1.008256</td>\n",
       "      <td>0.994813</td>\n",
       "      <td>0.998374</td>\n",
       "      <td>1.017386</td>\n",
       "    </tr>\n",
       "    <tr>\n",
       "      <td>298</td>\n",
       "      <td>1.031328</td>\n",
       "      <td>1.028969</td>\n",
       "      <td>0.999593</td>\n",
       "      <td>1.020397</td>\n",
       "    </tr>\n",
       "    <tr>\n",
       "      <td>299</td>\n",
       "      <td>0.995858</td>\n",
       "      <td>1.001689</td>\n",
       "      <td>0.996334</td>\n",
       "      <td>1.006483</td>\n",
       "    </tr>\n",
       "  </tbody>\n",
       "</table>\n",
       "<p>300 rows × 4 columns</p>\n",
       "</div>"
      ],
      "text/plain": [
       "       122630    275280    138230    244620\n",
       "0         NaN       NaN       NaN       NaN\n",
       "1    0.996033  0.994170  0.994454  1.012081\n",
       "2    1.025090  1.012815  0.997855  1.012940\n",
       "3    0.981352  0.988419  1.007309  0.985245\n",
       "4    1.007918  1.013343  0.997866  1.007940\n",
       "..        ...       ...       ...       ...\n",
       "295  0.998586  1.000000  1.002852  0.997768\n",
       "296  0.986195  0.992563  0.999594  0.997204\n",
       "297  1.008256  0.994813  0.998374  1.017386\n",
       "298  1.031328  1.028969  0.999593  1.020397\n",
       "299  0.995858  1.001689  0.996334  1.006483\n",
       "\n",
       "[300 rows x 4 columns]"
      ]
     },
     "execution_count": 9,
     "metadata": {},
     "output_type": "execute_result"
    }
   ],
   "source": [
    "ret #return 값을 살펴봅니다."
   ]
  },
  {
   "cell_type": "code",
   "execution_count": 10,
   "metadata": {},
   "outputs": [
    {
     "data": {
      "text/plain": [
       "array([13, 15, 17, 19])"
      ]
     },
     "execution_count": 10,
     "metadata": {},
     "output_type": "execute_result"
    }
   ],
   "source": [
    "asdf = [1,2,3,4]\n",
    "fdsa = [2,3,4,5]\n",
    "kkkk = [10,10,10,10]\n",
    "np.sum((asdf,fdsa,kkkk), axis=0)\n",
    "#이런식으로 sum함수에 axis=0을 붙여주면 선형결합을 함"
   ]
  },
  {
   "cell_type": "code",
   "execution_count": 11,
   "metadata": {
    "scrolled": true
   },
   "outputs": [
    {
     "name": "stderr",
     "output_type": "stream",
     "text": [
      "/Users/yongcheolkim/opt/anaconda3/lib/python3.7/site-packages/ipykernel_launcher.py:3: DeprecationWarning: Calling np.sum(generator) is deprecated, and in the future will give a different result. Use np.sum(np.fromiter(generator)) or the python sum builtin instead.\n",
      "  This is separate from the ipykernel package so we can avoid doing imports until\n"
     ]
    },
    {
     "data": {
      "text/plain": [
       "0           NaN\n",
       "1      0.999185\n",
       "2      1.012175\n",
       "3      0.990581\n",
       "4      1.006767\n",
       "         ...   \n",
       "295    0.999802\n",
       "296    0.993889\n",
       "297    1.004707\n",
       "298    1.020072\n",
       "299    1.000091\n",
       "Length: 300, dtype: float64"
      ]
     },
     "execution_count": 11,
     "metadata": {},
     "output_type": "execute_result"
    }
   ],
   "source": [
    "#EW는 equal weight, 각 자산에 초기에 1/N씩 투자하는 포트폴리오임(리밸런싱 아직 구현 못함)\n",
    "s = [1/N for i in range(0,N)]\n",
    "ew = np.sum((ret[stock]*i for stock, i in zip(ETF_ticker, s)))\n",
    "ew"
   ]
  },
  {
   "cell_type": "code",
   "execution_count": 12,
   "metadata": {
    "scrolled": false
   },
   "outputs": [
    {
     "name": "stderr",
     "output_type": "stream",
     "text": [
      "/Users/yongcheolkim/opt/anaconda3/lib/python3.7/site-packages/ipykernel_launcher.py:2: DeprecationWarning: Calling np.sum(generator) is deprecated, and in the future will give a different result. Use np.sum(np.fromiter(generator)) or the python sum builtin instead.\n",
      "  \n"
     ]
    },
    {
     "data": {
      "text/plain": [
       "0           NaN\n",
       "1      0.997440\n",
       "2      1.020045\n",
       "3      0.983987\n",
       "4      1.009285\n",
       "         ...   \n",
       "295    0.998912\n",
       "296    0.989369\n",
       "297    1.005623\n",
       "298    1.029062\n",
       "299    0.998712\n",
       "Length: 300, dtype: float64"
      ]
     },
     "execution_count": 12,
     "metadata": {},
     "output_type": "execute_result"
    }
   ],
   "source": [
    "#ERC는 앞서 10번 블럭에서 구한 w값을 통해 각 자산의 비중을 결정함.\n",
    "erc = np.sum((ret[stock]*w[i] for stock, i in zip(ETF_ticker, range(0,N))), axis=0)\n",
    "erc"
   ]
  },
  {
   "cell_type": "code",
   "execution_count": 13,
   "metadata": {
    "scrolled": true
   },
   "outputs": [
    {
     "name": "stdout",
     "output_type": "stream",
     "text": [
      "1 11\n",
      "2 12\n",
      "3 13\n",
      "4 14\n",
      "5 15\n",
      "6 16\n",
      "7 17\n",
      "8 18\n",
      "9 19\n"
     ]
    }
   ],
   "source": [
    "for i, j in zip(range(1,10), range(11,20)):\n",
    "    print(i,j)\n",
    "#이런식으로 하나의 for문에 2개의 index를 사용할 수 있음."
   ]
  },
  {
   "cell_type": "code",
   "execution_count": 14,
   "metadata": {},
   "outputs": [
    {
     "data": {
      "text/plain": [
       "array([      1,       2,       6,      24,     120,     720,    5040,\n",
       "         40320,  362880, 3628800])"
      ]
     },
     "execution_count": 14,
     "metadata": {},
     "output_type": "execute_result"
    }
   ],
   "source": [
    "np.cumprod([1,2,3,4,5,6,7,8,9,10])\n",
    "#cumsum : 누적 합계\n",
    "#cumprod : 누적 곱"
   ]
  },
  {
   "cell_type": "code",
   "execution_count": 15,
   "metadata": {
    "scrolled": true
   },
   "outputs": [],
   "source": [
    "ew_cum = np.cumprod(ew)\n",
    "erc_cum = np.cumprod(erc)\n",
    "#누적수익률을 구해줍니다"
   ]
  },
  {
   "cell_type": "code",
   "execution_count": 16,
   "metadata": {
    "scrolled": true
   },
   "outputs": [
    {
     "data": {
      "text/plain": [
       "0           NaN\n",
       "1      0.999185\n",
       "2      1.011350\n",
       "3      1.001824\n",
       "4      1.008603\n",
       "         ...   \n",
       "295    1.012037\n",
       "296    1.005852\n",
       "297    1.010587\n",
       "298    1.030871\n",
       "299    1.030965\n",
       "Length: 300, dtype: float64"
      ]
     },
     "execution_count": 16,
     "metadata": {},
     "output_type": "execute_result"
    }
   ],
   "source": [
    "ew_cum #동일비중 포트폴리오의 누적수익률"
   ]
  },
  {
   "cell_type": "code",
   "execution_count": 17,
   "metadata": {
    "scrolled": true
   },
   "outputs": [
    {
     "data": {
      "text/plain": [
       "0           NaN\n",
       "1      0.997440\n",
       "2      1.017434\n",
       "3      1.001142\n",
       "4      1.010437\n",
       "         ...   \n",
       "295    1.048720\n",
       "296    1.037572\n",
       "297    1.043406\n",
       "298    1.073729\n",
       "299    1.072346\n",
       "Length: 300, dtype: float64"
      ]
     },
     "execution_count": 17,
     "metadata": {},
     "output_type": "execute_result"
    }
   ],
   "source": [
    "erc_cum #ERC 포트폴리오의 누적수익률"
   ]
  },
  {
   "cell_type": "code",
   "execution_count": 18,
   "metadata": {
    "scrolled": true
   },
   "outputs": [
    {
     "data": {
      "image/png": "[encoded data removed]",
      "text/plain": [
       "<Figure size 432x288 with 1 Axes>"
      ]
     },
     "metadata": {
      "needs_background": "light"
     },
     "output_type": "display_data"
    }
   ],
   "source": [
    "import matplotlib.pyplot as plt\n",
    "%matplotlib inline\n",
    "\n",
    "plt.figure()\n",
    "plt.plot(ew_cum,'r')#동일비중포트폴리오 - 빨강\n",
    "plt.plot(erc_cum,'b')#ERC포트폴리오 - 파랑\n",
    "plt.show()\n",
    "#왜 ERC의 MDD가 더 큰지 나도 모르겠다."
   ]
  }
 ],
 "metadata": {
  "kernelspec": {
   "display_name": "Python 3",
   "language": "python",
   "name": "python3"
  },
  "language_info": {
   "codemirror_mode": {
    "name": "ipython",
    "version": 3
   },
   "file_extension": ".py",
   "mimetype": "text/x-python",
   "name": "python",
   "nbconvert_exporter": "python",
   "pygments_lexer": "ipython3",
   "version": "3.7.4"
  }
 },
 "nbformat": 4,
 "nbformat_minor": 2
}
