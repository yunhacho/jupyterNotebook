{
 "cells": [
  {
   "cell_type": "code",
   "execution_count": 8,
   "metadata": {},
   "outputs": [],
   "source": [
    "import pandas as pd\n",
    "import numpy as np\n",
    "\n",
    "a = pd.DataFrame(([1,2,3] , [4, np.nan, 5], [np.nan, 7 , 9]))"
   ]
  },
  {
   "cell_type": "code",
   "execution_count": 7,
   "metadata": {},
   "outputs": [
    {
     "data": {
      "text/html": [
       "<div>\n",
       "<style scoped>\n",
       "    .dataframe tbody tr th:only-of-type {\n",
       "        vertical-align: middle;\n",
       "    }\n",
       "\n",
       "    .dataframe tbody tr th {\n",
       "        vertical-align: top;\n",
       "    }\n",
       "\n",
       "    .dataframe thead th {\n",
       "        text-align: right;\n",
       "    }\n",
       "</style>\n",
       "<table border=\"1\" class=\"dataframe\">\n",
       "  <thead>\n",
       "    <tr style=\"text-align: right;\">\n",
       "      <th></th>\n",
       "      <th>0</th>\n",
       "      <th>1</th>\n",
       "      <th>2</th>\n",
       "    </tr>\n",
       "  </thead>\n",
       "  <tbody>\n",
       "    <tr>\n",
       "      <td>0</td>\n",
       "      <td>1</td>\n",
       "      <td>2.0</td>\n",
       "      <td>3</td>\n",
       "    </tr>\n",
       "    <tr>\n",
       "      <td>1</td>\n",
       "      <td>4</td>\n",
       "      <td>1111.0</td>\n",
       "      <td>5</td>\n",
       "    </tr>\n",
       "  </tbody>\n",
       "</table>\n",
       "</div>"
      ],
      "text/plain": [
       "   0       1  2\n",
       "0  1     2.0  3\n",
       "1  4  1111.0  5"
      ]
     },
     "execution_count": 7,
     "metadata": {},
     "output_type": "execute_result"
    }
   ],
   "source": [
    "a.fillna(1111)"
   ]
  },
  {
   "cell_type": "code",
   "execution_count": 11,
   "metadata": {},
   "outputs": [
    {
     "data": {
      "text/html": [
       "<div>\n",
       "<style scoped>\n",
       "    .dataframe tbody tr th:only-of-type {\n",
       "        vertical-align: middle;\n",
       "    }\n",
       "\n",
       "    .dataframe tbody tr th {\n",
       "        vertical-align: top;\n",
       "    }\n",
       "\n",
       "    .dataframe thead th {\n",
       "        text-align: right;\n",
       "    }\n",
       "</style>\n",
       "<table border=\"1\" class=\"dataframe\">\n",
       "  <thead>\n",
       "    <tr style=\"text-align: right;\">\n",
       "      <th></th>\n",
       "      <th>0</th>\n",
       "      <th>1</th>\n",
       "      <th>2</th>\n",
       "    </tr>\n",
       "  </thead>\n",
       "  <tbody>\n",
       "    <tr>\n",
       "      <td>0</td>\n",
       "      <td>1.0</td>\n",
       "      <td>2.0</td>\n",
       "      <td>3</td>\n",
       "    </tr>\n",
       "  </tbody>\n",
       "</table>\n",
       "</div>"
      ],
      "text/plain": [
       "     0    1  2\n",
       "0  1.0  2.0  3"
      ]
     },
     "execution_count": 11,
     "metadata": {},
     "output_type": "execute_result"
    }
   ],
   "source": [
    "a.dropna(0)"
   ]
  },
  {
   "cell_type": "code",
   "execution_count": null,
   "metadata": {},
   "outputs": [],
   "source": [
    "a = [1,2,3]\n",
    "a."
   ]
  },
  {
   "cell_type": "code",
   "execution_count": 8,
   "metadata": {},
   "outputs": [],
   "source": [
    "a = 3\n",
    "if a == 3:\n",
    "    pass\n",
    "else:\n",
    "    print(33)\n",
    "    "
   ]
  },
  {
   "cell_type": "code",
   "execution_count": 10,
   "metadata": {},
   "outputs": [],
   "source": [
    "a = [Edge(3), Edge(4)]"
   ]
  },
  {
   "cell_type": "code",
   "execution_count": 12,
   "metadata": {},
   "outputs": [],
   "source": [
    "class A:\n",
    "    def __init__(self):\n",
    "        self.a = []\n",
    "        self.n = len(self.a)\n",
    "    def add(self):\n",
    "        self.a.append(123)\n",
    "\n",
    "a = A()"
   ]
  },
  {
   "cell_type": "code",
   "execution_count": 14,
   "metadata": {},
   "outputs": [
    {
     "name": "stdout",
     "output_type": "stream",
     "text": [
      "0\n",
      "0\n"
     ]
    }
   ],
   "source": [
    "print(a.n)\n",
    "a.add()\n",
    "a.add()\n",
    "a.add()\n",
    "a.add()\n",
    "print(a.n)"
   ]
  },
  {
   "cell_type": "code",
   "execution_count": 15,
   "metadata": {},
   "outputs": [],
   "source": [
    "class Edge:\n",
    "    def __init__(self, num:int, univ):\n",
    "        self.value = num\n",
    "        self.link = []\n",
    "        self.univ = univ\n",
    "        \n",
    "    def addLink(self, link):\n",
    "        if link in self.link:\n",
    "            return\n",
    "        else:\n",
    "            self.link.append(link)\n",
    "    \n",
    "    def __str__(self):\n",
    "        print(f\"{self.value} Point has {link}\")\n",
    "        \n",
    "    def getLinked(self):\n",
    "        r = set([])\n",
    "        \n",
    "        \n",
    "  #  def printLink():\n",
    "   #     print(self.link)\n",
    "        \n",
    "class Graph:\n",
    "    def __init__(self):\n",
    "        self.elements = []\n",
    "    \n",
    "    def add(self, start:int, end:int):\n",
    "        if start in self.elements:\n",
    "            pass\n",
    "        else:\n",
    "            self.elements.append(Edge(start, self))\n",
    "        \n",
    "        if end in self.elements:\n",
    "            pass\n",
    "        else:\n",
    "            self.elements.append(Edge(end, self))\n",
    "        \n",
    "        for i in range(len(self.elements)):\n",
    "            if self.elements[i].value == start:\n",
    "                self.elements[i].addLink(end)\n",
    "            if self.elements[i].value == end:\n",
    "                self.elements[i].addLink(start)\n",
    "    \n",
    "    def findEdge(self, num):\n",
    "        r = None\n",
    "        for i in range(len(self.elements)):\n",
    "            if self.elements[i].value == num:\n",
    "                r = self.elements[i]\n",
    "        return r\n",
    "    \n",
    "    def search(self, startingPoint:int):\n",
    "        sp = startingPoint\n",
    "        returnlist = set()\n",
    "        sp = findEdge(sp)\n",
    "        \n",
    "        \n",
    "        return list, n"
   ]
  }
 ],
 "metadata": {
  "kernelspec": {
   "display_name": "Python 3",
   "language": "python",
   "name": "python3"
  },
  "language_info": {
   "codemirror_mode": {
    "name": "ipython",
    "version": 3
   },
   "file_extension": ".py",
   "mimetype": "text/x-python",
   "name": "python",
   "nbconvert_exporter": "python",
   "pygments_lexer": "ipython3",
   "version": "3.7.4"
  }
 },
 "nbformat": 4,
 "nbformat_minor": 2
}
