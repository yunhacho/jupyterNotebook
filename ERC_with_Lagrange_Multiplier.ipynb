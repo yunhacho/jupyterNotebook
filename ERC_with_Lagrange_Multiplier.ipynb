{
 "cells": [
  {
   "cell_type": "code",
   "execution_count": 2,
   "metadata": {},
   "outputs": [],
   "source": [
    "import numpy as np\n",
    "from numpy import random as rd\n",
    "from pykrx import stock\n",
    "\n",
    "#아래 티커는 각각 kodex레버리지 / KODEX 인버스 / kosef미국달러선물 / KODEX 모멘텀PLUS\n",
    "ETF_ticker = [\"122630\", \"114800\", \"138230\", \"244620\"]\n",
    "N = len(ETF_ticker) #ETF 갯수만큼 자산 총 갯수는 N개로 제한된다.\n",
    "stocks_data = []\n",
    "srt = \"20140101\"\n",
    "end = \"20191231\"\n",
    "for i in range(0, N):\n",
    "    stocks_data.append(stock.get_market_ohlcv_by_date(srt, end, ETF_ticker[i])[\"종가\"][-300:])#룩백윈도우는 300일\n"
   ]
  },
  {
   "cell_type": "code",
   "execution_count": 3,
   "metadata": {},
   "outputs": [],
   "source": [
    "#var - cov matrix 생성\n",
    "def getCov(a, b):\n",
    "    return np.cov(a,b)\n",
    "\n",
    "var_cov_mat = np.identity(N) # N * N 단위행렬\n",
    "\n",
    "for i in range(0, N):\n",
    "    for j in range(0, N):\n",
    "        var_cov_mat[i][j] = getCov(stocks_data[i], stocks_data[j])[0,1]"
   ]
  },
  {
   "cell_type": "code",
   "execution_count": 9,
   "metadata": {},
   "outputs": [],
   "source": [
    "w = [1/N for i in range(0,N)]"
   ]
  },
  {
   "cell_type": "code",
   "execution_count": 10,
   "metadata": {},
   "outputs": [],
   "source": [
    "risk = np.dot(np.dot(np.transpose(w), var_cov_mat), w) # sigma _ w"
   ]
  },
  {
   "cell_type": "code",
   "execution_count": 4,
   "metadata": {},
   "outputs": [],
   "source": [
    "import scipy as sp\n",
    "from scipy import optimize\n",
    "\n",
    "def eq_constraint(w):\n",
    "    summation = 0\n",
    "    for i in w:\n",
    "        summation += i\n",
    "    return summation -1\n",
    "\n",
    "def flarray(w):\n",
    "    summation = 0\n",
    "    risk = np.dot(np.dot(np.transpose(w), var_cov_mat), w) # sigma _ w\n",
    "    N = len(w)\n",
    "    for wi, i in zip(w, range(0,N)):\n",
    "        summation += (wi - risk/(N* np.array(np.dot(var_cov_mat, w)[i])))**2\n",
    "    return summation\n"
   ]
  },
  {
   "cell_type": "code",
   "execution_count": 5,
   "metadata": {
    "scrolled": false
   },
   "outputs": [
    {
     "name": "stdout",
     "output_type": "stream",
     "text": [
      "Optimization terminated successfully.    (Exit mode 0)\n",
      "            Current function value: 5.900496783761678e-08\n",
      "            Iterations: 15\n",
      "            Function evaluations: 98\n",
      "            Gradient evaluations: 15\n"
     ]
    }
   ],
   "source": [
    "w_init = [1/N for i in range(0,N)] # 초기값은 동일비중[1/4 1/4 1/4 1/4]\n",
    "result1 = sp.optimize.fmin_slsqp(flarray, w_init, eqcons=[eq_constraint])"
   ]
  },
  {
   "cell_type": "code",
   "execution_count": 8,
   "metadata": {
    "scrolled": true
   },
   "outputs": [
    {
     "name": "stdout",
     "output_type": "stream",
     "text": [
      "Optimization terminated successfully.    (Exit mode 0)\n",
      "            Current function value: 1.4702844042180107e-07\n",
      "            Iterations: 21\n",
      "            Function evaluations: 139\n",
      "            Gradient evaluations: 21\n"
     ]
    }
   ],
   "source": [
    "#초기값을 달리했을때\n",
    "w_another_init = [0.1, 0.4, 0.3, 0.2]\n",
    "result2 = sp.optimize.fmin_slsqp(flarray, w_another_init, eqcons=[eq_constraint])"
   ]
  },
  {
   "cell_type": "code",
   "execution_count": 9,
   "metadata": {
    "scrolled": true
   },
   "outputs": [
    {
     "name": "stdout",
     "output_type": "stream",
     "text": [
      "[-0.2780899   1.04054416  0.77073144 -0.5331857 ]\n",
      "[-0.27819215  1.04025756  0.7710139  -0.53307931]\n",
      "[ 0.00010225  0.0002866  -0.00028247 -0.00010638]\n"
     ]
    }
   ],
   "source": [
    "print(result1)\n",
    "print(result2)\n",
    "print(result1 - result2)"
   ]
  },
  {
   "cell_type": "code",
   "execution_count": 19,
   "metadata": {},
   "outputs": [
    {
     "name": "stdout",
     "output_type": "stream",
     "text": [
      "Optimization terminated successfully.    (Exit mode 0)\n",
      "            Current function value: 5.900496783761678e-08\n",
      "            Iterations: 15\n",
      "            Function evaluations: 98\n",
      "            Gradient evaluations: 15\n"
     ]
    },
    {
     "data": {
      "text/plain": [
       "array([-0.2780899 ,  1.04054416,  0.77073144, -0.5331857 ])"
      ]
     },
     "execution_count": 19,
     "metadata": {},
     "output_type": "execute_result"
    }
   ],
   "source": [
    "w_extreme = [0.4 , 0.1, 0.3, 0.2]\n",
    "sp.optimize.fmin_slsqp(flarray, w_init, eqcons=[eq_constraint])"
   ]
  }
 ],
 "metadata": {
  "kernelspec": {
   "display_name": "Python 3",
   "language": "python",
   "name": "python3"
  },
  "language_info": {
   "codemirror_mode": {
    "name": "ipython",
    "version": 3
   },
   "file_extension": ".py",
   "mimetype": "text/x-python",
   "name": "python",
   "nbconvert_exporter": "python",
   "pygments_lexer": "ipython3",
   "version": "3.7.4"
  }
 },
 "nbformat": 4,
 "nbformat_minor": 2
}
