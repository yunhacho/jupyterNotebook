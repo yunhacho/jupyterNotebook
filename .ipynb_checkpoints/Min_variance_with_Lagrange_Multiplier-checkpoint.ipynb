{
 "cells": [
  {
   "cell_type": "code",
   "execution_count": 20,
   "metadata": {},
   "outputs": [],
   "source": [
    "import numpy as np\n",
    "from numpy import random as rd\n",
    "from pykrx import stock\n",
    "\n",
    "#아래 티커는 각각 kodex레버리지 / KODEX 인버스 / kosef미국달러선물 / KODEX 모멘텀PLUS\n",
    "ETF_ticker = [\"122630\", \"114800\", \"138230\", \"244620\"]\n",
    "N = len(ETF_ticker) #ETF 갯수만큼 자산 총 갯수는 N개로 제한된다.\n",
    "stocks_data = []\n",
    "srt = \"20140101\"\n",
    "end = \"20191231\"\n",
    "for i in range(0, N):\n",
    "    stocks_data.append(stock.get_market_ohlcv_by_date(srt, end, ETF_ticker[i])[\"종가\"][-300:])#룩백윈도우는 300일\n"
   ]
  },
  {
   "cell_type": "code",
   "execution_count": 21,
   "metadata": {},
   "outputs": [],
   "source": [
    "#var - cov matrix 생성\n",
    "def getCov(a, b):\n",
    "    return np.cov(a,b)\n",
    "\n",
    "var_cov_mat = np.identity(N) # N * N 단위행렬\n",
    "\n",
    "for i in range(0, N):\n",
    "    for j in range(0, N):\n",
    "        var_cov_mat[i][j] = getCov(stocks_data[i], stocks_data[j])[0,1]"
   ]
  },
  {
   "cell_type": "code",
   "execution_count": 22,
   "metadata": {},
   "outputs": [],
   "source": [
    "w = [1/N for i in range(0,N)]"
   ]
  },
  {
   "cell_type": "code",
   "execution_count": 23,
   "metadata": {},
   "outputs": [],
   "source": [
    "import scipy as sp\n",
    "from scipy import optimize\n",
    "\n",
    "def eq_constraint(w):\n",
    "    summation = 0\n",
    "    for i in w:\n",
    "        summation += i\n",
    "    return summation -1\n",
    "\n",
    "def flarray(w):\n",
    "    return np.dot(np.dot(np.transpose(w), var_cov_mat), w)\n"
   ]
  },
  {
   "cell_type": "code",
   "execution_count": 24,
   "metadata": {
    "scrolled": false
   },
   "outputs": [
    {
     "name": "stdout",
     "output_type": "stream",
     "text": [
      "Optimization terminated successfully.    (Exit mode 0)\n",
      "            Current function value: 293.8887884156733\n",
      "            Iterations: 6\n",
      "            Function evaluations: 53\n",
      "            Gradient evaluations: 6\n"
     ]
    }
   ],
   "source": [
    "w_init = [1/N for i in range(0,N)] # 초기값은 동일비중[1/4 1/4 1/4 1/4]\n",
    "result1 = sp.optimize.fmin_slsqp(flarray, w_init, eqcons=[eq_constraint])"
   ]
  },
  {
   "cell_type": "code",
   "execution_count": 25,
   "metadata": {
    "scrolled": true
   },
   "outputs": [
    {
     "name": "stdout",
     "output_type": "stream",
     "text": [
      "MIN-Variance포트폴리오 가중치 [ 0.22808428  0.74518481  0.04903452 -0.0223036 ]\n",
      "포트폴리오의 Variance 293.8887884156733\n"
     ]
    }
   ],
   "source": [
    "print(\"MIN-Variance포트폴리오 가중치\",result1)\n",
    "print(\"포트폴리오의 Variance\",np.dot(np.dot(np.transpose(result1), var_cov_mat), result1))"
   ]
  },
  {
   "cell_type": "code",
   "execution_count": 26,
   "metadata": {},
   "outputs": [
    {
     "name": "stdout",
     "output_type": "stream",
     "text": [
      "초기값으로 계산된 포트폴리오의 Variance :44202.697550167126\n"
     ]
    }
   ],
   "source": [
    "print(\"초기값으로 계산된 포트폴리오의 Variance :\", end='')\n",
    "print(np.dot(np.dot(np.transpose(w), var_cov_mat), w))"
   ]
  },
  {
   "cell_type": "code",
   "execution_count": 27,
   "metadata": {
    "scrolled": false
   },
   "outputs": [
    {
     "name": "stdout",
     "output_type": "stream",
     "text": [
      "Optimization terminated successfully.    (Exit mode 0)\n",
      "            Current function value: 293.8887884156822\n",
      "            Iterations: 6\n",
      "            Function evaluations: 53\n",
      "            Gradient evaluations: 6\n"
     ]
    },
    {
     "data": {
      "text/plain": [
       "array([ 0.22808428,  0.74518481,  0.04903452, -0.0223036 ])"
      ]
     },
     "execution_count": 27,
     "metadata": {},
     "output_type": "execute_result"
    }
   ],
   "source": [
    "w_extreme = [0.4 , 0.1, 0.3, 0.2]\n",
    "sp.optimize.fmin_slsqp(flarray, w_extreme, eqcons=[eq_constraint])"
   ]
  }
 ],
 "metadata": {
  "kernelspec": {
   "display_name": "Python 3",
   "language": "python",
   "name": "python3"
  },
  "language_info": {
   "codemirror_mode": {
    "name": "ipython",
    "version": 3
   },
   "file_extension": ".py",
   "mimetype": "text/x-python",
   "name": "python",
   "nbconvert_exporter": "python",
   "pygments_lexer": "ipython3",
   "version": "3.7.4"
  }
 },
 "nbformat": 4,
 "nbformat_minor": 2
}
