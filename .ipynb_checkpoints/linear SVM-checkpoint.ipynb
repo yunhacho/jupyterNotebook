{
 "cells": [
  {
   "cell_type": "code",
   "execution_count": 1,
   "metadata": {},
   "outputs": [],
   "source": [
    "import numpy as np\n",
    "import matplotlib.pyplot as plt\n"
   ]
  },
  {
   "cell_type": "code",
   "execution_count": 52,
   "metadata": {},
   "outputs": [
    {
     "data": {
      "text/plain": [
       "[<matplotlib.lines.Line2D at 0x122e04a10>]"
      ]
     },
     "execution_count": 52,
     "metadata": {},
     "output_type": "execute_result"
    },
    {
     "data": {
      "image/png": "[encoded data removed]",
      "text/plain": [
       "<Figure size 432x288 with 1 Axes>"
      ]
     },
     "metadata": {
      "needs_background": "light"
     },
     "output_type": "display_data"
    }
   ],
   "source": [
    "a = -1\n",
    "b = 1\n",
    "c = 0\n",
    "# ax + by + c = 0\n",
    "\n",
    "dataset = [(11,10,0),\n",
    "          (13,15,0),\n",
    "          (12,10,0),\n",
    "          (25,20,1),\n",
    "          (8,9,0),\n",
    "          (9,10,0),\n",
    "          (20,22,1),\n",
    "          (21,36,1),\n",
    "          (19,28,1),\n",
    "          (27,23,1),\n",
    "          (20,25,1),\n",
    "          (24,22,1),\n",
    "          (33,28,1),\n",
    "          (11,8,0),\n",
    "          (11,20,0),\n",
    "          (11,20,0),]\n",
    "dataX = []\n",
    "for i in range(len(dataset)):\n",
    "    dataX.append(dataset[i][0])\n",
    "dataY = []\n",
    "for i in range(len(dataset)):\n",
    "    dataY.append(dataset[i][1])\n",
    "plt.figure()\n",
    "for i in range(len(dataset)):\n",
    "    if dataset[i][2] == 0:\n",
    "        plt.scatter(dataX[i], dataY[i], c='r')\n",
    "    else:\n",
    "        plt.scatter(dataX[i], dataY[i], c='b')\n",
    "xlin = np.linspace(0,30)\n",
    "\n",
    "plt.plot(xlin, -a/b*xlin - c/b, c='black')\n"
   ]
  },
  {
   "cell_type": "code",
   "execution_count": 44,
   "metadata": {},
   "outputs": [],
   "source": [
    "\n",
    "def distance(p : tuple, a,b,c) -> int :\n",
    "    return abs(a*p[0] + b*p[1] + c)/(a**2+b**2)**(1/2)"
   ]
  },
  {
   "cell_type": "code",
   "execution_count": 46,
   "metadata": {},
   "outputs": [],
   "source": [
    "def loss(a,b,c):\n",
    "    loss = 0\n",
    "    for i in range(len(dataset)):\n",
    "        loss += distance(dataset[i],a,b,c)\n",
    "    return loss"
   ]
  },
  {
   "cell_type": "code",
   "execution_count": 50,
   "metadata": {},
   "outputs": [],
   "source": [
    "#a optima\n",
    "def diffA():\n",
    "    lr = 0.01\n",
    "    h = 0.0000001\n",
    "    ap = a + h\n",
    "    origin = loss(a,b,c)\n",
    "    diffed = loss(ap,b,c)\n",
    "    gb = diffed - origin\n",
    "    a = a - lr * gb\n",
    "    print(a)\n",
    "\n",
    "#c optima\n"
   ]
  },
  {
   "cell_type": "code",
   "execution_count": 49,
   "metadata": {},
   "outputs": [
    {
     "name": "stdout",
     "output_type": "stream",
     "text": [
      "53.033008588991066 53.03301046282405\n",
      "-1.873832985666013e-06\n"
     ]
    }
   ],
   "source": [
    "diffA()"
   ]
  }
 ],
 "metadata": {
  "kernelspec": {
   "display_name": "Python 3",
   "language": "python",
   "name": "python3"
  },
  "language_info": {
   "codemirror_mode": {
    "name": "ipython",
    "version": 3
   },
   "file_extension": ".py",
   "mimetype": "text/x-python",
   "name": "python",
   "nbconvert_exporter": "python",
   "pygments_lexer": "ipython3",
   "version": "3.7.4"
  }
 },
 "nbformat": 4,
 "nbformat_minor": 2
}
