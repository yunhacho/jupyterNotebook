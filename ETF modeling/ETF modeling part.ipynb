{
 "cells": [
  {
   "cell_type": "code",
   "execution_count": 44,
   "metadata": {
    "scrolled": true
   },
   "outputs": [
    {
     "ename": "ValueError",
     "evalue": "('Cannot override existing symbol', 'GradientBoostingRegressor')",
     "output_type": "error",
     "traceback": [
      "\u001b[1;31m---------------------------------------------------------------------------\u001b[0m",
      "\u001b[1;31mValueError\u001b[0m                                Traceback (most recent call last)",
      "\u001b[1;32m<ipython-input-44-328485afb3ee>\u001b[0m in \u001b[0;36m<module>\u001b[1;34m\u001b[0m\n\u001b[0;32m     50\u001b[0m \u001b[1;31m####################################################################\u001b[0m\u001b[1;33m\u001b[0m\u001b[1;33m\u001b[0m\u001b[1;33m\u001b[0m\u001b[0m\n\u001b[0;32m     51\u001b[0m \u001b[1;33m\u001b[0m\u001b[0m\n\u001b[1;32m---> 52\u001b[1;33m \u001b[0mscope\u001b[0m\u001b[1;33m.\u001b[0m\u001b[0mdefine\u001b[0m\u001b[1;33m(\u001b[0m\u001b[0mGradientBoostingRegressor\u001b[0m\u001b[1;33m)\u001b[0m\u001b[1;33m\u001b[0m\u001b[1;33m\u001b[0m\u001b[0m\n\u001b[0m\u001b[0;32m     53\u001b[0m \u001b[0mscope\u001b[0m\u001b[1;33m.\u001b[0m\u001b[0mdefine\u001b[0m\u001b[1;33m(\u001b[0m\u001b[0mXGBRegressor\u001b[0m\u001b[1;33m)\u001b[0m\u001b[1;33m\u001b[0m\u001b[1;33m\u001b[0m\u001b[0m\n\u001b[0;32m     54\u001b[0m \u001b[0mscope\u001b[0m\u001b[1;33m.\u001b[0m\u001b[0mdefine\u001b[0m\u001b[1;33m(\u001b[0m\u001b[0mRidge\u001b[0m\u001b[1;33m)\u001b[0m\u001b[1;33m\u001b[0m\u001b[1;33m\u001b[0m\u001b[0m\n",
      "\u001b[1;32mC:\\ProgramData\\Anaconda3\\lib\\site-packages\\hyperopt\\pyll\\base.py\u001b[0m in \u001b[0;36mdefine\u001b[1;34m(self, f, o_len, pure)\u001b[0m\n\u001b[0;32m    135\u001b[0m         \u001b[0mname\u001b[0m \u001b[1;33m=\u001b[0m \u001b[0mf\u001b[0m\u001b[1;33m.\u001b[0m\u001b[0m__name__\u001b[0m\u001b[1;33m\u001b[0m\u001b[1;33m\u001b[0m\u001b[0m\n\u001b[0;32m    136\u001b[0m         \u001b[1;32mif\u001b[0m \u001b[0mhasattr\u001b[0m\u001b[1;33m(\u001b[0m\u001b[0mself\u001b[0m\u001b[1;33m,\u001b[0m \u001b[0mname\u001b[0m\u001b[1;33m)\u001b[0m\u001b[1;33m:\u001b[0m\u001b[1;33m\u001b[0m\u001b[1;33m\u001b[0m\u001b[0m\n\u001b[1;32m--> 137\u001b[1;33m             \u001b[1;32mraise\u001b[0m \u001b[0mValueError\u001b[0m\u001b[1;33m(\u001b[0m\u001b[1;34m'Cannot override existing symbol'\u001b[0m\u001b[1;33m,\u001b[0m \u001b[0mname\u001b[0m\u001b[1;33m)\u001b[0m\u001b[1;33m\u001b[0m\u001b[1;33m\u001b[0m\u001b[0m\n\u001b[0m\u001b[0;32m    138\u001b[0m         \u001b[1;32mreturn\u001b[0m \u001b[0mself\u001b[0m\u001b[1;33m.\u001b[0m\u001b[0m_define\u001b[0m\u001b[1;33m(\u001b[0m\u001b[0mf\u001b[0m\u001b[1;33m,\u001b[0m \u001b[0mo_len\u001b[0m\u001b[1;33m,\u001b[0m \u001b[0mpure\u001b[0m\u001b[1;33m)\u001b[0m\u001b[1;33m\u001b[0m\u001b[1;33m\u001b[0m\u001b[0m\n\u001b[0;32m    139\u001b[0m \u001b[1;33m\u001b[0m\u001b[0m\n",
      "\u001b[1;31mValueError\u001b[0m: ('Cannot override existing symbol', 'GradientBoostingRegressor')"
     ]
    }
   ],
   "source": [
    "import pandas as pd\n",
    "import numpy as np\n",
    "%matplotlib inline\n",
    "import matplotlib.pyplot as plt\n",
    "import os\n",
    "\n",
    "os.getcwd()\n",
    "\n",
    "os.chdir('C:\\\\Users\\\\admin\\\\Desktop\\\\Dart\\\\Project\\\\ETF modeling')\n",
    "\n",
    "from pandas import Timestamp\n",
    "\n",
    "from sklearn.ensemble import GradientBoostingRegressor\n",
    "from sklearn.metrics import *\n",
    "from sklearn.model_selection import *\n",
    "from sklearn.preprocessing import MinMaxScaler, RobustScaler, power_transform, PowerTransformer\n",
    "from sklearn.base import is_classifier\n",
    "from sklearn.utils import indexable, Parallel, delayed\n",
    "\n",
    "from sklearn.linear_model import Ridge, Lasso, ElasticNet\n",
    "from sklearn.neural_network import MLPRegressor\n",
    "\n",
    "\n",
    "from scipy.special import boxcox1p\n",
    "from scipy.stats import boxcox_normmax, skew, norm, boxcox_normplot, boxcox\n",
    "\n",
    "from hyperopt import hp, fmin, tpe, Trials\n",
    "from hyperopt.pyll import scope\n",
    "from hyperopt.pyll_utils import hp_quniform\n",
    "\n",
    "import seaborn as sns\n",
    "from pylab import plot, show\n",
    "\n",
    "import inspect\n",
    "import hyperopt.pyll\n",
    "\n",
    "from hyperopt import pyll_utils\n",
    "import xgboost as xgb\n",
    "from xgboost import *\n",
    "\n",
    "import scipy.sparse as sp\n",
    "import numbers\n",
    "from collections.abc import Iterable\n",
    "\n",
    "from math import log\n",
    "\n",
    "\n",
    "####################################################################\n",
    "####################################################################\n",
    "####################################################################\n",
    "\n",
    "scope.define(GradientBoostingRegressor)\n",
    "scope.define(XGBRegressor)\n",
    "scope.define(Ridge)\n",
    "scope.define(Lasso)\n",
    "scope.define(ElasticNet)\n",
    "scope.define(MLPRegressor)\n",
    "\n",
    "####################################################################\n",
    "####################################################################\n",
    "####################################################################\n",
    "\n",
    "def slidingwindow(dataname, Yname, len_train, len_test):\n",
    "    \n",
    "    if Yname == None:\n",
    "        data_x = dataname\n",
    "    else:\n",
    "        data_x = dataname.drop(Yname, axis = 1)  \n",
    "    x_train = []\n",
    "    x_test = []\n",
    "    y_train = []\n",
    "    y_test = []\n",
    "    for i in range(0, (len(dataname) - len_train - len_test), len_test):\n",
    "        x_train.append(data_x[i : (i + len_train)])\n",
    "        x_test.append(data_x[(len_train + i) : (len_train + len_test + i)])\n",
    "        \n",
    "    \n",
    "    if not Yname == None:\n",
    "        data_y = dataname[Yname]\n",
    "        for i in range(0, (len(dataname) - len_train - len_test), len_test):\n",
    "            y_train.append(data_y[i : (i + len_train)])\n",
    "            y_test.append(data_y[(len_train + i) : (len_train + len_test + i)])\n",
    "            \n",
    "    return x_train, y_train, x_test, y_test\n",
    "\n",
    "def singlenorm(data):\n",
    "    normed = ((data - data.min(axis=0))/(data.max(axis=0) - data.min(axis=0)))\n",
    "    return normed\n",
    "\n",
    "def multinorm(data):\n",
    "    data_norm = data[:]\n",
    "    for j in data_norm.columns:\n",
    "        data_norm[j] = ((data_norm[j] - data_norm[j].min(axis=0))/(data_norm[j].max(axis=0) - data_norm[j].min(axis=0)))\n",
    "    return data_norm\n",
    "\n",
    "def uniint(label, *args, **kwargs):\n",
    "    args += (1,)\n",
    "    return scope.int(hp_quniform(label, *args, **kwargs))\n",
    "\n",
    "def logs(res, ls):\n",
    "    m = res.shape[1]\n",
    "    for l in ls:\n",
    "        res = res.assign(newcol=pd.Series(np.log(1.01+res[l])).values)   \n",
    "        res.columns.values[m] = l + '_log'\n",
    "        m += 1\n",
    "    return res\n",
    "\n",
    "def squares(res, ls):\n",
    "    m = res.shape[1]\n",
    "    for l in ls:\n",
    "        res = res.assign(newcol=pd.Series(res[l]*res[l]).values)   \n",
    "        res.columns.values[m] = l + '_sq'\n",
    "        m += 1\n",
    "    return res \n",
    "\n",
    "def makedataset(dataname, Yname, len_train, len_test):\n",
    "    x_train, y_train, x_test, y_test = slidingwindow(dataname, Yname, len_train, len_test)\n",
    "    \n",
    "    y_train_norm = []\n",
    "    y_test_norm = []\n",
    "    x_train_norm = []\n",
    "    x_test_norm = []\n",
    "\n",
    "    for i in range(0, len(x_train)):\n",
    "        y_train_norm.append(singlenorm(y_train[i]))\n",
    "        y_test_norm.append(singlenorm(y_test[i]))\n",
    "        x_train_norm.append(multinorm(x_train[i]))\n",
    "        x_test_norm.append(multinorm(x_test[i]))\n",
    "\n",
    "    #for i in range(0, len(x_train)):\n",
    "     #   x_train_norm[i] = logs(x_train_norm[i], x_train_norm[i].columns)\n",
    "     #   x_test_norm[i] = logs(x_test_norm[i], x_test_norm[i].columns)\n",
    "\n",
    "    return x_train_norm, y_train_norm, x_test_norm, y_test_norm\n",
    "\n",
    "\n",
    "def paramtuning(x_train_norm, y_train_norm, search_space_regression, start, end, seq):\n",
    "    result = []\n",
    "    for j in range(start, end, seq):\n",
    "        x_train = x_train_norm[j].fillna(0)\n",
    "        y_train = y_train_norm[j].fillna(0)\n",
    "        x_test = x_test_norm[j].fillna(0)\n",
    "        y_test = y_test_norm[j].fillna(0)\n",
    "        def objective_function_regression(estimator):\n",
    "            estimator.fit(x_train, y_train)\n",
    "            yhat1 = estimator.predict(x_train)\n",
    "            error1 = mean_absolute_error(y_train, yhat1)\n",
    "            yhat2 = estimator.predict(x_test)\n",
    "            error2 = mean_absolute_error(y_test, yhat2)\n",
    "            em1 = np.mean(error1)\n",
    "            em2 = np.mean(error2)\n",
    "\n",
    "            return (em1 + em2)\n",
    "\n",
    "        best = fmin(\n",
    "            fn = objective_function_regression,\n",
    "            space = search_space_regression,\n",
    "            algo = tpe.suggest,\n",
    "            max_evals = 100,\n",
    "            verbose = 2\n",
    "            )\n",
    "        print(best)\n",
    "        result.append(best)\n",
    "\n",
    "    return result\n",
    "\n",
    "\n",
    "def paramtuning2(x_train_norm, y_train_norm, x_test_norm, y_test_norm, search_space_regression, start, end, seq):\n",
    "    result = []\n",
    "    \n",
    "        \n",
    "    def objective_function_regression(estimator):\n",
    "        error = []\n",
    "        for j in range(start, end, seq):\n",
    "            x_train = x_train_norm[j]\n",
    "            y_train = y_train_norm[j]\n",
    "            x_test = x_test_norm[j]\n",
    "            y_test = y_test_norm[j]\n",
    "\n",
    "            estimator.fit(x_train, y_train)\n",
    "            yhat = estimator.predict(x_test)\n",
    "            error.append(mean_absolute_error(y_test, yhat))\n",
    "\n",
    "        return np.mean(error)\n",
    "\n",
    "    best = fmin(\n",
    "        fn = objective_function_regression,\n",
    "        space = search_space_regression,\n",
    "        algo = tpe.suggest,\n",
    "        max_evals = 100,\n",
    "        verbose = 2\n",
    "        )\n",
    "    print(best)\n",
    "    result.append(best)\n",
    "\n",
    "    return result\n",
    "\n",
    "def paramtuning3(x_train_norm, y_train_norm, x_test_norm, y_test_norm, search_space_regression, start, end, seq):\n",
    "    result = []\n",
    "    for j in range(start, end, seq):\n",
    "        def objective_function_regression(estimator):\n",
    "            error = cross_val_score(estimator, x_train_norm[j], y_train_norm[j], cv = TimeSeriesSplit(n_splits = 5), n_jobs = -1, scoring = make_scorer(mean_absolute_error))\n",
    "            return np.mean(error)\n",
    "\n",
    "        best = fmin(\n",
    "            fn = objective_function_regression,\n",
    "            space = search_space_regression,\n",
    "            algo = tpe.suggest,\n",
    "            max_evals = 100,\n",
    "            verbose = 2\n",
    "            )\n",
    "        print(best)\n",
    "        result.append(best)\n",
    "\n",
    "    return result\n",
    "\n",
    "\n",
    "def termtuning(x_train_norm, y_train_norm, search_space_regression, start, end, seq):\n",
    "    result = []\n",
    "    for j in range(start, end, seq):\n",
    "        x_train = x_train_norm[j].fillna(method='ffill')\n",
    "        y_train = y_train_norm[j].fillna(method='ffill')\n",
    "        \n",
    "        def objective_function_regression(estimator):\n",
    "            error = cross_val_score(estimator, x_train_norm[j], y_train_norm[j], cv = TimeSeriesSplit(n_splits = 5), n_jobs = -1, scoring = make_scorer(mean_absolute_error))\n",
    "            return np.mean(error)\n",
    "\n",
    "        best = fmin(\n",
    "            fn = objective_function_regression,\n",
    "            space = search_space_regression,\n",
    "            algo = tpe.suggest,\n",
    "            max_evals = 10,\n",
    "            verbose = 2\n",
    "            )\n",
    "        print(best)\n",
    "        result.append(best)\n",
    "\n",
    "    return result\n",
    "\n",
    "def plotresult(yhat, result, i):\n",
    "    plt.scatter(yhat, y_test_norm[i])\n",
    "    plt.ylabel('Expected')\n",
    "    plt.xlabel('Predicted')\n",
    "    plt.plot([0, 1], [0, 1])\n",
    "    plt.show()\n",
    "\n",
    "    plt.plot(((yhat * (y_test[i].max(axis=0) - y_test[i].min(axis=0))) + y_test[i].min(axis=0)), label = 'Predict')\n",
    "    plt.plot(y_test[i], label = 'Expected')\n",
    "    plt.legend(loc=3)\n",
    "    plt.show()\n",
    "    \n",
    "    Regressor = GradientBoostingRegressor(loss = losslist[gbrresult[i]['loss']],\n",
    "                                              learning_rate = gbrresult[i]['learning_rate'],\n",
    "                                             max_depth = int(gbrresult[i]['max_depth']),\n",
    "                                             max_features = int(gbrresult[i]['max_features']),\n",
    "                                             min_samples_leaf = int(gbrresult[i]['min_samples_leaf']),\n",
    "                                             n_estimators = int(gbrresult[i]['n_estimators']))\n",
    "\n",
    "    Regressor.fit(x_train_norm[i], y_train_norm[i])\n",
    "    gbr_yhat = Regressor.predict(x_test_norm[i])\n",
    "    feature_importance = Regressor.feature_importances_\n",
    "    # make importances relative to max importance\n",
    "    feature_importance = 100.0 * (feature_importance / feature_importance.max())\n",
    "    sorted_idx = np.argsort(feature_importance[0:20])\n",
    "    pos = np.arange(sorted_idx.shape[0]) + .5\n",
    "    plt.subplot(1, 2, 2)\n",
    "    plt.barh(pos, feature_importance[sorted_idx], align='center')\n",
    "    plt.yticks(pos, x_train_norm[i].columns[sorted_idx])\n",
    "    plt.xlabel('Relative Importance')\n",
    "    plt.title('Variable Importance')\n",
    "    plt.show()\n",
    "    ;\n",
    "\n",
    "    \n",
    "def returncal(dataname, ret_len):\n",
    "    data_y = dataname\n",
    "    data_y1 = data_y[ret_len:]\n",
    "    data_y2 = data_y[:-ret_len]\n",
    "    data_y1.index = range(0, len(data_y1))\n",
    "    data_y2.index = range(0, len(data_y2))\n",
    "    y_return = ((data_y2-data_y1)/data_y1)*100\n",
    "    y_return.index = data_y.index[ret_len:]\n",
    "    \n",
    "    \n",
    "    y_return.columns = y_return.columns + '_' + str(ret_len)\n",
    "    \n",
    "    return y_return\n",
    "\n",
    "def makereturn(dataname, Yname, ret_len):\n",
    "    data_y = dataname[Yname]\n",
    "    data_x = dataname.drop(Yname, axis = 1) \n",
    "    \n",
    "    #y 변환\n",
    "    data_y1 = data_y[ret_len:]\n",
    "    data_y2 = data_y[:-ret_len]\n",
    "    data_y1.index = range(0, len(data_y1))\n",
    "    data_y2.index = range(0, len(data_y2))\n",
    "    y_return = ((data_y2-data_y1)/data_y1)*100\n",
    "    y_return.index = data_y.index[:-ret_len]\n",
    "    \n",
    "    #x 변환\n",
    "    for i in [1, 5, 60, 150]:\n",
    "        y_return = pd.merge(y_return, returncal(data_x, i), how = 'inner', left_index = True, right_index = True)\n",
    "    \n",
    "    return y_return\n",
    "\n",
    "\n",
    "def makemean(dataname, Yname, length):\n",
    "    data_y = dataname[Yname]\n",
    "    data_x = dataname.drop(Yname, axis = 1)\n",
    "    data_mean = data_x[:]\n",
    "    for i in [5, 15, 60, 150]:\n",
    "        data_m = data_x.rolling(window=i).mean().dropna()\n",
    "        data_md = data_m/data_x\n",
    "        data_m.columns = data_m.columns + '_' + str(i)\n",
    "        data_md.columns = data_md.columns + '_div' + str(i)\n",
    "        data_mean = pd.merge(data_mean, data_m, how = 'inner', left_index = True, right_index = True)\n",
    "        data_mean = pd.merge(data_mean, data_md, how = 'inner', left_index = True, right_index = True)\n",
    "    \n",
    "    data_y_cut = data_y[length:]\n",
    "    data_y_cut.index = data_y.index[:-length]\n",
    "    \n",
    "    data_fin = pd.merge(data_mean, data_y_cut, how = 'inner', left_index = True, right_index = True)\n",
    "    \n",
    "    return data_fin\n",
    "\n",
    "def datalabeling(data, labelname, start, end, seq):\n",
    "    dataname = data[:]\n",
    "    label = labelname + '_labeled'\n",
    "    dataname[label] = ''\n",
    "    for i in range(start, (end+1), seq):\n",
    "        if i==start:\n",
    "            dataname[label][dataname[labelname] <= i] = 'under ' + str(i)\n",
    "            dataname[label][dataname.index.isin(dataname[label][dataname[labelname] > i][dataname[labelname] <= (i+seq)].index)]= str(i)\n",
    "        elif i==end:\n",
    "            dataname[label][dataname[labelname] > i] = 'over ' + str(i)\n",
    "        else:\n",
    "            dataname[label][dataname.index.isin(dataname[label][dataname[labelname] > i][dataname[labelname] <= (i+seq)].index)]= str(i)\n",
    "    \n",
    "    return dataname[label]\n",
    "\n",
    "def skewfix(data):\n",
    "    datareturn = data[:]\n",
    "    skewed = []\n",
    "    for i in datareturn.columns:\n",
    "        if (boxcox(datareturn[i], alpha = 0.05)[2][0] > 1) or (boxcox(datareturn[i], alpha = 0.05)[2][1] < 1):\n",
    "            skewed.append(i)\n",
    "    \n",
    "    for i in skewed:\n",
    "        datareturn[i] = boxcox1p(datareturn[i], boxcox(datareturn[i])[1])\n",
    "\n",
    "    return datareturn\n",
    "\n",
    "\n",
    "\n",
    "####################################################################\n",
    "####################################################################\n",
    "####################################################################\n",
    "\n",
    "feature = pd.DataFrame(pd.read_csv('EM data.csv'))\n",
    "sp500 = pd.DataFrame(pd.read_csv('SP500.csv'))\n",
    "EAFE = pd.DataFrame(pd.read_csv('EAFE.csv'))\n",
    "EM = pd.DataFrame(pd.read_csv('EM.csv'))\n",
    "gold = pd.DataFrame(pd.read_csv('gold.csv'))\n",
    "wti = pd.DataFrame(pd.read_csv('wti.csv'))\n",
    "\n",
    "\n",
    "dataset = pd.merge(feature, sp500, how = 'inner', left_on = 'Date', right_on = 'Date')\n",
    "dataset = pd.merge(dataset, EM, how = 'inner', left_on = 'Date', right_on = 'Date')\n",
    "dataset = pd.merge(dataset, EAFE, how = 'inner', left_on = 'Date', right_on = 'Date')\n",
    "dataset = pd.merge(dataset, gold, how = 'inner', left_on = 'Date', right_on = 'Date')\n",
    "dataset = pd.merge(dataset, wti, how = 'inner', left_on = 'Date', right_on = 'Date')\n",
    "\n",
    "\n",
    "dataset = dataset.set_index('Date')\n",
    "dataset = dataset.fillna(method='ffill')\n",
    "dataset = dataset.fillna(method='bfill')\n",
    "\n",
    "labeldata = pd.DataFrame(pd.read_csv('labeldata.csv')).set_index('Date').fillna(method='ffill').fillna(method='bfill')\n",
    "\n",
    "t3month = datalabeling(labeldata, 't3month', 1, 5, 1)\n",
    "t1yr = datalabeling(labeldata, 'T1yr', 1, 5, 1)\n",
    "t3yr = datalabeling(labeldata, 'T3yr', 1, 5, 1)\n",
    "t10yr = datalabeling(labeldata, 'T10yr', 1, 5, 1)\n",
    "phil = datalabeling(labeldata, 'phil', -30, 30, 10)\n",
    "unem = datalabeling(labeldata, 'unnemploy', 3, 8, 1)\n",
    "infla = datalabeling(labeldata, 'inflation rate', -5, 5, 1)\n",
    "\n",
    "datalabel = pd.concat([t3month, t1yr, t3yr, t10yr, phil, unem, infla], axis = 1)\n",
    "\n",
    "\n",
    "datalabel = datalabel[datalabel.index.isin(datareturn.index)]\n",
    "\n",
    "\n",
    "####################################################################\n",
    "####################################################################\n",
    "####################################################################\n"
   ]
  },
  {
   "cell_type": "code",
   "execution_count": 17,
   "metadata": {},
   "outputs": [
    {
     "data": {
      "text/html": [
       "<div>\n",
       "<style scoped>\n",
       "    .dataframe tbody tr th:only-of-type {\n",
       "        vertical-align: middle;\n",
       "    }\n",
       "\n",
       "    .dataframe tbody tr th {\n",
       "        vertical-align: top;\n",
       "    }\n",
       "\n",
       "    .dataframe thead th {\n",
       "        text-align: right;\n",
       "    }\n",
       "</style>\n",
       "<table border=\"1\" class=\"dataframe\">\n",
       "  <thead>\n",
       "    <tr style=\"text-align: right;\">\n",
       "      <th></th>\n",
       "      <th>Unnamed: 0</th>\n",
       "      <th>estimator</th>\n",
       "      <th>learning_rate</th>\n",
       "      <th>loss</th>\n",
       "      <th>max_depth</th>\n",
       "      <th>max_features</th>\n",
       "      <th>min_samples_leaf</th>\n",
       "      <th>n_estimators</th>\n",
       "    </tr>\n",
       "  </thead>\n",
       "  <tbody>\n",
       "    <tr>\n",
       "      <td>0</td>\n",
       "      <td>0</td>\n",
       "      <td>0</td>\n",
       "      <td>0.114857</td>\n",
       "      <td>0</td>\n",
       "      <td>3.0</td>\n",
       "      <td>187.0</td>\n",
       "      <td>9.0</td>\n",
       "      <td>409.0</td>\n",
       "    </tr>\n",
       "    <tr>\n",
       "      <td>1</td>\n",
       "      <td>1</td>\n",
       "      <td>0</td>\n",
       "      <td>0.157820</td>\n",
       "      <td>1</td>\n",
       "      <td>5.0</td>\n",
       "      <td>208.0</td>\n",
       "      <td>22.0</td>\n",
       "      <td>851.0</td>\n",
       "    </tr>\n",
       "    <tr>\n",
       "      <td>2</td>\n",
       "      <td>2</td>\n",
       "      <td>0</td>\n",
       "      <td>0.090024</td>\n",
       "      <td>0</td>\n",
       "      <td>5.0</td>\n",
       "      <td>205.0</td>\n",
       "      <td>22.0</td>\n",
       "      <td>950.0</td>\n",
       "    </tr>\n",
       "    <tr>\n",
       "      <td>3</td>\n",
       "      <td>3</td>\n",
       "      <td>0</td>\n",
       "      <td>0.155014</td>\n",
       "      <td>0</td>\n",
       "      <td>9.0</td>\n",
       "      <td>167.0</td>\n",
       "      <td>59.0</td>\n",
       "      <td>701.0</td>\n",
       "    </tr>\n",
       "    <tr>\n",
       "      <td>4</td>\n",
       "      <td>4</td>\n",
       "      <td>0</td>\n",
       "      <td>0.156223</td>\n",
       "      <td>1</td>\n",
       "      <td>4.0</td>\n",
       "      <td>201.0</td>\n",
       "      <td>54.0</td>\n",
       "      <td>314.0</td>\n",
       "    </tr>\n",
       "    <tr>\n",
       "      <td>...</td>\n",
       "      <td>...</td>\n",
       "      <td>...</td>\n",
       "      <td>...</td>\n",
       "      <td>...</td>\n",
       "      <td>...</td>\n",
       "      <td>...</td>\n",
       "      <td>...</td>\n",
       "      <td>...</td>\n",
       "    </tr>\n",
       "    <tr>\n",
       "      <td>326</td>\n",
       "      <td>326</td>\n",
       "      <td>0</td>\n",
       "      <td>0.102934</td>\n",
       "      <td>0</td>\n",
       "      <td>5.0</td>\n",
       "      <td>210.0</td>\n",
       "      <td>27.0</td>\n",
       "      <td>502.0</td>\n",
       "    </tr>\n",
       "    <tr>\n",
       "      <td>327</td>\n",
       "      <td>327</td>\n",
       "      <td>0</td>\n",
       "      <td>0.114118</td>\n",
       "      <td>0</td>\n",
       "      <td>9.0</td>\n",
       "      <td>186.0</td>\n",
       "      <td>6.0</td>\n",
       "      <td>272.0</td>\n",
       "    </tr>\n",
       "    <tr>\n",
       "      <td>328</td>\n",
       "      <td>328</td>\n",
       "      <td>0</td>\n",
       "      <td>0.077669</td>\n",
       "      <td>0</td>\n",
       "      <td>7.0</td>\n",
       "      <td>184.0</td>\n",
       "      <td>5.0</td>\n",
       "      <td>755.0</td>\n",
       "    </tr>\n",
       "    <tr>\n",
       "      <td>329</td>\n",
       "      <td>329</td>\n",
       "      <td>0</td>\n",
       "      <td>0.165522</td>\n",
       "      <td>0</td>\n",
       "      <td>6.0</td>\n",
       "      <td>191.0</td>\n",
       "      <td>8.0</td>\n",
       "      <td>319.0</td>\n",
       "    </tr>\n",
       "    <tr>\n",
       "      <td>330</td>\n",
       "      <td>330</td>\n",
       "      <td>0</td>\n",
       "      <td>0.056164</td>\n",
       "      <td>0</td>\n",
       "      <td>9.0</td>\n",
       "      <td>183.0</td>\n",
       "      <td>35.0</td>\n",
       "      <td>840.0</td>\n",
       "    </tr>\n",
       "  </tbody>\n",
       "</table>\n",
       "<p>331 rows × 8 columns</p>\n",
       "</div>"
      ],
      "text/plain": [
       "     Unnamed: 0  estimator  learning_rate  loss  max_depth  max_features  \\\n",
       "0             0          0       0.114857     0        3.0         187.0   \n",
       "1             1          0       0.157820     1        5.0         208.0   \n",
       "2             2          0       0.090024     0        5.0         205.0   \n",
       "3             3          0       0.155014     0        9.0         167.0   \n",
       "4             4          0       0.156223     1        4.0         201.0   \n",
       "..          ...        ...            ...   ...        ...           ...   \n",
       "326         326          0       0.102934     0        5.0         210.0   \n",
       "327         327          0       0.114118     0        9.0         186.0   \n",
       "328         328          0       0.077669     0        7.0         184.0   \n",
       "329         329          0       0.165522     0        6.0         191.0   \n",
       "330         330          0       0.056164     0        9.0         183.0   \n",
       "\n",
       "     min_samples_leaf  n_estimators  \n",
       "0                 9.0         409.0  \n",
       "1                22.0         851.0  \n",
       "2                22.0         950.0  \n",
       "3                59.0         701.0  \n",
       "4                54.0         314.0  \n",
       "..                ...           ...  \n",
       "326              27.0         502.0  \n",
       "327               6.0         272.0  \n",
       "328               5.0         755.0  \n",
       "329               8.0         319.0  \n",
       "330              35.0         840.0  \n",
       "\n",
       "[331 rows x 8 columns]"
      ]
     },
     "execution_count": 17,
     "metadata": {},
     "output_type": "execute_result"
    }
   ],
   "source": [
    "gbrresult"
   ]
  },
  {
   "cell_type": "code",
   "execution_count": 53,
   "metadata": {
    "scrolled": true
   },
   "outputs": [
    {
     "name": "stdout",
     "output_type": "stream",
     "text": [
      "100%|████████████████████████████████████████████████| 100/100 [00:00<00:00, 128.55it/s, best loss: 0.4336256612017879]\n",
      "{'alpha': 0.5464583079037619, 'estimator': 0}\n",
      "100%|████████████████████████████████████████████████| 100/100 [00:00<00:00, 119.37it/s, best loss: 0.5865820322270013]\n",
      "{'alpha': 0.8996434940131871, 'estimator': 0}\n",
      "100%|████████████████████████████████████████████████| 100/100 [00:00<00:00, 154.50it/s, best loss: 0.6608694407520649]\n",
      "{'alpha': 0.8992355504772024, 'estimator': 0}\n",
      "100%|████████████████████████████████████████████████| 100/100 [00:00<00:00, 142.63it/s, best loss: 0.5939697735220323]\n",
      "{'alpha': 0.10008608781808807, 'estimator': 0}\n",
      "100%|███████████████████████████████████████████████| 100/100 [00:00<00:00, 138.30it/s, best loss: 0.46622394188162397]\n",
      "{'alpha': 0.10026354541027024, 'estimator': 0}\n",
      "100%|███████████████████████████████████████████████| 100/100 [00:00<00:00, 145.32it/s, best loss: 0.39364176458563377]\n",
      "{'alpha': 0.8997062342770951, 'estimator': 0}\n",
      "100%|████████████████████████████████████████████████| 100/100 [00:00<00:00, 170.80it/s, best loss: 0.5110330040480672]\n",
      "{'alpha': 0.8998760377205615, 'estimator': 0}\n",
      "100%|████████████████████████████████████████████████| 100/100 [00:00<00:00, 163.84it/s, best loss: 0.3804218685711785]\n",
      "{'alpha': 0.8999951911667617, 'estimator': 0}\n",
      "100%|███████████████████████████████████████████████| 100/100 [00:00<00:00, 159.66it/s, best loss: 0.43568284384304656]\n",
      "{'alpha': 0.8999155696985685, 'estimator': 0}\n",
      "100%|███████████████████████████████████████████████| 100/100 [00:00<00:00, 164.37it/s, best loss: 0.20085806305001622]\n",
      "{'alpha': 0.1352388338672038, 'estimator': 0}\n",
      "100%|████████████████████████████████████████████████| 100/100 [00:00<00:00, 158.65it/s, best loss: 0.5327298794685872]\n",
      "{'alpha': 0.8997035889520318, 'estimator': 0}\n",
      "100%|████████████████████████████████████████████████| 100/100 [00:00<00:00, 154.97it/s, best loss: 0.5091329814482218]\n",
      "{'alpha': 0.8998014555921322, 'estimator': 0}\n",
      "100%|████████████████████████████████████████████████| 100/100 [00:00<00:00, 166.83it/s, best loss: 0.2512695000357558]\n",
      "{'alpha': 0.4498020554875025, 'estimator': 0}\n",
      "100%|███████████████████████████████████████████████| 100/100 [00:00<00:00, 163.30it/s, best loss: 0.33760102284138366]\n",
      "{'alpha': 0.8996969922769676, 'estimator': 0}\n",
      "100%|████████████████████████████████████████████████| 100/100 [00:00<00:00, 128.88it/s, best loss: 0.4380404651066007]\n",
      "{'alpha': 0.8997079504142892, 'estimator': 0}\n",
      "100%|████████████████████████████████████████████████| 100/100 [00:00<00:00, 140.04it/s, best loss: 0.4495544575593485]\n",
      "{'alpha': 0.10015147062543206, 'estimator': 0}\n",
      "100%|████████████████████████████████████████████████| 100/100 [00:00<00:00, 168.52it/s, best loss: 0.4477591750101354]\n",
      "{'alpha': 0.8999995226573329, 'estimator': 0}\n",
      "100%|███████████████████████████████████████████████| 100/100 [00:00<00:00, 171.40it/s, best loss: 0.21682046136135327]\n",
      "{'alpha': 0.8990396976722904, 'estimator': 0}\n",
      "100%|███████████████████████████████████████████████| 100/100 [00:00<00:00, 167.95it/s, best loss: 0.46218135505285707]\n",
      "{'alpha': 0.8988969866814783, 'estimator': 0}\n",
      "100%|████████████████████████████████████████████████| 100/100 [00:00<00:00, 181.64it/s, best loss: 0.5119091184515906]\n",
      "{'alpha': 0.8998466558154072, 'estimator': 0}\n",
      "100%|█████████████████████████████████████████████████| 100/100 [00:00<00:00, 133.69it/s, best loss: 0.266008401820206]\n",
      "{'alpha': 0.10038121726043298, 'estimator': 0}\n",
      "100%|█████████████████████████████████████████████████| 100/100 [00:00<00:00, 137.73it/s, best loss: 0.448887928958219]\n",
      "{'alpha': 0.8999504986298837, 'estimator': 0}\n",
      "100%|████████████████████████████████████████████████| 100/100 [00:00<00:00, 153.55it/s, best loss: 0.2498875582852238]\n",
      "{'alpha': 0.10071091792654804, 'estimator': 0}\n",
      "100%|████████████████████████████████████████████████| 100/100 [00:00<00:00, 156.90it/s, best loss: 0.2623745520050497]\n",
      "{'alpha': 0.1000610770363238, 'estimator': 0}\n",
      "100%|████████████████████████████████████████████████| 100/100 [00:00<00:00, 163.84it/s, best loss: 0.2481493135691709]\n",
      "{'alpha': 0.10025550390818994, 'estimator': 0}\n",
      "100%|████████████████████████████████████████████████| 100/100 [00:00<00:00, 163.03it/s, best loss: 0.3604379955995831]\n",
      "{'alpha': 0.8993648805902271, 'estimator': 0}\n",
      "100%|███████████████████████████████████████████████| 100/100 [00:00<00:00, 164.10it/s, best loss: 0.39047753915831274]\n",
      "{'alpha': 0.16460073687976987, 'estimator': 0}\n",
      "100%|████████████████████████████████████████████████| 100/100 [00:00<00:00, 161.46it/s, best loss: 0.3244484026674447]\n",
      "{'alpha': 0.1006257078422573, 'estimator': 0}\n",
      "100%|███████████████████████████████████████████████| 100/100 [00:00<00:00, 156.41it/s, best loss: 0.23773647333051628]\n",
      "{'alpha': 0.20494879890146206, 'estimator': 0}\n",
      "100%|████████████████████████████████████████████████| 100/100 [00:00<00:00, 171.40it/s, best loss: 0.8342012257836908]\n",
      "{'alpha': 0.8998313702827276, 'estimator': 0}\n",
      "100%|███████████████████████████████████████████████| 100/100 [00:00<00:00, 179.37it/s, best loss: 0.30982886434598156]\n",
      "{'alpha': 0.10009442708858013, 'estimator': 0}\n",
      "100%|████████████████████████████████████████████████| 100/100 [00:00<00:00, 174.08it/s, best loss: 0.3577851005459576]\n",
      "{'alpha': 0.6600197678881585, 'estimator': 0}\n",
      "100%|███████████████████████████████████████████████| 100/100 [00:00<00:00, 175.29it/s, best loss: 0.17057902572945308]\n",
      "{'alpha': 0.10082352366407726, 'estimator': 0}\n",
      "100%|████████████████████████████████████████████████| 100/100 [00:00<00:00, 169.09it/s, best loss: 0.2585872139130637]\n",
      "{'alpha': 0.8998294889636265, 'estimator': 0}\n",
      "100%|█████████████████████████████████████████████████| 100/100 [00:00<00:00, 184.32it/s, best loss: 0.321314835932783]\n",
      "{'alpha': 0.2963501819804581, 'estimator': 0}\n",
      "100%|████████████████████████████████████████████████| 100/100 [00:00<00:00, 168.23it/s, best loss: 0.4428897976632846]\n",
      "{'alpha': 0.10075714819216552, 'estimator': 0}\n",
      "100%|████████████████████████████████████████████████| 100/100 [00:00<00:00, 162.77it/s, best loss: 0.5641865341927578]\n",
      "{'alpha': 0.899785879673, 'estimator': 0}\n",
      "100%|███████████████████████████████████████████████| 100/100 [00:00<00:00, 180.66it/s, best loss: 0.33753200356098056]\n",
      "{'alpha': 0.3998262742385098, 'estimator': 0}\n",
      "100%|████████████████████████████████████████████████| 100/100 [00:00<00:00, 160.43it/s, best loss: 0.6018121512979345]\n",
      "{'alpha': 0.1001990125785282, 'estimator': 0}\n",
      "100%|███████████████████████████████████████████████| 100/100 [00:00<00:00, 170.52it/s, best loss: 0.41211346803782223]\n",
      "{'alpha': 0.3510675303473956, 'estimator': 0}\n",
      "100%|████████████████████████████████████████████████| 100/100 [00:00<00:00, 177.78it/s, best loss: 0.5776424986380027]\n",
      "{'alpha': 0.8997196268272232, 'estimator': 0}\n",
      "100%|███████████████████████████████████████████████| 100/100 [00:00<00:00, 173.16it/s, best loss: 0.26277334688860826]\n",
      "{'alpha': 0.10062056095411749, 'estimator': 0}\n",
      "100%|███████████████████████████████████████████████| 100/100 [00:00<00:00, 171.69it/s, best loss: 0.18774655687995667]\n",
      "{'alpha': 0.13636254620832705, 'estimator': 0}\n",
      "100%|████████████████████████████████████████████████| 100/100 [00:00<00:00, 169.37it/s, best loss: 0.5628097848068842]\n",
      "{'alpha': 0.46093469157965644, 'estimator': 0}\n",
      "100%|███████████████████████████████████████████████| 100/100 [00:00<00:00, 180.33it/s, best loss: 0.24798525246979686]\n",
      "{'alpha': 0.1000026477520055, 'estimator': 0}\n",
      "100%|███████████████████████████████████████████████| 100/100 [00:00<00:00, 160.17it/s, best loss: 0.28718959781073694]\n",
      "{'alpha': 0.10010509083588436, 'estimator': 0}\n",
      "100%|███████████████████████████████████████████████| 100/100 [00:00<00:00, 164.91it/s, best loss: 0.19833960510705162]\n",
      "{'alpha': 0.22922272720736742, 'estimator': 0}\n",
      "100%|████████████████████████████████████████████████| 100/100 [00:00<00:00, 177.46it/s, best loss: 0.3420337075386466]\n",
      "{'alpha': 0.28663605549482357, 'estimator': 0}\n",
      "100%|████████████████████████████████████████████████| 100/100 [00:00<00:00, 170.23it/s, best loss: 0.3872431459135382]\n",
      "{'alpha': 0.5728335984049464, 'estimator': 0}\n"
     ]
    },
    {
     "name": "stdout",
     "output_type": "stream",
     "text": [
      "100%|████████████████████████████████████████████████| 100/100 [00:00<00:00, 160.94it/s, best loss: 0.5300055566357382]\n",
      "{'alpha': 0.8998664475519832, 'estimator': 0}\n",
      "100%|███████████████████████████████████████████████| 100/100 [00:00<00:00, 173.46it/s, best loss: 0.42968056493987417]\n",
      "{'alpha': 0.8985716634906858, 'estimator': 0}\n",
      "100%|████████████████████████████████████████████████| 100/100 [00:00<00:00, 173.47it/s, best loss: 0.2889337584598202]\n",
      "{'alpha': 0.5561515191130412, 'estimator': 0}\n",
      "100%|█████████████████████████████████████████████████| 100/100 [00:00<00:00, 173.76it/s, best loss: 0.527805484211112]\n",
      "{'alpha': 0.8999156538335333, 'estimator': 0}\n",
      "100%|██████████████████████████████████████████████████| 100/100 [00:00<00:00, 171.40it/s, best loss: 0.27383082548658]\n",
      "{'alpha': 0.8992113590861399, 'estimator': 0}\n",
      "100%|████████████████████████████████████████████████| 100/100 [00:00<00:00, 178.41it/s, best loss: 0.6798420698405387]\n",
      "{'alpha': 0.10025623081369547, 'estimator': 0}\n",
      "100%|████████████████████████████████████████████████| 100/100 [00:00<00:00, 177.78it/s, best loss: 0.2950867450205933]\n",
      "{'alpha': 0.10032288003323034, 'estimator': 0}\n",
      "100%|████████████████████████████████████████████████| 100/100 [00:00<00:00, 161.72it/s, best loss: 0.4177437311022345]\n",
      "{'alpha': 0.10056962662131845, 'estimator': 0}\n",
      "100%|████████████████████████████████████████████████| 100/100 [00:00<00:00, 169.09it/s, best loss: 0.6739912553531593]\n",
      "{'alpha': 0.8994913131197353, 'estimator': 0}\n",
      "100%|███████████████████████████████████████████████| 100/100 [00:00<00:00, 180.66it/s, best loss: 0.30238137842497764]\n",
      "{'alpha': 0.1576694565050643, 'estimator': 0}\n",
      "100%|███████████████████████████████████████████████| 100/100 [00:00<00:00, 176.21it/s, best loss: 0.31160785925739054]\n",
      "{'alpha': 0.10010859807733431, 'estimator': 0}\n",
      "100%|███████████████████████████████████████████████| 100/100 [00:00<00:00, 171.40it/s, best loss: 0.31008593904328136]\n",
      "{'alpha': 0.1000468524420104, 'estimator': 0}\n",
      "100%|████████████████████████████████████████████████| 100/100 [00:00<00:00, 186.02it/s, best loss: 0.5611517098825827]\n",
      "{'alpha': 0.8994868263446445, 'estimator': 0}\n",
      "100%|████████████████████████████████████████████████| 100/100 [00:00<00:00, 175.29it/s, best loss: 0.3439617859226086]\n",
      "{'alpha': 0.8996210686238093, 'estimator': 0}\n",
      "100%|████████████████████████████████████████████████| 100/100 [00:00<00:00, 177.76it/s, best loss: 0.3017094867826717]\n",
      "{'alpha': 0.2881441718715854, 'estimator': 0}\n",
      "100%|███████████████████████████████████████████████| 100/100 [00:00<00:00, 181.96it/s, best loss: 0.45125800584478587]\n",
      "{'alpha': 0.3365654163678497, 'estimator': 0}\n",
      "100%|████████████████████████████████████████████████| 100/100 [00:00<00:00, 186.03it/s, best loss: 0.2079715888507791]\n",
      "{'alpha': 0.10014404295858444, 'estimator': 0}\n",
      "100%|███████████████████████████████████████████████| 100/100 [00:00<00:00, 191.35it/s, best loss: 0.21126230992209782]\n",
      "{'alpha': 0.4679862081041132, 'estimator': 0}\n",
      "100%|████████████████████████████████████████████████| 100/100 [00:00<00:00, 180.33it/s, best loss: 0.2899206749248583]\n",
      "{'alpha': 0.5608938038057988, 'estimator': 0}\n",
      "100%|████████████████████████████████████████████████| 100/100 [00:00<00:00, 180.66it/s, best loss: 0.4116098668218474]\n",
      "{'alpha': 0.2799882487192155, 'estimator': 0}\n",
      "100%|████████████████████████████████████████████████| 100/100 [00:00<00:00, 186.36it/s, best loss: 0.5403477904401037]\n",
      "{'alpha': 0.899977463205041, 'estimator': 0}\n",
      "100%|███████████████████████████████████████████████| 100/100 [00:00<00:00, 167.11it/s, best loss: 0.46265345190442725]\n",
      "{'alpha': 0.8999975562008772, 'estimator': 0}\n",
      "100%|█████████████████████████████████████████████████| 100/100 [00:00<00:00, 163.30it/s, best loss: 0.311761304787276]\n",
      "{'alpha': 0.10085293846023541, 'estimator': 0}\n",
      "100%|████████████████████████████████████████████████| 100/100 [00:00<00:00, 166.00it/s, best loss: 0.2767686674697053]\n",
      "{'alpha': 0.10071774450579797, 'estimator': 0}\n",
      "100%|████████████████████████████████████████████████| 100/100 [00:00<00:00, 173.46it/s, best loss: 0.5758866581947709]\n",
      "{'alpha': 0.8998350418662031, 'estimator': 0}\n",
      "100%|████████████████████████████████████████████████| 100/100 [00:00<00:00, 166.56it/s, best loss: 0.5127987910899947]\n",
      "{'alpha': 0.8988992118941844, 'estimator': 0}\n",
      "100%|████████████████████████████████████████████████| 100/100 [00:00<00:00, 171.11it/s, best loss: 0.3735528382780186]\n",
      "{'alpha': 0.8997389836530041, 'estimator': 0}\n",
      "100%|████████████████████████████████████████████████| 100/100 [00:00<00:00, 163.04it/s, best loss: 0.4824850528760156]\n",
      "{'alpha': 0.8986082858952823, 'estimator': 0}\n",
      "100%|████████████████████████████████████████████████| 100/100 [00:00<00:00, 158.40it/s, best loss: 0.2146137880349561]\n",
      "{'alpha': 0.21755535025405007, 'estimator': 0}\n",
      "100%|████████████████████████████████████████████████| 100/100 [00:00<00:00, 175.89it/s, best loss: 0.5214181311070188]\n",
      "{'alpha': 0.8997813061081507, 'estimator': 0}\n",
      "100%|████████████████████████████████████████████████| 100/100 [00:00<00:00, 169.37it/s, best loss: 0.3802587247567102]\n",
      "{'alpha': 0.8994755920090552, 'estimator': 0}\n",
      "100%|████████████████████████████████████████████████| 100/100 [00:00<00:00, 176.84it/s, best loss: 0.4327916788980673]\n",
      "{'alpha': 0.8991815139364218, 'estimator': 0}\n",
      "100%|███████████████████████████████████████████████| 100/100 [00:00<00:00, 168.23it/s, best loss: 0.44533592659020316]\n",
      "{'alpha': 0.8995588017922271, 'estimator': 0}\n",
      "100%|███████████████████████████████████████████████| 100/100 [00:00<00:00, 179.05it/s, best loss: 0.31123769591194506]\n",
      "{'alpha': 0.10053378107491748, 'estimator': 0}\n",
      "100%|███████████████████████████████████████████████| 100/100 [00:00<00:00, 175.60it/s, best loss: 0.49933929306953523]\n",
      "{'alpha': 0.1000151664222658, 'estimator': 0}\n",
      "100%|████████████████████████████████████████████████| 100/100 [00:00<00:00, 179.69it/s, best loss: 0.3229777934803901]\n",
      "{'alpha': 0.21925504170999457, 'estimator': 0}\n",
      "100%|████████████████████████████████████████████████| 100/100 [00:00<00:00, 159.41it/s, best loss: 0.4043408796809994]\n",
      "{'alpha': 0.47248356792667073, 'estimator': 0}\n",
      "100%|█████████████████████████████████████████████████| 100/100 [00:00<00:00, 181.64it/s, best loss: 0.316570302812889]\n",
      "{'alpha': 0.8996129389891317, 'estimator': 0}\n",
      "100%|███████████████████████████████████████████████| 100/100 [00:00<00:00, 177.46it/s, best loss: 0.30978636000240023]\n",
      "{'alpha': 0.8552909051236044, 'estimator': 0}\n",
      "100%|████████████████████████████████████████████████| 100/100 [00:00<00:00, 164.37it/s, best loss: 0.6623540317767672]\n",
      "{'alpha': 0.8999795888814434, 'estimator': 0}\n",
      "100%|████████████████████████████████████████████████| 100/100 [00:00<00:00, 164.10it/s, best loss: 0.5359562544743608]\n",
      "{'alpha': 0.8994507938549597, 'estimator': 0}\n",
      "100%|███████████████████████████████████████████████| 100/100 [00:00<00:00, 158.65it/s, best loss: 0.49930435114922417]\n",
      "{'alpha': 0.10028632880099413, 'estimator': 0}\n",
      "100%|████████████████████████████████████████████████| 100/100 [00:00<00:00, 171.09it/s, best loss: 0.5231178752482647]\n",
      "{'alpha': 0.8995923717222857, 'estimator': 0}\n",
      "100%|███████████████████████████████████████████████| 100/100 [00:00<00:00, 172.28it/s, best loss: 0.35162980011025563]\n",
      "{'alpha': 0.21283227372219873, 'estimator': 0}\n",
      "100%|███████████████████████████████████████████████| 100/100 [00:00<00:00, 173.17it/s, best loss: 0.31987404007555664]\n",
      "{'alpha': 0.1753927388778719, 'estimator': 0}\n",
      "100%|████████████████████████████████████████████████| 100/100 [00:00<00:00, 167.11it/s, best loss: 0.5627337659960916]\n",
      "{'alpha': 0.8996895216628404, 'estimator': 0}\n",
      "100%|████████████████████████████████████████████████| 100/100 [00:00<00:00, 173.17it/s, best loss: 0.6656631244170281]\n",
      "{'alpha': 0.8995517734067309, 'estimator': 0}\n",
      "100%|████████████████████████████████████████████████| 100/100 [00:00<00:00, 171.99it/s, best loss: 0.5020791867599029]\n",
      "{'alpha': 0.8997756680415258, 'estimator': 0}\n",
      "100%|████████████████████████████████████████████████| 100/100 [00:00<00:00, 185.68it/s, best loss: 0.5001391123405373]\n",
      "{'alpha': 0.10021430000350814, 'estimator': 0}\n"
     ]
    },
    {
     "name": "stdout",
     "output_type": "stream",
     "text": [
      "100%|███████████████████████████████████████████████| 100/100 [00:00<00:00, 183.96it/s, best loss: 0.35920161105990606]\n",
      "{'alpha': 0.10015935996687783, 'estimator': 0}\n",
      "100%|███████████████████████████████████████████████| 100/100 [00:00<00:00, 175.91it/s, best loss: 0.42389744581322875]\n",
      "{'alpha': 0.8999706270005786, 'estimator': 0}\n",
      "100%|████████████████████████████████████████████████| 100/100 [00:00<00:00, 187.77it/s, best loss: 0.3519739351174851]\n",
      "{'alpha': 0.3267360597719467, 'estimator': 0}\n",
      "100%|████████████████████████████████████████████████| 100/100 [00:00<00:00, 174.07it/s, best loss: 0.3717191408168617]\n",
      "{'alpha': 0.10085636332633406, 'estimator': 0}\n",
      "100%|█████████████████████████████████████████████████| 100/100 [00:00<00:00, 174.99it/s, best loss: 0.584588967586273]\n",
      "{'alpha': 0.8995713035758612, 'estimator': 0}\n",
      "100%|████████████████████████████████████████████████| 100/100 [00:00<00:00, 176.84it/s, best loss: 0.2813745343985576]\n",
      "{'alpha': 0.899829978896688, 'estimator': 0}\n",
      "100%|███████████████████████████████████████████████| 100/100 [00:00<00:00, 176.83it/s, best loss: 0.42298325304206147]\n",
      "{'alpha': 0.5960066521627232, 'estimator': 0}\n",
      "100%|████████████████████████████████████████████████| 100/100 [00:00<00:00, 187.77it/s, best loss: 0.3922117750316213]\n",
      "{'alpha': 0.530561729334746, 'estimator': 0}\n",
      "100%|████████████████████████████████████████████████| 100/100 [00:00<00:00, 151.46it/s, best loss: 0.2571495701781545]\n",
      "{'alpha': 0.10028442968190704, 'estimator': 0}\n",
      "100%|████████████████████████████████████████████████| 100/100 [00:00<00:00, 160.94it/s, best loss: 0.6672462213806772]\n",
      "{'alpha': 0.10024191715417559, 'estimator': 0}\n",
      "100%|████████████████████████████████████████████████| 100/100 [00:00<00:00, 178.41it/s, best loss: 0.2061497035715003]\n",
      "{'alpha': 0.10036327314779557, 'estimator': 0}\n",
      "100%|███████████████████████████████████████████████| 100/100 [00:00<00:00, 172.86it/s, best loss: 0.23594575991308242]\n",
      "{'alpha': 0.8999501823475395, 'estimator': 0}\n",
      "100%|████████████████████████████████████████████████| 100/100 [00:00<00:00, 173.76it/s, best loss: 0.3457155262684126]\n",
      "{'alpha': 0.10088206007081618, 'estimator': 0}\n",
      "100%|████████████████████████████████████████████████| 100/100 [00:00<00:00, 170.23it/s, best loss: 0.2748123483362726]\n",
      "{'alpha': 0.29631690649268133, 'estimator': 0}\n",
      "100%|████████████████████████████████████████████████| 100/100 [00:00<00:00, 182.30it/s, best loss: 0.2402582156245355]\n",
      "{'alpha': 0.28031282255543005, 'estimator': 0}\n",
      "100%|███████████████████████████████████████████████| 100/100 [00:00<00:00, 173.17it/s, best loss: 0.42960358510019864]\n",
      "{'alpha': 0.32621617273446396, 'estimator': 0}\n",
      "100%|████████████████████████████████████████████████| 100/100 [00:00<00:00, 171.40it/s, best loss: 0.5445926264487545]\n",
      "{'alpha': 0.8996903969835354, 'estimator': 0}\n",
      "100%|████████████████████████████████████████████████| 100/100 [00:00<00:00, 193.19it/s, best loss: 0.2845313319819648]\n",
      "{'alpha': 0.13220682785779572, 'estimator': 0}\n",
      "100%|████████████████████████████████████████████████| 100/100 [00:00<00:00, 186.03it/s, best loss: 0.5975184385074969]\n",
      "{'alpha': 0.8995258467218095, 'estimator': 0}\n",
      "100%|████████████████████████████████████████████████| 100/100 [00:00<00:00, 174.68it/s, best loss: 0.3672975516739518]\n",
      "{'alpha': 0.10062136837658171, 'estimator': 0}\n",
      "100%|████████████████████████████████████████████████| 100/100 [00:00<00:00, 167.68it/s, best loss: 0.5033988019241106]\n",
      "{'alpha': 0.10046687583235703, 'estimator': 0}\n",
      "100%|█████████████████████████████████████████████████| 100/100 [00:00<00:00, 170.23it/s, best loss: 0.580502476484895]\n",
      "{'alpha': 0.1000979584953937, 'estimator': 0}\n",
      "100%|███████████████████████████████████████████████| 100/100 [00:00<00:00, 156.91it/s, best loss: 0.38973482844748697]\n",
      "{'alpha': 0.10079744039582451, 'estimator': 0}\n",
      "100%|████████████████████████████████████████████████| 100/100 [00:00<00:00, 150.10it/s, best loss: 0.4836653265129957]\n",
      "{'alpha': 0.10203615105128509, 'estimator': 0}\n",
      "100%|█████████████████████████████████████████████████| 100/100 [00:00<00:00, 138.11it/s, best loss: 0.306212212012668]\n",
      "{'alpha': 0.10055030669229509, 'estimator': 0}\n",
      "100%|███████████████████████████████████████████████| 100/100 [00:00<00:00, 146.16it/s, best loss: 0.46045046448318727]\n",
      "{'alpha': 0.8984957881911786, 'estimator': 0}\n",
      "100%|█████████████████████████████████████████████████| 100/100 [00:00<00:00, 141.42it/s, best loss: 0.418185233031395]\n",
      "{'alpha': 0.8999914417652906, 'estimator': 0}\n",
      "100%|███████████████████████████████████████████████| 100/100 [00:00<00:00, 172.58it/s, best loss: 0.37446581192959794]\n",
      "{'alpha': 0.8999033914360305, 'estimator': 0}\n",
      "100%|████████████████████████████████████████████████| 100/100 [00:00<00:00, 156.91it/s, best loss: 0.4595949936206795]\n",
      "{'alpha': 0.1657089643854678, 'estimator': 0}\n",
      "100%|████████████████████████████████████████████████| 100/100 [00:00<00:00, 158.90it/s, best loss: 0.4303768529462915]\n",
      "{'alpha': 0.8997185128715275, 'estimator': 0}\n",
      "100%|███████████████████████████████████████████████| 100/100 [00:00<00:00, 188.83it/s, best loss: 0.28756735711140147]\n",
      "{'alpha': 0.1004472225367136, 'estimator': 0}\n",
      "100%|████████████████████████████████████████████████| 100/100 [00:00<00:00, 182.30it/s, best loss: 0.3966588210343862]\n",
      "{'alpha': 0.8992295493774569, 'estimator': 0}\n",
      "100%|███████████████████████████████████████████████| 100/100 [00:00<00:00, 170.23it/s, best loss: 0.39892271475053453]\n",
      "{'alpha': 0.8998832825965302, 'estimator': 0}\n",
      "100%|█████████████████████████████████████████████████| 100/100 [00:00<00:00, 165.73it/s, best loss: 0.586210022506583]\n",
      "{'alpha': 0.45114394759092075, 'estimator': 0}\n",
      "100%|████████████████████████████████████████████████| 100/100 [00:00<00:00, 164.37it/s, best loss: 0.4502316861042294]\n",
      "{'alpha': 0.8987607783628959, 'estimator': 0}\n",
      "100%|███████████████████████████████████████████████| 100/100 [00:00<00:00, 156.41it/s, best loss: 0.44924112808106226]\n",
      "{'alpha': 0.8997074631218235, 'estimator': 0}\n",
      "100%|████████████████████████████████████████████████| 100/100 [00:00<00:00, 165.73it/s, best loss: 0.4879888650672046]\n",
      "{'alpha': 0.10026438209474182, 'estimator': 0}\n",
      "100%|████████████████████████████████████████████████| 100/100 [00:00<00:00, 169.37it/s, best loss: 0.3964997513597278]\n",
      "{'alpha': 0.8995545416674218, 'estimator': 0}\n",
      "100%|████████████████████████████████████████████████| 100/100 [00:00<00:00, 173.77it/s, best loss: 0.6267440267140019]\n",
      "{'alpha': 0.10000290992309065, 'estimator': 0}\n",
      "100%|████████████████████████████████████████████████| 100/100 [00:00<00:00, 163.30it/s, best loss: 0.2497123621201227]\n",
      "{'alpha': 0.10021275016393993, 'estimator': 0}\n",
      "100%|████████████████████████████████████████████████| 100/100 [00:00<00:00, 158.15it/s, best loss: 0.5578845988620663]\n",
      "{'alpha': 0.10014305023047892, 'estimator': 0}\n",
      "100%|███████████████████████████████████████████████| 100/100 [00:00<00:00, 177.46it/s, best loss: 0.31324744810335575]\n",
      "{'alpha': 0.8999643037866889, 'estimator': 0}\n",
      "100%|███████████████████████████████████████████████| 100/100 [00:00<00:00, 168.23it/s, best loss: 0.34579135302927255]\n",
      "{'alpha': 0.8993964381101917, 'estimator': 0}\n",
      "100%|████████████████████████████████████████████████| 100/100 [00:00<00:00, 165.46it/s, best loss: 0.4818279665648325]\n",
      "{'alpha': 0.8994123752072538, 'estimator': 0}\n",
      "100%|████████████████████████████████████████████████| 100/100 [00:00<00:00, 167.95it/s, best loss: 0.2956471845153118]\n",
      "{'alpha': 0.10053042507252777, 'estimator': 0}\n",
      "100%|███████████████████████████████████████████████| 100/100 [00:00<00:00, 169.65it/s, best loss: 0.22588463751410154]\n",
      "{'alpha': 0.10075444520870587, 'estimator': 0}\n",
      "100%|████████████████████████████████████████████████| 100/100 [00:00<00:00, 172.28it/s, best loss: 0.5235198748391426]\n",
      "{'alpha': 0.10033340011734569, 'estimator': 0}\n",
      "100%|███████████████████████████████████████████████| 100/100 [00:00<00:00, 170.23it/s, best loss: 0.46172829518608033]\n",
      "{'alpha': 0.764620177767465, 'estimator': 0}\n",
      "100%|████████████████████████████████████████████████| 100/100 [00:00<00:00, 164.64it/s, best loss: 0.2671862852362455]\n",
      "{'alpha': 0.10033390134499003, 'estimator': 0}\n"
     ]
    },
    {
     "name": "stdout",
     "output_type": "stream",
     "text": [
      "100%|███████████████████████████████████████████████| 100/100 [00:00<00:00, 175.00it/s, best loss: 0.38297945876635753]\n",
      "{'alpha': 0.10027582509084967, 'estimator': 0}\n",
      "100%|████████████████████████████████████████████████| 100/100 [00:00<00:00, 151.24it/s, best loss: 0.4155882360578315]\n",
      "{'alpha': 0.10122102436937051, 'estimator': 0}\n",
      "100%|████████████████████████████████████████████████| 100/100 [00:00<00:00, 157.32it/s, best loss: 0.5558630172031991]\n",
      "{'alpha': 0.8998281604793569, 'estimator': 0}\n",
      "100%|███████████████████████████████████████████████| 100/100 [00:00<00:00, 182.30it/s, best loss: 0.39598511205228604]\n",
      "{'alpha': 0.8998040899007101, 'estimator': 0}\n",
      "100%|███████████████████████████████████████████████| 100/100 [00:00<00:00, 168.23it/s, best loss: 0.26608129734664665]\n",
      "{'alpha': 0.8999833761612727, 'estimator': 0}\n",
      "100%|████████████████████████████████████████████████| 100/100 [00:00<00:00, 162.24it/s, best loss: 0.7549873253438361]\n",
      "{'alpha': 0.8996649187236846, 'estimator': 0}\n",
      "100%|██████████████████████████████████████████████████| 100/100 [00:00<00:00, 186.71it/s, best loss: 0.31545420692253]\n",
      "{'alpha': 0.10145610186441648, 'estimator': 0}\n",
      "100%|███████████████████████████████████████████████| 100/100 [00:00<00:00, 159.41it/s, best loss: 0.21009101801370345]\n",
      "{'alpha': 0.10152144774383902, 'estimator': 0}\n",
      "100%|████████████████████████████████████████████████| 100/100 [00:00<00:00, 166.56it/s, best loss: 0.5333358578471517]\n",
      "{'alpha': 0.8995127088151892, 'estimator': 0}\n",
      "100%|████████████████████████████████████████████████| 100/100 [00:00<00:00, 172.28it/s, best loss: 0.3720411656242829]\n",
      "{'alpha': 0.5277447111736623, 'estimator': 0}\n",
      "100%|███████████████████████████████████████████████| 100/100 [00:00<00:00, 168.80it/s, best loss: 0.40631479590287245]\n",
      "{'alpha': 0.8998679202007364, 'estimator': 0}\n",
      "100%|███████████████████████████████████████████████| 100/100 [00:00<00:00, 171.40it/s, best loss: 0.24927134408587187]\n",
      "{'alpha': 0.6653473257014831, 'estimator': 0}\n",
      "100%|█████████████████████████████████████████████████| 100/100 [00:00<00:00, 134.77it/s, best loss: 0.308956614395974]\n",
      "{'alpha': 0.1001769170168486, 'estimator': 0}\n",
      "100%|████████████████████████████████████████████████| 100/100 [00:00<00:00, 165.73it/s, best loss: 0.5728165778501011]\n",
      "{'alpha': 0.8998321417020241, 'estimator': 0}\n",
      "100%|███████████████████████████████████████████████| 100/100 [00:00<00:00, 172.87it/s, best loss: 0.41140783204862086]\n",
      "{'alpha': 0.8999624227925848, 'estimator': 0}\n",
      "100%|████████████████████████████████████████████████| 100/100 [00:00<00:00, 165.73it/s, best loss: 0.5143754978321975]\n",
      "{'alpha': 0.8997621863088536, 'estimator': 0}\n",
      "100%|████████████████████████████████████████████████| 100/100 [00:00<00:00, 160.94it/s, best loss: 0.6299946593605666]\n",
      "{'alpha': 0.10038760024750272, 'estimator': 0}\n",
      "100%|████████████████████████████████████████████████| 100/100 [00:00<00:00, 156.42it/s, best loss: 0.3537047741169081]\n",
      "{'alpha': 0.1473938215026833, 'estimator': 0}\n",
      "100%|█████████████████████████████████████████████████| 100/100 [00:00<00:00, 167.11it/s, best loss: 0.483092307964343]\n",
      "{'alpha': 0.10045570265854696, 'estimator': 0}\n",
      "100%|███████████████████████████████████████████████| 100/100 [00:00<00:00, 157.65it/s, best loss: 0.44025937513137103]\n",
      "{'alpha': 0.8999468424088193, 'estimator': 0}\n",
      "100%|████████████████████████████████████████████████| 100/100 [00:00<00:00, 174.68it/s, best loss: 0.3299247336909686]\n",
      "{'alpha': 0.10019974798940132, 'estimator': 0}\n",
      "100%|████████████████████████████████████████████████| 100/100 [00:00<00:00, 167.67it/s, best loss: 0.2595954011655009]\n",
      "{'alpha': 0.11574116946234866, 'estimator': 0}\n",
      "100%|███████████████████████████████████████████████| 100/100 [00:00<00:00, 126.44it/s, best loss: 0.31663285281037606]\n",
      "{'alpha': 0.10869798174672349, 'estimator': 0}\n",
      "100%|█████████████████████████████████████████████████| 100/100 [00:00<00:00, 129.38it/s, best loss: 0.354247332141279]\n",
      "{'alpha': 0.30188242070111904, 'estimator': 0}\n",
      "100%|███████████████████████████████████████████████| 100/100 [00:00<00:00, 151.01it/s, best loss: 0.38336491698671465]\n",
      "{'alpha': 0.1008421135300183, 'estimator': 0}\n",
      "100%|███████████████████████████████████████████████| 100/100 [00:00<00:00, 163.84it/s, best loss: 0.36521052671265336]\n",
      "{'alpha': 0.8996899621808143, 'estimator': 0}\n",
      "100%|████████████████████████████████████████████████| 100/100 [00:00<00:00, 178.41it/s, best loss: 0.3361145059093251]\n",
      "{'alpha': 0.10024663263325409, 'estimator': 0}\n",
      "100%|████████████████████████████████████████████████| 100/100 [00:00<00:00, 165.46it/s, best loss: 0.3244207959898808]\n",
      "{'alpha': 0.11049209275031256, 'estimator': 0}\n",
      "100%|█████████████████████████████████████████████████| 100/100 [00:00<00:00, 153.08it/s, best loss: 0.275290714696839]\n",
      "{'alpha': 0.10056541914089767, 'estimator': 0}\n",
      "100%|███████████████████████████████████████████████| 100/100 [00:00<00:00, 169.66it/s, best loss: 0.35481227924387776]\n",
      "{'alpha': 0.899319087999127, 'estimator': 0}\n",
      "100%|████████████████████████████████████████████████| 100/100 [00:00<00:00, 170.52it/s, best loss: 0.3755043285152891]\n",
      "{'alpha': 0.4168932363349431, 'estimator': 0}\n",
      "100%|████████████████████████████████████████████████| 100/100 [00:00<00:00, 161.46it/s, best loss: 0.2513261744572614]\n",
      "{'alpha': 0.10963779259838602, 'estimator': 0}\n",
      "100%|███████████████████████████████████████████████| 100/100 [00:00<00:00, 165.19it/s, best loss: 0.22674282622317632]\n",
      "{'alpha': 0.10029733663762141, 'estimator': 0}\n",
      "100%|███████████████████████████████████████████████| 100/100 [00:00<00:00, 168.52it/s, best loss: 0.19219612338540512]\n",
      "{'alpha': 0.35233974899442333, 'estimator': 0}\n",
      "100%|████████████████████████████████████████████████| 100/100 [00:00<00:00, 176.22it/s, best loss: 0.3566031329559347]\n",
      "{'alpha': 0.10021863127134463, 'estimator': 0}\n",
      "100%|███████████████████████████████████████████████| 100/100 [00:00<00:00, 159.15it/s, best loss: 0.27665688040471426]\n",
      "{'alpha': 0.5695961109838613, 'estimator': 0}\n",
      "100%|████████████████████████████████████████████████| 100/100 [00:00<00:00, 163.57it/s, best loss: 0.5873032754446896]\n",
      "{'alpha': 0.8995491044763209, 'estimator': 0}\n",
      "100%|███████████████████████████████████████████████| 100/100 [00:00<00:00, 182.30it/s, best loss: 0.35271594801192174]\n",
      "{'alpha': 0.1337898604567096, 'estimator': 0}\n",
      "100%|████████████████████████████████████████████████| 100/100 [00:00<00:00, 156.91it/s, best loss: 0.5885527591940515]\n",
      "{'alpha': 0.8999410270982908, 'estimator': 0}\n",
      "100%|█████████████████████████████████████████████████| 100/100 [00:00<00:00, 160.17it/s, best loss: 0.648917333861794]\n",
      "{'alpha': 0.898578912186565, 'estimator': 0}\n",
      "100%|███████████████████████████████████████████████| 100/100 [00:00<00:00, 181.64it/s, best loss: 0.32178107915613396]\n",
      "{'alpha': 0.10025612034430215, 'estimator': 0}\n",
      "100%|███████████████████████████████████████████████| 100/100 [00:00<00:00, 158.65it/s, best loss: 0.44682675177936165]\n",
      "{'alpha': 0.899760741135734, 'estimator': 0}\n",
      "100%|████████████████████████████████████████████████| 100/100 [00:00<00:00, 170.52it/s, best loss: 0.4256103844115502]\n",
      "{'alpha': 0.10020213986641086, 'estimator': 0}\n",
      "100%|████████████████████████████████████████████████| 100/100 [00:00<00:00, 168.23it/s, best loss: 0.5746793641479894]\n",
      "{'alpha': 0.8997954568045724, 'estimator': 0}\n",
      "100%|████████████████████████████████████████████████| 100/100 [00:00<00:00, 148.10it/s, best loss: 0.3724543164650631]\n",
      "{'alpha': 0.10048195068377921, 'estimator': 0}\n",
      "100%|█████████████████████████████████████████████████| 100/100 [00:00<00:00, 163.57it/s, best loss: 0.375130646341619]\n",
      "{'alpha': 0.8999014455499504, 'estimator': 0}\n",
      "100%|████████████████████████████████████████████████| 100/100 [00:00<00:00, 166.27it/s, best loss: 0.2549407654248586]\n",
      "{'alpha': 0.10096321464407945, 'estimator': 0}\n",
      "100%|████████████████████████████████████████████████| 100/100 [00:00<00:00, 167.95it/s, best loss: 0.5841762446767986]\n",
      "{'alpha': 0.8997757051318203, 'estimator': 0}\n",
      "100%|████████████████████████████████████████████████| 100/100 [00:00<00:00, 165.19it/s, best loss: 0.4114326734136679]\n",
      "{'alpha': 0.10056854200397564, 'estimator': 0}\n"
     ]
    },
    {
     "name": "stdout",
     "output_type": "stream",
     "text": [
      "100%|███████████████████████████████████████████████| 100/100 [00:00<00:00, 139.65it/s, best loss: 0.29607491461228275]\n",
      "{'alpha': 0.28230051842738196, 'estimator': 0}\n",
      "100%|████████████████████████████████████████████████| 100/100 [00:00<00:00, 187.77it/s, best loss: 0.3325152153391043]\n",
      "{'alpha': 0.10027642304497819, 'estimator': 0}\n",
      "100%|███████████████████████████████████████████████| 100/100 [00:00<00:00, 167.39it/s, best loss: 0.14185482018599344]\n",
      "{'alpha': 0.10015435986484932, 'estimator': 0}\n",
      "100%|████████████████████████████████████████████████| 100/100 [00:00<00:00, 117.68it/s, best loss: 0.3664355970172388]\n",
      "{'alpha': 0.698926725014473, 'estimator': 0}\n",
      "100%|████████████████████████████████████████████████| 100/100 [00:00<00:00, 125.33it/s, best loss: 0.3187645660953492]\n",
      "{'alpha': 0.8997390242712859, 'estimator': 0}\n",
      "100%|████████████████████████████████████████████████| 100/100 [00:00<00:00, 167.95it/s, best loss: 0.2832877900365103]\n",
      "{'alpha': 0.13528430060021254, 'estimator': 0}\n",
      "100%|████████████████████████████████████████████████| 100/100 [00:00<00:00, 166.55it/s, best loss: 0.1942120178063495]\n",
      "{'alpha': 0.899806842506339, 'estimator': 0}\n",
      "100%|████████████████████████████████████████████████| 100/100 [00:00<00:00, 170.24it/s, best loss: 0.1922041124042269]\n",
      "{'alpha': 0.58111614744628, 'estimator': 0}\n",
      "100%|████████████████████████████████████████████████| 100/100 [00:00<00:00, 171.40it/s, best loss: 0.4497575003228378]\n",
      "{'alpha': 0.17636804994612146, 'estimator': 0}\n",
      "100%|████████████████████████████████████████████████| 100/100 [00:00<00:00, 169.09it/s, best loss: 0.3742306674165233]\n",
      "{'alpha': 0.1005256076649953, 'estimator': 0}\n",
      "100%|███████████████████████████████████████████████| 100/100 [00:00<00:00, 164.10it/s, best loss: 0.23119159592097097]\n",
      "{'alpha': 0.10044379875222405, 'estimator': 0}\n",
      "100%|███████████████████████████████████████████████| 100/100 [00:00<00:00, 178.73it/s, best loss: 0.46060929751318114]\n",
      "{'alpha': 0.8996096331149693, 'estimator': 0}\n",
      "100%|███████████████████████████████████████████████| 100/100 [00:00<00:00, 168.80it/s, best loss: 0.30704812186480007]\n",
      "{'alpha': 0.12857350298677273, 'estimator': 0}\n",
      "100%|████████████████████████████████████████████████| 100/100 [00:00<00:00, 169.93it/s, best loss: 0.5057615806216085]\n",
      "{'alpha': 0.8996380614043898, 'estimator': 0}\n",
      "100%|██████████████████████████████████████████████████| 100/100 [00:00<00:00, 168.23it/s, best loss: 0.51247113091598]\n",
      "{'alpha': 0.10033299764014861, 'estimator': 0}\n",
      "100%|███████████████████████████████████████████████| 100/100 [00:00<00:00, 167.39it/s, best loss: 0.28460287606433204]\n",
      "{'alpha': 0.10020631844266079, 'estimator': 0}\n",
      "100%|████████████████████████████████████████████████| 100/100 [00:00<00:00, 176.84it/s, best loss: 0.6004211306762727]\n",
      "{'alpha': 0.8999266389911721, 'estimator': 0}\n",
      "100%|███████████████████████████████████████████████| 100/100 [00:00<00:00, 173.47it/s, best loss: 0.28140012396724245]\n",
      "{'alpha': 0.10030592667287208, 'estimator': 0}\n",
      "100%|████████████████████████████████████████████████| 100/100 [00:00<00:00, 174.99it/s, best loss: 0.4094960550666681]\n",
      "{'alpha': 0.17803150246033753, 'estimator': 0}\n",
      "100%|████████████████████████████████████████████████| 100/100 [00:00<00:00, 181.32it/s, best loss: 0.4238351863180414]\n",
      "{'alpha': 0.10004725726658376, 'estimator': 0}\n",
      "100%|████████████████████████████████████████████████| 100/100 [00:00<00:00, 167.95it/s, best loss: 0.3606523601215418]\n",
      "{'alpha': 0.10011398826058994, 'estimator': 0}\n",
      "100%|███████████████████████████████████████████████| 100/100 [00:00<00:00, 156.67it/s, best loss: 0.37956875534957646]\n",
      "{'alpha': 0.8997413195080354, 'estimator': 0}\n",
      "100%|███████████████████████████████████████████████| 100/100 [00:00<00:00, 184.32it/s, best loss: 0.36924782827491665]\n",
      "{'alpha': 0.7953801245972454, 'estimator': 0}\n",
      "100%|███████████████████████████████████████████████| 100/100 [00:00<00:00, 158.39it/s, best loss: 0.29098088278294904]\n",
      "{'alpha': 0.1586720798417659, 'estimator': 0}\n",
      "100%|████████████████████████████████████████████████| 100/100 [00:00<00:00, 155.95it/s, best loss: 0.3840858740678127]\n",
      "{'alpha': 0.6598286886031719, 'estimator': 0}\n",
      "100%|███████████████████████████████████████████████| 100/100 [00:00<00:00, 175.60it/s, best loss: 0.33797558336941846]\n",
      "{'alpha': 0.8997310280133065, 'estimator': 0}\n",
      "100%|████████████████████████████████████████████████| 100/100 [00:00<00:00, 171.98it/s, best loss: 0.5813280538688469]\n",
      "{'alpha': 0.8994870283025039, 'estimator': 0}\n",
      "100%|████████████████████████████████████████████████| 100/100 [00:00<00:00, 174.68it/s, best loss: 0.2293566333598235]\n",
      "{'alpha': 0.2602929719690893, 'estimator': 0}\n",
      "100%|████████████████████████████████████████████████| 100/100 [00:00<00:00, 169.08it/s, best loss: 0.6682505380764662]\n",
      "{'alpha': 0.10019497628519632, 'estimator': 0}\n",
      "100%|███████████████████████████████████████████████| 100/100 [00:00<00:00, 176.51it/s, best loss: 0.33830214965715566]\n",
      "{'alpha': 0.1779207906621386, 'estimator': 0}\n",
      "100%|███████████████████████████████████████████████| 100/100 [00:00<00:00, 170.81it/s, best loss: 0.31835727768240346]\n",
      "{'alpha': 0.22436521912895094, 'estimator': 0}\n",
      "100%|███████████████████████████████████████████████| 100/100 [00:00<00:00, 167.11it/s, best loss: 0.42869386343833327]\n",
      "{'alpha': 0.10005667080847953, 'estimator': 0}\n",
      "100%|████████████████████████████████████████████████| 100/100 [00:00<00:00, 150.55it/s, best loss: 0.6014659283017321]\n",
      "{'alpha': 0.8997846549411547, 'estimator': 0}\n",
      "100%|████████████████████████████████████████████████| 100/100 [00:00<00:00, 128.71it/s, best loss: 0.2417776392408787]\n",
      "{'alpha': 0.23815754798405625, 'estimator': 0}\n",
      "100%|████████████████████████████████████████████████| 100/100 [00:00<00:00, 145.95it/s, best loss: 0.2274857454610215]\n",
      "{'alpha': 0.5808819878325104, 'estimator': 0}\n",
      "100%|███████████████████████████████████████████████| 100/100 [00:00<00:00, 162.50it/s, best loss: 0.26461796090566425]\n",
      "{'alpha': 0.10086923552283428, 'estimator': 0}\n",
      "100%|█████████████████████████████████████████████████| 100/100 [00:00<00:00, 170.52it/s, best loss: 0.466118942608378]\n",
      "{'alpha': 0.315108593122461, 'estimator': 0}\n",
      "100%|████████████████████████████████████████████████| 100/100 [00:00<00:00, 163.83it/s, best loss: 0.4103985452549074]\n",
      "{'alpha': 0.10006261260530988, 'estimator': 0}\n",
      "100%|██████████████████████████████████████████████████| 100/100 [00:00<00:00, 164.64it/s, best loss: 0.26567894266294]\n",
      "{'alpha': 0.4891732421951567, 'estimator': 0}\n",
      "100%|████████████████████████████████████████████████| 100/100 [00:00<00:00, 172.88it/s, best loss: 0.2635215300607031]\n",
      "{'alpha': 0.7652385570517021, 'estimator': 0}\n",
      "100%|███████████████████████████████████████████████| 100/100 [00:00<00:00, 163.29it/s, best loss: 0.23407590237801623]\n",
      "{'alpha': 0.43816744047743966, 'estimator': 0}\n",
      "100%|███████████████████████████████████████████████| 100/100 [00:00<00:00, 171.40it/s, best loss: 0.41674823463427496]\n",
      "{'alpha': 0.8998386999176506, 'estimator': 0}\n",
      "100%|████████████████████████████████████████████████| 100/100 [00:00<00:00, 166.56it/s, best loss: 0.5635228166969636]\n",
      "{'alpha': 0.8997350470022402, 'estimator': 0}\n",
      "100%|████████████████████████████████████████████████| 100/100 [00:00<00:00, 159.15it/s, best loss: 0.6264410013160802]\n",
      "{'alpha': 0.10007239074090599, 'estimator': 0}\n",
      "100%|███████████████████████████████████████████████| 100/100 [00:00<00:00, 163.84it/s, best loss: 0.33290186313826325]\n",
      "{'alpha': 0.8995814179629678, 'estimator': 0}\n",
      "100%|███████████████████████████████████████████████| 100/100 [00:00<00:00, 152.61it/s, best loss: 0.40529161352814075]\n",
      "{'alpha': 0.8998202779425885, 'estimator': 0}\n",
      "100%|████████████████████████████████████████████████| 100/100 [00:00<00:00, 178.73it/s, best loss: 0.6552718487976399]\n",
      "{'alpha': 0.10049015422976115, 'estimator': 0}\n",
      "100%|████████████████████████████████████████████████| 100/100 [00:00<00:00, 153.54it/s, best loss: 0.1952668621631748]\n",
      "{'alpha': 0.14103228445921073, 'estimator': 0}\n",
      "100%|████████████████████████████████████████████████| 100/100 [00:00<00:00, 175.29it/s, best loss: 0.4202093451925359]\n",
      "{'alpha': 0.10025188742109496, 'estimator': 0}\n"
     ]
    },
    {
     "name": "stdout",
     "output_type": "stream",
     "text": [
      "100%|████████████████████████████████████████████████| 100/100 [00:00<00:00, 166.01it/s, best loss: 0.5476716994090188]\n",
      "{'alpha': 0.10095904085014847, 'estimator': 0}\n",
      "100%|████████████████████████████████████████████████| 100/100 [00:00<00:00, 152.85it/s, best loss: 0.3649822403159156]\n",
      "{'alpha': 0.8998004124392974, 'estimator': 0}\n",
      "100%|████████████████████████████████████████████████| 100/100 [00:00<00:00, 167.95it/s, best loss: 0.3753855921435227]\n",
      "{'alpha': 0.10010667881059342, 'estimator': 0}\n",
      "100%|███████████████████████████████████████████████| 100/100 [00:00<00:00, 155.93it/s, best loss: 0.24166703986720578]\n",
      "{'alpha': 0.10066675313823108, 'estimator': 0}\n",
      "100%|████████████████████████████████████████████████| 100/100 [00:00<00:00, 166.83it/s, best loss: 0.1669772672430744]\n",
      "{'alpha': 0.37382769631066903, 'estimator': 0}\n",
      "100%|████████████████████████████████████████████████| 100/100 [00:00<00:00, 157.15it/s, best loss: 0.5369397218646069]\n",
      "{'alpha': 0.8996546416430253, 'estimator': 0}\n",
      "100%|████████████████████████████████████████████████| 100/100 [00:00<00:00, 185.68it/s, best loss: 0.5764204874241392]\n",
      "{'alpha': 0.18602860183753966, 'estimator': 0}\n",
      "100%|████████████████████████████████████████████████| 100/100 [00:00<00:00, 173.77it/s, best loss: 0.4880562723773829]\n",
      "{'alpha': 0.8992370699217898, 'estimator': 0}\n",
      "100%|███████████████████████████████████████████████| 100/100 [00:00<00:00, 157.41it/s, best loss: 0.40655497148686587]\n",
      "{'alpha': 0.10041755800497243, 'estimator': 0}\n",
      "100%|███████████████████████████████████████████████| 100/100 [00:00<00:00, 164.10it/s, best loss: 0.28364468550741456]\n",
      "{'alpha': 0.3124523595414565, 'estimator': 0}\n",
      "100%|████████████████████████████████████████████████| 100/100 [00:00<00:00, 147.67it/s, best loss: 0.2706764962757965]\n",
      "{'alpha': 0.10020505664163248, 'estimator': 0}\n",
      "100%|███████████████████████████████████████████████| 100/100 [00:00<00:00, 170.22it/s, best loss: 0.42417644753743705]\n",
      "{'alpha': 0.10607185978895428, 'estimator': 0}\n",
      "100%|████████████████████████████████████████████████| 100/100 [00:00<00:00, 161.46it/s, best loss: 0.2984218075620301]\n",
      "{'alpha': 0.1000744125916934, 'estimator': 0}\n",
      "100%|███████████████████████████████████████████████| 100/100 [00:00<00:00, 163.57it/s, best loss: 0.21951612379661334]\n",
      "{'alpha': 0.46366433675158436, 'estimator': 0}\n",
      "100%|███████████████████████████████████████████████| 100/100 [00:00<00:00, 155.21it/s, best loss: 0.37770663787925923]\n",
      "{'alpha': 0.8994007928176556, 'estimator': 0}\n",
      "100%|████████████████████████████████████████████████| 100/100 [00:00<00:00, 151.23it/s, best loss: 0.4772685543432051]\n",
      "{'alpha': 0.11777196234993262, 'estimator': 0}\n",
      "100%|████████████████████████████████████████████████| 100/100 [00:00<00:00, 162.77it/s, best loss: 0.3791570386153257]\n",
      "{'alpha': 0.5280732301265648, 'estimator': 0}\n",
      "100%|████████████████████████████████████████████████| 100/100 [00:00<00:00, 178.73it/s, best loss: 0.5328601435511167]\n",
      "{'alpha': 0.10077373723716206, 'estimator': 0}\n",
      "100%|████████████████████████████████████████████████| 100/100 [00:00<00:00, 163.83it/s, best loss: 0.2229422786282596]\n",
      "{'alpha': 0.10037899329055779, 'estimator': 0}\n",
      "100%|███████████████████████████████████████████████| 100/100 [00:00<00:00, 137.72it/s, best loss: 0.38852278402379153]\n",
      "{'alpha': 0.685893023793474, 'estimator': 0}\n",
      "100%|███████████████████████████████████████████████| 100/100 [00:00<00:00, 150.33it/s, best loss: 0.41652379650397825]\n",
      "{'alpha': 0.10033821716260902, 'estimator': 0}\n",
      "100%|████████████████████████████████████████████████| 100/100 [00:00<00:00, 166.28it/s, best loss: 0.4469695769606855]\n",
      "{'alpha': 0.8995047744549559, 'estimator': 0}\n",
      "100%|███████████████████████████████████████████████| 100/100 [00:00<00:00, 165.73it/s, best loss: 0.35349866927259155]\n",
      "{'alpha': 0.10029104608667927, 'estimator': 0}\n",
      "100%|████████████████████████████████████████████████| 100/100 [00:00<00:00, 174.38it/s, best loss: 0.4211751260920488]\n",
      "{'alpha': 0.6090144175489463, 'estimator': 0}\n",
      "100%|████████████████████████████████████████████████| 100/100 [00:00<00:00, 162.24it/s, best loss: 0.3765756454461885]\n",
      "{'alpha': 0.1004040298588265, 'estimator': 0}\n",
      "100%|███████████████████████████████████████████████| 100/100 [00:00<00:00, 175.28it/s, best loss: 0.31576887326061326]\n",
      "{'alpha': 0.1002058166542128, 'estimator': 0}\n",
      "100%|███████████████████████████████████████████████| 100/100 [00:00<00:00, 171.68it/s, best loss: 0.29273278345777276]\n",
      "{'alpha': 0.16451750413833371, 'estimator': 0}\n",
      "100%|███████████████████████████████████████████████| 100/100 [00:00<00:00, 172.57it/s, best loss: 0.40942629439536504]\n",
      "{'alpha': 0.899907768337595, 'estimator': 0}\n",
      "100%|████████████████████████████████████████████████| 100/100 [00:00<00:00, 166.56it/s, best loss: 0.5747353336353609]\n",
      "{'alpha': 0.12446976756451669, 'estimator': 0}\n",
      "100%|████████████████████████████████████████████████| 100/100 [00:00<00:00, 157.16it/s, best loss: 0.8776007737772318]\n",
      "{'alpha': 0.8999851972563745, 'estimator': 0}\n",
      "100%|███████████████████████████████████████████████| 100/100 [00:00<00:00, 166.56it/s, best loss: 0.21230765076240268]\n",
      "{'alpha': 0.10008056034963109, 'estimator': 0}\n",
      "100%|███████████████████████████████████████████████| 100/100 [00:00<00:00, 167.95it/s, best loss: 0.24535321301211205]\n",
      "{'alpha': 0.2495751709913397, 'estimator': 0}\n",
      "100%|████████████████████████████████████████████████| 100/100 [00:00<00:00, 171.40it/s, best loss: 0.1570686691084945]\n",
      "{'alpha': 0.1763733704199605, 'estimator': 0}\n",
      "100%|███████████████████████████████████████████████| 100/100 [00:00<00:00, 172.87it/s, best loss: 0.17897449344998811]\n",
      "{'alpha': 0.1002746791273666, 'estimator': 0}\n",
      "100%|███████████████████████████████████████████████| 100/100 [00:00<00:00, 173.76it/s, best loss: 0.47456748783543273]\n",
      "{'alpha': 0.8990012131098556, 'estimator': 0}\n",
      "100%|███████████████████████████████████████████████| 100/100 [00:00<00:00, 164.64it/s, best loss: 0.47870684603404773]\n",
      "{'alpha': 0.8999146593681646, 'estimator': 0}\n",
      "100%|███████████████████████████████████████████████| 100/100 [00:00<00:00, 168.80it/s, best loss: 0.22458267403061044]\n",
      "{'alpha': 0.10023057093249207, 'estimator': 0}\n",
      "100%|███████████████████████████████████████████████| 100/100 [00:00<00:00, 182.98it/s, best loss: 0.45390862010648675]\n",
      "{'alpha': 0.10018624857093547, 'estimator': 0}\n",
      "100%|████████████████████████████████████████████████| 100/100 [00:00<00:00, 173.77it/s, best loss: 0.4689551539091056]\n",
      "{'alpha': 0.8998057866949946, 'estimator': 0}\n",
      "100%|████████████████████████████████████████████████| 100/100 [00:00<00:00, 168.52it/s, best loss: 0.3470453912650648]\n",
      "{'alpha': 0.39347583703104705, 'estimator': 0}\n",
      "100%|████████████████████████████████████████████████| 100/100 [00:00<00:00, 166.00it/s, best loss: 0.5853645193273654]\n",
      "{'alpha': 0.10005630116787823, 'estimator': 0}\n",
      "100%|████████████████████████████████████████████████| 100/100 [00:00<00:00, 166.83it/s, best loss: 0.6220380533240515]\n",
      "{'alpha': 0.1006663167411766, 'estimator': 0}\n",
      "100%|████████████████████████████████████████████████| 100/100 [00:00<00:00, 169.37it/s, best loss: 0.3684703029220947]\n",
      "{'alpha': 0.3105271296241626, 'estimator': 0}\n",
      "100%|████████████████████████████████████████████████| 100/100 [00:00<00:00, 159.92it/s, best loss: 0.8494882292549402]\n",
      "{'alpha': 0.8997589753599762, 'estimator': 0}\n",
      "100%|████████████████████████████████████████████████| 100/100 [00:00<00:00, 174.37it/s, best loss: 0.5783679779606954]\n",
      "{'alpha': 0.8999534977168973, 'estimator': 0}\n",
      "100%|████████████████████████████████████████████████| 100/100 [00:00<00:00, 171.98it/s, best loss: 0.4228520533985802]\n",
      "{'alpha': 0.8999200756199006, 'estimator': 0}\n",
      "100%|███████████████████████████████████████████████| 100/100 [00:00<00:00, 158.15it/s, best loss: 0.46521647877281724]\n",
      "{'alpha': 0.10049217360553556, 'estimator': 0}\n",
      "100%|████████████████████████████████████████████████| 100/100 [00:00<00:00, 175.59it/s, best loss: 0.3446862447935959]\n",
      "{'alpha': 0.8998853926004657, 'estimator': 0}\n",
      "100%|█████████████████████████████████████████████████| 100/100 [00:00<00:00, 176.53it/s, best loss: 0.361816966561816]\n",
      "{'alpha': 0.12187657145876296, 'estimator': 0}\n"
     ]
    },
    {
     "name": "stdout",
     "output_type": "stream",
     "text": [
      "100%|████████████████████████████████████████████████| 100/100 [00:00<00:00, 169.09it/s, best loss: 0.4637077684427292]\n",
      "{'alpha': 0.10006799356442209, 'estimator': 0}\n",
      "100%|███████████████████████████████████████████████| 100/100 [00:00<00:00, 167.11it/s, best loss: 0.47046724139272456]\n",
      "{'alpha': 0.8996817132762859, 'estimator': 0}\n",
      "100%|███████████████████████████████████████████████| 100/100 [00:00<00:00, 167.67it/s, best loss: 0.21309736114837308]\n",
      "{'alpha': 0.8995472723722724, 'estimator': 0}\n",
      "100%|███████████████████████████████████████████████| 100/100 [00:00<00:00, 162.77it/s, best loss: 0.43802748870854924]\n",
      "{'alpha': 0.8998466533185956, 'estimator': 0}\n",
      "100%|███████████████████████████████████████████████| 100/100 [00:00<00:00, 168.23it/s, best loss: 0.36417197694586023]\n",
      "{'alpha': 0.10007958479575761, 'estimator': 0}\n",
      "100%|███████████████████████████████████████████████| 100/100 [00:00<00:00, 175.29it/s, best loss: 0.45051035378801707]\n",
      "{'alpha': 0.8997373335338891, 'estimator': 0}\n",
      "100%|████████████████████████████████████████████████| 100/100 [00:00<00:00, 179.05it/s, best loss: 0.3769472749591183]\n",
      "{'alpha': 0.8998575756498491, 'estimator': 0}\n",
      "100%|████████████████████████████████████████████████| 100/100 [00:00<00:00, 174.38it/s, best loss: 0.3334952961526524]\n",
      "{'alpha': 0.10084196272164214, 'estimator': 0}\n",
      "100%|███████████████████████████████████████████████| 100/100 [00:00<00:00, 161.20it/s, best loss: 0.45736197456583344]\n",
      "{'alpha': 0.12025334615663547, 'estimator': 0}\n",
      "100%|████████████████████████████████████████████████| 100/100 [00:00<00:00, 179.05it/s, best loss: 0.3535835830465528]\n",
      "{'alpha': 0.643876694146083, 'estimator': 0}\n",
      "100%|███████████████████████████████████████████████| 100/100 [00:00<00:00, 163.30it/s, best loss: 0.43427287693267863]\n",
      "{'alpha': 0.10039762889858991, 'estimator': 0}\n",
      "100%|███████████████████████████████████████████████| 100/100 [00:00<00:00, 169.66it/s, best loss: 0.34562163482406716]\n",
      "{'alpha': 0.1002520388181541, 'estimator': 0}\n",
      "100%|███████████████████████████████████████████████| 100/100 [00:00<00:00, 169.07it/s, best loss: 0.46906004207028934]\n",
      "{'alpha': 0.8997762736762112, 'estimator': 0}\n",
      "100%|███████████████████████████████████████████████| 100/100 [00:00<00:00, 151.23it/s, best loss: 0.23533449526311262]\n",
      "{'alpha': 0.10005330038905974, 'estimator': 0}\n",
      "100%|████████████████████████████████████████████████| 100/100 [00:00<00:00, 172.88it/s, best loss: 0.5038354666751201]\n",
      "{'alpha': 0.296687720615717, 'estimator': 0}\n",
      "100%|████████████████████████████████████████████████| 100/100 [00:00<00:00, 150.78it/s, best loss: 0.2780442326389511]\n",
      "{'alpha': 0.10003313076100004, 'estimator': 0}\n",
      "100%|████████████████████████████████████████████████| 100/100 [00:00<00:00, 181.30it/s, best loss: 0.2872070869436685]\n",
      "{'alpha': 0.10001837585123817, 'estimator': 0}\n",
      "100%|████████████████████████████████████████████████| 100/100 [00:00<00:00, 170.81it/s, best loss: 0.4556083786101134]\n",
      "{'alpha': 0.8992253492902097, 'estimator': 0}\n",
      "100%|████████████████████████████████████████████████| 100/100 [00:00<00:00, 164.91it/s, best loss: 0.4605348884364821]\n",
      "{'alpha': 0.4854758242720599, 'estimator': 0}\n",
      "100%|███████████████████████████████████████████████| 100/100 [00:00<00:00, 165.73it/s, best loss: 0.33659518874324884]\n",
      "{'alpha': 0.8997855562172864, 'estimator': 0}\n",
      "100%|████████████████████████████████████████████████| 100/100 [00:00<00:00, 180.66it/s, best loss: 0.2267425904640348]\n",
      "{'alpha': 0.8993323710249961, 'estimator': 0}\n",
      "100%|███████████████████████████████████████████████| 100/100 [00:00<00:00, 165.73it/s, best loss: 0.18376104588942324]\n",
      "{'alpha': 0.10016619231421955, 'estimator': 0}\n",
      "100%|███████████████████████████████████████████████| 100/100 [00:00<00:00, 146.59it/s, best loss: 0.38294267395077936]\n",
      "{'alpha': 0.8993634828903065, 'estimator': 0}\n",
      "100%|████████████████████████████████████████████████| 100/100 [00:00<00:00, 165.19it/s, best loss: 0.3773076116776984]\n",
      "{'alpha': 0.10025049576099393, 'estimator': 0}\n",
      "100%|███████████████████████████████████████████████| 100/100 [00:00<00:00, 157.90it/s, best loss: 0.24336509887219507]\n",
      "{'alpha': 0.10070912665962377, 'estimator': 0}\n",
      "100%|███████████████████████████████████████████████| 100/100 [00:00<00:00, 154.26it/s, best loss: 0.29898217701893837]\n",
      "{'alpha': 0.5790037993829592, 'estimator': 0}\n",
      "100%|████████████████████████████████████████████████| 100/100 [00:00<00:00, 175.60it/s, best loss: 0.4414446114207073]\n",
      "{'alpha': 0.10003196387041774, 'estimator': 0}\n",
      "100%|███████████████████████████████████████████████| 100/100 [00:00<00:00, 172.28it/s, best loss: 0.27100003440393405]\n",
      "{'alpha': 0.8999817230425168, 'estimator': 0}\n",
      "100%|█████████████████████████████████████████████████| 100/100 [00:00<00:00, 171.99it/s, best loss: 0.554944636565421]\n",
      "{'alpha': 0.8998923116122542, 'estimator': 0}\n",
      "100%|█████████████████████████████████████████████████| 100/100 [00:00<00:00, 161.46it/s, best loss: 0.521500434681499]\n",
      "{'alpha': 0.8249222883709243, 'estimator': 0}\n",
      "100%|████████████████████████████████████████████████| 100/100 [00:00<00:00, 180.01it/s, best loss: 0.4679555374512656]\n",
      "{'alpha': 0.8993279912427082, 'estimator': 0}\n",
      "100%|███████████████████████████████████████████████| 100/100 [00:00<00:00, 160.68it/s, best loss: 0.45179321339782064]\n",
      "{'alpha': 0.10007400839896158, 'estimator': 0}\n",
      "100%|████████████████████████████████████████████████| 100/100 [00:00<00:00, 148.76it/s, best loss: 0.7039594278252376]\n",
      "{'alpha': 0.8994693613606358, 'estimator': 0}\n",
      "100%|████████████████████████████████████████████████| 100/100 [00:00<00:00, 167.67it/s, best loss: 0.4120179606214523]\n",
      "{'alpha': 0.899135212360161, 'estimator': 0}\n",
      "100%|████████████████████████████████████████████████| 100/100 [00:00<00:00, 167.39it/s, best loss: 0.4625959180049197]\n",
      "{'alpha': 0.8998044745187153, 'estimator': 0}\n",
      "100%|███████████████████████████████████████████████| 100/100 [00:00<00:00, 166.56it/s, best loss: 0.35407577227495196]\n",
      "{'alpha': 0.8994842919382002, 'estimator': 0}\n",
      "100%|███████████████████████████████████████████████| 100/100 [00:00<00:00, 174.99it/s, best loss: 0.18983560987557602]\n",
      "{'alpha': 0.33776533913097595, 'estimator': 0}\n",
      "100%|████████████████████████████████████████████████| 100/100 [00:00<00:00, 192.44it/s, best loss: 0.4919592836015311]\n",
      "{'alpha': 0.4440826387550493, 'estimator': 0}\n",
      "100%|████████████████████████████████████████████████| 100/100 [00:00<00:00, 177.46it/s, best loss: 0.5382624499437393]\n",
      "{'alpha': 0.7632008982539967, 'estimator': 0}\n",
      "100%|████████████████████████████████████████████████| 100/100 [00:00<00:00, 178.73it/s, best loss: 0.5831068591797459]\n",
      "{'alpha': 0.35183787255824106, 'estimator': 0}\n",
      "100%|███████████████████████████████████████████████| 100/100 [00:00<00:00, 176.53it/s, best loss: 0.48583627116443767]\n",
      "{'alpha': 0.19072289067008966, 'estimator': 0}\n",
      "100%|█████████████████████████████████████████████████| 100/100 [00:00<00:00, 195.07it/s, best loss: 0.495044188819319]\n",
      "{'alpha': 0.6088996629870236, 'estimator': 0}\n",
      "100%|████████████████████████████████████████████████| 100/100 [00:00<00:00, 163.30it/s, best loss: 0.5129165586743446]\n",
      "{'alpha': 0.4217695578323001, 'estimator': 0}\n",
      "100%|████████████████████████████████████████████████| 100/100 [00:00<00:00, 167.39it/s, best loss: 0.5393278532066417]\n",
      "{'alpha': 0.7762687299757861, 'estimator': 0}\n",
      "100%|████████████████████████████████████████████████| 100/100 [00:00<00:00, 190.26it/s, best loss: 0.5031138707600356]\n",
      "{'alpha': 0.42606511379435785, 'estimator': 0}\n",
      "100%|████████████████████████████████████████████████| 100/100 [00:00<00:00, 185.00it/s, best loss: 0.4536456439556301]\n",
      "{'alpha': 0.7180549919067526, 'estimator': 0}\n",
      "100%|████████████████████████████████████████████████| 100/100 [00:00<00:00, 177.14it/s, best loss: 0.5488660692889974]\n",
      "{'alpha': 0.4364897688110235, 'estimator': 0}\n",
      "100%|█████████████████████████████████████████████████| 100/100 [00:00<00:00, 185.34it/s, best loss: 0.539774324687533]\n",
      "{'alpha': 0.5791355051821757, 'estimator': 0}\n",
      "100%|████████████████████████████████████████████████| 100/100 [00:00<00:00, 197.38it/s, best loss: 0.5449271294842737]\n",
      "{'alpha': 0.24376753236598017, 'estimator': 0}\n"
     ]
    },
    {
     "name": "stdout",
     "output_type": "stream",
     "text": [
      "100%|███████████████████████████████████████████████| 100/100 [00:00<00:00, 181.64it/s, best loss: 0.49270010738168546]\n",
      "{'alpha': 0.7519858398254529, 'estimator': 0}\n",
      "100%|████████████████████████████████████████████████| 100/100 [00:00<00:00, 158.65it/s, best loss: 0.4727223339321832]\n",
      "{'alpha': 0.572682403072489, 'estimator': 0}\n",
      "100%|████████████████████████████████████████████████| 100/100 [00:00<00:00, 177.15it/s, best loss: 0.5758578334462563]\n",
      "{'alpha': 0.8213947718952505, 'estimator': 0}\n",
      "100%|████████████████████████████████████████████████| 100/100 [00:00<00:00, 177.78it/s, best loss: 0.5052074281738677]\n",
      "{'alpha': 0.7524560570283904, 'estimator': 0}\n",
      "100%|████████████████████████████████████████████████| 100/100 [00:00<00:00, 178.09it/s, best loss: 0.5702472286827005]\n",
      "{'alpha': 0.283020501270582, 'estimator': 0}\n",
      "100%|████████████████████████████████████████████████| 100/100 [00:00<00:00, 174.99it/s, best loss: 0.4620936054421765]\n",
      "{'alpha': 0.7432681396812516, 'estimator': 0}\n",
      "100%|████████████████████████████████████████████████| 100/100 [00:00<00:00, 184.98it/s, best loss: 0.5648796098490639]\n",
      "{'alpha': 0.7822781309879859, 'estimator': 0}\n",
      "100%|████████████████████████████████████████████████| 100/100 [00:00<00:00, 179.69it/s, best loss: 0.5980107415664674]\n",
      "{'alpha': 0.7348091281936123, 'estimator': 0}\n",
      "100%|████████████████████████████████████████████████| 100/100 [00:00<00:00, 176.84it/s, best loss: 0.5140872819216172]\n",
      "{'alpha': 0.3311281207248812, 'estimator': 0}\n",
      "100%|█████████████████████████████████████████████████| 100/100 [00:00<00:00, 185.34it/s, best loss: 0.635745332889742]\n",
      "{'alpha': 0.549804845761533, 'estimator': 0}\n",
      "100%|███████████████████████████████████████████████| 100/100 [00:00<00:00, 192.82it/s, best loss: 0.46847812234711916]\n",
      "{'alpha': 0.37988625665818776, 'estimator': 0}\n",
      "100%|████████████████████████████████████████████████| 100/100 [00:00<00:00, 189.17it/s, best loss: 0.5155114576138007]\n",
      "{'alpha': 0.5852424343547101, 'estimator': 0}\n",
      "100%|████████████████████████████████████████████████| 100/100 [00:00<00:00, 185.34it/s, best loss: 0.5003897160063657]\n",
      "{'alpha': 0.4592232403795601, 'estimator': 0}\n",
      "100%|████████████████████████████████████████████████| 100/100 [00:00<00:00, 186.02it/s, best loss: 0.5738687448581724]\n",
      "{'alpha': 0.5892950957072159, 'estimator': 0}\n",
      "100%|████████████████████████████████████████████████| 100/100 [00:00<00:00, 180.99it/s, best loss: 0.4410594865179659]\n",
      "{'alpha': 0.21869147515688284, 'estimator': 0}\n",
      "100%|████████████████████████████████████████████████| 100/100 [00:00<00:00, 185.00it/s, best loss: 0.5921623281490601]\n",
      "{'alpha': 0.7978219960201566, 'estimator': 0}\n",
      "100%|████████████████████████████████████████████████| 100/100 [00:00<00:00, 184.31it/s, best loss: 0.5272023079296522]\n",
      "{'alpha': 0.29191878919792213, 'estimator': 0}\n",
      "100%|███████████████████████████████████████████████| 100/100 [00:00<00:00, 181.63it/s, best loss: 0.46693785647915753]\n",
      "{'alpha': 0.7445648455282501, 'estimator': 0}\n",
      "100%|███████████████████████████████████████████████| 100/100 [00:00<00:00, 187.42it/s, best loss: 0.46801794737633895]\n",
      "{'alpha': 0.6120209149780972, 'estimator': 0}\n",
      "100%|████████████████████████████████████████████████| 100/100 [00:00<00:00, 176.84it/s, best loss: 0.4737838235310149]\n",
      "{'alpha': 0.25261949512769577, 'estimator': 0}\n",
      "100%|████████████████████████████████████████████████| 100/100 [00:00<00:00, 174.99it/s, best loss: 0.5280554537925233]\n",
      "{'alpha': 0.7501702140892552, 'estimator': 0}\n",
      "100%|███████████████████████████████████████████████| 100/100 [00:00<00:00, 193.57it/s, best loss: 0.40378170400078556]\n",
      "{'alpha': 0.8959176727026992, 'estimator': 0}\n",
      "100%|████████████████████████████████████████████████| 100/100 [00:00<00:00, 171.99it/s, best loss: 0.5131364312635174]\n",
      "{'alpha': 0.5434511337011076, 'estimator': 0}\n",
      "100%|████████████████████████████████████████████████| 100/100 [00:00<00:00, 162.25it/s, best loss: 0.5033312480565807]\n",
      "{'alpha': 0.12956012457474575, 'estimator': 0}\n",
      "100%|████████████████████████████████████████████████| 100/100 [00:00<00:00, 183.31it/s, best loss: 0.4994634643544176]\n",
      "{'alpha': 0.4642060824497508, 'estimator': 0}\n",
      "100%|███████████████████████████████████████████████| 100/100 [00:00<00:00, 195.07it/s, best loss: 0.46359003488341655]\n",
      "{'alpha': 0.8122156721018181, 'estimator': 0}\n",
      "100%|█████████████████████████████████████████████████| 100/100 [00:00<00:00, 148.10it/s, best loss: 0.589235981948985]\n",
      "{'alpha': 0.3016478651875099, 'estimator': 0}\n",
      "100%|████████████████████████████████████████████████| 100/100 [00:00<00:00, 141.62it/s, best loss: 0.6360204019105511]\n",
      "{'alpha': 0.6992485259502669, 'estimator': 0}\n",
      "100%|████████████████████████████████████████████████| 100/100 [00:00<00:00, 187.75it/s, best loss: 0.6012514653816687]\n",
      "{'alpha': 0.4347134470403221, 'estimator': 0}\n",
      "100%|████████████████████████████████████████████████| 100/100 [00:00<00:00, 152.38it/s, best loss: 0.5538509547379471]\n",
      "{'alpha': 0.24945318817577278, 'estimator': 0}\n",
      "100%|████████████████████████████████████████████████| 100/100 [00:00<00:00, 181.32it/s, best loss: 0.6578019805999734]\n",
      "{'alpha': 0.5128670182132556, 'estimator': 0}\n",
      "100%|████████████████████████████████████████████████| 100/100 [00:00<00:00, 174.08it/s, best loss: 0.6583067633558848]\n",
      "{'alpha': 0.7439344091902921, 'estimator': 0}\n",
      "100%|████████████████████████████████████████████████| 100/100 [00:00<00:00, 183.98it/s, best loss: 0.5876222487500302]\n",
      "{'alpha': 0.80142271482053, 'estimator': 0}\n",
      "100%|████████████████████████████████████████████████| 100/100 [00:00<00:00, 169.37it/s, best loss: 0.5642129277046037]\n",
      "{'alpha': 0.31692862107805897, 'estimator': 0}\n",
      "100%|████████████████████████████████████████████████| 100/100 [00:00<00:00, 185.34it/s, best loss: 0.5809644883057642]\n",
      "{'alpha': 0.3917012636332694, 'estimator': 0}\n",
      "100%|████████████████████████████████████████████████| 100/100 [00:00<00:00, 149.65it/s, best loss: 0.5656589257064366]\n",
      "{'alpha': 0.5628012928487948, 'estimator': 0}\n",
      "100%|████████████████████████████████████████████████| 100/100 [00:00<00:00, 128.22it/s, best loss: 0.5796846557244173]\n",
      "{'alpha': 0.7967111705719881, 'estimator': 0}\n",
      "100%|████████████████████████████████████████████████| 100/100 [00:00<00:00, 125.49it/s, best loss: 0.5920605695149733]\n",
      "{'alpha': 0.8160934752197688, 'estimator': 0}\n",
      "100%|████████████████████████████████████████████████| 100/100 [00:00<00:00, 144.06it/s, best loss: 0.4566587799304001]\n",
      "{'alpha': 0.41997939450258026, 'estimator': 0}\n",
      "100%|████████████████████████████████████████████████| 100/100 [00:00<00:00, 186.03it/s, best loss: 0.5095250985823219]\n",
      "{'alpha': 0.60828599560311, 'estimator': 0}\n",
      "100%|████████████████████████████████████████████████| 100/100 [00:00<00:00, 135.13it/s, best loss: 0.5281811088791276]\n",
      "{'alpha': 0.7851006936135921, 'estimator': 0}\n",
      "100%|████████████████████████████████████████████████| 100/100 [00:00<00:00, 163.30it/s, best loss: 0.5319658177509656]\n",
      "{'alpha': 0.594877012056627, 'estimator': 0}\n",
      "100%|████████████████████████████████████████████████| 100/100 [00:00<00:00, 172.58it/s, best loss: 0.6071949396918978]\n",
      "{'alpha': 0.1617141723854207, 'estimator': 0}\n",
      "100%|████████████████████████████████████████████████| 100/100 [00:00<00:00, 176.53it/s, best loss: 0.6237650526556991]\n",
      "{'alpha': 0.46191079406046354, 'estimator': 0}\n",
      "100%|████████████████████████████████████████████████| 100/100 [00:00<00:00, 180.01it/s, best loss: 0.5967970948009238]\n",
      "{'alpha': 0.7421958664654421, 'estimator': 0}\n",
      "100%|████████████████████████████████████████████████| 100/100 [00:00<00:00, 182.64it/s, best loss: 0.6149431680948779]\n",
      "{'alpha': 0.759423211371179, 'estimator': 0}\n",
      "100%|████████████████████████████████████████████████| 100/100 [00:00<00:00, 173.17it/s, best loss: 0.5621879554983333]\n",
      "{'alpha': 0.6750431891469625, 'estimator': 0}\n",
      "100%|███████████████████████████████████████████████| 100/100 [00:00<00:00, 146.80it/s, best loss: 0.48189364918610667]\n",
      "{'alpha': 0.14942132152049173, 'estimator': 0}\n",
      "100%|████████████████████████████████████████████████| 100/100 [00:00<00:00, 175.91it/s, best loss: 0.5985908067957466]\n",
      "{'alpha': 0.869483866613708, 'estimator': 0}\n"
     ]
    },
    {
     "name": "stdout",
     "output_type": "stream",
     "text": [
      "100%|████████████████████████████████████████████████| 100/100 [00:00<00:00, 183.64it/s, best loss: 0.5911601471395198]\n",
      "{'alpha': 0.8237146393121382, 'estimator': 0}\n",
      "100%|████████████████████████████████████████████████| 100/100 [00:00<00:00, 160.94it/s, best loss: 0.5379545098797495]\n",
      "{'alpha': 0.49107097934469124, 'estimator': 0}\n",
      "100%|███████████████████████████████████████████████| 100/100 [00:00<00:00, 186.37it/s, best loss: 0.48829440720006734]\n",
      "{'alpha': 0.6455628183338914, 'estimator': 0}\n",
      "100%|████████████████████████████████████████████████| 100/100 [00:00<00:00, 182.97it/s, best loss: 0.5794431685097765]\n",
      "{'alpha': 0.7127570187163649, 'estimator': 0}\n",
      "100%|████████████████████████████████████████████████| 100/100 [00:00<00:00, 190.62it/s, best loss: 0.4139973480979774]\n",
      "{'alpha': 0.740520733904319, 'estimator': 0}\n",
      "100%|████████████████████████████████████████████████| 100/100 [00:00<00:00, 176.22it/s, best loss: 0.4141630810484878]\n",
      "{'alpha': 0.8829187741686501, 'estimator': 0}\n",
      "100%|███████████████████████████████████████████████| 100/100 [00:00<00:00, 187.07it/s, best loss: 0.42208935277962917]\n",
      "{'alpha': 0.4344381692521013, 'estimator': 0}\n",
      "100%|████████████████████████████████████████████████| 100/100 [00:00<00:00, 195.84it/s, best loss: 0.5149338159482291]\n",
      "{'alpha': 0.6122446795600768, 'estimator': 0}\n",
      "100%|████████████████████████████████████████████████| 100/100 [00:00<00:00, 196.22it/s, best loss: 0.5432094901023403]\n",
      "{'alpha': 0.5541041352637422, 'estimator': 0}\n",
      "100%|███████████████████████████████████████████████| 100/100 [00:00<00:00, 183.98it/s, best loss: 0.43786290610467415]\n",
      "{'alpha': 0.6669267296660267, 'estimator': 0}\n",
      "100%|████████████████████████████████████████████████| 100/100 [00:00<00:00, 184.31it/s, best loss: 0.5478863115471653]\n",
      "{'alpha': 0.7366041727767136, 'estimator': 0}\n",
      "100%|████████████████████████████████████████████████| 100/100 [00:00<00:00, 198.94it/s, best loss: 0.5695415920051978]\n",
      "{'alpha': 0.8249341191972864, 'estimator': 0}\n",
      "100%|████████████████████████████████████████████████| 100/100 [00:00<00:00, 195.45it/s, best loss: 0.5003817195283589]\n",
      "{'alpha': 0.41486781211019963, 'estimator': 0}\n",
      "100%|████████████████████████████████████████████████| 100/100 [00:00<00:00, 194.32it/s, best loss: 0.5270527783222849]\n",
      "{'alpha': 0.34916122308989017, 'estimator': 0}\n",
      "100%|███████████████████████████████████████████████| 100/100 [00:00<00:00, 178.73it/s, best loss: 0.47906738421019407]\n",
      "{'alpha': 0.710815005340305, 'estimator': 0}\n",
      "100%|████████████████████████████████████████████████| 100/100 [00:00<00:00, 195.06it/s, best loss: 0.4012324444014771]\n",
      "{'alpha': 0.6063237410612313, 'estimator': 0}\n",
      "100%|███████████████████████████████████████████████| 100/100 [00:00<00:00, 196.60it/s, best loss: 0.41528636668886676]\n",
      "{'alpha': 0.4127559395841768, 'estimator': 0}\n",
      "100%|████████████████████████████████████████████████| 100/100 [00:00<00:00, 191.35it/s, best loss: 0.4659725124855907]\n",
      "{'alpha': 0.8637653186335853, 'estimator': 0}\n",
      "100%|█████████████████████████████████████████████████| 100/100 [00:00<00:00, 179.37it/s, best loss: 0.388706650220307]\n",
      "{'alpha': 0.13238866404482794, 'estimator': 0}\n",
      "100%|███████████████████████████████████████████████| 100/100 [00:00<00:00, 189.90it/s, best loss: 0.43646700461033705]\n",
      "{'alpha': 0.7757946645141768, 'estimator': 0}\n",
      "100%|███████████████████████████████████████████████| 100/100 [00:00<00:00, 196.60it/s, best loss: 0.49535600669338337]\n",
      "{'alpha': 0.3172654995333911, 'estimator': 0}\n",
      "100%|████████████████████████████████████████████████| 100/100 [00:00<00:00, 179.05it/s, best loss: 0.5379070842902334]\n",
      "{'alpha': 0.6661452337197509, 'estimator': 0}\n",
      "100%|████████████████████████████████████████████████| 100/100 [00:00<00:00, 183.97it/s, best loss: 0.4283029771329102]\n",
      "{'alpha': 0.28666625593767725, 'estimator': 0}\n",
      "100%|████████████████████████████████████████████████| 100/100 [00:00<00:00, 204.63it/s, best loss: 0.5316671467489605]\n",
      "{'alpha': 0.5921953463763826, 'estimator': 0}\n",
      "100%|████████████████████████████████████████████████| 100/100 [00:00<00:00, 187.07it/s, best loss: 0.6282202962345034]\n",
      "{'alpha': 0.3633073449596097, 'estimator': 0}\n",
      "100%|████████████████████████████████████████████████| 100/100 [00:00<00:00, 183.96it/s, best loss: 0.5635420167307679]\n",
      "{'alpha': 0.27289889719544114, 'estimator': 0}\n",
      "100%|████████████████████████████████████████████████| 100/100 [00:00<00:00, 188.82it/s, best loss: 0.5766390779087132]\n",
      "{'alpha': 0.5475308065414336, 'estimator': 0}\n",
      "100%|████████████████████████████████████████████████| 100/100 [00:00<00:00, 177.78it/s, best loss: 0.6708415647708983]\n",
      "{'alpha': 0.45401178343349224, 'estimator': 0}\n",
      "100%|████████████████████████████████████████████████| 100/100 [00:00<00:00, 186.04it/s, best loss: 0.5724797007624387]\n",
      "{'alpha': 0.8923165682999206, 'estimator': 0}\n",
      "100%|██████████████████████████████████████████████████| 100/100 [00:00<00:00, 181.97it/s, best loss: 0.57086943651867]\n",
      "{'alpha': 0.6017020660540554, 'estimator': 0}\n",
      "100%|████████████████████████████████████████████████| 100/100 [00:00<00:00, 202.97it/s, best loss: 0.5272494450266725]\n",
      "{'alpha': 0.8958859293647731, 'estimator': 0}\n",
      "100%|█████████████████████████████████████████████████| 100/100 [00:00<00:00, 183.30it/s, best loss: 0.532021803687095]\n",
      "{'alpha': 0.24228899279066907, 'estimator': 0}\n",
      "100%|████████████████████████████████████████████████| 100/100 [00:00<00:00, 181.32it/s, best loss: 0.4897916562664749]\n",
      "{'alpha': 0.14915866526424004, 'estimator': 0}\n",
      "100%|████████████████████████████████████████████████| 100/100 [00:00<00:00, 173.77it/s, best loss: 0.5452791611083461]\n",
      "{'alpha': 0.4237215401772154, 'estimator': 0}\n",
      "100%|█████████████████████████████████████████████████| 100/100 [00:00<00:00, 186.37it/s, best loss: 0.582420590011614]\n",
      "{'alpha': 0.1058828080807281, 'estimator': 0}\n",
      "100%|███████████████████████████████████████████████| 100/100 [00:00<00:00, 200.53it/s, best loss: 0.41016287078463276]\n",
      "{'alpha': 0.21865116815459276, 'estimator': 0}\n",
      "100%|████████████████████████████████████████████████| 100/100 [00:00<00:00, 183.30it/s, best loss: 0.5105134756786553]\n",
      "{'alpha': 0.5215370585033398, 'estimator': 0}\n",
      "100%|████████████████████████████████████████████████| 100/100 [00:00<00:00, 192.08it/s, best loss: 0.4287223069325615]\n",
      "{'alpha': 0.7747451064094467, 'estimator': 0}\n",
      "100%|████████████████████████████████████████████████| 100/100 [00:00<00:00, 198.55it/s, best loss: 0.5255384084618019]\n",
      "{'alpha': 0.7124992780028527, 'estimator': 0}\n",
      "100%|████████████████████████████████████████████████| 100/100 [00:00<00:00, 184.98it/s, best loss: 0.5096141984066354]\n",
      "{'alpha': 0.7020353085407914, 'estimator': 0}\n",
      "100%|████████████████████████████████████████████████| 100/100 [00:00<00:00, 182.30it/s, best loss: 0.5400842513808048]\n",
      "{'alpha': 0.2046620162704268, 'estimator': 0}\n",
      "100%|████████████████████████████████████████████████| 100/100 [00:00<00:00, 191.35it/s, best loss: 0.5321783953804989]\n",
      "{'alpha': 0.7186845471570359, 'estimator': 0}\n",
      "100%|████████████████████████████████████████████████| 100/100 [00:00<00:00, 197.38it/s, best loss: 0.5371559518527269]\n",
      "{'alpha': 0.7329994190264136, 'estimator': 0}\n",
      "100%|████████████████████████████████████████████████| 100/100 [00:00<00:00, 182.97it/s, best loss: 0.5792833281150467]\n",
      "{'alpha': 0.6201928450531513, 'estimator': 0}\n",
      "100%|████████████████████████████████████████████████| 100/100 [00:00<00:00, 180.66it/s, best loss: 0.5206813591375945]\n",
      "{'alpha': 0.8853368518354305, 'estimator': 0}\n",
      "100%|████████████████████████████████████████████████| 100/100 [00:00<00:00, 182.64it/s, best loss: 0.5016899276452799]\n",
      "{'alpha': 0.2507383184162142, 'estimator': 0}\n",
      "100%|████████████████████████████████████████████████| 100/100 [00:00<00:00, 189.90it/s, best loss: 0.6106740812802568]\n",
      "{'alpha': 0.6649413000792195, 'estimator': 0}\n",
      "100%|███████████████████████████████████████████████| 100/100 [00:00<00:00, 180.66it/s, best loss: 0.49031959345002846]\n",
      "{'alpha': 0.6311439817637213, 'estimator': 0}\n",
      "100%|████████████████████████████████████████████████| 100/100 [00:00<00:00, 189.18it/s, best loss: 0.4724099857551841]\n",
      "{'alpha': 0.15780675523857424, 'estimator': 0}\n"
     ]
    },
    {
     "name": "stdout",
     "output_type": "stream",
     "text": [
      "100%|████████████████████████████████████████████████| 100/100 [00:00<00:00, 175.90it/s, best loss: 0.5807708311823365]\n",
      "{'alpha': 0.31160706758134393, 'estimator': 0}\n",
      "100%|████████████████████████████████████████████████| 100/100 [00:00<00:00, 203.78it/s, best loss: 0.5469866005610009]\n",
      "{'alpha': 0.45551454544899206, 'estimator': 0}\n",
      "100%|████████████████████████████████████████████████| 100/100 [00:00<00:00, 184.31it/s, best loss: 0.6025596905544177]\n",
      "{'alpha': 0.8957346882026443, 'estimator': 0}\n",
      "100%|████████████████████████████████████████████████| 100/100 [00:00<00:00, 183.29it/s, best loss: 0.6319672968869449]\n",
      "{'alpha': 0.6505168109264574, 'estimator': 0}\n",
      "100%|████████████████████████████████████████████████| 100/100 [00:00<00:00, 189.53it/s, best loss: 0.5989598376646106]\n",
      "{'alpha': 0.2650773386414552, 'estimator': 0}\n",
      "100%|████████████████████████████████████████████████| 100/100 [00:00<00:00, 193.57it/s, best loss: 0.5405907997972003]\n",
      "{'alpha': 0.7900987129916851, 'estimator': 0}\n",
      "100%|████████████████████████████████████████████████| 100/100 [00:00<00:00, 182.30it/s, best loss: 0.4886775015159015]\n",
      "{'alpha': 0.5539190206918772, 'estimator': 0}\n",
      "100%|████████████████████████████████████████████████| 100/100 [00:00<00:00, 185.68it/s, best loss: 0.5945465712569714]\n",
      "{'alpha': 0.40133613857186934, 'estimator': 0}\n",
      "100%|████████████████████████████████████████████████| 100/100 [00:00<00:00, 186.72it/s, best loss: 0.5677426291720297]\n",
      "{'alpha': 0.2427316476192047, 'estimator': 0}\n",
      "100%|████████████████████████████████████████████████| 100/100 [00:00<00:00, 200.54it/s, best loss: 0.6073508343332343]\n",
      "{'alpha': 0.3834171283061262, 'estimator': 0}\n",
      "100%|████████████████████████████████████████████████| 100/100 [00:00<00:00, 184.98it/s, best loss: 0.5791151557480971]\n",
      "{'alpha': 0.6433032162055928, 'estimator': 0}\n",
      "100%|████████████████████████████████████████████████| 100/100 [00:00<00:00, 183.30it/s, best loss: 0.6191885583483584]\n",
      "{'alpha': 0.28435541721519453, 'estimator': 0}\n",
      "100%|█████████████████████████████████████████████████| 100/100 [00:00<00:00, 195.45it/s, best loss: 0.557141786637136]\n",
      "{'alpha': 0.386354151052138, 'estimator': 0}\n",
      "100%|█████████████████████████████████████████████████| 100/100 [00:00<00:00, 199.74it/s, best loss: 0.595399336977101]\n",
      "{'alpha': 0.6679001196006935, 'estimator': 0}\n",
      "100%|███████████████████████████████████████████████| 100/100 [00:00<00:00, 187.77it/s, best loss: 0.47160282002966697]\n",
      "{'alpha': 0.29133947505054847, 'estimator': 0}\n",
      "100%|████████████████████████████████████████████████| 100/100 [00:00<00:00, 190.25it/s, best loss: 0.5476074539058189]\n",
      "{'alpha': 0.7303303934399211, 'estimator': 0}\n",
      "100%|████████████████████████████████████████████████| 100/100 [00:00<00:00, 193.19it/s, best loss: 0.5931524486701563]\n",
      "{'alpha': 0.6625443612551798, 'estimator': 0}\n",
      "100%|███████████████████████████████████████████████| 100/100 [00:00<00:00, 166.28it/s, best loss: 0.45735247525655714]\n",
      "{'alpha': 0.7584064762549418, 'estimator': 0}\n",
      "100%|███████████████████████████████████████████████| 100/100 [00:00<00:00, 151.01it/s, best loss: 0.47715067107662124]\n",
      "{'alpha': 0.7287244749520737, 'estimator': 0}\n",
      "100%|████████████████████████████████████████████████| 100/100 [00:00<00:00, 154.25it/s, best loss: 0.4232637799089408]\n",
      "{'alpha': 0.8586105109266914, 'estimator': 0}\n",
      "100%|███████████████████████████████████████████████| 100/100 [00:00<00:00, 178.10it/s, best loss: 0.48799886506289847]\n",
      "{'alpha': 0.6686614465607457, 'estimator': 0}\n",
      "100%|████████████████████████████████████████████████| 100/100 [00:00<00:00, 157.64it/s, best loss: 0.5553786543905908]\n",
      "{'alpha': 0.6495419909971644, 'estimator': 0}\n",
      "100%|████████████████████████████████████████████████| 100/100 [00:00<00:00, 160.68it/s, best loss: 0.5494501948951794]\n",
      "{'alpha': 0.6006357053944229, 'estimator': 0}\n",
      "100%|████████████████████████████████████████████████| 100/100 [00:00<00:00, 144.06it/s, best loss: 0.5588060822718552]\n",
      "{'alpha': 0.2704566243656923, 'estimator': 0}\n",
      "100%|████████████████████████████████████████████████| 100/100 [00:00<00:00, 147.02it/s, best loss: 0.5371042352403549]\n",
      "{'alpha': 0.5654630909270804, 'estimator': 0}\n",
      "100%|████████████████████████████████████████████████| 100/100 [00:00<00:00, 150.78it/s, best loss: 0.6104950124906825]\n",
      "{'alpha': 0.15814530899053214, 'estimator': 0}\n",
      "100%|████████████████████████████████████████████████| 100/100 [00:00<00:00, 171.69it/s, best loss: 0.5154940048250195]\n",
      "{'alpha': 0.6471234554337674, 'estimator': 0}\n",
      "100%|███████████████████████████████████████████████| 100/100 [00:00<00:00, 151.92it/s, best loss: 0.44909102003551904]\n",
      "{'alpha': 0.27295694285094585, 'estimator': 0}\n",
      "100%|████████████████████████████████████████████████| 100/100 [00:00<00:00, 152.38it/s, best loss: 0.5617818715338464]\n",
      "{'alpha': 0.8817923686830467, 'estimator': 0}\n",
      "100%|█████████████████████████████████████████████████| 100/100 [00:00<00:00, 151.69it/s, best loss: 0.414132076627709]\n",
      "{'alpha': 0.7040967959791813, 'estimator': 0}\n",
      "100%|████████████████████████████████████████████████| 100/100 [00:00<00:00, 159.16it/s, best loss: 0.5420226027359701]\n",
      "{'alpha': 0.5808820583998272, 'estimator': 0}\n",
      "100%|████████████████████████████████████████████████| 100/100 [00:00<00:00, 146.38it/s, best loss: 0.5083764776135193]\n",
      "{'alpha': 0.7197965644515812, 'estimator': 0}\n",
      "100%|████████████████████████████████████████████████| 100/100 [00:00<00:00, 193.19it/s, best loss: 0.4447872540496382]\n",
      "{'alpha': 0.8394500814854146, 'estimator': 0}\n",
      "100%|███████████████████████████████████████████████| 100/100 [00:00<00:00, 198.94it/s, best loss: 0.49298675824095095]\n",
      "{'alpha': 0.7984392750288282, 'estimator': 0}\n",
      "100%|████████████████████████████████████████████████| 100/100 [00:00<00:00, 180.99it/s, best loss: 0.5020956846982636]\n",
      "{'alpha': 0.37784253979246674, 'estimator': 0}\n",
      "100%|████████████████████████████████████████████████| 100/100 [00:00<00:00, 168.23it/s, best loss: 0.5847630817513312]\n",
      "{'alpha': 0.5961678789987259, 'estimator': 0}\n",
      "100%|████████████████████████████████████████████████| 100/100 [00:00<00:00, 199.74it/s, best loss: 0.4812036044333896]\n",
      "{'alpha': 0.8437277972871394, 'estimator': 0}\n",
      "100%|██████████████████████████████████████████████████| 100/100 [00:00<00:00, 199.34it/s, best loss: 0.52204022539552]\n",
      "{'alpha': 0.32572539074671714, 'estimator': 0}\n",
      "100%|███████████████████████████████████████████████| 100/100 [00:00<00:00, 181.97it/s, best loss: 0.48794434160125466]\n",
      "{'alpha': 0.34158762595078085, 'estimator': 0}\n",
      "100%|████████████████████████████████████████████████| 100/100 [00:00<00:00, 190.63it/s, best loss: 0.5112524697074616]\n",
      "{'alpha': 0.6384963085470526, 'estimator': 0}\n",
      "100%|████████████████████████████████████████████████| 100/100 [00:00<00:00, 199.34it/s, best loss: 0.4210735156945614]\n",
      "{'alpha': 0.65928168608041, 'estimator': 0}\n",
      "100%|███████████████████████████████████████████████| 100/100 [00:00<00:00, 189.54it/s, best loss: 0.49268619976311123]\n",
      "{'alpha': 0.4269374960321548, 'estimator': 0}\n",
      "100%|███████████████████████████████████████████████| 100/100 [00:00<00:00, 181.32it/s, best loss: 0.44260957170697923]\n",
      "{'alpha': 0.7026656976669696, 'estimator': 0}\n",
      "100%|███████████████████████████████████████████████| 100/100 [00:00<00:00, 171.39it/s, best loss: 0.48203164647569674]\n",
      "{'alpha': 0.7796224873122727, 'estimator': 0}\n",
      "100%|████████████████████████████████████████████████| 100/100 [00:00<00:00, 198.93it/s, best loss: 0.4363825691473322]\n",
      "{'alpha': 0.7000402918358734, 'estimator': 0}\n",
      "100%|████████████████████████████████████████████████| 100/100 [00:00<00:00, 187.77it/s, best loss: 0.4444924746561264]\n",
      "{'alpha': 0.8322098275048996, 'estimator': 0}\n",
      "100%|████████████████████████████████████████████████| 100/100 [00:00<00:00, 187.05it/s, best loss: 0.5141321206321445]\n",
      "{'alpha': 0.4975740244140243, 'estimator': 0}\n",
      "100%|████████████████████████████████████████████████| 100/100 [00:00<00:00, 175.60it/s, best loss: 0.5074759158659512]\n",
      "{'alpha': 0.5293582782716542, 'estimator': 0}\n",
      "100%|████████████████████████████████████████████████| 100/100 [00:00<00:00, 198.16it/s, best loss: 0.5933883679654011]\n",
      "{'alpha': 0.759370342016948, 'estimator': 0}\n"
     ]
    },
    {
     "name": "stdout",
     "output_type": "stream",
     "text": [
      "100%|████████████████████████████████████████████████| 100/100 [00:00<00:00, 187.77it/s, best loss: 0.5510660036387849]\n",
      "{'alpha': 0.3206591865627318, 'estimator': 0}\n",
      "100%|████████████████████████████████████████████████| 100/100 [00:00<00:00, 190.61it/s, best loss: 0.6297054610021506]\n",
      "{'alpha': 0.21768888109349485, 'estimator': 0}\n",
      "100%|███████████████████████████████████████████████| 100/100 [00:00<00:00, 182.63it/s, best loss: 0.49487018135971617]\n",
      "{'alpha': 0.7524976482601604, 'estimator': 0}\n",
      "100%|███████████████████████████████████████████████| 100/100 [00:00<00:00, 195.83it/s, best loss: 0.49677795924180523]\n",
      "{'alpha': 0.3140257732677507, 'estimator': 0}\n",
      "100%|████████████████████████████████████████████████| 100/100 [00:00<00:00, 177.15it/s, best loss: 0.5575671938611046]\n",
      "{'alpha': 0.6403071395038292, 'estimator': 0}\n",
      "100%|████████████████████████████████████████████████| 100/100 [00:00<00:00, 192.82it/s, best loss: 0.5282577405226034]\n",
      "{'alpha': 0.2029844243869511, 'estimator': 0}\n",
      "100%|████████████████████████████████████████████████| 100/100 [00:00<00:00, 199.74it/s, best loss: 0.5495059908839566]\n",
      "{'alpha': 0.5844641381602279, 'estimator': 0}\n",
      "100%|████████████████████████████████████████████████| 100/100 [00:00<00:00, 198.55it/s, best loss: 0.5220902858611313]\n",
      "{'alpha': 0.34773505250098646, 'estimator': 0}\n",
      "100%|████████████████████████████████████████████████| 100/100 [00:00<00:00, 182.64it/s, best loss: 0.5391051963418917]\n",
      "{'alpha': 0.357220033886419, 'estimator': 0}\n",
      "100%|███████████████████████████████████████████████| 100/100 [00:00<00:00, 179.05it/s, best loss: 0.47932151900778974]\n",
      "{'alpha': 0.4253335481539037, 'estimator': 0}\n",
      "100%|████████████████████████████████████████████████| 100/100 [00:00<00:00, 191.70it/s, best loss: 0.4826557454584548]\n",
      "{'alpha': 0.7654450825881364, 'estimator': 0}\n",
      "100%|████████████████████████████████████████████████| 100/100 [00:00<00:00, 188.83it/s, best loss: 0.4132589242322757]\n",
      "{'alpha': 0.48792404199344064, 'estimator': 0}\n",
      "100%|████████████████████████████████████████████████| 100/100 [00:00<00:00, 184.65it/s, best loss: 0.5213979353979313]\n",
      "{'alpha': 0.4940355261697983, 'estimator': 0}\n",
      "100%|███████████████████████████████████████████████| 100/100 [00:00<00:00, 188.12it/s, best loss: 0.48619403891128277]\n",
      "{'alpha': 0.2615162378000786, 'estimator': 0}\n",
      "100%|███████████████████████████████████████████████| 100/100 [00:00<00:00, 187.78it/s, best loss: 0.42596980665760786]\n",
      "{'alpha': 0.6230242207775379, 'estimator': 0}\n",
      "100%|█████████████████████████████████████████████████| 100/100 [00:00<00:00, 193.57it/s, best loss: 0.485077523945594]\n",
      "{'alpha': 0.5562079500903775, 'estimator': 0}\n",
      "100%|████████████████████████████████████████████████| 100/100 [00:00<00:00, 176.84it/s, best loss: 0.5633999676060919]\n",
      "{'alpha': 0.11566889778315215, 'estimator': 0}\n",
      "100%|████████████████████████████████████████████████| 100/100 [00:00<00:00, 186.02it/s, best loss: 0.5720280090625881]\n",
      "{'alpha': 0.16172185207317719, 'estimator': 0}\n",
      "100%|████████████████████████████████████████████████| 100/100 [00:00<00:00, 190.99it/s, best loss: 0.5092480521262542]\n",
      "{'alpha': 0.5231287264111211, 'estimator': 0}\n",
      "100%|███████████████████████████████████████████████| 100/100 [00:00<00:00, 186.02it/s, best loss: 0.38863520661633333]\n",
      "{'alpha': 0.8663037645465321, 'estimator': 0}\n",
      "100%|████████████████████████████████████████████████| 100/100 [00:00<00:00, 173.77it/s, best loss: 0.4631042995515366]\n",
      "{'alpha': 0.5493241932698147, 'estimator': 0}\n",
      "100%|███████████████████████████████████████████████| 100/100 [00:00<00:00, 147.67it/s, best loss: 0.45420622986036463]\n",
      "{'alpha': 0.32515182753236593, 'estimator': 0}\n",
      "100%|████████████████████████████████████████████████| 100/100 [00:00<00:00, 151.69it/s, best loss: 0.4486791197285372]\n",
      "{'alpha': 0.5677139967182454, 'estimator': 0}\n",
      "100%|███████████████████████████████████████████████| 100/100 [00:00<00:00, 147.24it/s, best loss: 0.38440905293537087]\n",
      "{'alpha': 0.42291133528592595, 'estimator': 0}\n",
      "100%|████████████████████████████████████████████████| 100/100 [00:00<00:00, 158.40it/s, best loss: 0.5137669172932297]\n",
      "{'alpha': 0.7294085038191976, 'estimator': 0}\n",
      "100%|███████████████████████████████████████████████| 100/100 [00:00<00:00, 171.40it/s, best loss: 0.45727655969761494]\n",
      "{'alpha': 0.8714149669855833, 'estimator': 0}\n",
      "100%|███████████████████████████████████████████████| 100/100 [00:00<00:00, 147.24it/s, best loss: 0.45428499746519024]\n",
      "{'alpha': 0.2713699372012718, 'estimator': 0}\n",
      "100%|████████████████████████████████████████████████| 100/100 [00:00<00:00, 148.54it/s, best loss: 0.5597342473880966]\n",
      "{'alpha': 0.2910034893661637, 'estimator': 0}\n",
      "100%|████████████████████████████████████████████████| 100/100 [00:00<00:00, 168.23it/s, best loss: 0.4238689847709013]\n",
      "{'alpha': 0.45049606426661803, 'estimator': 0}\n",
      "100%|███████████████████████████████████████████████| 100/100 [00:00<00:00, 154.73it/s, best loss: 0.49713006159141554]\n",
      "{'alpha': 0.5579249881221724, 'estimator': 0}\n",
      "100%|█████████████████████████████████████████████████| 100/100 [00:00<00:00, 150.78it/s, best loss: 0.550285387681469]\n",
      "{'alpha': 0.6167300569983423, 'estimator': 0}\n",
      "100%|████████████████████████████████████████████████| 100/100 [00:00<00:00, 161.98it/s, best loss: 0.5466744501563022]\n",
      "{'alpha': 0.421960193462961, 'estimator': 0}\n",
      "100%|████████████████████████████████████████████████| 100/100 [00:00<00:00, 157.65it/s, best loss: 0.5530192679329293]\n",
      "{'alpha': 0.7071829069532278, 'estimator': 0}\n",
      "100%|███████████████████████████████████████████████| 100/100 [00:00<00:00, 160.17it/s, best loss: 0.49124697952150864]\n",
      "{'alpha': 0.1447588598398175, 'estimator': 0}\n",
      "100%|████████████████████████████████████████████████| 100/100 [00:00<00:00, 158.15it/s, best loss: 0.5666154945487966]\n",
      "{'alpha': 0.3948008164613871, 'estimator': 0}\n",
      "100%|█████████████████████████████████████████████████| 100/100 [00:00<00:00, 163.04it/s, best loss: 0.550503772016465]\n",
      "{'alpha': 0.8321059636407222, 'estimator': 0}\n",
      "100%|████████████████████████████████████████████████| 100/100 [00:00<00:00, 183.98it/s, best loss: 0.4575325847245457]\n",
      "{'alpha': 0.3856431006787643, 'estimator': 0}\n",
      "100%|████████████████████████████████████████████████| 100/100 [00:00<00:00, 177.15it/s, best loss: 0.5152404390796521]\n",
      "{'alpha': 0.6958865863150934, 'estimator': 0}\n",
      "100%|███████████████████████████████████████████████| 100/100 [00:00<00:00, 185.00it/s, best loss: 0.49438170761878697]\n",
      "{'alpha': 0.16954376724167544, 'estimator': 0}\n",
      "100%|████████████████████████████████████████████████| 100/100 [00:00<00:00, 189.18it/s, best loss: 0.5736501130995594]\n",
      "{'alpha': 0.190456335614756, 'estimator': 0}\n",
      "100%|████████████████████████████████████████████████| 100/100 [00:00<00:00, 175.91it/s, best loss: 0.5623997395197381]\n",
      "{'alpha': 0.3786806157249252, 'estimator': 0}\n",
      "100%|████████████████████████████████████████████████| 100/100 [00:00<00:00, 188.83it/s, best loss: 0.5092110067014404]\n",
      "{'alpha': 0.5906073722351063, 'estimator': 0}\n",
      "100%|████████████████████████████████████████████████| 100/100 [00:00<00:00, 184.65it/s, best loss: 0.5167502536893078]\n",
      "{'alpha': 0.8223435535440377, 'estimator': 0}\n",
      "100%|███████████████████████████████████████████████| 100/100 [00:00<00:00, 188.83it/s, best loss: 0.43675379439809364]\n",
      "{'alpha': 0.7766654755448, 'estimator': 0}\n",
      "100%|████████████████████████████████████████████████| 100/100 [00:00<00:00, 180.34it/s, best loss: 0.4358000556087259]\n",
      "{'alpha': 0.3029262274175353, 'estimator': 0}\n",
      "100%|████████████████████████████████████████████████| 100/100 [00:00<00:00, 177.46it/s, best loss: 0.5378877923385259]\n",
      "{'alpha': 0.8301087424479766, 'estimator': 0}\n",
      "100%|███████████████████████████████████████████████| 100/100 [00:00<00:00, 184.65it/s, best loss: 0.44779797457444553]\n",
      "{'alpha': 0.7738816673469882, 'estimator': 0}\n",
      "100%|████████████████████████████████████████████████| 100/100 [00:00<00:00, 189.90it/s, best loss: 0.4555954326348123]\n",
      "{'alpha': 0.42186903064756043, 'estimator': 0}\n",
      "100%|████████████████████████████████████████████████| 100/100 [00:00<00:00, 188.83it/s, best loss: 0.5471099526474485]\n",
      "{'alpha': 0.36228087376106044, 'estimator': 0}\n"
     ]
    },
    {
     "name": "stdout",
     "output_type": "stream",
     "text": [
      "100%|████████████████████████████████████████████████| 100/100 [00:00<00:00, 188.47it/s, best loss: 0.5565361879792496]\n",
      "{'alpha': 0.28350646475829366, 'estimator': 0}\n",
      "100%|████████████████████████████████████████████████| 100/100 [00:00<00:00, 185.33it/s, best loss: 0.5073548271709116]\n",
      "{'alpha': 0.21052045126675517, 'estimator': 0}\n",
      "100%|████████████████████████████████████████████████| 100/100 [00:00<00:00, 191.35it/s, best loss: 0.5595839574054665]\n",
      "{'alpha': 0.1560003980569662, 'estimator': 0}\n",
      "100%|████████████████████████████████████████████████| 100/100 [00:00<00:00, 189.54it/s, best loss: 0.5385554887768162]\n",
      "{'alpha': 0.6371459538675884, 'estimator': 0}\n",
      "100%|████████████████████████████████████████████████| 100/100 [00:00<00:00, 195.45it/s, best loss: 0.5398891819648467]\n",
      "{'alpha': 0.6805015942752157, 'estimator': 0}\n",
      "100%|████████████████████████████████████████████████| 100/100 [00:00<00:00, 190.26it/s, best loss: 0.5110239462861513]\n",
      "{'alpha': 0.5917556159066452, 'estimator': 0}\n",
      "100%|████████████████████████████████████████████████| 100/100 [00:00<00:00, 172.28it/s, best loss: 0.4769663358301068]\n",
      "{'alpha': 0.11546055816273251, 'estimator': 0}\n",
      "100%|████████████████████████████████████████████████| 100/100 [00:00<00:00, 182.62it/s, best loss: 0.5010525118967768]\n",
      "{'alpha': 0.2914656550746889, 'estimator': 0}\n",
      "100%|███████████████████████████████████████████████| 100/100 [00:00<00:00, 192.82it/s, best loss: 0.48719233870119666]\n",
      "{'alpha': 0.5286798678686978, 'estimator': 0}\n",
      "100%|███████████████████████████████████████████████| 100/100 [00:00<00:00, 199.74it/s, best loss: 0.48344733814055474]\n",
      "{'alpha': 0.8727064520885957, 'estimator': 0}\n",
      "100%|█████████████████████████████████████████████████| 100/100 [00:00<00:00, 189.18it/s, best loss: 0.436707197016439]\n",
      "{'alpha': 0.5036274104036038, 'estimator': 0}\n",
      "100%|███████████████████████████████████████████████| 100/100 [00:00<00:00, 185.68it/s, best loss: 0.48679668193628073]\n",
      "{'alpha': 0.6712051581464774, 'estimator': 0}\n",
      "100%|████████████████████████████████████████████████| 100/100 [00:00<00:00, 183.97it/s, best loss: 0.5898920798375668]\n",
      "{'alpha': 0.625422119119211, 'estimator': 0}\n",
      "100%|████████████████████████████████████████████████| 100/100 [00:00<00:00, 186.03it/s, best loss: 0.5395084532029655]\n",
      "{'alpha': 0.8502028459071556, 'estimator': 0}\n",
      "100%|████████████████████████████████████████████████| 100/100 [00:00<00:00, 189.18it/s, best loss: 0.5775394917207666]\n",
      "{'alpha': 0.54989286208122, 'estimator': 0}\n",
      "100%|████████████████████████████████████████████████| 100/100 [00:00<00:00, 186.36it/s, best loss: 0.6291519413566719]\n",
      "{'alpha': 0.8819834344622274, 'estimator': 0}\n",
      "100%|████████████████████████████████████████████████| 100/100 [00:00<00:00, 193.57it/s, best loss: 0.4756630327206247]\n",
      "{'alpha': 0.5685496167775181, 'estimator': 0}\n",
      "100%|███████████████████████████████████████████████| 100/100 [00:00<00:00, 196.99it/s, best loss: 0.48980092860911584]\n",
      "{'alpha': 0.11205246578215151, 'estimator': 0}\n",
      "100%|████████████████████████████████████████████████| 100/100 [00:00<00:00, 176.53it/s, best loss: 0.5474528506182459]\n",
      "{'alpha': 0.6388867970928819, 'estimator': 0}\n",
      "100%|████████████████████████████████████████████████| 100/100 [00:00<00:00, 188.12it/s, best loss: 0.6031960137826118]\n",
      "{'alpha': 0.261647398792332, 'estimator': 0}\n",
      "100%|████████████████████████████████████████████████| 100/100 [00:00<00:00, 194.69it/s, best loss: 0.5831979372687547]\n",
      "{'alpha': 0.4613187789467984, 'estimator': 0}\n",
      "100%|████████████████████████████████████████████████| 100/100 [00:00<00:00, 187.07it/s, best loss: 0.5287104665200999]\n",
      "{'alpha': 0.6137731472800307, 'estimator': 0}\n",
      "100%|████████████████████████████████████████████████| 100/100 [00:00<00:00, 178.73it/s, best loss: 0.5305770656033113]\n",
      "{'alpha': 0.6495282945709924, 'estimator': 0}\n",
      "100%|███████████████████████████████████████████████| 100/100 [00:00<00:00, 188.12it/s, best loss: 0.37446271920889596]\n",
      "{'alpha': 0.5501380438937595, 'estimator': 0}\n",
      "100%|████████████████████████████████████████████████| 100/100 [00:00<00:00, 182.30it/s, best loss: 0.4585416495178927]\n",
      "{'alpha': 0.3063083293251599, 'estimator': 0}\n",
      "100%|███████████████████████████████████████████████| 100/100 [00:00<00:00, 180.66it/s, best loss: 0.49861764397853353]\n",
      "{'alpha': 0.20273781717501907, 'estimator': 0}\n",
      "100%|████████████████████████████████████████████████| 100/100 [00:00<00:00, 189.54it/s, best loss: 0.5641802368068439]\n",
      "{'alpha': 0.3468906638235956, 'estimator': 0}\n",
      "100%|████████████████████████████████████████████████| 100/100 [00:00<00:00, 184.99it/s, best loss: 0.5697446697948935]\n",
      "{'alpha': 0.5119771230554697, 'estimator': 0}\n",
      "100%|████████████████████████████████████████████████| 100/100 [00:00<00:00, 196.22it/s, best loss: 0.5335151832982363]\n",
      "{'alpha': 0.5054872113006946, 'estimator': 0}\n",
      "100%|███████████████████████████████████████████████| 100/100 [00:00<00:00, 185.68it/s, best loss: 0.43901825159171765]\n",
      "{'alpha': 0.610768494651335, 'estimator': 0}\n",
      "100%|████████████████████████████████████████████████| 100/100 [00:00<00:00, 171.99it/s, best loss: 0.5203334704168807]\n",
      "{'alpha': 0.36296447950151733, 'estimator': 0}\n",
      "100%|████████████████████████████████████████████████| 100/100 [00:00<00:00, 200.53it/s, best loss: 0.5108048979591837]\n",
      "{'alpha': 0.715428390892526, 'estimator': 0}\n",
      "100%|████████████████████████████████████████████████| 100/100 [00:00<00:00, 198.56it/s, best loss: 0.5198595637512908]\n",
      "{'alpha': 0.7844417698740671, 'estimator': 0}\n",
      "100%|████████████████████████████████████████████████| 100/100 [00:00<00:00, 190.62it/s, best loss: 0.5299059611992964]\n",
      "{'alpha': 0.3766058760963631, 'estimator': 0}\n",
      "100%|████████████████████████████████████████████████| 100/100 [00:00<00:00, 175.29it/s, best loss: 0.5503977064383803]\n",
      "{'alpha': 0.1500995210836906, 'estimator': 0}\n",
      "100%|███████████████████████████████████████████████| 100/100 [00:00<00:00, 184.65it/s, best loss: 0.44627236738620046]\n",
      "{'alpha': 0.5283892682466356, 'estimator': 0}\n",
      "100%|████████████████████████████████████████████████| 100/100 [00:00<00:00, 190.99it/s, best loss: 0.5673407547389523]\n",
      "{'alpha': 0.7242304337967919, 'estimator': 0}\n",
      "100%|████████████████████████████████████████████████| 100/100 [00:00<00:00, 186.72it/s, best loss: 0.4980440049159863]\n",
      "{'alpha': 0.4620312274506623, 'estimator': 0}\n",
      "100%|████████████████████████████████████████████████| 100/100 [00:00<00:00, 182.96it/s, best loss: 0.5138863444011983]\n",
      "{'alpha': 0.437365763922794, 'estimator': 0}\n",
      "100%|███████████████████████████████████████████████| 100/100 [00:00<00:00, 205.89it/s, best loss: 0.46781040795732964]\n",
      "{'alpha': 0.16556774830105392, 'estimator': 0}\n",
      "100%|███████████████████████████████████████████████| 100/100 [00:00<00:00, 188.83it/s, best loss: 0.49951260158555144]\n",
      "{'alpha': 0.22321594880983364, 'estimator': 0}\n",
      "100%|████████████████████████████████████████████████| 100/100 [00:00<00:00, 188.47it/s, best loss: 0.5228424646152385]\n",
      "{'alpha': 0.4079008074892987, 'estimator': 0}\n",
      "100%|████████████████████████████████████████████████| 100/100 [00:00<00:00, 176.84it/s, best loss: 0.5827600567693696]\n",
      "{'alpha': 0.49859961300450883, 'estimator': 0}\n",
      "100%|████████████████████████████████████████████████| 100/100 [00:00<00:00, 202.56it/s, best loss: 0.5664613427561862]\n",
      "{'alpha': 0.871680732411259, 'estimator': 0}\n",
      "100%|████████████████████████████████████████████████| 100/100 [00:00<00:00, 188.47it/s, best loss: 0.5179047604090714]\n",
      "{'alpha': 0.3837857714807129, 'estimator': 0}\n",
      "100%|████████████████████████████████████████████████| 100/100 [00:00<00:00, 187.42it/s, best loss: 0.5190355681322627]\n",
      "{'alpha': 0.848123577470412, 'estimator': 0}\n",
      "100%|███████████████████████████████████████████████| 100/100 [00:00<00:00, 182.30it/s, best loss: 0.45329066209066127]\n",
      "{'alpha': 0.46522406578193587, 'estimator': 0}\n",
      "100%|████████████████████████████████████████████████| 100/100 [00:00<00:00, 190.62it/s, best loss: 0.6159507673419273]\n",
      "{'alpha': 0.2596675099942224, 'estimator': 0}\n",
      "100%|███████████████████████████████████████████████| 100/100 [00:00<00:00, 188.83it/s, best loss: 0.36430781851665717]\n",
      "{'alpha': 0.14892721669750336, 'estimator': 0}\n"
     ]
    },
    {
     "name": "stdout",
     "output_type": "stream",
     "text": [
      "100%|███████████████████████████████████████████████| 100/100 [00:00<00:00, 179.05it/s, best loss: 0.44935060948873157]\n",
      "{'alpha': 0.6839231653753483, 'estimator': 0}\n",
      "100%|████████████████████████████████████████████████| 100/100 [00:00<00:00, 188.83it/s, best loss: 0.4435242428714732]\n",
      "{'alpha': 0.772003725636126, 'estimator': 0}\n",
      "100%|███████████████████████████████████████████████| 100/100 [00:00<00:00, 196.99it/s, best loss: 0.43213032563586906]\n",
      "{'alpha': 0.15212430413817302, 'estimator': 0}\n",
      "100%|████████████████████████████████████████████████| 100/100 [00:00<00:00, 188.47it/s, best loss: 0.5774021937546797]\n",
      "{'alpha': 0.5663588144983712, 'estimator': 0}\n",
      "100%|████████████████████████████████████████████████| 100/100 [00:00<00:00, 174.08it/s, best loss: 0.4998640584864674]\n",
      "{'alpha': 0.7422833406600156, 'estimator': 0}\n",
      "100%|████████████████████████████████████████████████| 100/100 [00:00<00:00, 191.72it/s, best loss: 0.5265589573710912]\n",
      "{'alpha': 0.2904799317862248, 'estimator': 0}\n",
      "100%|███████████████████████████████████████████████| 100/100 [00:00<00:00, 198.16it/s, best loss: 0.46427596682480854]\n",
      "{'alpha': 0.4534705739108664, 'estimator': 0}\n",
      "100%|████████████████████████████████████████████████| 100/100 [00:00<00:00, 190.99it/s, best loss: 0.4528727078035089]\n",
      "{'alpha': 0.22827131934472034, 'estimator': 0}\n",
      "100%|████████████████████████████████████████████████| 100/100 [00:00<00:00, 192.45it/s, best loss: 0.5082335598452513]\n",
      "{'alpha': 0.7923982021966339, 'estimator': 0}\n",
      "100%|████████████████████████████████████████████████| 100/100 [00:00<00:00, 201.33it/s, best loss: 0.4972120753360862]\n",
      "{'alpha': 0.33667933261472244, 'estimator': 0}\n",
      "100%|████████████████████████████████████████████████| 100/100 [00:00<00:00, 193.94it/s, best loss: 0.4810054188251599]\n",
      "{'alpha': 0.251755956777854, 'estimator': 0}\n",
      "100%|████████████████████████████████████████████████| 100/100 [00:00<00:00, 181.97it/s, best loss: 0.5254724580590557]\n",
      "{'alpha': 0.6909141489424492, 'estimator': 0}\n",
      "100%|███████████████████████████████████████████████| 100/100 [00:00<00:00, 183.29it/s, best loss: 0.49452785001979005]\n",
      "{'alpha': 0.6944280257398818, 'estimator': 0}\n",
      "100%|████████████████████████████████████████████████| 100/100 [00:00<00:00, 191.72it/s, best loss: 0.5055303728077064]\n",
      "{'alpha': 0.2381551021646872, 'estimator': 0}\n",
      "100%|████████████████████████████████████████████████| 100/100 [00:00<00:00, 190.62it/s, best loss: 0.5185820382591965]\n",
      "{'alpha': 0.23260014104114665, 'estimator': 0}\n",
      "100%|███████████████████████████████████████████████| 100/100 [00:00<00:00, 186.72it/s, best loss: 0.46891638095238186]\n",
      "{'alpha': 0.1592862882766286, 'estimator': 0}\n",
      "100%|████████████████████████████████████████████████| 100/100 [00:00<00:00, 179.36it/s, best loss: 0.5787895401493928]\n",
      "{'alpha': 0.7921976411802433, 'estimator': 0}\n",
      "100%|████████████████████████████████████████████████| 100/100 [00:00<00:00, 189.89it/s, best loss: 0.5915434921261902]\n",
      "{'alpha': 0.8649787134527538, 'estimator': 0}\n",
      "100%|████████████████████████████████████████████████| 100/100 [00:00<00:00, 170.52it/s, best loss: 0.4641454693131841]\n",
      "{'alpha': 0.8631432766335264, 'estimator': 0}\n",
      "100%|█████████████████████████████████████████████████| 100/100 [00:00<00:00, 187.42it/s, best loss: 0.588463226227753]\n",
      "{'alpha': 0.15121829589676122, 'estimator': 0}\n",
      "100%|███████████████████████████████████████████████| 100/100 [00:00<00:00, 165.19it/s, best loss: 0.45998823787499254]\n",
      "{'alpha': 0.8756846157300262, 'estimator': 0}\n",
      "100%|████████████████████████████████████████████████| 100/100 [00:00<00:00, 141.42it/s, best loss: 0.6424993253317068]\n",
      "{'alpha': 0.88679686234249, 'estimator': 0}\n",
      "100%|████████████████████████████████████████████████| 100/100 [00:00<00:00, 124.25it/s, best loss: 0.5061226973541079]\n",
      "{'alpha': 0.36764423441478755, 'estimator': 0}\n",
      "100%|████████████████████████████████████████████████| 100/100 [00:00<00:00, 174.08it/s, best loss: 0.5374027291545739]\n",
      "{'alpha': 0.5478598434821873, 'estimator': 0}\n",
      "100%|████████████████████████████████████████████████| 100/100 [00:00<00:00, 192.82it/s, best loss: 0.4835575863548295]\n",
      "{'alpha': 0.5850453262487545, 'estimator': 0}\n",
      "100%|████████████████████████████████████████████████| 100/100 [00:00<00:00, 189.18it/s, best loss: 0.4957624337877349]\n",
      "{'alpha': 0.255426575088755, 'estimator': 0}\n",
      "100%|████████████████████████████████████████████████| 100/100 [00:00<00:00, 178.41it/s, best loss: 0.6284827968596436]\n",
      "{'alpha': 0.8305761890831723, 'estimator': 0}\n",
      "100%|████████████████████████████████████████████████| 100/100 [00:00<00:00, 183.98it/s, best loss: 0.5752691282588576]\n",
      "{'alpha': 0.4789449556730162, 'estimator': 0}\n",
      "100%|████████████████████████████████████████████████| 100/100 [00:00<00:00, 177.46it/s, best loss: 0.6414860550573513]\n",
      "{'alpha': 0.5233379805545056, 'estimator': 0}\n",
      "100%|████████████████████████████████████████████████| 100/100 [00:00<00:00, 179.36it/s, best loss: 0.5674585138992841]\n",
      "{'alpha': 0.3295172920967009, 'estimator': 0}\n",
      "100%|████████████████████████████████████████████████| 100/100 [00:00<00:00, 169.09it/s, best loss: 0.5374731795156931]\n",
      "{'alpha': 0.1671849153729652, 'estimator': 0}\n",
      "100%|████████████████████████████████████████████████| 100/100 [00:00<00:00, 177.15it/s, best loss: 0.6110022833842976]\n",
      "{'alpha': 0.8756791154790765, 'estimator': 0}\n",
      "100%|████████████████████████████████████████████████| 100/100 [00:00<00:00, 149.65it/s, best loss: 0.5681522205970057]\n",
      "{'alpha': 0.29828632385257403, 'estimator': 0}\n",
      "100%|████████████████████████████████████████████████| 100/100 [00:00<00:00, 165.73it/s, best loss: 0.5488649614316503]\n",
      "{'alpha': 0.6671678983044351, 'estimator': 0}\n",
      "100%|████████████████████████████████████████████████| 100/100 [00:00<00:00, 195.84it/s, best loss: 0.5789757530201656]\n",
      "{'alpha': 0.32271315102424936, 'estimator': 0}\n",
      "100%|████████████████████████████████████████████████| 100/100 [00:00<00:00, 186.72it/s, best loss: 0.4613018465275804]\n",
      "{'alpha': 0.5735273169033607, 'estimator': 0}\n",
      "100%|███████████████████████████████████████████████| 100/100 [00:00<00:00, 184.32it/s, best loss: 0.46039267934446537]\n",
      "{'alpha': 0.22140782331060846, 'estimator': 0}\n",
      "100%|████████████████████████████████████████████████| 100/100 [00:00<00:00, 190.26it/s, best loss: 0.4918309200607267]\n",
      "{'alpha': 0.5976276628716997, 'estimator': 0}\n",
      "100%|████████████████████████████████████████████████| 100/100 [00:00<00:00, 191.35it/s, best loss: 0.5605023155259713]\n",
      "{'alpha': 0.8812314310085929, 'estimator': 0}\n",
      "100%|███████████████████████████████████████████████| 100/100 [00:00<00:00, 170.52it/s, best loss: 0.46342003183619995]\n",
      "{'alpha': 0.26759958477714585, 'estimator': 0}\n",
      "100%|████████████████████████████████████████████████| 100/100 [00:00<00:00, 174.38it/s, best loss: 0.5410793015873014]\n",
      "{'alpha': 0.4493287734141548, 'estimator': 0}\n",
      "100%|████████████████████████████████████████████████| 100/100 [00:00<00:00, 188.83it/s, best loss: 0.5087370890141693]\n",
      "{'alpha': 0.8995279691658732, 'estimator': 0}\n",
      "100%|████████████████████████████████████████████████| 100/100 [00:00<00:00, 187.77it/s, best loss: 0.5129777138614663]\n",
      "{'alpha': 0.44622059521334134, 'estimator': 0}\n",
      "100%|████████████████████████████████████████████████| 100/100 [00:00<00:00, 188.11it/s, best loss: 0.4771978037669764]\n",
      "{'alpha': 0.23250058570170717, 'estimator': 0}\n",
      "100%|███████████████████████████████████████████████| 100/100 [00:00<00:00, 180.66it/s, best loss: 0.49215525000317567]\n",
      "{'alpha': 0.42189185728257894, 'estimator': 0}\n",
      "100%|███████████████████████████████████████████████| 100/100 [00:00<00:00, 187.04it/s, best loss: 0.45659259975156813]\n",
      "{'alpha': 0.4410292221553216, 'estimator': 0}\n",
      "100%|████████████████████████████████████████████████| 100/100 [00:00<00:00, 178.73it/s, best loss: 0.4715150057729194]\n",
      "{'alpha': 0.23790114031399226, 'estimator': 0}\n",
      "100%|████████████████████████████████████████████████| 100/100 [00:00<00:00, 135.86it/s, best loss: 0.5073729227086874]\n",
      "{'alpha': 0.6722462633626263, 'estimator': 0}\n",
      "100%|████████████████████████████████████████████████| 100/100 [00:00<00:00, 148.54it/s, best loss: 0.4628279019774641]\n",
      "{'alpha': 0.30834730526572074, 'estimator': 0}\n"
     ]
    },
    {
     "name": "stdout",
     "output_type": "stream",
     "text": [
      "100%|████████████████████████████████████████████████| 100/100 [00:00<00:00, 186.03it/s, best loss: 0.5519970631424368]\n",
      "{'alpha': 0.34220167079272407, 'estimator': 0}\n",
      "100%|███████████████████████████████████████████████| 100/100 [00:00<00:00, 154.50it/s, best loss: 0.42436217431928325]\n",
      "{'alpha': 0.2837585884705496, 'estimator': 0}\n",
      "100%|████████████████████████████████████████████████| 100/100 [00:00<00:00, 169.37it/s, best loss: 0.5808014418170454]\n",
      "{'alpha': 0.2173942661991756, 'estimator': 0}\n",
      "100%|███████████████████████████████████████████████| 100/100 [00:00<00:00, 192.81it/s, best loss: 0.46240015840015625]\n",
      "{'alpha': 0.466613616093018, 'estimator': 0}\n",
      "100%|███████████████████████████████████████████████| 100/100 [00:00<00:00, 180.34it/s, best loss: 0.49484263376346826]\n",
      "{'alpha': 0.6247460082381937, 'estimator': 0}\n",
      "100%|████████████████████████████████████████████████| 100/100 [00:00<00:00, 178.10it/s, best loss: 0.5274546636215299]\n",
      "{'alpha': 0.7434105871404658, 'estimator': 0}\n",
      "100%|████████████████████████████████████████████████| 100/100 [00:00<00:00, 176.22it/s, best loss: 0.5677996407939772]\n",
      "{'alpha': 0.5139554509710392, 'estimator': 0}\n",
      "100%|███████████████████████████████████████████████| 100/100 [00:00<00:00, 169.95it/s, best loss: 0.34894782998447327]\n",
      "{'alpha': 0.15513692335741977, 'estimator': 0}\n",
      "100%|█████████████████████████████████████████████████| 100/100 [00:00<00:00, 185.34it/s, best loss: 0.444379546956678]\n",
      "{'alpha': 0.1463872968904709, 'estimator': 0}\n",
      "100%|████████████████████████████████████████████████| 100/100 [00:00<00:00, 183.64it/s, best loss: 0.3675638833382422]\n",
      "{'alpha': 0.6534462524148613, 'estimator': 0}\n",
      "100%|███████████████████████████████████████████████| 100/100 [00:00<00:00, 175.29it/s, best loss: 0.49167909030509205]\n",
      "{'alpha': 0.4614884220851311, 'estimator': 0}\n",
      "100%|████████████████████████████████████████████████| 100/100 [00:00<00:00, 180.66it/s, best loss: 0.4060673240082543]\n",
      "{'alpha': 0.2668982242193046, 'estimator': 0}\n",
      "100%|████████████████████████████████████████████████| 100/100 [00:00<00:00, 165.46it/s, best loss: 0.3895465008640667]\n",
      "{'alpha': 0.6198565364132926, 'estimator': 0}\n",
      "100%|█████████████████████████████████████████████████| 100/100 [00:00<00:00, 175.28it/s, best loss: 0.490895587781549]\n",
      "{'alpha': 0.8952534141653944, 'estimator': 0}\n",
      "100%|███████████████████████████████████████████████| 100/100 [00:00<00:00, 185.34it/s, best loss: 0.49318598081338383]\n",
      "{'alpha': 0.18266344028346052, 'estimator': 0}\n",
      "100%|████████████████████████████████████████████████| 100/100 [00:00<00:00, 185.68it/s, best loss: 0.4325535979415492]\n",
      "{'alpha': 0.3720773379316087, 'estimator': 0}\n",
      "100%|████████████████████████████████████████████████| 100/100 [00:00<00:00, 183.63it/s, best loss: 0.5318723389410319]\n",
      "{'alpha': 0.2161388062486087, 'estimator': 0}\n",
      "100%|█████████████████████████████████████████████████| 100/100 [00:00<00:00, 187.07it/s, best loss: 0.608277171275739]\n",
      "{'alpha': 0.16891322790028934, 'estimator': 0}\n",
      "100%|████████████████████████████████████████████████| 100/100 [00:00<00:00, 178.10it/s, best loss: 0.4519724426922553]\n",
      "{'alpha': 0.8184036406247454, 'estimator': 0}\n",
      "100%|████████████████████████████████████████████████| 100/100 [00:00<00:00, 190.26it/s, best loss: 0.5377970848254333]\n",
      "{'alpha': 0.38367068797471215, 'estimator': 0}\n",
      "100%|████████████████████████████████████████████████| 100/100 [00:00<00:00, 182.97it/s, best loss: 0.5002881744213774]\n",
      "{'alpha': 0.6647639746833, 'estimator': 0}\n",
      "100%|████████████████████████████████████████████████| 100/100 [00:00<00:00, 183.97it/s, best loss: 0.4687837803384697]\n",
      "{'alpha': 0.5760703364492521, 'estimator': 0}\n",
      "100%|███████████████████████████████████████████████| 100/100 [00:00<00:00, 188.83it/s, best loss: 0.47403182925105264]\n",
      "{'alpha': 0.2873527424926306, 'estimator': 0}\n",
      "100%|████████████████████████████████████████████████| 100/100 [00:00<00:00, 184.65it/s, best loss: 0.4960566727824163]\n",
      "{'alpha': 0.3573000008471141, 'estimator': 0}\n",
      "100%|████████████████████████████████████████████████| 100/100 [00:00<00:00, 170.52it/s, best loss: 0.4892267615479925]\n",
      "{'alpha': 0.10621516978329959, 'estimator': 0}\n",
      "100%|███████████████████████████████████████████████| 100/100 [00:00<00:00, 136.98it/s, best loss: 0.46249369639279997]\n",
      "{'alpha': 0.1108953272473392, 'estimator': 0, 'l1_ratio': 0.11298171716776953}\n",
      "100%|████████████████████████████████████████████████| 100/100 [00:00<00:00, 154.50it/s, best loss: 0.5382624499437393]\n",
      "{'alpha': 0.8691779941008809, 'estimator': 0, 'l1_ratio': 0.24818374016104042}\n",
      "100%|████████████████████████████████████████████████| 100/100 [00:00<00:00, 146.80it/s, best loss: 0.5831068591797459]\n",
      "{'alpha': 0.5219626353853831, 'estimator': 0, 'l1_ratio': 0.5201240702998996}\n",
      "100%|█████████████████████████████████████████████████| 100/100 [00:00<00:00, 140.43it/s, best loss: 0.473108363868616]\n",
      "{'alpha': 0.11336730150963935, 'estimator': 0, 'l1_ratio': 0.21915648526578063}\n",
      "100%|████████████████████████████████████████████████| 100/100 [00:00<00:00, 147.02it/s, best loss: 0.4824873731301857]\n",
      "{'alpha': 0.10034926587895655, 'estimator': 0, 'l1_ratio': 0.1014418576052598}\n",
      "100%|████████████████████████████████████████████████| 100/100 [00:00<00:00, 140.23it/s, best loss: 0.4507212321643383]\n",
      "{'alpha': 0.10456789062556147, 'estimator': 0, 'l1_ratio': 0.10484246599714286}\n",
      "100%|████████████████████████████████████████████████| 100/100 [00:00<00:00, 145.31it/s, best loss: 0.4779601335897643]\n",
      "{'alpha': 0.12637016481076868, 'estimator': 0, 'l1_ratio': 0.1284977821660771}\n",
      "100%|████████████████████████████████████████████████| 100/100 [00:00<00:00, 155.69it/s, best loss: 0.3517778199550658]\n",
      "{'alpha': 0.1008544130921888, 'estimator': 0, 'l1_ratio': 0.10064463734284408}\n",
      "100%|████████████████████████████████████████████████| 100/100 [00:00<00:00, 123.03it/s, best loss: 0.3545827349326821]\n",
      "{'alpha': 0.100603186798671, 'estimator': 0, 'l1_ratio': 0.11806520433358844}\n",
      "100%|████████████████████████████████████████████████| 100/100 [00:00<00:00, 141.41it/s, best loss: 0.4005296122718058]\n",
      "{'alpha': 0.10087409986438123, 'estimator': 0, 'l1_ratio': 0.12003981364495413}\n",
      "100%|███████████████████████████████████████████████| 100/100 [00:00<00:00, 155.45it/s, best loss: 0.49398939639796546]\n",
      "{'alpha': 0.11299750784706039, 'estimator': 0, 'l1_ratio': 0.10084562788410084}\n",
      "100%|████████████████████████████████████████████████| 100/100 [00:00<00:00, 148.32it/s, best loss: 0.4528498548497667]\n",
      "{'alpha': 0.10023182928313477, 'estimator': 0, 'l1_ratio': 0.2545314346850046}\n",
      "100%|████████████████████████████████████████████████| 100/100 [00:00<00:00, 143.44it/s, best loss: 0.4346693141243039]\n",
      "{'alpha': 0.10861489075702349, 'estimator': 0, 'l1_ratio': 0.1012244918842762}\n",
      "100%|████████████████████████████████████████████████| 100/100 [00:00<00:00, 140.24it/s, best loss: 0.3737128634600864]\n",
      "{'alpha': 0.10209984168783814, 'estimator': 0, 'l1_ratio': 0.13575489664111506}\n",
      "100%|████████████████████████████████████████████████| 100/100 [00:00<00:00, 139.84it/s, best loss: 0.4559038251840587]\n",
      "{'alpha': 0.1034031196684079, 'estimator': 0, 'l1_ratio': 0.1548438913449921}\n",
      "100%|████████████████████████████████████████████████| 100/100 [00:00<00:00, 130.73it/s, best loss: 0.5052074281738677]\n",
      "{'alpha': 0.8964604455769652, 'estimator': 0, 'l1_ratio': 0.1456022134494563}\n",
      "100%|████████████████████████████████████████████████| 100/100 [00:00<00:00, 147.02it/s, best loss: 0.5644833807476787]\n",
      "{'alpha': 0.24885848222219603, 'estimator': 0, 'l1_ratio': 0.1196835972279402}\n",
      "100%|███████████████████████████████████████████████| 100/100 [00:00<00:00, 140.63it/s, best loss: 0.35509695146816644]\n",
      "{'alpha': 0.10448781918827343, 'estimator': 0, 'l1_ratio': 0.11010795794950466}\n",
      "100%|████████████████████████████████████████████████| 100/100 [00:00<00:00, 145.53it/s, best loss: 0.5084558052529319]\n",
      "{'alpha': 0.10059418974681208, 'estimator': 0, 'l1_ratio': 0.10065676450587516}\n",
      "100%|████████████████████████████████████████████████| 100/100 [00:00<00:00, 152.61it/s, best loss: 0.5712150342011177]\n",
      "{'alpha': 0.1328544606939805, 'estimator': 0, 'l1_ratio': 0.10513660890679542}\n"
     ]
    },
    {
     "name": "stdout",
     "output_type": "stream",
     "text": [
      "100%|█████████████████████████████████████████████████| 100/100 [00:00<00:00, 141.82it/s, best loss: 0.406080590898951]\n",
      "{'alpha': 0.11724087624648441, 'estimator': 0, 'l1_ratio': 0.10014468916023511}\n",
      "100%|████████████████████████████████████████████████| 100/100 [00:00<00:00, 149.65it/s, best loss: 0.5400914112287845]\n",
      "{'alpha': 0.10115455029641587, 'estimator': 0, 'l1_ratio': 0.18279663278567684}\n",
      "100%|███████████████████████████████████████████████| 100/100 [00:00<00:00, 142.43it/s, best loss: 0.36736250643825363]\n",
      "{'alpha': 0.10046293438330528, 'estimator': 0, 'l1_ratio': 0.10766288349525863}\n",
      "100%|████████████████████████████████████████████████| 100/100 [00:00<00:00, 132.80it/s, best loss: 0.4530080859503379]\n",
      "{'alpha': 0.10378289878112076, 'estimator': 0, 'l1_ratio': 0.2319218675474021}\n",
      "100%|███████████████████████████████████████████████| 100/100 [00:00<00:00, 150.09it/s, best loss: 0.39580488783453793]\n",
      "{'alpha': 0.10025065726398988, 'estimator': 0, 'l1_ratio': 0.24162824479627187}\n",
      "100%|███████████████████████████████████████████████| 100/100 [00:00<00:00, 144.06it/s, best loss: 0.48286532309077684]\n",
      "{'alpha': 0.12142563697826615, 'estimator': 0, 'l1_ratio': 0.12244073407064086}\n",
      "100%|████████████████████████████████████████████████| 100/100 [00:00<00:00, 141.02it/s, best loss: 0.4410594865179659]\n",
      "{'alpha': 0.755734071694768, 'estimator': 0, 'l1_ratio': 0.5378924350691288}\n",
      "100%|████████████████████████████████████████████████| 100/100 [00:00<00:00, 140.63it/s, best loss: 0.5921623281490601]\n",
      "{'alpha': 0.19966351085436174, 'estimator': 0, 'l1_ratio': 0.7659187430038901}\n",
      "100%|████████████████████████████████████████████████| 100/100 [00:00<00:00, 154.02it/s, best loss: 0.4915249139216491]\n",
      "{'alpha': 0.10330141434188898, 'estimator': 0, 'l1_ratio': 0.1405291321250742}\n",
      "100%|███████████████████████████████████████████████| 100/100 [00:00<00:00, 134.23it/s, best loss: 0.46693785647915753]\n",
      "{'alpha': 0.6965459828351311, 'estimator': 0, 'l1_ratio': 0.852873425497166}\n",
      "100%|███████████████████████████████████████████████| 100/100 [00:00<00:00, 150.10it/s, best loss: 0.46801794737633895]\n",
      "{'alpha': 0.5585215407144365, 'estimator': 0, 'l1_ratio': 0.6495059374308962}\n",
      "100%|████████████████████████████████████████████████| 100/100 [00:00<00:00, 129.04it/s, best loss: 0.4737838235310149]\n",
      "{'alpha': 0.5225322885525419, 'estimator': 0, 'l1_ratio': 0.6646003733609851}\n",
      "100%|████████████████████████████████████████████████| 100/100 [00:00<00:00, 145.74it/s, best loss: 0.5280554537925233]\n",
      "{'alpha': 0.8579045075224995, 'estimator': 0, 'l1_ratio': 0.34011214547478447}\n",
      "100%|███████████████████████████████████████████████| 100/100 [00:00<00:00, 147.24it/s, best loss: 0.40378170400078556]\n",
      "{'alpha': 0.8647505171648353, 'estimator': 0, 'l1_ratio': 0.35659820014319676}\n",
      "100%|████████████████████████████████████████████████| 100/100 [00:00<00:00, 149.42it/s, best loss: 0.5131364312635174]\n",
      "{'alpha': 0.6977242231790869, 'estimator': 0, 'l1_ratio': 0.5638816023530357}\n",
      "100%|████████████████████████████████████████████████| 100/100 [00:00<00:00, 138.88it/s, best loss: 0.5033312480565807]\n",
      "{'alpha': 0.2716562972547102, 'estimator': 0, 'l1_ratio': 0.13656873170592132}\n",
      "100%|████████████████████████████████████████████████| 100/100 [00:00<00:00, 149.43it/s, best loss: 0.4994634643544176]\n",
      "{'alpha': 0.5035827189568521, 'estimator': 0, 'l1_ratio': 0.8027173189880226}\n",
      "100%|███████████████████████████████████████████████| 100/100 [00:00<00:00, 152.61it/s, best loss: 0.46359003488341655]\n",
      "{'alpha': 0.4008866621477496, 'estimator': 0, 'l1_ratio': 0.4627960559943475}\n",
      "100%|█████████████████████████████████████████████████| 100/100 [00:00<00:00, 139.07it/s, best loss: 0.589235981948985]\n",
      "{'alpha': 0.54977675992708, 'estimator': 0, 'l1_ratio': 0.1758251731439928}\n",
      "100%|████████████████████████████████████████████████| 100/100 [00:00<00:00, 153.08it/s, best loss: 0.6001525534981536]\n",
      "{'alpha': 0.10028561252908123, 'estimator': 0, 'l1_ratio': 0.10953984243116349}\n",
      "100%|████████████████████████████████████████████████| 100/100 [00:00<00:00, 151.69it/s, best loss: 0.5956957692400058]\n",
      "{'alpha': 0.12800155996602444, 'estimator': 0, 'l1_ratio': 0.10557548607613022}\n",
      "100%|████████████████████████████████████████████████| 100/100 [00:00<00:00, 145.10it/s, best loss: 0.5361303502613086]\n",
      "{'alpha': 0.1002743888237306, 'estimator': 0, 'l1_ratio': 0.24236911126183674}\n",
      "100%|████████████████████████████████████████████████| 100/100 [00:00<00:00, 153.78it/s, best loss: 0.5259232013417079]\n",
      "{'alpha': 0.10274439293942364, 'estimator': 0, 'l1_ratio': 0.1679315559169966}\n",
      "100%|████████████████████████████████████████████████| 100/100 [00:00<00:00, 149.65it/s, best loss: 0.6583067633558848]\n",
      "{'alpha': 0.8079051933297777, 'estimator': 0, 'l1_ratio': 0.8388751588764958}\n",
      "100%|███████████████████████████████████████████████| 100/100 [00:00<00:00, 148.99it/s, best loss: 0.46732606934700194]\n",
      "{'alpha': 0.10107466826388567, 'estimator': 0, 'l1_ratio': 0.10054512114961535}\n",
      "100%|████████████████████████████████████████████████| 100/100 [00:00<00:00, 151.69it/s, best loss: 0.5642129277046037]\n",
      "{'alpha': 0.2292021131909369, 'estimator': 0, 'l1_ratio': 0.7700476943964342}\n",
      "100%|████████████████████████████████████████████████| 100/100 [00:00<00:00, 145.95it/s, best loss: 0.5074311909326529]\n",
      "{'alpha': 0.11742931337689647, 'estimator': 0, 'l1_ratio': 0.10500768522790088}\n",
      "100%|████████████████████████████████████████████████| 100/100 [00:00<00:00, 151.01it/s, best loss: 0.5656589257064366]\n",
      "{'alpha': 0.7287244285024278, 'estimator': 0, 'l1_ratio': 0.6880284079594151}\n",
      "100%|████████████████████████████████████████████████| 100/100 [00:00<00:00, 144.69it/s, best loss: 0.5149435587424901]\n",
      "{'alpha': 0.1178742896542122, 'estimator': 0, 'l1_ratio': 0.16248543414932232}\n",
      "100%|████████████████████████████████████████████████| 100/100 [00:00<00:00, 147.89it/s, best loss: 0.5920605695149733]\n",
      "{'alpha': 0.8937454819165281, 'estimator': 0, 'l1_ratio': 0.6960070862209544}\n",
      "100%|████████████████████████████████████████████████| 100/100 [00:00<00:00, 145.74it/s, best loss: 0.4286971933839893]\n",
      "{'alpha': 0.12494490343669025, 'estimator': 0, 'l1_ratio': 0.180908000884189}\n",
      "100%|███████████████████████████████████████████████| 100/100 [00:00<00:00, 147.88it/s, best loss: 0.41304980384976364]\n",
      "{'alpha': 0.10136968222882523, 'estimator': 0, 'l1_ratio': 0.10101770360531324}\n",
      "100%|████████████████████████████████████████████████| 100/100 [00:00<00:00, 163.30it/s, best loss: 0.5281811088791276]\n",
      "{'alpha': 0.5571523120915138, 'estimator': 0, 'l1_ratio': 0.5534977620840008}\n",
      "100%|████████████████████████████████████████████████| 100/100 [00:00<00:00, 132.27it/s, best loss: 0.4100960647832057]\n",
      "{'alpha': 0.10035746727993636, 'estimator': 0, 'l1_ratio': 0.10243390963016143}\n",
      "100%|████████████████████████████████████████████████| 100/100 [00:00<00:00, 144.27it/s, best loss: 0.6071949396918978]\n",
      "{'alpha': 0.8114713557537453, 'estimator': 0, 'l1_ratio': 0.20385031577024187}\n",
      "100%|████████████████████████████████████████████████| 100/100 [00:00<00:00, 141.62it/s, best loss: 0.5447156434518188]\n",
      "{'alpha': 0.10427504114978463, 'estimator': 0, 'l1_ratio': 0.1205222987584686}\n",
      "100%|████████████████████████████████████████████████| 100/100 [00:00<00:00, 146.16it/s, best loss: 0.5174924762292847]\n",
      "{'alpha': 0.11498822195572496, 'estimator': 0, 'l1_ratio': 0.1375778154083518}\n",
      "100%|████████████████████████████████████████████████| 100/100 [00:00<00:00, 146.38it/s, best loss: 0.5746649067028115]\n",
      "{'alpha': 0.11332343507977359, 'estimator': 0, 'l1_ratio': 0.13900938117373798}\n",
      "100%|████████████████████████████████████████████████| 100/100 [00:00<00:00, 154.01it/s, best loss: 0.4917592994450168]\n",
      "{'alpha': 0.11663816934660326, 'estimator': 0, 'l1_ratio': 0.10016106212856402}\n",
      "100%|███████████████████████████████████████████████| 100/100 [00:00<00:00, 146.80it/s, best loss: 0.44819824664113816]\n",
      "{'alpha': 0.10046737104195354, 'estimator': 0, 'l1_ratio': 0.11855727973210996}\n",
      "100%|████████████████████████████████████████████████| 100/100 [00:00<00:00, 155.21it/s, best loss: 0.5085017676768978]\n",
      "{'alpha': 0.10058156960672589, 'estimator': 0, 'l1_ratio': 0.10108868571245283}\n"
     ]
    },
    {
     "name": "stdout",
     "output_type": "stream",
     "text": [
      "100%|█████████████████████████████████████████████████| 100/100 [00:00<00:00, 141.22it/s, best loss: 0.584099949401736]\n",
      "{'alpha': 0.10433795819353343, 'estimator': 0, 'l1_ratio': 0.1062942133611806}\n",
      "100%|████████████████████████████████████████████████| 100/100 [00:00<00:00, 144.48it/s, best loss: 0.5020519876964968]\n",
      "{'alpha': 0.10593626127179577, 'estimator': 0, 'l1_ratio': 0.10024220459342786}\n",
      "100%|███████████████████████████████████████████████| 100/100 [00:00<00:00, 151.01it/s, best loss: 0.48829440720006734]\n",
      "{'alpha': 0.13701535778754287, 'estimator': 0, 'l1_ratio': 0.811207235589162}\n",
      "100%|████████████████████████████████████████████████| 100/100 [00:00<00:00, 142.01it/s, best loss: 0.5698233236060328]\n",
      "{'alpha': 0.10812891383050557, 'estimator': 0, 'l1_ratio': 0.10016558149698374}\n",
      "100%|████████████████████████████████████████████████| 100/100 [00:00<00:00, 153.08it/s, best loss: 0.4139973480979774]\n",
      "{'alpha': 0.567120585127692, 'estimator': 0, 'l1_ratio': 0.6784533042344056}\n",
      "100%|████████████████████████████████████████████████| 100/100 [00:00<00:00, 154.49it/s, best loss: 0.4141630810484878]\n",
      "{'alpha': 0.8506492664018864, 'estimator': 0, 'l1_ratio': 0.300521484144597}\n",
      "100%|███████████████████████████████████████████████| 100/100 [00:00<00:00, 152.85it/s, best loss: 0.42208935277962917]\n",
      "{'alpha': 0.6957681739038744, 'estimator': 0, 'l1_ratio': 0.14741355576155668}\n",
      "100%|████████████████████████████████████████████████| 100/100 [00:00<00:00, 153.08it/s, best loss: 0.5149338159482291]\n",
      "{'alpha': 0.7266037520054388, 'estimator': 0, 'l1_ratio': 0.6755640758540005}\n",
      "100%|████████████████████████████████████████████████| 100/100 [00:00<00:00, 134.96it/s, best loss: 0.5432094901023403]\n",
      "{'alpha': 0.22395064443725232, 'estimator': 0, 'l1_ratio': 0.3569378645703071}\n",
      "100%|███████████████████████████████████████████████| 100/100 [00:00<00:00, 157.16it/s, best loss: 0.43786290610467415]\n",
      "{'alpha': 0.7997242772020734, 'estimator': 0, 'l1_ratio': 0.47020975864368475}\n",
      "100%|████████████████████████████████████████████████| 100/100 [00:00<00:00, 140.82it/s, best loss: 0.5478863115471653]\n",
      "{'alpha': 0.8361899865225204, 'estimator': 0, 'l1_ratio': 0.3673090803976867}\n",
      "100%|████████████████████████████████████████████████| 100/100 [00:00<00:00, 129.71it/s, best loss: 0.5695415920051978]\n",
      "{'alpha': 0.3990120260236021, 'estimator': 0, 'l1_ratio': 0.7560505634789905}\n",
      "100%|████████████████████████████████████████████████| 100/100 [00:00<00:00, 132.10it/s, best loss: 0.5003817195283589]\n",
      "{'alpha': 0.4823050248520103, 'estimator': 0, 'l1_ratio': 0.12893014736280659}\n",
      "100%|████████████████████████████████████████████████| 100/100 [00:00<00:00, 149.43it/s, best loss: 0.5270527783222849]\n",
      "{'alpha': 0.7536914465402863, 'estimator': 0, 'l1_ratio': 0.40626134201269515}\n",
      "100%|███████████████████████████████████████████████| 100/100 [00:00<00:00, 150.78it/s, best loss: 0.47906738421019407]\n",
      "{'alpha': 0.6153003331534664, 'estimator': 0, 'l1_ratio': 0.7099307952076568}\n",
      "100%|████████████████████████████████████████████████| 100/100 [00:00<00:00, 152.15it/s, best loss: 0.4012324444014771]\n",
      "{'alpha': 0.4614404468427099, 'estimator': 0, 'l1_ratio': 0.7390904633542091}\n",
      "100%|███████████████████████████████████████████████| 100/100 [00:00<00:00, 134.95it/s, best loss: 0.41528636668886676]\n",
      "{'alpha': 0.32618889658082184, 'estimator': 0, 'l1_ratio': 0.2797368931408405}\n",
      "100%|████████████████████████████████████████████████| 100/100 [00:00<00:00, 148.99it/s, best loss: 0.4659725124855907]\n",
      "{'alpha': 0.5805156212356302, 'estimator': 0, 'l1_ratio': 0.5680364304430555}\n",
      "100%|█████████████████████████████████████████████████| 100/100 [00:00<00:00, 151.92it/s, best loss: 0.388706650220307]\n",
      "{'alpha': 0.2053313678956557, 'estimator': 0, 'l1_ratio': 0.5129326038888683}\n",
      "100%|████████████████████████████████████████████████| 100/100 [00:00<00:00, 142.63it/s, best loss: 0.4133510387344311]\n",
      "{'alpha': 0.10298902699119164, 'estimator': 0, 'l1_ratio': 0.16928145375029358}\n",
      "100%|███████████████████████████████████████████████| 100/100 [00:00<00:00, 141.42it/s, best loss: 0.44733415837816554]\n",
      "{'alpha': 0.1025594260420783, 'estimator': 0, 'l1_ratio': 0.11192731398076505}\n",
      "100%|███████████████████████████████████████████████| 100/100 [00:00<00:00, 150.78it/s, best loss: 0.47734212532687414]\n",
      "{'alpha': 0.10265306499818758, 'estimator': 0, 'l1_ratio': 0.14522409438197675}\n",
      "100%|████████████████████████████████████████████████| 100/100 [00:00<00:00, 147.67it/s, best loss: 0.4283029771329102]\n",
      "{'alpha': 0.8269743470937987, 'estimator': 0, 'l1_ratio': 0.4769004493866298}\n",
      "100%|███████████████████████████████████████████████| 100/100 [00:00<00:00, 133.87it/s, best loss: 0.44756109306100555]\n",
      "{'alpha': 0.10991181886404605, 'estimator': 0, 'l1_ratio': 0.12028080735591731}\n",
      "100%|████████████████████████████████████████████████| 100/100 [00:00<00:00, 151.01it/s, best loss: 0.5936708138228685]\n",
      "{'alpha': 0.10163686628793683, 'estimator': 0, 'l1_ratio': 0.17079431895248037}\n",
      "100%|████████████████████████████████████████████████| 100/100 [00:00<00:00, 149.87it/s, best loss: 0.4604525293805218]\n",
      "{'alpha': 0.1067585525424446, 'estimator': 0, 'l1_ratio': 0.17615716799973152}\n",
      "100%|████████████████████████████████████████████████| 100/100 [00:00<00:00, 143.44it/s, best loss: 0.5073157453232051]\n",
      "{'alpha': 0.10260887853170751, 'estimator': 0, 'l1_ratio': 0.12121396199033324}\n",
      "100%|████████████████████████████████████████████████| 100/100 [00:00<00:00, 151.92it/s, best loss: 0.6708415647708983]\n",
      "{'alpha': 0.854569162013974, 'estimator': 0, 'l1_ratio': 0.6277428541886686}\n",
      "100%|████████████████████████████████████████████████| 100/100 [00:00<00:00, 148.32it/s, best loss: 0.5723717873271799]\n",
      "{'alpha': 0.5149317272679004, 'estimator': 0, 'l1_ratio': 0.10123075414238472}\n",
      "100%|██████████████████████████████████████████████████| 100/100 [00:00<00:00, 150.33it/s, best loss: 0.57086943651867]\n",
      "{'alpha': 0.8815769199053882, 'estimator': 0, 'l1_ratio': 0.4737704750899546}\n",
      "100%|███████████████████████████████████████████████| 100/100 [00:00<00:00, 155.69it/s, best loss: 0.48285352054560515]\n",
      "{'alpha': 0.10186771987712723, 'estimator': 0, 'l1_ratio': 0.1450322959684192}\n",
      "100%|████████████████████████████████████████████████| 100/100 [00:00<00:00, 132.63it/s, best loss: 0.4712707644731904]\n",
      "{'alpha': 0.11007834810598528, 'estimator': 0, 'l1_ratio': 0.10228820124689192}\n",
      "100%|███████████████████████████████████████████████| 100/100 [00:00<00:00, 148.76it/s, best loss: 0.48726095758895627]\n",
      "{'alpha': 0.11810828539637169, 'estimator': 0, 'l1_ratio': 0.11288268037539739}\n",
      "100%|████████████████████████████████████████████████| 100/100 [00:00<00:00, 148.99it/s, best loss: 0.5452791611083461]\n",
      "{'alpha': 0.8738425191303133, 'estimator': 0, 'l1_ratio': 0.11563512323240675}\n",
      "100%|█████████████████████████████████████████████████| 100/100 [00:00<00:00, 148.11it/s, best loss: 0.582420590011614]\n",
      "{'alpha': 0.2456322742464675, 'estimator': 0, 'l1_ratio': 0.41187666967068903}\n",
      "100%|███████████████████████████████████████████████| 100/100 [00:00<00:00, 154.97it/s, best loss: 0.41016287078463276]\n",
      "{'alpha': 0.37959058340722673, 'estimator': 0, 'l1_ratio': 0.794154835613351}\n",
      "100%|████████████████████████████████████████████████| 100/100 [00:00<00:00, 143.65it/s, best loss: 0.5105134756786553]\n",
      "{'alpha': 0.39872730914112775, 'estimator': 0, 'l1_ratio': 0.18706097657840548}\n",
      "100%|████████████████████████████████████████████████| 100/100 [00:00<00:00, 154.26it/s, best loss: 0.4287223069325615]\n",
      "{'alpha': 0.6947477117685043, 'estimator': 0, 'l1_ratio': 0.5674820085910047}\n",
      "100%|████████████████████████████████████████████████| 100/100 [00:00<00:00, 135.86it/s, best loss: 0.5255384084618019]\n",
      "{'alpha': 0.6564133207674475, 'estimator': 0, 'l1_ratio': 0.6197507326524241}\n",
      "100%|███████████████████████████████████████████████| 100/100 [00:00<00:00, 145.74it/s, best loss: 0.48940296634756797]\n",
      "{'alpha': 0.11755782826249857, 'estimator': 0, 'l1_ratio': 0.15369413448355446}\n",
      "100%|████████████████████████████████████████████████| 100/100 [00:00<00:00, 143.65it/s, best loss: 0.5075078310969303]\n",
      "{'alpha': 0.10252822576871778, 'estimator': 0, 'l1_ratio': 0.16226333274593271}\n"
     ]
    },
    {
     "name": "stdout",
     "output_type": "stream",
     "text": [
      "100%|████████████████████████████████████████████████| 100/100 [00:00<00:00, 149.43it/s, best loss: 0.4420780115335823]\n",
      "{'alpha': 0.10000760239946276, 'estimator': 0, 'l1_ratio': 0.12300307228336713}\n",
      "100%|███████████████████████████████████████████████| 100/100 [00:00<00:00, 154.26it/s, best loss: 0.45501493363120216]\n",
      "{'alpha': 0.10251883898691215, 'estimator': 0, 'l1_ratio': 0.10120575246409308}\n",
      "100%|████████████████████████████████████████████████| 100/100 [00:00<00:00, 155.21it/s, best loss: 0.5792833281150467]\n",
      "{'alpha': 0.8059842127672304, 'estimator': 0, 'l1_ratio': 0.6501426783512829}\n",
      "100%|████████████████████████████████████████████████| 100/100 [00:00<00:00, 148.99it/s, best loss: 0.5206813591375945]\n",
      "{'alpha': 0.4041464938873277, 'estimator': 0, 'l1_ratio': 0.44490375116078107}\n",
      "100%|█████████████████████████████████████████████████| 100/100 [00:00<00:00, 149.65it/s, best loss: 0.488797625712882]\n",
      "{'alpha': 0.10016658628905659, 'estimator': 0, 'l1_ratio': 0.10148338638635028}\n",
      "100%|████████████████████████████████████████████████| 100/100 [00:00<00:00, 144.27it/s, best loss: 0.6106740812802568]\n",
      "{'alpha': 0.7204228843222011, 'estimator': 0, 'l1_ratio': 0.5342037183458456}\n",
      "100%|███████████████████████████████████████████████| 100/100 [00:00<00:00, 143.64it/s, best loss: 0.43639134154455395]\n",
      "{'alpha': 0.10231493210351639, 'estimator': 0, 'l1_ratio': 0.20170887949554328}\n",
      "100%|████████████████████████████████████████████████| 100/100 [00:00<00:00, 148.32it/s, best loss: 0.3816836053433892]\n",
      "{'alpha': 0.10024370433346269, 'estimator': 0, 'l1_ratio': 0.12894627939697106}\n",
      "100%|████████████████████████████████████████████████| 100/100 [00:00<00:00, 142.43it/s, best loss: 0.4842502501366545]\n",
      "{'alpha': 0.10251170087502516, 'estimator': 0, 'l1_ratio': 0.10220060176071775}\n",
      "100%|████████████████████████████████████████████████| 100/100 [00:00<00:00, 139.84it/s, best loss: 0.4330972951374305]\n",
      "{'alpha': 0.10146299449284821, 'estimator': 0, 'l1_ratio': 0.11884733336792307}\n",
      "100%|███████████████████████████████████████████████| 100/100 [00:00<00:00, 149.43it/s, best loss: 0.46125449722970413]\n",
      "{'alpha': 0.10170916432927164, 'estimator': 0, 'l1_ratio': 0.12595154428314825}\n",
      "100%|████████████████████████████████████████████████| 100/100 [00:00<00:00, 147.67it/s, best loss: 0.5904505730890319]\n",
      "{'alpha': 0.10412343235794826, 'estimator': 0, 'l1_ratio': 0.2461418571562253}\n",
      "100%|████████████████████████████████████████████████| 100/100 [00:00<00:00, 148.99it/s, best loss: 0.5981126720284096]\n",
      "{'alpha': 0.1719635963355621, 'estimator': 0, 'l1_ratio': 0.1844166297911533}\n",
      "100%|███████████████████████████████████████████████| 100/100 [00:00<00:00, 135.68it/s, best loss: 0.47532418124347386]\n",
      "{'alpha': 0.12100042900871366, 'estimator': 0, 'l1_ratio': 0.1076114823342908}\n",
      "100%|████████████████████████████████████████████████| 100/100 [00:00<00:00, 154.25it/s, best loss: 0.4886775015159015]\n",
      "{'alpha': 0.2850058396939569, 'estimator': 0, 'l1_ratio': 0.3808188221011919}\n",
      "100%|████████████████████████████████████████████████| 100/100 [00:00<00:00, 142.83it/s, best loss: 0.5218290858815628]\n",
      "{'alpha': 0.100563653560807, 'estimator': 0, 'l1_ratio': 0.17966741729209973}\n",
      "100%|████████████████████████████████████████████████| 100/100 [00:00<00:00, 151.46it/s, best loss: 0.5212408486911471]\n",
      "{'alpha': 0.10252049927598048, 'estimator': 0, 'l1_ratio': 0.10280909542623576}\n",
      "100%|████████████████████████████████████████████████| 100/100 [00:00<00:00, 152.38it/s, best loss: 0.6072761345155822]\n",
      "{'alpha': 0.16844969081965522, 'estimator': 0, 'l1_ratio': 0.26730133164184705}\n",
      "100%|████████████████████████████████████████████████| 100/100 [00:00<00:00, 139.65it/s, best loss: 0.5363290532086451]\n",
      "{'alpha': 0.10070353841409252, 'estimator': 0, 'l1_ratio': 0.16456517477696314}\n",
      "100%|████████████████████████████████████████████████| 100/100 [00:00<00:00, 149.65it/s, best loss: 0.6191885583483584]\n",
      "{'alpha': 0.6910465099541683, 'estimator': 0, 'l1_ratio': 0.6648443646470348}\n",
      "100%|████████████████████████████████████████████████| 100/100 [00:00<00:00, 155.45it/s, best loss: 0.5419724341970311]\n",
      "{'alpha': 0.16649816539369788, 'estimator': 0, 'l1_ratio': 0.10184693419214268}\n",
      "100%|████████████████████████████████████████████████| 100/100 [00:00<00:00, 133.51it/s, best loss: 0.5311959856827642]\n",
      "{'alpha': 0.10028539733725984, 'estimator': 0, 'l1_ratio': 0.10122710267569451}\n",
      "100%|████████████████████████████████████████████████| 100/100 [00:00<00:00, 149.21it/s, best loss: 0.4126149879172648]\n",
      "{'alpha': 0.10109183144412603, 'estimator': 0, 'l1_ratio': 0.12054801713691067}\n",
      "100%|████████████████████████████████████████████████| 100/100 [00:00<00:00, 139.26it/s, best loss: 0.5050329079317241]\n",
      "{'alpha': 0.12431196545978486, 'estimator': 0, 'l1_ratio': 0.13043129338540654}\n",
      "100%|████████████████████████████████████████████████| 100/100 [00:00<00:00, 147.24it/s, best loss: 0.5392546298580992]\n",
      "{'alpha': 0.11308134116535237, 'estimator': 0, 'l1_ratio': 0.17520052175176276}\n",
      "100%|████████████████████████████████████████████████| 100/100 [00:00<00:00, 145.74it/s, best loss: 0.4406942727841169]\n",
      "{'alpha': 0.10106345555244897, 'estimator': 0, 'l1_ratio': 0.10182806298090574}\n",
      "100%|████████████████████████████████████████████████| 100/100 [00:00<00:00, 145.53it/s, best loss: 0.4024154413760335]\n",
      "{'alpha': 0.10950508187246928, 'estimator': 0, 'l1_ratio': 0.10082975397297128}\n",
      "100%|████████████████████████████████████████████████| 100/100 [00:00<00:00, 142.83it/s, best loss: 0.4207962735339743]\n",
      "{'alpha': 0.11530220693882381, 'estimator': 0, 'l1_ratio': 0.32101323996447495}\n",
      "100%|███████████████████████████████████████████████| 100/100 [00:00<00:00, 134.04it/s, best loss: 0.47030440676559626]\n",
      "{'alpha': 0.10524429758951657, 'estimator': 0, 'l1_ratio': 0.1608793283097197}\n",
      "100%|████████████████████████████████████████████████| 100/100 [00:00<00:00, 159.15it/s, best loss: 0.5553786543905908]\n",
      "{'alpha': 0.6674208735159463, 'estimator': 0, 'l1_ratio': 0.7545988307128935}\n",
      "100%|████████████████████████████████████████████████| 100/100 [00:00<00:00, 148.76it/s, best loss: 0.5494501948951794]\n",
      "{'alpha': 0.24183619677899948, 'estimator': 0, 'l1_ratio': 0.7818718495356344}\n",
      "100%|████████████████████████████████████████████████| 100/100 [00:00<00:00, 150.78it/s, best loss: 0.5569436000713512]\n",
      "{'alpha': 0.12104976301294812, 'estimator': 0, 'l1_ratio': 0.15195078065690693}\n",
      "100%|████████████████████████████████████████████████| 100/100 [00:00<00:00, 146.59it/s, best loss: 0.5371042352403549]\n",
      "{'alpha': 0.396475011802903, 'estimator': 0, 'l1_ratio': 0.7603895493727604}\n",
      "100%|████████████████████████████████████████████████| 100/100 [00:00<00:00, 151.92it/s, best loss: 0.6104950124906825]\n",
      "{'alpha': 0.3461291724769503, 'estimator': 0, 'l1_ratio': 0.2882799121944818}\n",
      "100%|████████████████████████████████████████████████| 100/100 [00:00<00:00, 148.98it/s, best loss: 0.5154940048250195]\n",
      "{'alpha': 0.14862241542380003, 'estimator': 0, 'l1_ratio': 0.36007085313735987}\n",
      "100%|███████████████████████████████████████████████| 100/100 [00:00<00:00, 157.65it/s, best loss: 0.44909102003551904]\n",
      "{'alpha': 0.3588548285965367, 'estimator': 0, 'l1_ratio': 0.30000282520381705}\n",
      "100%|████████████████████████████████████████████████| 100/100 [00:00<00:00, 132.45it/s, best loss: 0.5546922552112257]\n",
      "{'alpha': 0.11474496525446948, 'estimator': 0, 'l1_ratio': 0.10031937170370644}\n",
      "100%|████████████████████████████████████████████████| 100/100 [00:00<00:00, 147.01it/s, best loss: 0.4069461101752856]\n",
      "{'alpha': 0.10758076659194789, 'estimator': 0, 'l1_ratio': 0.14920942178187593}\n",
      "100%|████████████████████████████████████████████████| 100/100 [00:00<00:00, 155.70it/s, best loss: 0.5420226027359701]\n",
      "{'alpha': 0.8223955070023286, 'estimator': 0, 'l1_ratio': 0.18245360053558574}\n",
      "100%|████████████████████████████████████████████████| 100/100 [00:00<00:00, 144.07it/s, best loss: 0.5083764776135193]\n",
      "{'alpha': 0.3110200731427331, 'estimator': 0, 'l1_ratio': 0.10118910282125126}\n",
      "100%|████████████████████████████████████████████████| 100/100 [00:00<00:00, 153.54it/s, best loss: 0.4447872540496382]\n",
      "{'alpha': 0.32788339693263274, 'estimator': 0, 'l1_ratio': 0.7303044080580685}\n"
     ]
    },
    {
     "name": "stdout",
     "output_type": "stream",
     "text": [
      "100%|███████████████████████████████████████████████| 100/100 [00:00<00:00, 143.24it/s, best loss: 0.49298675824095095]\n",
      "{'alpha': 0.567419588400686, 'estimator': 0, 'l1_ratio': 0.1856091729836777}\n",
      "100%|████████████████████████████████████████████████| 100/100 [00:00<00:00, 140.43it/s, best loss: 0.5020956846982636]\n",
      "{'alpha': 0.8839124245006181, 'estimator': 0, 'l1_ratio': 0.6014261144824581}\n",
      "100%|████████████████████████████████████████████████| 100/100 [00:00<00:00, 138.11it/s, best loss: 0.5847630817513312]\n",
      "{'alpha': 0.7708280030784225, 'estimator': 0, 'l1_ratio': 0.4625152331240874}\n",
      "100%|████████████████████████████████████████████████| 100/100 [00:00<00:00, 148.54it/s, best loss: 0.4812036044333896]\n",
      "{'alpha': 0.8052111106904261, 'estimator': 0, 'l1_ratio': 0.5370447994662306}\n",
      "100%|██████████████████████████████████████████████████| 100/100 [00:00<00:00, 132.10it/s, best loss: 0.52204022539552]\n",
      "{'alpha': 0.5701157239483272, 'estimator': 0, 'l1_ratio': 0.8262788973300838}\n",
      "100%|███████████████████████████████████████████████| 100/100 [00:00<00:00, 129.38it/s, best loss: 0.48794434160125466]\n",
      "{'alpha': 0.37879919743070445, 'estimator': 0, 'l1_ratio': 0.7648777481125841}\n",
      "100%|████████████████████████████████████████████████| 100/100 [00:00<00:00, 122.13it/s, best loss: 0.5112524697074616]\n",
      "{'alpha': 0.40374547683566797, 'estimator': 0, 'l1_ratio': 0.8328500019447771}\n",
      "100%|████████████████████████████████████████████████| 100/100 [00:00<00:00, 138.49it/s, best loss: 0.4210735156945614]\n",
      "{'alpha': 0.8634322665449435, 'estimator': 0, 'l1_ratio': 0.6770006964664461}\n",
      "100%|███████████████████████████████████████████████| 100/100 [00:00<00:00, 153.31it/s, best loss: 0.49268619976311123]\n",
      "{'alpha': 0.6247288800361634, 'estimator': 0, 'l1_ratio': 0.14365369278574072}\n",
      "100%|███████████████████████████████████████████████| 100/100 [00:00<00:00, 139.45it/s, best loss: 0.44260957170697923]\n",
      "{'alpha': 0.1746253822319061, 'estimator': 0, 'l1_ratio': 0.24057491050142935}\n",
      "100%|███████████████████████████████████████████████| 100/100 [00:00<00:00, 136.98it/s, best loss: 0.48203164647569674]\n",
      "{'alpha': 0.6376398697858516, 'estimator': 0, 'l1_ratio': 0.4206892853838399}\n",
      "100%|████████████████████████████████████████████████| 100/100 [00:00<00:00, 152.38it/s, best loss: 0.4363825691473322]\n",
      "{'alpha': 0.6762672316188448, 'estimator': 0, 'l1_ratio': 0.8369269410597459}\n",
      "100%|████████████████████████████████████████████████| 100/100 [00:00<00:00, 140.23it/s, best loss: 0.4444924746561264]\n",
      "{'alpha': 0.46654374487854067, 'estimator': 0, 'l1_ratio': 0.8732147136892392}\n",
      "100%|█████████████████████████████████████████████████| 100/100 [00:00<00:00, 142.63it/s, best loss: 0.511482016365571]\n",
      "{'alpha': 0.10545207596007694, 'estimator': 0, 'l1_ratio': 0.14022086347262236}\n",
      "100%|███████████████████████████████████████████████| 100/100 [00:00<00:00, 145.11it/s, best loss: 0.46879383164991173]\n",
      "{'alpha': 0.10125691765832588, 'estimator': 0, 'l1_ratio': 0.11904800346905337}\n",
      "100%|████████████████████████████████████████████████| 100/100 [00:00<00:00, 144.27it/s, best loss: 0.5246174535560126]\n",
      "{'alpha': 0.11865157177407049, 'estimator': 0, 'l1_ratio': 0.10745287026153692}\n",
      "100%|████████████████████████████████████████████████| 100/100 [00:00<00:00, 157.16it/s, best loss: 0.5510660036387849]\n",
      "{'alpha': 0.6489737185578992, 'estimator': 0, 'l1_ratio': 0.4503430310034885}\n",
      "100%|████████████████████████████████████████████████| 100/100 [00:00<00:00, 151.46it/s, best loss: 0.6297054610021506]\n",
      "{'alpha': 0.6162502022778502, 'estimator': 0, 'l1_ratio': 0.1824681166026479}\n",
      "100%|███████████████████████████████████████████████| 100/100 [00:00<00:00, 133.33it/s, best loss: 0.47740960421165457]\n",
      "{'alpha': 0.10293450747475473, 'estimator': 0, 'l1_ratio': 0.15496145628882893}\n",
      "100%|███████████████████████████████████████████████| 100/100 [00:00<00:00, 141.22it/s, best loss: 0.47128506616418786]\n",
      "{'alpha': 0.10235619936755756, 'estimator': 0, 'l1_ratio': 0.1681499817670379}\n",
      "100%|████████████████████████████████████████████████| 100/100 [00:00<00:00, 152.61it/s, best loss: 0.5575671938611046]\n",
      "{'alpha': 0.8742454117011207, 'estimator': 0, 'l1_ratio': 0.8170740524210175}\n",
      "100%|█████████████████████████████████████████████████| 100/100 [00:00<00:00, 143.03it/s, best loss: 0.498830753047772]\n",
      "{'alpha': 0.11725593481358285, 'estimator': 0, 'l1_ratio': 0.10070563414754241}\n",
      "100%|████████████████████████████████████████████████| 100/100 [00:00<00:00, 149.88it/s, best loss: 0.5362730589636304]\n",
      "{'alpha': 0.11351728514424798, 'estimator': 0, 'l1_ratio': 0.11689320887874563}\n",
      "100%|████████████████████████████████████████████████| 100/100 [00:00<00:00, 141.42it/s, best loss: 0.5120776653665238]\n",
      "{'alpha': 0.10454973418642913, 'estimator': 0, 'l1_ratio': 0.163386178363381}\n",
      "100%|████████████████████████████████████████████████| 100/100 [00:00<00:00, 143.03it/s, best loss: 0.5223243117154612]\n",
      "{'alpha': 0.1013911065131934, 'estimator': 0, 'l1_ratio': 0.1463718627985419}\n",
      "100%|███████████████████████████████████████████████| 100/100 [00:00<00:00, 150.09it/s, best loss: 0.47932151900778974]\n",
      "{'alpha': 0.869898837694083, 'estimator': 0, 'l1_ratio': 0.12841879426659492}\n",
      "100%|████████████████████████████████████████████████| 100/100 [00:00<00:00, 143.44it/s, best loss: 0.4826557454584548]\n",
      "{'alpha': 0.6406994239477118, 'estimator': 0, 'l1_ratio': 0.17431606852902048}\n",
      "100%|████████████████████████████████████████████████| 100/100 [00:00<00:00, 146.58it/s, best loss: 0.4132589242322757]\n",
      "{'alpha': 0.6140935866570291, 'estimator': 0, 'l1_ratio': 0.6240267988444294}\n",
      "100%|████████████████████████████████████████████████| 100/100 [00:00<00:00, 145.95it/s, best loss: 0.5188832066862257]\n",
      "{'alpha': 0.15318713559492417, 'estimator': 0, 'l1_ratio': 0.1297370130814853}\n",
      "100%|████████████████████████████████████████████████| 100/100 [00:00<00:00, 156.18it/s, best loss: 0.4486018946359256]\n",
      "{'alpha': 0.10143627684655164, 'estimator': 0, 'l1_ratio': 0.1012479643668387}\n",
      "100%|███████████████████████████████████████████████| 100/100 [00:00<00:00, 150.56it/s, best loss: 0.42596980665760786]\n",
      "{'alpha': 0.4265378082606318, 'estimator': 0, 'l1_ratio': 0.8083177112344833}\n",
      "100%|█████████████████████████████████████████████████| 100/100 [00:00<00:00, 149.65it/s, best loss: 0.485077523945594]\n",
      "{'alpha': 0.8306150755741956, 'estimator': 0, 'l1_ratio': 0.6369076232463216}\n",
      "100%|████████████████████████████████████████████████| 100/100 [00:00<00:00, 147.67it/s, best loss: 0.5633999676060919]\n",
      "{'alpha': 0.7555744867034743, 'estimator': 0, 'l1_ratio': 0.7202554575524308}\n",
      "100%|████████████████████████████████████████████████| 100/100 [00:00<00:00, 128.71it/s, best loss: 0.5720280090625881]\n",
      "{'alpha': 0.49962559250467675, 'estimator': 0, 'l1_ratio': 0.8343501022467359}\n",
      "100%|████████████████████████████████████████████████| 100/100 [00:00<00:00, 151.92it/s, best loss: 0.5092480521262542]\n",
      "{'alpha': 0.3936028274723591, 'estimator': 0, 'l1_ratio': 0.16733763228578002}\n",
      "100%|███████████████████████████████████████████████| 100/100 [00:00<00:00, 150.10it/s, best loss: 0.38595399992907964]\n",
      "{'alpha': 0.15325165595869078, 'estimator': 0, 'l1_ratio': 0.10159328792329048}\n",
      "100%|████████████████████████████████████████████████| 100/100 [00:00<00:00, 145.53it/s, best loss: 0.4631042995515366]\n",
      "{'alpha': 0.6182743204297056, 'estimator': 0, 'l1_ratio': 0.6661462373463576}\n",
      "100%|███████████████████████████████████████████████| 100/100 [00:00<00:00, 112.41it/s, best loss: 0.45420622986036463]\n",
      "{'alpha': 0.3145141801542154, 'estimator': 0, 'l1_ratio': 0.8956314795624906}\n",
      "100%|████████████████████████████████████████████████| 100/100 [00:00<00:00, 123.79it/s, best loss: 0.4486791197285372]\n",
      "{'alpha': 0.713219348759658, 'estimator': 0, 'l1_ratio': 0.400086729038163}\n",
      "100%|███████████████████████████████████████████████| 100/100 [00:00<00:00, 142.63it/s, best loss: 0.38440905293537087]\n",
      "{'alpha': 0.7019150365128924, 'estimator': 0, 'l1_ratio': 0.30855662441439985}\n",
      "100%|████████████████████████████████████████████████| 100/100 [00:00<00:00, 137.35it/s, best loss: 0.5137669172932297]\n",
      "{'alpha': 0.4551852822513358, 'estimator': 0, 'l1_ratio': 0.1837965483235097}\n"
     ]
    },
    {
     "name": "stdout",
     "output_type": "stream",
     "text": [
      "100%|███████████████████████████████████████████████| 100/100 [00:00<00:00, 132.45it/s, best loss: 0.45727655969761494]\n",
      "{'alpha': 0.8130801253791499, 'estimator': 0, 'l1_ratio': 0.38947104199357985}\n",
      "100%|███████████████████████████████████████████████| 100/100 [00:00<00:00, 145.10it/s, best loss: 0.45428499746519024]\n",
      "{'alpha': 0.5968140820489927, 'estimator': 0, 'l1_ratio': 0.8878996677902398}\n",
      "100%|████████████████████████████████████████████████| 100/100 [00:00<00:00, 147.45it/s, best loss: 0.5597342473880966]\n",
      "{'alpha': 0.6519869401675419, 'estimator': 0, 'l1_ratio': 0.2492190565479879}\n",
      "100%|████████████████████████████████████████████████| 100/100 [00:00<00:00, 149.21it/s, best loss: 0.4238689847709013]\n",
      "{'alpha': 0.8952472161157211, 'estimator': 0, 'l1_ratio': 0.6507210016898124}\n",
      "100%|███████████████████████████████████████████████| 100/100 [00:00<00:00, 138.30it/s, best loss: 0.49713006159141554]\n",
      "{'alpha': 0.2844273609493895, 'estimator': 0, 'l1_ratio': 0.24003678683330715}\n",
      "100%|█████████████████████████████████████████████████| 100/100 [00:00<00:00, 138.87it/s, best loss: 0.550285387681469]\n",
      "{'alpha': 0.10298249968654556, 'estimator': 0, 'l1_ratio': 0.7638844979343115}\n",
      "100%|████████████████████████████████████████████████| 100/100 [00:00<00:00, 147.45it/s, best loss: 0.5466744501563022]\n",
      "{'alpha': 0.20490333116477305, 'estimator': 0, 'l1_ratio': 0.245396772354038}\n",
      "100%|████████████████████████████████████████████████| 100/100 [00:00<00:00, 143.24it/s, best loss: 0.5507986822425072]\n",
      "{'alpha': 0.10063922523142443, 'estimator': 0, 'l1_ratio': 0.1007886723529339}\n",
      "100%|███████████████████████████████████████████████| 100/100 [00:00<00:00, 152.15it/s, best loss: 0.49124697952150864]\n",
      "{'alpha': 0.40128553354389707, 'estimator': 0, 'l1_ratio': 0.827513408151151}\n",
      "100%|████████████████████████████████████████████████| 100/100 [00:00<00:00, 142.43it/s, best loss: 0.5666154945487966]\n",
      "{'alpha': 0.4431152799973761, 'estimator': 0, 'l1_ratio': 0.5632901848938291}\n",
      "100%|█████████████████████████████████████████████████| 100/100 [00:00<00:00, 141.22it/s, best loss: 0.550503772016465]\n",
      "{'alpha': 0.4368436986449853, 'estimator': 0, 'l1_ratio': 0.662263238495842}\n",
      "100%|████████████████████████████████████████████████| 100/100 [00:00<00:00, 145.95it/s, best loss: 0.4575325847245457]\n",
      "{'alpha': 0.6178667242555715, 'estimator': 0, 'l1_ratio': 0.7888872367148975}\n",
      "100%|████████████████████████████████████████████████| 100/100 [00:00<00:00, 150.10it/s, best loss: 0.5152404390796521]\n",
      "{'alpha': 0.3269278306329782, 'estimator': 0, 'l1_ratio': 0.17075700762534235}\n",
      "100%|██████████████████████████████████████████████████| 100/100 [00:00<00:00, 120.22it/s, best loss: 0.49414290269203]\n",
      "{'alpha': 0.11404538403727199, 'estimator': 0, 'l1_ratio': 0.2078785307978941}\n",
      "100%|████████████████████████████████████████████████| 100/100 [00:00<00:00, 112.91it/s, best loss: 0.5012886691567554]\n",
      "{'alpha': 0.1041536963632925, 'estimator': 0, 'l1_ratio': 0.11088546677818459}\n",
      "100%|████████████████████████████████████████████████| 100/100 [00:00<00:00, 136.60it/s, best loss: 0.5420979742594738]\n",
      "{'alpha': 0.10431055237162878, 'estimator': 0, 'l1_ratio': 0.10586878562992907}\n",
      "100%|████████████████████████████████████████████████| 100/100 [00:00<00:00, 148.11it/s, best loss: 0.5092110067014404]\n",
      "{'alpha': 0.6266782955097555, 'estimator': 0, 'l1_ratio': 0.8648537659854468}\n",
      "100%|████████████████████████████████████████████████| 100/100 [00:00<00:00, 152.85it/s, best loss: 0.5167502536893078]\n",
      "{'alpha': 0.3788496990188642, 'estimator': 0, 'l1_ratio': 0.6996802371555837}\n",
      "100%|███████████████████████████████████████████████| 100/100 [00:00<00:00, 144.47it/s, best loss: 0.43675379439809364]\n",
      "{'alpha': 0.4489471624612974, 'estimator': 0, 'l1_ratio': 0.7848229150846179}\n",
      "100%|████████████████████████████████████████████████| 100/100 [00:00<00:00, 146.16it/s, best loss: 0.4143404851578314]\n",
      "{'alpha': 0.10193887968348952, 'estimator': 0, 'l1_ratio': 0.14875941249874702}\n",
      "100%|████████████████████████████████████████████████| 100/100 [00:00<00:00, 146.80it/s, best loss: 0.5378877923385259]\n",
      "{'alpha': 0.5538767775295004, 'estimator': 0, 'l1_ratio': 0.6242626885166462}\n",
      "100%|███████████████████████████████████████████████| 100/100 [00:00<00:00, 108.51it/s, best loss: 0.44779797457444553]\n",
      "{'alpha': 0.12935959705849182, 'estimator': 0, 'l1_ratio': 0.5206733120010196}\n",
      "100%|████████████████████████████████████████████████| 100/100 [00:00<00:00, 118.10it/s, best loss: 0.4555954326348123]\n",
      "{'alpha': 0.1274853705973169, 'estimator': 0, 'l1_ratio': 0.6785405294963298}\n",
      "100%|████████████████████████████████████████████████| 100/100 [00:00<00:00, 137.92it/s, best loss: 0.5471099526474485]\n",
      "{'alpha': 0.3334745865273974, 'estimator': 0, 'l1_ratio': 0.6632013493167082}\n",
      "100%|████████████████████████████████████████████████| 100/100 [00:00<00:00, 147.02it/s, best loss: 0.5445079912688582]\n",
      "{'alpha': 0.1458112133069453, 'estimator': 0, 'l1_ratio': 0.10390866771288548}\n",
      "100%|████████████████████████████████████████████████| 100/100 [00:00<00:00, 150.09it/s, best loss: 0.5073548271709116]\n",
      "{'alpha': 0.7761716729947052, 'estimator': 0, 'l1_ratio': 0.14011856758786428}\n",
      "100%|████████████████████████████████████████████████| 100/100 [00:00<00:00, 151.92it/s, best loss: 0.5595839574054665]\n",
      "{'alpha': 0.7557306151076069, 'estimator': 0, 'l1_ratio': 0.22478106451245977}\n",
      "100%|████████████████████████████████████████████████| 100/100 [00:00<00:00, 134.23it/s, best loss: 0.5385554887768162]\n",
      "{'alpha': 0.8528321128446048, 'estimator': 0, 'l1_ratio': 0.16762544309801558}\n",
      "100%|████████████████████████████████████████████████| 100/100 [00:00<00:00, 149.65it/s, best loss: 0.5398891819648467]\n",
      "{'alpha': 0.8543740258943311, 'estimator': 0, 'l1_ratio': 0.832081885749126}\n",
      "100%|████████████████████████████████████████████████| 100/100 [00:00<00:00, 138.29it/s, best loss: 0.5110239462861513]\n",
      "{'alpha': 0.35478949374835655, 'estimator': 0, 'l1_ratio': 0.4030169866307215}\n",
      "100%|████████████████████████████████████████████████| 100/100 [00:00<00:00, 147.89it/s, best loss: 0.4769663358301068]\n",
      "{'alpha': 0.5211593830439574, 'estimator': 0, 'l1_ratio': 0.825581268514594}\n",
      "100%|████████████████████████████████████████████████| 100/100 [00:00<00:00, 123.18it/s, best loss: 0.5010525118967768]\n",
      "{'alpha': 0.1003534982227416, 'estimator': 0, 'l1_ratio': 0.47712699665328273}\n",
      "100%|███████████████████████████████████████████████| 100/100 [00:00<00:00, 146.58it/s, best loss: 0.44840245754998553]\n",
      "{'alpha': 0.1020991988293153, 'estimator': 0, 'l1_ratio': 0.10280500675731606}\n",
      "100%|███████████████████████████████████████████████| 100/100 [00:00<00:00, 152.61it/s, best loss: 0.43833601451311144]\n",
      "{'alpha': 0.10355569358005676, 'estimator': 0, 'l1_ratio': 0.10063965047934631}\n",
      "100%|███████████████████████████████████████████████| 100/100 [00:00<00:00, 143.44it/s, best loss: 0.41946664001440503]\n",
      "{'alpha': 0.10347199509922363, 'estimator': 0, 'l1_ratio': 0.10057258119962516}\n",
      "100%|███████████████████████████████████████████████| 100/100 [00:00<00:00, 143.24it/s, best loss: 0.45815548375241555]\n",
      "{'alpha': 0.12122279692533576, 'estimator': 0, 'l1_ratio': 0.11760853146043335}\n",
      "100%|████████████████████████████████████████████████| 100/100 [00:00<00:00, 142.22it/s, best loss: 0.5898920798375668]\n",
      "{'alpha': 0.5388999009217191, 'estimator': 0, 'l1_ratio': 0.6880695970129976}\n",
      "100%|████████████████████████████████████████████████| 100/100 [00:00<00:00, 149.43it/s, best loss: 0.5010358738189241]\n",
      "{'alpha': 0.12509306816687338, 'estimator': 0, 'l1_ratio': 0.10353665883686106}\n",
      "100%|████████████████████████████████████████████████| 100/100 [00:00<00:00, 155.45it/s, best loss: 0.5775394917207666]\n",
      "{'alpha': 0.8327665104839022, 'estimator': 0, 'l1_ratio': 0.7729925091067348}\n",
      "100%|████████████████████████████████████████████████| 100/100 [00:00<00:00, 131.41it/s, best loss: 0.4767200194508893]\n",
      "{'alpha': 0.10022470593417772, 'estimator': 0, 'l1_ratio': 0.11168602320519655}\n",
      "100%|████████████████████████████████████████████████| 100/100 [00:00<00:00, 155.94it/s, best loss: 0.4756630327206247]\n",
      "{'alpha': 0.47151937009100764, 'estimator': 0, 'l1_ratio': 0.769000658921928}\n"
     ]
    },
    {
     "name": "stdout",
     "output_type": "stream",
     "text": [
      "100%|███████████████████████████████████████████████| 100/100 [00:00<00:00, 145.32it/s, best loss: 0.45675507184737896]\n",
      "{'alpha': 0.10051366002789798, 'estimator': 0, 'l1_ratio': 0.12224479867156512}\n",
      "100%|███████████████████████████████████████████████| 100/100 [00:00<00:00, 148.54it/s, best loss: 0.49292382163379855]\n",
      "{'alpha': 0.10250129174930682, 'estimator': 0, 'l1_ratio': 0.10906260937186406}\n",
      "100%|████████████████████████████████████████████████| 100/100 [00:00<00:00, 150.32it/s, best loss: 0.5582886550146138]\n",
      "{'alpha': 0.10344227078388929, 'estimator': 0, 'l1_ratio': 0.10959361454200278}\n",
      "100%|████████████████████████████████████████████████| 100/100 [00:00<00:00, 150.33it/s, best loss: 0.5831979372687547]\n",
      "{'alpha': 0.3841717713351457, 'estimator': 0, 'l1_ratio': 0.6824321222600873}\n",
      "100%|████████████████████████████████████████████████| 100/100 [00:00<00:00, 146.38it/s, best loss: 0.4741103929940748]\n",
      "{'alpha': 0.10086711844392465, 'estimator': 0, 'l1_ratio': 0.16426166420879612}\n",
      "100%|███████████████████████████████████████████████| 100/100 [00:00<00:00, 131.07it/s, best loss: 0.41205068953793256]\n",
      "{'alpha': 0.1018980783660847, 'estimator': 0, 'l1_ratio': 0.1554962644091269}\n",
      "100%|███████████████████████████████████████████████| 100/100 [00:00<00:00, 152.38it/s, best loss: 0.36891410599015956]\n",
      "{'alpha': 0.13407693203339838, 'estimator': 0, 'l1_ratio': 0.13525122848447407}\n",
      "100%|████████████████████████████████████████████████| 100/100 [00:00<00:00, 148.32it/s, best loss: 0.4585416495178927]\n",
      "{'alpha': 0.35357019765607134, 'estimator': 0, 'l1_ratio': 0.17603729810728055}\n",
      "100%|███████████████████████████████████████████████| 100/100 [00:00<00:00, 152.15it/s, best loss: 0.48720505595064967]\n",
      "{'alpha': 0.10155240930442669, 'estimator': 0, 'l1_ratio': 0.1257353650088925}\n",
      "100%|████████████████████████████████████████████████| 100/100 [00:00<00:00, 144.27it/s, best loss: 0.4648466957870703]\n",
      "{'alpha': 0.10008432328457716, 'estimator': 0, 'l1_ratio': 0.10261116820152286}\n",
      "100%|███████████████████████████████████████████████| 100/100 [00:00<00:00, 133.87it/s, best loss: 0.46793755124613173]\n",
      "{'alpha': 0.10087767251914055, 'estimator': 0, 'l1_ratio': 0.11493135551047745}\n",
      "100%|███████████████████████████████████████████████| 100/100 [00:00<00:00, 135.69it/s, best loss: 0.43692520854650485]\n",
      "{'alpha': 0.11046274870797142, 'estimator': 0, 'l1_ratio': 0.10952342733718244}\n",
      "100%|████████████████████████████████████████████████| 100/100 [00:00<00:00, 128.71it/s, best loss: 0.3807728622791873]\n",
      "{'alpha': 0.10093847683511015, 'estimator': 0, 'l1_ratio': 0.11241852127947288}\n",
      "100%|████████████████████████████████████████████████| 100/100 [00:00<00:00, 127.73it/s, best loss: 0.5203334704168807]\n",
      "{'alpha': 0.7375156082030299, 'estimator': 0, 'l1_ratio': 0.19385614877421029}\n",
      "100%|████████████████████████████████████████████████| 100/100 [00:00<00:00, 143.65it/s, best loss: 0.5108048979591837]\n",
      "{'alpha': 0.5213514249762586, 'estimator': 0, 'l1_ratio': 0.5604391168752872}\n",
      "100%|███████████████████████████████████████████████| 100/100 [00:00<00:00, 140.23it/s, best loss: 0.47439227204693013]\n",
      "{'alpha': 0.10096326896593669, 'estimator': 0, 'l1_ratio': 0.10285817531264177}\n",
      "100%|████████████████████████████████████████████████| 100/100 [00:00<00:00, 142.83it/s, best loss: 0.5137330770483677]\n",
      "{'alpha': 0.10471906082004134, 'estimator': 0, 'l1_ratio': 0.20486756547719515}\n",
      "100%|████████████████████████████████████████████████| 100/100 [00:00<00:00, 138.68it/s, best loss: 0.5503977064383803]\n",
      "{'alpha': 0.5851535502009914, 'estimator': 0, 'l1_ratio': 0.8622794988355963}\n",
      "100%|████████████████████████████████████████████████| 100/100 [00:00<00:00, 126.76it/s, best loss: 0.4334028066325749]\n",
      "{'alpha': 0.1018370573620353, 'estimator': 0, 'l1_ratio': 0.15879599485274265}\n",
      "100%|████████████████████████████████████████████████| 100/100 [00:00<00:00, 146.59it/s, best loss: 0.5673407547389523]\n",
      "{'alpha': 0.6217358660762564, 'estimator': 0, 'l1_ratio': 0.8466362751302036}\n",
      "100%|████████████████████████████████████████████████| 100/100 [00:00<00:00, 116.18it/s, best loss: 0.4980440049159863]\n",
      "{'alpha': 0.7598602380064693, 'estimator': 0, 'l1_ratio': 0.8529945939022823}\n",
      "100%|█████████████████████████████████████████████████| 100/100 [00:01<00:00, 96.69it/s, best loss: 0.5023351132006268]\n",
      "{'alpha': 0.18903870936560907, 'estimator': 0, 'l1_ratio': 0.10043691898086944}\n",
      "100%|████████████████████████████████████████████████| 100/100 [00:00<00:00, 106.22it/s, best loss: 0.4612915583794738]\n",
      "{'alpha': 0.10125244971777526, 'estimator': 0, 'l1_ratio': 0.15892030653505515}\n",
      "100%|█████████████████████████████████████████████████| 100/100 [00:00<00:00, 124.87it/s, best loss: 0.479669305935345]\n",
      "{'alpha': 0.10734826650939347, 'estimator': 0, 'l1_ratio': 0.1587394757766882}\n",
      "100%|████████████████████████████████████████████████| 100/100 [00:00<00:00, 148.98it/s, best loss: 0.5228424646152385]\n",
      "{'alpha': 0.26985094177644153, 'estimator': 0, 'l1_ratio': 0.8922240462607769}\n",
      "100%|█████████████████████████████████████████████████| 100/100 [00:00<00:00, 149.43it/s, best loss: 0.566965220902823]\n",
      "{'alpha': 0.10010142464717106, 'estimator': 0, 'l1_ratio': 0.16216298652718186}\n",
      "100%|█████████████████████████████████████████████████| 100/100 [00:00<00:00, 129.21it/s, best loss: 0.554660641736007]\n",
      "{'alpha': 0.11718115514144715, 'estimator': 0, 'l1_ratio': 0.10408900620498934}\n",
      "100%|████████████████████████████████████████████████| 100/100 [00:00<00:00, 135.68it/s, best loss: 0.5017105377236954]\n",
      "{'alpha': 0.10128557514633711, 'estimator': 0, 'l1_ratio': 0.10213748227394277}\n",
      "100%|███████████████████████████████████████████████| 100/100 [00:00<00:00, 145.31it/s, best loss: 0.49550549796113114]\n",
      "{'alpha': 0.10002201692974212, 'estimator': 0, 'l1_ratio': 0.12212840861097608}\n",
      "100%|████████████████████████████████████████████████| 100/100 [00:00<00:00, 126.60it/s, best loss: 0.4300924973094873]\n",
      "{'alpha': 0.10204786596860414, 'estimator': 0, 'l1_ratio': 0.1301212092931688}\n",
      "100%|████████████████████████████████████████████████| 100/100 [00:00<00:00, 138.68it/s, best loss: 0.6019464254962779]\n",
      "{'alpha': 0.10043166984833621, 'estimator': 0, 'l1_ratio': 0.1839739626945425}\n",
      "100%|███████████████████████████████████████████████| 100/100 [00:00<00:00, 140.23it/s, best loss: 0.36430781851665717]\n",
      "{'alpha': 0.4796852340658203, 'estimator': 0, 'l1_ratio': 0.45313696788572966}\n",
      "100%|████████████████████████████████████████████████| 100/100 [00:00<00:00, 141.42it/s, best loss: 0.4391338108419879]\n",
      "{'alpha': 0.10506068593019818, 'estimator': 0, 'l1_ratio': 0.11509547586796595}\n",
      "100%|█████████████████████████████████████████████████| 100/100 [00:00<00:00, 145.95it/s, best loss: 0.432246616724185]\n",
      "{'alpha': 0.11673384603676326, 'estimator': 0, 'l1_ratio': 0.10258613681187245}\n",
      "100%|███████████████████████████████████████████████| 100/100 [00:00<00:00, 148.77it/s, best loss: 0.43213032563586906]\n",
      "{'alpha': 0.4526262691282117, 'estimator': 0, 'l1_ratio': 0.30993077509856526}\n",
      "100%|████████████████████████████████████████████████| 100/100 [00:00<00:00, 131.41it/s, best loss: 0.5774021937546797]\n",
      "{'alpha': 0.12695365599262712, 'estimator': 0, 'l1_ratio': 0.1736699321615224}\n",
      "100%|████████████████████████████████████████████████| 100/100 [00:00<00:00, 151.00it/s, best loss: 0.4998640584864674]\n",
      "{'alpha': 0.6111405535822014, 'estimator': 0, 'l1_ratio': 0.47812808990558864}\n",
      "100%|████████████████████████████████████████████████| 100/100 [00:00<00:00, 136.98it/s, best loss: 0.5265589573710912]\n",
      "{'alpha': 0.30787776799122435, 'estimator': 0, 'l1_ratio': 0.32604938690297725}\n",
      "100%|███████████████████████████████████████████████| 100/100 [00:00<00:00, 151.23it/s, best loss: 0.46427596682480854]\n",
      "{'alpha': 0.10704432075122138, 'estimator': 0, 'l1_ratio': 0.4930252309700671}\n",
      "100%|████████████████████████████████████████████████| 100/100 [00:00<00:00, 135.31it/s, best loss: 0.4528727078035089]\n",
      "{'alpha': 0.5319097719768443, 'estimator': 0, 'l1_ratio': 0.7030292345954328}\n",
      "100%|████████████████████████████████████████████████| 100/100 [00:00<00:00, 123.03it/s, best loss: 0.5082335598452513]\n",
      "{'alpha': 0.7903501012186785, 'estimator': 0, 'l1_ratio': 0.7396507293622785}\n"
     ]
    },
    {
     "name": "stdout",
     "output_type": "stream",
     "text": [
      "100%|████████████████████████████████████████████████| 100/100 [00:00<00:00, 145.10it/s, best loss: 0.4972120753360862]\n",
      "{'alpha': 0.4595987260871116, 'estimator': 0, 'l1_ratio': 0.48601734151317855}\n",
      "100%|████████████████████████████████████████████████| 100/100 [00:00<00:00, 149.88it/s, best loss: 0.4810054188251599]\n",
      "{'alpha': 0.14764250698512635, 'estimator': 0, 'l1_ratio': 0.3456968122649718}\n",
      "100%|█████████████████████████████████████████████████| 100/100 [00:00<00:00, 148.32it/s, best loss: 0.519704444976081]\n",
      "{'alpha': 0.13397917346694593, 'estimator': 0, 'l1_ratio': 0.10098222979985505}\n",
      "100%|███████████████████████████████████████████████| 100/100 [00:00<00:00, 124.09it/s, best loss: 0.49452785001979005]\n",
      "{'alpha': 0.5278931453501244, 'estimator': 0, 'l1_ratio': 0.5052386944743249}\n",
      "100%|████████████████████████████████████████████████| 100/100 [00:00<00:00, 150.78it/s, best loss: 0.5055303728077064]\n",
      "{'alpha': 0.49318147272413393, 'estimator': 0, 'l1_ratio': 0.4689355083465697}\n",
      "100%|████████████████████████████████████████████████| 100/100 [00:00<00:00, 146.80it/s, best loss: 0.5185820382591965]\n",
      "{'alpha': 0.8137359688048071, 'estimator': 0, 'l1_ratio': 0.668484139756824}\n",
      "100%|███████████████████████████████████████████████| 100/100 [00:00<00:00, 146.16it/s, best loss: 0.46891638095238186]\n",
      "{'alpha': 0.3557622978531859, 'estimator': 0, 'l1_ratio': 0.3954994117344216}\n",
      "100%|████████████████████████████████████████████████| 100/100 [00:00<00:00, 148.76it/s, best loss: 0.5787895401493928]\n",
      "{'alpha': 0.328809806270999, 'estimator': 0, 'l1_ratio': 0.7681544930659364}\n",
      "100%|████████████████████████████████████████████████| 100/100 [00:00<00:00, 110.55it/s, best loss: 0.5790438131243202]\n",
      "{'alpha': 0.10307493734947878, 'estimator': 0, 'l1_ratio': 0.19386806983714958}\n",
      "100%|████████████████████████████████████████████████| 100/100 [00:00<00:00, 122.58it/s, best loss: 0.4227965553108266]\n",
      "{'alpha': 0.10225675514300908, 'estimator': 0, 'l1_ratio': 0.12606165563153163}\n",
      "100%|████████████████████████████████████████████████| 100/100 [00:00<00:00, 121.68it/s, best loss: 0.5205504575122961]\n",
      "{'alpha': 0.10021307810225918, 'estimator': 0, 'l1_ratio': 0.10332340461155722}\n",
      "100%|████████████████████████████████████████████████| 100/100 [00:01<00:00, 93.27it/s, best loss: 0.44257345483280575]\n",
      "{'alpha': 0.10616074178909186, 'estimator': 0, 'l1_ratio': 0.1050225362616568}\n",
      "100%|████████████████████████████████████████████████| 100/100 [00:00<00:00, 121.24it/s, best loss: 0.6089641352556086]\n",
      "{'alpha': 0.10471658310186274, 'estimator': 0, 'l1_ratio': 0.11355712015027991}\n",
      "100%|███████████████████████████████████████████████| 100/100 [00:00<00:00, 105.43it/s, best loss: 0.46801516899124596]\n",
      "{'alpha': 0.10264495240969032, 'estimator': 0, 'l1_ratio': 0.10394706090810724}\n",
      "100%|████████████████████████████████████████████████| 100/100 [00:00<00:00, 104.34it/s, best loss: 0.5374027291545739]\n",
      "{'alpha': 0.4460664186823692, 'estimator': 0, 'l1_ratio': 0.8802444014400498}\n",
      "100%|████████████████████████████████████████████████| 100/100 [00:00<00:00, 110.43it/s, best loss: 0.4835575863548295]\n",
      "{'alpha': 0.7204537590083663, 'estimator': 0, 'l1_ratio': 0.1650444654388437}\n",
      "100%|█████████████████████████████████████████████████| 100/100 [00:01<00:00, 96.13it/s, best loss: 0.4957624337877349]\n",
      "{'alpha': 0.827706774607063, 'estimator': 0, 'l1_ratio': 0.3421396196044637}\n",
      "100%|█████████████████████████████████████████████████| 100/100 [00:01<00:00, 96.50it/s, best loss: 0.6284827968596436]\n",
      "{'alpha': 0.6212425782664338, 'estimator': 0, 'l1_ratio': 0.8504445076185695}\n",
      "100%|████████████████████████████████████████████████| 100/100 [00:00<00:00, 103.58it/s, best loss: 0.5752691282588576]\n",
      "{'alpha': 0.48030479788384284, 'estimator': 0, 'l1_ratio': 0.2415878894382969}\n",
      "100%|████████████████████████████████████████████████| 100/100 [00:00<00:00, 113.81it/s, best loss: 0.6380106305918862]\n",
      "{'alpha': 0.10891060578371103, 'estimator': 0, 'l1_ratio': 0.10873823307403109}\n",
      "100%|████████████████████████████████████████████████| 100/100 [00:00<00:00, 111.66it/s, best loss: 0.5674585138992841]\n",
      "{'alpha': 0.4218124682462068, 'estimator': 0, 'l1_ratio': 0.733814200656863}\n",
      "100%|████████████████████████████████████████████████| 100/100 [00:00<00:00, 143.86it/s, best loss: 0.5374731795156931]\n",
      "{'alpha': 0.28739171069538383, 'estimator': 0, 'l1_ratio': 0.3112976587827838}\n",
      "100%|████████████████████████████████████████████████| 100/100 [00:00<00:00, 125.65it/s, best loss: 0.6110022833842976]\n",
      "{'alpha': 0.8518571597543921, 'estimator': 0, 'l1_ratio': 0.5464870907759724}\n",
      "100%|████████████████████████████████████████████████| 100/100 [00:00<00:00, 140.83it/s, best loss: 0.5681522205970057]\n",
      "{'alpha': 0.4995562063277056, 'estimator': 0, 'l1_ratio': 0.8760982302576672}\n",
      "100%|████████████████████████████████████████████████| 100/100 [00:00<00:00, 153.31it/s, best loss: 0.5141867704427884]\n",
      "{'alpha': 0.10376652424591887, 'estimator': 0, 'l1_ratio': 0.10393155882186275}\n",
      "100%|████████████████████████████████████████████████| 100/100 [00:00<00:00, 150.55it/s, best loss: 0.5789757530201656]\n",
      "{'alpha': 0.7234957882816334, 'estimator': 0, 'l1_ratio': 0.6317663338287356}\n",
      "100%|████████████████████████████████████████████████| 100/100 [00:00<00:00, 136.23it/s, best loss: 0.4613018465275804]\n",
      "{'alpha': 0.8260002706479068, 'estimator': 0, 'l1_ratio': 0.26391990421020406}\n",
      "100%|████████████████████████████████████████████████| 100/100 [00:00<00:00, 145.74it/s, best loss: 0.4461277731291746]\n",
      "{'alpha': 0.12679307745849475, 'estimator': 0, 'l1_ratio': 0.15006196865290344}\n",
      "100%|████████████████████████████████████████████████| 100/100 [00:00<00:00, 146.80it/s, best loss: 0.4894728297083681]\n",
      "{'alpha': 0.2269941066231395, 'estimator': 0, 'l1_ratio': 0.13191445825436665}\n",
      "100%|████████████████████████████████████████████████| 100/100 [00:00<00:00, 145.95it/s, best loss: 0.5159905742872252]\n",
      "{'alpha': 0.10048570482808822, 'estimator': 0, 'l1_ratio': 0.18140721462055934}\n",
      "100%|████████████████████████████████████████████████| 100/100 [00:00<00:00, 149.65it/s, best loss: 0.3877589095498547]\n",
      "{'alpha': 0.10301828788929791, 'estimator': 0, 'l1_ratio': 0.1515490770988659}\n",
      "100%|███████████████████████████████████████████████| 100/100 [00:00<00:00, 131.07it/s, best loss: 0.40937358579139627]\n",
      "{'alpha': 0.10003596021933378, 'estimator': 0, 'l1_ratio': 0.1607965244895333}\n",
      "100%|████████████████████████████████████████████████| 100/100 [00:00<00:00, 134.40it/s, best loss: 0.4501211487108212]\n",
      "{'alpha': 0.1016001181945943, 'estimator': 0, 'l1_ratio': 0.10059184778143841}\n",
      "100%|████████████████████████████████████████████████| 100/100 [00:00<00:00, 120.52it/s, best loss: 0.5099863056218533]\n",
      "{'alpha': 0.10217034823802623, 'estimator': 0, 'l1_ratio': 0.1713804629400444}\n",
      "100%|███████████████████████████████████████████████| 100/100 [00:00<00:00, 133.16it/s, best loss: 0.46991123806028856]\n",
      "{'alpha': 0.12445281079329922, 'estimator': 0, 'l1_ratio': 0.27417598356089024}\n",
      "100%|███████████████████████████████████████████████| 100/100 [00:00<00:00, 154.49it/s, best loss: 0.49215525000317567]\n",
      "{'alpha': 0.5212098382914067, 'estimator': 0, 'l1_ratio': 0.5672028965096975}\n",
      "100%|███████████████████████████████████████████████| 100/100 [00:00<00:00, 146.59it/s, best loss: 0.45659259975156813]\n",
      "{'alpha': 0.3087325000052886, 'estimator': 0, 'l1_ratio': 0.3811743531602789}\n",
      "100%|████████████████████████████████████████████████| 100/100 [00:00<00:00, 157.90it/s, best loss: 0.4715150057729194]\n",
      "{'alpha': 0.829955599001337, 'estimator': 0, 'l1_ratio': 0.18370333122456659}\n",
      "100%|█████████████████████████████████████████████████| 100/100 [00:00<00:00, 148.76it/s, best loss: 0.500514284773346]\n",
      "{'alpha': 0.10492354004045273, 'estimator': 0, 'l1_ratio': 0.10151844711036728}\n",
      "100%|███████████████████████████████████████████████| 100/100 [00:00<00:00, 148.53it/s, best loss: 0.45579868371860965]\n",
      "{'alpha': 0.10964553289822594, 'estimator': 0, 'l1_ratio': 0.11856746959857349}\n",
      "100%|████████████████████████████████████████████████| 100/100 [00:00<00:00, 141.42it/s, best loss: 0.5326867858486994]\n",
      "{'alpha': 0.10028019341784472, 'estimator': 0, 'l1_ratio': 0.10742915359701624}\n"
     ]
    },
    {
     "name": "stdout",
     "output_type": "stream",
     "text": [
      "100%|███████████████████████████████████████████████| 100/100 [00:00<00:00, 147.24it/s, best loss: 0.42436217431928325]\n",
      "{'alpha': 0.7095557103950434, 'estimator': 0, 'l1_ratio': 0.41523715612039014}\n",
      "100%|████████████████████████████████████████████████| 100/100 [00:00<00:00, 139.45it/s, best loss: 0.5808014418170454]\n",
      "{'alpha': 0.5726058851277901, 'estimator': 0, 'l1_ratio': 0.6431621707049056}\n",
      "100%|███████████████████████████████████████████████| 100/100 [00:00<00:00, 157.41it/s, best loss: 0.46240015840015625]\n",
      "{'alpha': 0.41449477517300914, 'estimator': 0, 'l1_ratio': 0.8516264527013284}\n",
      "100%|███████████████████████████████████████████████| 100/100 [00:00<00:00, 147.67it/s, best loss: 0.49484263376346826]\n",
      "{'alpha': 0.6182788081643918, 'estimator': 0, 'l1_ratio': 0.4080438005082657}\n",
      "100%|████████████████████████████████████████████████| 100/100 [00:00<00:00, 144.89it/s, best loss: 0.5262782280253897]\n",
      "{'alpha': 0.11972957751876533, 'estimator': 0, 'l1_ratio': 0.1049697411129281}\n",
      "100%|████████████████████████████████████████████████| 100/100 [00:00<00:00, 134.95it/s, best loss: 0.5677996407939772]\n",
      "{'alpha': 0.5391484371317034, 'estimator': 0, 'l1_ratio': 0.8144701522718519}\n",
      "100%|███████████████████████████████████████████████| 100/100 [00:00<00:00, 132.98it/s, best loss: 0.34894782998447327]\n",
      "{'alpha': 0.44703911832109455, 'estimator': 0, 'l1_ratio': 0.5228308326884786}\n",
      "100%|█████████████████████████████████████████████████| 100/100 [00:00<00:00, 128.55it/s, best loss: 0.444379546956678]\n",
      "{'alpha': 0.6190815220040815, 'estimator': 0, 'l1_ratio': 0.48026636932764954}\n",
      "100%|████████████████████████████████████████████████| 100/100 [00:00<00:00, 108.63it/s, best loss: 0.3675638833382422]\n",
      "{'alpha': 0.683237756752282, 'estimator': 0, 'l1_ratio': 0.5015476977463276}\n",
      "100%|████████████████████████████████████████████████| 100/100 [00:00<00:00, 110.92it/s, best loss: 0.4732704651806339]\n",
      "{'alpha': 0.10195693321711272, 'estimator': 0, 'l1_ratio': 0.10174601424026519}\n",
      "100%|████████████████████████████████████████████████| 100/100 [00:00<00:00, 106.89it/s, best loss: 0.3972952149666602]\n",
      "{'alpha': 0.10352547016910019, 'estimator': 0, 'l1_ratio': 0.10648087306695367}\n",
      "100%|████████████████████████████████████████████████| 100/100 [00:00<00:00, 109.22it/s, best loss: 0.3895465008640667]\n",
      "{'alpha': 0.16110831577803647, 'estimator': 0, 'l1_ratio': 0.5627187961276948}\n",
      "100%|██████████████████████████████████████████████████| 100/100 [00:01<00:00, 98.40it/s, best loss: 0.490895587781549]\n",
      "{'alpha': 0.8316404455490672, 'estimator': 0, 'l1_ratio': 0.20625558805173708}\n",
      "100%|███████████████████████████████████████████████| 100/100 [00:00<00:00, 115.65it/s, best loss: 0.49318598081338383]\n",
      "{'alpha': 0.8110646359948052, 'estimator': 0, 'l1_ratio': 0.48222505765322965}\n",
      "100%|████████████████████████████████████████████████| 100/100 [00:00<00:00, 112.28it/s, best loss: 0.4172749396876251]\n",
      "{'alpha': 0.10121086313042285, 'estimator': 0, 'l1_ratio': 0.1459276372171238}\n",
      "100%|████████████████████████████████████████████████| 100/100 [00:00<00:00, 108.05it/s, best loss: 0.5318723389410319]\n",
      "{'alpha': 0.5795413612886134, 'estimator': 0, 'l1_ratio': 0.16510980480521553}\n",
      "100%|████████████████████████████████████████████████| 100/100 [00:00<00:00, 124.09it/s, best loss: 0.5450431275295123]\n",
      "{'alpha': 0.10038610580141212, 'estimator': 0, 'l1_ratio': 0.10376836771477227}\n",
      "100%|███████████████████████████████████████████████| 100/100 [00:00<00:00, 123.18it/s, best loss: 0.43579807208357724]\n",
      "{'alpha': 0.10571470517488507, 'estimator': 0, 'l1_ratio': 0.20698527230719066}\n",
      "100%|████████████████████████████████████████████████| 100/100 [00:00<00:00, 138.11it/s, best loss: 0.5325194845498948]\n",
      "{'alpha': 0.12742758873440532, 'estimator': 0, 'l1_ratio': 0.11039266698236473}\n",
      "100%|████████████████████████████████████████████████| 100/100 [00:00<00:00, 104.34it/s, best loss: 0.5002881744213774]\n",
      "{'alpha': 0.6288396578544854, 'estimator': 0, 'l1_ratio': 0.7423248461322663}\n",
      "100%|████████████████████████████████████████████████| 100/100 [00:00<00:00, 126.44it/s, best loss: 0.4687837803384697]\n",
      "{'alpha': 0.6494829196830638, 'estimator': 0, 'l1_ratio': 0.5116626571126534}\n",
      "100%|███████████████████████████████████████████████| 100/100 [00:00<00:00, 108.04it/s, best loss: 0.47403182925105264]\n",
      "{'alpha': 0.7473527762462177, 'estimator': 0, 'l1_ratio': 0.6830577528837194}\n",
      "100%|████████████████████████████████████████████████| 100/100 [00:00<00:00, 117.55it/s, best loss: 0.4960566727824163]\n",
      "{'alpha': 0.4510020460008597, 'estimator': 0, 'l1_ratio': 0.5135081485038873}\n",
      "100%|████████████████████████████████████████████████| 100/100 [00:00<00:00, 117.68it/s, best loss: 0.4892267615479925]\n",
      "{'alpha': 0.5322081677388789, 'estimator': 0, 'l1_ratio': 0.3460559240019168}\n"
     ]
    }
   ],
   "source": [
    "seq = 1\n",
    "#Ridge Tuning\n",
    "alpha = hp.uniform('alpha', 0.1, 0.9)\n",
    "\n",
    "\n",
    "ridge_est0 = (0.1, scope.Ridge(alpha = alpha,\n",
    "                                    random_state = 42))\n",
    "ridge_space = hp.pchoice('estimator', [ridge_est0])\n",
    "\n",
    "ridgeresult = paramtuning(x_train_norm, y_train_norm, ridge_space, 0, len(x_train_norm), seq)\n",
    "\n",
    "\n",
    "#Lasso Tuning\n",
    "alpha = hp.uniform('alpha', 0.1, 0.9)\n",
    "\n",
    "\n",
    "lasso_est0 = (0.1, scope.Lasso(alpha = alpha,\n",
    "                                    random_state = 42))\n",
    "lasso_space = hp.pchoice('estimator', [lasso_est0])\n",
    "\n",
    "lassoresult = paramtuning(x_train_norm, y_train_norm, lasso_space, 0, len(x_train_norm), seq)\n",
    "\n",
    "\n",
    "#Elasticnet Tuning\n",
    "alpha = hp.uniform('alpha', 0.1, 0.9)\n",
    "l1_ratio = hp.uniform('l1_ratio', 0.1, 0.9)\n",
    "\n",
    "ela_est0 = (0.1, scope.ElasticNet(alpha = alpha,\n",
    "                             l1_ratio = l1_ratio,\n",
    "                             fit_intercept = True,\n",
    "                                    random_state = 42))\n",
    "ela_space = hp.pchoice('estimator', [ela_est0])\n",
    "\n",
    "elaresult = paramtuning(x_train_norm, y_train_norm, ela_space, 0, len(x_train_norm), seq)\n"
   ]
  },
  {
   "cell_type": "code",
   "execution_count": 54,
   "metadata": {},
   "outputs": [],
   "source": [
    "pd.DataFrame(elaresult).to_csv('eafeela.csv')\n",
    "pd.DataFrame(ridgeresult).to_csv('eaferid.csv')\n",
    "pd.DataFrame(lassoresult).to_csv('eafelas.csv')"
   ]
  },
  {
   "cell_type": "code",
   "execution_count": 302,
   "metadata": {},
   "outputs": [
    {
     "name": "stdout",
     "output_type": "stream",
     "text": [
      "1\n",
      "2\n"
     ]
    }
   ],
   "source": [
    "idx = 'SP500'\n",
    "\n",
    "datareturn = makemean(dataset, idx, 7)\n",
    "\n",
    "x_train, y_train, x_test, y_test = slidingwindow(datareturn, idx, 157, 7)\n",
    "print('1')\n",
    "x_train_norm, y_train_norm, x_test_norm, y_test_norm = makedataset(datareturn, idx, 157, 7)\n",
    "print('2')\n",
    "#x_train_label, y_train_label, x_test_label, y_test_label = slidingwindow(datalabel, None, 150, 20)\n",
    "\n",
    "\n",
    "gbrresult = pd.read_csv(idx + 'gbr.csv').to_dict(orient='record')\n",
    "xgbresult = pd.read_csv(idx + 'xgb.csv').to_dict(orient='record')\n",
    "mlpresult = pd.read_csv(idx + 'mlp.csv').to_dict(orient='record')\n",
    "ridresult = pd.read_csv(idx + 'rid.csv').to_dict(orient='record')\n",
    "lasresult = pd.read_csv(idx + 'las.csv').to_dict(orient='record')\n",
    "elaresult = pd.read_csv(idx + 'ela.csv').to_dict(orient='record')\n"
   ]
  },
  {
   "cell_type": "code",
   "execution_count": 304,
   "metadata": {
    "scrolled": true
   },
   "outputs": [
    {
     "name": "stderr",
     "output_type": "stream",
     "text": [
      "C:\\ProgramData\\Anaconda3\\lib\\site-packages\\xgboost\\core.py:587: FutureWarning: Series.base is deprecated and will be removed in a future version\n",
      "  if getattr(data, 'base', None) is not None and \\\n"
     ]
    },
    {
     "name": "stdout",
     "output_type": "stream",
     "text": [
      "[20:47:47] WARNING: C:/Jenkins/workspace/xgboost-win64_release_0.90/src/objective/regression_obj.cu:152: reg:linear is now deprecated in favor of reg:squarederror.\n"
     ]
    },
    {
     "name": "stderr",
     "output_type": "stream",
     "text": [
      "C:\\ProgramData\\Anaconda3\\lib\\site-packages\\xgboost\\core.py:587: FutureWarning: Series.base is deprecated and will be removed in a future version\n",
      "  if getattr(data, 'base', None) is not None and \\\n"
     ]
    },
    {
     "name": "stdout",
     "output_type": "stream",
     "text": [
      "[20:47:55] WARNING: C:/Jenkins/workspace/xgboost-win64_release_0.90/src/objective/regression_obj.cu:152: reg:linear is now deprecated in favor of reg:squarederror.\n"
     ]
    },
    {
     "name": "stderr",
     "output_type": "stream",
     "text": [
      "C:\\ProgramData\\Anaconda3\\lib\\site-packages\\xgboost\\core.py:587: FutureWarning: Series.base is deprecated and will be removed in a future version\n",
      "  if getattr(data, 'base', None) is not None and \\\n"
     ]
    },
    {
     "name": "stdout",
     "output_type": "stream",
     "text": [
      "[20:48:02] WARNING: C:/Jenkins/workspace/xgboost-win64_release_0.90/src/objective/regression_obj.cu:152: reg:linear is now deprecated in favor of reg:squarederror.\n"
     ]
    },
    {
     "name": "stderr",
     "output_type": "stream",
     "text": [
      "C:\\ProgramData\\Anaconda3\\lib\\site-packages\\xgboost\\core.py:587: FutureWarning: Series.base is deprecated and will be removed in a future version\n",
      "  if getattr(data, 'base', None) is not None and \\\n"
     ]
    },
    {
     "name": "stdout",
     "output_type": "stream",
     "text": [
      "[20:48:08] WARNING: C:/Jenkins/workspace/xgboost-win64_release_0.90/src/objective/regression_obj.cu:152: reg:linear is now deprecated in favor of reg:squarederror.\n"
     ]
    },
    {
     "name": "stderr",
     "output_type": "stream",
     "text": [
      "C:\\ProgramData\\Anaconda3\\lib\\site-packages\\xgboost\\core.py:587: FutureWarning: Series.base is deprecated and will be removed in a future version\n",
      "  if getattr(data, 'base', None) is not None and \\\n"
     ]
    },
    {
     "name": "stdout",
     "output_type": "stream",
     "text": [
      "[20:48:15] WARNING: C:/Jenkins/workspace/xgboost-win64_release_0.90/src/objective/regression_obj.cu:152: reg:linear is now deprecated in favor of reg:squarederror.\n"
     ]
    },
    {
     "name": "stderr",
     "output_type": "stream",
     "text": [
      "C:\\ProgramData\\Anaconda3\\lib\\site-packages\\xgboost\\core.py:587: FutureWarning: Series.base is deprecated and will be removed in a future version\n",
      "  if getattr(data, 'base', None) is not None and \\\n"
     ]
    },
    {
     "name": "stdout",
     "output_type": "stream",
     "text": [
      "[20:48:21] WARNING: C:/Jenkins/workspace/xgboost-win64_release_0.90/src/objective/regression_obj.cu:152: reg:linear is now deprecated in favor of reg:squarederror.\n"
     ]
    },
    {
     "name": "stderr",
     "output_type": "stream",
     "text": [
      "C:\\ProgramData\\Anaconda3\\lib\\site-packages\\xgboost\\core.py:587: FutureWarning: Series.base is deprecated and will be removed in a future version\n",
      "  if getattr(data, 'base', None) is not None and \\\n"
     ]
    },
    {
     "name": "stdout",
     "output_type": "stream",
     "text": [
      "[20:48:26] WARNING: C:/Jenkins/workspace/xgboost-win64_release_0.90/src/objective/regression_obj.cu:152: reg:linear is now deprecated in favor of reg:squarederror.\n"
     ]
    },
    {
     "name": "stderr",
     "output_type": "stream",
     "text": [
      "C:\\ProgramData\\Anaconda3\\lib\\site-packages\\xgboost\\core.py:587: FutureWarning: Series.base is deprecated and will be removed in a future version\n",
      "  if getattr(data, 'base', None) is not None and \\\n"
     ]
    },
    {
     "name": "stdout",
     "output_type": "stream",
     "text": [
      "[20:48:31] WARNING: C:/Jenkins/workspace/xgboost-win64_release_0.90/src/objective/regression_obj.cu:152: reg:linear is now deprecated in favor of reg:squarederror.\n"
     ]
    },
    {
     "name": "stderr",
     "output_type": "stream",
     "text": [
      "C:\\ProgramData\\Anaconda3\\lib\\site-packages\\xgboost\\core.py:587: FutureWarning: Series.base is deprecated and will be removed in a future version\n",
      "  if getattr(data, 'base', None) is not None and \\\n"
     ]
    },
    {
     "name": "stdout",
     "output_type": "stream",
     "text": [
      "[20:48:38] WARNING: C:/Jenkins/workspace/xgboost-win64_release_0.90/src/objective/regression_obj.cu:152: reg:linear is now deprecated in favor of reg:squarederror.\n"
     ]
    },
    {
     "name": "stderr",
     "output_type": "stream",
     "text": [
      "C:\\ProgramData\\Anaconda3\\lib\\site-packages\\xgboost\\core.py:587: FutureWarning: Series.base is deprecated and will be removed in a future version\n",
      "  if getattr(data, 'base', None) is not None and \\\n"
     ]
    },
    {
     "name": "stdout",
     "output_type": "stream",
     "text": [
      "[20:48:43] WARNING: C:/Jenkins/workspace/xgboost-win64_release_0.90/src/objective/regression_obj.cu:152: reg:linear is now deprecated in favor of reg:squarederror.\n"
     ]
    },
    {
     "name": "stderr",
     "output_type": "stream",
     "text": [
      "C:\\ProgramData\\Anaconda3\\lib\\site-packages\\xgboost\\core.py:587: FutureWarning: Series.base is deprecated and will be removed in a future version\n",
      "  if getattr(data, 'base', None) is not None and \\\n"
     ]
    },
    {
     "name": "stdout",
     "output_type": "stream",
     "text": [
      "[20:48:46] WARNING: C:/Jenkins/workspace/xgboost-win64_release_0.90/src/objective/regression_obj.cu:152: reg:linear is now deprecated in favor of reg:squarederror.\n"
     ]
    },
    {
     "name": "stderr",
     "output_type": "stream",
     "text": [
      "C:\\ProgramData\\Anaconda3\\lib\\site-packages\\xgboost\\core.py:587: FutureWarning: Series.base is deprecated and will be removed in a future version\n",
      "  if getattr(data, 'base', None) is not None and \\\n"
     ]
    },
    {
     "name": "stdout",
     "output_type": "stream",
     "text": [
      "[20:48:53] WARNING: C:/Jenkins/workspace/xgboost-win64_release_0.90/src/objective/regression_obj.cu:152: reg:linear is now deprecated in favor of reg:squarederror.\n"
     ]
    },
    {
     "name": "stderr",
     "output_type": "stream",
     "text": [
      "C:\\ProgramData\\Anaconda3\\lib\\site-packages\\xgboost\\core.py:587: FutureWarning: Series.base is deprecated and will be removed in a future version\n",
      "  if getattr(data, 'base', None) is not None and \\\n"
     ]
    },
    {
     "name": "stdout",
     "output_type": "stream",
     "text": [
      "[20:49:00] WARNING: C:/Jenkins/workspace/xgboost-win64_release_0.90/src/objective/regression_obj.cu:152: reg:linear is now deprecated in favor of reg:squarederror.\n"
     ]
    },
    {
     "name": "stderr",
     "output_type": "stream",
     "text": [
      "C:\\ProgramData\\Anaconda3\\lib\\site-packages\\xgboost\\core.py:587: FutureWarning: Series.base is deprecated and will be removed in a future version\n",
      "  if getattr(data, 'base', None) is not None and \\\n"
     ]
    },
    {
     "name": "stdout",
     "output_type": "stream",
     "text": [
      "[20:49:05] WARNING: C:/Jenkins/workspace/xgboost-win64_release_0.90/src/objective/regression_obj.cu:152: reg:linear is now deprecated in favor of reg:squarederror.\n"
     ]
    },
    {
     "name": "stderr",
     "output_type": "stream",
     "text": [
      "C:\\ProgramData\\Anaconda3\\lib\\site-packages\\xgboost\\core.py:587: FutureWarning: Series.base is deprecated and will be removed in a future version\n",
      "  if getattr(data, 'base', None) is not None and \\\n"
     ]
    },
    {
     "name": "stdout",
     "output_type": "stream",
     "text": [
      "[20:49:08] WARNING: C:/Jenkins/workspace/xgboost-win64_release_0.90/src/objective/regression_obj.cu:152: reg:linear is now deprecated in favor of reg:squarederror.\n"
     ]
    },
    {
     "name": "stderr",
     "output_type": "stream",
     "text": [
      "C:\\ProgramData\\Anaconda3\\lib\\site-packages\\xgboost\\core.py:587: FutureWarning: Series.base is deprecated and will be removed in a future version\n",
      "  if getattr(data, 'base', None) is not None and \\\n"
     ]
    },
    {
     "name": "stdout",
     "output_type": "stream",
     "text": [
      "[20:49:17] WARNING: C:/Jenkins/workspace/xgboost-win64_release_0.90/src/objective/regression_obj.cu:152: reg:linear is now deprecated in favor of reg:squarederror.\n"
     ]
    },
    {
     "name": "stderr",
     "output_type": "stream",
     "text": [
      "C:\\ProgramData\\Anaconda3\\lib\\site-packages\\xgboost\\core.py:587: FutureWarning: Series.base is deprecated and will be removed in a future version\n",
      "  if getattr(data, 'base', None) is not None and \\\n"
     ]
    },
    {
     "name": "stdout",
     "output_type": "stream",
     "text": [
      "[20:49:21] WARNING: C:/Jenkins/workspace/xgboost-win64_release_0.90/src/objective/regression_obj.cu:152: reg:linear is now deprecated in favor of reg:squarederror.\n"
     ]
    },
    {
     "name": "stderr",
     "output_type": "stream",
     "text": [
      "C:\\ProgramData\\Anaconda3\\lib\\site-packages\\xgboost\\core.py:587: FutureWarning: Series.base is deprecated and will be removed in a future version\n",
      "  if getattr(data, 'base', None) is not None and \\\n"
     ]
    },
    {
     "name": "stdout",
     "output_type": "stream",
     "text": [
      "[20:49:26] WARNING: C:/Jenkins/workspace/xgboost-win64_release_0.90/src/objective/regression_obj.cu:152: reg:linear is now deprecated in favor of reg:squarederror.\n"
     ]
    },
    {
     "name": "stderr",
     "output_type": "stream",
     "text": [
      "C:\\ProgramData\\Anaconda3\\lib\\site-packages\\xgboost\\core.py:587: FutureWarning: Series.base is deprecated and will be removed in a future version\n",
      "  if getattr(data, 'base', None) is not None and \\\n"
     ]
    },
    {
     "name": "stdout",
     "output_type": "stream",
     "text": [
      "[20:49:30] WARNING: C:/Jenkins/workspace/xgboost-win64_release_0.90/src/objective/regression_obj.cu:152: reg:linear is now deprecated in favor of reg:squarederror.\n"
     ]
    },
    {
     "name": "stderr",
     "output_type": "stream",
     "text": [
      "C:\\ProgramData\\Anaconda3\\lib\\site-packages\\xgboost\\core.py:587: FutureWarning: Series.base is deprecated and will be removed in a future version\n",
      "  if getattr(data, 'base', None) is not None and \\\n"
     ]
    },
    {
     "name": "stdout",
     "output_type": "stream",
     "text": [
      "[20:49:32] WARNING: C:/Jenkins/workspace/xgboost-win64_release_0.90/src/objective/regression_obj.cu:152: reg:linear is now deprecated in favor of reg:squarederror.\n"
     ]
    },
    {
     "name": "stderr",
     "output_type": "stream",
     "text": [
      "C:\\ProgramData\\Anaconda3\\lib\\site-packages\\xgboost\\core.py:587: FutureWarning: Series.base is deprecated and will be removed in a future version\n",
      "  if getattr(data, 'base', None) is not None and \\\n"
     ]
    },
    {
     "name": "stdout",
     "output_type": "stream",
     "text": [
      "[20:49:38] WARNING: C:/Jenkins/workspace/xgboost-win64_release_0.90/src/objective/regression_obj.cu:152: reg:linear is now deprecated in favor of reg:squarederror.\n"
     ]
    },
    {
     "name": "stderr",
     "output_type": "stream",
     "text": [
      "C:\\ProgramData\\Anaconda3\\lib\\site-packages\\xgboost\\core.py:587: FutureWarning: Series.base is deprecated and will be removed in a future version\n",
      "  if getattr(data, 'base', None) is not None and \\\n"
     ]
    },
    {
     "name": "stdout",
     "output_type": "stream",
     "text": [
      "[20:49:40] WARNING: C:/Jenkins/workspace/xgboost-win64_release_0.90/src/objective/regression_obj.cu:152: reg:linear is now deprecated in favor of reg:squarederror.\n"
     ]
    },
    {
     "name": "stderr",
     "output_type": "stream",
     "text": [
      "C:\\ProgramData\\Anaconda3\\lib\\site-packages\\xgboost\\core.py:587: FutureWarning: Series.base is deprecated and will be removed in a future version\n",
      "  if getattr(data, 'base', None) is not None and \\\n"
     ]
    },
    {
     "name": "stdout",
     "output_type": "stream",
     "text": [
      "[20:49:46] WARNING: C:/Jenkins/workspace/xgboost-win64_release_0.90/src/objective/regression_obj.cu:152: reg:linear is now deprecated in favor of reg:squarederror.\n"
     ]
    },
    {
     "name": "stderr",
     "output_type": "stream",
     "text": [
      "C:\\ProgramData\\Anaconda3\\lib\\site-packages\\xgboost\\core.py:587: FutureWarning: Series.base is deprecated and will be removed in a future version\n",
      "  if getattr(data, 'base', None) is not None and \\\n"
     ]
    },
    {
     "name": "stdout",
     "output_type": "stream",
     "text": [
      "[20:49:49] WARNING: C:/Jenkins/workspace/xgboost-win64_release_0.90/src/objective/regression_obj.cu:152: reg:linear is now deprecated in favor of reg:squarederror.\n"
     ]
    },
    {
     "name": "stderr",
     "output_type": "stream",
     "text": [
      "C:\\ProgramData\\Anaconda3\\lib\\site-packages\\xgboost\\core.py:587: FutureWarning: Series.base is deprecated and will be removed in a future version\n",
      "  if getattr(data, 'base', None) is not None and \\\n"
     ]
    },
    {
     "name": "stdout",
     "output_type": "stream",
     "text": [
      "[20:49:54] WARNING: C:/Jenkins/workspace/xgboost-win64_release_0.90/src/objective/regression_obj.cu:152: reg:linear is now deprecated in favor of reg:squarederror.\n"
     ]
    },
    {
     "name": "stderr",
     "output_type": "stream",
     "text": [
      "C:\\ProgramData\\Anaconda3\\lib\\site-packages\\xgboost\\core.py:587: FutureWarning: Series.base is deprecated and will be removed in a future version\n",
      "  if getattr(data, 'base', None) is not None and \\\n"
     ]
    },
    {
     "name": "stdout",
     "output_type": "stream",
     "text": [
      "[20:49:58] WARNING: C:/Jenkins/workspace/xgboost-win64_release_0.90/src/objective/regression_obj.cu:152: reg:linear is now deprecated in favor of reg:squarederror.\n"
     ]
    },
    {
     "name": "stderr",
     "output_type": "stream",
     "text": [
      "C:\\ProgramData\\Anaconda3\\lib\\site-packages\\xgboost\\core.py:587: FutureWarning: Series.base is deprecated and will be removed in a future version\n",
      "  if getattr(data, 'base', None) is not None and \\\n"
     ]
    },
    {
     "name": "stdout",
     "output_type": "stream",
     "text": [
      "[20:50:03] WARNING: C:/Jenkins/workspace/xgboost-win64_release_0.90/src/objective/regression_obj.cu:152: reg:linear is now deprecated in favor of reg:squarederror.\n"
     ]
    },
    {
     "name": "stderr",
     "output_type": "stream",
     "text": [
      "C:\\ProgramData\\Anaconda3\\lib\\site-packages\\xgboost\\core.py:587: FutureWarning: Series.base is deprecated and will be removed in a future version\n",
      "  if getattr(data, 'base', None) is not None and \\\n"
     ]
    },
    {
     "name": "stdout",
     "output_type": "stream",
     "text": [
      "[20:50:08] WARNING: C:/Jenkins/workspace/xgboost-win64_release_0.90/src/objective/regression_obj.cu:152: reg:linear is now deprecated in favor of reg:squarederror.\n"
     ]
    },
    {
     "name": "stderr",
     "output_type": "stream",
     "text": [
      "C:\\ProgramData\\Anaconda3\\lib\\site-packages\\xgboost\\core.py:587: FutureWarning: Series.base is deprecated and will be removed in a future version\n",
      "  if getattr(data, 'base', None) is not None and \\\n"
     ]
    },
    {
     "name": "stdout",
     "output_type": "stream",
     "text": [
      "[20:50:15] WARNING: C:/Jenkins/workspace/xgboost-win64_release_0.90/src/objective/regression_obj.cu:152: reg:linear is now deprecated in favor of reg:squarederror.\n"
     ]
    },
    {
     "name": "stderr",
     "output_type": "stream",
     "text": [
      "C:\\ProgramData\\Anaconda3\\lib\\site-packages\\xgboost\\core.py:587: FutureWarning: Series.base is deprecated and will be removed in a future version\n",
      "  if getattr(data, 'base', None) is not None and \\\n"
     ]
    },
    {
     "name": "stdout",
     "output_type": "stream",
     "text": [
      "[20:50:22] WARNING: C:/Jenkins/workspace/xgboost-win64_release_0.90/src/objective/regression_obj.cu:152: reg:linear is now deprecated in favor of reg:squarederror.\n"
     ]
    },
    {
     "name": "stderr",
     "output_type": "stream",
     "text": [
      "C:\\ProgramData\\Anaconda3\\lib\\site-packages\\xgboost\\core.py:587: FutureWarning: Series.base is deprecated and will be removed in a future version\n",
      "  if getattr(data, 'base', None) is not None and \\\n"
     ]
    },
    {
     "name": "stdout",
     "output_type": "stream",
     "text": [
      "[20:50:23] WARNING: C:/Jenkins/workspace/xgboost-win64_release_0.90/src/objective/regression_obj.cu:152: reg:linear is now deprecated in favor of reg:squarederror.\n"
     ]
    },
    {
     "name": "stderr",
     "output_type": "stream",
     "text": [
      "C:\\ProgramData\\Anaconda3\\lib\\site-packages\\xgboost\\core.py:587: FutureWarning: Series.base is deprecated and will be removed in a future version\n",
      "  if getattr(data, 'base', None) is not None and \\\n"
     ]
    },
    {
     "name": "stdout",
     "output_type": "stream",
     "text": [
      "[20:50:29] WARNING: C:/Jenkins/workspace/xgboost-win64_release_0.90/src/objective/regression_obj.cu:152: reg:linear is now deprecated in favor of reg:squarederror.\n"
     ]
    },
    {
     "name": "stderr",
     "output_type": "stream",
     "text": [
      "C:\\ProgramData\\Anaconda3\\lib\\site-packages\\xgboost\\core.py:587: FutureWarning: Series.base is deprecated and will be removed in a future version\n",
      "  if getattr(data, 'base', None) is not None and \\\n"
     ]
    },
    {
     "name": "stdout",
     "output_type": "stream",
     "text": [
      "[20:50:33] WARNING: C:/Jenkins/workspace/xgboost-win64_release_0.90/src/objective/regression_obj.cu:152: reg:linear is now deprecated in favor of reg:squarederror.\n"
     ]
    },
    {
     "name": "stderr",
     "output_type": "stream",
     "text": [
      "C:\\ProgramData\\Anaconda3\\lib\\site-packages\\xgboost\\core.py:587: FutureWarning: Series.base is deprecated and will be removed in a future version\n",
      "  if getattr(data, 'base', None) is not None and \\\n"
     ]
    },
    {
     "name": "stdout",
     "output_type": "stream",
     "text": [
      "[20:50:37] WARNING: C:/Jenkins/workspace/xgboost-win64_release_0.90/src/objective/regression_obj.cu:152: reg:linear is now deprecated in favor of reg:squarederror.\n"
     ]
    },
    {
     "name": "stderr",
     "output_type": "stream",
     "text": [
      "C:\\ProgramData\\Anaconda3\\lib\\site-packages\\xgboost\\core.py:587: FutureWarning: Series.base is deprecated and will be removed in a future version\n",
      "  if getattr(data, 'base', None) is not None and \\\n"
     ]
    },
    {
     "name": "stdout",
     "output_type": "stream",
     "text": [
      "[20:50:41] WARNING: C:/Jenkins/workspace/xgboost-win64_release_0.90/src/objective/regression_obj.cu:152: reg:linear is now deprecated in favor of reg:squarederror.\n"
     ]
    },
    {
     "name": "stderr",
     "output_type": "stream",
     "text": [
      "C:\\ProgramData\\Anaconda3\\lib\\site-packages\\xgboost\\core.py:587: FutureWarning: Series.base is deprecated and will be removed in a future version\n",
      "  if getattr(data, 'base', None) is not None and \\\n"
     ]
    },
    {
     "name": "stdout",
     "output_type": "stream",
     "text": [
      "[20:50:44] WARNING: C:/Jenkins/workspace/xgboost-win64_release_0.90/src/objective/regression_obj.cu:152: reg:linear is now deprecated in favor of reg:squarederror.\n"
     ]
    },
    {
     "name": "stderr",
     "output_type": "stream",
     "text": [
      "C:\\ProgramData\\Anaconda3\\lib\\site-packages\\xgboost\\core.py:587: FutureWarning: Series.base is deprecated and will be removed in a future version\n",
      "  if getattr(data, 'base', None) is not None and \\\n"
     ]
    },
    {
     "name": "stdout",
     "output_type": "stream",
     "text": [
      "[20:50:49] WARNING: C:/Jenkins/workspace/xgboost-win64_release_0.90/src/objective/regression_obj.cu:152: reg:linear is now deprecated in favor of reg:squarederror.\n"
     ]
    },
    {
     "name": "stderr",
     "output_type": "stream",
     "text": [
      "C:\\ProgramData\\Anaconda3\\lib\\site-packages\\xgboost\\core.py:587: FutureWarning: Series.base is deprecated and will be removed in a future version\n",
      "  if getattr(data, 'base', None) is not None and \\\n"
     ]
    },
    {
     "name": "stdout",
     "output_type": "stream",
     "text": [
      "[20:50:52] WARNING: C:/Jenkins/workspace/xgboost-win64_release_0.90/src/objective/regression_obj.cu:152: reg:linear is now deprecated in favor of reg:squarederror.\n"
     ]
    },
    {
     "name": "stderr",
     "output_type": "stream",
     "text": [
      "C:\\ProgramData\\Anaconda3\\lib\\site-packages\\xgboost\\core.py:587: FutureWarning: Series.base is deprecated and will be removed in a future version\n",
      "  if getattr(data, 'base', None) is not None and \\\n"
     ]
    },
    {
     "name": "stdout",
     "output_type": "stream",
     "text": [
      "[20:50:56] WARNING: C:/Jenkins/workspace/xgboost-win64_release_0.90/src/objective/regression_obj.cu:152: reg:linear is now deprecated in favor of reg:squarederror.\n"
     ]
    },
    {
     "name": "stderr",
     "output_type": "stream",
     "text": [
      "C:\\ProgramData\\Anaconda3\\lib\\site-packages\\xgboost\\core.py:587: FutureWarning: Series.base is deprecated and will be removed in a future version\n",
      "  if getattr(data, 'base', None) is not None and \\\n"
     ]
    },
    {
     "name": "stdout",
     "output_type": "stream",
     "text": [
      "[20:51:00] WARNING: C:/Jenkins/workspace/xgboost-win64_release_0.90/src/objective/regression_obj.cu:152: reg:linear is now deprecated in favor of reg:squarederror.\n"
     ]
    },
    {
     "name": "stderr",
     "output_type": "stream",
     "text": [
      "C:\\ProgramData\\Anaconda3\\lib\\site-packages\\xgboost\\core.py:587: FutureWarning: Series.base is deprecated and will be removed in a future version\n",
      "  if getattr(data, 'base', None) is not None and \\\n"
     ]
    },
    {
     "name": "stdout",
     "output_type": "stream",
     "text": [
      "[20:51:04] WARNING: C:/Jenkins/workspace/xgboost-win64_release_0.90/src/objective/regression_obj.cu:152: reg:linear is now deprecated in favor of reg:squarederror.\n"
     ]
    },
    {
     "name": "stderr",
     "output_type": "stream",
     "text": [
      "C:\\ProgramData\\Anaconda3\\lib\\site-packages\\xgboost\\core.py:587: FutureWarning: Series.base is deprecated and will be removed in a future version\n",
      "  if getattr(data, 'base', None) is not None and \\\n"
     ]
    },
    {
     "name": "stdout",
     "output_type": "stream",
     "text": [
      "[20:51:08] WARNING: C:/Jenkins/workspace/xgboost-win64_release_0.90/src/objective/regression_obj.cu:152: reg:linear is now deprecated in favor of reg:squarederror.\n"
     ]
    },
    {
     "name": "stderr",
     "output_type": "stream",
     "text": [
      "C:\\ProgramData\\Anaconda3\\lib\\site-packages\\xgboost\\core.py:587: FutureWarning: Series.base is deprecated and will be removed in a future version\n",
      "  if getattr(data, 'base', None) is not None and \\\n"
     ]
    },
    {
     "name": "stdout",
     "output_type": "stream",
     "text": [
      "[20:51:11] WARNING: C:/Jenkins/workspace/xgboost-win64_release_0.90/src/objective/regression_obj.cu:152: reg:linear is now deprecated in favor of reg:squarederror.\n"
     ]
    },
    {
     "name": "stderr",
     "output_type": "stream",
     "text": [
      "C:\\ProgramData\\Anaconda3\\lib\\site-packages\\xgboost\\core.py:587: FutureWarning: Series.base is deprecated and will be removed in a future version\n",
      "  if getattr(data, 'base', None) is not None and \\\n"
     ]
    },
    {
     "name": "stdout",
     "output_type": "stream",
     "text": [
      "[20:51:15] WARNING: C:/Jenkins/workspace/xgboost-win64_release_0.90/src/objective/regression_obj.cu:152: reg:linear is now deprecated in favor of reg:squarederror.\n"
     ]
    },
    {
     "name": "stderr",
     "output_type": "stream",
     "text": [
      "C:\\ProgramData\\Anaconda3\\lib\\site-packages\\xgboost\\core.py:587: FutureWarning: Series.base is deprecated and will be removed in a future version\n",
      "  if getattr(data, 'base', None) is not None and \\\n"
     ]
    },
    {
     "name": "stdout",
     "output_type": "stream",
     "text": [
      "[20:51:21] WARNING: C:/Jenkins/workspace/xgboost-win64_release_0.90/src/objective/regression_obj.cu:152: reg:linear is now deprecated in favor of reg:squarederror.\n"
     ]
    },
    {
     "name": "stderr",
     "output_type": "stream",
     "text": [
      "C:\\ProgramData\\Anaconda3\\lib\\site-packages\\xgboost\\core.py:587: FutureWarning: Series.base is deprecated and will be removed in a future version\n",
      "  if getattr(data, 'base', None) is not None and \\\n"
     ]
    },
    {
     "name": "stdout",
     "output_type": "stream",
     "text": [
      "[20:51:25] WARNING: C:/Jenkins/workspace/xgboost-win64_release_0.90/src/objective/regression_obj.cu:152: reg:linear is now deprecated in favor of reg:squarederror.\n"
     ]
    },
    {
     "name": "stderr",
     "output_type": "stream",
     "text": [
      "C:\\ProgramData\\Anaconda3\\lib\\site-packages\\xgboost\\core.py:587: FutureWarning: Series.base is deprecated and will be removed in a future version\n",
      "  if getattr(data, 'base', None) is not None and \\\n"
     ]
    },
    {
     "name": "stdout",
     "output_type": "stream",
     "text": [
      "[20:51:28] WARNING: C:/Jenkins/workspace/xgboost-win64_release_0.90/src/objective/regression_obj.cu:152: reg:linear is now deprecated in favor of reg:squarederror.\n"
     ]
    },
    {
     "name": "stderr",
     "output_type": "stream",
     "text": [
      "C:\\ProgramData\\Anaconda3\\lib\\site-packages\\xgboost\\core.py:587: FutureWarning: Series.base is deprecated and will be removed in a future version\n",
      "  if getattr(data, 'base', None) is not None and \\\n"
     ]
    },
    {
     "name": "stdout",
     "output_type": "stream",
     "text": [
      "[20:51:33] WARNING: C:/Jenkins/workspace/xgboost-win64_release_0.90/src/objective/regression_obj.cu:152: reg:linear is now deprecated in favor of reg:squarederror.\n"
     ]
    },
    {
     "name": "stderr",
     "output_type": "stream",
     "text": [
      "C:\\ProgramData\\Anaconda3\\lib\\site-packages\\xgboost\\core.py:587: FutureWarning: Series.base is deprecated and will be removed in a future version\n",
      "  if getattr(data, 'base', None) is not None and \\\n"
     ]
    },
    {
     "name": "stdout",
     "output_type": "stream",
     "text": [
      "[20:51:40] WARNING: C:/Jenkins/workspace/xgboost-win64_release_0.90/src/objective/regression_obj.cu:152: reg:linear is now deprecated in favor of reg:squarederror.\n"
     ]
    },
    {
     "name": "stderr",
     "output_type": "stream",
     "text": [
      "C:\\ProgramData\\Anaconda3\\lib\\site-packages\\xgboost\\core.py:587: FutureWarning: Series.base is deprecated and will be removed in a future version\n",
      "  if getattr(data, 'base', None) is not None and \\\n"
     ]
    },
    {
     "name": "stdout",
     "output_type": "stream",
     "text": [
      "[20:51:46] WARNING: C:/Jenkins/workspace/xgboost-win64_release_0.90/src/objective/regression_obj.cu:152: reg:linear is now deprecated in favor of reg:squarederror.\n"
     ]
    },
    {
     "name": "stderr",
     "output_type": "stream",
     "text": [
      "C:\\ProgramData\\Anaconda3\\lib\\site-packages\\xgboost\\core.py:587: FutureWarning: Series.base is deprecated and will be removed in a future version\n",
      "  if getattr(data, 'base', None) is not None and \\\n"
     ]
    },
    {
     "name": "stdout",
     "output_type": "stream",
     "text": [
      "[20:51:51] WARNING: C:/Jenkins/workspace/xgboost-win64_release_0.90/src/objective/regression_obj.cu:152: reg:linear is now deprecated in favor of reg:squarederror.\n"
     ]
    },
    {
     "name": "stderr",
     "output_type": "stream",
     "text": [
      "C:\\ProgramData\\Anaconda3\\lib\\site-packages\\xgboost\\core.py:587: FutureWarning: Series.base is deprecated and will be removed in a future version\n",
      "  if getattr(data, 'base', None) is not None and \\\n"
     ]
    },
    {
     "name": "stdout",
     "output_type": "stream",
     "text": [
      "[20:51:56] WARNING: C:/Jenkins/workspace/xgboost-win64_release_0.90/src/objective/regression_obj.cu:152: reg:linear is now deprecated in favor of reg:squarederror.\n"
     ]
    },
    {
     "name": "stderr",
     "output_type": "stream",
     "text": [
      "C:\\ProgramData\\Anaconda3\\lib\\site-packages\\xgboost\\core.py:587: FutureWarning: Series.base is deprecated and will be removed in a future version\n",
      "  if getattr(data, 'base', None) is not None and \\\n"
     ]
    },
    {
     "name": "stdout",
     "output_type": "stream",
     "text": [
      "[20:52:06] WARNING: C:/Jenkins/workspace/xgboost-win64_release_0.90/src/objective/regression_obj.cu:152: reg:linear is now deprecated in favor of reg:squarederror.\n"
     ]
    },
    {
     "name": "stderr",
     "output_type": "stream",
     "text": [
      "C:\\ProgramData\\Anaconda3\\lib\\site-packages\\xgboost\\core.py:587: FutureWarning: Series.base is deprecated and will be removed in a future version\n",
      "  if getattr(data, 'base', None) is not None and \\\n"
     ]
    },
    {
     "name": "stdout",
     "output_type": "stream",
     "text": [
      "[20:52:13] WARNING: C:/Jenkins/workspace/xgboost-win64_release_0.90/src/objective/regression_obj.cu:152: reg:linear is now deprecated in favor of reg:squarederror.\n"
     ]
    },
    {
     "name": "stderr",
     "output_type": "stream",
     "text": [
      "C:\\ProgramData\\Anaconda3\\lib\\site-packages\\xgboost\\core.py:587: FutureWarning: Series.base is deprecated and will be removed in a future version\n",
      "  if getattr(data, 'base', None) is not None and \\\n"
     ]
    },
    {
     "name": "stdout",
     "output_type": "stream",
     "text": [
      "[20:52:17] WARNING: C:/Jenkins/workspace/xgboost-win64_release_0.90/src/objective/regression_obj.cu:152: reg:linear is now deprecated in favor of reg:squarederror.\n"
     ]
    },
    {
     "name": "stderr",
     "output_type": "stream",
     "text": [
      "C:\\ProgramData\\Anaconda3\\lib\\site-packages\\xgboost\\core.py:587: FutureWarning: Series.base is deprecated and will be removed in a future version\n",
      "  if getattr(data, 'base', None) is not None and \\\n"
     ]
    },
    {
     "name": "stdout",
     "output_type": "stream",
     "text": [
      "[20:52:21] WARNING: C:/Jenkins/workspace/xgboost-win64_release_0.90/src/objective/regression_obj.cu:152: reg:linear is now deprecated in favor of reg:squarederror.\n"
     ]
    },
    {
     "name": "stderr",
     "output_type": "stream",
     "text": [
      "C:\\ProgramData\\Anaconda3\\lib\\site-packages\\xgboost\\core.py:587: FutureWarning: Series.base is deprecated and will be removed in a future version\n",
      "  if getattr(data, 'base', None) is not None and \\\n"
     ]
    },
    {
     "name": "stdout",
     "output_type": "stream",
     "text": [
      "[20:52:24] WARNING: C:/Jenkins/workspace/xgboost-win64_release_0.90/src/objective/regression_obj.cu:152: reg:linear is now deprecated in favor of reg:squarederror.\n"
     ]
    },
    {
     "name": "stderr",
     "output_type": "stream",
     "text": [
      "C:\\ProgramData\\Anaconda3\\lib\\site-packages\\xgboost\\core.py:587: FutureWarning: Series.base is deprecated and will be removed in a future version\n",
      "  if getattr(data, 'base', None) is not None and \\\n"
     ]
    },
    {
     "name": "stdout",
     "output_type": "stream",
     "text": [
      "[20:52:27] WARNING: C:/Jenkins/workspace/xgboost-win64_release_0.90/src/objective/regression_obj.cu:152: reg:linear is now deprecated in favor of reg:squarederror.\n"
     ]
    },
    {
     "name": "stderr",
     "output_type": "stream",
     "text": [
      "C:\\ProgramData\\Anaconda3\\lib\\site-packages\\xgboost\\core.py:587: FutureWarning: Series.base is deprecated and will be removed in a future version\n",
      "  if getattr(data, 'base', None) is not None and \\\n"
     ]
    },
    {
     "name": "stdout",
     "output_type": "stream",
     "text": [
      "[20:52:33] WARNING: C:/Jenkins/workspace/xgboost-win64_release_0.90/src/objective/regression_obj.cu:152: reg:linear is now deprecated in favor of reg:squarederror.\n"
     ]
    },
    {
     "name": "stderr",
     "output_type": "stream",
     "text": [
      "C:\\ProgramData\\Anaconda3\\lib\\site-packages\\xgboost\\core.py:587: FutureWarning: Series.base is deprecated and will be removed in a future version\n",
      "  if getattr(data, 'base', None) is not None and \\\n"
     ]
    },
    {
     "name": "stdout",
     "output_type": "stream",
     "text": [
      "[20:52:36] WARNING: C:/Jenkins/workspace/xgboost-win64_release_0.90/src/objective/regression_obj.cu:152: reg:linear is now deprecated in favor of reg:squarederror.\n"
     ]
    },
    {
     "name": "stderr",
     "output_type": "stream",
     "text": [
      "C:\\ProgramData\\Anaconda3\\lib\\site-packages\\xgboost\\core.py:587: FutureWarning: Series.base is deprecated and will be removed in a future version\n",
      "  if getattr(data, 'base', None) is not None and \\\n"
     ]
    },
    {
     "name": "stdout",
     "output_type": "stream",
     "text": [
      "[20:52:40] WARNING: C:/Jenkins/workspace/xgboost-win64_release_0.90/src/objective/regression_obj.cu:152: reg:linear is now deprecated in favor of reg:squarederror.\n"
     ]
    },
    {
     "name": "stderr",
     "output_type": "stream",
     "text": [
      "C:\\ProgramData\\Anaconda3\\lib\\site-packages\\xgboost\\core.py:587: FutureWarning: Series.base is deprecated and will be removed in a future version\n",
      "  if getattr(data, 'base', None) is not None and \\\n"
     ]
    },
    {
     "name": "stdout",
     "output_type": "stream",
     "text": [
      "[20:52:45] WARNING: C:/Jenkins/workspace/xgboost-win64_release_0.90/src/objective/regression_obj.cu:152: reg:linear is now deprecated in favor of reg:squarederror.\n"
     ]
    },
    {
     "name": "stderr",
     "output_type": "stream",
     "text": [
      "C:\\ProgramData\\Anaconda3\\lib\\site-packages\\xgboost\\core.py:587: FutureWarning: Series.base is deprecated and will be removed in a future version\n",
      "  if getattr(data, 'base', None) is not None and \\\n"
     ]
    },
    {
     "name": "stdout",
     "output_type": "stream",
     "text": [
      "[20:52:47] WARNING: C:/Jenkins/workspace/xgboost-win64_release_0.90/src/objective/regression_obj.cu:152: reg:linear is now deprecated in favor of reg:squarederror.\n"
     ]
    },
    {
     "name": "stderr",
     "output_type": "stream",
     "text": [
      "C:\\ProgramData\\Anaconda3\\lib\\site-packages\\xgboost\\core.py:587: FutureWarning: Series.base is deprecated and will be removed in a future version\n",
      "  if getattr(data, 'base', None) is not None and \\\n"
     ]
    },
    {
     "name": "stdout",
     "output_type": "stream",
     "text": [
      "[20:52:52] WARNING: C:/Jenkins/workspace/xgboost-win64_release_0.90/src/objective/regression_obj.cu:152: reg:linear is now deprecated in favor of reg:squarederror.\n"
     ]
    },
    {
     "name": "stderr",
     "output_type": "stream",
     "text": [
      "C:\\ProgramData\\Anaconda3\\lib\\site-packages\\xgboost\\core.py:587: FutureWarning: Series.base is deprecated and will be removed in a future version\n",
      "  if getattr(data, 'base', None) is not None and \\\n"
     ]
    },
    {
     "name": "stdout",
     "output_type": "stream",
     "text": [
      "[20:52:56] WARNING: C:/Jenkins/workspace/xgboost-win64_release_0.90/src/objective/regression_obj.cu:152: reg:linear is now deprecated in favor of reg:squarederror.\n"
     ]
    },
    {
     "name": "stderr",
     "output_type": "stream",
     "text": [
      "C:\\ProgramData\\Anaconda3\\lib\\site-packages\\xgboost\\core.py:587: FutureWarning: Series.base is deprecated and will be removed in a future version\n",
      "  if getattr(data, 'base', None) is not None and \\\n"
     ]
    },
    {
     "name": "stdout",
     "output_type": "stream",
     "text": [
      "[20:52:59] WARNING: C:/Jenkins/workspace/xgboost-win64_release_0.90/src/objective/regression_obj.cu:152: reg:linear is now deprecated in favor of reg:squarederror.\n"
     ]
    },
    {
     "name": "stderr",
     "output_type": "stream",
     "text": [
      "C:\\ProgramData\\Anaconda3\\lib\\site-packages\\xgboost\\core.py:587: FutureWarning: Series.base is deprecated and will be removed in a future version\n",
      "  if getattr(data, 'base', None) is not None and \\\n"
     ]
    },
    {
     "name": "stdout",
     "output_type": "stream",
     "text": [
      "[20:53:03] WARNING: C:/Jenkins/workspace/xgboost-win64_release_0.90/src/objective/regression_obj.cu:152: reg:linear is now deprecated in favor of reg:squarederror.\n"
     ]
    },
    {
     "name": "stderr",
     "output_type": "stream",
     "text": [
      "C:\\ProgramData\\Anaconda3\\lib\\site-packages\\joblib\\externals\\loky\\process_executor.py:706: UserWarning: A worker stopped while some jobs were given to the executor. This can be caused by a too short worker timeout or by a memory leak.\n",
      "  \"timeout or by a memory leak.\", UserWarning\n",
      "C:\\ProgramData\\Anaconda3\\lib\\site-packages\\xgboost\\core.py:587: FutureWarning: Series.base is deprecated and will be removed in a future version\n",
      "  if getattr(data, 'base', None) is not None and \\\n"
     ]
    },
    {
     "name": "stdout",
     "output_type": "stream",
     "text": [
      "[20:53:05] WARNING: C:/Jenkins/workspace/xgboost-win64_release_0.90/src/objective/regression_obj.cu:152: reg:linear is now deprecated in favor of reg:squarederror.\n"
     ]
    },
    {
     "name": "stderr",
     "output_type": "stream",
     "text": [
      "C:\\ProgramData\\Anaconda3\\lib\\site-packages\\xgboost\\core.py:587: FutureWarning: Series.base is deprecated and will be removed in a future version\n",
      "  if getattr(data, 'base', None) is not None and \\\n"
     ]
    },
    {
     "name": "stdout",
     "output_type": "stream",
     "text": [
      "[20:53:09] WARNING: C:/Jenkins/workspace/xgboost-win64_release_0.90/src/objective/regression_obj.cu:152: reg:linear is now deprecated in favor of reg:squarederror.\n"
     ]
    },
    {
     "name": "stderr",
     "output_type": "stream",
     "text": [
      "C:\\ProgramData\\Anaconda3\\lib\\site-packages\\xgboost\\core.py:587: FutureWarning: Series.base is deprecated and will be removed in a future version\n",
      "  if getattr(data, 'base', None) is not None and \\\n"
     ]
    },
    {
     "name": "stdout",
     "output_type": "stream",
     "text": [
      "[20:53:10] WARNING: C:/Jenkins/workspace/xgboost-win64_release_0.90/src/objective/regression_obj.cu:152: reg:linear is now deprecated in favor of reg:squarederror.\n"
     ]
    },
    {
     "name": "stderr",
     "output_type": "stream",
     "text": [
      "C:\\ProgramData\\Anaconda3\\lib\\site-packages\\xgboost\\core.py:587: FutureWarning: Series.base is deprecated and will be removed in a future version\n",
      "  if getattr(data, 'base', None) is not None and \\\n"
     ]
    },
    {
     "name": "stdout",
     "output_type": "stream",
     "text": [
      "[20:53:17] WARNING: C:/Jenkins/workspace/xgboost-win64_release_0.90/src/objective/regression_obj.cu:152: reg:linear is now deprecated in favor of reg:squarederror.\n"
     ]
    },
    {
     "name": "stderr",
     "output_type": "stream",
     "text": [
      "C:\\ProgramData\\Anaconda3\\lib\\site-packages\\xgboost\\core.py:587: FutureWarning: Series.base is deprecated and will be removed in a future version\n",
      "  if getattr(data, 'base', None) is not None and \\\n"
     ]
    },
    {
     "name": "stdout",
     "output_type": "stream",
     "text": [
      "[20:53:20] WARNING: C:/Jenkins/workspace/xgboost-win64_release_0.90/src/objective/regression_obj.cu:152: reg:linear is now deprecated in favor of reg:squarederror.\n"
     ]
    },
    {
     "name": "stderr",
     "output_type": "stream",
     "text": [
      "C:\\ProgramData\\Anaconda3\\lib\\site-packages\\xgboost\\core.py:587: FutureWarning: Series.base is deprecated and will be removed in a future version\n",
      "  if getattr(data, 'base', None) is not None and \\\n"
     ]
    },
    {
     "name": "stdout",
     "output_type": "stream",
     "text": [
      "[20:53:27] WARNING: C:/Jenkins/workspace/xgboost-win64_release_0.90/src/objective/regression_obj.cu:152: reg:linear is now deprecated in favor of reg:squarederror.\n"
     ]
    },
    {
     "name": "stderr",
     "output_type": "stream",
     "text": [
      "C:\\ProgramData\\Anaconda3\\lib\\site-packages\\xgboost\\core.py:587: FutureWarning: Series.base is deprecated and will be removed in a future version\n",
      "  if getattr(data, 'base', None) is not None and \\\n"
     ]
    },
    {
     "name": "stdout",
     "output_type": "stream",
     "text": [
      "[20:53:29] WARNING: C:/Jenkins/workspace/xgboost-win64_release_0.90/src/objective/regression_obj.cu:152: reg:linear is now deprecated in favor of reg:squarederror.\n"
     ]
    },
    {
     "name": "stderr",
     "output_type": "stream",
     "text": [
      "C:\\ProgramData\\Anaconda3\\lib\\site-packages\\xgboost\\core.py:587: FutureWarning: Series.base is deprecated and will be removed in a future version\n",
      "  if getattr(data, 'base', None) is not None and \\\n"
     ]
    },
    {
     "name": "stdout",
     "output_type": "stream",
     "text": [
      "[20:53:32] WARNING: C:/Jenkins/workspace/xgboost-win64_release_0.90/src/objective/regression_obj.cu:152: reg:linear is now deprecated in favor of reg:squarederror.\n"
     ]
    },
    {
     "name": "stderr",
     "output_type": "stream",
     "text": [
      "C:\\ProgramData\\Anaconda3\\lib\\site-packages\\xgboost\\core.py:587: FutureWarning: Series.base is deprecated and will be removed in a future version\n",
      "  if getattr(data, 'base', None) is not None and \\\n"
     ]
    },
    {
     "name": "stdout",
     "output_type": "stream",
     "text": [
      "[20:53:38] WARNING: C:/Jenkins/workspace/xgboost-win64_release_0.90/src/objective/regression_obj.cu:152: reg:linear is now deprecated in favor of reg:squarederror.\n"
     ]
    },
    {
     "name": "stderr",
     "output_type": "stream",
     "text": [
      "C:\\ProgramData\\Anaconda3\\lib\\site-packages\\xgboost\\core.py:587: FutureWarning: Series.base is deprecated and will be removed in a future version\n",
      "  if getattr(data, 'base', None) is not None and \\\n"
     ]
    },
    {
     "name": "stdout",
     "output_type": "stream",
     "text": [
      "[20:53:41] WARNING: C:/Jenkins/workspace/xgboost-win64_release_0.90/src/objective/regression_obj.cu:152: reg:linear is now deprecated in favor of reg:squarederror.\n"
     ]
    },
    {
     "name": "stderr",
     "output_type": "stream",
     "text": [
      "C:\\ProgramData\\Anaconda3\\lib\\site-packages\\xgboost\\core.py:587: FutureWarning: Series.base is deprecated and will be removed in a future version\n",
      "  if getattr(data, 'base', None) is not None and \\\n"
     ]
    },
    {
     "name": "stdout",
     "output_type": "stream",
     "text": [
      "[20:53:45] WARNING: C:/Jenkins/workspace/xgboost-win64_release_0.90/src/objective/regression_obj.cu:152: reg:linear is now deprecated in favor of reg:squarederror.\n"
     ]
    },
    {
     "name": "stderr",
     "output_type": "stream",
     "text": [
      "C:\\ProgramData\\Anaconda3\\lib\\site-packages\\xgboost\\core.py:587: FutureWarning: Series.base is deprecated and will be removed in a future version\n",
      "  if getattr(data, 'base', None) is not None and \\\n"
     ]
    },
    {
     "name": "stdout",
     "output_type": "stream",
     "text": [
      "[20:53:50] WARNING: C:/Jenkins/workspace/xgboost-win64_release_0.90/src/objective/regression_obj.cu:152: reg:linear is now deprecated in favor of reg:squarederror.\n"
     ]
    },
    {
     "name": "stderr",
     "output_type": "stream",
     "text": [
      "C:\\ProgramData\\Anaconda3\\lib\\site-packages\\xgboost\\core.py:587: FutureWarning: Series.base is deprecated and will be removed in a future version\n",
      "  if getattr(data, 'base', None) is not None and \\\n"
     ]
    },
    {
     "name": "stdout",
     "output_type": "stream",
     "text": [
      "[20:53:52] WARNING: C:/Jenkins/workspace/xgboost-win64_release_0.90/src/objective/regression_obj.cu:152: reg:linear is now deprecated in favor of reg:squarederror.\n"
     ]
    },
    {
     "name": "stderr",
     "output_type": "stream",
     "text": [
      "C:\\ProgramData\\Anaconda3\\lib\\site-packages\\xgboost\\core.py:587: FutureWarning: Series.base is deprecated and will be removed in a future version\n",
      "  if getattr(data, 'base', None) is not None and \\\n"
     ]
    },
    {
     "name": "stdout",
     "output_type": "stream",
     "text": [
      "[20:53:56] WARNING: C:/Jenkins/workspace/xgboost-win64_release_0.90/src/objective/regression_obj.cu:152: reg:linear is now deprecated in favor of reg:squarederror.\n"
     ]
    },
    {
     "name": "stderr",
     "output_type": "stream",
     "text": [
      "C:\\ProgramData\\Anaconda3\\lib\\site-packages\\xgboost\\core.py:587: FutureWarning: Series.base is deprecated and will be removed in a future version\n",
      "  if getattr(data, 'base', None) is not None and \\\n"
     ]
    },
    {
     "name": "stdout",
     "output_type": "stream",
     "text": [
      "[20:54:03] WARNING: C:/Jenkins/workspace/xgboost-win64_release_0.90/src/objective/regression_obj.cu:152: reg:linear is now deprecated in favor of reg:squarederror.\n"
     ]
    },
    {
     "name": "stderr",
     "output_type": "stream",
     "text": [
      "C:\\ProgramData\\Anaconda3\\lib\\site-packages\\xgboost\\core.py:587: FutureWarning: Series.base is deprecated and will be removed in a future version\n",
      "  if getattr(data, 'base', None) is not None and \\\n"
     ]
    },
    {
     "name": "stdout",
     "output_type": "stream",
     "text": [
      "[20:54:09] WARNING: C:/Jenkins/workspace/xgboost-win64_release_0.90/src/objective/regression_obj.cu:152: reg:linear is now deprecated in favor of reg:squarederror.\n"
     ]
    },
    {
     "name": "stderr",
     "output_type": "stream",
     "text": [
      "C:\\ProgramData\\Anaconda3\\lib\\site-packages\\xgboost\\core.py:587: FutureWarning: Series.base is deprecated and will be removed in a future version\n",
      "  if getattr(data, 'base', None) is not None and \\\n"
     ]
    },
    {
     "name": "stdout",
     "output_type": "stream",
     "text": [
      "[20:54:15] WARNING: C:/Jenkins/workspace/xgboost-win64_release_0.90/src/objective/regression_obj.cu:152: reg:linear is now deprecated in favor of reg:squarederror.\n"
     ]
    },
    {
     "name": "stderr",
     "output_type": "stream",
     "text": [
      "C:\\ProgramData\\Anaconda3\\lib\\site-packages\\xgboost\\core.py:587: FutureWarning: Series.base is deprecated and will be removed in a future version\n",
      "  if getattr(data, 'base', None) is not None and \\\n"
     ]
    },
    {
     "name": "stdout",
     "output_type": "stream",
     "text": [
      "[20:54:17] WARNING: C:/Jenkins/workspace/xgboost-win64_release_0.90/src/objective/regression_obj.cu:152: reg:linear is now deprecated in favor of reg:squarederror.\n"
     ]
    },
    {
     "name": "stderr",
     "output_type": "stream",
     "text": [
      "C:\\ProgramData\\Anaconda3\\lib\\site-packages\\xgboost\\core.py:587: FutureWarning: Series.base is deprecated and will be removed in a future version\n",
      "  if getattr(data, 'base', None) is not None and \\\n"
     ]
    },
    {
     "name": "stdout",
     "output_type": "stream",
     "text": [
      "[20:54:22] WARNING: C:/Jenkins/workspace/xgboost-win64_release_0.90/src/objective/regression_obj.cu:152: reg:linear is now deprecated in favor of reg:squarederror.\n"
     ]
    },
    {
     "name": "stderr",
     "output_type": "stream",
     "text": [
      "C:\\ProgramData\\Anaconda3\\lib\\site-packages\\xgboost\\core.py:587: FutureWarning: Series.base is deprecated and will be removed in a future version\n",
      "  if getattr(data, 'base', None) is not None and \\\n"
     ]
    },
    {
     "name": "stdout",
     "output_type": "stream",
     "text": [
      "[20:54:24] WARNING: C:/Jenkins/workspace/xgboost-win64_release_0.90/src/objective/regression_obj.cu:152: reg:linear is now deprecated in favor of reg:squarederror.\n"
     ]
    },
    {
     "name": "stderr",
     "output_type": "stream",
     "text": [
      "C:\\ProgramData\\Anaconda3\\lib\\site-packages\\xgboost\\core.py:587: FutureWarning: Series.base is deprecated and will be removed in a future version\n",
      "  if getattr(data, 'base', None) is not None and \\\n"
     ]
    },
    {
     "name": "stdout",
     "output_type": "stream",
     "text": [
      "[20:54:29] WARNING: C:/Jenkins/workspace/xgboost-win64_release_0.90/src/objective/regression_obj.cu:152: reg:linear is now deprecated in favor of reg:squarederror.\n"
     ]
    },
    {
     "name": "stderr",
     "output_type": "stream",
     "text": [
      "C:\\ProgramData\\Anaconda3\\lib\\site-packages\\xgboost\\core.py:587: FutureWarning: Series.base is deprecated and will be removed in a future version\n",
      "  if getattr(data, 'base', None) is not None and \\\n"
     ]
    },
    {
     "name": "stdout",
     "output_type": "stream",
     "text": [
      "[20:54:33] WARNING: C:/Jenkins/workspace/xgboost-win64_release_0.90/src/objective/regression_obj.cu:152: reg:linear is now deprecated in favor of reg:squarederror.\n"
     ]
    },
    {
     "name": "stderr",
     "output_type": "stream",
     "text": [
      "C:\\ProgramData\\Anaconda3\\lib\\site-packages\\xgboost\\core.py:587: FutureWarning: Series.base is deprecated and will be removed in a future version\n",
      "  if getattr(data, 'base', None) is not None and \\\n"
     ]
    },
    {
     "name": "stdout",
     "output_type": "stream",
     "text": [
      "[20:54:37] WARNING: C:/Jenkins/workspace/xgboost-win64_release_0.90/src/objective/regression_obj.cu:152: reg:linear is now deprecated in favor of reg:squarederror.\n"
     ]
    },
    {
     "name": "stderr",
     "output_type": "stream",
     "text": [
      "C:\\ProgramData\\Anaconda3\\lib\\site-packages\\xgboost\\core.py:587: FutureWarning: Series.base is deprecated and will be removed in a future version\n",
      "  if getattr(data, 'base', None) is not None and \\\n"
     ]
    },
    {
     "name": "stdout",
     "output_type": "stream",
     "text": [
      "[20:54:42] WARNING: C:/Jenkins/workspace/xgboost-win64_release_0.90/src/objective/regression_obj.cu:152: reg:linear is now deprecated in favor of reg:squarederror.\n"
     ]
    },
    {
     "name": "stderr",
     "output_type": "stream",
     "text": [
      "C:\\ProgramData\\Anaconda3\\lib\\site-packages\\xgboost\\core.py:587: FutureWarning: Series.base is deprecated and will be removed in a future version\n",
      "  if getattr(data, 'base', None) is not None and \\\n"
     ]
    },
    {
     "name": "stdout",
     "output_type": "stream",
     "text": [
      "[20:54:46] WARNING: C:/Jenkins/workspace/xgboost-win64_release_0.90/src/objective/regression_obj.cu:152: reg:linear is now deprecated in favor of reg:squarederror.\n"
     ]
    },
    {
     "name": "stderr",
     "output_type": "stream",
     "text": [
      "C:\\ProgramData\\Anaconda3\\lib\\site-packages\\xgboost\\core.py:587: FutureWarning: Series.base is deprecated and will be removed in a future version\n",
      "  if getattr(data, 'base', None) is not None and \\\n"
     ]
    },
    {
     "name": "stdout",
     "output_type": "stream",
     "text": [
      "[20:54:49] WARNING: C:/Jenkins/workspace/xgboost-win64_release_0.90/src/objective/regression_obj.cu:152: reg:linear is now deprecated in favor of reg:squarederror.\n"
     ]
    },
    {
     "name": "stderr",
     "output_type": "stream",
     "text": [
      "C:\\ProgramData\\Anaconda3\\lib\\site-packages\\xgboost\\core.py:587: FutureWarning: Series.base is deprecated and will be removed in a future version\n",
      "  if getattr(data, 'base', None) is not None and \\\n"
     ]
    },
    {
     "name": "stdout",
     "output_type": "stream",
     "text": [
      "[20:54:53] WARNING: C:/Jenkins/workspace/xgboost-win64_release_0.90/src/objective/regression_obj.cu:152: reg:linear is now deprecated in favor of reg:squarederror.\n"
     ]
    },
    {
     "name": "stderr",
     "output_type": "stream",
     "text": [
      "C:\\ProgramData\\Anaconda3\\lib\\site-packages\\xgboost\\core.py:587: FutureWarning: Series.base is deprecated and will be removed in a future version\n",
      "  if getattr(data, 'base', None) is not None and \\\n"
     ]
    },
    {
     "name": "stdout",
     "output_type": "stream",
     "text": [
      "[20:54:57] WARNING: C:/Jenkins/workspace/xgboost-win64_release_0.90/src/objective/regression_obj.cu:152: reg:linear is now deprecated in favor of reg:squarederror.\n"
     ]
    },
    {
     "name": "stderr",
     "output_type": "stream",
     "text": [
      "C:\\ProgramData\\Anaconda3\\lib\\site-packages\\xgboost\\core.py:587: FutureWarning: Series.base is deprecated and will be removed in a future version\n",
      "  if getattr(data, 'base', None) is not None and \\\n"
     ]
    },
    {
     "name": "stdout",
     "output_type": "stream",
     "text": [
      "[20:55:00] WARNING: C:/Jenkins/workspace/xgboost-win64_release_0.90/src/objective/regression_obj.cu:152: reg:linear is now deprecated in favor of reg:squarederror.\n"
     ]
    },
    {
     "name": "stderr",
     "output_type": "stream",
     "text": [
      "C:\\ProgramData\\Anaconda3\\lib\\site-packages\\xgboost\\core.py:587: FutureWarning: Series.base is deprecated and will be removed in a future version\n",
      "  if getattr(data, 'base', None) is not None and \\\n"
     ]
    },
    {
     "name": "stdout",
     "output_type": "stream",
     "text": [
      "[20:55:06] WARNING: C:/Jenkins/workspace/xgboost-win64_release_0.90/src/objective/regression_obj.cu:152: reg:linear is now deprecated in favor of reg:squarederror.\n"
     ]
    },
    {
     "name": "stderr",
     "output_type": "stream",
     "text": [
      "C:\\ProgramData\\Anaconda3\\lib\\site-packages\\xgboost\\core.py:587: FutureWarning: Series.base is deprecated and will be removed in a future version\n",
      "  if getattr(data, 'base', None) is not None and \\\n"
     ]
    },
    {
     "name": "stdout",
     "output_type": "stream",
     "text": [
      "[20:55:10] WARNING: C:/Jenkins/workspace/xgboost-win64_release_0.90/src/objective/regression_obj.cu:152: reg:linear is now deprecated in favor of reg:squarederror.\n"
     ]
    },
    {
     "name": "stderr",
     "output_type": "stream",
     "text": [
      "C:\\ProgramData\\Anaconda3\\lib\\site-packages\\xgboost\\core.py:587: FutureWarning: Series.base is deprecated and will be removed in a future version\n",
      "  if getattr(data, 'base', None) is not None and \\\n"
     ]
    },
    {
     "name": "stdout",
     "output_type": "stream",
     "text": [
      "[20:55:12] WARNING: C:/Jenkins/workspace/xgboost-win64_release_0.90/src/objective/regression_obj.cu:152: reg:linear is now deprecated in favor of reg:squarederror.\n"
     ]
    },
    {
     "name": "stderr",
     "output_type": "stream",
     "text": [
      "C:\\ProgramData\\Anaconda3\\lib\\site-packages\\xgboost\\core.py:587: FutureWarning: Series.base is deprecated and will be removed in a future version\n",
      "  if getattr(data, 'base', None) is not None and \\\n"
     ]
    },
    {
     "name": "stdout",
     "output_type": "stream",
     "text": [
      "[20:55:16] WARNING: C:/Jenkins/workspace/xgboost-win64_release_0.90/src/objective/regression_obj.cu:152: reg:linear is now deprecated in favor of reg:squarederror.\n"
     ]
    },
    {
     "name": "stderr",
     "output_type": "stream",
     "text": [
      "C:\\ProgramData\\Anaconda3\\lib\\site-packages\\xgboost\\core.py:587: FutureWarning: Series.base is deprecated and will be removed in a future version\n",
      "  if getattr(data, 'base', None) is not None and \\\n"
     ]
    },
    {
     "name": "stdout",
     "output_type": "stream",
     "text": [
      "[20:55:20] WARNING: C:/Jenkins/workspace/xgboost-win64_release_0.90/src/objective/regression_obj.cu:152: reg:linear is now deprecated in favor of reg:squarederror.\n"
     ]
    },
    {
     "name": "stderr",
     "output_type": "stream",
     "text": [
      "C:\\ProgramData\\Anaconda3\\lib\\site-packages\\xgboost\\core.py:587: FutureWarning: Series.base is deprecated and will be removed in a future version\n",
      "  if getattr(data, 'base', None) is not None and \\\n"
     ]
    },
    {
     "name": "stdout",
     "output_type": "stream",
     "text": [
      "[20:55:25] WARNING: C:/Jenkins/workspace/xgboost-win64_release_0.90/src/objective/regression_obj.cu:152: reg:linear is now deprecated in favor of reg:squarederror.\n"
     ]
    },
    {
     "name": "stderr",
     "output_type": "stream",
     "text": [
      "C:\\ProgramData\\Anaconda3\\lib\\site-packages\\xgboost\\core.py:587: FutureWarning: Series.base is deprecated and will be removed in a future version\n",
      "  if getattr(data, 'base', None) is not None and \\\n"
     ]
    },
    {
     "name": "stdout",
     "output_type": "stream",
     "text": [
      "[20:55:31] WARNING: C:/Jenkins/workspace/xgboost-win64_release_0.90/src/objective/regression_obj.cu:152: reg:linear is now deprecated in favor of reg:squarederror.\n"
     ]
    },
    {
     "name": "stderr",
     "output_type": "stream",
     "text": [
      "C:\\ProgramData\\Anaconda3\\lib\\site-packages\\xgboost\\core.py:587: FutureWarning: Series.base is deprecated and will be removed in a future version\n",
      "  if getattr(data, 'base', None) is not None and \\\n"
     ]
    },
    {
     "name": "stdout",
     "output_type": "stream",
     "text": [
      "[20:55:34] WARNING: C:/Jenkins/workspace/xgboost-win64_release_0.90/src/objective/regression_obj.cu:152: reg:linear is now deprecated in favor of reg:squarederror.\n"
     ]
    },
    {
     "name": "stderr",
     "output_type": "stream",
     "text": [
      "C:\\ProgramData\\Anaconda3\\lib\\site-packages\\xgboost\\core.py:587: FutureWarning: Series.base is deprecated and will be removed in a future version\n",
      "  if getattr(data, 'base', None) is not None and \\\n"
     ]
    },
    {
     "name": "stdout",
     "output_type": "stream",
     "text": [
      "[20:55:38] WARNING: C:/Jenkins/workspace/xgboost-win64_release_0.90/src/objective/regression_obj.cu:152: reg:linear is now deprecated in favor of reg:squarederror.\n"
     ]
    },
    {
     "name": "stderr",
     "output_type": "stream",
     "text": [
      "C:\\ProgramData\\Anaconda3\\lib\\site-packages\\xgboost\\core.py:587: FutureWarning: Series.base is deprecated and will be removed in a future version\n",
      "  if getattr(data, 'base', None) is not None and \\\n"
     ]
    },
    {
     "name": "stdout",
     "output_type": "stream",
     "text": [
      "[20:55:41] WARNING: C:/Jenkins/workspace/xgboost-win64_release_0.90/src/objective/regression_obj.cu:152: reg:linear is now deprecated in favor of reg:squarederror.\n"
     ]
    },
    {
     "name": "stderr",
     "output_type": "stream",
     "text": [
      "C:\\ProgramData\\Anaconda3\\lib\\site-packages\\xgboost\\core.py:587: FutureWarning: Series.base is deprecated and will be removed in a future version\n",
      "  if getattr(data, 'base', None) is not None and \\\n"
     ]
    },
    {
     "name": "stdout",
     "output_type": "stream",
     "text": [
      "[20:55:46] WARNING: C:/Jenkins/workspace/xgboost-win64_release_0.90/src/objective/regression_obj.cu:152: reg:linear is now deprecated in favor of reg:squarederror.\n"
     ]
    },
    {
     "name": "stderr",
     "output_type": "stream",
     "text": [
      "C:\\ProgramData\\Anaconda3\\lib\\site-packages\\xgboost\\core.py:587: FutureWarning: Series.base is deprecated and will be removed in a future version\n",
      "  if getattr(data, 'base', None) is not None and \\\n"
     ]
    },
    {
     "name": "stdout",
     "output_type": "stream",
     "text": [
      "[20:55:54] WARNING: C:/Jenkins/workspace/xgboost-win64_release_0.90/src/objective/regression_obj.cu:152: reg:linear is now deprecated in favor of reg:squarederror.\n"
     ]
    },
    {
     "name": "stderr",
     "output_type": "stream",
     "text": [
      "C:\\ProgramData\\Anaconda3\\lib\\site-packages\\xgboost\\core.py:587: FutureWarning: Series.base is deprecated and will be removed in a future version\n",
      "  if getattr(data, 'base', None) is not None and \\\n"
     ]
    },
    {
     "name": "stdout",
     "output_type": "stream",
     "text": [
      "[20:55:55] WARNING: C:/Jenkins/workspace/xgboost-win64_release_0.90/src/objective/regression_obj.cu:152: reg:linear is now deprecated in favor of reg:squarederror.\n"
     ]
    },
    {
     "name": "stderr",
     "output_type": "stream",
     "text": [
      "C:\\ProgramData\\Anaconda3\\lib\\site-packages\\xgboost\\core.py:587: FutureWarning: Series.base is deprecated and will be removed in a future version\n",
      "  if getattr(data, 'base', None) is not None and \\\n"
     ]
    },
    {
     "name": "stdout",
     "output_type": "stream",
     "text": [
      "[20:56:00] WARNING: C:/Jenkins/workspace/xgboost-win64_release_0.90/src/objective/regression_obj.cu:152: reg:linear is now deprecated in favor of reg:squarederror.\n"
     ]
    },
    {
     "name": "stderr",
     "output_type": "stream",
     "text": [
      "C:\\ProgramData\\Anaconda3\\lib\\site-packages\\xgboost\\core.py:587: FutureWarning: Series.base is deprecated and will be removed in a future version\n",
      "  if getattr(data, 'base', None) is not None and \\\n"
     ]
    },
    {
     "name": "stdout",
     "output_type": "stream",
     "text": [
      "[20:56:04] WARNING: C:/Jenkins/workspace/xgboost-win64_release_0.90/src/objective/regression_obj.cu:152: reg:linear is now deprecated in favor of reg:squarederror.\n"
     ]
    },
    {
     "name": "stderr",
     "output_type": "stream",
     "text": [
      "C:\\ProgramData\\Anaconda3\\lib\\site-packages\\xgboost\\core.py:587: FutureWarning: Series.base is deprecated and will be removed in a future version\n",
      "  if getattr(data, 'base', None) is not None and \\\n"
     ]
    },
    {
     "name": "stdout",
     "output_type": "stream",
     "text": [
      "[20:56:06] WARNING: C:/Jenkins/workspace/xgboost-win64_release_0.90/src/objective/regression_obj.cu:152: reg:linear is now deprecated in favor of reg:squarederror.\n"
     ]
    },
    {
     "name": "stderr",
     "output_type": "stream",
     "text": [
      "C:\\ProgramData\\Anaconda3\\lib\\site-packages\\xgboost\\core.py:587: FutureWarning: Series.base is deprecated and will be removed in a future version\n",
      "  if getattr(data, 'base', None) is not None and \\\n"
     ]
    },
    {
     "name": "stdout",
     "output_type": "stream",
     "text": [
      "[20:56:15] WARNING: C:/Jenkins/workspace/xgboost-win64_release_0.90/src/objective/regression_obj.cu:152: reg:linear is now deprecated in favor of reg:squarederror.\n"
     ]
    },
    {
     "name": "stderr",
     "output_type": "stream",
     "text": [
      "C:\\ProgramData\\Anaconda3\\lib\\site-packages\\xgboost\\core.py:587: FutureWarning: Series.base is deprecated and will be removed in a future version\n",
      "  if getattr(data, 'base', None) is not None and \\\n"
     ]
    },
    {
     "name": "stdout",
     "output_type": "stream",
     "text": [
      "[20:56:20] WARNING: C:/Jenkins/workspace/xgboost-win64_release_0.90/src/objective/regression_obj.cu:152: reg:linear is now deprecated in favor of reg:squarederror.\n"
     ]
    },
    {
     "name": "stderr",
     "output_type": "stream",
     "text": [
      "C:\\ProgramData\\Anaconda3\\lib\\site-packages\\xgboost\\core.py:587: FutureWarning: Series.base is deprecated and will be removed in a future version\n",
      "  if getattr(data, 'base', None) is not None and \\\n"
     ]
    },
    {
     "name": "stdout",
     "output_type": "stream",
     "text": [
      "[20:56:23] WARNING: C:/Jenkins/workspace/xgboost-win64_release_0.90/src/objective/regression_obj.cu:152: reg:linear is now deprecated in favor of reg:squarederror.\n"
     ]
    },
    {
     "name": "stderr",
     "output_type": "stream",
     "text": [
      "C:\\ProgramData\\Anaconda3\\lib\\site-packages\\xgboost\\core.py:587: FutureWarning: Series.base is deprecated and will be removed in a future version\n",
      "  if getattr(data, 'base', None) is not None and \\\n"
     ]
    },
    {
     "name": "stdout",
     "output_type": "stream",
     "text": [
      "[20:56:26] WARNING: C:/Jenkins/workspace/xgboost-win64_release_0.90/src/objective/regression_obj.cu:152: reg:linear is now deprecated in favor of reg:squarederror.\n"
     ]
    },
    {
     "name": "stderr",
     "output_type": "stream",
     "text": [
      "C:\\ProgramData\\Anaconda3\\lib\\site-packages\\xgboost\\core.py:587: FutureWarning: Series.base is deprecated and will be removed in a future version\n",
      "  if getattr(data, 'base', None) is not None and \\\n"
     ]
    },
    {
     "name": "stdout",
     "output_type": "stream",
     "text": [
      "[20:56:27] WARNING: C:/Jenkins/workspace/xgboost-win64_release_0.90/src/objective/regression_obj.cu:152: reg:linear is now deprecated in favor of reg:squarederror.\n"
     ]
    },
    {
     "name": "stderr",
     "output_type": "stream",
     "text": [
      "C:\\ProgramData\\Anaconda3\\lib\\site-packages\\xgboost\\core.py:587: FutureWarning: Series.base is deprecated and will be removed in a future version\n",
      "  if getattr(data, 'base', None) is not None and \\\n"
     ]
    },
    {
     "name": "stdout",
     "output_type": "stream",
     "text": [
      "[20:56:32] WARNING: C:/Jenkins/workspace/xgboost-win64_release_0.90/src/objective/regression_obj.cu:152: reg:linear is now deprecated in favor of reg:squarederror.\n"
     ]
    },
    {
     "name": "stderr",
     "output_type": "stream",
     "text": [
      "C:\\ProgramData\\Anaconda3\\lib\\site-packages\\xgboost\\core.py:587: FutureWarning: Series.base is deprecated and will be removed in a future version\n",
      "  if getattr(data, 'base', None) is not None and \\\n"
     ]
    },
    {
     "name": "stdout",
     "output_type": "stream",
     "text": [
      "[20:56:37] WARNING: C:/Jenkins/workspace/xgboost-win64_release_0.90/src/objective/regression_obj.cu:152: reg:linear is now deprecated in favor of reg:squarederror.\n"
     ]
    },
    {
     "name": "stderr",
     "output_type": "stream",
     "text": [
      "C:\\ProgramData\\Anaconda3\\lib\\site-packages\\xgboost\\core.py:587: FutureWarning: Series.base is deprecated and will be removed in a future version\n",
      "  if getattr(data, 'base', None) is not None and \\\n"
     ]
    },
    {
     "name": "stdout",
     "output_type": "stream",
     "text": [
      "[20:56:44] WARNING: C:/Jenkins/workspace/xgboost-win64_release_0.90/src/objective/regression_obj.cu:152: reg:linear is now deprecated in favor of reg:squarederror.\n"
     ]
    },
    {
     "name": "stderr",
     "output_type": "stream",
     "text": [
      "C:\\ProgramData\\Anaconda3\\lib\\site-packages\\xgboost\\core.py:587: FutureWarning: Series.base is deprecated and will be removed in a future version\n",
      "  if getattr(data, 'base', None) is not None and \\\n"
     ]
    },
    {
     "name": "stdout",
     "output_type": "stream",
     "text": [
      "[20:56:48] WARNING: C:/Jenkins/workspace/xgboost-win64_release_0.90/src/objective/regression_obj.cu:152: reg:linear is now deprecated in favor of reg:squarederror.\n"
     ]
    },
    {
     "name": "stderr",
     "output_type": "stream",
     "text": [
      "C:\\ProgramData\\Anaconda3\\lib\\site-packages\\xgboost\\core.py:587: FutureWarning: Series.base is deprecated and will be removed in a future version\n",
      "  if getattr(data, 'base', None) is not None and \\\n"
     ]
    },
    {
     "name": "stdout",
     "output_type": "stream",
     "text": [
      "[20:56:52] WARNING: C:/Jenkins/workspace/xgboost-win64_release_0.90/src/objective/regression_obj.cu:152: reg:linear is now deprecated in favor of reg:squarederror.\n"
     ]
    },
    {
     "name": "stderr",
     "output_type": "stream",
     "text": [
      "C:\\ProgramData\\Anaconda3\\lib\\site-packages\\xgboost\\core.py:587: FutureWarning: Series.base is deprecated and will be removed in a future version\n",
      "  if getattr(data, 'base', None) is not None and \\\n"
     ]
    },
    {
     "name": "stdout",
     "output_type": "stream",
     "text": [
      "[20:56:55] WARNING: C:/Jenkins/workspace/xgboost-win64_release_0.90/src/objective/regression_obj.cu:152: reg:linear is now deprecated in favor of reg:squarederror.\n"
     ]
    },
    {
     "name": "stderr",
     "output_type": "stream",
     "text": [
      "C:\\ProgramData\\Anaconda3\\lib\\site-packages\\xgboost\\core.py:587: FutureWarning: Series.base is deprecated and will be removed in a future version\n",
      "  if getattr(data, 'base', None) is not None and \\\n"
     ]
    },
    {
     "name": "stdout",
     "output_type": "stream",
     "text": [
      "[20:56:59] WARNING: C:/Jenkins/workspace/xgboost-win64_release_0.90/src/objective/regression_obj.cu:152: reg:linear is now deprecated in favor of reg:squarederror.\n"
     ]
    },
    {
     "name": "stderr",
     "output_type": "stream",
     "text": [
      "C:\\ProgramData\\Anaconda3\\lib\\site-packages\\xgboost\\core.py:587: FutureWarning: Series.base is deprecated and will be removed in a future version\n",
      "  if getattr(data, 'base', None) is not None and \\\n"
     ]
    },
    {
     "name": "stdout",
     "output_type": "stream",
     "text": [
      "[20:57:02] WARNING: C:/Jenkins/workspace/xgboost-win64_release_0.90/src/objective/regression_obj.cu:152: reg:linear is now deprecated in favor of reg:squarederror.\n"
     ]
    },
    {
     "name": "stderr",
     "output_type": "stream",
     "text": [
      "C:\\ProgramData\\Anaconda3\\lib\\site-packages\\xgboost\\core.py:587: FutureWarning: Series.base is deprecated and will be removed in a future version\n",
      "  if getattr(data, 'base', None) is not None and \\\n"
     ]
    },
    {
     "name": "stdout",
     "output_type": "stream",
     "text": [
      "[20:57:05] WARNING: C:/Jenkins/workspace/xgboost-win64_release_0.90/src/objective/regression_obj.cu:152: reg:linear is now deprecated in favor of reg:squarederror.\n"
     ]
    },
    {
     "name": "stderr",
     "output_type": "stream",
     "text": [
      "C:\\ProgramData\\Anaconda3\\lib\\site-packages\\xgboost\\core.py:587: FutureWarning: Series.base is deprecated and will be removed in a future version\n",
      "  if getattr(data, 'base', None) is not None and \\\n"
     ]
    },
    {
     "name": "stdout",
     "output_type": "stream",
     "text": [
      "[20:57:13] WARNING: C:/Jenkins/workspace/xgboost-win64_release_0.90/src/objective/regression_obj.cu:152: reg:linear is now deprecated in favor of reg:squarederror.\n"
     ]
    },
    {
     "name": "stderr",
     "output_type": "stream",
     "text": [
      "C:\\ProgramData\\Anaconda3\\lib\\site-packages\\xgboost\\core.py:587: FutureWarning: Series.base is deprecated and will be removed in a future version\n",
      "  if getattr(data, 'base', None) is not None and \\\n"
     ]
    },
    {
     "name": "stdout",
     "output_type": "stream",
     "text": [
      "[20:57:16] WARNING: C:/Jenkins/workspace/xgboost-win64_release_0.90/src/objective/regression_obj.cu:152: reg:linear is now deprecated in favor of reg:squarederror.\n"
     ]
    },
    {
     "name": "stderr",
     "output_type": "stream",
     "text": [
      "C:\\ProgramData\\Anaconda3\\lib\\site-packages\\xgboost\\core.py:587: FutureWarning: Series.base is deprecated and will be removed in a future version\n",
      "  if getattr(data, 'base', None) is not None and \\\n"
     ]
    },
    {
     "name": "stdout",
     "output_type": "stream",
     "text": [
      "[20:57:21] WARNING: C:/Jenkins/workspace/xgboost-win64_release_0.90/src/objective/regression_obj.cu:152: reg:linear is now deprecated in favor of reg:squarederror.\n"
     ]
    },
    {
     "name": "stderr",
     "output_type": "stream",
     "text": [
      "C:\\ProgramData\\Anaconda3\\lib\\site-packages\\xgboost\\core.py:587: FutureWarning: Series.base is deprecated and will be removed in a future version\n",
      "  if getattr(data, 'base', None) is not None and \\\n"
     ]
    },
    {
     "name": "stdout",
     "output_type": "stream",
     "text": [
      "[20:57:25] WARNING: C:/Jenkins/workspace/xgboost-win64_release_0.90/src/objective/regression_obj.cu:152: reg:linear is now deprecated in favor of reg:squarederror.\n"
     ]
    },
    {
     "name": "stderr",
     "output_type": "stream",
     "text": [
      "C:\\ProgramData\\Anaconda3\\lib\\site-packages\\xgboost\\core.py:587: FutureWarning: Series.base is deprecated and will be removed in a future version\n",
      "  if getattr(data, 'base', None) is not None and \\\n"
     ]
    },
    {
     "name": "stdout",
     "output_type": "stream",
     "text": [
      "[20:57:28] WARNING: C:/Jenkins/workspace/xgboost-win64_release_0.90/src/objective/regression_obj.cu:152: reg:linear is now deprecated in favor of reg:squarederror.\n"
     ]
    },
    {
     "name": "stderr",
     "output_type": "stream",
     "text": [
      "C:\\ProgramData\\Anaconda3\\lib\\site-packages\\xgboost\\core.py:587: FutureWarning: Series.base is deprecated and will be removed in a future version\n",
      "  if getattr(data, 'base', None) is not None and \\\n"
     ]
    },
    {
     "name": "stdout",
     "output_type": "stream",
     "text": [
      "[20:57:31] WARNING: C:/Jenkins/workspace/xgboost-win64_release_0.90/src/objective/regression_obj.cu:152: reg:linear is now deprecated in favor of reg:squarederror.\n"
     ]
    },
    {
     "name": "stderr",
     "output_type": "stream",
     "text": [
      "C:\\ProgramData\\Anaconda3\\lib\\site-packages\\xgboost\\core.py:587: FutureWarning: Series.base is deprecated and will be removed in a future version\n",
      "  if getattr(data, 'base', None) is not None and \\\n"
     ]
    },
    {
     "name": "stdout",
     "output_type": "stream",
     "text": [
      "[20:57:34] WARNING: C:/Jenkins/workspace/xgboost-win64_release_0.90/src/objective/regression_obj.cu:152: reg:linear is now deprecated in favor of reg:squarederror.\n"
     ]
    },
    {
     "name": "stderr",
     "output_type": "stream",
     "text": [
      "C:\\ProgramData\\Anaconda3\\lib\\site-packages\\xgboost\\core.py:587: FutureWarning: Series.base is deprecated and will be removed in a future version\n",
      "  if getattr(data, 'base', None) is not None and \\\n"
     ]
    },
    {
     "name": "stdout",
     "output_type": "stream",
     "text": [
      "[20:57:37] WARNING: C:/Jenkins/workspace/xgboost-win64_release_0.90/src/objective/regression_obj.cu:152: reg:linear is now deprecated in favor of reg:squarederror.\n"
     ]
    },
    {
     "name": "stderr",
     "output_type": "stream",
     "text": [
      "C:\\ProgramData\\Anaconda3\\lib\\site-packages\\xgboost\\core.py:587: FutureWarning: Series.base is deprecated and will be removed in a future version\n",
      "  if getattr(data, 'base', None) is not None and \\\n"
     ]
    },
    {
     "name": "stdout",
     "output_type": "stream",
     "text": [
      "[20:57:40] WARNING: C:/Jenkins/workspace/xgboost-win64_release_0.90/src/objective/regression_obj.cu:152: reg:linear is now deprecated in favor of reg:squarederror.\n"
     ]
    },
    {
     "name": "stderr",
     "output_type": "stream",
     "text": [
      "C:\\ProgramData\\Anaconda3\\lib\\site-packages\\xgboost\\core.py:587: FutureWarning: Series.base is deprecated and will be removed in a future version\n",
      "  if getattr(data, 'base', None) is not None and \\\n"
     ]
    },
    {
     "name": "stdout",
     "output_type": "stream",
     "text": [
      "[20:57:44] WARNING: C:/Jenkins/workspace/xgboost-win64_release_0.90/src/objective/regression_obj.cu:152: reg:linear is now deprecated in favor of reg:squarederror.\n"
     ]
    },
    {
     "name": "stderr",
     "output_type": "stream",
     "text": [
      "C:\\ProgramData\\Anaconda3\\lib\\site-packages\\xgboost\\core.py:587: FutureWarning: Series.base is deprecated and will be removed in a future version\n",
      "  if getattr(data, 'base', None) is not None and \\\n"
     ]
    },
    {
     "name": "stdout",
     "output_type": "stream",
     "text": [
      "[20:57:48] WARNING: C:/Jenkins/workspace/xgboost-win64_release_0.90/src/objective/regression_obj.cu:152: reg:linear is now deprecated in favor of reg:squarederror.\n"
     ]
    },
    {
     "name": "stderr",
     "output_type": "stream",
     "text": [
      "C:\\ProgramData\\Anaconda3\\lib\\site-packages\\xgboost\\core.py:587: FutureWarning: Series.base is deprecated and will be removed in a future version\n",
      "  if getattr(data, 'base', None) is not None and \\\n"
     ]
    },
    {
     "name": "stdout",
     "output_type": "stream",
     "text": [
      "[20:57:56] WARNING: C:/Jenkins/workspace/xgboost-win64_release_0.90/src/objective/regression_obj.cu:152: reg:linear is now deprecated in favor of reg:squarederror.\n"
     ]
    },
    {
     "name": "stderr",
     "output_type": "stream",
     "text": [
      "C:\\ProgramData\\Anaconda3\\lib\\site-packages\\xgboost\\core.py:587: FutureWarning: Series.base is deprecated and will be removed in a future version\n",
      "  if getattr(data, 'base', None) is not None and \\\n"
     ]
    },
    {
     "name": "stdout",
     "output_type": "stream",
     "text": [
      "[20:57:59] WARNING: C:/Jenkins/workspace/xgboost-win64_release_0.90/src/objective/regression_obj.cu:152: reg:linear is now deprecated in favor of reg:squarederror.\n"
     ]
    },
    {
     "name": "stderr",
     "output_type": "stream",
     "text": [
      "C:\\ProgramData\\Anaconda3\\lib\\site-packages\\xgboost\\core.py:587: FutureWarning: Series.base is deprecated and will be removed in a future version\n",
      "  if getattr(data, 'base', None) is not None and \\\n"
     ]
    },
    {
     "name": "stdout",
     "output_type": "stream",
     "text": [
      "[20:58:03] WARNING: C:/Jenkins/workspace/xgboost-win64_release_0.90/src/objective/regression_obj.cu:152: reg:linear is now deprecated in favor of reg:squarederror.\n"
     ]
    },
    {
     "name": "stderr",
     "output_type": "stream",
     "text": [
      "C:\\ProgramData\\Anaconda3\\lib\\site-packages\\xgboost\\core.py:587: FutureWarning: Series.base is deprecated and will be removed in a future version\n",
      "  if getattr(data, 'base', None) is not None and \\\n"
     ]
    },
    {
     "name": "stdout",
     "output_type": "stream",
     "text": [
      "[20:58:05] WARNING: C:/Jenkins/workspace/xgboost-win64_release_0.90/src/objective/regression_obj.cu:152: reg:linear is now deprecated in favor of reg:squarederror.\n"
     ]
    },
    {
     "name": "stderr",
     "output_type": "stream",
     "text": [
      "C:\\ProgramData\\Anaconda3\\lib\\site-packages\\xgboost\\core.py:587: FutureWarning: Series.base is deprecated and will be removed in a future version\n",
      "  if getattr(data, 'base', None) is not None and \\\n"
     ]
    },
    {
     "name": "stdout",
     "output_type": "stream",
     "text": [
      "[20:58:09] WARNING: C:/Jenkins/workspace/xgboost-win64_release_0.90/src/objective/regression_obj.cu:152: reg:linear is now deprecated in favor of reg:squarederror.\n"
     ]
    },
    {
     "name": "stderr",
     "output_type": "stream",
     "text": [
      "C:\\ProgramData\\Anaconda3\\lib\\site-packages\\xgboost\\core.py:587: FutureWarning: Series.base is deprecated and will be removed in a future version\n",
      "  if getattr(data, 'base', None) is not None and \\\n"
     ]
    },
    {
     "name": "stdout",
     "output_type": "stream",
     "text": [
      "[20:58:15] WARNING: C:/Jenkins/workspace/xgboost-win64_release_0.90/src/objective/regression_obj.cu:152: reg:linear is now deprecated in favor of reg:squarederror.\n"
     ]
    },
    {
     "name": "stderr",
     "output_type": "stream",
     "text": [
      "C:\\ProgramData\\Anaconda3\\lib\\site-packages\\xgboost\\core.py:587: FutureWarning: Series.base is deprecated and will be removed in a future version\n",
      "  if getattr(data, 'base', None) is not None and \\\n"
     ]
    },
    {
     "name": "stdout",
     "output_type": "stream",
     "text": [
      "[20:58:22] WARNING: C:/Jenkins/workspace/xgboost-win64_release_0.90/src/objective/regression_obj.cu:152: reg:linear is now deprecated in favor of reg:squarederror.\n"
     ]
    },
    {
     "name": "stderr",
     "output_type": "stream",
     "text": [
      "C:\\ProgramData\\Anaconda3\\lib\\site-packages\\xgboost\\core.py:587: FutureWarning: Series.base is deprecated and will be removed in a future version\n",
      "  if getattr(data, 'base', None) is not None and \\\n"
     ]
    },
    {
     "name": "stdout",
     "output_type": "stream",
     "text": [
      "[20:58:24] WARNING: C:/Jenkins/workspace/xgboost-win64_release_0.90/src/objective/regression_obj.cu:152: reg:linear is now deprecated in favor of reg:squarederror.\n"
     ]
    },
    {
     "name": "stderr",
     "output_type": "stream",
     "text": [
      "C:\\ProgramData\\Anaconda3\\lib\\site-packages\\xgboost\\core.py:587: FutureWarning: Series.base is deprecated and will be removed in a future version\n",
      "  if getattr(data, 'base', None) is not None and \\\n"
     ]
    },
    {
     "name": "stdout",
     "output_type": "stream",
     "text": [
      "[20:58:31] WARNING: C:/Jenkins/workspace/xgboost-win64_release_0.90/src/objective/regression_obj.cu:152: reg:linear is now deprecated in favor of reg:squarederror.\n"
     ]
    },
    {
     "name": "stderr",
     "output_type": "stream",
     "text": [
      "C:\\ProgramData\\Anaconda3\\lib\\site-packages\\xgboost\\core.py:587: FutureWarning: Series.base is deprecated and will be removed in a future version\n",
      "  if getattr(data, 'base', None) is not None and \\\n"
     ]
    },
    {
     "name": "stdout",
     "output_type": "stream",
     "text": [
      "[20:58:37] WARNING: C:/Jenkins/workspace/xgboost-win64_release_0.90/src/objective/regression_obj.cu:152: reg:linear is now deprecated in favor of reg:squarederror.\n"
     ]
    },
    {
     "name": "stderr",
     "output_type": "stream",
     "text": [
      "C:\\ProgramData\\Anaconda3\\lib\\site-packages\\xgboost\\core.py:587: FutureWarning: Series.base is deprecated and will be removed in a future version\n",
      "  if getattr(data, 'base', None) is not None and \\\n"
     ]
    },
    {
     "name": "stdout",
     "output_type": "stream",
     "text": [
      "[20:58:40] WARNING: C:/Jenkins/workspace/xgboost-win64_release_0.90/src/objective/regression_obj.cu:152: reg:linear is now deprecated in favor of reg:squarederror.\n"
     ]
    },
    {
     "name": "stderr",
     "output_type": "stream",
     "text": [
      "C:\\ProgramData\\Anaconda3\\lib\\site-packages\\xgboost\\core.py:587: FutureWarning: Series.base is deprecated and will be removed in a future version\n",
      "  if getattr(data, 'base', None) is not None and \\\n"
     ]
    },
    {
     "name": "stdout",
     "output_type": "stream",
     "text": [
      "[20:58:44] WARNING: C:/Jenkins/workspace/xgboost-win64_release_0.90/src/objective/regression_obj.cu:152: reg:linear is now deprecated in favor of reg:squarederror.\n"
     ]
    },
    {
     "name": "stderr",
     "output_type": "stream",
     "text": [
      "C:\\ProgramData\\Anaconda3\\lib\\site-packages\\xgboost\\core.py:587: FutureWarning: Series.base is deprecated and will be removed in a future version\n",
      "  if getattr(data, 'base', None) is not None and \\\n"
     ]
    },
    {
     "name": "stdout",
     "output_type": "stream",
     "text": [
      "[20:58:48] WARNING: C:/Jenkins/workspace/xgboost-win64_release_0.90/src/objective/regression_obj.cu:152: reg:linear is now deprecated in favor of reg:squarederror.\n"
     ]
    },
    {
     "name": "stderr",
     "output_type": "stream",
     "text": [
      "C:\\ProgramData\\Anaconda3\\lib\\site-packages\\xgboost\\core.py:587: FutureWarning: Series.base is deprecated and will be removed in a future version\n",
      "  if getattr(data, 'base', None) is not None and \\\n"
     ]
    },
    {
     "name": "stdout",
     "output_type": "stream",
     "text": [
      "[20:58:51] WARNING: C:/Jenkins/workspace/xgboost-win64_release_0.90/src/objective/regression_obj.cu:152: reg:linear is now deprecated in favor of reg:squarederror.\n"
     ]
    },
    {
     "name": "stderr",
     "output_type": "stream",
     "text": [
      "C:\\ProgramData\\Anaconda3\\lib\\site-packages\\xgboost\\core.py:587: FutureWarning: Series.base is deprecated and will be removed in a future version\n",
      "  if getattr(data, 'base', None) is not None and \\\n"
     ]
    },
    {
     "name": "stdout",
     "output_type": "stream",
     "text": [
      "[20:58:52] WARNING: C:/Jenkins/workspace/xgboost-win64_release_0.90/src/objective/regression_obj.cu:152: reg:linear is now deprecated in favor of reg:squarederror.\n"
     ]
    },
    {
     "name": "stderr",
     "output_type": "stream",
     "text": [
      "C:\\ProgramData\\Anaconda3\\lib\\site-packages\\xgboost\\core.py:587: FutureWarning: Series.base is deprecated and will be removed in a future version\n",
      "  if getattr(data, 'base', None) is not None and \\\n"
     ]
    },
    {
     "name": "stdout",
     "output_type": "stream",
     "text": [
      "[20:58:58] WARNING: C:/Jenkins/workspace/xgboost-win64_release_0.90/src/objective/regression_obj.cu:152: reg:linear is now deprecated in favor of reg:squarederror.\n"
     ]
    },
    {
     "name": "stderr",
     "output_type": "stream",
     "text": [
      "C:\\ProgramData\\Anaconda3\\lib\\site-packages\\xgboost\\core.py:587: FutureWarning: Series.base is deprecated and will be removed in a future version\n",
      "  if getattr(data, 'base', None) is not None and \\\n"
     ]
    },
    {
     "name": "stdout",
     "output_type": "stream",
     "text": [
      "[20:59:02] WARNING: C:/Jenkins/workspace/xgboost-win64_release_0.90/src/objective/regression_obj.cu:152: reg:linear is now deprecated in favor of reg:squarederror.\n"
     ]
    },
    {
     "name": "stderr",
     "output_type": "stream",
     "text": [
      "C:\\ProgramData\\Anaconda3\\lib\\site-packages\\xgboost\\core.py:587: FutureWarning: Series.base is deprecated and will be removed in a future version\n",
      "  if getattr(data, 'base', None) is not None and \\\n"
     ]
    },
    {
     "name": "stdout",
     "output_type": "stream",
     "text": [
      "[20:59:07] WARNING: C:/Jenkins/workspace/xgboost-win64_release_0.90/src/objective/regression_obj.cu:152: reg:linear is now deprecated in favor of reg:squarederror.\n"
     ]
    },
    {
     "name": "stderr",
     "output_type": "stream",
     "text": [
      "C:\\ProgramData\\Anaconda3\\lib\\site-packages\\xgboost\\core.py:587: FutureWarning: Series.base is deprecated and will be removed in a future version\n",
      "  if getattr(data, 'base', None) is not None and \\\n"
     ]
    },
    {
     "name": "stdout",
     "output_type": "stream",
     "text": [
      "[20:59:11] WARNING: C:/Jenkins/workspace/xgboost-win64_release_0.90/src/objective/regression_obj.cu:152: reg:linear is now deprecated in favor of reg:squarederror.\n"
     ]
    },
    {
     "name": "stderr",
     "output_type": "stream",
     "text": [
      "C:\\ProgramData\\Anaconda3\\lib\\site-packages\\xgboost\\core.py:587: FutureWarning: Series.base is deprecated and will be removed in a future version\n",
      "  if getattr(data, 'base', None) is not None and \\\n"
     ]
    },
    {
     "name": "stdout",
     "output_type": "stream",
     "text": [
      "[20:59:13] WARNING: C:/Jenkins/workspace/xgboost-win64_release_0.90/src/objective/regression_obj.cu:152: reg:linear is now deprecated in favor of reg:squarederror.\n"
     ]
    },
    {
     "name": "stderr",
     "output_type": "stream",
     "text": [
      "C:\\ProgramData\\Anaconda3\\lib\\site-packages\\xgboost\\core.py:587: FutureWarning: Series.base is deprecated and will be removed in a future version\n",
      "  if getattr(data, 'base', None) is not None and \\\n"
     ]
    },
    {
     "name": "stdout",
     "output_type": "stream",
     "text": [
      "[20:59:18] WARNING: C:/Jenkins/workspace/xgboost-win64_release_0.90/src/objective/regression_obj.cu:152: reg:linear is now deprecated in favor of reg:squarederror.\n"
     ]
    },
    {
     "name": "stderr",
     "output_type": "stream",
     "text": [
      "C:\\ProgramData\\Anaconda3\\lib\\site-packages\\xgboost\\core.py:587: FutureWarning: Series.base is deprecated and will be removed in a future version\n",
      "  if getattr(data, 'base', None) is not None and \\\n"
     ]
    },
    {
     "name": "stdout",
     "output_type": "stream",
     "text": [
      "[20:59:22] WARNING: C:/Jenkins/workspace/xgboost-win64_release_0.90/src/objective/regression_obj.cu:152: reg:linear is now deprecated in favor of reg:squarederror.\n"
     ]
    },
    {
     "name": "stderr",
     "output_type": "stream",
     "text": [
      "C:\\ProgramData\\Anaconda3\\lib\\site-packages\\xgboost\\core.py:587: FutureWarning: Series.base is deprecated and will be removed in a future version\n",
      "  if getattr(data, 'base', None) is not None and \\\n"
     ]
    },
    {
     "name": "stdout",
     "output_type": "stream",
     "text": [
      "[20:59:26] WARNING: C:/Jenkins/workspace/xgboost-win64_release_0.90/src/objective/regression_obj.cu:152: reg:linear is now deprecated in favor of reg:squarederror.\n"
     ]
    },
    {
     "name": "stderr",
     "output_type": "stream",
     "text": [
      "C:\\ProgramData\\Anaconda3\\lib\\site-packages\\xgboost\\core.py:587: FutureWarning: Series.base is deprecated and will be removed in a future version\n",
      "  if getattr(data, 'base', None) is not None and \\\n"
     ]
    },
    {
     "name": "stdout",
     "output_type": "stream",
     "text": [
      "[20:59:32] WARNING: C:/Jenkins/workspace/xgboost-win64_release_0.90/src/objective/regression_obj.cu:152: reg:linear is now deprecated in favor of reg:squarederror.\n"
     ]
    },
    {
     "name": "stderr",
     "output_type": "stream",
     "text": [
      "C:\\ProgramData\\Anaconda3\\lib\\site-packages\\xgboost\\core.py:587: FutureWarning: Series.base is deprecated and will be removed in a future version\n",
      "  if getattr(data, 'base', None) is not None and \\\n"
     ]
    },
    {
     "name": "stdout",
     "output_type": "stream",
     "text": [
      "[20:59:36] WARNING: C:/Jenkins/workspace/xgboost-win64_release_0.90/src/objective/regression_obj.cu:152: reg:linear is now deprecated in favor of reg:squarederror.\n"
     ]
    },
    {
     "name": "stderr",
     "output_type": "stream",
     "text": [
      "C:\\ProgramData\\Anaconda3\\lib\\site-packages\\xgboost\\core.py:587: FutureWarning: Series.base is deprecated and will be removed in a future version\n",
      "  if getattr(data, 'base', None) is not None and \\\n"
     ]
    },
    {
     "name": "stdout",
     "output_type": "stream",
     "text": [
      "[20:59:39] WARNING: C:/Jenkins/workspace/xgboost-win64_release_0.90/src/objective/regression_obj.cu:152: reg:linear is now deprecated in favor of reg:squarederror.\n"
     ]
    },
    {
     "name": "stderr",
     "output_type": "stream",
     "text": [
      "C:\\ProgramData\\Anaconda3\\lib\\site-packages\\xgboost\\core.py:587: FutureWarning: Series.base is deprecated and will be removed in a future version\n",
      "  if getattr(data, 'base', None) is not None and \\\n"
     ]
    },
    {
     "name": "stdout",
     "output_type": "stream",
     "text": [
      "[20:59:50] WARNING: C:/Jenkins/workspace/xgboost-win64_release_0.90/src/objective/regression_obj.cu:152: reg:linear is now deprecated in favor of reg:squarederror.\n"
     ]
    },
    {
     "name": "stderr",
     "output_type": "stream",
     "text": [
      "C:\\ProgramData\\Anaconda3\\lib\\site-packages\\xgboost\\core.py:587: FutureWarning: Series.base is deprecated and will be removed in a future version\n",
      "  if getattr(data, 'base', None) is not None and \\\n"
     ]
    },
    {
     "name": "stdout",
     "output_type": "stream",
     "text": [
      "[20:59:56] WARNING: C:/Jenkins/workspace/xgboost-win64_release_0.90/src/objective/regression_obj.cu:152: reg:linear is now deprecated in favor of reg:squarederror.\n"
     ]
    },
    {
     "name": "stderr",
     "output_type": "stream",
     "text": [
      "C:\\ProgramData\\Anaconda3\\lib\\site-packages\\xgboost\\core.py:587: FutureWarning: Series.base is deprecated and will be removed in a future version\n",
      "  if getattr(data, 'base', None) is not None and \\\n"
     ]
    },
    {
     "name": "stdout",
     "output_type": "stream",
     "text": [
      "[20:59:57] WARNING: C:/Jenkins/workspace/xgboost-win64_release_0.90/src/objective/regression_obj.cu:152: reg:linear is now deprecated in favor of reg:squarederror.\n"
     ]
    },
    {
     "name": "stderr",
     "output_type": "stream",
     "text": [
      "C:\\ProgramData\\Anaconda3\\lib\\site-packages\\xgboost\\core.py:587: FutureWarning: Series.base is deprecated and will be removed in a future version\n",
      "  if getattr(data, 'base', None) is not None and \\\n"
     ]
    },
    {
     "name": "stdout",
     "output_type": "stream",
     "text": [
      "[21:00:01] WARNING: C:/Jenkins/workspace/xgboost-win64_release_0.90/src/objective/regression_obj.cu:152: reg:linear is now deprecated in favor of reg:squarederror.\n"
     ]
    },
    {
     "name": "stderr",
     "output_type": "stream",
     "text": [
      "C:\\ProgramData\\Anaconda3\\lib\\site-packages\\xgboost\\core.py:587: FutureWarning: Series.base is deprecated and will be removed in a future version\n",
      "  if getattr(data, 'base', None) is not None and \\\n"
     ]
    },
    {
     "name": "stdout",
     "output_type": "stream",
     "text": [
      "[21:00:04] WARNING: C:/Jenkins/workspace/xgboost-win64_release_0.90/src/objective/regression_obj.cu:152: reg:linear is now deprecated in favor of reg:squarederror.\n"
     ]
    },
    {
     "name": "stderr",
     "output_type": "stream",
     "text": [
      "C:\\ProgramData\\Anaconda3\\lib\\site-packages\\xgboost\\core.py:587: FutureWarning: Series.base is deprecated and will be removed in a future version\n",
      "  if getattr(data, 'base', None) is not None and \\\n"
     ]
    },
    {
     "name": "stdout",
     "output_type": "stream",
     "text": [
      "[21:00:09] WARNING: C:/Jenkins/workspace/xgboost-win64_release_0.90/src/objective/regression_obj.cu:152: reg:linear is now deprecated in favor of reg:squarederror.\n"
     ]
    },
    {
     "name": "stderr",
     "output_type": "stream",
     "text": [
      "C:\\ProgramData\\Anaconda3\\lib\\site-packages\\xgboost\\core.py:587: FutureWarning: Series.base is deprecated and will be removed in a future version\n",
      "  if getattr(data, 'base', None) is not None and \\\n"
     ]
    },
    {
     "name": "stdout",
     "output_type": "stream",
     "text": [
      "[21:00:12] WARNING: C:/Jenkins/workspace/xgboost-win64_release_0.90/src/objective/regression_obj.cu:152: reg:linear is now deprecated in favor of reg:squarederror.\n"
     ]
    },
    {
     "name": "stderr",
     "output_type": "stream",
     "text": [
      "C:\\ProgramData\\Anaconda3\\lib\\site-packages\\xgboost\\core.py:587: FutureWarning: Series.base is deprecated and will be removed in a future version\n",
      "  if getattr(data, 'base', None) is not None and \\\n"
     ]
    },
    {
     "name": "stdout",
     "output_type": "stream",
     "text": [
      "[21:00:14] WARNING: C:/Jenkins/workspace/xgboost-win64_release_0.90/src/objective/regression_obj.cu:152: reg:linear is now deprecated in favor of reg:squarederror.\n"
     ]
    },
    {
     "name": "stderr",
     "output_type": "stream",
     "text": [
      "C:\\ProgramData\\Anaconda3\\lib\\site-packages\\xgboost\\core.py:587: FutureWarning: Series.base is deprecated and will be removed in a future version\n",
      "  if getattr(data, 'base', None) is not None and \\\n"
     ]
    },
    {
     "name": "stdout",
     "output_type": "stream",
     "text": [
      "[21:00:18] WARNING: C:/Jenkins/workspace/xgboost-win64_release_0.90/src/objective/regression_obj.cu:152: reg:linear is now deprecated in favor of reg:squarederror.\n"
     ]
    },
    {
     "name": "stderr",
     "output_type": "stream",
     "text": [
      "C:\\ProgramData\\Anaconda3\\lib\\site-packages\\xgboost\\core.py:587: FutureWarning: Series.base is deprecated and will be removed in a future version\n",
      "  if getattr(data, 'base', None) is not None and \\\n"
     ]
    },
    {
     "name": "stdout",
     "output_type": "stream",
     "text": [
      "[21:00:21] WARNING: C:/Jenkins/workspace/xgboost-win64_release_0.90/src/objective/regression_obj.cu:152: reg:linear is now deprecated in favor of reg:squarederror.\n"
     ]
    },
    {
     "name": "stderr",
     "output_type": "stream",
     "text": [
      "C:\\ProgramData\\Anaconda3\\lib\\site-packages\\xgboost\\core.py:587: FutureWarning: Series.base is deprecated and will be removed in a future version\n",
      "  if getattr(data, 'base', None) is not None and \\\n"
     ]
    },
    {
     "name": "stdout",
     "output_type": "stream",
     "text": [
      "[21:00:24] WARNING: C:/Jenkins/workspace/xgboost-win64_release_0.90/src/objective/regression_obj.cu:152: reg:linear is now deprecated in favor of reg:squarederror.\n"
     ]
    },
    {
     "name": "stderr",
     "output_type": "stream",
     "text": [
      "C:\\ProgramData\\Anaconda3\\lib\\site-packages\\xgboost\\core.py:587: FutureWarning: Series.base is deprecated and will be removed in a future version\n",
      "  if getattr(data, 'base', None) is not None and \\\n"
     ]
    },
    {
     "name": "stdout",
     "output_type": "stream",
     "text": [
      "[21:00:27] WARNING: C:/Jenkins/workspace/xgboost-win64_release_0.90/src/objective/regression_obj.cu:152: reg:linear is now deprecated in favor of reg:squarederror.\n"
     ]
    },
    {
     "name": "stderr",
     "output_type": "stream",
     "text": [
      "C:\\ProgramData\\Anaconda3\\lib\\site-packages\\xgboost\\core.py:587: FutureWarning: Series.base is deprecated and will be removed in a future version\n",
      "  if getattr(data, 'base', None) is not None and \\\n"
     ]
    },
    {
     "name": "stdout",
     "output_type": "stream",
     "text": [
      "[21:00:31] WARNING: C:/Jenkins/workspace/xgboost-win64_release_0.90/src/objective/regression_obj.cu:152: reg:linear is now deprecated in favor of reg:squarederror.\n"
     ]
    },
    {
     "name": "stderr",
     "output_type": "stream",
     "text": [
      "C:\\ProgramData\\Anaconda3\\lib\\site-packages\\xgboost\\core.py:587: FutureWarning: Series.base is deprecated and will be removed in a future version\n",
      "  if getattr(data, 'base', None) is not None and \\\n"
     ]
    },
    {
     "name": "stdout",
     "output_type": "stream",
     "text": [
      "[21:00:33] WARNING: C:/Jenkins/workspace/xgboost-win64_release_0.90/src/objective/regression_obj.cu:152: reg:linear is now deprecated in favor of reg:squarederror.\n"
     ]
    },
    {
     "name": "stderr",
     "output_type": "stream",
     "text": [
      "C:\\ProgramData\\Anaconda3\\lib\\site-packages\\xgboost\\core.py:587: FutureWarning: Series.base is deprecated and will be removed in a future version\n",
      "  if getattr(data, 'base', None) is not None and \\\n"
     ]
    },
    {
     "name": "stdout",
     "output_type": "stream",
     "text": [
      "[21:00:39] WARNING: C:/Jenkins/workspace/xgboost-win64_release_0.90/src/objective/regression_obj.cu:152: reg:linear is now deprecated in favor of reg:squarederror.\n"
     ]
    },
    {
     "name": "stderr",
     "output_type": "stream",
     "text": [
      "C:\\ProgramData\\Anaconda3\\lib\\site-packages\\xgboost\\core.py:587: FutureWarning: Series.base is deprecated and will be removed in a future version\n",
      "  if getattr(data, 'base', None) is not None and \\\n"
     ]
    },
    {
     "name": "stdout",
     "output_type": "stream",
     "text": [
      "[21:00:43] WARNING: C:/Jenkins/workspace/xgboost-win64_release_0.90/src/objective/regression_obj.cu:152: reg:linear is now deprecated in favor of reg:squarederror.\n"
     ]
    },
    {
     "name": "stderr",
     "output_type": "stream",
     "text": [
      "C:\\ProgramData\\Anaconda3\\lib\\site-packages\\xgboost\\core.py:587: FutureWarning: Series.base is deprecated and will be removed in a future version\n",
      "  if getattr(data, 'base', None) is not None and \\\n"
     ]
    },
    {
     "name": "stdout",
     "output_type": "stream",
     "text": [
      "[21:00:46] WARNING: C:/Jenkins/workspace/xgboost-win64_release_0.90/src/objective/regression_obj.cu:152: reg:linear is now deprecated in favor of reg:squarederror.\n"
     ]
    },
    {
     "name": "stderr",
     "output_type": "stream",
     "text": [
      "C:\\ProgramData\\Anaconda3\\lib\\site-packages\\xgboost\\core.py:587: FutureWarning: Series.base is deprecated and will be removed in a future version\n",
      "  if getattr(data, 'base', None) is not None and \\\n"
     ]
    },
    {
     "name": "stdout",
     "output_type": "stream",
     "text": [
      "[21:00:50] WARNING: C:/Jenkins/workspace/xgboost-win64_release_0.90/src/objective/regression_obj.cu:152: reg:linear is now deprecated in favor of reg:squarederror.\n"
     ]
    },
    {
     "name": "stderr",
     "output_type": "stream",
     "text": [
      "C:\\ProgramData\\Anaconda3\\lib\\site-packages\\xgboost\\core.py:587: FutureWarning: Series.base is deprecated and will be removed in a future version\n",
      "  if getattr(data, 'base', None) is not None and \\\n"
     ]
    },
    {
     "name": "stdout",
     "output_type": "stream",
     "text": [
      "[21:00:53] WARNING: C:/Jenkins/workspace/xgboost-win64_release_0.90/src/objective/regression_obj.cu:152: reg:linear is now deprecated in favor of reg:squarederror.\n"
     ]
    },
    {
     "name": "stderr",
     "output_type": "stream",
     "text": [
      "C:\\ProgramData\\Anaconda3\\lib\\site-packages\\xgboost\\core.py:587: FutureWarning: Series.base is deprecated and will be removed in a future version\n",
      "  if getattr(data, 'base', None) is not None and \\\n"
     ]
    },
    {
     "name": "stdout",
     "output_type": "stream",
     "text": [
      "[21:00:56] WARNING: C:/Jenkins/workspace/xgboost-win64_release_0.90/src/objective/regression_obj.cu:152: reg:linear is now deprecated in favor of reg:squarederror.\n"
     ]
    },
    {
     "name": "stderr",
     "output_type": "stream",
     "text": [
      "C:\\ProgramData\\Anaconda3\\lib\\site-packages\\xgboost\\core.py:587: FutureWarning: Series.base is deprecated and will be removed in a future version\n",
      "  if getattr(data, 'base', None) is not None and \\\n"
     ]
    },
    {
     "name": "stdout",
     "output_type": "stream",
     "text": [
      "[21:01:00] WARNING: C:/Jenkins/workspace/xgboost-win64_release_0.90/src/objective/regression_obj.cu:152: reg:linear is now deprecated in favor of reg:squarederror.\n"
     ]
    },
    {
     "name": "stderr",
     "output_type": "stream",
     "text": [
      "C:\\ProgramData\\Anaconda3\\lib\\site-packages\\xgboost\\core.py:587: FutureWarning: Series.base is deprecated and will be removed in a future version\n",
      "  if getattr(data, 'base', None) is not None and \\\n"
     ]
    },
    {
     "name": "stdout",
     "output_type": "stream",
     "text": [
      "[21:01:03] WARNING: C:/Jenkins/workspace/xgboost-win64_release_0.90/src/objective/regression_obj.cu:152: reg:linear is now deprecated in favor of reg:squarederror.\n"
     ]
    },
    {
     "name": "stderr",
     "output_type": "stream",
     "text": [
      "C:\\ProgramData\\Anaconda3\\lib\\site-packages\\xgboost\\core.py:587: FutureWarning: Series.base is deprecated and will be removed in a future version\n",
      "  if getattr(data, 'base', None) is not None and \\\n"
     ]
    },
    {
     "name": "stdout",
     "output_type": "stream",
     "text": [
      "[21:01:08] WARNING: C:/Jenkins/workspace/xgboost-win64_release_0.90/src/objective/regression_obj.cu:152: reg:linear is now deprecated in favor of reg:squarederror.\n"
     ]
    },
    {
     "name": "stderr",
     "output_type": "stream",
     "text": [
      "C:\\ProgramData\\Anaconda3\\lib\\site-packages\\xgboost\\core.py:587: FutureWarning: Series.base is deprecated and will be removed in a future version\n",
      "  if getattr(data, 'base', None) is not None and \\\n"
     ]
    },
    {
     "name": "stdout",
     "output_type": "stream",
     "text": [
      "[21:01:10] WARNING: C:/Jenkins/workspace/xgboost-win64_release_0.90/src/objective/regression_obj.cu:152: reg:linear is now deprecated in favor of reg:squarederror.\n"
     ]
    },
    {
     "name": "stderr",
     "output_type": "stream",
     "text": [
      "C:\\ProgramData\\Anaconda3\\lib\\site-packages\\xgboost\\core.py:587: FutureWarning: Series.base is deprecated and will be removed in a future version\n",
      "  if getattr(data, 'base', None) is not None and \\\n"
     ]
    },
    {
     "name": "stdout",
     "output_type": "stream",
     "text": [
      "[21:01:15] WARNING: C:/Jenkins/workspace/xgboost-win64_release_0.90/src/objective/regression_obj.cu:152: reg:linear is now deprecated in favor of reg:squarederror.\n"
     ]
    },
    {
     "name": "stderr",
     "output_type": "stream",
     "text": [
      "C:\\ProgramData\\Anaconda3\\lib\\site-packages\\xgboost\\core.py:587: FutureWarning: Series.base is deprecated and will be removed in a future version\n",
      "  if getattr(data, 'base', None) is not None and \\\n"
     ]
    },
    {
     "name": "stdout",
     "output_type": "stream",
     "text": [
      "[21:01:17] WARNING: C:/Jenkins/workspace/xgboost-win64_release_0.90/src/objective/regression_obj.cu:152: reg:linear is now deprecated in favor of reg:squarederror.\n"
     ]
    },
    {
     "name": "stderr",
     "output_type": "stream",
     "text": [
      "C:\\ProgramData\\Anaconda3\\lib\\site-packages\\xgboost\\core.py:587: FutureWarning: Series.base is deprecated and will be removed in a future version\n",
      "  if getattr(data, 'base', None) is not None and \\\n"
     ]
    },
    {
     "name": "stdout",
     "output_type": "stream",
     "text": [
      "[21:01:20] WARNING: C:/Jenkins/workspace/xgboost-win64_release_0.90/src/objective/regression_obj.cu:152: reg:linear is now deprecated in favor of reg:squarederror.\n"
     ]
    },
    {
     "name": "stderr",
     "output_type": "stream",
     "text": [
      "C:\\ProgramData\\Anaconda3\\lib\\site-packages\\xgboost\\core.py:587: FutureWarning: Series.base is deprecated and will be removed in a future version\n",
      "  if getattr(data, 'base', None) is not None and \\\n"
     ]
    },
    {
     "name": "stdout",
     "output_type": "stream",
     "text": [
      "[21:01:22] WARNING: C:/Jenkins/workspace/xgboost-win64_release_0.90/src/objective/regression_obj.cu:152: reg:linear is now deprecated in favor of reg:squarederror.\n"
     ]
    },
    {
     "name": "stderr",
     "output_type": "stream",
     "text": [
      "C:\\ProgramData\\Anaconda3\\lib\\site-packages\\xgboost\\core.py:587: FutureWarning: Series.base is deprecated and will be removed in a future version\n",
      "  if getattr(data, 'base', None) is not None and \\\n"
     ]
    },
    {
     "name": "stdout",
     "output_type": "stream",
     "text": [
      "[21:01:26] WARNING: C:/Jenkins/workspace/xgboost-win64_release_0.90/src/objective/regression_obj.cu:152: reg:linear is now deprecated in favor of reg:squarederror.\n"
     ]
    },
    {
     "name": "stderr",
     "output_type": "stream",
     "text": [
      "C:\\ProgramData\\Anaconda3\\lib\\site-packages\\xgboost\\core.py:587: FutureWarning: Series.base is deprecated and will be removed in a future version\n",
      "  if getattr(data, 'base', None) is not None and \\\n"
     ]
    },
    {
     "name": "stdout",
     "output_type": "stream",
     "text": [
      "[21:01:29] WARNING: C:/Jenkins/workspace/xgboost-win64_release_0.90/src/objective/regression_obj.cu:152: reg:linear is now deprecated in favor of reg:squarederror.\n"
     ]
    },
    {
     "name": "stderr",
     "output_type": "stream",
     "text": [
      "C:\\ProgramData\\Anaconda3\\lib\\site-packages\\xgboost\\core.py:587: FutureWarning: Series.base is deprecated and will be removed in a future version\n",
      "  if getattr(data, 'base', None) is not None and \\\n"
     ]
    },
    {
     "name": "stdout",
     "output_type": "stream",
     "text": [
      "[21:01:31] WARNING: C:/Jenkins/workspace/xgboost-win64_release_0.90/src/objective/regression_obj.cu:152: reg:linear is now deprecated in favor of reg:squarederror.\n"
     ]
    },
    {
     "name": "stderr",
     "output_type": "stream",
     "text": [
      "C:\\ProgramData\\Anaconda3\\lib\\site-packages\\xgboost\\core.py:587: FutureWarning: Series.base is deprecated and will be removed in a future version\n",
      "  if getattr(data, 'base', None) is not None and \\\n"
     ]
    },
    {
     "name": "stdout",
     "output_type": "stream",
     "text": [
      "[21:01:34] WARNING: C:/Jenkins/workspace/xgboost-win64_release_0.90/src/objective/regression_obj.cu:152: reg:linear is now deprecated in favor of reg:squarederror.\n"
     ]
    },
    {
     "name": "stderr",
     "output_type": "stream",
     "text": [
      "C:\\ProgramData\\Anaconda3\\lib\\site-packages\\xgboost\\core.py:587: FutureWarning: Series.base is deprecated and will be removed in a future version\n",
      "  if getattr(data, 'base', None) is not None and \\\n"
     ]
    },
    {
     "name": "stdout",
     "output_type": "stream",
     "text": [
      "[21:01:38] WARNING: C:/Jenkins/workspace/xgboost-win64_release_0.90/src/objective/regression_obj.cu:152: reg:linear is now deprecated in favor of reg:squarederror.\n"
     ]
    },
    {
     "name": "stderr",
     "output_type": "stream",
     "text": [
      "C:\\ProgramData\\Anaconda3\\lib\\site-packages\\xgboost\\core.py:587: FutureWarning: Series.base is deprecated and will be removed in a future version\n",
      "  if getattr(data, 'base', None) is not None and \\\n"
     ]
    },
    {
     "name": "stdout",
     "output_type": "stream",
     "text": [
      "[21:01:42] WARNING: C:/Jenkins/workspace/xgboost-win64_release_0.90/src/objective/regression_obj.cu:152: reg:linear is now deprecated in favor of reg:squarederror.\n"
     ]
    },
    {
     "name": "stderr",
     "output_type": "stream",
     "text": [
      "C:\\ProgramData\\Anaconda3\\lib\\site-packages\\xgboost\\core.py:587: FutureWarning: Series.base is deprecated and will be removed in a future version\n",
      "  if getattr(data, 'base', None) is not None and \\\n"
     ]
    },
    {
     "name": "stdout",
     "output_type": "stream",
     "text": [
      "[21:01:47] WARNING: C:/Jenkins/workspace/xgboost-win64_release_0.90/src/objective/regression_obj.cu:152: reg:linear is now deprecated in favor of reg:squarederror.\n"
     ]
    },
    {
     "name": "stderr",
     "output_type": "stream",
     "text": [
      "C:\\ProgramData\\Anaconda3\\lib\\site-packages\\xgboost\\core.py:587: FutureWarning: Series.base is deprecated and will be removed in a future version\n",
      "  if getattr(data, 'base', None) is not None and \\\n"
     ]
    },
    {
     "name": "stdout",
     "output_type": "stream",
     "text": [
      "[21:01:52] WARNING: C:/Jenkins/workspace/xgboost-win64_release_0.90/src/objective/regression_obj.cu:152: reg:linear is now deprecated in favor of reg:squarederror.\n"
     ]
    },
    {
     "name": "stderr",
     "output_type": "stream",
     "text": [
      "C:\\ProgramData\\Anaconda3\\lib\\site-packages\\xgboost\\core.py:587: FutureWarning: Series.base is deprecated and will be removed in a future version\n",
      "  if getattr(data, 'base', None) is not None and \\\n"
     ]
    },
    {
     "name": "stdout",
     "output_type": "stream",
     "text": [
      "[21:01:57] WARNING: C:/Jenkins/workspace/xgboost-win64_release_0.90/src/objective/regression_obj.cu:152: reg:linear is now deprecated in favor of reg:squarederror.\n"
     ]
    },
    {
     "name": "stderr",
     "output_type": "stream",
     "text": [
      "C:\\ProgramData\\Anaconda3\\lib\\site-packages\\xgboost\\core.py:587: FutureWarning: Series.base is deprecated and will be removed in a future version\n",
      "  if getattr(data, 'base', None) is not None and \\\n"
     ]
    },
    {
     "name": "stdout",
     "output_type": "stream",
     "text": [
      "[21:02:00] WARNING: C:/Jenkins/workspace/xgboost-win64_release_0.90/src/objective/regression_obj.cu:152: reg:linear is now deprecated in favor of reg:squarederror.\n"
     ]
    },
    {
     "name": "stderr",
     "output_type": "stream",
     "text": [
      "C:\\ProgramData\\Anaconda3\\lib\\site-packages\\xgboost\\core.py:587: FutureWarning: Series.base is deprecated and will be removed in a future version\n",
      "  if getattr(data, 'base', None) is not None and \\\n"
     ]
    },
    {
     "name": "stdout",
     "output_type": "stream",
     "text": [
      "[21:02:06] WARNING: C:/Jenkins/workspace/xgboost-win64_release_0.90/src/objective/regression_obj.cu:152: reg:linear is now deprecated in favor of reg:squarederror.\n"
     ]
    },
    {
     "name": "stderr",
     "output_type": "stream",
     "text": [
      "C:\\ProgramData\\Anaconda3\\lib\\site-packages\\xgboost\\core.py:587: FutureWarning: Series.base is deprecated and will be removed in a future version\n",
      "  if getattr(data, 'base', None) is not None and \\\n"
     ]
    },
    {
     "name": "stdout",
     "output_type": "stream",
     "text": [
      "[21:02:08] WARNING: C:/Jenkins/workspace/xgboost-win64_release_0.90/src/objective/regression_obj.cu:152: reg:linear is now deprecated in favor of reg:squarederror.\n"
     ]
    },
    {
     "name": "stderr",
     "output_type": "stream",
     "text": [
      "C:\\ProgramData\\Anaconda3\\lib\\site-packages\\xgboost\\core.py:587: FutureWarning: Series.base is deprecated and will be removed in a future version\n",
      "  if getattr(data, 'base', None) is not None and \\\n"
     ]
    },
    {
     "name": "stdout",
     "output_type": "stream",
     "text": [
      "[21:02:12] WARNING: C:/Jenkins/workspace/xgboost-win64_release_0.90/src/objective/regression_obj.cu:152: reg:linear is now deprecated in favor of reg:squarederror.\n"
     ]
    },
    {
     "name": "stderr",
     "output_type": "stream",
     "text": [
      "C:\\ProgramData\\Anaconda3\\lib\\site-packages\\xgboost\\core.py:587: FutureWarning: Series.base is deprecated and will be removed in a future version\n",
      "  if getattr(data, 'base', None) is not None and \\\n"
     ]
    },
    {
     "name": "stdout",
     "output_type": "stream",
     "text": [
      "[21:02:17] WARNING: C:/Jenkins/workspace/xgboost-win64_release_0.90/src/objective/regression_obj.cu:152: reg:linear is now deprecated in favor of reg:squarederror.\n"
     ]
    },
    {
     "name": "stderr",
     "output_type": "stream",
     "text": [
      "C:\\ProgramData\\Anaconda3\\lib\\site-packages\\xgboost\\core.py:587: FutureWarning: Series.base is deprecated and will be removed in a future version\n",
      "  if getattr(data, 'base', None) is not None and \\\n"
     ]
    },
    {
     "name": "stdout",
     "output_type": "stream",
     "text": [
      "[21:02:24] WARNING: C:/Jenkins/workspace/xgboost-win64_release_0.90/src/objective/regression_obj.cu:152: reg:linear is now deprecated in favor of reg:squarederror.\n"
     ]
    },
    {
     "name": "stderr",
     "output_type": "stream",
     "text": [
      "C:\\ProgramData\\Anaconda3\\lib\\site-packages\\xgboost\\core.py:587: FutureWarning: Series.base is deprecated and will be removed in a future version\n",
      "  if getattr(data, 'base', None) is not None and \\\n"
     ]
    },
    {
     "name": "stdout",
     "output_type": "stream",
     "text": [
      "[21:02:30] WARNING: C:/Jenkins/workspace/xgboost-win64_release_0.90/src/objective/regression_obj.cu:152: reg:linear is now deprecated in favor of reg:squarederror.\n"
     ]
    },
    {
     "name": "stderr",
     "output_type": "stream",
     "text": [
      "C:\\ProgramData\\Anaconda3\\lib\\site-packages\\xgboost\\core.py:587: FutureWarning: Series.base is deprecated and will be removed in a future version\n",
      "  if getattr(data, 'base', None) is not None and \\\n"
     ]
    },
    {
     "name": "stdout",
     "output_type": "stream",
     "text": [
      "[21:02:32] WARNING: C:/Jenkins/workspace/xgboost-win64_release_0.90/src/objective/regression_obj.cu:152: reg:linear is now deprecated in favor of reg:squarederror.\n"
     ]
    },
    {
     "name": "stderr",
     "output_type": "stream",
     "text": [
      "C:\\ProgramData\\Anaconda3\\lib\\site-packages\\xgboost\\core.py:587: FutureWarning: Series.base is deprecated and will be removed in a future version\n",
      "  if getattr(data, 'base', None) is not None and \\\n"
     ]
    },
    {
     "name": "stdout",
     "output_type": "stream",
     "text": [
      "[21:02:36] WARNING: C:/Jenkins/workspace/xgboost-win64_release_0.90/src/objective/regression_obj.cu:152: reg:linear is now deprecated in favor of reg:squarederror.\n"
     ]
    },
    {
     "name": "stderr",
     "output_type": "stream",
     "text": [
      "C:\\ProgramData\\Anaconda3\\lib\\site-packages\\xgboost\\core.py:587: FutureWarning: Series.base is deprecated and will be removed in a future version\n",
      "  if getattr(data, 'base', None) is not None and \\\n"
     ]
    },
    {
     "name": "stdout",
     "output_type": "stream",
     "text": [
      "[21:02:41] WARNING: C:/Jenkins/workspace/xgboost-win64_release_0.90/src/objective/regression_obj.cu:152: reg:linear is now deprecated in favor of reg:squarederror.\n"
     ]
    },
    {
     "name": "stderr",
     "output_type": "stream",
     "text": [
      "C:\\ProgramData\\Anaconda3\\lib\\site-packages\\xgboost\\core.py:587: FutureWarning: Series.base is deprecated and will be removed in a future version\n",
      "  if getattr(data, 'base', None) is not None and \\\n"
     ]
    },
    {
     "name": "stdout",
     "output_type": "stream",
     "text": [
      "[21:02:47] WARNING: C:/Jenkins/workspace/xgboost-win64_release_0.90/src/objective/regression_obj.cu:152: reg:linear is now deprecated in favor of reg:squarederror.\n"
     ]
    },
    {
     "name": "stderr",
     "output_type": "stream",
     "text": [
      "C:\\ProgramData\\Anaconda3\\lib\\site-packages\\xgboost\\core.py:587: FutureWarning: Series.base is deprecated and will be removed in a future version\n",
      "  if getattr(data, 'base', None) is not None and \\\n"
     ]
    },
    {
     "name": "stdout",
     "output_type": "stream",
     "text": [
      "[21:02:50] WARNING: C:/Jenkins/workspace/xgboost-win64_release_0.90/src/objective/regression_obj.cu:152: reg:linear is now deprecated in favor of reg:squarederror.\n"
     ]
    },
    {
     "name": "stderr",
     "output_type": "stream",
     "text": [
      "C:\\ProgramData\\Anaconda3\\lib\\site-packages\\xgboost\\core.py:587: FutureWarning: Series.base is deprecated and will be removed in a future version\n",
      "  if getattr(data, 'base', None) is not None and \\\n"
     ]
    },
    {
     "name": "stdout",
     "output_type": "stream",
     "text": [
      "[21:02:55] WARNING: C:/Jenkins/workspace/xgboost-win64_release_0.90/src/objective/regression_obj.cu:152: reg:linear is now deprecated in favor of reg:squarederror.\n"
     ]
    },
    {
     "name": "stderr",
     "output_type": "stream",
     "text": [
      "C:\\ProgramData\\Anaconda3\\lib\\site-packages\\xgboost\\core.py:587: FutureWarning: Series.base is deprecated and will be removed in a future version\n",
      "  if getattr(data, 'base', None) is not None and \\\n"
     ]
    },
    {
     "name": "stdout",
     "output_type": "stream",
     "text": [
      "[21:03:00] WARNING: C:/Jenkins/workspace/xgboost-win64_release_0.90/src/objective/regression_obj.cu:152: reg:linear is now deprecated in favor of reg:squarederror.\n"
     ]
    },
    {
     "name": "stderr",
     "output_type": "stream",
     "text": [
      "C:\\ProgramData\\Anaconda3\\lib\\site-packages\\xgboost\\core.py:587: FutureWarning: Series.base is deprecated and will be removed in a future version\n",
      "  if getattr(data, 'base', None) is not None and \\\n"
     ]
    },
    {
     "name": "stdout",
     "output_type": "stream",
     "text": [
      "[21:03:02] WARNING: C:/Jenkins/workspace/xgboost-win64_release_0.90/src/objective/regression_obj.cu:152: reg:linear is now deprecated in favor of reg:squarederror.\n"
     ]
    },
    {
     "name": "stderr",
     "output_type": "stream",
     "text": [
      "C:\\ProgramData\\Anaconda3\\lib\\site-packages\\xgboost\\core.py:587: FutureWarning: Series.base is deprecated and will be removed in a future version\n",
      "  if getattr(data, 'base', None) is not None and \\\n"
     ]
    },
    {
     "name": "stdout",
     "output_type": "stream",
     "text": [
      "[21:03:05] WARNING: C:/Jenkins/workspace/xgboost-win64_release_0.90/src/objective/regression_obj.cu:152: reg:linear is now deprecated in favor of reg:squarederror.\n"
     ]
    },
    {
     "name": "stderr",
     "output_type": "stream",
     "text": [
      "C:\\ProgramData\\Anaconda3\\lib\\site-packages\\xgboost\\core.py:587: FutureWarning: Series.base is deprecated and will be removed in a future version\n",
      "  if getattr(data, 'base', None) is not None and \\\n"
     ]
    },
    {
     "name": "stdout",
     "output_type": "stream",
     "text": [
      "[21:03:07] WARNING: C:/Jenkins/workspace/xgboost-win64_release_0.90/src/objective/regression_obj.cu:152: reg:linear is now deprecated in favor of reg:squarederror.\n"
     ]
    },
    {
     "name": "stderr",
     "output_type": "stream",
     "text": [
      "C:\\ProgramData\\Anaconda3\\lib\\site-packages\\xgboost\\core.py:587: FutureWarning: Series.base is deprecated and will be removed in a future version\n",
      "  if getattr(data, 'base', None) is not None and \\\n"
     ]
    },
    {
     "name": "stdout",
     "output_type": "stream",
     "text": [
      "[21:03:10] WARNING: C:/Jenkins/workspace/xgboost-win64_release_0.90/src/objective/regression_obj.cu:152: reg:linear is now deprecated in favor of reg:squarederror.\n"
     ]
    },
    {
     "name": "stderr",
     "output_type": "stream",
     "text": [
      "C:\\ProgramData\\Anaconda3\\lib\\site-packages\\xgboost\\core.py:587: FutureWarning: Series.base is deprecated and will be removed in a future version\n",
      "  if getattr(data, 'base', None) is not None and \\\n"
     ]
    },
    {
     "name": "stdout",
     "output_type": "stream",
     "text": [
      "[21:03:15] WARNING: C:/Jenkins/workspace/xgboost-win64_release_0.90/src/objective/regression_obj.cu:152: reg:linear is now deprecated in favor of reg:squarederror.\n"
     ]
    },
    {
     "name": "stderr",
     "output_type": "stream",
     "text": [
      "C:\\ProgramData\\Anaconda3\\lib\\site-packages\\xgboost\\core.py:587: FutureWarning: Series.base is deprecated and will be removed in a future version\n",
      "  if getattr(data, 'base', None) is not None and \\\n"
     ]
    },
    {
     "name": "stdout",
     "output_type": "stream",
     "text": [
      "[21:03:21] WARNING: C:/Jenkins/workspace/xgboost-win64_release_0.90/src/objective/regression_obj.cu:152: reg:linear is now deprecated in favor of reg:squarederror.\n"
     ]
    },
    {
     "name": "stderr",
     "output_type": "stream",
     "text": [
      "C:\\ProgramData\\Anaconda3\\lib\\site-packages\\xgboost\\core.py:587: FutureWarning: Series.base is deprecated and will be removed in a future version\n",
      "  if getattr(data, 'base', None) is not None and \\\n"
     ]
    },
    {
     "name": "stdout",
     "output_type": "stream",
     "text": [
      "[21:03:25] WARNING: C:/Jenkins/workspace/xgboost-win64_release_0.90/src/objective/regression_obj.cu:152: reg:linear is now deprecated in favor of reg:squarederror.\n"
     ]
    },
    {
     "name": "stderr",
     "output_type": "stream",
     "text": [
      "C:\\ProgramData\\Anaconda3\\lib\\site-packages\\xgboost\\core.py:587: FutureWarning: Series.base is deprecated and will be removed in a future version\n",
      "  if getattr(data, 'base', None) is not None and \\\n"
     ]
    },
    {
     "name": "stdout",
     "output_type": "stream",
     "text": [
      "[21:03:31] WARNING: C:/Jenkins/workspace/xgboost-win64_release_0.90/src/objective/regression_obj.cu:152: reg:linear is now deprecated in favor of reg:squarederror.\n"
     ]
    },
    {
     "name": "stderr",
     "output_type": "stream",
     "text": [
      "C:\\ProgramData\\Anaconda3\\lib\\site-packages\\xgboost\\core.py:587: FutureWarning: Series.base is deprecated and will be removed in a future version\n",
      "  if getattr(data, 'base', None) is not None and \\\n"
     ]
    },
    {
     "name": "stdout",
     "output_type": "stream",
     "text": [
      "[21:03:35] WARNING: C:/Jenkins/workspace/xgboost-win64_release_0.90/src/objective/regression_obj.cu:152: reg:linear is now deprecated in favor of reg:squarederror.\n"
     ]
    },
    {
     "name": "stderr",
     "output_type": "stream",
     "text": [
      "C:\\ProgramData\\Anaconda3\\lib\\site-packages\\xgboost\\core.py:587: FutureWarning: Series.base is deprecated and will be removed in a future version\n",
      "  if getattr(data, 'base', None) is not None and \\\n"
     ]
    },
    {
     "name": "stdout",
     "output_type": "stream",
     "text": [
      "[21:03:38] WARNING: C:/Jenkins/workspace/xgboost-win64_release_0.90/src/objective/regression_obj.cu:152: reg:linear is now deprecated in favor of reg:squarederror.\n"
     ]
    },
    {
     "name": "stderr",
     "output_type": "stream",
     "text": [
      "C:\\ProgramData\\Anaconda3\\lib\\site-packages\\xgboost\\core.py:587: FutureWarning: Series.base is deprecated and will be removed in a future version\n",
      "  if getattr(data, 'base', None) is not None and \\\n"
     ]
    },
    {
     "name": "stdout",
     "output_type": "stream",
     "text": [
      "[21:03:41] WARNING: C:/Jenkins/workspace/xgboost-win64_release_0.90/src/objective/regression_obj.cu:152: reg:linear is now deprecated in favor of reg:squarederror.\n"
     ]
    },
    {
     "name": "stderr",
     "output_type": "stream",
     "text": [
      "C:\\ProgramData\\Anaconda3\\lib\\site-packages\\xgboost\\core.py:587: FutureWarning: Series.base is deprecated and will be removed in a future version\n",
      "  if getattr(data, 'base', None) is not None and \\\n"
     ]
    },
    {
     "name": "stdout",
     "output_type": "stream",
     "text": [
      "[21:03:46] WARNING: C:/Jenkins/workspace/xgboost-win64_release_0.90/src/objective/regression_obj.cu:152: reg:linear is now deprecated in favor of reg:squarederror.\n"
     ]
    },
    {
     "name": "stderr",
     "output_type": "stream",
     "text": [
      "C:\\ProgramData\\Anaconda3\\lib\\site-packages\\xgboost\\core.py:587: FutureWarning: Series.base is deprecated and will be removed in a future version\n",
      "  if getattr(data, 'base', None) is not None and \\\n"
     ]
    },
    {
     "name": "stdout",
     "output_type": "stream",
     "text": [
      "[21:03:49] WARNING: C:/Jenkins/workspace/xgboost-win64_release_0.90/src/objective/regression_obj.cu:152: reg:linear is now deprecated in favor of reg:squarederror.\n"
     ]
    },
    {
     "name": "stderr",
     "output_type": "stream",
     "text": [
      "C:\\ProgramData\\Anaconda3\\lib\\site-packages\\xgboost\\core.py:587: FutureWarning: Series.base is deprecated and will be removed in a future version\n",
      "  if getattr(data, 'base', None) is not None and \\\n"
     ]
    },
    {
     "name": "stdout",
     "output_type": "stream",
     "text": [
      "[21:03:53] WARNING: C:/Jenkins/workspace/xgboost-win64_release_0.90/src/objective/regression_obj.cu:152: reg:linear is now deprecated in favor of reg:squarederror.\n"
     ]
    },
    {
     "name": "stderr",
     "output_type": "stream",
     "text": [
      "C:\\ProgramData\\Anaconda3\\lib\\site-packages\\xgboost\\core.py:587: FutureWarning: Series.base is deprecated and will be removed in a future version\n",
      "  if getattr(data, 'base', None) is not None and \\\n"
     ]
    },
    {
     "name": "stdout",
     "output_type": "stream",
     "text": [
      "[21:03:57] WARNING: C:/Jenkins/workspace/xgboost-win64_release_0.90/src/objective/regression_obj.cu:152: reg:linear is now deprecated in favor of reg:squarederror.\n"
     ]
    },
    {
     "name": "stderr",
     "output_type": "stream",
     "text": [
      "C:\\ProgramData\\Anaconda3\\lib\\site-packages\\xgboost\\core.py:587: FutureWarning: Series.base is deprecated and will be removed in a future version\n",
      "  if getattr(data, 'base', None) is not None and \\\n"
     ]
    },
    {
     "name": "stdout",
     "output_type": "stream",
     "text": [
      "[21:04:00] WARNING: C:/Jenkins/workspace/xgboost-win64_release_0.90/src/objective/regression_obj.cu:152: reg:linear is now deprecated in favor of reg:squarederror.\n"
     ]
    },
    {
     "name": "stderr",
     "output_type": "stream",
     "text": [
      "C:\\ProgramData\\Anaconda3\\lib\\site-packages\\xgboost\\core.py:587: FutureWarning: Series.base is deprecated and will be removed in a future version\n",
      "  if getattr(data, 'base', None) is not None and \\\n"
     ]
    },
    {
     "name": "stdout",
     "output_type": "stream",
     "text": [
      "[21:04:04] WARNING: C:/Jenkins/workspace/xgboost-win64_release_0.90/src/objective/regression_obj.cu:152: reg:linear is now deprecated in favor of reg:squarederror.\n"
     ]
    },
    {
     "name": "stderr",
     "output_type": "stream",
     "text": [
      "C:\\ProgramData\\Anaconda3\\lib\\site-packages\\xgboost\\core.py:587: FutureWarning: Series.base is deprecated and will be removed in a future version\n",
      "  if getattr(data, 'base', None) is not None and \\\n"
     ]
    },
    {
     "name": "stdout",
     "output_type": "stream",
     "text": [
      "[21:04:08] WARNING: C:/Jenkins/workspace/xgboost-win64_release_0.90/src/objective/regression_obj.cu:152: reg:linear is now deprecated in favor of reg:squarederror.\n"
     ]
    },
    {
     "name": "stderr",
     "output_type": "stream",
     "text": [
      "C:\\ProgramData\\Anaconda3\\lib\\site-packages\\xgboost\\core.py:587: FutureWarning: Series.base is deprecated and will be removed in a future version\n",
      "  if getattr(data, 'base', None) is not None and \\\n"
     ]
    },
    {
     "name": "stdout",
     "output_type": "stream",
     "text": [
      "[21:04:11] WARNING: C:/Jenkins/workspace/xgboost-win64_release_0.90/src/objective/regression_obj.cu:152: reg:linear is now deprecated in favor of reg:squarederror.\n"
     ]
    },
    {
     "name": "stderr",
     "output_type": "stream",
     "text": [
      "C:\\ProgramData\\Anaconda3\\lib\\site-packages\\xgboost\\core.py:587: FutureWarning: Series.base is deprecated and will be removed in a future version\n",
      "  if getattr(data, 'base', None) is not None and \\\n"
     ]
    },
    {
     "name": "stdout",
     "output_type": "stream",
     "text": [
      "[21:04:14] WARNING: C:/Jenkins/workspace/xgboost-win64_release_0.90/src/objective/regression_obj.cu:152: reg:linear is now deprecated in favor of reg:squarederror.\n"
     ]
    },
    {
     "name": "stderr",
     "output_type": "stream",
     "text": [
      "C:\\ProgramData\\Anaconda3\\lib\\site-packages\\xgboost\\core.py:587: FutureWarning: Series.base is deprecated and will be removed in a future version\n",
      "  if getattr(data, 'base', None) is not None and \\\n"
     ]
    },
    {
     "name": "stdout",
     "output_type": "stream",
     "text": [
      "[21:04:17] WARNING: C:/Jenkins/workspace/xgboost-win64_release_0.90/src/objective/regression_obj.cu:152: reg:linear is now deprecated in favor of reg:squarederror.\n"
     ]
    },
    {
     "name": "stderr",
     "output_type": "stream",
     "text": [
      "C:\\ProgramData\\Anaconda3\\lib\\site-packages\\xgboost\\core.py:587: FutureWarning: Series.base is deprecated and will be removed in a future version\n",
      "  if getattr(data, 'base', None) is not None and \\\n"
     ]
    },
    {
     "name": "stdout",
     "output_type": "stream",
     "text": [
      "[21:04:22] WARNING: C:/Jenkins/workspace/xgboost-win64_release_0.90/src/objective/regression_obj.cu:152: reg:linear is now deprecated in favor of reg:squarederror.\n"
     ]
    },
    {
     "name": "stderr",
     "output_type": "stream",
     "text": [
      "C:\\ProgramData\\Anaconda3\\lib\\site-packages\\xgboost\\core.py:587: FutureWarning: Series.base is deprecated and will be removed in a future version\n",
      "  if getattr(data, 'base', None) is not None and \\\n"
     ]
    },
    {
     "name": "stdout",
     "output_type": "stream",
     "text": [
      "[21:04:26] WARNING: C:/Jenkins/workspace/xgboost-win64_release_0.90/src/objective/regression_obj.cu:152: reg:linear is now deprecated in favor of reg:squarederror.\n"
     ]
    },
    {
     "name": "stderr",
     "output_type": "stream",
     "text": [
      "C:\\ProgramData\\Anaconda3\\lib\\site-packages\\xgboost\\core.py:587: FutureWarning: Series.base is deprecated and will be removed in a future version\n",
      "  if getattr(data, 'base', None) is not None and \\\n"
     ]
    },
    {
     "name": "stdout",
     "output_type": "stream",
     "text": [
      "[21:04:30] WARNING: C:/Jenkins/workspace/xgboost-win64_release_0.90/src/objective/regression_obj.cu:152: reg:linear is now deprecated in favor of reg:squarederror.\n"
     ]
    },
    {
     "name": "stderr",
     "output_type": "stream",
     "text": [
      "C:\\ProgramData\\Anaconda3\\lib\\site-packages\\xgboost\\core.py:587: FutureWarning: Series.base is deprecated and will be removed in a future version\n",
      "  if getattr(data, 'base', None) is not None and \\\n"
     ]
    },
    {
     "name": "stdout",
     "output_type": "stream",
     "text": [
      "[21:04:32] WARNING: C:/Jenkins/workspace/xgboost-win64_release_0.90/src/objective/regression_obj.cu:152: reg:linear is now deprecated in favor of reg:squarederror.\n"
     ]
    },
    {
     "name": "stderr",
     "output_type": "stream",
     "text": [
      "C:\\ProgramData\\Anaconda3\\lib\\site-packages\\xgboost\\core.py:587: FutureWarning: Series.base is deprecated and will be removed in a future version\n",
      "  if getattr(data, 'base', None) is not None and \\\n"
     ]
    },
    {
     "name": "stdout",
     "output_type": "stream",
     "text": [
      "[21:04:36] WARNING: C:/Jenkins/workspace/xgboost-win64_release_0.90/src/objective/regression_obj.cu:152: reg:linear is now deprecated in favor of reg:squarederror.\n"
     ]
    },
    {
     "name": "stderr",
     "output_type": "stream",
     "text": [
      "C:\\ProgramData\\Anaconda3\\lib\\site-packages\\xgboost\\core.py:587: FutureWarning: Series.base is deprecated and will be removed in a future version\n",
      "  if getattr(data, 'base', None) is not None and \\\n"
     ]
    },
    {
     "name": "stdout",
     "output_type": "stream",
     "text": [
      "[21:04:39] WARNING: C:/Jenkins/workspace/xgboost-win64_release_0.90/src/objective/regression_obj.cu:152: reg:linear is now deprecated in favor of reg:squarederror.\n"
     ]
    },
    {
     "name": "stderr",
     "output_type": "stream",
     "text": [
      "C:\\ProgramData\\Anaconda3\\lib\\site-packages\\xgboost\\core.py:587: FutureWarning: Series.base is deprecated and will be removed in a future version\n",
      "  if getattr(data, 'base', None) is not None and \\\n"
     ]
    },
    {
     "name": "stdout",
     "output_type": "stream",
     "text": [
      "[21:04:41] WARNING: C:/Jenkins/workspace/xgboost-win64_release_0.90/src/objective/regression_obj.cu:152: reg:linear is now deprecated in favor of reg:squarederror.\n"
     ]
    },
    {
     "name": "stderr",
     "output_type": "stream",
     "text": [
      "C:\\ProgramData\\Anaconda3\\lib\\site-packages\\xgboost\\core.py:587: FutureWarning: Series.base is deprecated and will be removed in a future version\n",
      "  if getattr(data, 'base', None) is not None and \\\n"
     ]
    },
    {
     "name": "stdout",
     "output_type": "stream",
     "text": [
      "[21:04:44] WARNING: C:/Jenkins/workspace/xgboost-win64_release_0.90/src/objective/regression_obj.cu:152: reg:linear is now deprecated in favor of reg:squarederror.\n"
     ]
    },
    {
     "name": "stderr",
     "output_type": "stream",
     "text": [
      "C:\\ProgramData\\Anaconda3\\lib\\site-packages\\xgboost\\core.py:587: FutureWarning: Series.base is deprecated and will be removed in a future version\n",
      "  if getattr(data, 'base', None) is not None and \\\n"
     ]
    },
    {
     "name": "stdout",
     "output_type": "stream",
     "text": [
      "[21:04:47] WARNING: C:/Jenkins/workspace/xgboost-win64_release_0.90/src/objective/regression_obj.cu:152: reg:linear is now deprecated in favor of reg:squarederror.\n"
     ]
    },
    {
     "name": "stderr",
     "output_type": "stream",
     "text": [
      "C:\\ProgramData\\Anaconda3\\lib\\site-packages\\xgboost\\core.py:587: FutureWarning: Series.base is deprecated and will be removed in a future version\n",
      "  if getattr(data, 'base', None) is not None and \\\n"
     ]
    },
    {
     "name": "stdout",
     "output_type": "stream",
     "text": [
      "[21:04:51] WARNING: C:/Jenkins/workspace/xgboost-win64_release_0.90/src/objective/regression_obj.cu:152: reg:linear is now deprecated in favor of reg:squarederror.\n"
     ]
    },
    {
     "name": "stderr",
     "output_type": "stream",
     "text": [
      "C:\\ProgramData\\Anaconda3\\lib\\site-packages\\xgboost\\core.py:587: FutureWarning: Series.base is deprecated and will be removed in a future version\n",
      "  if getattr(data, 'base', None) is not None and \\\n"
     ]
    },
    {
     "name": "stdout",
     "output_type": "stream",
     "text": [
      "[21:04:53] WARNING: C:/Jenkins/workspace/xgboost-win64_release_0.90/src/objective/regression_obj.cu:152: reg:linear is now deprecated in favor of reg:squarederror.\n"
     ]
    },
    {
     "name": "stderr",
     "output_type": "stream",
     "text": [
      "C:\\ProgramData\\Anaconda3\\lib\\site-packages\\xgboost\\core.py:587: FutureWarning: Series.base is deprecated and will be removed in a future version\n",
      "  if getattr(data, 'base', None) is not None and \\\n"
     ]
    },
    {
     "name": "stdout",
     "output_type": "stream",
     "text": [
      "[21:04:57] WARNING: C:/Jenkins/workspace/xgboost-win64_release_0.90/src/objective/regression_obj.cu:152: reg:linear is now deprecated in favor of reg:squarederror.\n"
     ]
    },
    {
     "name": "stderr",
     "output_type": "stream",
     "text": [
      "C:\\ProgramData\\Anaconda3\\lib\\site-packages\\xgboost\\core.py:587: FutureWarning: Series.base is deprecated and will be removed in a future version\n",
      "  if getattr(data, 'base', None) is not None and \\\n"
     ]
    },
    {
     "name": "stdout",
     "output_type": "stream",
     "text": [
      "[21:05:00] WARNING: C:/Jenkins/workspace/xgboost-win64_release_0.90/src/objective/regression_obj.cu:152: reg:linear is now deprecated in favor of reg:squarederror.\n"
     ]
    },
    {
     "name": "stderr",
     "output_type": "stream",
     "text": [
      "C:\\ProgramData\\Anaconda3\\lib\\site-packages\\xgboost\\core.py:587: FutureWarning: Series.base is deprecated and will be removed in a future version\n",
      "  if getattr(data, 'base', None) is not None and \\\n"
     ]
    },
    {
     "name": "stdout",
     "output_type": "stream",
     "text": [
      "[21:05:06] WARNING: C:/Jenkins/workspace/xgboost-win64_release_0.90/src/objective/regression_obj.cu:152: reg:linear is now deprecated in favor of reg:squarederror.\n"
     ]
    },
    {
     "name": "stderr",
     "output_type": "stream",
     "text": [
      "C:\\ProgramData\\Anaconda3\\lib\\site-packages\\xgboost\\core.py:587: FutureWarning: Series.base is deprecated and will be removed in a future version\n",
      "  if getattr(data, 'base', None) is not None and \\\n"
     ]
    },
    {
     "name": "stdout",
     "output_type": "stream",
     "text": [
      "[21:05:09] WARNING: C:/Jenkins/workspace/xgboost-win64_release_0.90/src/objective/regression_obj.cu:152: reg:linear is now deprecated in favor of reg:squarederror.\n"
     ]
    },
    {
     "name": "stderr",
     "output_type": "stream",
     "text": [
      "C:\\ProgramData\\Anaconda3\\lib\\site-packages\\xgboost\\core.py:587: FutureWarning: Series.base is deprecated and will be removed in a future version\n",
      "  if getattr(data, 'base', None) is not None and \\\n"
     ]
    },
    {
     "name": "stdout",
     "output_type": "stream",
     "text": [
      "[21:05:11] WARNING: C:/Jenkins/workspace/xgboost-win64_release_0.90/src/objective/regression_obj.cu:152: reg:linear is now deprecated in favor of reg:squarederror.\n"
     ]
    },
    {
     "name": "stderr",
     "output_type": "stream",
     "text": [
      "C:\\ProgramData\\Anaconda3\\lib\\site-packages\\xgboost\\core.py:587: FutureWarning: Series.base is deprecated and will be removed in a future version\n",
      "  if getattr(data, 'base', None) is not None and \\\n"
     ]
    },
    {
     "name": "stdout",
     "output_type": "stream",
     "text": [
      "[21:05:13] WARNING: C:/Jenkins/workspace/xgboost-win64_release_0.90/src/objective/regression_obj.cu:152: reg:linear is now deprecated in favor of reg:squarederror.\n"
     ]
    },
    {
     "name": "stderr",
     "output_type": "stream",
     "text": [
      "C:\\ProgramData\\Anaconda3\\lib\\site-packages\\xgboost\\core.py:587: FutureWarning: Series.base is deprecated and will be removed in a future version\n",
      "  if getattr(data, 'base', None) is not None and \\\n"
     ]
    },
    {
     "name": "stdout",
     "output_type": "stream",
     "text": [
      "[21:05:17] WARNING: C:/Jenkins/workspace/xgboost-win64_release_0.90/src/objective/regression_obj.cu:152: reg:linear is now deprecated in favor of reg:squarederror.\n"
     ]
    },
    {
     "name": "stderr",
     "output_type": "stream",
     "text": [
      "C:\\ProgramData\\Anaconda3\\lib\\site-packages\\xgboost\\core.py:587: FutureWarning: Series.base is deprecated and will be removed in a future version\n",
      "  if getattr(data, 'base', None) is not None and \\\n"
     ]
    },
    {
     "name": "stdout",
     "output_type": "stream",
     "text": [
      "[21:05:21] WARNING: C:/Jenkins/workspace/xgboost-win64_release_0.90/src/objective/regression_obj.cu:152: reg:linear is now deprecated in favor of reg:squarederror.\n"
     ]
    },
    {
     "name": "stderr",
     "output_type": "stream",
     "text": [
      "C:\\ProgramData\\Anaconda3\\lib\\site-packages\\xgboost\\core.py:587: FutureWarning: Series.base is deprecated and will be removed in a future version\n",
      "  if getattr(data, 'base', None) is not None and \\\n"
     ]
    },
    {
     "name": "stdout",
     "output_type": "stream",
     "text": [
      "[21:05:24] WARNING: C:/Jenkins/workspace/xgboost-win64_release_0.90/src/objective/regression_obj.cu:152: reg:linear is now deprecated in favor of reg:squarederror.\n"
     ]
    },
    {
     "name": "stderr",
     "output_type": "stream",
     "text": [
      "C:\\ProgramData\\Anaconda3\\lib\\site-packages\\xgboost\\core.py:587: FutureWarning: Series.base is deprecated and will be removed in a future version\n",
      "  if getattr(data, 'base', None) is not None and \\\n"
     ]
    },
    {
     "name": "stdout",
     "output_type": "stream",
     "text": [
      "[21:05:27] WARNING: C:/Jenkins/workspace/xgboost-win64_release_0.90/src/objective/regression_obj.cu:152: reg:linear is now deprecated in favor of reg:squarederror.\n"
     ]
    },
    {
     "name": "stderr",
     "output_type": "stream",
     "text": [
      "C:\\ProgramData\\Anaconda3\\lib\\site-packages\\xgboost\\core.py:587: FutureWarning: Series.base is deprecated and will be removed in a future version\n",
      "  if getattr(data, 'base', None) is not None and \\\n"
     ]
    },
    {
     "name": "stdout",
     "output_type": "stream",
     "text": [
      "[21:05:31] WARNING: C:/Jenkins/workspace/xgboost-win64_release_0.90/src/objective/regression_obj.cu:152: reg:linear is now deprecated in favor of reg:squarederror.\n"
     ]
    },
    {
     "name": "stderr",
     "output_type": "stream",
     "text": [
      "C:\\ProgramData\\Anaconda3\\lib\\site-packages\\xgboost\\core.py:587: FutureWarning: Series.base is deprecated and will be removed in a future version\n",
      "  if getattr(data, 'base', None) is not None and \\\n"
     ]
    },
    {
     "name": "stdout",
     "output_type": "stream",
     "text": [
      "[21:05:34] WARNING: C:/Jenkins/workspace/xgboost-win64_release_0.90/src/objective/regression_obj.cu:152: reg:linear is now deprecated in favor of reg:squarederror.\n"
     ]
    },
    {
     "name": "stderr",
     "output_type": "stream",
     "text": [
      "C:\\ProgramData\\Anaconda3\\lib\\site-packages\\xgboost\\core.py:587: FutureWarning: Series.base is deprecated and will be removed in a future version\n",
      "  if getattr(data, 'base', None) is not None and \\\n"
     ]
    },
    {
     "name": "stdout",
     "output_type": "stream",
     "text": [
      "[21:05:35] WARNING: C:/Jenkins/workspace/xgboost-win64_release_0.90/src/objective/regression_obj.cu:152: reg:linear is now deprecated in favor of reg:squarederror.\n"
     ]
    },
    {
     "name": "stderr",
     "output_type": "stream",
     "text": [
      "C:\\ProgramData\\Anaconda3\\lib\\site-packages\\xgboost\\core.py:587: FutureWarning: Series.base is deprecated and will be removed in a future version\n",
      "  if getattr(data, 'base', None) is not None and \\\n"
     ]
    },
    {
     "name": "stdout",
     "output_type": "stream",
     "text": [
      "[21:05:38] WARNING: C:/Jenkins/workspace/xgboost-win64_release_0.90/src/objective/regression_obj.cu:152: reg:linear is now deprecated in favor of reg:squarederror.\n"
     ]
    },
    {
     "name": "stderr",
     "output_type": "stream",
     "text": [
      "C:\\ProgramData\\Anaconda3\\lib\\site-packages\\xgboost\\core.py:587: FutureWarning: Series.base is deprecated and will be removed in a future version\n",
      "  if getattr(data, 'base', None) is not None and \\\n"
     ]
    },
    {
     "name": "stdout",
     "output_type": "stream",
     "text": [
      "[21:05:42] WARNING: C:/Jenkins/workspace/xgboost-win64_release_0.90/src/objective/regression_obj.cu:152: reg:linear is now deprecated in favor of reg:squarederror.\n"
     ]
    },
    {
     "name": "stderr",
     "output_type": "stream",
     "text": [
      "C:\\ProgramData\\Anaconda3\\lib\\site-packages\\xgboost\\core.py:587: FutureWarning: Series.base is deprecated and will be removed in a future version\n",
      "  if getattr(data, 'base', None) is not None and \\\n"
     ]
    },
    {
     "name": "stdout",
     "output_type": "stream",
     "text": [
      "[21:05:46] WARNING: C:/Jenkins/workspace/xgboost-win64_release_0.90/src/objective/regression_obj.cu:152: reg:linear is now deprecated in favor of reg:squarederror.\n"
     ]
    },
    {
     "name": "stderr",
     "output_type": "stream",
     "text": [
      "C:\\ProgramData\\Anaconda3\\lib\\site-packages\\xgboost\\core.py:587: FutureWarning: Series.base is deprecated and will be removed in a future version\n",
      "  if getattr(data, 'base', None) is not None and \\\n"
     ]
    },
    {
     "name": "stdout",
     "output_type": "stream",
     "text": [
      "[21:05:49] WARNING: C:/Jenkins/workspace/xgboost-win64_release_0.90/src/objective/regression_obj.cu:152: reg:linear is now deprecated in favor of reg:squarederror.\n"
     ]
    },
    {
     "name": "stderr",
     "output_type": "stream",
     "text": [
      "C:\\ProgramData\\Anaconda3\\lib\\site-packages\\xgboost\\core.py:587: FutureWarning: Series.base is deprecated and will be removed in a future version\n",
      "  if getattr(data, 'base', None) is not None and \\\n"
     ]
    },
    {
     "name": "stdout",
     "output_type": "stream",
     "text": [
      "[21:05:56] WARNING: C:/Jenkins/workspace/xgboost-win64_release_0.90/src/objective/regression_obj.cu:152: reg:linear is now deprecated in favor of reg:squarederror.\n"
     ]
    },
    {
     "name": "stderr",
     "output_type": "stream",
     "text": [
      "C:\\ProgramData\\Anaconda3\\lib\\site-packages\\xgboost\\core.py:587: FutureWarning: Series.base is deprecated and will be removed in a future version\n",
      "  if getattr(data, 'base', None) is not None and \\\n"
     ]
    },
    {
     "name": "stdout",
     "output_type": "stream",
     "text": [
      "[21:06:01] WARNING: C:/Jenkins/workspace/xgboost-win64_release_0.90/src/objective/regression_obj.cu:152: reg:linear is now deprecated in favor of reg:squarederror.\n"
     ]
    },
    {
     "name": "stderr",
     "output_type": "stream",
     "text": [
      "C:\\ProgramData\\Anaconda3\\lib\\site-packages\\xgboost\\core.py:587: FutureWarning: Series.base is deprecated and will be removed in a future version\n",
      "  if getattr(data, 'base', None) is not None and \\\n"
     ]
    },
    {
     "name": "stdout",
     "output_type": "stream",
     "text": [
      "[21:06:09] WARNING: C:/Jenkins/workspace/xgboost-win64_release_0.90/src/objective/regression_obj.cu:152: reg:linear is now deprecated in favor of reg:squarederror.\n"
     ]
    },
    {
     "name": "stderr",
     "output_type": "stream",
     "text": [
      "C:\\ProgramData\\Anaconda3\\lib\\site-packages\\xgboost\\core.py:587: FutureWarning: Series.base is deprecated and will be removed in a future version\n",
      "  if getattr(data, 'base', None) is not None and \\\n"
     ]
    },
    {
     "name": "stdout",
     "output_type": "stream",
     "text": [
      "[21:06:12] WARNING: C:/Jenkins/workspace/xgboost-win64_release_0.90/src/objective/regression_obj.cu:152: reg:linear is now deprecated in favor of reg:squarederror.\n"
     ]
    },
    {
     "name": "stderr",
     "output_type": "stream",
     "text": [
      "C:\\ProgramData\\Anaconda3\\lib\\site-packages\\xgboost\\core.py:587: FutureWarning: Series.base is deprecated and will be removed in a future version\n",
      "  if getattr(data, 'base', None) is not None and \\\n"
     ]
    },
    {
     "name": "stdout",
     "output_type": "stream",
     "text": [
      "[21:06:17] WARNING: C:/Jenkins/workspace/xgboost-win64_release_0.90/src/objective/regression_obj.cu:152: reg:linear is now deprecated in favor of reg:squarederror.\n"
     ]
    },
    {
     "name": "stderr",
     "output_type": "stream",
     "text": [
      "C:\\ProgramData\\Anaconda3\\lib\\site-packages\\xgboost\\core.py:587: FutureWarning: Series.base is deprecated and will be removed in a future version\n",
      "  if getattr(data, 'base', None) is not None and \\\n"
     ]
    },
    {
     "name": "stdout",
     "output_type": "stream",
     "text": [
      "[21:06:19] WARNING: C:/Jenkins/workspace/xgboost-win64_release_0.90/src/objective/regression_obj.cu:152: reg:linear is now deprecated in favor of reg:squarederror.\n"
     ]
    },
    {
     "name": "stderr",
     "output_type": "stream",
     "text": [
      "C:\\ProgramData\\Anaconda3\\lib\\site-packages\\xgboost\\core.py:587: FutureWarning: Series.base is deprecated and will be removed in a future version\n",
      "  if getattr(data, 'base', None) is not None and \\\n"
     ]
    },
    {
     "name": "stdout",
     "output_type": "stream",
     "text": [
      "[21:06:21] WARNING: C:/Jenkins/workspace/xgboost-win64_release_0.90/src/objective/regression_obj.cu:152: reg:linear is now deprecated in favor of reg:squarederror.\n"
     ]
    },
    {
     "name": "stderr",
     "output_type": "stream",
     "text": [
      "C:\\ProgramData\\Anaconda3\\lib\\site-packages\\xgboost\\core.py:587: FutureWarning: Series.base is deprecated and will be removed in a future version\n",
      "  if getattr(data, 'base', None) is not None and \\\n"
     ]
    },
    {
     "name": "stdout",
     "output_type": "stream",
     "text": [
      "[21:06:26] WARNING: C:/Jenkins/workspace/xgboost-win64_release_0.90/src/objective/regression_obj.cu:152: reg:linear is now deprecated in favor of reg:squarederror.\n"
     ]
    },
    {
     "name": "stderr",
     "output_type": "stream",
     "text": [
      "C:\\ProgramData\\Anaconda3\\lib\\site-packages\\xgboost\\core.py:587: FutureWarning: Series.base is deprecated and will be removed in a future version\n",
      "  if getattr(data, 'base', None) is not None and \\\n"
     ]
    },
    {
     "name": "stdout",
     "output_type": "stream",
     "text": [
      "[21:06:31] WARNING: C:/Jenkins/workspace/xgboost-win64_release_0.90/src/objective/regression_obj.cu:152: reg:linear is now deprecated in favor of reg:squarederror.\n"
     ]
    },
    {
     "name": "stderr",
     "output_type": "stream",
     "text": [
      "C:\\ProgramData\\Anaconda3\\lib\\site-packages\\xgboost\\core.py:587: FutureWarning: Series.base is deprecated and will be removed in a future version\n",
      "  if getattr(data, 'base', None) is not None and \\\n"
     ]
    },
    {
     "name": "stdout",
     "output_type": "stream",
     "text": [
      "[21:06:34] WARNING: C:/Jenkins/workspace/xgboost-win64_release_0.90/src/objective/regression_obj.cu:152: reg:linear is now deprecated in favor of reg:squarederror.\n"
     ]
    },
    {
     "name": "stderr",
     "output_type": "stream",
     "text": [
      "C:\\ProgramData\\Anaconda3\\lib\\site-packages\\xgboost\\core.py:587: FutureWarning: Series.base is deprecated and will be removed in a future version\n",
      "  if getattr(data, 'base', None) is not None and \\\n"
     ]
    },
    {
     "name": "stdout",
     "output_type": "stream",
     "text": [
      "[21:06:37] WARNING: C:/Jenkins/workspace/xgboost-win64_release_0.90/src/objective/regression_obj.cu:152: reg:linear is now deprecated in favor of reg:squarederror.\n"
     ]
    },
    {
     "name": "stderr",
     "output_type": "stream",
     "text": [
      "C:\\ProgramData\\Anaconda3\\lib\\site-packages\\xgboost\\core.py:587: FutureWarning: Series.base is deprecated and will be removed in a future version\n",
      "  if getattr(data, 'base', None) is not None and \\\n"
     ]
    },
    {
     "name": "stdout",
     "output_type": "stream",
     "text": [
      "[21:06:39] WARNING: C:/Jenkins/workspace/xgboost-win64_release_0.90/src/objective/regression_obj.cu:152: reg:linear is now deprecated in favor of reg:squarederror.\n"
     ]
    },
    {
     "name": "stderr",
     "output_type": "stream",
     "text": [
      "C:\\ProgramData\\Anaconda3\\lib\\site-packages\\xgboost\\core.py:587: FutureWarning: Series.base is deprecated and will be removed in a future version\n",
      "  if getattr(data, 'base', None) is not None and \\\n"
     ]
    },
    {
     "name": "stdout",
     "output_type": "stream",
     "text": [
      "[21:06:41] WARNING: C:/Jenkins/workspace/xgboost-win64_release_0.90/src/objective/regression_obj.cu:152: reg:linear is now deprecated in favor of reg:squarederror.\n"
     ]
    },
    {
     "name": "stderr",
     "output_type": "stream",
     "text": [
      "C:\\ProgramData\\Anaconda3\\lib\\site-packages\\xgboost\\core.py:587: FutureWarning: Series.base is deprecated and will be removed in a future version\n",
      "  if getattr(data, 'base', None) is not None and \\\n"
     ]
    },
    {
     "name": "stdout",
     "output_type": "stream",
     "text": [
      "[21:06:44] WARNING: C:/Jenkins/workspace/xgboost-win64_release_0.90/src/objective/regression_obj.cu:152: reg:linear is now deprecated in favor of reg:squarederror.\n"
     ]
    },
    {
     "name": "stderr",
     "output_type": "stream",
     "text": [
      "C:\\ProgramData\\Anaconda3\\lib\\site-packages\\xgboost\\core.py:587: FutureWarning: Series.base is deprecated and will be removed in a future version\n",
      "  if getattr(data, 'base', None) is not None and \\\n"
     ]
    },
    {
     "name": "stdout",
     "output_type": "stream",
     "text": [
      "[21:06:50] WARNING: C:/Jenkins/workspace/xgboost-win64_release_0.90/src/objective/regression_obj.cu:152: reg:linear is now deprecated in favor of reg:squarederror.\n"
     ]
    },
    {
     "name": "stderr",
     "output_type": "stream",
     "text": [
      "C:\\ProgramData\\Anaconda3\\lib\\site-packages\\xgboost\\core.py:587: FutureWarning: Series.base is deprecated and will be removed in a future version\n",
      "  if getattr(data, 'base', None) is not None and \\\n"
     ]
    },
    {
     "name": "stdout",
     "output_type": "stream",
     "text": [
      "[21:06:54] WARNING: C:/Jenkins/workspace/xgboost-win64_release_0.90/src/objective/regression_obj.cu:152: reg:linear is now deprecated in favor of reg:squarederror.\n"
     ]
    },
    {
     "name": "stderr",
     "output_type": "stream",
     "text": [
      "C:\\ProgramData\\Anaconda3\\lib\\site-packages\\xgboost\\core.py:587: FutureWarning: Series.base is deprecated and will be removed in a future version\n",
      "  if getattr(data, 'base', None) is not None and \\\n"
     ]
    },
    {
     "name": "stdout",
     "output_type": "stream",
     "text": [
      "[21:07:01] WARNING: C:/Jenkins/workspace/xgboost-win64_release_0.90/src/objective/regression_obj.cu:152: reg:linear is now deprecated in favor of reg:squarederror.\n"
     ]
    },
    {
     "name": "stderr",
     "output_type": "stream",
     "text": [
      "C:\\ProgramData\\Anaconda3\\lib\\site-packages\\xgboost\\core.py:587: FutureWarning: Series.base is deprecated and will be removed in a future version\n",
      "  if getattr(data, 'base', None) is not None and \\\n"
     ]
    },
    {
     "name": "stdout",
     "output_type": "stream",
     "text": [
      "[21:07:04] WARNING: C:/Jenkins/workspace/xgboost-win64_release_0.90/src/objective/regression_obj.cu:152: reg:linear is now deprecated in favor of reg:squarederror.\n"
     ]
    },
    {
     "name": "stderr",
     "output_type": "stream",
     "text": [
      "C:\\ProgramData\\Anaconda3\\lib\\site-packages\\xgboost\\core.py:587: FutureWarning: Series.base is deprecated and will be removed in a future version\n",
      "  if getattr(data, 'base', None) is not None and \\\n"
     ]
    },
    {
     "name": "stdout",
     "output_type": "stream",
     "text": [
      "[21:07:06] WARNING: C:/Jenkins/workspace/xgboost-win64_release_0.90/src/objective/regression_obj.cu:152: reg:linear is now deprecated in favor of reg:squarederror.\n"
     ]
    },
    {
     "name": "stderr",
     "output_type": "stream",
     "text": [
      "C:\\ProgramData\\Anaconda3\\lib\\site-packages\\xgboost\\core.py:587: FutureWarning: Series.base is deprecated and will be removed in a future version\n",
      "  if getattr(data, 'base', None) is not None and \\\n"
     ]
    },
    {
     "name": "stdout",
     "output_type": "stream",
     "text": [
      "[21:07:10] WARNING: C:/Jenkins/workspace/xgboost-win64_release_0.90/src/objective/regression_obj.cu:152: reg:linear is now deprecated in favor of reg:squarederror.\n"
     ]
    },
    {
     "name": "stderr",
     "output_type": "stream",
     "text": [
      "C:\\ProgramData\\Anaconda3\\lib\\site-packages\\xgboost\\core.py:587: FutureWarning: Series.base is deprecated and will be removed in a future version\n",
      "  if getattr(data, 'base', None) is not None and \\\n"
     ]
    },
    {
     "name": "stdout",
     "output_type": "stream",
     "text": [
      "[21:07:14] WARNING: C:/Jenkins/workspace/xgboost-win64_release_0.90/src/objective/regression_obj.cu:152: reg:linear is now deprecated in favor of reg:squarederror.\n"
     ]
    },
    {
     "name": "stderr",
     "output_type": "stream",
     "text": [
      "C:\\ProgramData\\Anaconda3\\lib\\site-packages\\xgboost\\core.py:587: FutureWarning: Series.base is deprecated and will be removed in a future version\n",
      "  if getattr(data, 'base', None) is not None and \\\n"
     ]
    },
    {
     "name": "stdout",
     "output_type": "stream",
     "text": [
      "[21:07:17] WARNING: C:/Jenkins/workspace/xgboost-win64_release_0.90/src/objective/regression_obj.cu:152: reg:linear is now deprecated in favor of reg:squarederror.\n"
     ]
    },
    {
     "name": "stderr",
     "output_type": "stream",
     "text": [
      "C:\\ProgramData\\Anaconda3\\lib\\site-packages\\xgboost\\core.py:587: FutureWarning: Series.base is deprecated and will be removed in a future version\n",
      "  if getattr(data, 'base', None) is not None and \\\n"
     ]
    },
    {
     "name": "stdout",
     "output_type": "stream",
     "text": [
      "[21:07:20] WARNING: C:/Jenkins/workspace/xgboost-win64_release_0.90/src/objective/regression_obj.cu:152: reg:linear is now deprecated in favor of reg:squarederror.\n"
     ]
    },
    {
     "name": "stderr",
     "output_type": "stream",
     "text": [
      "C:\\ProgramData\\Anaconda3\\lib\\site-packages\\xgboost\\core.py:587: FutureWarning: Series.base is deprecated and will be removed in a future version\n",
      "  if getattr(data, 'base', None) is not None and \\\n"
     ]
    },
    {
     "name": "stdout",
     "output_type": "stream",
     "text": [
      "[21:07:26] WARNING: C:/Jenkins/workspace/xgboost-win64_release_0.90/src/objective/regression_obj.cu:152: reg:linear is now deprecated in favor of reg:squarederror.\n"
     ]
    },
    {
     "name": "stderr",
     "output_type": "stream",
     "text": [
      "C:\\ProgramData\\Anaconda3\\lib\\site-packages\\xgboost\\core.py:587: FutureWarning: Series.base is deprecated and will be removed in a future version\n",
      "  if getattr(data, 'base', None) is not None and \\\n"
     ]
    },
    {
     "name": "stdout",
     "output_type": "stream",
     "text": [
      "[21:07:32] WARNING: C:/Jenkins/workspace/xgboost-win64_release_0.90/src/objective/regression_obj.cu:152: reg:linear is now deprecated in favor of reg:squarederror.\n"
     ]
    },
    {
     "name": "stderr",
     "output_type": "stream",
     "text": [
      "C:\\ProgramData\\Anaconda3\\lib\\site-packages\\xgboost\\core.py:587: FutureWarning: Series.base is deprecated and will be removed in a future version\n",
      "  if getattr(data, 'base', None) is not None and \\\n"
     ]
    },
    {
     "name": "stdout",
     "output_type": "stream",
     "text": [
      "[21:07:38] WARNING: C:/Jenkins/workspace/xgboost-win64_release_0.90/src/objective/regression_obj.cu:152: reg:linear is now deprecated in favor of reg:squarederror.\n"
     ]
    },
    {
     "name": "stderr",
     "output_type": "stream",
     "text": [
      "C:\\ProgramData\\Anaconda3\\lib\\site-packages\\xgboost\\core.py:587: FutureWarning: Series.base is deprecated and will be removed in a future version\n",
      "  if getattr(data, 'base', None) is not None and \\\n"
     ]
    },
    {
     "name": "stdout",
     "output_type": "stream",
     "text": [
      "[21:07:43] WARNING: C:/Jenkins/workspace/xgboost-win64_release_0.90/src/objective/regression_obj.cu:152: reg:linear is now deprecated in favor of reg:squarederror.\n"
     ]
    },
    {
     "name": "stderr",
     "output_type": "stream",
     "text": [
      "C:\\ProgramData\\Anaconda3\\lib\\site-packages\\xgboost\\core.py:587: FutureWarning: Series.base is deprecated and will be removed in a future version\n",
      "  if getattr(data, 'base', None) is not None and \\\n"
     ]
    },
    {
     "name": "stdout",
     "output_type": "stream",
     "text": [
      "[21:07:49] WARNING: C:/Jenkins/workspace/xgboost-win64_release_0.90/src/objective/regression_obj.cu:152: reg:linear is now deprecated in favor of reg:squarederror.\n"
     ]
    },
    {
     "name": "stderr",
     "output_type": "stream",
     "text": [
      "C:\\ProgramData\\Anaconda3\\lib\\site-packages\\xgboost\\core.py:587: FutureWarning: Series.base is deprecated and will be removed in a future version\n",
      "  if getattr(data, 'base', None) is not None and \\\n"
     ]
    },
    {
     "name": "stdout",
     "output_type": "stream",
     "text": [
      "[21:07:52] WARNING: C:/Jenkins/workspace/xgboost-win64_release_0.90/src/objective/regression_obj.cu:152: reg:linear is now deprecated in favor of reg:squarederror.\n"
     ]
    },
    {
     "name": "stderr",
     "output_type": "stream",
     "text": [
      "C:\\ProgramData\\Anaconda3\\lib\\site-packages\\xgboost\\core.py:587: FutureWarning: Series.base is deprecated and will be removed in a future version\n",
      "  if getattr(data, 'base', None) is not None and \\\n"
     ]
    },
    {
     "name": "stdout",
     "output_type": "stream",
     "text": [
      "[21:07:56] WARNING: C:/Jenkins/workspace/xgboost-win64_release_0.90/src/objective/regression_obj.cu:152: reg:linear is now deprecated in favor of reg:squarederror.\n"
     ]
    },
    {
     "name": "stderr",
     "output_type": "stream",
     "text": [
      "C:\\ProgramData\\Anaconda3\\lib\\site-packages\\xgboost\\core.py:587: FutureWarning: Series.base is deprecated and will be removed in a future version\n",
      "  if getattr(data, 'base', None) is not None and \\\n"
     ]
    },
    {
     "name": "stdout",
     "output_type": "stream",
     "text": [
      "[21:08:00] WARNING: C:/Jenkins/workspace/xgboost-win64_release_0.90/src/objective/regression_obj.cu:152: reg:linear is now deprecated in favor of reg:squarederror.\n"
     ]
    },
    {
     "name": "stderr",
     "output_type": "stream",
     "text": [
      "C:\\ProgramData\\Anaconda3\\lib\\site-packages\\xgboost\\core.py:587: FutureWarning: Series.base is deprecated and will be removed in a future version\n",
      "  if getattr(data, 'base', None) is not None and \\\n"
     ]
    },
    {
     "name": "stdout",
     "output_type": "stream",
     "text": [
      "[21:08:02] WARNING: C:/Jenkins/workspace/xgboost-win64_release_0.90/src/objective/regression_obj.cu:152: reg:linear is now deprecated in favor of reg:squarederror.\n"
     ]
    },
    {
     "name": "stderr",
     "output_type": "stream",
     "text": [
      "C:\\ProgramData\\Anaconda3\\lib\\site-packages\\xgboost\\core.py:587: FutureWarning: Series.base is deprecated and will be removed in a future version\n",
      "  if getattr(data, 'base', None) is not None and \\\n"
     ]
    },
    {
     "name": "stdout",
     "output_type": "stream",
     "text": [
      "[21:08:08] WARNING: C:/Jenkins/workspace/xgboost-win64_release_0.90/src/objective/regression_obj.cu:152: reg:linear is now deprecated in favor of reg:squarederror.\n"
     ]
    },
    {
     "name": "stderr",
     "output_type": "stream",
     "text": [
      "C:\\ProgramData\\Anaconda3\\lib\\site-packages\\xgboost\\core.py:587: FutureWarning: Series.base is deprecated and will be removed in a future version\n",
      "  if getattr(data, 'base', None) is not None and \\\n"
     ]
    },
    {
     "name": "stdout",
     "output_type": "stream",
     "text": [
      "[21:08:10] WARNING: C:/Jenkins/workspace/xgboost-win64_release_0.90/src/objective/regression_obj.cu:152: reg:linear is now deprecated in favor of reg:squarederror.\n"
     ]
    },
    {
     "name": "stderr",
     "output_type": "stream",
     "text": [
      "C:\\ProgramData\\Anaconda3\\lib\\site-packages\\xgboost\\core.py:587: FutureWarning: Series.base is deprecated and will be removed in a future version\n",
      "  if getattr(data, 'base', None) is not None and \\\n"
     ]
    },
    {
     "name": "stdout",
     "output_type": "stream",
     "text": [
      "[21:08:15] WARNING: C:/Jenkins/workspace/xgboost-win64_release_0.90/src/objective/regression_obj.cu:152: reg:linear is now deprecated in favor of reg:squarederror.\n"
     ]
    },
    {
     "name": "stderr",
     "output_type": "stream",
     "text": [
      "C:\\ProgramData\\Anaconda3\\lib\\site-packages\\xgboost\\core.py:587: FutureWarning: Series.base is deprecated and will be removed in a future version\n",
      "  if getattr(data, 'base', None) is not None and \\\n"
     ]
    },
    {
     "name": "stdout",
     "output_type": "stream",
     "text": [
      "[21:08:17] WARNING: C:/Jenkins/workspace/xgboost-win64_release_0.90/src/objective/regression_obj.cu:152: reg:linear is now deprecated in favor of reg:squarederror.\n"
     ]
    },
    {
     "name": "stderr",
     "output_type": "stream",
     "text": [
      "C:\\ProgramData\\Anaconda3\\lib\\site-packages\\xgboost\\core.py:587: FutureWarning: Series.base is deprecated and will be removed in a future version\n",
      "  if getattr(data, 'base', None) is not None and \\\n"
     ]
    },
    {
     "name": "stdout",
     "output_type": "stream",
     "text": [
      "[21:08:23] WARNING: C:/Jenkins/workspace/xgboost-win64_release_0.90/src/objective/regression_obj.cu:152: reg:linear is now deprecated in favor of reg:squarederror.\n"
     ]
    },
    {
     "name": "stderr",
     "output_type": "stream",
     "text": [
      "C:\\ProgramData\\Anaconda3\\lib\\site-packages\\xgboost\\core.py:587: FutureWarning: Series.base is deprecated and will be removed in a future version\n",
      "  if getattr(data, 'base', None) is not None and \\\n"
     ]
    },
    {
     "name": "stdout",
     "output_type": "stream",
     "text": [
      "[21:08:25] WARNING: C:/Jenkins/workspace/xgboost-win64_release_0.90/src/objective/regression_obj.cu:152: reg:linear is now deprecated in favor of reg:squarederror.\n"
     ]
    },
    {
     "name": "stderr",
     "output_type": "stream",
     "text": [
      "C:\\ProgramData\\Anaconda3\\lib\\site-packages\\xgboost\\core.py:587: FutureWarning: Series.base is deprecated and will be removed in a future version\n",
      "  if getattr(data, 'base', None) is not None and \\\n"
     ]
    },
    {
     "name": "stdout",
     "output_type": "stream",
     "text": [
      "[21:08:28] WARNING: C:/Jenkins/workspace/xgboost-win64_release_0.90/src/objective/regression_obj.cu:152: reg:linear is now deprecated in favor of reg:squarederror.\n"
     ]
    },
    {
     "name": "stderr",
     "output_type": "stream",
     "text": [
      "C:\\ProgramData\\Anaconda3\\lib\\site-packages\\xgboost\\core.py:587: FutureWarning: Series.base is deprecated and will be removed in a future version\n",
      "  if getattr(data, 'base', None) is not None and \\\n"
     ]
    },
    {
     "name": "stdout",
     "output_type": "stream",
     "text": [
      "[21:08:31] WARNING: C:/Jenkins/workspace/xgboost-win64_release_0.90/src/objective/regression_obj.cu:152: reg:linear is now deprecated in favor of reg:squarederror.\n"
     ]
    },
    {
     "name": "stderr",
     "output_type": "stream",
     "text": [
      "C:\\ProgramData\\Anaconda3\\lib\\site-packages\\xgboost\\core.py:587: FutureWarning: Series.base is deprecated and will be removed in a future version\n",
      "  if getattr(data, 'base', None) is not None and \\\n"
     ]
    },
    {
     "name": "stdout",
     "output_type": "stream",
     "text": [
      "[21:08:33] WARNING: C:/Jenkins/workspace/xgboost-win64_release_0.90/src/objective/regression_obj.cu:152: reg:linear is now deprecated in favor of reg:squarederror.\n"
     ]
    },
    {
     "name": "stderr",
     "output_type": "stream",
     "text": [
      "C:\\ProgramData\\Anaconda3\\lib\\site-packages\\xgboost\\core.py:587: FutureWarning: Series.base is deprecated and will be removed in a future version\n",
      "  if getattr(data, 'base', None) is not None and \\\n"
     ]
    },
    {
     "name": "stdout",
     "output_type": "stream",
     "text": [
      "[21:08:36] WARNING: C:/Jenkins/workspace/xgboost-win64_release_0.90/src/objective/regression_obj.cu:152: reg:linear is now deprecated in favor of reg:squarederror.\n"
     ]
    },
    {
     "name": "stderr",
     "output_type": "stream",
     "text": [
      "C:\\ProgramData\\Anaconda3\\lib\\site-packages\\xgboost\\core.py:587: FutureWarning: Series.base is deprecated and will be removed in a future version\n",
      "  if getattr(data, 'base', None) is not None and \\\n"
     ]
    },
    {
     "name": "stdout",
     "output_type": "stream",
     "text": [
      "[21:08:41] WARNING: C:/Jenkins/workspace/xgboost-win64_release_0.90/src/objective/regression_obj.cu:152: reg:linear is now deprecated in favor of reg:squarederror.\n"
     ]
    },
    {
     "name": "stderr",
     "output_type": "stream",
     "text": [
      "C:\\ProgramData\\Anaconda3\\lib\\site-packages\\xgboost\\core.py:587: FutureWarning: Series.base is deprecated and will be removed in a future version\n",
      "  if getattr(data, 'base', None) is not None and \\\n"
     ]
    },
    {
     "name": "stdout",
     "output_type": "stream",
     "text": [
      "[21:08:47] WARNING: C:/Jenkins/workspace/xgboost-win64_release_0.90/src/objective/regression_obj.cu:152: reg:linear is now deprecated in favor of reg:squarederror.\n"
     ]
    },
    {
     "name": "stderr",
     "output_type": "stream",
     "text": [
      "C:\\ProgramData\\Anaconda3\\lib\\site-packages\\xgboost\\core.py:587: FutureWarning: Series.base is deprecated and will be removed in a future version\n",
      "  if getattr(data, 'base', None) is not None and \\\n"
     ]
    },
    {
     "name": "stdout",
     "output_type": "stream",
     "text": [
      "[21:08:52] WARNING: C:/Jenkins/workspace/xgboost-win64_release_0.90/src/objective/regression_obj.cu:152: reg:linear is now deprecated in favor of reg:squarederror.\n"
     ]
    },
    {
     "name": "stderr",
     "output_type": "stream",
     "text": [
      "C:\\ProgramData\\Anaconda3\\lib\\site-packages\\xgboost\\core.py:587: FutureWarning: Series.base is deprecated and will be removed in a future version\n",
      "  if getattr(data, 'base', None) is not None and \\\n"
     ]
    },
    {
     "name": "stdout",
     "output_type": "stream",
     "text": [
      "[21:08:55] WARNING: C:/Jenkins/workspace/xgboost-win64_release_0.90/src/objective/regression_obj.cu:152: reg:linear is now deprecated in favor of reg:squarederror.\n"
     ]
    },
    {
     "name": "stderr",
     "output_type": "stream",
     "text": [
      "C:\\ProgramData\\Anaconda3\\lib\\site-packages\\xgboost\\core.py:587: FutureWarning: Series.base is deprecated and will be removed in a future version\n",
      "  if getattr(data, 'base', None) is not None and \\\n"
     ]
    },
    {
     "name": "stdout",
     "output_type": "stream",
     "text": [
      "[21:08:59] WARNING: C:/Jenkins/workspace/xgboost-win64_release_0.90/src/objective/regression_obj.cu:152: reg:linear is now deprecated in favor of reg:squarederror.\n"
     ]
    },
    {
     "name": "stderr",
     "output_type": "stream",
     "text": [
      "C:\\ProgramData\\Anaconda3\\lib\\site-packages\\xgboost\\core.py:587: FutureWarning: Series.base is deprecated and will be removed in a future version\n",
      "  if getattr(data, 'base', None) is not None and \\\n"
     ]
    },
    {
     "name": "stdout",
     "output_type": "stream",
     "text": [
      "[21:09:02] WARNING: C:/Jenkins/workspace/xgboost-win64_release_0.90/src/objective/regression_obj.cu:152: reg:linear is now deprecated in favor of reg:squarederror.\n"
     ]
    },
    {
     "name": "stderr",
     "output_type": "stream",
     "text": [
      "C:\\ProgramData\\Anaconda3\\lib\\site-packages\\xgboost\\core.py:587: FutureWarning: Series.base is deprecated and will be removed in a future version\n",
      "  if getattr(data, 'base', None) is not None and \\\n"
     ]
    },
    {
     "name": "stdout",
     "output_type": "stream",
     "text": [
      "[21:09:11] WARNING: C:/Jenkins/workspace/xgboost-win64_release_0.90/src/objective/regression_obj.cu:152: reg:linear is now deprecated in favor of reg:squarederror.\n"
     ]
    },
    {
     "name": "stderr",
     "output_type": "stream",
     "text": [
      "C:\\ProgramData\\Anaconda3\\lib\\site-packages\\xgboost\\core.py:587: FutureWarning: Series.base is deprecated and will be removed in a future version\n",
      "  if getattr(data, 'base', None) is not None and \\\n"
     ]
    },
    {
     "name": "stdout",
     "output_type": "stream",
     "text": [
      "[21:09:15] WARNING: C:/Jenkins/workspace/xgboost-win64_release_0.90/src/objective/regression_obj.cu:152: reg:linear is now deprecated in favor of reg:squarederror.\n"
     ]
    },
    {
     "name": "stderr",
     "output_type": "stream",
     "text": [
      "C:\\ProgramData\\Anaconda3\\lib\\site-packages\\xgboost\\core.py:587: FutureWarning: Series.base is deprecated and will be removed in a future version\n",
      "  if getattr(data, 'base', None) is not None and \\\n"
     ]
    },
    {
     "name": "stdout",
     "output_type": "stream",
     "text": [
      "[21:09:19] WARNING: C:/Jenkins/workspace/xgboost-win64_release_0.90/src/objective/regression_obj.cu:152: reg:linear is now deprecated in favor of reg:squarederror.\n"
     ]
    },
    {
     "name": "stderr",
     "output_type": "stream",
     "text": [
      "C:\\ProgramData\\Anaconda3\\lib\\site-packages\\xgboost\\core.py:587: FutureWarning: Series.base is deprecated and will be removed in a future version\n",
      "  if getattr(data, 'base', None) is not None and \\\n"
     ]
    },
    {
     "name": "stdout",
     "output_type": "stream",
     "text": [
      "[21:09:22] WARNING: C:/Jenkins/workspace/xgboost-win64_release_0.90/src/objective/regression_obj.cu:152: reg:linear is now deprecated in favor of reg:squarederror.\n"
     ]
    },
    {
     "name": "stderr",
     "output_type": "stream",
     "text": [
      "C:\\ProgramData\\Anaconda3\\lib\\site-packages\\xgboost\\core.py:587: FutureWarning: Series.base is deprecated and will be removed in a future version\n",
      "  if getattr(data, 'base', None) is not None and \\\n"
     ]
    },
    {
     "name": "stdout",
     "output_type": "stream",
     "text": [
      "[21:09:26] WARNING: C:/Jenkins/workspace/xgboost-win64_release_0.90/src/objective/regression_obj.cu:152: reg:linear is now deprecated in favor of reg:squarederror.\n"
     ]
    },
    {
     "name": "stderr",
     "output_type": "stream",
     "text": [
      "C:\\ProgramData\\Anaconda3\\lib\\site-packages\\xgboost\\core.py:587: FutureWarning: Series.base is deprecated and will be removed in a future version\n",
      "  if getattr(data, 'base', None) is not None and \\\n"
     ]
    },
    {
     "name": "stdout",
     "output_type": "stream",
     "text": [
      "[21:09:33] WARNING: C:/Jenkins/workspace/xgboost-win64_release_0.90/src/objective/regression_obj.cu:152: reg:linear is now deprecated in favor of reg:squarederror.\n"
     ]
    },
    {
     "name": "stderr",
     "output_type": "stream",
     "text": [
      "C:\\ProgramData\\Anaconda3\\lib\\site-packages\\xgboost\\core.py:587: FutureWarning: Series.base is deprecated and will be removed in a future version\n",
      "  if getattr(data, 'base', None) is not None and \\\n"
     ]
    },
    {
     "name": "stdout",
     "output_type": "stream",
     "text": [
      "[21:09:39] WARNING: C:/Jenkins/workspace/xgboost-win64_release_0.90/src/objective/regression_obj.cu:152: reg:linear is now deprecated in favor of reg:squarederror.\n"
     ]
    },
    {
     "name": "stderr",
     "output_type": "stream",
     "text": [
      "C:\\ProgramData\\Anaconda3\\lib\\site-packages\\xgboost\\core.py:587: FutureWarning: Series.base is deprecated and will be removed in a future version\n",
      "  if getattr(data, 'base', None) is not None and \\\n"
     ]
    },
    {
     "name": "stdout",
     "output_type": "stream",
     "text": [
      "[21:09:48] WARNING: C:/Jenkins/workspace/xgboost-win64_release_0.90/src/objective/regression_obj.cu:152: reg:linear is now deprecated in favor of reg:squarederror.\n"
     ]
    },
    {
     "name": "stderr",
     "output_type": "stream",
     "text": [
      "C:\\ProgramData\\Anaconda3\\lib\\site-packages\\xgboost\\core.py:587: FutureWarning: Series.base is deprecated and will be removed in a future version\n",
      "  if getattr(data, 'base', None) is not None and \\\n"
     ]
    },
    {
     "name": "stdout",
     "output_type": "stream",
     "text": [
      "[21:09:54] WARNING: C:/Jenkins/workspace/xgboost-win64_release_0.90/src/objective/regression_obj.cu:152: reg:linear is now deprecated in favor of reg:squarederror.\n"
     ]
    },
    {
     "name": "stderr",
     "output_type": "stream",
     "text": [
      "C:\\ProgramData\\Anaconda3\\lib\\site-packages\\xgboost\\core.py:587: FutureWarning: Series.base is deprecated and will be removed in a future version\n",
      "  if getattr(data, 'base', None) is not None and \\\n"
     ]
    },
    {
     "name": "stdout",
     "output_type": "stream",
     "text": [
      "[21:09:56] WARNING: C:/Jenkins/workspace/xgboost-win64_release_0.90/src/objective/regression_obj.cu:152: reg:linear is now deprecated in favor of reg:squarederror.\n"
     ]
    },
    {
     "name": "stderr",
     "output_type": "stream",
     "text": [
      "C:\\ProgramData\\Anaconda3\\lib\\site-packages\\xgboost\\core.py:587: FutureWarning: Series.base is deprecated and will be removed in a future version\n",
      "  if getattr(data, 'base', None) is not None and \\\n"
     ]
    },
    {
     "name": "stdout",
     "output_type": "stream",
     "text": [
      "[21:09:59] WARNING: C:/Jenkins/workspace/xgboost-win64_release_0.90/src/objective/regression_obj.cu:152: reg:linear is now deprecated in favor of reg:squarederror.\n"
     ]
    },
    {
     "name": "stderr",
     "output_type": "stream",
     "text": [
      "C:\\ProgramData\\Anaconda3\\lib\\site-packages\\xgboost\\core.py:587: FutureWarning: Series.base is deprecated and will be removed in a future version\n",
      "  if getattr(data, 'base', None) is not None and \\\n"
     ]
    },
    {
     "name": "stdout",
     "output_type": "stream",
     "text": [
      "[21:10:02] WARNING: C:/Jenkins/workspace/xgboost-win64_release_0.90/src/objective/regression_obj.cu:152: reg:linear is now deprecated in favor of reg:squarederror.\n"
     ]
    },
    {
     "name": "stderr",
     "output_type": "stream",
     "text": [
      "C:\\ProgramData\\Anaconda3\\lib\\site-packages\\xgboost\\core.py:587: FutureWarning: Series.base is deprecated and will be removed in a future version\n",
      "  if getattr(data, 'base', None) is not None and \\\n"
     ]
    },
    {
     "name": "stdout",
     "output_type": "stream",
     "text": [
      "[21:10:05] WARNING: C:/Jenkins/workspace/xgboost-win64_release_0.90/src/objective/regression_obj.cu:152: reg:linear is now deprecated in favor of reg:squarederror.\n"
     ]
    },
    {
     "name": "stderr",
     "output_type": "stream",
     "text": [
      "C:\\ProgramData\\Anaconda3\\lib\\site-packages\\xgboost\\core.py:587: FutureWarning: Series.base is deprecated and will be removed in a future version\n",
      "  if getattr(data, 'base', None) is not None and \\\n"
     ]
    },
    {
     "name": "stdout",
     "output_type": "stream",
     "text": [
      "[21:10:09] WARNING: C:/Jenkins/workspace/xgboost-win64_release_0.90/src/objective/regression_obj.cu:152: reg:linear is now deprecated in favor of reg:squarederror.\n"
     ]
    },
    {
     "name": "stderr",
     "output_type": "stream",
     "text": [
      "C:\\ProgramData\\Anaconda3\\lib\\site-packages\\xgboost\\core.py:587: FutureWarning: Series.base is deprecated and will be removed in a future version\n",
      "  if getattr(data, 'base', None) is not None and \\\n"
     ]
    },
    {
     "name": "stdout",
     "output_type": "stream",
     "text": [
      "[21:10:14] WARNING: C:/Jenkins/workspace/xgboost-win64_release_0.90/src/objective/regression_obj.cu:152: reg:linear is now deprecated in favor of reg:squarederror.\n"
     ]
    },
    {
     "name": "stderr",
     "output_type": "stream",
     "text": [
      "C:\\ProgramData\\Anaconda3\\lib\\site-packages\\xgboost\\core.py:587: FutureWarning: Series.base is deprecated and will be removed in a future version\n",
      "  if getattr(data, 'base', None) is not None and \\\n"
     ]
    },
    {
     "name": "stdout",
     "output_type": "stream",
     "text": [
      "[21:10:17] WARNING: C:/Jenkins/workspace/xgboost-win64_release_0.90/src/objective/regression_obj.cu:152: reg:linear is now deprecated in favor of reg:squarederror.\n"
     ]
    },
    {
     "name": "stderr",
     "output_type": "stream",
     "text": [
      "C:\\ProgramData\\Anaconda3\\lib\\site-packages\\xgboost\\core.py:587: FutureWarning: Series.base is deprecated and will be removed in a future version\n",
      "  if getattr(data, 'base', None) is not None and \\\n"
     ]
    },
    {
     "name": "stdout",
     "output_type": "stream",
     "text": [
      "[21:10:20] WARNING: C:/Jenkins/workspace/xgboost-win64_release_0.90/src/objective/regression_obj.cu:152: reg:linear is now deprecated in favor of reg:squarederror.\n"
     ]
    },
    {
     "name": "stderr",
     "output_type": "stream",
     "text": [
      "C:\\ProgramData\\Anaconda3\\lib\\site-packages\\xgboost\\core.py:587: FutureWarning: Series.base is deprecated and will be removed in a future version\n",
      "  if getattr(data, 'base', None) is not None and \\\n"
     ]
    },
    {
     "name": "stdout",
     "output_type": "stream",
     "text": [
      "[21:10:25] WARNING: C:/Jenkins/workspace/xgboost-win64_release_0.90/src/objective/regression_obj.cu:152: reg:linear is now deprecated in favor of reg:squarederror.\n"
     ]
    },
    {
     "name": "stderr",
     "output_type": "stream",
     "text": [
      "C:\\ProgramData\\Anaconda3\\lib\\site-packages\\xgboost\\core.py:587: FutureWarning: Series.base is deprecated and will be removed in a future version\n",
      "  if getattr(data, 'base', None) is not None and \\\n"
     ]
    },
    {
     "name": "stdout",
     "output_type": "stream",
     "text": [
      "[21:10:27] WARNING: C:/Jenkins/workspace/xgboost-win64_release_0.90/src/objective/regression_obj.cu:152: reg:linear is now deprecated in favor of reg:squarederror.\n"
     ]
    }
   ],
   "source": [
    "#이거 돌릴때 기존에 만든 데이터셋을 그대로 쓰면 안되고 validation에 사용한 길이만큼 train set에 포함시켜서 만들어줘야함\n",
    "#예를들어 validation set 길이가 7이고 train set 길이가 150이면 157짜리를 새로 선언해줘야함\n",
    "seq = 1\n",
    "yhat_train = []\n",
    "yhat_test = []\n",
    "\n",
    "losslist = ('ls', 'lad')\n",
    "activelist = ('relu', 'logistic', 'tanh')\n",
    "solvlist = ('sgd', 'adam')\n",
    "\n",
    "for i in range(0, len(gbrresult)-1):\n",
    "    j = i*seq\n",
    "    GBRegressor = GradientBoostingRegressor(loss = losslist[gbrresult[i]['loss']],\n",
    "                                                  learning_rate = gbrresult[i]['learning_rate'],\n",
    "                                                 max_depth = int(gbrresult[i]['max_depth']),\n",
    "                                                 max_features = int(gbrresult[i]['max_features']),\n",
    "                                                 min_samples_leaf = int(gbrresult[i]['min_samples_leaf']),\n",
    "                                                 n_estimators = int(gbrresult[i]['n_estimators']),\n",
    "                                               random_state = 42)\n",
    "\n",
    "    GBRegressor.fit(x_train_norm[j], y_train_norm[j])\n",
    "\n",
    "    gbr_yhat_train = GBRegressor.predict(x_train_norm[j])\n",
    "\n",
    "    gbr_yhat_test = GBRegressor.predict(x_test_norm[j])\n",
    "\n",
    "\n",
    "\n",
    "\n",
    "    XRegressor = XGBRegressor(learning_rate = xgbresult[i]['learning_rate'],\n",
    "                                        colsample_bytree = xgbresult[i]['colsample_bytree'],\n",
    "                                        colsample_bylevel = xgbresult[i]['colsample_bylevel'],\n",
    "                                        colsample_bynode = xgbresult[i]['colsample_bynode'],\n",
    "                                        gamma = xgbresult[i]['gamma'],\n",
    "                                        max_depth = int(xgbresult[i]['max_depth']),\n",
    "                                        min_child_weight = int(xgbresult[i]['min_child_weight']),\n",
    "                                        n_estimators = int(xgbresult[i]['n_estimators']),\n",
    "                                        reg_alpha = xgbresult[i]['reg_alpha'],\n",
    "                                        reg_lambda = xgbresult[i]['reg_lambda'],\n",
    "                                        random_state = 42)\n",
    "\n",
    "    XRegressor.fit(x_train_norm[i], y_train_norm[j])\n",
    "\n",
    "    xgb_yhat_train = XRegressor.predict(x_train_norm[j])\n",
    "\n",
    "    xgb_yhat_test = XRegressor.predict(x_test_norm[j])\n",
    "\n",
    "\n",
    "    MRegressor = MLPRegressor(hidden_layer_sizes=[int(mlpresult[i]['hidden_layer_sizes1']), \n",
    "                                                    int(mlpresult[i]['hidden_layer_sizes2'])],\n",
    "                               activation=activelist[mlpresult[i]['activation']],\n",
    "                                solver=solvlist[mlpresult[i]['solver']], \n",
    "                                alpha=mlpresult[i]['alpha'],\n",
    "                                max_iter=int(mlpresult[i]['max_iter']), \n",
    "                                batch_size=int(mlpresult[i]['batch_size'])\n",
    "                               )\n",
    "\n",
    "    MRegressor.fit(x_train_norm[j], y_train_norm[j])\n",
    "\n",
    "    mlp_yhat_train = MRegressor.predict(x_train_norm[j])\n",
    "\n",
    "    mlp_yhat_test = MRegressor.predict(x_test_norm[j])\n",
    "\n",
    "\n",
    "                    \n",
    "    Ridgemodel = Ridge(alpha = rigderesult[i]['alpha'],\n",
    "                    random_state = 42)\n",
    "\n",
    "    Ridgemodel.fit(x_train_norm[j], y_train_norm[j])\n",
    "    ridge_yhat_train = Ridgemodel.predict(x_train_norm[j])\n",
    "    ridge_yhat_test = Ridgemodel.predict(x_test_norm[j])\n",
    "\n",
    "\n",
    "    lassomodel = Lasso(alpha = lassoresult[i]['alpha'],\n",
    "                    random_state = 42)\n",
    "    \n",
    "    lassomodel.fit(x_train_norm[j], y_train_norm[j])\n",
    "    lasso_yhat_train = lassomodel.predict(x_train_norm[j])\n",
    "    lasso_yhat_test = lassomodel.predict(x_test_norm[j])\n",
    "\n",
    "\n",
    "\n",
    "    elamodel = ElasticNet(alpha = elaresult[i]['alpha'],\n",
    "                          l1_ratio = elaresult[i]['l1_ratio'],\n",
    "                          fit_intercept = 'True',\n",
    "                        random_state = 42)\n",
    "    \n",
    "    elamodel.fit(x_train_norm[j], y_train_norm[j])\n",
    "    ela_yhat_train = elamodel.predict(x_train_norm[j])\n",
    "    ela_yhat_test = elamodel.predict(x_test_norm[j])\n",
    "    \n",
    "\n",
    "\n",
    "\n",
    "    gbr = np.mean(cross_val_score(GBRegressor, x_train_norm[j], y_train_norm[j], cv = TimeSeriesSplit(n_splits = 5), n_jobs = -1, scoring = make_scorer(mean_absolute_error)))\n",
    "    xgb = np.mean(cross_val_score(XRegressor, x_train_norm[j], y_train_norm[j], cv = TimeSeriesSplit(n_splits = 5), n_jobs = -1, scoring = make_scorer(mean_absolute_error)))\n",
    "    mlp = np.mean(cross_val_score(MRegressor, x_train_norm[j], y_train_norm[j], cv = TimeSeriesSplit(n_splits = 5), n_jobs = -1, scoring = make_scorer(mean_absolute_error)))\n",
    "    rid = np.mean(cross_val_score(Ridgemodel, x_train_norm[j], y_train_norm[j], cv = TimeSeriesSplit(n_splits = 5), n_jobs = -1, scoring = make_scorer(mean_absolute_error)))\n",
    "    las = np.mean(cross_val_score(lassomodel, x_train_norm[j], y_train_norm[j], cv = TimeSeriesSplit(n_splits = 5), n_jobs = -1, scoring = make_scorer(mean_absolute_error)))\n",
    "    ela = np.mean(cross_val_score(elamodel, x_train_norm[j], y_train_norm[j], cv = TimeSeriesSplit(n_splits = 5), n_jobs = -1, scoring = make_scorer(mean_absolute_error)))\n",
    "\n",
    "    wsum = sum([gbr, xgb, mlp, las, ela, rid])\n",
    "\n",
    "    yhat_train.append(pd.DataFrame([gbr_yhat_train*(gbr/wsum), \n",
    "                               xgb_yhat_train*(xgb/wsum),\n",
    "                               mlp_yhat_train*(mlp/wsum),\n",
    "                               ridge_yhat_train*(rid/wsum), \n",
    "                               lasso_yhat_train*(las/wsum), \n",
    "                               ela_yhat_train*(ela/wsum)]))\n",
    "\n",
    "    yhat_test.append(pd.DataFrame([gbr_yhat_test*(gbr/wsum), \n",
    "                               xgb_yhat_test*(xgb/wsum),\n",
    "                              mlp_yhat_test*(mlp/wsum), \n",
    "                               ridge_yhat_test*(rid/wsum), \n",
    "                               lasso_yhat_test*(las/wsum), \n",
    "                               ela_yhat_test*(ela/wsum)]))\n",
    "\n",
    "\n",
    "\n",
    "\n",
    "\n"
   ]
  },
  {
   "cell_type": "code",
   "execution_count": 305,
   "metadata": {},
   "outputs": [],
   "source": [
    "#returnreult는 당시 내가 갖고있는 정보 기반 인덱스. 2009/5/20이 인덱스라면 그 스코어를 가지고 2009/5/20에 투자한다는 의미\n",
    "#yhat_save의 경우 Predict는 당시 내가 예측한 정보, Expected는 미래의 예측하고자 한 정보\n",
    "#예를들어 2009/5/20의 Predict값은 7영업일 후인 2009/6/1의 수치를 2009/5/20에 예측한 것이고 Expected값은 실제 2009/6/1의 수치값\n",
    "yhat_result = []\n",
    "for i in range(0, len(yhat_test)):\n",
    "    yhat_result.append(((yhat_test[i].sum() * (y_test[i].max(axis=0) - y_test[i].min(axis=0))) + y_test[i].min(axis=0))[0])\n",
    "\n",
    "\n",
    "index = []\n",
    "for i in range(157, len(datareturn)-7, 7):\n",
    "    index.append(i)\n",
    "caldata = datareturn[idx][index]\n",
    "\n",
    "returnresult = pd.DataFrame(((yhat_result - caldata)/caldata)*100)\n",
    "\n",
    "index2 = []\n",
    "for i in range(164, len(datareturn), 7):\n",
    "    index2.append(i)\n",
    "\n",
    "returnresult.index = datareturn[idx][index2].index\n",
    "\n",
    "returnresult.to_csv(idx + 'result.csv')\n",
    "\n",
    "yhat_result_df = pd.DataFrame(yhat_result)\n",
    "\n",
    "\n",
    "expectdata = datareturn[idx][index2]\n",
    "\n",
    "yhat_result_df.index = expectdata.index\n",
    "\n",
    "yhat_save = pd.merge(yhat_result_df, expectdata, how = 'inner', left_index = True, right_index = True)\n",
    "\n",
    "yhat_save.columns = ['Predict', 'Expected']\n",
    "\n",
    "yhat_save.to_csv(idx + 'predict.csv')"
   ]
  },
  {
   "cell_type": "code",
   "execution_count": 294,
   "metadata": {},
   "outputs": [
    {
     "data": {
      "text/plain": [
       "Date\n",
       "2009-05-20    34.640\n",
       "2009-06-01    33.568\n",
       "2009-06-10    31.750\n",
       "2009-06-19    32.230\n",
       "2009-06-30    30.920\n",
       "               ...  \n",
       "2018-10-26    40.860\n",
       "2018-11-06    40.820\n",
       "2018-11-15    40.230\n",
       "2018-11-26    41.020\n",
       "2018-12-05    39.830\n",
       "Name: EM, Length: 330, dtype: float64"
      ]
     },
     "execution_count": 294,
     "metadata": {},
     "output_type": "execute_result"
    }
   ],
   "source": [
    "caldata"
   ]
  },
  {
   "cell_type": "code",
   "execution_count": 254,
   "metadata": {},
   "outputs": [
    {
     "data": {
      "text/plain": [
       "[<matplotlib.lines.Line2D at 0x1b7ffe15d48>]"
      ]
     },
     "execution_count": 254,
     "metadata": {},
     "output_type": "execute_result"
    },
    {
     "data": {
      "image/png": "[encoded data removed]",
      "text/plain": [
       "<Figure size 432x288 with 1 Axes>"
      ]
     },
     "metadata": {
      "needs_background": "light"
     },
     "output_type": "display_data"
    }
   ],
   "source": [
    "plt.plot(yhat_result)\n",
    "plt.plot(expectdata)\n"
   ]
  },
  {
   "cell_type": "code",
   "execution_count": 76,
   "metadata": {},
   "outputs": [
    {
     "data": {
      "text/plain": [
       "[<matplotlib.lines.Line2D at 0x1b7e8f6ae08>]"
      ]
     },
     "execution_count": 76,
     "metadata": {},
     "output_type": "execute_result"
    },
    {
     "data": {
      "image/png": "[encoded data removed]",
      "text/plain": [
       "<Figure size 432x288 with 1 Axes>"
      ]
     },
     "metadata": {
      "needs_background": "light"
     },
     "output_type": "display_data"
    }
   ],
   "source": [
    "i=7\n",
    "plt.plot((yhat_test[i].sum() * (y_test[i].max(axis=0) - y_test[i].min(axis=0))) + y_test[i].min(axis=0))\n",
    "plt.plot(y_test[i])"
   ]
  },
  {
   "cell_type": "code",
   "execution_count": 87,
   "metadata": {},
   "outputs": [
    {
     "data": {
      "text/plain": [
       "[<matplotlib.lines.Line2D at 0x1b7e90197c8>]"
      ]
     },
     "execution_count": 87,
     "metadata": {},
     "output_type": "execute_result"
    },
    {
     "data": {
      "image/png": "[encoded data removed]",
      "text/plain": [
       "<Figure size 432x288 with 1 Axes>"
      ]
     },
     "metadata": {
      "needs_background": "light"
     },
     "output_type": "display_data"
    }
   ],
   "source": [
    "i=7\n",
    "plt.plot((yhat_train[i].sum() * (y_train[i].max(axis=0) - y_train[i].min(axis=0))) + y_train[i].min(axis=0))\n",
    "plt.plot(y_train[i])"
   ]
  },
  {
   "cell_type": "code",
   "execution_count": 290,
   "metadata": {},
   "outputs": [
    {
     "data": {
      "text/html": [
       "<div>\n",
       "<style scoped>\n",
       "    .dataframe tbody tr th:only-of-type {\n",
       "        vertical-align: middle;\n",
       "    }\n",
       "\n",
       "    .dataframe tbody tr th {\n",
       "        vertical-align: top;\n",
       "    }\n",
       "\n",
       "    .dataframe thead th {\n",
       "        text-align: right;\n",
       "    }\n",
       "</style>\n",
       "<table border=\"1\" class=\"dataframe\">\n",
       "  <thead>\n",
       "    <tr style=\"text-align: right;\">\n",
       "      <th></th>\n",
       "      <th>copper</th>\n",
       "      <th>nikkel</th>\n",
       "      <th>aluminium</th>\n",
       "      <th>ayeon</th>\n",
       "      <th>canada sp</th>\n",
       "      <th>sp500</th>\n",
       "      <th>ftse</th>\n",
       "      <th>shanghai</th>\n",
       "      <th>nikkei225</th>\n",
       "      <th>hangseng</th>\n",
       "      <th>...</th>\n",
       "      <th>EUR</th>\n",
       "      <th>CNY</th>\n",
       "      <th>JPY</th>\n",
       "      <th>GBP</th>\n",
       "      <th>canada60 future</th>\n",
       "      <th>SP500</th>\n",
       "      <th>EM</th>\n",
       "      <th>EAFE</th>\n",
       "      <th>Gold</th>\n",
       "      <th>WTI</th>\n",
       "    </tr>\n",
       "    <tr>\n",
       "      <th>Date</th>\n",
       "      <th></th>\n",
       "      <th></th>\n",
       "      <th></th>\n",
       "      <th></th>\n",
       "      <th></th>\n",
       "      <th></th>\n",
       "      <th></th>\n",
       "      <th></th>\n",
       "      <th></th>\n",
       "      <th></th>\n",
       "      <th></th>\n",
       "      <th></th>\n",
       "      <th></th>\n",
       "      <th></th>\n",
       "      <th></th>\n",
       "      <th></th>\n",
       "      <th></th>\n",
       "      <th></th>\n",
       "      <th></th>\n",
       "      <th></th>\n",
       "      <th></th>\n",
       "    </tr>\n",
       "  </thead>\n",
       "  <tbody>\n",
       "    <tr>\n",
       "      <td>2008-02-19</td>\n",
       "      <td>8273.0</td>\n",
       "      <td>27975.0</td>\n",
       "      <td>2835.8</td>\n",
       "      <td>2345.00</td>\n",
       "      <td>13447.74</td>\n",
       "      <td>1348.78</td>\n",
       "      <td>5966.90</td>\n",
       "      <td>4664.30</td>\n",
       "      <td>13757.91</td>\n",
       "      <td>24123.17</td>\n",
       "      <td>...</td>\n",
       "      <td>1384.62</td>\n",
       "      <td>131.91</td>\n",
       "      <td>873.33</td>\n",
       "      <td>1843.05</td>\n",
       "      <td>788.8</td>\n",
       "      <td>135.31</td>\n",
       "      <td>46.7200</td>\n",
       "      <td>71.29</td>\n",
       "      <td>926.6</td>\n",
       "      <td>100.01</td>\n",
       "    </tr>\n",
       "    <tr>\n",
       "      <td>2008-02-20</td>\n",
       "      <td>8221.0</td>\n",
       "      <td>27878.0</td>\n",
       "      <td>2845.8</td>\n",
       "      <td>2345.00</td>\n",
       "      <td>13551.69</td>\n",
       "      <td>1360.03</td>\n",
       "      <td>5893.60</td>\n",
       "      <td>4567.03</td>\n",
       "      <td>13310.37</td>\n",
       "      <td>23590.58</td>\n",
       "      <td>...</td>\n",
       "      <td>1390.53</td>\n",
       "      <td>132.07</td>\n",
       "      <td>875.41</td>\n",
       "      <td>1839.54</td>\n",
       "      <td>797.4</td>\n",
       "      <td>136.36</td>\n",
       "      <td>47.1100</td>\n",
       "      <td>70.92</td>\n",
       "      <td>934.6</td>\n",
       "      <td>100.74</td>\n",
       "    </tr>\n",
       "    <tr>\n",
       "      <td>2008-02-21</td>\n",
       "      <td>8487.0</td>\n",
       "      <td>29035.0</td>\n",
       "      <td>2909.3</td>\n",
       "      <td>2524.50</td>\n",
       "      <td>13509.55</td>\n",
       "      <td>1342.53</td>\n",
       "      <td>5932.20</td>\n",
       "      <td>4527.18</td>\n",
       "      <td>13688.28</td>\n",
       "      <td>23623.00</td>\n",
       "      <td>...</td>\n",
       "      <td>1390.73</td>\n",
       "      <td>132.22</td>\n",
       "      <td>874.51</td>\n",
       "      <td>1835.17</td>\n",
       "      <td>794.3</td>\n",
       "      <td>134.79</td>\n",
       "      <td>46.4500</td>\n",
       "      <td>70.79</td>\n",
       "      <td>946.1</td>\n",
       "      <td>98.23</td>\n",
       "    </tr>\n",
       "    <tr>\n",
       "      <td>2008-02-22</td>\n",
       "      <td>8374.5</td>\n",
       "      <td>28190.0</td>\n",
       "      <td>2883.8</td>\n",
       "      <td>2486.50</td>\n",
       "      <td>13585.93</td>\n",
       "      <td>1353.11</td>\n",
       "      <td>5888.50</td>\n",
       "      <td>4370.28</td>\n",
       "      <td>13500.46</td>\n",
       "      <td>23305.04</td>\n",
       "      <td>...</td>\n",
       "      <td>1402.79</td>\n",
       "      <td>132.61</td>\n",
       "      <td>882.20</td>\n",
       "      <td>1859.34</td>\n",
       "      <td>798.1</td>\n",
       "      <td>135.92</td>\n",
       "      <td>47.0733</td>\n",
       "      <td>71.69</td>\n",
       "      <td>944.7</td>\n",
       "      <td>98.81</td>\n",
       "    </tr>\n",
       "    <tr>\n",
       "      <td>2008-02-25</td>\n",
       "      <td>8238.0</td>\n",
       "      <td>28035.0</td>\n",
       "      <td>2864.5</td>\n",
       "      <td>2482.75</td>\n",
       "      <td>13697.45</td>\n",
       "      <td>1371.80</td>\n",
       "      <td>5999.50</td>\n",
       "      <td>4192.53</td>\n",
       "      <td>13914.57</td>\n",
       "      <td>23269.14</td>\n",
       "      <td>...</td>\n",
       "      <td>1408.03</td>\n",
       "      <td>132.87</td>\n",
       "      <td>884.64</td>\n",
       "      <td>1869.10</td>\n",
       "      <td>804.2</td>\n",
       "      <td>137.59</td>\n",
       "      <td>47.9500</td>\n",
       "      <td>72.83</td>\n",
       "      <td>937.6</td>\n",
       "      <td>99.23</td>\n",
       "    </tr>\n",
       "    <tr>\n",
       "      <td>...</td>\n",
       "      <td>...</td>\n",
       "      <td>...</td>\n",
       "      <td>...</td>\n",
       "      <td>...</td>\n",
       "      <td>...</td>\n",
       "      <td>...</td>\n",
       "      <td>...</td>\n",
       "      <td>...</td>\n",
       "      <td>...</td>\n",
       "      <td>...</td>\n",
       "      <td>...</td>\n",
       "      <td>...</td>\n",
       "      <td>...</td>\n",
       "      <td>...</td>\n",
       "      <td>...</td>\n",
       "      <td>...</td>\n",
       "      <td>...</td>\n",
       "      <td>...</td>\n",
       "      <td>...</td>\n",
       "      <td>...</td>\n",
       "      <td>...</td>\n",
       "    </tr>\n",
       "    <tr>\n",
       "      <td>2018-12-21</td>\n",
       "      <td>5967.5</td>\n",
       "      <td>10796.0</td>\n",
       "      <td>1907.8</td>\n",
       "      <td>2489.00</td>\n",
       "      <td>13935.44</td>\n",
       "      <td>2416.62</td>\n",
       "      <td>6721.17</td>\n",
       "      <td>2516.25</td>\n",
       "      <td>20166.19</td>\n",
       "      <td>25753.42</td>\n",
       "      <td>...</td>\n",
       "      <td>1293.10</td>\n",
       "      <td>163.44</td>\n",
       "      <td>1015.02</td>\n",
       "      <td>1430.15</td>\n",
       "      <td>834.9</td>\n",
       "      <td>242.35</td>\n",
       "      <td>38.5200</td>\n",
       "      <td>57.56</td>\n",
       "      <td>1288.6</td>\n",
       "      <td>45.59</td>\n",
       "    </tr>\n",
       "    <tr>\n",
       "      <td>2018-12-24</td>\n",
       "      <td>5931.8</td>\n",
       "      <td>10801.0</td>\n",
       "      <td>1897.8</td>\n",
       "      <td>2478.00</td>\n",
       "      <td>13780.19</td>\n",
       "      <td>2351.10</td>\n",
       "      <td>6685.99</td>\n",
       "      <td>2527.01</td>\n",
       "      <td>20166.19</td>\n",
       "      <td>25651.38</td>\n",
       "      <td>...</td>\n",
       "      <td>1277.87</td>\n",
       "      <td>163.00</td>\n",
       "      <td>1011.84</td>\n",
       "      <td>1420.72</td>\n",
       "      <td>823.7</td>\n",
       "      <td>236.09</td>\n",
       "      <td>38.1600</td>\n",
       "      <td>56.89</td>\n",
       "      <td>1302.4</td>\n",
       "      <td>42.53</td>\n",
       "    </tr>\n",
       "    <tr>\n",
       "      <td>2018-12-26</td>\n",
       "      <td>5931.8</td>\n",
       "      <td>10801.0</td>\n",
       "      <td>1897.8</td>\n",
       "      <td>2478.00</td>\n",
       "      <td>13780.19</td>\n",
       "      <td>2467.70</td>\n",
       "      <td>6685.99</td>\n",
       "      <td>2498.29</td>\n",
       "      <td>19327.06</td>\n",
       "      <td>25651.38</td>\n",
       "      <td>...</td>\n",
       "      <td>1284.25</td>\n",
       "      <td>162.82</td>\n",
       "      <td>1021.42</td>\n",
       "      <td>1427.48</td>\n",
       "      <td>823.7</td>\n",
       "      <td>247.67</td>\n",
       "      <td>38.9200</td>\n",
       "      <td>58.21</td>\n",
       "      <td>1303.7</td>\n",
       "      <td>46.22</td>\n",
       "    </tr>\n",
       "    <tr>\n",
       "      <td>2018-12-27</td>\n",
       "      <td>5969.0</td>\n",
       "      <td>10673.0</td>\n",
       "      <td>1856.5</td>\n",
       "      <td>2491.00</td>\n",
       "      <td>14165.21</td>\n",
       "      <td>2488.83</td>\n",
       "      <td>6584.68</td>\n",
       "      <td>2483.09</td>\n",
       "      <td>20077.62</td>\n",
       "      <td>25478.88</td>\n",
       "      <td>...</td>\n",
       "      <td>1278.29</td>\n",
       "      <td>163.20</td>\n",
       "      <td>1012.23</td>\n",
       "      <td>1422.93</td>\n",
       "      <td>849.1</td>\n",
       "      <td>250.06</td>\n",
       "      <td>38.8700</td>\n",
       "      <td>58.38</td>\n",
       "      <td>1311.9</td>\n",
       "      <td>44.61</td>\n",
       "    </tr>\n",
       "    <tr>\n",
       "      <td>2018-12-28</td>\n",
       "      <td>5987.0</td>\n",
       "      <td>10647.0</td>\n",
       "      <td>1856.8</td>\n",
       "      <td>2444.50</td>\n",
       "      <td>14222.00</td>\n",
       "      <td>2485.74</td>\n",
       "      <td>6733.97</td>\n",
       "      <td>2493.90</td>\n",
       "      <td>20014.77</td>\n",
       "      <td>25504.20</td>\n",
       "      <td>...</td>\n",
       "      <td>1281.81</td>\n",
       "      <td>162.60</td>\n",
       "      <td>1010.95</td>\n",
       "      <td>1417.88</td>\n",
       "      <td>852.2</td>\n",
       "      <td>249.33</td>\n",
       "      <td>39.2400</td>\n",
       "      <td>58.69</td>\n",
       "      <td>1313.7</td>\n",
       "      <td>45.33</td>\n",
       "    </tr>\n",
       "  </tbody>\n",
       "</table>\n",
       "<p>2626 rows × 26 columns</p>\n",
       "</div>"
      ],
      "text/plain": [
       "            copper   nikkel  aluminium    ayeon  canada sp    sp500     ftse  \\\n",
       "Date                                                                           \n",
       "2008-02-19  8273.0  27975.0     2835.8  2345.00   13447.74  1348.78  5966.90   \n",
       "2008-02-20  8221.0  27878.0     2845.8  2345.00   13551.69  1360.03  5893.60   \n",
       "2008-02-21  8487.0  29035.0     2909.3  2524.50   13509.55  1342.53  5932.20   \n",
       "2008-02-22  8374.5  28190.0     2883.8  2486.50   13585.93  1353.11  5888.50   \n",
       "2008-02-25  8238.0  28035.0     2864.5  2482.75   13697.45  1371.80  5999.50   \n",
       "...            ...      ...        ...      ...        ...      ...      ...   \n",
       "2018-12-21  5967.5  10796.0     1907.8  2489.00   13935.44  2416.62  6721.17   \n",
       "2018-12-24  5931.8  10801.0     1897.8  2478.00   13780.19  2351.10  6685.99   \n",
       "2018-12-26  5931.8  10801.0     1897.8  2478.00   13780.19  2467.70  6685.99   \n",
       "2018-12-27  5969.0  10673.0     1856.5  2491.00   14165.21  2488.83  6584.68   \n",
       "2018-12-28  5987.0  10647.0     1856.8  2444.50   14222.00  2485.74  6733.97   \n",
       "\n",
       "            shanghai  nikkei225  hangseng  ...      EUR     CNY      JPY  \\\n",
       "Date                                       ...                             \n",
       "2008-02-19   4664.30   13757.91  24123.17  ...  1384.62  131.91   873.33   \n",
       "2008-02-20   4567.03   13310.37  23590.58  ...  1390.53  132.07   875.41   \n",
       "2008-02-21   4527.18   13688.28  23623.00  ...  1390.73  132.22   874.51   \n",
       "2008-02-22   4370.28   13500.46  23305.04  ...  1402.79  132.61   882.20   \n",
       "2008-02-25   4192.53   13914.57  23269.14  ...  1408.03  132.87   884.64   \n",
       "...              ...        ...       ...  ...      ...     ...      ...   \n",
       "2018-12-21   2516.25   20166.19  25753.42  ...  1293.10  163.44  1015.02   \n",
       "2018-12-24   2527.01   20166.19  25651.38  ...  1277.87  163.00  1011.84   \n",
       "2018-12-26   2498.29   19327.06  25651.38  ...  1284.25  162.82  1021.42   \n",
       "2018-12-27   2483.09   20077.62  25478.88  ...  1278.29  163.20  1012.23   \n",
       "2018-12-28   2493.90   20014.77  25504.20  ...  1281.81  162.60  1010.95   \n",
       "\n",
       "                GBP  canada60 future   SP500       EM   EAFE    Gold     WTI  \n",
       "Date                                                                          \n",
       "2008-02-19  1843.05            788.8  135.31  46.7200  71.29   926.6  100.01  \n",
       "2008-02-20  1839.54            797.4  136.36  47.1100  70.92   934.6  100.74  \n",
       "2008-02-21  1835.17            794.3  134.79  46.4500  70.79   946.1   98.23  \n",
       "2008-02-22  1859.34            798.1  135.92  47.0733  71.69   944.7   98.81  \n",
       "2008-02-25  1869.10            804.2  137.59  47.9500  72.83   937.6   99.23  \n",
       "...             ...              ...     ...      ...    ...     ...     ...  \n",
       "2018-12-21  1430.15            834.9  242.35  38.5200  57.56  1288.6   45.59  \n",
       "2018-12-24  1420.72            823.7  236.09  38.1600  56.89  1302.4   42.53  \n",
       "2018-12-26  1427.48            823.7  247.67  38.9200  58.21  1303.7   46.22  \n",
       "2018-12-27  1422.93            849.1  250.06  38.8700  58.38  1311.9   44.61  \n",
       "2018-12-28  1417.88            852.2  249.33  39.2400  58.69  1313.7   45.33  \n",
       "\n",
       "[2626 rows x 26 columns]"
      ]
     },
     "execution_count": 290,
     "metadata": {},
     "output_type": "execute_result"
    }
   ],
   "source": [
    "dataset"
   ]
  },
  {
   "cell_type": "code",
   "execution_count": 295,
   "metadata": {},
   "outputs": [],
   "source": [
    "EMscore = pd.read_csv('EMresult.csv')\n",
    "EAFEscore = pd.read_csv('EAFEresult.csv')\n",
    "SP500score = pd.read_csv('SP500result.csv')\n",
    "\n",
    "scoredata = pd.merge(EMscore, EAFEscore, how = 'inner', left_on = 'Date', right_on = 'Date')\n",
    "scoredata = pd.merge(scoredata, SP500score, how = 'inner', left_on = 'Date', right_on = 'Date')\n",
    "\n",
    "scoredata = scoredata.set_index('Date')\n",
    "\n",
    "returntable = ((dataset[7:].reset_index(drop=True)-dataset[:-7].reset_index(drop=True))/dataset[:-7].reset_index(drop=True))[['EM', 'EAFE', 'SP500']]\n",
    "returntable.index = dataset[:-7].index\n",
    "\n",
    "returncut = returntable[returntable.index.isin(scoredata.index)][['EM', 'EAFE', 'SP500']]"
   ]
  },
  {
   "cell_type": "code",
   "execution_count": 396,
   "metadata": {},
   "outputs": [],
   "source": [
    "veryresult = []\n",
    "idealresult = []\n",
    "predictstring = []\n",
    "expectstring = []\n",
    "for i in range(0, len(scoredata)):\n",
    "    if(scoredata['EM'][i] == (scoredata.max(axis = 1)[i])):\n",
    "        veryresult.append(returncut['EM'][i]-0.0014)\n",
    "        predictstring.append('EM')\n",
    "    elif(scoredata['EAFE'][i] == (scoredata.max(axis = 1)[i])):\n",
    "        veryresult.append(returncut['EAFE'][i]-0.0007)\n",
    "        predictstring.append('EAFE')\n",
    "    else:\n",
    "        veryresult.append(returncut['SP500'][i]-0.0004)\n",
    "        predictstring.append('SP500')\n",
    "        \n",
    "for i in range(0, len(scoredata)):\n",
    "    if(returncut['EM'][i] == (returncut.max(axis = 1)[i])):\n",
    "        expectstring.append('EM')\n",
    "        idealresult.append(returncut['EM'][i]-0.0014)\n",
    "    elif(returncut['EAFE'][i] == (returncut.max(axis = 1)[i])):\n",
    "        expectstring.append('EAFE')\n",
    "        idealresult.append(returncut['EAFE'][i]-0.0007)\n",
    "    else:\n",
    "        expectstring.append('SP500')\n",
    "        idealresult.append(returncut['SP500'][i]-0.0004)\n"
   ]
  },
  {
   "cell_type": "code",
   "execution_count": 384,
   "metadata": {},
   "outputs": [],
   "source": [
    "veryresult = pd.DataFrame(veryresult)"
   ]
  },
  {
   "cell_type": "code",
   "execution_count": 385,
   "metadata": {},
   "outputs": [],
   "source": [
    "veryresult.index = scoredata.index"
   ]
  },
  {
   "cell_type": "code",
   "execution_count": 386,
   "metadata": {},
   "outputs": [],
   "source": [
    "veryresult.to_csv('veryresult.csv')"
   ]
  },
  {
   "cell_type": "code",
   "execution_count": 392,
   "metadata": {},
   "outputs": [],
   "source": [
    "accuracy = []\n",
    "for i in range(0, len(predictstring)):\n",
    "    if(predictstring[i] == expectstring[i]):\n",
    "        accuracy.append(1)\n",
    "    else:\n",
    "        accuracy.append(0)"
   ]
  },
  {
   "cell_type": "code",
   "execution_count": 395,
   "metadata": {},
   "outputs": [
    {
     "data": {
      "text/plain": [
       "0.5015197568389058"
      ]
     },
     "execution_count": 395,
     "metadata": {},
     "output_type": "execute_result"
    }
   ],
   "source": [
    "sum(accuracy)/len(predictstring)"
   ]
  },
  {
   "cell_type": "code",
   "execution_count": 399,
   "metadata": {},
   "outputs": [],
   "source": [
    "pd.DataFrame(idealresult).to_csv('idealresult.csv')"
   ]
  },
  {
   "cell_type": "code",
   "execution_count": null,
   "metadata": {},
   "outputs": [],
   "source": []
  }
 ],
 "metadata": {
  "kernelspec": {
   "display_name": "Python 3",
   "language": "python",
   "name": "python3"
  },
  "language_info": {
   "codemirror_mode": {
    "name": "ipython",
    "version": 3
   },
   "file_extension": ".py",
   "mimetype": "text/x-python",
   "name": "python",
   "nbconvert_exporter": "python",
   "pygments_lexer": "ipython3",
   "version": "3.7.4"
  }
 },
 "nbformat": 4,
 "nbformat_minor": 2
}
