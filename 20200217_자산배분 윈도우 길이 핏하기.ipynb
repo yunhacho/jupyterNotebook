{
 "cells": [
  {
   "cell_type": "code",
   "execution_count": 1,
   "metadata": {},
   "outputs": [],
   "source": [
    "#Import Packages\n",
    "\n",
    "import numpy as np\n",
    "from numpy import random as rd\n",
    "from pykrx import stock\n",
    "import scipy as sp\n",
    "import pandas as pd\n",
    "from scipy import optimize"
   ]
  },
  {
   "cell_type": "code",
   "execution_count": 90,
   "metadata": {},
   "outputs": [],
   "source": [
    "#Load Data\n",
    "\n",
    "ETF_ticker = [\"002810\", \"003920\", \"004380\", \"011280\", \"016580\", \"007340\", \"000370\", \"001510\", \"033270\", \"004710\", \"001500\"]\n",
    "N = len(ETF_ticker)\n",
    "stocks_data = []\n",
    "srt = \"20010101\"\n",
    "end = \"20191231\"\n",
    "for i in range(0, N):\n",
    "    stocks_data.append(stock.get_market_ohlcv_by_date(srt, end, ETF_ticker[i])[\"종가\"])\n",
    "    \n",
    "data = pd.DataFrame(np.asarray(stocks_data).T, columns=ETF_ticker, dtype=np.int32)"
   ]
  },
  {
   "cell_type": "code",
   "execution_count": 91,
   "metadata": {},
   "outputs": [
    {
     "data": {
      "text/plain": [
       "11"
      ]
     },
     "execution_count": 91,
     "metadata": {},
     "output_type": "execute_result"
    }
   ],
   "source": [
    "N"
   ]
  },
  {
   "cell_type": "code",
   "execution_count": 4,
   "metadata": {
    "scrolled": true
   },
   "outputs": [
    {
     "data": {
      "text/html": [
       "<div>\n",
       "<style scoped>\n",
       "    .dataframe tbody tr th:only-of-type {\n",
       "        vertical-align: middle;\n",
       "    }\n",
       "\n",
       "    .dataframe tbody tr th {\n",
       "        vertical-align: top;\n",
       "    }\n",
       "\n",
       "    .dataframe thead th {\n",
       "        text-align: right;\n",
       "    }\n",
       "</style>\n",
       "<table border=\"1\" class=\"dataframe\">\n",
       "  <thead>\n",
       "    <tr style=\"text-align: right;\">\n",
       "      <th></th>\n",
       "      <th>002810</th>\n",
       "      <th>003920</th>\n",
       "      <th>004380</th>\n",
       "      <th>011280</th>\n",
       "      <th>016580</th>\n",
       "      <th>007340</th>\n",
       "      <th>000370</th>\n",
       "      <th>001510</th>\n",
       "      <th>033270</th>\n",
       "      <th>004710</th>\n",
       "      <th>001500</th>\n",
       "    </tr>\n",
       "  </thead>\n",
       "  <tbody>\n",
       "    <tr>\n",
       "      <td>0</td>\n",
       "      <td>1507</td>\n",
       "      <td>252000</td>\n",
       "      <td>727</td>\n",
       "      <td>335</td>\n",
       "      <td>2612</td>\n",
       "      <td>3678</td>\n",
       "      <td>13502</td>\n",
       "      <td>2081</td>\n",
       "      <td>2110</td>\n",
       "      <td>5781</td>\n",
       "      <td>2468</td>\n",
       "    </tr>\n",
       "    <tr>\n",
       "      <td>1</td>\n",
       "      <td>1541</td>\n",
       "      <td>254000</td>\n",
       "      <td>731</td>\n",
       "      <td>326</td>\n",
       "      <td>2622</td>\n",
       "      <td>3678</td>\n",
       "      <td>13502</td>\n",
       "      <td>2150</td>\n",
       "      <td>2230</td>\n",
       "      <td>6641</td>\n",
       "      <td>2488</td>\n",
       "    </tr>\n",
       "    <tr>\n",
       "      <td>2</td>\n",
       "      <td>1591</td>\n",
       "      <td>252000</td>\n",
       "      <td>757</td>\n",
       "      <td>350</td>\n",
       "      <td>2602</td>\n",
       "      <td>3694</td>\n",
       "      <td>14195</td>\n",
       "      <td>2467</td>\n",
       "      <td>2430</td>\n",
       "      <td>7620</td>\n",
       "      <td>2859</td>\n",
       "    </tr>\n",
       "    <tr>\n",
       "      <td>3</td>\n",
       "      <td>1558</td>\n",
       "      <td>253000</td>\n",
       "      <td>746</td>\n",
       "      <td>353</td>\n",
       "      <td>2492</td>\n",
       "      <td>3678</td>\n",
       "      <td>16110</td>\n",
       "      <td>2833</td>\n",
       "      <td>2385</td>\n",
       "      <td>7650</td>\n",
       "      <td>3159</td>\n",
       "    </tr>\n",
       "    <tr>\n",
       "      <td>4</td>\n",
       "      <td>1541</td>\n",
       "      <td>255000</td>\n",
       "      <td>755</td>\n",
       "      <td>357</td>\n",
       "      <td>2652</td>\n",
       "      <td>3757</td>\n",
       "      <td>16538</td>\n",
       "      <td>3255</td>\n",
       "      <td>2350</td>\n",
       "      <td>7650</td>\n",
       "      <td>3135</td>\n",
       "    </tr>\n",
       "    <tr>\n",
       "      <td>...</td>\n",
       "      <td>...</td>\n",
       "      <td>...</td>\n",
       "      <td>...</td>\n",
       "      <td>...</td>\n",
       "      <td>...</td>\n",
       "      <td>...</td>\n",
       "      <td>...</td>\n",
       "      <td>...</td>\n",
       "      <td>...</td>\n",
       "      <td>...</td>\n",
       "      <td>...</td>\n",
       "    </tr>\n",
       "    <tr>\n",
       "      <td>4690</td>\n",
       "      <td>15709</td>\n",
       "      <td>425000</td>\n",
       "      <td>11500</td>\n",
       "      <td>4130</td>\n",
       "      <td>15800</td>\n",
       "      <td>29450</td>\n",
       "      <td>2850</td>\n",
       "      <td>603</td>\n",
       "      <td>18500</td>\n",
       "      <td>8750</td>\n",
       "      <td>10350</td>\n",
       "    </tr>\n",
       "    <tr>\n",
       "      <td>4691</td>\n",
       "      <td>15852</td>\n",
       "      <td>436000</td>\n",
       "      <td>11350</td>\n",
       "      <td>4100</td>\n",
       "      <td>15450</td>\n",
       "      <td>29500</td>\n",
       "      <td>2860</td>\n",
       "      <td>600</td>\n",
       "      <td>18300</td>\n",
       "      <td>8240</td>\n",
       "      <td>10350</td>\n",
       "    </tr>\n",
       "    <tr>\n",
       "      <td>4692</td>\n",
       "      <td>15900</td>\n",
       "      <td>433000</td>\n",
       "      <td>11500</td>\n",
       "      <td>4290</td>\n",
       "      <td>15500</td>\n",
       "      <td>29600</td>\n",
       "      <td>2840</td>\n",
       "      <td>607</td>\n",
       "      <td>18500</td>\n",
       "      <td>8750</td>\n",
       "      <td>10500</td>\n",
       "    </tr>\n",
       "    <tr>\n",
       "      <td>4693</td>\n",
       "      <td>16050</td>\n",
       "      <td>431000</td>\n",
       "      <td>11700</td>\n",
       "      <td>4355</td>\n",
       "      <td>15400</td>\n",
       "      <td>29350</td>\n",
       "      <td>2820</td>\n",
       "      <td>607</td>\n",
       "      <td>18250</td>\n",
       "      <td>8800</td>\n",
       "      <td>10100</td>\n",
       "    </tr>\n",
       "    <tr>\n",
       "      <td>4694</td>\n",
       "      <td>15900</td>\n",
       "      <td>439500</td>\n",
       "      <td>11600</td>\n",
       "      <td>4250</td>\n",
       "      <td>15450</td>\n",
       "      <td>29350</td>\n",
       "      <td>2825</td>\n",
       "      <td>607</td>\n",
       "      <td>18350</td>\n",
       "      <td>8940</td>\n",
       "      <td>10050</td>\n",
       "    </tr>\n",
       "  </tbody>\n",
       "</table>\n",
       "<p>4695 rows × 11 columns</p>\n",
       "</div>"
      ],
      "text/plain": [
       "      002810  003920  004380  011280  016580  007340  000370  001510  033270  \\\n",
       "0       1507  252000     727     335    2612    3678   13502    2081    2110   \n",
       "1       1541  254000     731     326    2622    3678   13502    2150    2230   \n",
       "2       1591  252000     757     350    2602    3694   14195    2467    2430   \n",
       "3       1558  253000     746     353    2492    3678   16110    2833    2385   \n",
       "4       1541  255000     755     357    2652    3757   16538    3255    2350   \n",
       "...      ...     ...     ...     ...     ...     ...     ...     ...     ...   \n",
       "4690   15709  425000   11500    4130   15800   29450    2850     603   18500   \n",
       "4691   15852  436000   11350    4100   15450   29500    2860     600   18300   \n",
       "4692   15900  433000   11500    4290   15500   29600    2840     607   18500   \n",
       "4693   16050  431000   11700    4355   15400   29350    2820     607   18250   \n",
       "4694   15900  439500   11600    4250   15450   29350    2825     607   18350   \n",
       "\n",
       "      004710  001500  \n",
       "0       5781    2468  \n",
       "1       6641    2488  \n",
       "2       7620    2859  \n",
       "3       7650    3159  \n",
       "4       7650    3135  \n",
       "...      ...     ...  \n",
       "4690    8750   10350  \n",
       "4691    8240   10350  \n",
       "4692    8750   10500  \n",
       "4693    8800   10100  \n",
       "4694    8940   10050  \n",
       "\n",
       "[4695 rows x 11 columns]"
      ]
     },
     "execution_count": 4,
     "metadata": {},
     "output_type": "execute_result"
    }
   ],
   "source": [
    "data"
   ]
  },
  {
   "cell_type": "code",
   "execution_count": 28,
   "metadata": {},
   "outputs": [],
   "source": [
    "#Global variable\n",
    "var_cov_mat = np.identity(N)\n",
    "rf = 0.015\n",
    "ret = pd.DataFrame(np.nan, index=np.arange(data.shape[0]), columns=data.columns)"
   ]
  },
  {
   "cell_type": "code",
   "execution_count": 24,
   "metadata": {},
   "outputs": [],
   "source": [
    "#Lagrange Multiplier\n",
    "\n",
    "def eq_constraint(w): # w값들의 합이 1이 되어야 한다.\n",
    "    summation = 0\n",
    "    for i in w:\n",
    "        summation += i\n",
    "    return summation -1\n",
    "\n",
    "def flarray(w): #샤프지수가 최대가 되게하는 목적함수\n",
    "    global var_cov_mat\n",
    "    \n",
    "    ret_exd = np.cumprod(ret) - 0.015\n",
    "    return -(np.dot(np.transpose(ret_exd.iloc[-1]), w) / (np.dot(np.dot(np.transpose(w), var_cov_mat), w))**(1/2))\n",
    "\n",
    "def get_W_Max_Sharp():\n",
    "    return sp.optimize.fmin_slsqp(flarray, [1/N for i in range(N)], bounds=[(0,1) for i in range(N)], eqcons=[eq_constraint])"
   ]
  },
  {
   "cell_type": "code",
   "execution_count": 31,
   "metadata": {
    "scrolled": true
   },
   "outputs": [],
   "source": [
    "def w_optima(data, day, beforehand):\n",
    "    data_ = data.iloc[day-beforehand:day]\n",
    "\n",
    "    global ret\n",
    "\n",
    "    for i in range(1, len(stocks_data[0])):\n",
    "        ret.iloc[i] = data.iloc[i]/data.iloc[i-1]\n",
    "    \n",
    "    global var_cov_mat\n",
    "    \n",
    "    for i in range(0, N):\n",
    "        for j in range(0, N):\n",
    "            var_cov_mat[i][j] = np.cov(ret.iloc[1:,i], ret.iloc[1:,j])[0,1]\n",
    "    return get_W_Max_Sharp()\n",
    "\n",
    "#w_optima(data,100,30)"
   ]
  },
  {
   "cell_type": "code",
   "execution_count": 34,
   "metadata": {},
   "outputs": [
    {
     "name": "stdout",
     "output_type": "stream",
     "text": [
      "Optimization terminated successfully.    (Exit mode 0)\n",
      "            Current function value: -803.7172378958029\n",
      "            Iterations: 17\n",
      "            Function evaluations: 229\n",
      "            Gradient evaluations: 16\n",
      "[0.24295 0.      0.25144 0.19293 0.03608 0.23031 0.      0.      0.04629\n",
      " 0.      0.     ]\n",
      "Optimization terminated successfully.    (Exit mode 0)\n",
      "            Current function value: -803.7172378958029\n",
      "            Iterations: 17\n",
      "            Function evaluations: 229\n",
      "            Gradient evaluations: 16\n",
      "[0.24295 0.      0.25144 0.19293 0.03608 0.23031 0.      0.      0.04629\n",
      " 0.      0.     ]\n"
     ]
    }
   ],
   "source": [
    "print(np.round(w_optima(data,200,30), 5))\n",
    "print(np.round(w_optima(data,200,120), 5))\n"
   ]
  },
  {
   "cell_type": "code",
   "execution_count": 97,
   "metadata": {
    "scrolled": false
   },
   "outputs": [
    {
     "data": {
      "text/plain": [
       "array([[ 4.8,  0.5,  1.1,  1.2,  0.8,  0.5,  1.4,  1.6,  1.2,  1.9,  1.5],\n",
       "       [ 0.5,  4.7,  0.5,  0.8,  0.5,  0.6,  1.1,  1.2,  0.8,  1.3,  1.1],\n",
       "       [ 1.1,  0.5,  8.2,  1.4,  0.9,  0.7,  1.4,  1.8,  1.2,  2.3,  1.6],\n",
       "       [ 1.2,  0.8,  1.4,  6.9,  1.1,  0.7,  1.8,  2.3,  1.5,  2.5,  2.1],\n",
       "       [ 0.8,  0.5,  0.9,  1.1,  5.4,  0.6,  1. ,  1.3,  1.9,  1.4,  1.1],\n",
       "       [ 0.5,  0.6,  0.7,  0.7,  0.6,  4.1,  1.2,  1.1,  0.7,  1.2,  1.1],\n",
       "       [ 1.4,  1.1,  1.4,  1.8,  1. ,  1.2, 10.3,  3.8,  1.7,  3.1,  3.5],\n",
       "       [ 1.6,  1.2,  1.8,  2.3,  1.3,  1.1,  3.8, 11.4,  2.3,  4.5,  5.5],\n",
       "       [ 1.2,  0.8,  1.2,  1.5,  1.9,  0.7,  1.7,  2.3,  9.1,  2.3,  1.9],\n",
       "       [ 1.9,  1.3,  2.3,  2.5,  1.4,  1.2,  3.1,  4.5,  2.3, 13.7,  3.7],\n",
       "       [ 1.5,  1.1,  1.6,  2.1,  1.1,  1.1,  3.5,  5.5,  1.9,  3.7,  7.8]])"
      ]
     },
     "execution_count": 97,
     "metadata": {},
     "output_type": "execute_result"
    }
   ],
   "source": [
    "#var - cov matrix 생성\n",
    "def getCov(a, b):\n",
    "    return np.cov(a,b)\n",
    "\n",
    "\n",
    "var_cov_mat_ = np.identity(N)\n",
    "\n",
    "for i in range(0,11):\n",
    "    for j in range(0,11):\n",
    "        var_cov_mat_[i][j] = np.cov(ret.iloc[1:,i],ret.iloc[1:,j])[0,1]\n",
    "np.round(var_cov_mat_*10000,1)"
   ]
  },
  {
   "cell_type": "code",
   "execution_count": 78,
   "metadata": {},
   "outputs": [
    {
     "data": {
      "text/plain": [
       "1       1.008104\n",
       "2       1.149116\n",
       "3       1.104932\n",
       "4       0.992403\n",
       "5       0.990112\n",
       "          ...   \n",
       "4690    0.985714\n",
       "4691    1.000000\n",
       "4692    1.014493\n",
       "4693    0.961905\n",
       "4694    0.995050\n",
       "Name: 001500, Length: 4694, dtype: float64"
      ]
     },
     "execution_count": 78,
     "metadata": {},
     "output_type": "execute_result"
    }
   ],
   "source": [
    "ret.iloc[1:,10]"
   ]
  },
  {
   "cell_type": "code",
   "execution_count": 69,
   "metadata": {
    "scrolled": true
   },
   "outputs": [
    {
     "data": {
      "text/plain": [
       "array([[4.66633372e-04, 4.56347388e-05],\n",
       "       [4.56347388e-05, 8.18791749e-04]])"
      ]
     },
     "execution_count": 69,
     "metadata": {},
     "output_type": "execute_result"
    }
   ],
   "source": [
    "getCov(ret.iloc[1:,1],ret.iloc[1:,2])"
   ]
  },
  {
   "cell_type": "code",
   "execution_count": 73,
   "metadata": {
    "scrolled": true
   },
   "outputs": [
    {
     "data": {
      "text/plain": [
       "array([[0.00046663, 0.00010932],\n",
       "       [0.00010932, 0.00102994]])"
      ]
     },
     "execution_count": 73,
     "metadata": {},
     "output_type": "execute_result"
    }
   ],
   "source": [
    "np.cov(ret.iloc[1:,1],ret.iloc[1:,6])"
   ]
  },
  {
   "cell_type": "code",
   "execution_count": 43,
   "metadata": {},
   "outputs": [
    {
     "data": {
      "text/plain": [
       "50"
      ]
     },
     "execution_count": 43,
     "metadata": {},
     "output_type": "execute_result"
    }
   ],
   "source": [
    "len(ret[100:150])"
   ]
  },
  {
   "cell_type": "code",
   "execution_count": 22,
   "metadata": {},
   "outputs": [
    {
     "name": "stdout",
     "output_type": "stream",
     "text": [
      "4\n"
     ]
    }
   ],
   "source": [
    "a = 3\n",
    "def ff():\n",
    "    global a\n",
    "    a = 4\n",
    "ff()\n",
    "print(a)"
   ]
  }
 ],
 "metadata": {
  "kernelspec": {
   "display_name": "Python 3",
   "language": "python",
   "name": "python3"
  },
  "language_info": {
   "codemirror_mode": {
    "name": "ipython",
    "version": 3
   },
   "file_extension": ".py",
   "mimetype": "text/x-python",
   "name": "python",
   "nbconvert_exporter": "python",
   "pygments_lexer": "ipython3",
   "version": "3.7.4"
  }
 },
 "nbformat": 4,
 "nbformat_minor": 2
}
