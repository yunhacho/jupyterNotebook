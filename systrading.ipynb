{
 "cells": [
  {
   "cell_type": "code",
   "execution_count": 5,
   "metadata": {},
   "outputs": [
    {
     "name": "stderr",
     "output_type": "stream",
     "text": [
      "Using TensorFlow backend.\n"
     ]
    }
   ],
   "source": [
    "#import packages\n",
    "import numpy as np\n",
    "import pandas as pd\n",
    "from keras import Sequential\n",
    "from keras.models import load_model\n",
    "from keras.layers import Dense, Activation, LSTM\n",
    "import time\n",
    "import datetime\n",
    "import queue"
   ]
  },
  {
   "cell_type": "code",
   "execution_count": 6,
   "metadata": {
    "collapsed": true
   },
   "outputs": [
    {
     "ename": "com_error",
     "evalue": "(-2147221164, '클래스가 등록되지 않았습니다.', None, None)",
     "output_type": "error",
     "traceback": [
      "\u001b[1;31m---------------------------------------------------------------------------\u001b[0m",
      "\u001b[1;31mcom_error\u001b[0m                                 Traceback (most recent call last)",
      "\u001b[1;32m~\\Anaconda3\\lib\\site-packages\\win32com\\client\\dynamic.py\u001b[0m in \u001b[0;36m_GetGoodDispatch\u001b[1;34m(IDispatch, clsctx)\u001b[0m\n\u001b[0;32m     88\u001b[0m                 \u001b[1;32mtry\u001b[0m\u001b[1;33m:\u001b[0m\u001b[1;33m\u001b[0m\u001b[1;33m\u001b[0m\u001b[0m\n\u001b[1;32m---> 89\u001b[1;33m                         \u001b[0mIDispatch\u001b[0m \u001b[1;33m=\u001b[0m \u001b[0mpythoncom\u001b[0m\u001b[1;33m.\u001b[0m\u001b[0mconnect\u001b[0m\u001b[1;33m(\u001b[0m\u001b[0mIDispatch\u001b[0m\u001b[1;33m)\u001b[0m\u001b[1;33m\u001b[0m\u001b[1;33m\u001b[0m\u001b[0m\n\u001b[0m\u001b[0;32m     90\u001b[0m                 \u001b[1;32mexcept\u001b[0m \u001b[0mpythoncom\u001b[0m\u001b[1;33m.\u001b[0m\u001b[0mole_error\u001b[0m\u001b[1;33m:\u001b[0m\u001b[1;33m\u001b[0m\u001b[1;33m\u001b[0m\u001b[0m\n",
      "\u001b[1;31mcom_error\u001b[0m: (-2147221021, '작업을 사용할 수 없습니다.', None, None)",
      "\nDuring handling of the above exception, another exception occurred:\n",
      "\u001b[1;31mcom_error\u001b[0m                                 Traceback (most recent call last)",
      "\u001b[1;32m<ipython-input-6-8b153a168639>\u001b[0m in \u001b[0;36m<module>\u001b[1;34m\u001b[0m\n\u001b[0;32m     11\u001b[0m         \u001b[1;32mreturn\u001b[0m \u001b[0mcp_cur\u001b[0m\u001b[1;33m\u001b[0m\u001b[1;33m\u001b[0m\u001b[0m\n\u001b[0;32m     12\u001b[0m \u001b[1;33m\u001b[0m\u001b[0m\n\u001b[1;32m---> 13\u001b[1;33m \u001b[0ma\u001b[0m \u001b[1;33m=\u001b[0m \u001b[0mEventhandler\u001b[0m\u001b[1;33m.\u001b[0m\u001b[0mget_instance\u001b[0m\u001b[1;33m(\u001b[0m\u001b[1;33m)\u001b[0m\u001b[1;33m\u001b[0m\u001b[1;33m\u001b[0m\u001b[0m\n\u001b[0m\u001b[0;32m     14\u001b[0m \u001b[0ma\u001b[0m\u001b[1;33m.\u001b[0m\u001b[0ma\u001b[0m\u001b[1;33m(\u001b[0m\u001b[1;33m)\u001b[0m\u001b[1;33m\u001b[0m\u001b[1;33m\u001b[0m\u001b[0m\n",
      "\u001b[1;32m<ipython-input-6-8b153a168639>\u001b[0m in \u001b[0;36mget_instance\u001b[1;34m(cls)\u001b[0m\n\u001b[0;32m      8\u001b[0m     \u001b[1;33m@\u001b[0m\u001b[0mclassmethod\u001b[0m\u001b[1;33m\u001b[0m\u001b[1;33m\u001b[0m\u001b[0m\n\u001b[0;32m      9\u001b[0m     \u001b[1;32mdef\u001b[0m \u001b[0mget_instance\u001b[0m\u001b[1;33m(\u001b[0m\u001b[0mcls\u001b[0m\u001b[1;33m)\u001b[0m\u001b[1;33m:\u001b[0m\u001b[1;33m\u001b[0m\u001b[1;33m\u001b[0m\u001b[0m\n\u001b[1;32m---> 10\u001b[1;33m         \u001b[0mcp_cur\u001b[0m \u001b[1;33m=\u001b[0m \u001b[0mwin32com\u001b[0m\u001b[1;33m.\u001b[0m\u001b[0mclient\u001b[0m\u001b[1;33m.\u001b[0m\u001b[0mDispatchWithEvents\u001b[0m\u001b[1;33m(\u001b[0m\u001b[1;34m\"dscbo1.StockCur\"\u001b[0m\u001b[1;33m,\u001b[0m \u001b[0mcls\u001b[0m\u001b[1;33m)\u001b[0m\u001b[1;33m\u001b[0m\u001b[1;33m\u001b[0m\u001b[0m\n\u001b[0m\u001b[0;32m     11\u001b[0m         \u001b[1;32mreturn\u001b[0m \u001b[0mcp_cur\u001b[0m\u001b[1;33m\u001b[0m\u001b[1;33m\u001b[0m\u001b[0m\n\u001b[0;32m     12\u001b[0m \u001b[1;33m\u001b[0m\u001b[0m\n",
      "\u001b[1;32m~\\Anaconda3\\lib\\site-packages\\win32com\\client\\__init__.py\u001b[0m in \u001b[0;36mDispatchWithEvents\u001b[1;34m(clsid, user_event_class)\u001b[0m\n\u001b[0;32m    251\u001b[0m   \"\"\"\n\u001b[0;32m    252\u001b[0m   \u001b[1;31m# Create/Get the object.\u001b[0m\u001b[1;33m\u001b[0m\u001b[1;33m\u001b[0m\u001b[1;33m\u001b[0m\u001b[0m\n\u001b[1;32m--> 253\u001b[1;33m   \u001b[0mdisp\u001b[0m \u001b[1;33m=\u001b[0m \u001b[0mDispatch\u001b[0m\u001b[1;33m(\u001b[0m\u001b[0mclsid\u001b[0m\u001b[1;33m)\u001b[0m\u001b[1;33m\u001b[0m\u001b[1;33m\u001b[0m\u001b[0m\n\u001b[0m\u001b[0;32m    254\u001b[0m   \u001b[1;32mif\u001b[0m \u001b[1;32mnot\u001b[0m \u001b[0mdisp\u001b[0m\u001b[1;33m.\u001b[0m\u001b[0m__class__\u001b[0m\u001b[1;33m.\u001b[0m\u001b[0m__dict__\u001b[0m\u001b[1;33m.\u001b[0m\u001b[0mget\u001b[0m\u001b[1;33m(\u001b[0m\u001b[1;34m\"CLSID\"\u001b[0m\u001b[1;33m)\u001b[0m\u001b[1;33m:\u001b[0m \u001b[1;31m# Eeek - no makepy support - try and build it.\u001b[0m\u001b[1;33m\u001b[0m\u001b[1;33m\u001b[0m\u001b[0m\n\u001b[0;32m    255\u001b[0m     \u001b[1;32mtry\u001b[0m\u001b[1;33m:\u001b[0m\u001b[1;33m\u001b[0m\u001b[1;33m\u001b[0m\u001b[0m\n",
      "\u001b[1;32m~\\Anaconda3\\lib\\site-packages\\win32com\\client\\__init__.py\u001b[0m in \u001b[0;36mDispatch\u001b[1;34m(dispatch, userName, resultCLSID, typeinfo, UnicodeToString, clsctx)\u001b[0m\n\u001b[0;32m     93\u001b[0m   \"\"\"\n\u001b[0;32m     94\u001b[0m   \u001b[1;32massert\u001b[0m \u001b[0mUnicodeToString\u001b[0m \u001b[1;32mis\u001b[0m \u001b[1;32mNone\u001b[0m\u001b[1;33m,\u001b[0m \u001b[1;34m\"this is deprecated and will go away\"\u001b[0m\u001b[1;33m\u001b[0m\u001b[1;33m\u001b[0m\u001b[0m\n\u001b[1;32m---> 95\u001b[1;33m   \u001b[0mdispatch\u001b[0m\u001b[1;33m,\u001b[0m \u001b[0muserName\u001b[0m \u001b[1;33m=\u001b[0m \u001b[0mdynamic\u001b[0m\u001b[1;33m.\u001b[0m\u001b[0m_GetGoodDispatchAndUserName\u001b[0m\u001b[1;33m(\u001b[0m\u001b[0mdispatch\u001b[0m\u001b[1;33m,\u001b[0m\u001b[0muserName\u001b[0m\u001b[1;33m,\u001b[0m\u001b[0mclsctx\u001b[0m\u001b[1;33m)\u001b[0m\u001b[1;33m\u001b[0m\u001b[1;33m\u001b[0m\u001b[0m\n\u001b[0m\u001b[0;32m     96\u001b[0m   \u001b[1;32mreturn\u001b[0m \u001b[0m__WrapDispatch\u001b[0m\u001b[1;33m(\u001b[0m\u001b[0mdispatch\u001b[0m\u001b[1;33m,\u001b[0m \u001b[0muserName\u001b[0m\u001b[1;33m,\u001b[0m \u001b[0mresultCLSID\u001b[0m\u001b[1;33m,\u001b[0m \u001b[0mtypeinfo\u001b[0m\u001b[1;33m,\u001b[0m \u001b[0mclsctx\u001b[0m\u001b[1;33m=\u001b[0m\u001b[0mclsctx\u001b[0m\u001b[1;33m)\u001b[0m\u001b[1;33m\u001b[0m\u001b[1;33m\u001b[0m\u001b[0m\n\u001b[0;32m     97\u001b[0m \u001b[1;33m\u001b[0m\u001b[0m\n",
      "\u001b[1;32m~\\Anaconda3\\lib\\site-packages\\win32com\\client\\dynamic.py\u001b[0m in \u001b[0;36m_GetGoodDispatchAndUserName\u001b[1;34m(IDispatch, userName, clsctx)\u001b[0m\n\u001b[0;32m    112\u001b[0m         \u001b[1;32melse\u001b[0m\u001b[1;33m:\u001b[0m\u001b[1;33m\u001b[0m\u001b[1;33m\u001b[0m\u001b[0m\n\u001b[0;32m    113\u001b[0m                 \u001b[0muserName\u001b[0m \u001b[1;33m=\u001b[0m \u001b[0mstr\u001b[0m\u001b[1;33m(\u001b[0m\u001b[0muserName\u001b[0m\u001b[1;33m)\u001b[0m\u001b[1;33m\u001b[0m\u001b[1;33m\u001b[0m\u001b[0m\n\u001b[1;32m--> 114\u001b[1;33m         \u001b[1;32mreturn\u001b[0m \u001b[1;33m(\u001b[0m\u001b[0m_GetGoodDispatch\u001b[0m\u001b[1;33m(\u001b[0m\u001b[0mIDispatch\u001b[0m\u001b[1;33m,\u001b[0m \u001b[0mclsctx\u001b[0m\u001b[1;33m)\u001b[0m\u001b[1;33m,\u001b[0m \u001b[0muserName\u001b[0m\u001b[1;33m)\u001b[0m\u001b[1;33m\u001b[0m\u001b[1;33m\u001b[0m\u001b[0m\n\u001b[0m\u001b[0;32m    115\u001b[0m \u001b[1;33m\u001b[0m\u001b[0m\n\u001b[0;32m    116\u001b[0m \u001b[1;32mdef\u001b[0m \u001b[0m_GetDescInvokeType\u001b[0m\u001b[1;33m(\u001b[0m\u001b[0mentry\u001b[0m\u001b[1;33m,\u001b[0m \u001b[0minvoke_type\u001b[0m\u001b[1;33m)\u001b[0m\u001b[1;33m:\u001b[0m\u001b[1;33m\u001b[0m\u001b[1;33m\u001b[0m\u001b[0m\n",
      "\u001b[1;32m~\\Anaconda3\\lib\\site-packages\\win32com\\client\\dynamic.py\u001b[0m in \u001b[0;36m_GetGoodDispatch\u001b[1;34m(IDispatch, clsctx)\u001b[0m\n\u001b[0;32m     89\u001b[0m                         \u001b[0mIDispatch\u001b[0m \u001b[1;33m=\u001b[0m \u001b[0mpythoncom\u001b[0m\u001b[1;33m.\u001b[0m\u001b[0mconnect\u001b[0m\u001b[1;33m(\u001b[0m\u001b[0mIDispatch\u001b[0m\u001b[1;33m)\u001b[0m\u001b[1;33m\u001b[0m\u001b[1;33m\u001b[0m\u001b[0m\n\u001b[0;32m     90\u001b[0m                 \u001b[1;32mexcept\u001b[0m \u001b[0mpythoncom\u001b[0m\u001b[1;33m.\u001b[0m\u001b[0mole_error\u001b[0m\u001b[1;33m:\u001b[0m\u001b[1;33m\u001b[0m\u001b[1;33m\u001b[0m\u001b[0m\n\u001b[1;32m---> 91\u001b[1;33m                         \u001b[0mIDispatch\u001b[0m \u001b[1;33m=\u001b[0m \u001b[0mpythoncom\u001b[0m\u001b[1;33m.\u001b[0m\u001b[0mCoCreateInstance\u001b[0m\u001b[1;33m(\u001b[0m\u001b[0mIDispatch\u001b[0m\u001b[1;33m,\u001b[0m \u001b[1;32mNone\u001b[0m\u001b[1;33m,\u001b[0m \u001b[0mclsctx\u001b[0m\u001b[1;33m,\u001b[0m \u001b[0mpythoncom\u001b[0m\u001b[1;33m.\u001b[0m\u001b[0mIID_IDispatch\u001b[0m\u001b[1;33m)\u001b[0m\u001b[1;33m\u001b[0m\u001b[1;33m\u001b[0m\u001b[0m\n\u001b[0m\u001b[0;32m     92\u001b[0m         \u001b[1;32melse\u001b[0m\u001b[1;33m:\u001b[0m\u001b[1;33m\u001b[0m\u001b[1;33m\u001b[0m\u001b[0m\n\u001b[0;32m     93\u001b[0m                 \u001b[1;31m# may already be a wrapped class.\u001b[0m\u001b[1;33m\u001b[0m\u001b[1;33m\u001b[0m\u001b[1;33m\u001b[0m\u001b[0m\n",
      "\u001b[1;31mcom_error\u001b[0m: (-2147221164, '클래스가 등록되지 않았습니다.', None, None)"
     ]
    }
   ],
   "source": [
    "from PyQt5.QtCore import pyqtSlot, pyqtSignal, QObject\n",
    "import win32com.client\n",
    "class Eventhandler:\n",
    "    \n",
    "    def a(self):\n",
    "        print('a')\n",
    "        \n",
    "    @classmethod\n",
    "    def get_instance(cls):\n",
    "        cp_cur = win32com.client.DispatchWithEvents(\"dscbo1.StockCur\", cls)\n",
    "        return cp_cur\n",
    "\n",
    "a = Eventhandler.get_instance()\n",
    "a.a()"
   ]
  },
  {
   "cell_type": "code",
   "execution_count": null,
   "metadata": {},
   "outputs": [],
   "source": [
    "#CREON API REALTIME\n",
    "import sys\n",
    "from PyQt5.QtCore import pyqtSlot, pyqtSignal, QObject\n",
    "import win32com.client\n",
    "class CpMarketEye:\n",
    "    def Request(self, codes, rqField):\n",
    "        objCpCybos = win32com.client.Dispatch(\"CpUtil.CpCybos\")\n",
    "        bConnect = objCpCybos.IsConnect\n",
    "        if(bConnect == 0):\n",
    "            print(\"PLUS가 정상적으로 연결되지 않음.\")\n",
    "            return False\n",
    "        objRq = win32com.client.Dispatch(\"CpSysDib.MarketEye\")\n",
    "        objRq.SetInputValue(0, rqField)\n",
    "        objRq.SetInputValue(1, codes)\n",
    "        #objRq.BlockRequest() #Block mode가 뭐임?\n",
    "        rqStatus = objRq.GetDibStatus()\n",
    "        rqRet = objRq.GetDibMsg1()\n",
    "        print('통신상태' , rqStatus, rqRet)\n",
    "        if rqStatus != 0:\n",
    "            return False\n",
    "        \n",
    "        #종목하나만 넣을거지만, codes자료형이 배열로 되야하는지 아닌지 몰라서 일단 넣음\n",
    "        cnt = objRq.GetHeaderValue(2)\n",
    "        for i in range(cnt):\n",
    "            rpCode = objRq.GetDataValue(0, i)\n",
    "            rpName = objRq.GetDataValue(1, i)\n",
    "            rpTime = objRq.GetDataValue(2,i)\n",
    "            rpCurPrice = objRq.GetDataValue(5,i)\n",
    "            rpVol = objRq.GetDataValue()(6,i)\n",
    "            print(rpCode, rpName, rpTime, rpCurPrice, rpVol)\n",
    "        \n",
    "        return True\n",
    "    \n",
    "class StockCur(QObject):\n",
    "    receive_real_stockcur_signal = pyqtSignal(tuple)\n",
    "    \n",
    "    def set_params(self, client):\n",
    "        self.client = client\n",
    "    \n",
    "    def get_real(self, stockcode):\n",
    "        stockcode = 'A'+stockcode\n",
    "        self.SetInputValue(0, stockcode)\n",
    "        self.Subscribe()\n",
    "    \n",
    "    def stop_real(self, stockcode:str):\n",
    "        stockcode = 'A'+stockcode\n",
    "        self.SetInputValue(0, stockcode)\n",
    "        self.Unsubscribe()\n",
    "    \n",
    "    def OnReceived(self):\n",
    "        code = self.client.GetHeaderValue(0)\n",
    "        name = self.client.GetHeaderValue(1)\n",
    "        ttime = self.client.GetHeaderValue(18)\n",
    "        price = self.client.GetHeaderValue(13)\n",
    "        cVol = self.client.GetHeaderValue(17)\n",
    "        buysell = str(self.client.GetHeaderValue(26)) # 호가방식 체결상태 1:매수, 2:매도\n",
    "        \n",
    "        #treshold 값을 시총을 이용해서 구해주는것도 나쁘지않을듯.\n",
    "        if cVol*price < 1000000: #100만원 이하의 피라미 주문은 안받음.\n",
    "            pass\n",
    "        else:\n",
    "            tick = (code, name, ttime, price, cVol, buysell)\n",
    "            self.receive_real_stockcur_signal.emit(tick)\n",
    "    \n",
    "    @classmethod\n",
    "    def get_instance(cls):\n",
    "        cp_cur = win32com.client.DispatchWithEvents(\"dscbo1.StockCur\", cls)\n",
    "        return cp_cur\n",
    "    \n",
    "    \n",
    "            "
   ]
  },
  {
   "cell_type": "code",
   "execution_count": null,
   "metadata": {},
   "outputs": [],
   "source": [
    "#CREON API TRANSACTION\n",
    "import win32com.client\n",
    "\n",
    "#연결여부 체크\n",
    "objCpCybos = win32com.client.Dispatch(\"CpUtil.CpCybos\")\n",
    "bConnect = ojbCpCybos.IsConnect\n",
    "if (bConnect == 0):\n",
    "    print(\"PLUS가 정상적으로 연결되지 않음.\")\n",
    "    exit()\n",
    "\n",
    "#주문초기화\n",
    "objTrade = win32com.client.Dispatch(\"CpTrade.CpTdUtil\")\n",
    "initCheck = objTrade.TradeInit(0)\n",
    "if (initCheck != 0):\n",
    "    print(\"주문 초기화 실패\")\n",
    "    exit()\n",
    "\n",
    "acc = objTrade.AccountNum[0]\n",
    "accFlag = objTrade.GoodsList(acc, 1)\n",
    "print(acc, accFlag[0])\n",
    "objStockOrder = win32com.client.Dispatch(\"CpTrade.CpTd0311\")\n",
    "objStockOrder.SetInputValue(0, \"2\") #2:매수 1:매도\n",
    "objStockOrder.SetInputValue(1, acc)\n",
    "objStockOrder.SetInputValue(2, accFlag[0])#두번째 인자값 : 1:주식, 2:선옵 16:eurex 64:해선\n",
    "objStockOrder.SetInputValue(3, \"A003540\") #종목코드\n",
    "objStockOrder.SetInputValue(4, 1) #매수수량\n",
    "#objStockOrder.SetInputValue(5, 12400) #주문 단가 입력. 시장가에서 입력 필요X\n",
    "objStockOrder.SetInputValue(7, \"0\") # 0:기본 1:IOC(미체결자동취소) 2:FOK(미체결수량 있으면 전체 취소, 체결안됨)\n",
    "objStockOrder.SetInputValue(8, \"03\") # \"01\" 보통주문 / \"03\" 시장가주문\n",
    "\n",
    "#매수 주문 요청\n",
    "objStockOrder.BlockRequest()\n",
    "rqStatus = objStockOrder.GetDibStatus()\n",
    "rqRet = objStockOrder.GetDibMsg1()\n",
    "print(\"통신상태\", rqStatus, rqRet) # 통신상태 0 0040 모의투자 매수 주문이 완료되었습니다.(ordss.cststkord)\n",
    "if rqStatus != 0:\n",
    "    exit()\n"
   ]
  },
  {
   "cell_type": "code",
   "execution_count": 9,
   "metadata": {},
   "outputs": [],
   "source": [
    "#HyperParameters\n",
    "\n",
    "input_dim = 2 #입력하는 feature 개수\n",
    "#time_interval = 8 #minute. n분 마다 n분 누적 신호 발생. 혹은 lstm cell에서 시계열의 갯수\n",
    "min_transaction_amount = 1000000 # 100만원 미만이면 리시버에서 버퍼로 데이터 안보내게끔.\n",
    "n_cell = 32 # LSTM셀의 개수\n",
    "n_labels = 4 #모델의 결과 값 라벨 수 e.g. n=4, 라벨이 강하락, 약하락, 약상승, 강상승 신호 발생.\n",
    "seq_length = 14 # 모델이 참고 할 이전 분봉의 개수. LSTM/RNN에서\n",
    "lr = 0.003 # 학습률\n",
    "keep_prob = 1.0 #dropout rate\n",
    "n_stacked_layers = 1 # 모델의 레이어 개수\n",
    "n_epochs = 1000 # 학습횟수. 얼리스타핑 넣을까말까\n",
    "n_batch_size = 32 #학습 배치 사이즈\n",
    "model_path = None"
   ]
  },
  {
   "cell_type": "code",
   "execution_count": null,
   "metadata": {},
   "outputs": [],
   "source": [
    "# DataLoading on API\n",
    "# API에서 필요한 데이터를 가져오는 부분.\n",
    "# 트레이딩 알고리즘에 실시간으로 전송할 데이터를 가져오는 함수 필요\n",
    "# 모델 학습 및 테스팅 데이터 가져오는 부분은 다른 코드에서 따로 가져오기...바랍니다... 아님 여기다 넣어도 되고..\n",
    "\n",
    "class DataReciever:\n",
    "    def __init__(self, stockCode, buffer):\n",
    "        self.api = CreonAPI.get_instance()\n",
    "        self.stockCode = stockCode\n",
    "        self.buffer = buffer#??? 버퍼와 데이터리시버는 상호참조? 혹은 리시버 has 버퍼\n",
    "    \n",
    "    #데이터를 불러올 때마다 발생\n",
    "    def on_LoadData(self):\n",
    "        self.buffer.add(api.data???)#??? 이부분은 구체적으로 api가 어떻게 이벤트를 발생시키는지 모르겠네요 아직\n",
    "        #버퍼로 데이터 전달할 때, 받아온 체결 데이터에서 threshold를 min_transaction_amount / 체결가 만큼 넣어주면 좋을거같아요.\n",
    "        #이렇게 하면 100만원 이하로 구매한 매매체결은 버퍼에 안들어가서 노이즈를 줄일 수 있을것 같습니다.\n",
    "        pass\n",
    "    \n",
    "    # 데이터 발생 시 마다 버퍼가 데이터를 자동으로 받음.\n",
    "    #def emitData(self):"
   ]
  },
  {
   "cell_type": "code",
   "execution_count": null,
   "metadata": {},
   "outputs": [],
   "source": [
    "# Data Preprocessing for Predicting\n",
    "# 실제 트레이딩 시, API에서 받아온 실시간 데이터를 버퍼에 넣기 전까지 전처리 하는 과정\n",
    "# 데이터가 버퍼에 들어가기 전에 여기서 다듬고 나서 보내준다.\n",
    "# 데이터 리시버가 이 클래스를 소유하고, 다듬은 다음 버퍼로 쏴주면 될듯? 아니면 버퍼가 프리프로세서를 소유해도 될듯."
   ]
  },
  {
   "cell_type": "code",
   "execution_count": null,
   "metadata": {},
   "outputs": [],
   "source": [
    "# Data Preprocessing for Training\n",
    "# API에서 받아온 대용량 데이터를 모델 학습을 위해 인풋과 라벨값이 있는 지도학습 데이터로 바꿔주는 부분은 다른 곳에서 직접 짜기."
   ]
  },
  {
   "cell_type": "code",
   "execution_count": null,
   "metadata": {},
   "outputs": [],
   "source": [
    "# Data Buffer\n",
    "# API에서 받아온 데이터가 전처리 되어 저장되는 공간.\n",
    "class DataBuffer:\n",
    "    def __init__(self, stockcode):\n",
    "        self.stockcode = stockcode\n",
    "        self.q = queue.Queue(maxsize = seq_length)\n",
    "        self.stockcur = StockCur.get_instance()\n",
    "        self.stockcur.receive_real_stockcur_signal.connect(self.__receive_real_stockcur)\n",
    "    \n",
    "  \n",
    "        \n",
    "    def add(self,data):\n",
    "        #여기다가 데이터 전처리 부분 넣을까말까\n",
    "        \n",
    "        if self.q.full():#q가 가득차면\n",
    "            self.q.get()# 하나 꺼내고\n",
    "            self.q.put(data)# 신규 데이터 넣고\n",
    "        else:\n",
    "            self.q.put(data)\n",
    "            \n",
    "    #모인 데이터를 df 형식으로 쏴준다.\n",
    "    def convert_to_DF(self):\n",
    "        return pd.DataFrame(list(self.q.queue))\n",
    "    \n",
    "    @pyqtSlot(tuple)\n",
    "    def __receive_real_stockcur(self, tick: tuple):\n",
    "        self.add(str(tick))\n",
    "    \n",
    "    if __name__ == \"__main__\":\n",
    "        _ = Buffer(\"005930\")\n",
    "        _.subscribe()\n",
    "    #Queue를 만들고 Queue가 갱신(새 데이터가 들어옴)될 때 마다 모델에 데이터 전송"
   ]
  },
  {
   "cell_type": "code",
   "execution_count": null,
   "metadata": {},
   "outputs": [],
   "source": [
    "# Data Seperating ( Training / Validating / Testing)\n",
    "# 학습용 데이터 전처리 과정에서 받아온 데이터를 트레이닝 밸리데이팅 테스팅 데이터로 나누는 부분\n",
    "\n",
    "from sklearn.model_selection import train_test_split\n",
    "testSize = 0.3 #전체 데이터에서 테스트 데이터의 크기\n",
    "x_train, x_test, y_train, y_test = train_test_split(preprocessed_Data, \n",
    "                                                    preprocessed_Data['Label'], \n",
    "                                                    test_size = testSize, \n",
    "                                                    random_state=13)\n"
   ]
  },
  {
   "cell_type": "code",
   "execution_count": 149,
   "metadata": {},
   "outputs": [
    {
     "data": {
      "text/plain": [
       "array([[[  1],\n",
       "        [ 23],\n",
       "        [ 14],\n",
       "        [ 14],\n",
       "        [ 14],\n",
       "        [ 14],\n",
       "        [214],\n",
       "        [ 12],\n",
       "        [ 41],\n",
       "        [ 12],\n",
       "        [  4],\n",
       "        [214],\n",
       "        [  1],\n",
       "        [ 42]]])"
      ]
     },
     "execution_count": 149,
     "metadata": {},
     "output_type": "execute_result"
    }
   ],
   "source": [
    "np.asarray([np.asarray([[1,23,14,14,14,14,214,12,41,12,4,214,1,42]]).T,])"
   ]
  },
  {
   "cell_type": "code",
   "execution_count": 131,
   "metadata": {
    "scrolled": false
   },
   "outputs": [
    {
     "data": {
      "text/plain": [
       "array([[[  1],\n",
       "        [ 23],\n",
       "        [ 14],\n",
       "        [ 14],\n",
       "        [ 14],\n",
       "        [ 14],\n",
       "        [214],\n",
       "        [ 12],\n",
       "        [ 41],\n",
       "        [ 12],\n",
       "        [  4],\n",
       "        [214],\n",
       "        [  1],\n",
       "        [ 42]],\n",
       "\n",
       "       [[  1],\n",
       "        [ 23],\n",
       "        [ 14],\n",
       "        [ 14],\n",
       "        [ 14],\n",
       "        [ 14],\n",
       "        [214],\n",
       "        [ 12],\n",
       "        [ 41],\n",
       "        [ 12],\n",
       "        [  4],\n",
       "        [214],\n",
       "        [  1],\n",
       "        [ 42]],\n",
       "\n",
       "       [[  1],\n",
       "        [ 23],\n",
       "        [ 14],\n",
       "        [ 14],\n",
       "        [ 14],\n",
       "        [ 14],\n",
       "        [214],\n",
       "        [ 12],\n",
       "        [ 41],\n",
       "        [ 12],\n",
       "        [  4],\n",
       "        [214],\n",
       "        [  1],\n",
       "        [ 42]]])"
      ]
     },
     "execution_count": 131,
     "metadata": {},
     "output_type": "execute_result"
    }
   ],
   "source": [
    "np.asarray([np.asarray([[1,23,14,14,14,14,214,12,41,12,4,214,1,42]]).T,\n",
    "            np.asarray([[1,23,14,14,14,14,214,12,41,12,4,214,1,42]]).T,\n",
    "            np.asarray([[1,23,14,14,14,14,214,12,41,12,4,214,1,42]]).T,])"
   ]
  },
  {
   "cell_type": "code",
   "execution_count": null,
   "metadata": {},
   "outputs": [],
   "source": [
    "(데이터 샘플의 갯수, 시계열 길이, 피쳐의 갯수)"
   ]
  },
  {
   "cell_type": "code",
   "execution_count": 130,
   "metadata": {},
   "outputs": [
    {
     "data": {
      "text/plain": [
       "array([[1, 2, 3, 4],\n",
       "       [5, 6, 7, 8]])"
      ]
     },
     "execution_count": 130,
     "metadata": {},
     "output_type": "execute_result"
    }
   ],
   "source": [
    "np.asarray(([1,2,3,4], [5,6,7,8]))"
   ]
  },
  {
   "cell_type": "code",
   "execution_count": 121,
   "metadata": {},
   "outputs": [
    {
     "data": {
      "text/plain": [
       "array([1, 2, 3, 4])"
      ]
     },
     "execution_count": 121,
     "metadata": {},
     "output_type": "execute_result"
    }
   ],
   "source": [
    "np.asarray([1,2,3,4])"
   ]
  },
  {
   "cell_type": "code",
   "execution_count": 127,
   "metadata": {},
   "outputs": [
    {
     "data": {
      "text/plain": [
       "array([[1, 2, 3, 4],\n",
       "       [1, 2, 3, 4],\n",
       "       [4, 5, 6, 7]])"
      ]
     },
     "execution_count": 127,
     "metadata": {},
     "output_type": "execute_result"
    }
   ],
   "source": [
    "np.asarray(([1,2,3,4],[1,2,3,4],[4,5,6,7]))"
   ]
  },
  {
   "cell_type": "code",
   "execution_count": 164,
   "metadata": {
    "scrolled": true
   },
   "outputs": [
    {
     "ename": "NameError",
     "evalue": "name 'x_train' is not defined",
     "output_type": "error",
     "traceback": [
      "\u001b[0;31m---------------------------------------------------------------------------\u001b[0m",
      "\u001b[0;31mNameError\u001b[0m                                 Traceback (most recent call last)",
      "\u001b[0;32m<ipython-input-164-bb01a44af6cc>\u001b[0m in \u001b[0;36m<module>\u001b[0;34m\u001b[0m\n\u001b[1;32m     14\u001b[0m \u001b[0mmodel\u001b[0m\u001b[0;34m.\u001b[0m\u001b[0mcompile\u001b[0m\u001b[0;34m(\u001b[0m\u001b[0mloss\u001b[0m\u001b[0;34m=\u001b[0m\u001b[0;34m'mse'\u001b[0m\u001b[0;34m,\u001b[0m \u001b[0moptimizer\u001b[0m\u001b[0;34m=\u001b[0m\u001b[0;34m'adam'\u001b[0m\u001b[0;34m)\u001b[0m\u001b[0;34m\u001b[0m\u001b[0;34m\u001b[0m\u001b[0m\n\u001b[1;32m     15\u001b[0m \u001b[0;31m#어떤 loss func, optimizer를 써야할지, 메트릭스를 써야할지 모르겠다. 일단 나중에 생각하기.\u001b[0m\u001b[0;34m\u001b[0m\u001b[0;34m\u001b[0m\u001b[0;34m\u001b[0m\u001b[0m\n\u001b[0;32m---> 16\u001b[0;31m \u001b[0mhistory\u001b[0m \u001b[0;34m=\u001b[0m \u001b[0mmodel\u001b[0m\u001b[0;34m.\u001b[0m\u001b[0mfit\u001b[0m\u001b[0;34m(\u001b[0m\u001b[0mx\u001b[0m \u001b[0;34m=\u001b[0m \u001b[0mx_train\u001b[0m\u001b[0;34m,\u001b[0m \u001b[0my\u001b[0m \u001b[0;34m=\u001b[0m \u001b[0my_train\u001b[0m\u001b[0;34m,\u001b[0m \u001b[0mbatch_size\u001b[0m\u001b[0;34m=\u001b[0m\u001b[0mn_batch_size\u001b[0m\u001b[0;34m,\u001b[0m \u001b[0mepochs\u001b[0m \u001b[0;34m=\u001b[0m \u001b[0mn_epochs\u001b[0m\u001b[0;34m,\u001b[0m \u001b[0mvalidation_split\u001b[0m\u001b[0;34m=\u001b[0m\u001b[0;36m0.3\u001b[0m\u001b[0;34m)\u001b[0m\u001b[0;34m\u001b[0m\u001b[0;34m\u001b[0m\u001b[0m\n\u001b[0m\u001b[1;32m     17\u001b[0m \u001b[0;31m#밸리데이션셋은 이전 단계에서 햇음. 데이터를 트레인 테스트로 8:2로 나눈다음 8을\u001b[0m\u001b[0;34m\u001b[0m\u001b[0;34m\u001b[0m\u001b[0;34m\u001b[0m\u001b[0m\n\u001b[1;32m     18\u001b[0m \u001b[0;31m#5.6 : 2.4로 트레인 : 밸릳 데이터로 나눔.\u001b[0m\u001b[0;34m\u001b[0m\u001b[0;34m\u001b[0m\u001b[0;34m\u001b[0m\u001b[0m\n",
      "\u001b[0;31mNameError\u001b[0m: name 'x_train' is not defined"
     ]
    }
   ],
   "source": [
    "# Model Training & Saving\n",
    "# 모델 생성 및 학습. 결과 저장\n",
    "\n",
    "\"\"\"모델 라벨값은 총 4개. 0,1,2,3 으로 라벨링하고 \n",
    "0(강 하락)에 매도, 1(약 하락), 2(약 상승)에 홀드or관망, 3(강 상승)에 매수\"\"\"\n",
    "\n",
    "from keras import metrics\n",
    "\n",
    "model = Sequential()\n",
    "for i in range(n_stacked_layers):\n",
    "    model.add(LSTM(n_cell, input_shape=(seq_length, input_dim), activation='sigmoid',weights=None))\n",
    "model.add(Dense(4, activation='softmax'))\n",
    "\n",
    "model.compile(loss='mse', optimizer='adam')\n",
    "#어떤 loss func, optimizer를 써야할지, 메트릭스를 써야할지 모르겠다. 일단 나중에 생각하기.\n",
    "history = model.fit(x = x_train, y = y_train, batch_size=n_batch_size, epochs = n_epochs, validation_split=0.3)\n",
    "#밸리데이션셋은 이전 단계에서 햇음. 데이터를 트레인 테스트로 8:2로 나눈다음 8을 \n",
    "#5.6 : 2.4로 트레인 : 밸릳 데이터로 나눔.\n",
    "\n",
    "#모델 저장\n",
    "model_path = f\"./model_{datetime.datetime.now().strftime('%m%d_%H%M%S')}.h5\"\n",
    "model.save(model_path)\n",
    "import matplotlib.pyplot as plt\n",
    "plt.plot(history.losses)\n",
    "plt.ylabel('loss')\n",
    "plt.xlabel('epoch')\n",
    "plt.legend(['train'], loc='upper left')\n",
    "plt.show()\n",
    "\n",
    "#model.evaluate()\n",
    "#model.save()"
   ]
  },
  {
   "cell_type": "code",
   "execution_count": null,
   "metadata": {},
   "outputs": [],
   "source": [
    "np.asarray([np.asarray([[1,23,14,14,14,14,214,12,41,12,4,214,1,42]]).T"
   ]
  },
  {
   "cell_type": "code",
   "execution_count": 150,
   "metadata": {
    "scrolled": false
   },
   "outputs": [
    {
     "data": {
      "text/plain": [
       "array([[4.0882558e-05, 3.9941187e-05, 7.8973483e-04, 9.9912947e-01]],\n",
       "      dtype=float32)"
      ]
     },
     "execution_count": 150,
     "metadata": {},
     "output_type": "execute_result"
    }
   ],
   "source": [
    "model.predict(np.asarray([np.asarray([[1,23,14,14,14,14,214,12,41,12,4,214,1,42]]).T,]))"
   ]
  },
  {
   "cell_type": "code",
   "execution_count": 151,
   "metadata": {},
   "outputs": [],
   "source": [
    "a = [4.0882558e-05, 3.9941187e-05, 7.8973483e-04, 9.9912947e-01]"
   ]
  },
  {
   "cell_type": "code",
   "execution_count": 156,
   "metadata": {},
   "outputs": [],
   "source": [
    "a= np.asarray(a)"
   ]
  },
  {
   "cell_type": "code",
   "execution_count": 163,
   "metadata": {},
   "outputs": [
    {
     "data": {
      "text/plain": [
       "array([0.   , 0.   , 0.001, 0.999])"
      ]
     },
     "execution_count": 163,
     "metadata": {},
     "output_type": "execute_result"
    }
   ],
   "source": [
    "a.round(3)"
   ]
  },
  {
   "cell_type": "code",
   "execution_count": 78,
   "metadata": {},
   "outputs": [
    {
     "data": {
      "text/plain": [
       "0.999999968365"
      ]
     },
     "execution_count": 78,
     "metadata": {},
     "output_type": "execute_result"
    }
   ],
   "source": [
    "np.asarray(a).sum()"
   ]
  },
  {
   "cell_type": "code",
   "execution_count": null,
   "metadata": {},
   "outputs": [],
   "source": []
  },
  {
   "cell_type": "code",
   "execution_count": null,
   "metadata": {},
   "outputs": [],
   "source": [
    "# Model Testing(생략가능)\n",
    "# 테스팅 데이터로 모델 테스트.\n",
    "# 목표 Loss 값이 될 때 까지 전 단계(생성/학습) 반복\n",
    "# 한 칸 위 코드를 모듈화해서 하이퍼파라미터 그리드 서치 후 최고 점수 모델 저장."
   ]
  },
  {
   "cell_type": "code",
   "execution_count": null,
   "metadata": {},
   "outputs": [],
   "source": [
    "# Trading with Trained Model\n",
    "# 모델이 발생시킨 신호를 판단하여 API에 매매 요청.\n",
    "class Trader:\n",
    "    def __init__(self, logger):\n",
    "        self.logger = logger\n",
    "    \n",
    "    def buy(self,):\n",
    "        self.logger.addLog(\"buy\", n_buy, buy_price, account_balance)\n",
    "        pass\n",
    "        \n",
    "    def sell(self,):\n",
    "        pass\n",
    "    \n",
    "    def action(self, sign):\n",
    "        if sign == 0:\n",
    "            if 계좌에 포지션이 존재하는 경우:\n",
    "                self.sell()\n",
    "            elif 계좌에 포지션이 없는 경우:\n",
    "                pass # 로그 찍기(\"매도신호 발생. 포지션 없음.\" 이런식으로)\n",
    "        elif sign == 3:\n",
    "            if 계좌에 현금이 있는 경우:\n",
    "                self.buy()\n",
    "            elif 계좌에 현금이 없는 경우:\n",
    "                pass\n",
    "            "
   ]
  },
  {
   "cell_type": "code",
   "execution_count": null,
   "metadata": {},
   "outputs": [],
   "source": [
    "import sys\n",
    "from PyQt5.QtWidgets import *\n",
    "import win32com.client\n",
    "\n",
    "# Trading with Trained Model\n",
    "# 모델이 발생시킨 신호를 판단하여 API에 매매 요청.\n",
    "class Trader:\n",
    "    #CREON API TRANSACTION\n",
    "    def stockorder(order):\n",
    "        #연결여부 체크\n",
    "        objCpCybos = win32com.client.Dispatch(\"CpUtil.CpCybos\")\n",
    "        bConnect = ojbCpCybos.IsConnect\n",
    "        if (bConnect == 0):\n",
    "            print(\"PLUS가 정상적으로 연결되지 않음.\")\n",
    "            exit()\n",
    "\n",
    "        #주문초기화\n",
    "        objTrade = win32com.client.Dispatch(\"CpTrade.CpTdUtil\")\n",
    "        initCheck = objTrade.TradeInit(0)\n",
    "        if (initCheck != 0):\n",
    "            print(\"주문 초기화 실패\")\n",
    "            exit()\n",
    "\n",
    "        acc = objTrade.AccountNum[0]\n",
    "        accFlag = objTrade.GoodsList(acc, 1)\n",
    "        print(acc, accFlag[0])\n",
    "        objStockOrder = win32com.client.Dispatch(\"CpTrade.CpTd0311\")\n",
    "        objStockOrder.SetInputValue(0, order) #order 2:매수 1:매도\n",
    "        objStockOrder.SetInputValue(1, acc)\n",
    "        objStockOrder.SetInputValue(2, accFlag[0])#두번째 인자값 : 1:주식, 2:선옵 16:eurex 64:해선\n",
    "        objStockOrder.SetInputValue(3, \"A003540\") #종목코드\n",
    "        objStockOrder.SetInputValue(4, 1) #매수수량\n",
    "        #objStockOrder.SetInputValue(5, 12400) #주문 단가 입력. 시장가에서 입력 필요X\n",
    "        objStockOrder.SetInputValue(7, \"0\") # 0:기본 1:IOC(미체결자동취소) 2:FOK(미체결수량 있으면 전체 취소, 체결안됨)\n",
    "        objStockOrder.SetInputValue(8, \"03\") # \"01\" 보통주문 / \"03\" 시장가주문\n",
    "\n",
    "        #매수 주문 요청\n",
    "        objStockOrder.BlockRequest()\n",
    "        \n",
    "        rqStatus = objStockOrder.GetDibStatus()\n",
    "        rqRet = objStockOrder.GetDibMsg1()\n",
    "        print(\"통신상태\", rqStatus, rqRet) # 통신상태 0 0040 모의투자 매수 주문이 완료되었습니다.(ordss.cststkord)\n",
    "        if rqStatus != 0:\n",
    "            exit()\n",
    "            \n",
    "        #주문 내역\n",
    "        order_num = objStockOrder.GetHeaderValue(8)              # 주문번호\n",
    "        print(\"주문번호: \", order_num, \" >> 주문 완료\")\n",
    "        \n",
    "        #체결 내역\n",
    "        conclusion = win32com.client.Dispatch(\"DsCbo1.CpConclusion\")\n",
    "        \n",
    "        #conflag = self.client.GetHeaderValue(14)    # 체결 플래그\n",
    "        ordered_num = conclusion.GetHeaderValue(5)      # 체결된 주문번호\n",
    "        amount = conclusion.GetHeaderValue(3)        # 체결 수량\n",
    "        price = conclusion.GetHeaderValue(4)         # 가격\n",
    "        code = conclusion.GetHeaderValue(9)          # 종목코드\n",
    "        \n",
    "        if(order == \"1\"):\n",
    "            print( \"주문번호: \", ordered_num, \", 체결 수량: \", amount, \", 체결 가격: \", price, \", 종목코드: \", code , \" >> 매도 완료\")\n",
    "        elif(order == \"2\"):\n",
    "            print( \"주문번호: \", ordered_num, \", 체결 수량: \", amount, \", 체결 가격: \", price, \", 종목코드: \", code , \" >> 매수 완료\")\n",
    "            \n",
    "\n",
    "         \n",
    "    def action(self, sign):\n",
    "        if sign == 0:\n",
    "            if 계좌에 포지션이 존재하는 경우:\n",
    "                self.stockorder(\"1\")\n",
    "            elif 계좌에 포지션이 없는 경우:\n",
    "                print(\"매도신호 발생, 포지션 없음.\")\n",
    "                pass # 로그 찍기(\"매도신호 발생. 포지션 없음.\" 이런식으로)\n",
    "        elif sign == 3:\n",
    "            if 계좌에 현금이 있는 경우:\n",
    "                self.stockorder(\"2\")\n",
    "            elif 계좌에 현금이 없는 경우:\n",
    "                print(\"매수신호 발생, 잔액 부족.\")\n",
    "                pass\n",
    "            "
   ]
  },
  {
   "cell_type": "code",
   "execution_count": null,
   "metadata": {},
   "outputs": [],
   "source": [
    "# Logging\n",
    "# 트레이딩 결과 로깅 및 기초통계량 작성\n",
    "class Logger:\n",
    "    def __init__(self):\n",
    "        self.logs = []\n",
    "    \n",
    "    def addLog(self, *args)\n",
    "        log = []\n",
    "        for i in args:\n",
    "            log.append(i)\n",
    "        now = datetime.datetime.now()\n",
    "        log = str(now) + str(log)\n",
    "        self.logs.append(log)\n",
    "        print(log)\n",
    "    \n",
    "    def saveLogs(self):\n",
    "        with open(f\"./logs_{datetime.datetime.now().strftime('%m%d_%H%M%S')}.txt\", 'w') as f:\n",
    "            for log in self.logs:\n",
    "                f.write(\"%s\\n\" % log)\n",
    "                  \n",
    "    def statistics(self):\n",
    "        pass"
   ]
  },
  {
   "cell_type": "code",
   "execution_count": 2,
   "metadata": {
    "scrolled": true
   },
   "outputs": [
    {
     "name": "stderr",
     "output_type": "stream",
     "text": [
      "/Users/yongcheolkim/opt/anaconda3/lib/python3.7/site-packages/ipykernel_launcher.py:2: ParserWarning: Falling back to the 'python' engine because the 'c' engine does not support regex separators (separators > 1 char and different from '\\s+' are interpreted as regex); you can avoid this warning by specifying engine='python'.\n",
      "  \n"
     ]
    },
    {
     "data": {
      "text/html": [
       "<div>\n",
       "<style scoped>\n",
       "    .dataframe tbody tr th:only-of-type {\n",
       "        vertical-align: middle;\n",
       "    }\n",
       "\n",
       "    .dataframe tbody tr th {\n",
       "        vertical-align: top;\n",
       "    }\n",
       "\n",
       "    .dataframe thead th {\n",
       "        text-align: right;\n",
       "    }\n",
       "</style>\n",
       "<table border=\"1\" class=\"dataframe\">\n",
       "  <thead>\n",
       "    <tr style=\"text-align: right;\">\n",
       "      <th></th>\n",
       "      <th>0</th>\n",
       "      <th>1</th>\n",
       "      <th>2</th>\n",
       "      <th>3</th>\n",
       "      <th>4</th>\n",
       "      <th>5</th>\n",
       "      <th>6</th>\n",
       "      <th>7</th>\n",
       "      <th>8</th>\n",
       "      <th>9</th>\n",
       "      <th>...</th>\n",
       "      <th>66571</th>\n",
       "      <th>66572</th>\n",
       "      <th>66573</th>\n",
       "      <th>66574</th>\n",
       "      <th>66575</th>\n",
       "      <th>66576</th>\n",
       "      <th>66577</th>\n",
       "      <th>66578</th>\n",
       "      <th>66579</th>\n",
       "      <th>66580</th>\n",
       "    </tr>\n",
       "  </thead>\n",
       "  <tbody>\n",
       "    <tr>\n",
       "      <td>0</td>\n",
       "      <td>('000660', '2020060490334', 91200, 91100, 9120...</td>\n",
       "      <td>'000660', '2020060490334', 91200, 91100, 91100...</td>\n",
       "      <td>'000660', '2020060490334', 91200, 91100, 91200...</td>\n",
       "      <td>'000660', '2020060490334', 91200, 91100, 91100...</td>\n",
       "      <td>'000660', '2020060490334', 91200, 91100, 91200...</td>\n",
       "      <td>'000660', '2020060490334', 91200, 91100, 91100...</td>\n",
       "      <td>'000660', '2020060490334', 91200, 91100, 91200...</td>\n",
       "      <td>'000660', '2020060490334', 91200, 91100, 91200...</td>\n",
       "      <td>'000660', '2020060490334', 91200, 91100, 91100...</td>\n",
       "      <td>'000660', '2020060490334', 91200, 91100, 91200...</td>\n",
       "      <td>...</td>\n",
       "      <td>'000660', '20200604151921', 87800, 87700, 8780...</td>\n",
       "      <td>'000660', '20200604151921', 87800, 87700, 8780...</td>\n",
       "      <td>'000660', '20200604151921', 87800, 87700, 8770...</td>\n",
       "      <td>'000660', '20200604151922', 87800, 87700, 8780...</td>\n",
       "      <td>'000660', '20200604151922', 87800, 87700, 8780...</td>\n",
       "      <td>'000660', '20200604151922', 87800, 87700, 8770...</td>\n",
       "      <td>'000660', '20200604151922', 87800, 87700, 8780...</td>\n",
       "      <td>'000660', '20200604151922', 87800, 87700, 8770...</td>\n",
       "      <td>'000660', '20200604151922', 87800, 87700, 8780...</td>\n",
       "      <td>'000660', '20200604151923', 87800, 87700, 8780...</td>\n",
       "    </tr>\n",
       "  </tbody>\n",
       "</table>\n",
       "<p>1 rows × 66581 columns</p>\n",
       "</div>"
      ],
      "text/plain": [
       "                                               0      \\\n",
       "0  ('000660', '2020060490334', 91200, 91100, 9120...   \n",
       "\n",
       "                                               1      \\\n",
       "0  '000660', '2020060490334', 91200, 91100, 91100...   \n",
       "\n",
       "                                               2      \\\n",
       "0  '000660', '2020060490334', 91200, 91100, 91200...   \n",
       "\n",
       "                                               3      \\\n",
       "0  '000660', '2020060490334', 91200, 91100, 91100...   \n",
       "\n",
       "                                               4      \\\n",
       "0  '000660', '2020060490334', 91200, 91100, 91200...   \n",
       "\n",
       "                                               5      \\\n",
       "0  '000660', '2020060490334', 91200, 91100, 91100...   \n",
       "\n",
       "                                               6      \\\n",
       "0  '000660', '2020060490334', 91200, 91100, 91200...   \n",
       "\n",
       "                                               7      \\\n",
       "0  '000660', '2020060490334', 91200, 91100, 91200...   \n",
       "\n",
       "                                               8      \\\n",
       "0  '000660', '2020060490334', 91200, 91100, 91100...   \n",
       "\n",
       "                                               9      ...  \\\n",
       "0  '000660', '2020060490334', 91200, 91100, 91200...  ...   \n",
       "\n",
       "                                               66571  \\\n",
       "0  '000660', '20200604151921', 87800, 87700, 8780...   \n",
       "\n",
       "                                               66572  \\\n",
       "0  '000660', '20200604151921', 87800, 87700, 8780...   \n",
       "\n",
       "                                               66573  \\\n",
       "0  '000660', '20200604151921', 87800, 87700, 8770...   \n",
       "\n",
       "                                               66574  \\\n",
       "0  '000660', '20200604151922', 87800, 87700, 8780...   \n",
       "\n",
       "                                               66575  \\\n",
       "0  '000660', '20200604151922', 87800, 87700, 8780...   \n",
       "\n",
       "                                               66576  \\\n",
       "0  '000660', '20200604151922', 87800, 87700, 8770...   \n",
       "\n",
       "                                               66577  \\\n",
       "0  '000660', '20200604151922', 87800, 87700, 8780...   \n",
       "\n",
       "                                               66578  \\\n",
       "0  '000660', '20200604151922', 87800, 87700, 8770...   \n",
       "\n",
       "                                               66579  \\\n",
       "0  '000660', '20200604151922', 87800, 87700, 8780...   \n",
       "\n",
       "                                               66580  \n",
       "0  '000660', '20200604151923', 87800, 87700, 8780...  \n",
       "\n",
       "[1 rows x 66581 columns]"
      ]
     },
     "execution_count": 2,
     "metadata": {},
     "output_type": "execute_result"
    }
   ],
   "source": [
    "import pandas as pd\n",
    "data = pd.read_csv('./temptemp.txt', sep=\"\\)\\(\", header=None)\n",
    "data"
   ]
  },
  {
   "cell_type": "code",
   "execution_count": 19,
   "metadata": {
    "scrolled": true
   },
   "outputs": [
    {
     "data": {
      "text/plain": [
       "\"'000660', '2020060490334', 91200, 91100, 91100, '2', '2', '-', 909, 519131, 151521, 367163, 4700286, '2'\""
      ]
     },
     "execution_count": 19,
     "metadata": {},
     "output_type": "execute_result"
    }
   ],
   "source": [
    "data[0][1]"
   ]
  },
  {
   "cell_type": "code",
   "execution_count": 34,
   "metadata": {},
   "outputs": [
    {
     "data": {
      "text/plain": [
       "'91100,'"
      ]
     },
     "execution_count": 34,
     "metadata": {},
     "output_type": "execute_result"
    }
   ],
   "source": [
    "data[0][1][41:47]"
   ]
  },
  {
   "cell_type": "code",
   "execution_count": 38,
   "metadata": {},
   "outputs": [
    {
     "data": {
      "text/plain": [
       "\"-'\""
      ]
     },
     "execution_count": 38,
     "metadata": {},
     "output_type": "execute_result"
    }
   ],
   "source": [
    "data[0][1][59:61]"
   ]
  },
  {
   "cell_type": "code",
   "execution_count": 42,
   "metadata": {},
   "outputs": [
    {
     "data": {
      "text/plain": [
       "'909,'"
      ]
     },
     "execution_count": 42,
     "metadata": {},
     "output_type": "execute_result"
    }
   ],
   "source": [
    "data[0][1][63:67]"
   ]
  },
  {
   "cell_type": "code",
   "execution_count": 14,
   "metadata": {},
   "outputs": [],
   "source": [
    "data = data.T[1:-1]"
   ]
  },
  {
   "cell_type": "code",
   "execution_count": 45,
   "metadata": {},
   "outputs": [],
   "source": [
    "for i in range(data.shape[0]):\n",
    "    data['price'] = data[0][41:47]"
   ]
  },
  {
   "cell_type": "code",
   "execution_count": 46,
   "metadata": {},
   "outputs": [
    {
     "data": {
      "text/html": [
       "<div>\n",
       "<style scoped>\n",
       "    .dataframe tbody tr th:only-of-type {\n",
       "        vertical-align: middle;\n",
       "    }\n",
       "\n",
       "    .dataframe tbody tr th {\n",
       "        vertical-align: top;\n",
       "    }\n",
       "\n",
       "    .dataframe thead th {\n",
       "        text-align: right;\n",
       "    }\n",
       "</style>\n",
       "<table border=\"1\" class=\"dataframe\">\n",
       "  <thead>\n",
       "    <tr style=\"text-align: right;\">\n",
       "      <th></th>\n",
       "      <th>0</th>\n",
       "      <th>price</th>\n",
       "    </tr>\n",
       "  </thead>\n",
       "  <tbody>\n",
       "    <tr>\n",
       "      <td>1</td>\n",
       "      <td>'000660', '2020060490334', 91200, 91100, 91100...</td>\n",
       "      <td>NaN</td>\n",
       "    </tr>\n",
       "    <tr>\n",
       "      <td>2</td>\n",
       "      <td>'000660', '2020060490334', 91200, 91100, 91200...</td>\n",
       "      <td>NaN</td>\n",
       "    </tr>\n",
       "    <tr>\n",
       "      <td>3</td>\n",
       "      <td>'000660', '2020060490334', 91200, 91100, 91100...</td>\n",
       "      <td>NaN</td>\n",
       "    </tr>\n",
       "    <tr>\n",
       "      <td>4</td>\n",
       "      <td>'000660', '2020060490334', 91200, 91100, 91200...</td>\n",
       "      <td>NaN</td>\n",
       "    </tr>\n",
       "    <tr>\n",
       "      <td>5</td>\n",
       "      <td>'000660', '2020060490334', 91200, 91100, 91100...</td>\n",
       "      <td>NaN</td>\n",
       "    </tr>\n",
       "    <tr>\n",
       "      <td>...</td>\n",
       "      <td>...</td>\n",
       "      <td>...</td>\n",
       "    </tr>\n",
       "    <tr>\n",
       "      <td>66575</td>\n",
       "      <td>'000660', '20200604151922', 87800, 87700, 8780...</td>\n",
       "      <td>NaN</td>\n",
       "    </tr>\n",
       "    <tr>\n",
       "      <td>66576</td>\n",
       "      <td>'000660', '20200604151922', 87800, 87700, 8770...</td>\n",
       "      <td>NaN</td>\n",
       "    </tr>\n",
       "    <tr>\n",
       "      <td>66577</td>\n",
       "      <td>'000660', '20200604151922', 87800, 87700, 8780...</td>\n",
       "      <td>NaN</td>\n",
       "    </tr>\n",
       "    <tr>\n",
       "      <td>66578</td>\n",
       "      <td>'000660', '20200604151922', 87800, 87700, 8770...</td>\n",
       "      <td>NaN</td>\n",
       "    </tr>\n",
       "    <tr>\n",
       "      <td>66579</td>\n",
       "      <td>'000660', '20200604151922', 87800, 87700, 8780...</td>\n",
       "      <td>NaN</td>\n",
       "    </tr>\n",
       "  </tbody>\n",
       "</table>\n",
       "<p>66579 rows × 2 columns</p>\n",
       "</div>"
      ],
      "text/plain": [
       "                                                       0 price\n",
       "1      '000660', '2020060490334', 91200, 91100, 91100...   NaN\n",
       "2      '000660', '2020060490334', 91200, 91100, 91200...   NaN\n",
       "3      '000660', '2020060490334', 91200, 91100, 91100...   NaN\n",
       "4      '000660', '2020060490334', 91200, 91100, 91200...   NaN\n",
       "5      '000660', '2020060490334', 91200, 91100, 91100...   NaN\n",
       "...                                                  ...   ...\n",
       "66575  '000660', '20200604151922', 87800, 87700, 8780...   NaN\n",
       "66576  '000660', '20200604151922', 87800, 87700, 8770...   NaN\n",
       "66577  '000660', '20200604151922', 87800, 87700, 8780...   NaN\n",
       "66578  '000660', '20200604151922', 87800, 87700, 8770...   NaN\n",
       "66579  '000660', '20200604151922', 87800, 87700, 8780...   NaN\n",
       "\n",
       "[66579 rows x 2 columns]"
      ]
     },
     "execution_count": 46,
     "metadata": {},
     "output_type": "execute_result"
    }
   ],
   "source": [
    "data"
   ]
  },
  {
   "cell_type": "code",
   "execution_count": null,
   "metadata": {},
   "outputs": [],
   "source": [
    "# System Trading w/ Model(MAIN LOOP)\n",
    "\n",
    "#Instance Init\n",
    "buffer = DataBuffer() # 데이터 버퍼\n",
    "dataReciever = DataReciever('005930', buffer) # API에서 데이터 리시버\n",
    "model = model.load(model_path)#모델 로드\n",
    "logger = Logger()\n",
    "trader = Trader(logger)\n",
    "\n",
    "#완성된 모듈을 인스턴스화 하여 변수에 할당하고\n",
    "#각 각의 루틴(데이터루틴, 시그널루틴/매매루틴)이 인스턴스를 참조하여 트레이딩 구현\n",
    "\n",
    "\"\"\"\n",
    "루틴1 :리시버가 API로부터 데이터를 받아올 때마다 버퍼에 (발생한)데이터를 전송하는 코드를 짜야합니당..\n",
    "이 부분을 비동기 처리 해준다음(이때 버퍼의 데이터는 이 루틴에서 조작됨), 버퍼의 데이터를 받아와서\n",
    "모델에 넣고 \"\"\"\n",
    "async def a(n):\n",
    "    await asyncio.sleep(1)\n",
    "    pass\n",
    "\n",
    "async def b():\n",
    "    pass\n",
    "\n",
    "async def c():\n",
    "    pass\n",
    "\n",
    "routines = [a(3), b(), c()]\n",
    "\n",
    "async def main():\n",
    "    await asyncio.wait(routines)\n",
    "\n",
    "\n",
    "if __name__ == \"__main__\":\n",
    "    asyncio.run(main())\n",
    "    "
   ]
  },
  {
   "cell_type": "markdown",
   "metadata": {},
   "source": [
    "## 프로그램 한계점\n",
    "#### 1개 종목에 대해서만 감시하고 매매 할 수 있게 되어있음.\n",
    "#### 나중에 필요시 알고리즘을 여러개 띄우거나 여러 종목에 대해서 트레이딩하도록 구현 필요\n",
    "#### 트레이딩 종목 선정 구현 안되어있음\n",
    "#### 매매수량 결정에 대한 알고리즘 없음\n",
    "#### 모델이 핏 되지 않음.\n",
    "#### 동호가 예외처리 되지않아서 9:00-15:19 까지만 사용 가능.\n",
    "#### 데이터 피처 엔지니어링을 잘 안함.."
   ]
  }
 ],
 "metadata": {
  "kernelspec": {
   "display_name": "Python 3",
   "language": "python",
   "name": "python3"
  },
  "language_info": {
   "codemirror_mode": {
    "name": "ipython",
    "version": 3
   },
   "file_extension": ".py",
   "mimetype": "text/x-python",
   "name": "python",
   "nbconvert_exporter": "python",
   "pygments_lexer": "ipython3",
   "version": "3.7.4"
  }
 },
 "nbformat": 4,
 "nbformat_minor": 2
}
