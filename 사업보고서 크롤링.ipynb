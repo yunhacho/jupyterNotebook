{
 "cells": [
  {
   "cell_type": "code",
   "execution_count": 1,
   "metadata": {},
   "outputs": [],
   "source": [
    "#Importing requests to read json later...\n",
    "import requests\n",
    "import pandas as pd\n",
    "#Need to import lxml in order to get the xpath of a dcm_no \n",
    "from lxml import html\n",
    "#Just in case we need RegEx...\n",
    "import re\n",
    "\n",
    "%load_ext autoreload\n",
    "%autoreload 2\n",
    "\n",
    "from utils import *\n",
    "\n",
    "from subprocess import call\n",
    "\n",
    "from fake_useragent import UserAgent"
   ]
  },
  {
   "cell_type": "code",
   "execution_count": 2,
   "metadata": {},
   "outputs": [],
   "source": [
    "API_KEY ='497529aadabb6a641000b2bfd05b17dc98c4cd28'"
   ]
  },
  {
   "cell_type": "code",
   "execution_count": 3,
   "metadata": {},
   "outputs": [],
   "source": [
    "#Read the Excel that includes official company information, while making sure that the company code is read as a string, not an integer (since integer values delete the zeros in front)\n",
    "#회사 정보가 들어있는 엑셀을 읽어오되, 종목코드는 int가 아닌 str로 가져와야 합니다 (안 그러면 앞의 0이 지워져서 나오게 돼요)\n",
    "#Excel source: http://kind.krx.co.kr/corpgeneral/corpList.do?method=loadInitPage\n",
    "company_codes = pd.read_excel('company_codes.xlsx',converters={'종목코드':str})"
   ]
  },
  {
   "cell_type": "code",
   "execution_count": 4,
   "metadata": {},
   "outputs": [
    {
     "name": "stdout",
     "output_type": "stream",
     "text": [
      "Please write company name here | 회사명을 입력해주세요: 삼성전자\n"
     ]
    }
   ],
   "source": [
    "#Get input from user on company name\n",
    "#회사명 입력란을 만들어요\n",
    "name_input = input('Please write company name here | 회사명을 입력해주세요: ')"
   ]
  },
  {
   "cell_type": "code",
   "execution_count": 5,
   "metadata": {},
   "outputs": [
    {
     "name": "stdout",
     "output_type": "stream",
     "text": [
      "Company name | 회사명: 삼성전자\n",
      "Company code | 종목코드: 005930\n"
     ]
    }
   ],
   "source": [
    "#If there is not an exact match, the system pauses. \n",
    "#입력된 회사명이 없으면 진행이 안돼요\n",
    "#CAVEAT: There are company names that are also a portion of another company name (like CJ vs. CJ오쇼핑) - this simple seach program cannot find CJ오쇼핑 when only CJ is inputted. \n",
    "#CAVEAT: CJ같이 단독으로도 회사명이 존재하지만 CJ오쇼핑 같이 이게 포함된 회사명이 있는 경우, 찾아주지는 못합니다\n",
    "while len(company_codes[company_codes.회사명 ==  name_input]) == 0:\n",
    "    print('The company name entered does not exist. | 해당 이름의 회사명이 존재하지 않습니다. \\nPlease find below for suggestions and re-type the company name | 아래 회사명 중 하나를 찾으시나요? 다시 입력해주세요.\\n')\n",
    "    for row in company_codes.회사명:\n",
    "        if row.find(name_input) != -1:\n",
    "            print(row)\n",
    "    name_input = input()\n",
    "code = company_codes[company_codes.회사명 == name_input].종목코드.iloc[0]\n",
    "print(\"Company name | 회사명: \"+name_input+\"\\nCompany code | 종목코드: \"+code)"
   ]
  },
  {
   "cell_type": "code",
   "execution_count": 6,
   "metadata": {},
   "outputs": [],
   "source": [
    "#Start year is set as 1956, which is the year when the first company went public\n",
    "#시작날짜는 최초의 기업이 상장한 날짜인 1956년 3월보다 이전으로 잡았습니다\n",
    "start_date = '19560101'\n",
    "#Document type: Annual report (사업보고서)\n",
    "bsn_tp = 'A001'"
   ]
  },
  {
   "cell_type": "code",
   "execution_count": 7,
   "metadata": {},
   "outputs": [],
   "source": [
    "url = \"http://dart.fss.or.kr/api/search.json?auth=\"+API_KEY+\"&crp_cd=\"+code+\"&start_dt=\"+start_date+\"&bsn_tp=\"+bsn_tp+\"&fin_rpt=Y&page_set=100\""
   ]
  },
  {
   "cell_type": "code",
   "execution_count": 8,
   "metadata": {},
   "outputs": [],
   "source": [
    "ua = UserAgent()\n",
    "headers = {'User-Agent':ua.chrome}"
   ]
  },
  {
   "cell_type": "code",
   "execution_count": 9,
   "metadata": {},
   "outputs": [],
   "source": [
    "#Extract json values\n",
    "#json 값을 추출합시다\n",
    "a = requests.get(url,headers=headers).json()"
   ]
  },
  {
   "cell_type": "code",
   "execution_count": 10,
   "metadata": {},
   "outputs": [],
   "source": [
    "\n",
    "#Let's see if the list per report is generated properly. If there are no annual reports to start with, the rest of the program will be useless. \n",
    "#각 사업보고서 당 리스트가 제대로 생성되는 지 봅시다. 하나도 없으면 코드 돌려봤자 아무것도 다운 안 됨\n",
    "urldict = {}\n",
    "for row in a['list']:\n",
    "    url2 = \"http://dart.fss.or.kr/dsaf001/main.do?rcpNo=\"\n",
    "    name = row['rpt_nm']\n",
    "    #Getting rid of the pre-amble that's irrelevant\n",
    "    #[기재정정] [첨부추가] [첨부정정] 등 앞에 붙은 것을 제거해봅시다\n",
    "    if name.find('[') != -1:\n",
    "        name = name.split(']')[1]\n",
    "    urldict[name] = url2+row['rcp_no']\n",
    "    print(name+\": \"+url2+row['rcp_no'])"
   ]
  },
  {
   "cell_type": "code",
   "execution_count": 11,
   "metadata": {},
   "outputs": [],
   "source": [
    "#Setting up counter\n",
    "#카운터 선정\n",
    "n=1\n",
    "\n",
    "for key, value in urldict.items(): \n",
    "    #We need to know a value called \"dcm_no\" in order to access the link, but there is no way to get it other than scraping the html of the page and getting the appropriate xpath\n",
    "    #dcm_no 값을 알아야 다운로드 링크에 접근할 수 있는데, 알 방법이 링크에서 바로 가져오는 방법밖에 없으므로 xpath을 활용해서 알아봅시다\n",
    "    test = requests.get(value, headers=headers)\n",
    "    tree = html.fromstring(test.content)\n",
    "    testpath = tree.xpath('//*[@id=\"north\"]/div[2]/ul/li[1]/a/@onclick')[0]\n",
    "    dcm_no = dcm_no = testpath.split(\", '\")[1].split(\"')\")[0]\n",
    "    \n",
    "    #The url format is slightly different for attachments... below is code to add the needed elements\n",
    "    #다운로드를 위한 url은 보고서 url과 차이점이 몇 가지 있는데, replace를 통해 추가할 수 있어요\n",
    "    download_url = value.replace('dsaf001','pdf/download').replace('rcpNo','rcp_no')+\"&dcm_no=\"+dcm_no\n",
    "    print(key+\" \"+download_url+\" Downloading... \"+str(n)+\" out of \"+str(len(urldict)))\n",
    "    \n",
    "    #Extract the attachment download url, same way we got the dcm_no\n",
    "    #dcm_no를 구했던 것과 같은 방법으로 첨부파일 다운로드 url을 추출합니다\n",
    "    dtest = requests.get(download_url, headers=headers)\n",
    "    dtree = html.fromstring(dtest.text)\n",
    "    \n",
    "    #There are multiple attachment files per report; we used a dict called downloadpath to save the file with the name on screen\n",
    "    #각 보고서 당 복수의 첨부파일이 존재하는데, 첨부파일 이름과 함께 저장하기 위해 downloadpath라는 dict를 사용했습니다\n",
    "    downloadpath={}\n",
    "    keys = dtree.xpath('/html/body/div/div/table/tr/td[1]/text()')\n",
    "    key_links = dtree.xpath('/html/body/div/div/table/tr/td/a/@href')\n",
    "    for key2, link in zip(keys, key_links):\n",
    "        l = \"http://dart.fss.or.kr\"+link\n",
    "        k = key2.replace(\")\",\"\")\n",
    "        downloadpath[k] = l\n",
    "        \n",
    "    #Using download_file in utils, create a directory and put the file in\n",
    "    #utils에 있는 download_file을 이용해 디렉토리를 만들고 그 안에다가 파일을 집어넣습니다\n",
    "    for key2, link in downloadpath.items():\n",
    "        download_file(link,filename=key2,directory=\"dart_\"+name_input+\"/\"+key)\n",
    "        #try:\n",
    "            #os.mkdir(key)\n",
    "        #except:\n",
    "            #pass\n",
    "        #call(['curl',link,'-o',key+'/'+key2])\n",
    "    n+=1"
   ]
  },
  {
   "cell_type": "code",
   "execution_count": 12,
   "metadata": {},
   "outputs": [
    {
     "name": "stdout",
     "output_type": "stream",
     "text": [
      "File download complete. Would you like to open the file explorer to check? (y/n) | 파일 다운로드가 완료되었습니다. 파일 탐색기를 열어 확인하시겠습니까? (y/n)  y\n"
     ]
    }
   ],
   "source": [
    "\n",
    "yesno = input('File download complete. Would you like to open the file explorer to check? (y/n) | 파일 다운로드가 완료되었습니다. 파일 탐색기를 열어 확인하시겠습니까? (y/n)  ')\n",
    "\n",
    "if yesno.startswith('y'):\n",
    "    call(['explorer','dart_'+name_input])"
   ]
  },
  {
   "cell_type": "code",
   "execution_count": null,
   "metadata": {},
   "outputs": [],
   "source": []
  },
  {
   "cell_type": "code",
   "execution_count": null,
   "metadata": {},
   "outputs": [],
   "source": []
  }
 ],
 "metadata": {
  "kernelspec": {
   "display_name": "Python 3",
   "language": "python",
   "name": "python3"
  },
  "language_info": {
   "codemirror_mode": {
    "name": "ipython",
    "version": 3
   },
   "file_extension": ".py",
   "mimetype": "text/x-python",
   "name": "python",
   "nbconvert_exporter": "python",
   "pygments_lexer": "ipython3",
   "version": "3.7.4"
  }
 },
 "nbformat": 4,
 "nbformat_minor": 2
}
