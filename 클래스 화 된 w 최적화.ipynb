{
 "cells": [
  {
   "cell_type": "code",
   "execution_count": 2,
   "metadata": {},
   "outputs": [],
   "source": [
    "#Import Packages\n",
    "\n",
    "import numpy as np\n",
    "from numpy import random as rd\n",
    "from pykrx import stock\n",
    "import scipy as sp\n",
    "import pandas as pd\n",
    "from scipy import optimize"
   ]
  },
  {
   "cell_type": "code",
   "execution_count": 55,
   "metadata": {},
   "outputs": [],
   "source": [
    "class Optima:\n",
    "    def __init__(self):\n",
    "        self.var_cov_mat = None\n",
    "        self.rf = 0.015\n",
    "        self.ret = None\n",
    "        self.tickers = None\n",
    "        self.data_start = None\n",
    "        self.data_end = None\n",
    "        self.N = None\n",
    "        self.data = None\n",
    "        \n",
    "        self.tp = None # time Point\n",
    "        self.windowLength = None\n",
    "        \n",
    "    def setTickers(self, tickers):\n",
    "        self.tickers = tickers\n",
    "        self.N = len(self.tickers)\n",
    "    \n",
    "    def setDataDate(self, srt, end):\n",
    "        if type(srt) == str:\n",
    "            self.data_start = srt\n",
    "        else:\n",
    "            self.data_start = str(srt)\n",
    "        if type(end) == str:\n",
    "            self.data_end = end\n",
    "        else:\n",
    "            self.data_end = str(end)\n",
    "        \n",
    "    def loadData(self):\n",
    "        raw_data = []\n",
    "        N = self.N\n",
    "        for i in range(N):\n",
    "            raw_data.append(stock.get_market_ohlcv_by_date(self.data_start, self.data_end, self.tickers[i])[\"종가\"])\n",
    "        self.data = pd.DataFrame(np.asarray(raw_data).T, columns = self.tickers, dtype=np.int32)\n",
    "        self.ret = pd.DataFrame(np.nan, index=np.arange(self.data.shape[0]), columns=self.data.columns)\n",
    "        for i in range(1, self.data.shape[0]):\n",
    "            self.ret.iloc[i] = self.data.iloc[i]/self.data.iloc[i-1]\n",
    "        self.var_cov_mat = np.identity(self.N)\n",
    "    \n",
    "    def gen_var_cov_mat(self):\n",
    "        ret_tp = self.ret.iloc[self.tp - self.windowLength : self.tp]\n",
    "        for i in range(0, self.N):\n",
    "            for j in range(0, self.N):\n",
    "                #print('-',end=' ')\n",
    "                #print(np.cov(ret_tp.iloc[1:,i], ret_tp.iloc[1:,j])[0,1])\n",
    "                self.var_cov_mat[i][j] = np.cov(ret_tp.iloc[1:,i], ret_tp.iloc[1:,j])[0,1]\n",
    "    \n",
    "    def setWindowLength(self, time):\n",
    "        self.windowLength = time\n",
    "    \n",
    "    def setTimePoint(self, tp):\n",
    "        self.tp = tp\n",
    "        \n",
    "    \n",
    "    def eq_constraint(self, w):\n",
    "        summation = 0\n",
    "        for i in w:\n",
    "            summation += i\n",
    "            \n",
    "        return summation - 1\n",
    "    \n",
    "    def flarray(self, w):\n",
    "        ret_exd = np.cumprod(self.ret) - self.rf\n",
    "        return -(np.dot(np.transpose(ret_exd.iloc[-1]), w) / (np.dot(np.dot(np.transpose(w), self.var_cov_mat), w))**(1/2))\n",
    "\n",
    "    def Max_Sharp(self):\n",
    "        return sp.optimize.fmin_slsqp(self.flarray, [1/self.N for i in range(self.N)], bounds=[(0,1) for i in range(self.N)], eqcons=[self.eq_constraint])\n",
    "    \n",
    "    \n",
    "    def w(self):\n",
    "        self.gen_var_cov_mat()\n",
    "        return self.Max_Sharp()\n",
    "    \n",
    "    \n",
    "    \n",
    "    "
   ]
  },
  {
   "cell_type": "code",
   "execution_count": 57,
   "metadata": {
    "scrolled": false
   },
   "outputs": [
    {
     "name": "stdout",
     "output_type": "stream",
     "text": [
      "Optimization terminated successfully.    (Exit mode 0)\n",
      "            Current function value: -147.0135801155746\n",
      "            Iterations: 8\n",
      "            Function evaluations: 57\n",
      "            Gradient evaluations: 8\n"
     ]
    },
    {
     "data": {
      "text/plain": [
       "array([0.39299318, 0.34043089, 0.07200914, 0.19456679])"
      ]
     },
     "execution_count": 57,
     "metadata": {},
     "output_type": "execute_result"
    }
   ],
   "source": [
    "optima = Optima()\n",
    "tickers = [\"002810\", \"003920\", \"004380\", \"011280\"]#, \"016580\", \"007340\", \"000370\", \"001510\", \"033270\", \"004710\", \"001500\"]\n",
    "\n",
    "optima.setTickers(tickers)\n",
    "optima.setDataDate(20180101, 20191231)\n",
    "\n",
    "optima.loadData()\n",
    "\n",
    "optima.setWindowLength(30)\n",
    "optima.setTimePoint(145)\n",
    "optima.w()"
   ]
  },
  {
   "cell_type": "code",
   "execution_count": 59,
   "metadata": {
    "scrolled": false
   },
   "outputs": [
    {
     "name": "stdout",
     "output_type": "stream",
     "text": [
      "Optimization terminated successfully.    (Exit mode 0)\n",
      "            Current function value: -145.4373672996802\n",
      "            Iterations: 9\n",
      "            Function evaluations: 61\n",
      "            Gradient evaluations: 9\n"
     ]
    },
    {
     "data": {
      "text/plain": [
       "array([0.38168801, 0.35340861, 0.07573348, 0.1891699 ])"
      ]
     },
     "execution_count": 59,
     "metadata": {},
     "output_type": "execute_result"
    }
   ],
   "source": [
    "optima.setWindowLength(29)\n",
    "optima.w()"
   ]
  },
  {
   "cell_type": "code",
   "execution_count": 253,
   "metadata": {},
   "outputs": [
    {
     "name": "stdout",
     "output_type": "stream",
     "text": [
      "        0     1     2     3     4     5  asdf\n",
      "110  1.06  0.91  1.01  0.92  1.05  0.93   NaN\n",
      "111  0.99  0.94  0.97  0.90  0.92  0.91   NaN\n"
     ]
    }
   ],
   "source": [
    "##############\n",
    "for i in range((rebal.shape[0]//freq)):\n",
    "    df = rebal.iloc[i*freq :(i+1)*freq]\n",
    "    rebal['asdf'] = df\n",
    "    \n",
    "if rebal.shape[0]%freq != 0:\n",
    "    print(rebal.iloc[-(rebal.shape[0]%freq):])\n"
   ]
  },
  {
   "cell_type": "code",
   "execution_count": 221,
   "metadata": {
    "scrolled": true
   },
   "outputs": [
    {
     "data": {
      "text/html": [
       "<div>\n",
       "<style scoped>\n",
       "    .dataframe tbody tr th:only-of-type {\n",
       "        vertical-align: middle;\n",
       "    }\n",
       "\n",
       "    .dataframe tbody tr th {\n",
       "        vertical-align: top;\n",
       "    }\n",
       "\n",
       "    .dataframe thead th {\n",
       "        text-align: right;\n",
       "    }\n",
       "</style>\n",
       "<table border=\"1\" class=\"dataframe\">\n",
       "  <thead>\n",
       "    <tr style=\"text-align: right;\">\n",
       "      <th></th>\n",
       "      <th>0</th>\n",
       "      <th>1</th>\n",
       "      <th>2</th>\n",
       "      <th>3</th>\n",
       "      <th>4</th>\n",
       "      <th>5</th>\n",
       "    </tr>\n",
       "  </thead>\n",
       "  <tbody>\n",
       "    <tr>\n",
       "      <td>0</td>\n",
       "      <td>1.02</td>\n",
       "      <td>0.93</td>\n",
       "      <td>0.95</td>\n",
       "      <td>0.99</td>\n",
       "      <td>1.02</td>\n",
       "      <td>0.95</td>\n",
       "    </tr>\n",
       "    <tr>\n",
       "      <td>1</td>\n",
       "      <td>1.05</td>\n",
       "      <td>0.94</td>\n",
       "      <td>1.05</td>\n",
       "      <td>1.11</td>\n",
       "      <td>1.11</td>\n",
       "      <td>1.03</td>\n",
       "    </tr>\n",
       "    <tr>\n",
       "      <td>2</td>\n",
       "      <td>0.97</td>\n",
       "      <td>1.05</td>\n",
       "      <td>0.98</td>\n",
       "      <td>1.02</td>\n",
       "      <td>0.99</td>\n",
       "      <td>1.04</td>\n",
       "    </tr>\n",
       "    <tr>\n",
       "      <td>3</td>\n",
       "      <td>0.90</td>\n",
       "      <td>0.99</td>\n",
       "      <td>1.09</td>\n",
       "      <td>1.11</td>\n",
       "      <td>1.08</td>\n",
       "      <td>0.97</td>\n",
       "    </tr>\n",
       "    <tr>\n",
       "      <td>4</td>\n",
       "      <td>0.96</td>\n",
       "      <td>1.03</td>\n",
       "      <td>0.97</td>\n",
       "      <td>1.01</td>\n",
       "      <td>0.99</td>\n",
       "      <td>1.10</td>\n",
       "    </tr>\n",
       "    <tr>\n",
       "      <td>...</td>\n",
       "      <td>...</td>\n",
       "      <td>...</td>\n",
       "      <td>...</td>\n",
       "      <td>...</td>\n",
       "      <td>...</td>\n",
       "      <td>...</td>\n",
       "    </tr>\n",
       "    <tr>\n",
       "      <td>107</td>\n",
       "      <td>1.00</td>\n",
       "      <td>0.98</td>\n",
       "      <td>1.08</td>\n",
       "      <td>0.94</td>\n",
       "      <td>1.08</td>\n",
       "      <td>0.94</td>\n",
       "    </tr>\n",
       "    <tr>\n",
       "      <td>108</td>\n",
       "      <td>1.08</td>\n",
       "      <td>0.95</td>\n",
       "      <td>0.92</td>\n",
       "      <td>1.07</td>\n",
       "      <td>0.96</td>\n",
       "      <td>0.97</td>\n",
       "    </tr>\n",
       "    <tr>\n",
       "      <td>109</td>\n",
       "      <td>0.96</td>\n",
       "      <td>1.00</td>\n",
       "      <td>0.96</td>\n",
       "      <td>0.95</td>\n",
       "      <td>1.07</td>\n",
       "      <td>1.08</td>\n",
       "    </tr>\n",
       "    <tr>\n",
       "      <td>110</td>\n",
       "      <td>1.06</td>\n",
       "      <td>0.91</td>\n",
       "      <td>1.01</td>\n",
       "      <td>0.92</td>\n",
       "      <td>1.05</td>\n",
       "      <td>0.93</td>\n",
       "    </tr>\n",
       "    <tr>\n",
       "      <td>111</td>\n",
       "      <td>0.99</td>\n",
       "      <td>0.94</td>\n",
       "      <td>0.97</td>\n",
       "      <td>0.90</td>\n",
       "      <td>0.92</td>\n",
       "      <td>0.91</td>\n",
       "    </tr>\n",
       "  </tbody>\n",
       "</table>\n",
       "<p>112 rows × 6 columns</p>\n",
       "</div>"
      ],
      "text/plain": [
       "        0     1     2     3     4     5\n",
       "0    1.02  0.93  0.95  0.99  1.02  0.95\n",
       "1    1.05  0.94  1.05  1.11  1.11  1.03\n",
       "2    0.97  1.05  0.98  1.02  0.99  1.04\n",
       "3    0.90  0.99  1.09  1.11  1.08  0.97\n",
       "4    0.96  1.03  0.97  1.01  0.99  1.10\n",
       "..    ...   ...   ...   ...   ...   ...\n",
       "107  1.00  0.98  1.08  0.94  1.08  0.94\n",
       "108  1.08  0.95  0.92  1.07  0.96  0.97\n",
       "109  0.96  1.00  0.96  0.95  1.07  1.08\n",
       "110  1.06  0.91  1.01  0.92  1.05  0.93\n",
       "111  0.99  0.94  0.97  0.90  0.92  0.91\n",
       "\n",
       "[112 rows x 6 columns]"
      ]
     },
     "execution_count": 221,
     "metadata": {},
     "output_type": "execute_result"
    }
   ],
   "source": [
    "rebal = pd.DataFrame(([1+np.random.randint(-10,12)*0.01 for i in range(6)] for i in range(112)))\n",
    "rebal"
   ]
  },
  {
   "cell_type": "code",
   "execution_count": 222,
   "metadata": {},
   "outputs": [],
   "source": [
    "freq = 10\n",
    "w = [1/5, 1/5, 1/5, 1/5, 1/5]"
   ]
  },
  {
   "cell_type": "code",
   "execution_count": 223,
   "metadata": {
    "scrolled": false
   },
   "outputs": [
    {
     "data": {
      "text/plain": [
       "90"
      ]
     },
     "execution_count": 223,
     "metadata": {},
     "output_type": "execute_result"
    }
   ],
   "source": [
    "100-freq"
   ]
  },
  {
   "cell_type": "code",
   "execution_count": 234,
   "metadata": {
    "scrolled": true
   },
   "outputs": [
    {
     "data": {
      "text/plain": [
       "130"
      ]
     },
     "execution_count": 234,
     "metadata": {},
     "output_type": "execute_result"
    }
   ],
   "source": [
    "133//10 * 10"
   ]
  },
  {
   "cell_type": "code",
   "execution_count": 233,
   "metadata": {
    "scrolled": false
   },
   "outputs": [
    {
     "data": {
      "text/plain": [
       "3"
      ]
     },
     "execution_count": 233,
     "metadata": {},
     "output_type": "execute_result"
    }
   ],
   "source": [
    "133%10"
   ]
  },
  {
   "cell_type": "code",
   "execution_count": 239,
   "metadata": {},
   "outputs": [
    {
     "data": {
      "text/plain": [
       "8"
      ]
     },
     "execution_count": 239,
     "metadata": {},
     "output_type": "execute_result"
    }
   ],
   "source": [
    "rebal.shape[0]%freq"
   ]
  },
  {
   "cell_type": "code",
   "execution_count": 243,
   "metadata": {},
   "outputs": [
    {
     "data": {
      "text/plain": [
       "array([1, 4, 9])"
      ]
     },
     "execution_count": 243,
     "metadata": {},
     "output_type": "execute_result"
    }
   ],
   "source": [
    "a = np.asarray([1,2,3])\n",
    "b = np.asarray([1,2,3])\n",
    "a*b"
   ]
  },
  {
   "cell_type": "code",
   "execution_count": 242,
   "metadata": {
    "scrolled": false
   },
   "outputs": [
    {
     "name": "stdout",
     "output_type": "stream",
     "text": [
      "      0     1     2     3     4     5\n",
      "0  1.02  0.93  0.95  0.99  1.02  0.95\n",
      "1  1.05  0.94  1.05  1.11  1.11  1.03\n",
      "2  0.97  1.05  0.98  1.02  0.99  1.04\n",
      "3  0.90  0.99  1.09  1.11  1.08  0.97\n",
      "4  0.96  1.03  0.97  1.01  0.99  1.10\n",
      "5  0.95  1.08  0.94  0.90  0.90  1.00\n",
      "6  0.92  1.07  0.97  1.08  1.06  0.99\n",
      "7  0.99  1.09  1.10  1.07  0.94  1.11\n",
      "8  0.99  1.01  1.07  0.97  0.98  0.97\n",
      "9  1.01  1.03  1.08  1.06  1.04  0.97\n",
      "       0     1     2     3     4     5\n",
      "10  1.09  0.93  1.03  1.07  1.01  0.94\n",
      "11  0.97  1.04  1.02  0.91  0.91  1.04\n",
      "12  0.93  1.09  0.93  0.91  0.97  1.00\n",
      "13  1.04  0.97  1.00  1.06  1.03  1.05\n",
      "14  1.01  0.90  0.98  1.01  1.02  0.91\n",
      "15  0.99  0.90  1.05  1.08  1.01  1.08\n",
      "16  1.04  0.91  1.04  0.98  0.96  0.93\n",
      "17  1.00  1.07  1.10  0.93  0.96  0.94\n",
      "18  1.11  1.10  0.97  0.98  0.92  0.91\n",
      "19  1.06  1.02  0.92  1.03  1.07  1.09\n",
      "       0     1     2     3     4     5\n",
      "20  0.93  0.98  1.00  1.01  1.07  0.90\n",
      "21  1.11  0.95  1.08  0.95  1.11  0.94\n",
      "22  0.93  0.95  0.96  0.98  1.00  1.09\n",
      "23  1.02  0.95  1.02  0.98  1.09  1.10\n",
      "24  0.98  0.96  0.94  1.08  0.90  1.03\n",
      "25  1.06  0.99  0.92  1.05  1.11  1.00\n",
      "26  1.06  0.90  1.11  0.91  0.90  1.11\n",
      "27  0.97  1.10  0.94  1.05  0.99  1.05\n",
      "28  0.90  1.06  0.96  0.97  0.98  0.96\n",
      "29  1.02  0.96  0.97  0.98  0.95  1.02\n",
      "       0     1     2     3     4     5\n",
      "30  0.93  0.98  0.93  0.95  1.07  1.04\n",
      "31  0.91  0.99  0.96  0.98  1.03  0.90\n",
      "32  0.90  1.04  0.97  1.10  0.95  0.99\n",
      "33  1.05  1.02  1.05  1.02  0.93  0.93\n",
      "34  1.11  0.90  0.98  1.00  0.95  1.00\n",
      "35  0.90  0.94  1.07  1.11  1.08  0.90\n",
      "36  1.04  0.97  0.95  0.95  0.91  1.10\n",
      "37  0.94  0.99  1.01  0.95  0.94  0.92\n",
      "38  1.05  0.96  1.02  0.94  0.93  1.01\n",
      "39  0.97  1.10  0.98  0.93  1.11  0.96\n",
      "       0     1     2     3     4     5\n",
      "40  0.97  1.03  0.91  1.02  1.08  1.02\n",
      "41  1.08  1.05  1.10  1.04  0.99  1.00\n",
      "42  1.02  0.96  0.99  1.05  0.98  1.08\n",
      "43  1.01  0.92  0.93  1.07  1.00  1.04\n",
      "44  0.96  1.03  1.04  1.01  1.04  0.94\n",
      "45  1.07  1.01  0.93  1.10  1.03  0.98\n",
      "46  1.01  1.04  0.91  0.99  0.92  0.98\n",
      "47  1.09  0.98  1.11  0.96  0.95  1.11\n",
      "48  1.07  0.90  1.07  1.06  0.91  1.10\n",
      "49  1.07  1.04  1.10  1.03  0.96  0.93\n",
      "       0     1     2     3     4     5\n",
      "50  0.95  0.94  1.01  1.09  1.09  0.92\n",
      "51  0.91  0.92  1.06  1.09  0.99  1.01\n",
      "52  1.07  1.03  1.09  0.90  0.99  1.07\n",
      "53  1.02  0.91  1.08  1.11  0.95  0.92\n",
      "54  0.98  0.97  0.97  1.06  1.03  1.04\n",
      "55  1.03  1.11  0.99  0.93  0.94  0.98\n",
      "56  1.03  1.08  0.92  1.02  0.99  1.10\n",
      "57  0.91  1.07  1.03  0.96  1.01  1.00\n",
      "58  0.90  0.90  1.09  0.97  0.96  1.09\n",
      "59  1.11  1.00  0.91  0.90  0.93  1.03\n",
      "       0     1     2     3     4     5\n",
      "60  0.96  1.10  1.10  1.09  0.90  1.00\n",
      "61  0.93  1.11  0.92  0.99  0.96  1.01\n",
      "62  0.93  1.10  1.07  0.92  0.94  0.97\n",
      "63  1.01  1.04  0.91  0.96  1.11  1.08\n",
      "64  0.94  1.10  0.94  0.94  1.11  0.95\n",
      "65  1.09  0.92  1.11  0.94  0.95  0.94\n",
      "66  1.02  0.94  1.00  1.11  0.98  0.90\n",
      "67  1.11  1.11  0.98  1.01  1.07  0.98\n",
      "68  1.06  0.94  0.96  0.95  0.97  1.10\n",
      "69  0.94  1.11  0.98  1.10  0.95  1.01\n",
      "       0     1     2     3     4     5\n",
      "70  1.08  0.96  1.02  0.92  1.07  1.06\n",
      "71  0.97  0.94  0.92  0.98  0.98  0.95\n",
      "72  1.10  0.98  1.03  0.98  1.02  0.93\n",
      "73  0.98  1.01  0.98  0.92  0.94  0.92\n",
      "74  1.05  0.90  1.07  1.03  0.93  1.11\n",
      "75  1.10  1.00  1.04  0.91  1.09  1.09\n",
      "76  1.08  0.91  0.99  1.03  0.90  0.93\n",
      "77  0.93  1.03  0.97  0.96  1.08  1.05\n",
      "78  1.10  0.95  0.94  0.94  1.09  1.08\n",
      "79  0.92  0.99  1.01  0.95  0.96  1.03\n",
      "       0     1     2     3     4     5\n",
      "80  0.98  0.94  0.91  1.03  0.98  0.90\n",
      "81  1.07  0.96  1.04  0.99  1.09  1.01\n",
      "82  1.05  0.93  1.02  1.10  0.99  0.93\n",
      "83  0.96  1.04  1.04  1.09  0.95  1.02\n",
      "84  0.93  1.06  0.94  1.06  0.99  0.98\n",
      "85  1.04  1.07  0.92  0.95  0.98  0.94\n",
      "86  1.09  1.01  1.00  1.02  1.06  0.98\n",
      "87  1.06  0.94  0.97  1.07  0.92  1.07\n",
      "88  0.91  0.92  1.07  1.10  0.97  0.92\n",
      "89  0.95  0.97  1.05  1.07  0.93  1.07\n",
      "       0     1     2     3     4     5\n",
      "90  1.06  0.98  1.05  0.93  1.07  1.10\n",
      "91  0.95  1.08  0.91  1.06  0.91  1.01\n",
      "92  0.93  0.91  1.06  0.99  0.95  1.06\n",
      "93  0.92  0.96  1.04  1.06  1.06  1.01\n",
      "94  0.98  0.91  0.94  0.94  0.97  0.90\n",
      "95  1.01  1.06  0.92  1.05  0.97  1.06\n",
      "96  0.96  0.90  0.93  1.11  0.94  1.03\n",
      "97  1.04  0.98  0.90  0.95  0.91  0.94\n",
      "98  1.06  1.03  1.00  0.92  0.97  0.96\n",
      "99  1.03  0.90  0.98  1.05  0.93  1.05\n",
      "        0     1     2     3     4     5\n",
      "100  0.99  0.96  0.91  1.11  1.09  0.91\n",
      "101  0.97  1.08  1.11  0.91  0.98  1.06\n",
      "102  1.00  1.03  1.03  0.98  1.06  0.99\n",
      "103  1.04  0.92  1.00  1.02  0.98  1.10\n",
      "104  0.96  0.91  1.08  1.03  1.00  0.90\n",
      "105  1.01  1.07  0.97  1.01  1.02  1.10\n",
      "106  1.06  1.01  1.09  1.02  0.99  1.01\n",
      "107  1.00  0.98  1.08  0.94  1.08  0.94\n",
      "108  1.08  0.95  0.92  1.07  0.96  0.97\n",
      "109  0.96  1.00  0.96  0.95  1.07  1.08\n",
      "        0     1     2     3     4     5\n",
      "110  1.06  0.91  1.01  0.92  1.05  0.93\n",
      "111  0.99  0.94  0.97  0.90  0.92  0.91\n"
     ]
    }
   ],
   "source": [
    "for i in range((rebal.shape[0]//freq)):\n",
    "    df = rebal.iloc[i*freq :(i+1)*freq]\n",
    "    print(df)\n",
    "    \n",
    "if rebal.shape[0]%freq != 0:\n",
    "    print(rebal.iloc[-(rebal.shape[0]%freq):])\n"
   ]
  },
  {
   "cell_type": "code",
   "execution_count": 119,
   "metadata": {
    "scrolled": true
   },
   "outputs": [
    {
     "data": {
      "text/html": [
       "<div>\n",
       "<style scoped>\n",
       "    .dataframe tbody tr th:only-of-type {\n",
       "        vertical-align: middle;\n",
       "    }\n",
       "\n",
       "    .dataframe tbody tr th {\n",
       "        vertical-align: top;\n",
       "    }\n",
       "\n",
       "    .dataframe thead th {\n",
       "        text-align: right;\n",
       "    }\n",
       "</style>\n",
       "<table border=\"1\" class=\"dataframe\">\n",
       "  <thead>\n",
       "    <tr style=\"text-align: right;\">\n",
       "      <th></th>\n",
       "      <th>0</th>\n",
       "      <th>1</th>\n",
       "      <th>2</th>\n",
       "      <th>3</th>\n",
       "      <th>4</th>\n",
       "      <th>5</th>\n",
       "    </tr>\n",
       "  </thead>\n",
       "  <tbody>\n",
       "    <tr>\n",
       "      <td>1</td>\n",
       "      <td>1.070000</td>\n",
       "      <td>0.900000</td>\n",
       "      <td>0.900000</td>\n",
       "      <td>1.020000</td>\n",
       "      <td>1.030000</td>\n",
       "      <td>0.900000</td>\n",
       "    </tr>\n",
       "    <tr>\n",
       "      <td>2</td>\n",
       "      <td>0.984400</td>\n",
       "      <td>0.882000</td>\n",
       "      <td>0.810000</td>\n",
       "      <td>0.948600</td>\n",
       "      <td>0.999100</td>\n",
       "      <td>0.819000</td>\n",
       "    </tr>\n",
       "    <tr>\n",
       "      <td>3</td>\n",
       "      <td>1.092684</td>\n",
       "      <td>0.943740</td>\n",
       "      <td>0.801900</td>\n",
       "      <td>1.033974</td>\n",
       "      <td>1.059046</td>\n",
       "      <td>0.761670</td>\n",
       "    </tr>\n",
       "    <tr>\n",
       "      <td>4</td>\n",
       "      <td>1.212879</td>\n",
       "      <td>0.972052</td>\n",
       "      <td>0.745767</td>\n",
       "      <td>0.982275</td>\n",
       "      <td>1.016684</td>\n",
       "      <td>0.845454</td>\n",
       "    </tr>\n",
       "  </tbody>\n",
       "</table>\n",
       "</div>"
      ],
      "text/plain": [
       "          0         1         2         3         4         5\n",
       "1  1.070000  0.900000  0.900000  1.020000  1.030000  0.900000\n",
       "2  0.984400  0.882000  0.810000  0.948600  0.999100  0.819000\n",
       "3  1.092684  0.943740  0.801900  1.033974  1.059046  0.761670\n",
       "4  1.212879  0.972052  0.745767  0.982275  1.016684  0.845454"
      ]
     },
     "execution_count": 119,
     "metadata": {},
     "output_type": "execute_result"
    }
   ],
   "source": [
    "rebal.iloc[1:5].cumprod()"
   ]
  },
  {
   "cell_type": "code",
   "execution_count": 120,
   "metadata": {
    "scrolled": false
   },
   "outputs": [
    {
     "data": {
      "text/html": [
       "<div>\n",
       "<style scoped>\n",
       "    .dataframe tbody tr th:only-of-type {\n",
       "        vertical-align: middle;\n",
       "    }\n",
       "\n",
       "    .dataframe tbody tr th {\n",
       "        vertical-align: top;\n",
       "    }\n",
       "\n",
       "    .dataframe thead th {\n",
       "        text-align: right;\n",
       "    }\n",
       "</style>\n",
       "<table border=\"1\" class=\"dataframe\">\n",
       "  <thead>\n",
       "    <tr style=\"text-align: right;\">\n",
       "      <th></th>\n",
       "      <th>0</th>\n",
       "      <th>1</th>\n",
       "      <th>2</th>\n",
       "      <th>3</th>\n",
       "      <th>4</th>\n",
       "      <th>5</th>\n",
       "    </tr>\n",
       "  </thead>\n",
       "  <tbody>\n",
       "    <tr>\n",
       "      <td>5</td>\n",
       "      <td>1.060000</td>\n",
       "      <td>1.100000</td>\n",
       "      <td>0.910000</td>\n",
       "      <td>1.04000</td>\n",
       "      <td>0.960000</td>\n",
       "      <td>1.000000</td>\n",
       "    </tr>\n",
       "    <tr>\n",
       "      <td>6</td>\n",
       "      <td>1.134200</td>\n",
       "      <td>1.133000</td>\n",
       "      <td>0.819000</td>\n",
       "      <td>0.98800</td>\n",
       "      <td>0.892800</td>\n",
       "      <td>0.940000</td>\n",
       "    </tr>\n",
       "    <tr>\n",
       "      <td>7</td>\n",
       "      <td>1.100174</td>\n",
       "      <td>1.178320</td>\n",
       "      <td>0.794430</td>\n",
       "      <td>1.07692</td>\n",
       "      <td>0.964224</td>\n",
       "      <td>0.921200</td>\n",
       "    </tr>\n",
       "    <tr>\n",
       "      <td>8</td>\n",
       "      <td>1.045165</td>\n",
       "      <td>1.225453</td>\n",
       "      <td>0.714987</td>\n",
       "      <td>1.07692</td>\n",
       "      <td>0.896728</td>\n",
       "      <td>0.985684</td>\n",
       "    </tr>\n",
       "    <tr>\n",
       "      <td>9</td>\n",
       "      <td>1.076520</td>\n",
       "      <td>1.127417</td>\n",
       "      <td>0.779336</td>\n",
       "      <td>1.07692</td>\n",
       "      <td>0.941565</td>\n",
       "      <td>0.965970</td>\n",
       "    </tr>\n",
       "  </tbody>\n",
       "</table>\n",
       "</div>"
      ],
      "text/plain": [
       "          0         1         2        3         4         5\n",
       "5  1.060000  1.100000  0.910000  1.04000  0.960000  1.000000\n",
       "6  1.134200  1.133000  0.819000  0.98800  0.892800  0.940000\n",
       "7  1.100174  1.178320  0.794430  1.07692  0.964224  0.921200\n",
       "8  1.045165  1.225453  0.714987  1.07692  0.896728  0.985684\n",
       "9  1.076520  1.127417  0.779336  1.07692  0.941565  0.965970"
      ]
     },
     "execution_count": 120,
     "metadata": {},
     "output_type": "execute_result"
    }
   ],
   "source": [
    "rebal.iloc[5:10].cumprod()"
   ]
  },
  {
   "cell_type": "code",
   "execution_count": 121,
   "metadata": {
    "scrolled": true
   },
   "outputs": [
    {
     "data": {
      "text/html": [
       "<div>\n",
       "<style scoped>\n",
       "    .dataframe tbody tr th:only-of-type {\n",
       "        vertical-align: middle;\n",
       "    }\n",
       "\n",
       "    .dataframe tbody tr th {\n",
       "        vertical-align: top;\n",
       "    }\n",
       "\n",
       "    .dataframe thead th {\n",
       "        text-align: right;\n",
       "    }\n",
       "</style>\n",
       "<table border=\"1\" class=\"dataframe\">\n",
       "  <thead>\n",
       "    <tr style=\"text-align: right;\">\n",
       "      <th></th>\n",
       "      <th>0</th>\n",
       "      <th>1</th>\n",
       "      <th>2</th>\n",
       "      <th>3</th>\n",
       "      <th>4</th>\n",
       "      <th>5</th>\n",
       "    </tr>\n",
       "  </thead>\n",
       "  <tbody>\n",
       "    <tr>\n",
       "      <td>0</td>\n",
       "      <td>1.10</td>\n",
       "      <td>1.07</td>\n",
       "      <td>0.93</td>\n",
       "      <td>0.98</td>\n",
       "      <td>0.97</td>\n",
       "      <td>1.07</td>\n",
       "    </tr>\n",
       "    <tr>\n",
       "      <td>1</td>\n",
       "      <td>1.07</td>\n",
       "      <td>0.90</td>\n",
       "      <td>0.90</td>\n",
       "      <td>1.02</td>\n",
       "      <td>1.03</td>\n",
       "      <td>0.90</td>\n",
       "    </tr>\n",
       "    <tr>\n",
       "      <td>2</td>\n",
       "      <td>0.92</td>\n",
       "      <td>0.98</td>\n",
       "      <td>0.90</td>\n",
       "      <td>0.93</td>\n",
       "      <td>0.97</td>\n",
       "      <td>0.91</td>\n",
       "    </tr>\n",
       "    <tr>\n",
       "      <td>3</td>\n",
       "      <td>1.11</td>\n",
       "      <td>1.07</td>\n",
       "      <td>0.99</td>\n",
       "      <td>1.09</td>\n",
       "      <td>1.06</td>\n",
       "      <td>0.93</td>\n",
       "    </tr>\n",
       "    <tr>\n",
       "      <td>4</td>\n",
       "      <td>1.11</td>\n",
       "      <td>1.03</td>\n",
       "      <td>0.93</td>\n",
       "      <td>0.95</td>\n",
       "      <td>0.96</td>\n",
       "      <td>1.11</td>\n",
       "    </tr>\n",
       "    <tr>\n",
       "      <td>5</td>\n",
       "      <td>1.06</td>\n",
       "      <td>1.10</td>\n",
       "      <td>0.91</td>\n",
       "      <td>1.04</td>\n",
       "      <td>0.96</td>\n",
       "      <td>1.00</td>\n",
       "    </tr>\n",
       "    <tr>\n",
       "      <td>6</td>\n",
       "      <td>1.07</td>\n",
       "      <td>1.03</td>\n",
       "      <td>0.90</td>\n",
       "      <td>0.95</td>\n",
       "      <td>0.93</td>\n",
       "      <td>0.94</td>\n",
       "    </tr>\n",
       "    <tr>\n",
       "      <td>7</td>\n",
       "      <td>0.97</td>\n",
       "      <td>1.04</td>\n",
       "      <td>0.97</td>\n",
       "      <td>1.09</td>\n",
       "      <td>1.08</td>\n",
       "      <td>0.98</td>\n",
       "    </tr>\n",
       "    <tr>\n",
       "      <td>8</td>\n",
       "      <td>0.95</td>\n",
       "      <td>1.04</td>\n",
       "      <td>0.90</td>\n",
       "      <td>1.00</td>\n",
       "      <td>0.93</td>\n",
       "      <td>1.07</td>\n",
       "    </tr>\n",
       "    <tr>\n",
       "      <td>9</td>\n",
       "      <td>1.03</td>\n",
       "      <td>0.92</td>\n",
       "      <td>1.09</td>\n",
       "      <td>1.00</td>\n",
       "      <td>1.05</td>\n",
       "      <td>0.98</td>\n",
       "    </tr>\n",
       "    <tr>\n",
       "      <td>10</td>\n",
       "      <td>1.01</td>\n",
       "      <td>1.09</td>\n",
       "      <td>0.99</td>\n",
       "      <td>0.98</td>\n",
       "      <td>1.07</td>\n",
       "      <td>1.03</td>\n",
       "    </tr>\n",
       "  </tbody>\n",
       "</table>\n",
       "</div>"
      ],
      "text/plain": [
       "       0     1     2     3     4     5\n",
       "0   1.10  1.07  0.93  0.98  0.97  1.07\n",
       "1   1.07  0.90  0.90  1.02  1.03  0.90\n",
       "2   0.92  0.98  0.90  0.93  0.97  0.91\n",
       "3   1.11  1.07  0.99  1.09  1.06  0.93\n",
       "4   1.11  1.03  0.93  0.95  0.96  1.11\n",
       "5   1.06  1.10  0.91  1.04  0.96  1.00\n",
       "6   1.07  1.03  0.90  0.95  0.93  0.94\n",
       "7   0.97  1.04  0.97  1.09  1.08  0.98\n",
       "8   0.95  1.04  0.90  1.00  0.93  1.07\n",
       "9   1.03  0.92  1.09  1.00  1.05  0.98\n",
       "10  1.01  1.09  0.99  0.98  1.07  1.03"
      ]
     },
     "execution_count": 121,
     "metadata": {},
     "output_type": "execute_result"
    }
   ],
   "source": [
    "rebal.head(11)"
   ]
  },
  {
   "cell_type": "code",
   "execution_count": 156,
   "metadata": {
    "scrolled": false
   },
   "outputs": [
    {
     "data": {
      "text/plain": [
       "5    2.372722\n",
       "Name: 99, dtype: float64"
      ]
     },
     "execution_count": 156,
     "metadata": {},
     "output_type": "execute_result"
    }
   ],
   "source": [
    "pd.DataFrame.cumsum(rebal.cumprod().iloc[-1])[-1:]/5"
   ]
  },
  {
   "cell_type": "code",
   "execution_count": 134,
   "metadata": {
    "scrolled": true
   },
   "outputs": [
    {
     "data": {
      "text/plain": [
       "0    3.541576\n",
       "1    0.591426\n",
       "2    0.583374\n",
       "3    1.051113\n",
       "4    4.484368\n",
       "5    1.611752\n",
       "Name: 99, dtype: float64"
      ]
     },
     "execution_count": 134,
     "metadata": {},
     "output_type": "execute_result"
    }
   ],
   "source": [
    "rebal.cumprod().iloc[-1]"
   ]
  }
 ],
 "metadata": {
  "kernelspec": {
   "display_name": "Python 3",
   "language": "python",
   "name": "python3"
  },
  "language_info": {
   "codemirror_mode": {
    "name": "ipython",
    "version": 3
   },
   "file_extension": ".py",
   "mimetype": "text/x-python",
   "name": "python",
   "nbconvert_exporter": "python",
   "pygments_lexer": "ipython3",
   "version": "3.7.4"
  }
 },
 "nbformat": 4,
 "nbformat_minor": 2
}
