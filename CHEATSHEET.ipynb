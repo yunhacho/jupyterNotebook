{
 "cells": [
  {
   "cell_type": "code",
   "execution_count": null,
   "metadata": {},
   "outputs": [],
   "source": [
    "\"\"\"Lagging a row\"\"\"\n",
    "import copy\n",
    "\n",
    "_a = pd.DataFrame([1,2,3,4,5])\n",
    "_b = copy.deepcopy(_a)\n",
    "\n",
    "for i in range(_b.shape[0]):\n",
    "    if not i:\n",
    "        _b.iloc[0] = np.nan\n",
    "    else:\n",
    "        _b.iloc[i] = _a.iloc[i-1]"
   ]
  }
 ],
 "metadata": {
  "kernelspec": {
   "display_name": "Python 3",
   "language": "python",
   "name": "python3"
  },
  "language_info": {
   "codemirror_mode": {
    "name": "ipython",
    "version": 3
   },
   "file_extension": ".py",
   "mimetype": "text/x-python",
   "name": "python",
   "nbconvert_exporter": "python",
   "pygments_lexer": "ipython3",
   "version": "3.7.4"
  }
 },
 "nbformat": 4,
 "nbformat_minor": 2
}
