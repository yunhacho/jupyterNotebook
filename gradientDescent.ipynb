{
 "cells": [
  {
   "cell_type": "code",
   "execution_count": 19,
   "metadata": {},
   "outputs": [
    {
     "ename": "AttributeError",
     "evalue": "module 'matplotlib.pyplot' has no attribute 'plot_surface'",
     "output_type": "error",
     "traceback": [
      "\u001b[0;31m---------------------------------------------------------------------------\u001b[0m",
      "\u001b[0;31mAttributeError\u001b[0m                            Traceback (most recent call last)",
      "\u001b[0;32m<ipython-input-19-3b2f321d500f>\u001b[0m in \u001b[0;36m<module>\u001b[0;34m\u001b[0m\n\u001b[1;32m     23\u001b[0m     \u001b[0;32mreturn\u001b[0m \u001b[0mx\u001b[0m\u001b[0;34m**\u001b[0m\u001b[0;36m2\u001b[0m\u001b[0;34m+\u001b[0m\u001b[0my\u001b[0m\u001b[0;34m**\u001b[0m\u001b[0;36m2\u001b[0m\u001b[0;34m+\u001b[0m\u001b[0;36m4\u001b[0m\u001b[0;34m*\u001b[0m\u001b[0mx\u001b[0m\u001b[0;34m*\u001b[0m\u001b[0my\u001b[0m\u001b[0;34m-\u001b[0m\u001b[0;36m10\u001b[0m\u001b[0;34m*\u001b[0m\u001b[0mx\u001b[0m\u001b[0;34m-\u001b[0m\u001b[0;36m5\u001b[0m\u001b[0;34m*\u001b[0m\u001b[0my\u001b[0m\u001b[0;34m+\u001b[0m\u001b[0;36m30\u001b[0m\u001b[0;34m\u001b[0m\u001b[0;34m\u001b[0m\u001b[0m\n\u001b[1;32m     24\u001b[0m \u001b[0;34m\u001b[0m\u001b[0m\n\u001b[0;32m---> 25\u001b[0;31m \u001b[0mplt\u001b[0m\u001b[0;34m.\u001b[0m\u001b[0mplot_surface\u001b[0m\u001b[0;34m(\u001b[0m\u001b[0mxx\u001b[0m\u001b[0;34m,\u001b[0m\u001b[0myy\u001b[0m\u001b[0;34m,\u001b[0m\u001b[0mf\u001b[0m\u001b[0;34m(\u001b[0m\u001b[0mxx\u001b[0m\u001b[0;34m,\u001b[0m\u001b[0myy\u001b[0m\u001b[0;34m)\u001b[0m\u001b[0;34m)\u001b[0m\u001b[0;34m\u001b[0m\u001b[0;34m\u001b[0m\u001b[0m\n\u001b[0m\u001b[1;32m     26\u001b[0m \u001b[0;34m\u001b[0m\u001b[0m\n\u001b[1;32m     27\u001b[0m \u001b[0max1\u001b[0m\u001b[0;34m.\u001b[0m\u001b[0mplot_surface\u001b[0m\u001b[0;34m(\u001b[0m\u001b[0mx_\u001b[0m\u001b[0;34m,\u001b[0m\u001b[0my_\u001b[0m\u001b[0;34m,\u001b[0m\u001b[0mg\u001b[0m\u001b[0;34m(\u001b[0m\u001b[0mx_\u001b[0m\u001b[0;34m,\u001b[0m\u001b[0my_\u001b[0m\u001b[0;34m)\u001b[0m\u001b[0;34m)\u001b[0m\u001b[0;34m\u001b[0m\u001b[0;34m\u001b[0m\u001b[0m\n",
      "\u001b[0;31mAttributeError\u001b[0m: module 'matplotlib.pyplot' has no attribute 'plot_surface'"
     ]
    },
    {
     "data": {
      "image/png": "[encoded data removed]",
      "text/plain": [
       "<Figure size 432x288 with 4 Axes>"
      ]
     },
     "metadata": {
      "needs_background": "light"
     },
     "output_type": "display_data"
    }
   ],
   "source": [
    "import numpy as np\n",
    "import matplotlib.pyplot as plt\n",
    "from mpl_toolkits.mplot3d import Axes3D\n",
    "from scipy.integrate import solve_ivp\n",
    "\n",
    "x1 = np.linspace(-5, 5, 10)\n",
    "y1 = np.linspace(-5, 5, 20)\n",
    "\n",
    "def g(x,y):\n",
    "    return 3*x**2-x*y+2*y**2+4*x+8*y+1\n",
    "\n",
    "x,y = np.meshgrid(x1,y1)\n",
    "x_,y_ = np.mgrid[-5:5:0.1, -5:5:0.1]\n",
    "xx, yy = np.mgrid[0:1:0.001, 0:1:0.001]\n",
    "\n",
    "fig = plt.figure()\n",
    "ax1 = fig.add_subplot(2,2,1)\n",
    "ax2 = fig.add_subplot(2,2,2)\n",
    "ax3 = fig.add_subplot(2,2,3)\n",
    "ax4 = fig.add_subplot(2,2,4)\n",
    "\n",
    "ax1.plot_surface(x_,y_,g(x_,y_))\n",
    "pcmesh = ax2.pcolormesh(x_,y_,g(x_,y_))\n",
    "fig.colorbar(pcmesh)\n",
    "contour = ax2.contour(x_,y_,g(x_,y_), 10, colors='black')\n",
    "ax2.clabel(contour, colors='black')\n",
    "\n",
    "contour_ = ax3.contour(x_,y_,g(x_,y_), 10)\n",
    "ax3.clabel(contour_, colors='black')\n",
    "       \n",
    "n = 10000\n",
    "h = 1/n\n",
    "\n",
    "gg = np.array([(g(x+h,y)-g(x-h,y))/(2*h),(g(x,y+h)-g(x,y-h))/(2*h)]);gg\n",
    "\n",
    "modulus = np.sqrt((gg[0]**2)+(gg[1]**2))\n",
    "ax3.quiver(x,y,gg[0],gg[1])\n",
    "ax4.quiver(x,y,gg[0]/modulus,gg[1]/modulus)\n",
    "ax4.contour(x_,y_,g(x_,y_),10)\n",
    "\n",
    "ax1.set_title(\"g(x,y) = 3x^2-xy+2y^2+4x+8y+1\")\n",
    "ax2.set_title(\"colormesh\")\n",
    "ax3.set_title(\"Gradient Vector Field\")\n",
    "ax4.set_title(\"Direction of Gradient\")\n",
    "\n",
    "def myf(t,u):\n",
    "    h = 0.0000001\n",
    "    gg = np.array([(-g((u[0])+h,(u[1]))+g((u[0])-h,(u[1])))/(2*h),\n",
    "                   (-g((u[0]),(u[1])+h)+g((u[0]),(u[1])-h))/(2*h)])\n",
    "    F = np.zeros_like(u)\n",
    "    F[0] = float(gg[0])\n",
    "    F[1] = float(gg[1])\n",
    "    return F\n",
    "\n",
    "x,y = np.mgrid[-5:5:0.01, -10:10:0.01]\n",
    "\n",
    "u = [-2.0,2.0]\n",
    "u_ = [3.0,2.0]\n",
    "u__ = [-4.0, -4.0]\n",
    "\n",
    "tspan = [0, 5]\n",
    "\n",
    "solution_g1 = solve_ivp(myf, tspan, u, method=\"RK45\", rtol=10**(-5))\n",
    "solution_g2 = solve_ivp(myf, tspan, u_, method='RK45', rtol=10**(-5))\n",
    "solution_g3 = solve_ivp(myf, tspan, u__, method='RK45', rtol=10**(-5))\n",
    "\n",
    "ax4.plot(solution_g1.y[0,::],solution_g1.y[1,::])\n",
    "ax4.plot(solution_g2.y[0,::],solution_g2.y[1,::])\n",
    "ax4.plot(solution_g3.y[0,::],solution_g3.y[1,::])\n",
    "\n",
    "op = {'arrowstyle' : '->'}\n",
    "ax4.annotate('(-2,2)', xy = (-2,2), xytext = (-3,3), arrowprops = op)\n",
    "ax4.annotate('(3,2)', xy = (3,2), xytext = (4,3), arrowprops = op)\n",
    "ax4.annotate('(-4,-4)', xy = (-4,-4), xytext = (-5,-5), arrowprops = op)\n",
    "\n",
    "solution_g1.y[:,-1]\n",
    "solution_g2.y[:,-1]\n",
    "solution_g3.y[:,-1]\n",
    "\n",
    "\n",
    "x1 = np.linspace(-4, 4, 10)\n",
    "y1 = np.linspace(-4, 4, 20)\n",
    "\n",
    "def g(x,y):\n",
    "    return (np.sin(0.5*(x**2)-0.25*(y**2)+3))*np.cos(2*x+1-np.exp(y))\n",
    "\n",
    "x,y = np.meshgrid(x1,y1)\n",
    "x_,y_ = np.mgrid[-4:4:0.1, -4:4:0.1]\n",
    "\n",
    "fig = plt.figure()\n",
    "ax1 = fig.add_subplot(2,2,1, projection='3d')\n",
    "ax2 = fig.add_subplot(2,2,2)\n",
    "ax3 = fig.add_subplot(2,2,3)\n",
    "ax4 = fig.add_subplot(2,2,4)\n",
    "\n",
    "ax1.plot_surface(x_,y_,g(x_,y_))\n",
    "pcmesh = ax2.pcolormesh(x_,y_,g(x_,y_))\n",
    "fig.colorbar(pcmesh)\n",
    "contour = ax2.contour(x_,y_,g(x_,y_), 10, colors='black')\n",
    "\n",
    "contour_ = ax3.contour(x_,y_,g(x_,y_), 10)\n",
    "       \n",
    "n = 10000\n",
    "h = 1/n\n",
    "\n",
    "gg = np.array([(g(x+h,y)-g(x-h,y))/(2*h),(g(x,y+h)-g(x,y-h))/(2*h)]);gg\n",
    "\n",
    "modulus = np.sqrt((gg[0]**2)+(gg[1]**2))\n",
    "ax3.quiver(x,y,gg[0],gg[1])\n",
    "ax4.quiver(x,y,gg[0]/modulus,gg[1]/modulus)\n",
    "ax4.contour(x_,y_,g(x_,y_),10)\n",
    "\n",
    "ax2.set_title(\"colormesh\")\n",
    "ax3.set_title(\"Gradient Vector Field\")\n",
    "ax4.set_title(\"Direction of Gradient\")\n",
    "\n",
    "def myf(t,u):\n",
    "    h = 0.0000001\n",
    "    gg = np.array([(-g((u[0])+h,(u[1]))+g((u[0])-h,(u[1])))/(2*h),\n",
    "                   (-g((u[0]),(u[1])+h)+g((u[0]),(u[1])-h))/(2*h)])\n",
    "    F = np.zeros_like(u)\n",
    "    F[0] = float(gg[0])\n",
    "    F[1] = float(gg[1])\n",
    "    return F\n",
    "\n",
    "u = [-1.0,1.0]\n",
    "u_ = [2.0,2.0]\n",
    "u__ = [-1.5, -1.5]\n",
    "\n",
    "tspan = [0, 100]\n",
    "\n",
    "solution_g1 = solve_ivp(myf, tspan, u, method=\"RK45\", rtol=10**(-5))\n",
    "solution_g2 = solve_ivp(myf, tspan, u_, method='RK45', rtol=10**(-5))\n",
    "solution_g3 = solve_ivp(myf, tspan, u__, method='RK45', rtol=10**(-5))\n",
    "\n",
    "ax4.plot(solution_g1.y[0,::],solution_g1.y[1,::], color='red')\n",
    "ax4.plot(solution_g2.y[0,::],solution_g2.y[1,::], color='red')\n",
    "ax4.plot(solution_g3.y[0,::],solution_g3.y[1,::], color='red')\n",
    "\n",
    "ax2.plot(solution_g1.y[0,::],solution_g1.y[1,::], color='red')\n",
    "ax2.plot(solution_g2.y[0,::],solution_g2.y[1,::], color='red')\n",
    "ax2.plot(solution_g3.y[0,::],solution_g3.y[1,::], color='red')\n",
    "\n",
    "op = {'arrowstyle' : '->'}\n",
    "ax4.annotate('(-2,2)', xy = (-1,1), xytext = (-2,2), arrowprops = op, color = 'red')\n",
    "ax4.annotate('(3,2)', xy = (2,2), xytext = (3,3), arrowprops = op, color = 'red')\n",
    "ax4.annotate('(-1.5,-1.5)', xy = (-1.5,-1.5), xytext = (-2.5,-2.5), arrowprops = op, color = 'red')\n",
    "\n",
    "ax2.annotate('(-2,2)', xy = (-1,1), xytext = (-2,2), arrowprops = op, color = 'red')\n",
    "ax2.annotate('(3,2)', xy = (2,2), xytext = (3,3), arrowprops = op, color = 'red')\n",
    "ax2.annotate('(-1.5,-1.5)', xy = (-1.5,-1.5), xytext = (-2.5,-2.5), arrowprops = op, color = 'red')\n",
    "\n",
    "solution_g1.y[:,-1]\n",
    "solution_g2.y[:,-1]\n",
    "solution_g3.y[:,-1]\n",
    "fig.show()"
   ]
  },
  {
   "cell_type": "code",
   "execution_count": 18,
   "metadata": {},
   "outputs": [
    {
     "data": {
      "text/plain": [
       "(80, 80)"
      ]
     },
     "execution_count": 18,
     "metadata": {},
     "output_type": "execute_result"
    }
   ],
   "source": [
    "x_.shape"
   ]
  },
  {
   "cell_type": "code",
   "execution_count": 22,
   "metadata": {},
   "outputs": [
    {
     "data": {
      "text/plain": [
       "<mpl_toolkits.mplot3d.art3d.Poly3DCollection at 0x151d33e050>"
      ]
     },
     "execution_count": 22,
     "metadata": {},
     "output_type": "execute_result"
    },
    {
     "data": {
      "image/png": "[encoded data removed]",
      "text/plain": [
       "<Figure size 432x288 with 1 Axes>"
      ]
     },
     "metadata": {
      "needs_background": "light"
     },
     "output_type": "display_data"
    }
   ],
   "source": [
    "def f(x,y):\n",
    "    return x**2+y**2+4*x*y-10*x-5*y+30\n",
    "\n",
    "fig2 = plt.figure()\n",
    "ax1 = fig2.add_subplot(2,2,1, projection='3d')\n",
    "\n",
    "ax1.plot_surface(xx,yy,f(xx,yy))\n"
   ]
  },
  {
   "cell_type": "code",
   "execution_count": null,
   "metadata": {},
   "outputs": [],
   "source": []
  }
 ],
 "metadata": {
  "kernelspec": {
   "display_name": "Python 3",
   "language": "python",
   "name": "python3"
  },
  "language_info": {
   "codemirror_mode": {
    "name": "ipython",
    "version": 3
   },
   "file_extension": ".py",
   "mimetype": "text/x-python",
   "name": "python",
   "nbconvert_exporter": "python",
   "pygments_lexer": "ipython3",
   "version": "3.7.4"
  }
 },
 "nbformat": 4,
 "nbformat_minor": 2
}
