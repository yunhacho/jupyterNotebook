{
 "cells": [
  {
   "cell_type": "code",
   "execution_count": 18,
   "metadata": {},
   "outputs": [
    {
     "data": {
      "image/png": "[encoded data removed]",
      "text/plain": [
       "<Figure size 432x288 with 1 Axes>"
      ]
     },
     "metadata": {
      "needs_background": "light"
     },
     "output_type": "display_data"
    }
   ],
   "source": [
    "import numpy as np\n",
    "import matplotlib.pyplot as plt\n",
    "data=np.array(([1,2,3,4,5,6,7,8,9,10],[5.4, 7.8, 11, 13.4, 17.6, 20.1, 23.2, 25.5, 29, 32.3]))\n",
    "plt.figure()\n",
    "plt.scatter(data[0], data[1])\n",
    "plt.plot([1,10],[5,32], c='r')\n",
    "plt.show()\n",
    "# MODEL : y = 2 + 3*x"
   ]
  },
  {
   "cell_type": "code",
   "execution_count": 19,
   "metadata": {},
   "outputs": [],
   "source": [
    "#간단한 linear regressor 만들기\n",
    "#HYPOTHESIS : y = b + w*x\n",
    "b_init = 0\n",
    "w_init = 0\n",
    "def model_prediction(b,w,data): #모델의 예측값\n",
    "    return b + w*data[0]\n",
    "\n",
    "#초기값(b=0,w=0)을 통한 선형모델의 결과 예측(return Loss value)\n",
    "def predict(b, w , model, data):\n",
    "#    n = data.shape[1]\n",
    "    prediction = model(b, w, data)\n",
    "    label = data[1]\n",
    "    loss = prediction - label\n",
    "    \n",
    "    #print(\"Prediction :\",prediction)\n",
    "    #print(\"Real Value :\",label)\n",
    "    return np.sum(loss**2)\n",
    "    \n"
   ]
  },
  {
   "cell_type": "code",
   "execution_count": 20,
   "metadata": {
    "scrolled": true
   },
   "outputs": [
    {
     "data": {
      "text/plain": [
       "4177.11"
      ]
     },
     "execution_count": 20,
     "metadata": {},
     "output_type": "execute_result"
    }
   ],
   "source": [
    "predict(b_init, w_init, model_prediction, data)"
   ]
  },
  {
   "cell_type": "code",
   "execution_count": 21,
   "metadata": {},
   "outputs": [],
   "source": [
    "def partial(b,w, model, data):\n",
    "    h = 0.0000000001\n",
    "    gradient_b =( predict(b_init+h, w_init, model_prediction, data) - predict(b_init, w_init, model_prediction, data) ) / h\n",
    "    gradient_w =( predict(b, w_init+h, model_prediction, data) - predict(b_init, w_init, model_prediction, data) ) / h\n",
    "    \n",
    "    return gradient_b, gradient_w\n",
    "    "
   ]
  },
  {
   "cell_type": "code",
   "execution_count": 22,
   "metadata": {
    "scrolled": true
   },
   "outputs": [
    {
     "data": {
      "text/plain": [
       "(-370.59180613141507, -2533.1974029541016)"
      ]
     },
     "execution_count": 22,
     "metadata": {},
     "output_type": "execute_result"
    }
   ],
   "source": [
    "partial(b_init, w_init, model_prediction, data)"
   ]
  },
  {
   "cell_type": "code",
   "execution_count": 24,
   "metadata": {},
   "outputs": [
    {
     "name": "stdout",
     "output_type": "stream",
     "text": [
      "2.0333359122926 2.9993936117556075\n"
     ]
    }
   ],
   "source": [
    "lr = 0.001\n",
    "#print(f\"초기값 b:{b_init}, w:{w_init}\")\n",
    "for i in range(10000):\n",
    "    gb, gw = partial(b_init, w_init, model_prediction, data)\n",
    "    b_init = b_init - lr * gb\n",
    "    w_init = w_init - lr * gw\n",
    "    #print(f\"{i}단계 b:{b_init}, w:{w_init}\")\n",
    "print(b_init, w_init)"
   ]
  },
  {
   "cell_type": "code",
   "execution_count": 80,
   "metadata": {},
   "outputs": [
    {
     "name": "stdout",
     "output_type": "stream",
     "text": [
      "Prediction : [ 6.001  9.001 12.001 15.001 18.001 21.001 24.001 27.001 30.001 33.001]\n",
      "Real Value : [ 5.4  7.8 11.  13.4 17.6 20.1 23.2 25.5 29.  32.3]\n",
      "Prediction : [ 6.  9. 12. 15. 18. 21. 24. 27. 30. 33.]\n",
      "Real Value : [ 5.4  7.8 11.  13.4 17.6 20.1 23.2 25.5 29.  32.3]\n"
     ]
    }
   ],
   "source": [
    "gradient_b =( predict(b_init+0.001, w_init,model_prediction, data) - predict(b_init, w_init,model_prediction, data) ) / 0.001"
   ]
  },
  {
   "cell_type": "code",
   "execution_count": 81,
   "metadata": {},
   "outputs": [
    {
     "data": {
      "text/plain": [
       "19.410000000004146"
      ]
     },
     "execution_count": 81,
     "metadata": {},
     "output_type": "execute_result"
    }
   ],
   "source": [
    "gradient_b"
   ]
  },
  {
   "cell_type": "code",
   "execution_count": null,
   "metadata": {},
   "outputs": [],
   "source": [
    "predict(b_init, w_init, model_predict)"
   ]
  },
  {
   "cell_type": "code",
   "execution_count": 43,
   "metadata": {},
   "outputs": [
    {
     "data": {
      "text/plain": [
       "array([[101. , 102. , 103. , 104. , 105. , 106. , 107. , 108. , 109. ,\n",
       "        110. ],\n",
       "       [105.4, 107.8, 111. , 113.4, 117.6, 120.1, 123.2, 125.5, 129. ,\n",
       "        132.3]])"
      ]
     },
     "execution_count": 43,
     "metadata": {},
     "output_type": "execute_result"
    }
   ],
   "source": [
    "data+100"
   ]
  },
  {
   "cell_type": "code",
   "execution_count": 27,
   "metadata": {},
   "outputs": [],
   "source": [
    "def ReLU(x):\n",
    "    return max(0,x)"
   ]
  },
  {
   "cell_type": "code",
   "execution_count": 28,
   "metadata": {},
   "outputs": [
    {
     "name": "stdout",
     "output_type": "stream",
     "text": [
      "hi\n"
     ]
    }
   ],
   "source": [
    "class NN:\n",
    "    def __init__(self, units=[3,3,1], activation='ReLU'):\n"
   ]
  }
 ],
 "metadata": {
  "kernelspec": {
   "display_name": "Python 3",
   "language": "python",
   "name": "python3"
  },
  "language_info": {
   "codemirror_mode": {
    "name": "ipython",
    "version": 3
   },
   "file_extension": ".py",
   "mimetype": "text/x-python",
   "name": "python",
   "nbconvert_exporter": "python",
   "pygments_lexer": "ipython3",
   "version": "3.7.4"
  }
 },
 "nbformat": 4,
 "nbformat_minor": 2
}
