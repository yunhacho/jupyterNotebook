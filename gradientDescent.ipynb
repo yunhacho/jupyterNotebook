{
 "cells": [
  {
   "cell_type": "code",
   "execution_count": 5,
   "metadata": {},
   "outputs": [
    {
     "data": {
      "text/plain": [
       "[<matplotlib.lines.Line2D at 0x111571a50>]"
      ]
     },
     "execution_count": 5,
     "metadata": {},
     "output_type": "execute_result"
    }
   ],
   "source": [
    "import numpy as np\n",
    "import matplotlib.pyplot as plt\n",
    "data=np.array(([1,2,3,4,5,6,7,8,9,10],[5.4, 7.8, 11, 13.4, 17.6, 20.1, 23.2, 25.5, 29, 32.3]))\n",
    "plt.figure()\n",
    "plt.scatter(data[0], data[1])\n",
    "plt.plot([1,10],[5,32], c='r')\n",
    "# MODEL : y = 2 + 3*x"
   ]
  },
  {
   "cell_type": "code",
   "execution_count": 79,
   "metadata": {},
   "outputs": [],
   "source": [
    "#간단한 linear regressor 만들기\n",
    "#HYPOTHESIS : y = b + w*x\n",
    "b_init = 3\n",
    "w_init = 3\n",
    "def model_prediction(b,w,data): #모델의 예측값\n",
    "    return b + w*data[0]\n",
    "\n",
    "#초기값(b=0,w=0)을 통한 선형모델의 결과 예측\n",
    "def predict(b, w , model, data):\n",
    "#    n = data.shape[1]\n",
    "    prediction = model(b, w, data)\n",
    "    label = data[1]\n",
    "    loss = prediction - label\n",
    "    print(\"Prediction :\",prediction)\n",
    "    print(\"Real Value :\",label)\n",
    "    return np.sum(loss**2)\n",
    "    \n"
   ]
  },
  {
   "cell_type": "code",
   "execution_count": 57,
   "metadata": {},
   "outputs": [
    {
     "name": "stdout",
     "output_type": "stream",
     "text": [
      "Prediction : [ 5.  8. 11. 14. 17. 20. 23. 26. 29. 32.]\n",
      "Real Value : [ 5.4  7.8 11.  13.4 17.6 20.1 23.2 25.5 29.  32.3]\n"
     ]
    },
    {
     "data": {
      "text/plain": [
       "1.3099999999999998"
      ]
     },
     "execution_count": 57,
     "metadata": {},
     "output_type": "execute_result"
    }
   ],
   "source": [
    "predict(b_init, w_init, model_prediction, data)"
   ]
  },
  {
   "cell_type": "code",
   "execution_count": 44,
   "metadata": {},
   "outputs": [],
   "source": [
    "def partial(b,w, model, data):\n",
    "    h = 0.000001\n",
    "    gradient_b =( model(b+h, w, data) - model(b, w, data) ) / h"
   ]
  },
  {
   "cell_type": "code",
   "execution_count": 58,
   "metadata": {
    "scrolled": false
   },
   "outputs": [
    {
     "ename": "TypeError",
     "evalue": "model_prediction() missing 2 required positional arguments: 'w' and 'data'",
     "output_type": "error",
     "traceback": [
      "\u001b[0;31m---------------------------------------------------------------------------\u001b[0m",
      "\u001b[0;31mTypeError\u001b[0m                                 Traceback (most recent call last)",
      "\u001b[0;32m<ipython-input-58-83bb100e4a18>\u001b[0m in \u001b[0;36m<module>\u001b[0;34m\u001b[0m\n\u001b[0;32m----> 1\u001b[0;31m \u001b[0mpartial\u001b[0m\u001b[0;34m(\u001b[0m\u001b[0mmodel_prediction\u001b[0m\u001b[0;34m,\u001b[0m \u001b[0mdata\u001b[0m\u001b[0;34m)\u001b[0m\u001b[0;34m\u001b[0m\u001b[0;34m\u001b[0m\u001b[0m\n\u001b[0m",
      "\u001b[0;32m<ipython-input-44-406c1cbc14ae>\u001b[0m in \u001b[0;36mpartial\u001b[0;34m(model, data)\u001b[0m\n\u001b[1;32m      1\u001b[0m \u001b[0;32mdef\u001b[0m \u001b[0mpartial\u001b[0m\u001b[0;34m(\u001b[0m\u001b[0mmodel\u001b[0m\u001b[0;34m,\u001b[0m \u001b[0mdata\u001b[0m\u001b[0;34m)\u001b[0m\u001b[0;34m:\u001b[0m\u001b[0;34m\u001b[0m\u001b[0;34m\u001b[0m\u001b[0m\n\u001b[1;32m      2\u001b[0m     \u001b[0mh\u001b[0m \u001b[0;34m=\u001b[0m \u001b[0;36m0.000001\u001b[0m\u001b[0;34m\u001b[0m\u001b[0;34m\u001b[0m\u001b[0m\n\u001b[0;32m----> 3\u001b[0;31m     \u001b[0;32mreturn\u001b[0m \u001b[0;34m(\u001b[0m \u001b[0mmodel\u001b[0m\u001b[0;34m(\u001b[0m\u001b[0mdata\u001b[0m\u001b[0;34m+\u001b[0m\u001b[0mh\u001b[0m\u001b[0;34m)\u001b[0m \u001b[0;34m-\u001b[0m \u001b[0mmodel\u001b[0m\u001b[0;34m(\u001b[0m\u001b[0mdata\u001b[0m\u001b[0;34m)\u001b[0m \u001b[0;34m)\u001b[0m \u001b[0;34m/\u001b[0m \u001b[0mh\u001b[0m\u001b[0;34m\u001b[0m\u001b[0;34m\u001b[0m\u001b[0m\n\u001b[0m",
      "\u001b[0;31mTypeError\u001b[0m: model_prediction() missing 2 required positional arguments: 'w' and 'data'"
     ]
    }
   ],
   "source": [
    "partial(model_prediction, data)"
   ]
  },
  {
   "cell_type": "code",
   "execution_count": 80,
   "metadata": {},
   "outputs": [
    {
     "name": "stdout",
     "output_type": "stream",
     "text": [
      "Prediction : [ 6.001  9.001 12.001 15.001 18.001 21.001 24.001 27.001 30.001 33.001]\n",
      "Real Value : [ 5.4  7.8 11.  13.4 17.6 20.1 23.2 25.5 29.  32.3]\n",
      "Prediction : [ 6.  9. 12. 15. 18. 21. 24. 27. 30. 33.]\n",
      "Real Value : [ 5.4  7.8 11.  13.4 17.6 20.1 23.2 25.5 29.  32.3]\n"
     ]
    }
   ],
   "source": [
    "gradient_b =( predict(b_init+0.001, w_init,model_prediction, data) - predict(b_init, w_init,model_prediction, data) ) / 0.001"
   ]
  },
  {
   "cell_type": "code",
   "execution_count": 81,
   "metadata": {},
   "outputs": [
    {
     "data": {
      "text/plain": [
       "19.410000000004146"
      ]
     },
     "execution_count": 81,
     "metadata": {},
     "output_type": "execute_result"
    }
   ],
   "source": [
    "gradient_b"
   ]
  },
  {
   "cell_type": "code",
   "execution_count": null,
   "metadata": {},
   "outputs": [],
   "source": []
  },
  {
   "cell_type": "code",
   "execution_count": 43,
   "metadata": {},
   "outputs": [
    {
     "data": {
      "text/plain": [
       "array([[101. , 102. , 103. , 104. , 105. , 106. , 107. , 108. , 109. ,\n",
       "        110. ],\n",
       "       [105.4, 107.8, 111. , 113.4, 117.6, 120.1, 123.2, 125.5, 129. ,\n",
       "        132.3]])"
      ]
     },
     "execution_count": 43,
     "metadata": {},
     "output_type": "execute_result"
    }
   ],
   "source": [
    "data+100"
   ]
  },
  {
   "cell_type": "code",
   "execution_count": null,
   "metadata": {},
   "outputs": [],
   "source": []
  }
 ],
 "metadata": {
  "kernelspec": {
   "display_name": "Python 3",
   "language": "python",
   "name": "python3"
  },
  "language_info": {
   "codemirror_mode": {
    "name": "ipython",
    "version": 3
   },
   "file_extension": ".py",
   "mimetype": "text/x-python",
   "name": "python",
   "nbconvert_exporter": "python",
   "pygments_lexer": "ipython3",
   "version": "3.7.4"
  }
 },
 "nbformat": 4,
 "nbformat_minor": 2
}
