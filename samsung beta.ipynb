{
 "cells": [
  {
   "cell_type": "code",
   "execution_count": 12,
   "metadata": {},
   "outputs": [],
   "source": [
    "import pykrx.stock as stock\n",
    "import pandas as pd\n",
    "import numpy as np\n",
    "import matplotlib.pyplot as plt\n",
    "\n",
    "samsung = stock.get_market_ohlcv_by_date('20001226','20191231','005380')#'005930')"
   ]
  },
  {
   "cell_type": "code",
   "execution_count": 2,
   "metadata": {},
   "outputs": [
    {
     "ename": "NameError",
     "evalue": "name 'betaData' is not defined",
     "output_type": "error",
     "traceback": [
      "\u001b[1;31m---------------------------------------------------------------------------\u001b[0m",
      "\u001b[1;31mNameError\u001b[0m                                 Traceback (most recent call last)",
      "\u001b[1;32m<ipython-input-2-4f1fde3b4792>\u001b[0m in \u001b[0;36m<module>\u001b[1;34m\u001b[0m\n\u001b[1;32m----> 1\u001b[1;33m \u001b[0msamsung\u001b[0m\u001b[1;33m[\u001b[0m\u001b[1;34m'Mkt-Rf'\u001b[0m\u001b[1;33m]\u001b[0m \u001b[1;33m=\u001b[0m \u001b[0mbetaData\u001b[0m\u001b[1;33m[\u001b[0m\u001b[1;34m'Mkt-Rf'\u001b[0m\u001b[1;33m]\u001b[0m\u001b[1;33m\u001b[0m\u001b[1;33m\u001b[0m\u001b[0m\n\u001b[0m",
      "\u001b[1;31mNameError\u001b[0m: name 'betaData' is not defined"
     ]
    }
   ],
   "source": [
    "samsung['Mkt-Rf'] = betaData['Mkt-Rf']"
   ]
  },
  {
   "cell_type": "code",
   "execution_count": 3,
   "metadata": {
    "scrolled": true
   },
   "outputs": [
    {
     "data": {
      "text/html": [
       "<div>\n",
       "<style scoped>\n",
       "    .dataframe tbody tr th:only-of-type {\n",
       "        vertical-align: middle;\n",
       "    }\n",
       "\n",
       "    .dataframe tbody tr th {\n",
       "        vertical-align: top;\n",
       "    }\n",
       "\n",
       "    .dataframe thead th {\n",
       "        text-align: right;\n",
       "    }\n",
       "</style>\n",
       "<table border=\"1\" class=\"dataframe\">\n",
       "  <thead>\n",
       "    <tr style=\"text-align: right;\">\n",
       "      <th></th>\n",
       "      <th>시가</th>\n",
       "      <th>고가</th>\n",
       "      <th>저가</th>\n",
       "      <th>종가</th>\n",
       "      <th>거래량</th>\n",
       "    </tr>\n",
       "    <tr>\n",
       "      <th>날짜</th>\n",
       "      <th></th>\n",
       "      <th></th>\n",
       "      <th></th>\n",
       "      <th></th>\n",
       "      <th></th>\n",
       "    </tr>\n",
       "  </thead>\n",
       "  <tbody>\n",
       "    <tr>\n",
       "      <td>2000-12-26</td>\n",
       "      <td>3230</td>\n",
       "      <td>3240</td>\n",
       "      <td>3160</td>\n",
       "      <td>3160</td>\n",
       "      <td>1208632</td>\n",
       "    </tr>\n",
       "    <tr>\n",
       "      <td>2001-01-02</td>\n",
       "      <td>3160</td>\n",
       "      <td>3380</td>\n",
       "      <td>3140</td>\n",
       "      <td>3350</td>\n",
       "      <td>789127</td>\n",
       "    </tr>\n",
       "    <tr>\n",
       "      <td>2001-01-03</td>\n",
       "      <td>3229</td>\n",
       "      <td>3420</td>\n",
       "      <td>3220</td>\n",
       "      <td>3370</td>\n",
       "      <td>757143</td>\n",
       "    </tr>\n",
       "    <tr>\n",
       "      <td>2001-01-04</td>\n",
       "      <td>3790</td>\n",
       "      <td>3870</td>\n",
       "      <td>3660</td>\n",
       "      <td>3780</td>\n",
       "      <td>2398248</td>\n",
       "    </tr>\n",
       "    <tr>\n",
       "      <td>2001-01-05</td>\n",
       "      <td>3760</td>\n",
       "      <td>3920</td>\n",
       "      <td>3700</td>\n",
       "      <td>3900</td>\n",
       "      <td>1562744</td>\n",
       "    </tr>\n",
       "    <tr>\n",
       "      <td>...</td>\n",
       "      <td>...</td>\n",
       "      <td>...</td>\n",
       "      <td>...</td>\n",
       "      <td>...</td>\n",
       "      <td>...</td>\n",
       "    </tr>\n",
       "    <tr>\n",
       "      <td>2019-12-23</td>\n",
       "      <td>56100</td>\n",
       "      <td>56400</td>\n",
       "      <td>55100</td>\n",
       "      <td>55500</td>\n",
       "      <td>9839252</td>\n",
       "    </tr>\n",
       "    <tr>\n",
       "      <td>2019-12-24</td>\n",
       "      <td>55600</td>\n",
       "      <td>55700</td>\n",
       "      <td>54800</td>\n",
       "      <td>55000</td>\n",
       "      <td>11868463</td>\n",
       "    </tr>\n",
       "    <tr>\n",
       "      <td>2019-12-26</td>\n",
       "      <td>54700</td>\n",
       "      <td>55400</td>\n",
       "      <td>54400</td>\n",
       "      <td>55400</td>\n",
       "      <td>9645034</td>\n",
       "    </tr>\n",
       "    <tr>\n",
       "      <td>2019-12-27</td>\n",
       "      <td>55700</td>\n",
       "      <td>56900</td>\n",
       "      <td>55500</td>\n",
       "      <td>56500</td>\n",
       "      <td>12313056</td>\n",
       "    </tr>\n",
       "    <tr>\n",
       "      <td>2019-12-30</td>\n",
       "      <td>56200</td>\n",
       "      <td>56600</td>\n",
       "      <td>55700</td>\n",
       "      <td>55800</td>\n",
       "      <td>8356767</td>\n",
       "    </tr>\n",
       "  </tbody>\n",
       "</table>\n",
       "<p>4696 rows × 5 columns</p>\n",
       "</div>"
      ],
      "text/plain": [
       "               시가     고가     저가     종가       거래량\n",
       "날짜                                              \n",
       "2000-12-26   3230   3240   3160   3160   1208632\n",
       "2001-01-02   3160   3380   3140   3350    789127\n",
       "2001-01-03   3229   3420   3220   3370    757143\n",
       "2001-01-04   3790   3870   3660   3780   2398248\n",
       "2001-01-05   3760   3920   3700   3900   1562744\n",
       "...           ...    ...    ...    ...       ...\n",
       "2019-12-23  56100  56400  55100  55500   9839252\n",
       "2019-12-24  55600  55700  54800  55000  11868463\n",
       "2019-12-26  54700  55400  54400  55400   9645034\n",
       "2019-12-27  55700  56900  55500  56500  12313056\n",
       "2019-12-30  56200  56600  55700  55800   8356767\n",
       "\n",
       "[4696 rows x 5 columns]"
      ]
     },
     "execution_count": 3,
     "metadata": {},
     "output_type": "execute_result"
    }
   ],
   "source": [
    "samsung"
   ]
  },
  {
   "cell_type": "code",
   "execution_count": 13,
   "metadata": {},
   "outputs": [
    {
     "name": "stderr",
     "output_type": "stream",
     "text": [
      "C:\\Users\\kimyc\\Anaconda3\\lib\\site-packages\\ipykernel_launcher.py:4: SettingWithCopyWarning: \n",
      "A value is trying to be set on a copy of a slice from a DataFrame\n",
      "\n",
      "See the caveats in the documentation: http://pandas.pydata.org/pandas-docs/stable/user_guide/indexing.html#returning-a-view-versus-a-copy\n",
      "  after removing the cwd from sys.path.\n"
     ]
    }
   ],
   "source": [
    "samsungRet = samsung[['종가']]\n",
    "\n",
    "for i in range(1, samsung.shape[0]):\n",
    "    samsungRet['종가'].iloc[i] = (samsung['종가'].iloc[i] - samsung['종가'].iloc[i-1])/samsung['종가'].iloc[i-1]\n"
   ]
  },
  {
   "cell_type": "code",
   "execution_count": 14,
   "metadata": {},
   "outputs": [],
   "source": [
    "samsungRet = samsungRet.iloc[1:]"
   ]
  },
  {
   "cell_type": "code",
   "execution_count": 15,
   "metadata": {},
   "outputs": [
    {
     "data": {
      "text/html": [
       "<div>\n",
       "<style scoped>\n",
       "    .dataframe tbody tr th:only-of-type {\n",
       "        vertical-align: middle;\n",
       "    }\n",
       "\n",
       "    .dataframe tbody tr th {\n",
       "        vertical-align: top;\n",
       "    }\n",
       "\n",
       "    .dataframe thead th {\n",
       "        text-align: right;\n",
       "    }\n",
       "</style>\n",
       "<table border=\"1\" class=\"dataframe\">\n",
       "  <thead>\n",
       "    <tr style=\"text-align: right;\">\n",
       "      <th></th>\n",
       "      <th>Mkt-Rf</th>\n",
       "      <th>SMB</th>\n",
       "      <th>HML</th>\n",
       "    </tr>\n",
       "  </thead>\n",
       "  <tbody>\n",
       "    <tr>\n",
       "      <td>2001-01-02</td>\n",
       "      <td>0.032197</td>\n",
       "      <td>0.036234</td>\n",
       "      <td>-0.020940</td>\n",
       "    </tr>\n",
       "    <tr>\n",
       "      <td>2001-01-03</td>\n",
       "      <td>0.000697</td>\n",
       "      <td>0.027302</td>\n",
       "      <td>-0.004080</td>\n",
       "    </tr>\n",
       "    <tr>\n",
       "      <td>2001-01-04</td>\n",
       "      <td>0.069996</td>\n",
       "      <td>-0.016072</td>\n",
       "      <td>-0.010396</td>\n",
       "    </tr>\n",
       "    <tr>\n",
       "      <td>2001-01-05</td>\n",
       "      <td>0.040695</td>\n",
       "      <td>-0.047044</td>\n",
       "      <td>0.030786</td>\n",
       "    </tr>\n",
       "    <tr>\n",
       "      <td>2001-01-08</td>\n",
       "      <td>0.009795</td>\n",
       "      <td>0.015020</td>\n",
       "      <td>0.002680</td>\n",
       "    </tr>\n",
       "    <tr>\n",
       "      <td>...</td>\n",
       "      <td>...</td>\n",
       "      <td>...</td>\n",
       "      <td>...</td>\n",
       "    </tr>\n",
       "    <tr>\n",
       "      <td>2019-12-23</td>\n",
       "      <td>-0.000251</td>\n",
       "      <td>-0.009486</td>\n",
       "      <td>-0.000702</td>\n",
       "    </tr>\n",
       "    <tr>\n",
       "      <td>2019-12-24</td>\n",
       "      <td>-0.006251</td>\n",
       "      <td>-0.004369</td>\n",
       "      <td>0.010865</td>\n",
       "    </tr>\n",
       "    <tr>\n",
       "      <td>2019-12-26</td>\n",
       "      <td>0.003548</td>\n",
       "      <td>0.006016</td>\n",
       "      <td>0.005495</td>\n",
       "    </tr>\n",
       "    <tr>\n",
       "      <td>2019-12-27</td>\n",
       "      <td>0.002848</td>\n",
       "      <td>0.003531</td>\n",
       "      <td>-0.016558</td>\n",
       "    </tr>\n",
       "    <tr>\n",
       "      <td>2019-12-30</td>\n",
       "      <td>-0.003052</td>\n",
       "      <td>0.005342</td>\n",
       "      <td>-0.002908</td>\n",
       "    </tr>\n",
       "  </tbody>\n",
       "</table>\n",
       "<p>4695 rows × 3 columns</p>\n",
       "</div>"
      ],
      "text/plain": [
       "              Mkt-Rf       SMB       HML\n",
       "2001-01-02  0.032197  0.036234 -0.020940\n",
       "2001-01-03  0.000697  0.027302 -0.004080\n",
       "2001-01-04  0.069996 -0.016072 -0.010396\n",
       "2001-01-05  0.040695 -0.047044  0.030786\n",
       "2001-01-08  0.009795  0.015020  0.002680\n",
       "...              ...       ...       ...\n",
       "2019-12-23 -0.000251 -0.009486 -0.000702\n",
       "2019-12-24 -0.006251 -0.004369  0.010865\n",
       "2019-12-26  0.003548  0.006016  0.005495\n",
       "2019-12-27  0.002848  0.003531 -0.016558\n",
       "2019-12-30 -0.003052  0.005342 -0.002908\n",
       "\n",
       "[4695 rows x 3 columns]"
      ]
     },
     "execution_count": 15,
     "metadata": {},
     "output_type": "execute_result"
    }
   ],
   "source": [
    "betaData = pd.read_csv('ff3_kse.csv', index_col=0)\n",
    "ttt = betaData.loc['2001-01-02':'2019-12-30']\n",
    "ttt"
   ]
  },
  {
   "cell_type": "code",
   "execution_count": 16,
   "metadata": {
    "scrolled": true
   },
   "outputs": [
    {
     "data": {
      "text/html": [
       "<div>\n",
       "<style scoped>\n",
       "    .dataframe tbody tr th:only-of-type {\n",
       "        vertical-align: middle;\n",
       "    }\n",
       "\n",
       "    .dataframe tbody tr th {\n",
       "        vertical-align: top;\n",
       "    }\n",
       "\n",
       "    .dataframe thead th {\n",
       "        text-align: right;\n",
       "    }\n",
       "</style>\n",
       "<table border=\"1\" class=\"dataframe\">\n",
       "  <thead>\n",
       "    <tr style=\"text-align: right;\">\n",
       "      <th></th>\n",
       "      <th>종가</th>\n",
       "      <th>Mkt-Rf</th>\n",
       "    </tr>\n",
       "    <tr>\n",
       "      <th>날짜</th>\n",
       "      <th></th>\n",
       "      <th></th>\n",
       "    </tr>\n",
       "  </thead>\n",
       "  <tbody>\n",
       "    <tr>\n",
       "      <td>2001-01-02</td>\n",
       "      <td>-0.033058</td>\n",
       "      <td>0.032197</td>\n",
       "    </tr>\n",
       "    <tr>\n",
       "      <td>2001-01-03</td>\n",
       "      <td>0.017094</td>\n",
       "      <td>0.000697</td>\n",
       "    </tr>\n",
       "    <tr>\n",
       "      <td>2001-01-04</td>\n",
       "      <td>0.071429</td>\n",
       "      <td>0.069996</td>\n",
       "    </tr>\n",
       "    <tr>\n",
       "      <td>2001-01-05</td>\n",
       "      <td>0.070588</td>\n",
       "      <td>0.040695</td>\n",
       "    </tr>\n",
       "    <tr>\n",
       "      <td>2001-01-08</td>\n",
       "      <td>0.036630</td>\n",
       "      <td>0.009795</td>\n",
       "    </tr>\n",
       "    <tr>\n",
       "      <td>...</td>\n",
       "      <td>...</td>\n",
       "      <td>...</td>\n",
       "    </tr>\n",
       "    <tr>\n",
       "      <td>2019-12-23</td>\n",
       "      <td>-0.012097</td>\n",
       "      <td>-0.000251</td>\n",
       "    </tr>\n",
       "    <tr>\n",
       "      <td>2019-12-24</td>\n",
       "      <td>-0.004082</td>\n",
       "      <td>-0.006251</td>\n",
       "    </tr>\n",
       "    <tr>\n",
       "      <td>2019-12-26</td>\n",
       "      <td>0.004098</td>\n",
       "      <td>0.003548</td>\n",
       "    </tr>\n",
       "    <tr>\n",
       "      <td>2019-12-27</td>\n",
       "      <td>-0.016327</td>\n",
       "      <td>0.002848</td>\n",
       "    </tr>\n",
       "    <tr>\n",
       "      <td>2019-12-30</td>\n",
       "      <td>0.000000</td>\n",
       "      <td>-0.003052</td>\n",
       "    </tr>\n",
       "  </tbody>\n",
       "</table>\n",
       "<p>4695 rows × 2 columns</p>\n",
       "</div>"
      ],
      "text/plain": [
       "                  종가    Mkt-Rf\n",
       "날짜                            \n",
       "2001-01-02 -0.033058  0.032197\n",
       "2001-01-03  0.017094  0.000697\n",
       "2001-01-04  0.071429  0.069996\n",
       "2001-01-05  0.070588  0.040695\n",
       "2001-01-08  0.036630  0.009795\n",
       "...              ...       ...\n",
       "2019-12-23 -0.012097 -0.000251\n",
       "2019-12-24 -0.004082 -0.006251\n",
       "2019-12-26  0.004098  0.003548\n",
       "2019-12-27 -0.016327  0.002848\n",
       "2019-12-30  0.000000 -0.003052\n",
       "\n",
       "[4695 rows x 2 columns]"
      ]
     },
     "execution_count": 16,
     "metadata": {},
     "output_type": "execute_result"
    }
   ],
   "source": [
    "samsungRet['Mkt-Rf'] = ttt['Mkt-Rf']\n",
    "samsungRet"
   ]
  },
  {
   "cell_type": "code",
   "execution_count": 8,
   "metadata": {},
   "outputs": [],
   "source": [
    "b_init = 0\n",
    "w_init = 0\n",
    "\n",
    "def hypothesis(b,w, data):\n",
    "    return b + w * data['Mkt-Rf']\n",
    "\n",
    "def predict(b, w, model, data):\n",
    "    prediction = model(b,w,data)\n",
    "    label = data['종가']\n",
    "    loss = prediction - label\n",
    "    \n",
    "    return np.sum(loss**2)"
   ]
  },
  {
   "cell_type": "code",
   "execution_count": 9,
   "metadata": {},
   "outputs": [
    {
     "data": {
      "text/plain": [
       "2.0352416368234207"
      ]
     },
     "execution_count": 9,
     "metadata": {},
     "output_type": "execute_result"
    }
   ],
   "source": [
    "predict(b_init, w_init, hypothesis, samsungRet)"
   ]
  },
  {
   "cell_type": "code",
   "execution_count": 10,
   "metadata": {},
   "outputs": [],
   "source": [
    "def partial(b,w, model, data):\n",
    "    h = 0.0000001\n",
    "    gradient_b = (predict(b_init+h, w_init, hypothesis, samsungRet) - predict(b_init, w_init, hypothesis, samsungRet)) / h\n",
    "    gradient_w = (predict(b_init, w_init+h, hypothesis, samsungRet) - predict(b_init, w_init, hypothesis, samsungRet)) / h\n",
    "    return gradient_b, gradient_w\n",
    "\n",
    "    "
   ]
  },
  {
   "cell_type": "code",
   "execution_count": 11,
   "metadata": {},
   "outputs": [
    {
     "data": {
      "text/plain": [
       "(-7.771404382239666, -1.9954598773352927)"
      ]
     },
     "execution_count": 11,
     "metadata": {},
     "output_type": "execute_result"
    }
   ],
   "source": [
    "partial(b_init, w_init, hypothesis, samsungRet)"
   ]
  },
  {
   "cell_type": "code",
   "execution_count": 16,
   "metadata": {},
   "outputs": [
    {
     "name": "stdout",
     "output_type": "stream",
     "text": [
      "initial value b:0.0004934298635017598, w:1.146616051884397\n",
      "0 ____ b:0.0004934298551750871, w:1.1466160800384317\n",
      "100 ____ b:0.0004934290416036546, w:1.1466188708613378\n",
      "200 ____ b:0.0004934282421320546, w:1.1466216135928242\n",
      "300 ____ b:0.0004934274562051755, w:1.1466243090613393\n",
      "400 ____ b:0.0004934266840450618, w:1.1466269580810096\n",
      "500 ____ b:0.0004934259250966022, w:1.1466295614518618\n",
      "600 ____ b:0.000493425179137752, w:1.1466321199623764\n",
      "700 ____ b:0.0004934244463905557, w:1.1466346343834921\n",
      "800 ____ b:0.000493423725966835, w:1.146637105476045\n",
      "900 ____ b:0.0004934230179776122, w:1.1466395339865487\n",
      "1000 ____ b:0.0004934223220898204, w:1.146641920649194\n",
      "1100 ____ b:0.0004934216384144818, w:1.1466442661850706\n",
      "1200 ____ b:0.0004934209665075073, w:1.1466465712988372\n",
      "1300 ____ b:0.00049342030603583, w:1.1466488366932648\n",
      "1400 ____ b:0.0004934196571104721, w:1.1466510630499194\n",
      "1500 ____ b:0.0004934190191763221, w:1.1466532510421512\n",
      "1600 ____ b:0.0004934183923444024, w:1.1466554013289887\n",
      "1700 ____ b:0.0004934177762816461, w:1.1466575145643532\n",
      "1800 ____ b:0.0004934171710990753, w:1.1466595913816269\n",
      "1900 ____ b:0.0004934165757974895, w:1.1466616324118606\n",
      "2000 ____ b:0.0004934159912650671, w:1.14666363827034\n",
      "2100 ____ b:0.0004934154163915849, w:1.1466656095639127\n",
      "2200 ____ b:0.0004934148516211323, w:1.1466675468873255\n",
      "2300 ____ b:0.0004934142968426869, w:1.1466694508275532\n",
      "2400 ____ b:0.0004934137515011372, w:1.1466713219591362\n",
      "2500 ____ b:0.000493413215152394, w:1.1466731608459568\n",
      "2600 ____ b:0.0004934126882405465, w:1.1466749680462351\n",
      "2700 ____ b:0.0004934121705435501, w:1.1466767441036474\n",
      "2800 ____ b:0.0004934116618393602, w:1.1466784895566517\n",
      "2900 ____ b:0.0004934111616838877, w:1.1466802049302727\n",
      "3000 ____ b:0.000493410670299177, w:1.1466818907448717\n",
      "3100 ____ b:0.0004934101872411389, w:1.146683547509042\n",
      "3200 ____ b:0.0004934097127318182, w:1.146685175723272\n",
      "3300 ____ b:0.0004934092462161033, w:1.1466867758808341\n",
      "3400 ____ b:0.0004934087876939941, w:1.1466883484627877\n",
      "3500 ____ b:0.000493408337276513, w:1.1466898939469727\n",
      "3600 ____ b:0.0004934078945195708, w:1.1466914128002381\n",
      "3700 ____ b:0.0004934074594231674, w:1.146692905481439\n",
      "3800 ____ b:0.0004934070317652584, w:1.1466943724383283\n",
      "3900 ____ b:0.0004934066113237989, w:1.1466958141169936\n",
      "4000 ____ b:0.0004934061985428784, w:1.1466972309524204\n",
      "4100 ____ b:0.000493405792423296, w:1.1466986233721554\n",
      "4200 ____ b:0.0004934053935201632, w:1.1466999917978615\n",
      "4300 ____ b:0.0004934050015004132, w:1.14670133664454\n",
      "4400 ____ b:0.0004934046161420014, w:1.1467026583152018\n",
      "4500 ____ b:0.0004934042373339054, w:1.1467039572104154\n",
      "4600 ____ b:0.0004934038651871475, w:1.1467052337224226\n",
      "4700 ____ b:0.0004934034997017278, w:1.146706488237914\n",
      "4800 ____ b:0.0004934031402115124, w:1.1467077211341437\n",
      "4900 ____ b:0.0004934027870495683, w:1.1467089327863667\n",
      "5000 ____ b:0.0004934024399938508, w:1.1467101235590693\n",
      "5100 ____ b:0.000493402098711293, w:1.146711293811964\n",
      "5200 ____ b:0.0004934017636459842, w:1.1467124438987675\n",
      "5300 ____ b:0.0004934014340207682, w:1.146713574167424\n",
      "5400 ____ b:0.0004934011101687119, w:1.1467146849592158\n",
      "5500 ____ b:0.000493400791978793, w:1.1467157766076541\n",
      "5600 ____ b:0.0004934004791179447, w:1.146716849446916\n",
      "5700 ____ b:0.0004934001716971892, w:1.146717903798855\n",
      "5800 ____ b:0.0004933998698275488, w:1.1467189399815503\n",
      "5900 ____ b:0.000493399572953912, w:1.1467199583081955\n",
      "6000 ____ b:0.0004933992812983234, w:1.1467209590874328\n",
      "6100 ____ b:0.0004933989944166939, w:1.1467219426213537\n",
      "6200 ____ b:0.0004933987126420902, w:1.1467229092036124\n",
      "6300 ____ b:0.0004933984358634902, w:1.146723859133525\n",
      "6400 ____ b:0.0004933981636368046, w:1.146724792692977\n",
      "6500 ____ b:0.0004933978961840779, w:1.1467257101661854\n",
      "6600 ____ b:0.0004933976332832657, w:1.1467266118285968\n",
      "6700 ____ b:0.0004933973751564125, w:1.146727497953104\n",
      "6800 ____ b:0.0004933971210263621, w:1.1467283688086027\n",
      "6900 ____ b:0.0004933968717812931, w:1.146729224657106\n",
      "7000 ____ b:0.0004933966264220047, w:1.1467300657581836\n",
      "7100 ____ b:0.0004933963855036083, w:1.1467308923637454\n",
      "7200 ____ b:0.0004933961486930372, w:1.1467317047258119\n",
      "7300 ____ b:0.0004933959159902912, w:1.1467325030897424\n",
      "7400 ____ b:0.0004933956872843481, w:1.1467332876957892\n",
      "7500 ____ b:0.0004933954624641856, w:1.146734058781318\n",
      "7600 ____ b:0.0004933952415298037, w:1.1467348165778102\n",
      "7700 ____ b:0.0004933950245922247, w:1.1467355613171915\n",
      "7800 ____ b:0.0004933948109853148, w:1.1467362932228387\n",
      "7900 ____ b:0.0004933946012641854, w:1.1467370125154641\n",
      "8000 ____ b:0.0004933943953178144, w:1.1467377194141148\n",
      "8100 ____ b:0.0004933941928131347, w:1.1467384141312875\n",
      "8200 ____ b:0.0004933939936391241, w:1.146739096875704\n",
      "8300 ____ b:0.0004933937982398717, w:1.1467397678564195\n",
      "8400 ____ b:0.0004933936060602662, w:1.146740427273385\n",
      "8500 ____ b:0.0004933934169892851, w:1.146741075328217\n",
      "8600 ____ b:0.000493393231248973, w:1.146741712217647\n",
      "8700 ____ b:0.0004933930488393301, w:1.1467423381306352\n",
      "8800 ____ b:0.0004933928695383116, w:1.1467429532569184\n",
      "8900 ____ b:0.0004933926932348953, w:1.1467435577826812\n",
      "9000 ____ b:0.0004933925201511258, w:1.1467441518921095\n",
      "9100 ____ b:0.0004933923498429138, w:1.1467447357638383\n",
      "9200 ____ b:0.0004933921826433263, w:1.1467453095753921\n",
      "9300 ____ b:0.0004933920182192963, w:1.1467458734985225\n",
      "9400 ____ b:0.000493391856570824, w:1.146746427704759\n",
      "9500 ____ b:0.0004933916979199537, w:1.146746972360746\n",
      "9600 ____ b:0.0004933915418225965, w:1.1467475076304634\n",
      "9700 ____ b:0.0004933913885007968, w:1.146748033676892\n",
      "9800 ____ b:0.00049339123773251, w:1.1467485506566844\n",
      "9900 ____ b:0.0004933910896287586, w:1.1467490587264928\n",
      "0.00049339094552181 1.1467495530942617\n"
     ]
    }
   ],
   "source": [
    "lr = 0.0001\n",
    "print(f\"initial value b:{b_init}, w:{w_init}\")\n",
    "for i in range(10000):\n",
    "    gb, gw = partial(b_init, w_init, hypothesis, samsungRet)\n",
    "    b_init = b_init - lr * gb\n",
    "    w_init = w_init - lr * gw\n",
    "    if i %1000 == 0 :\n",
    "        print(f\"{i} ____ b:{b_init}, w:{w_init}\")\n",
    "print(b_init, w_init)"
   ]
  },
  {
   "cell_type": "code",
   "execution_count": 37,
   "metadata": {},
   "outputs": [
    {
     "data": {
      "text/plain": [
       "(1.3322676295501878e-08, -4.950262422198648e-05)"
      ]
     },
     "execution_count": 37,
     "metadata": {},
     "output_type": "execute_result"
    }
   ],
   "source": [
    "partial(b_init, w_init, hypothesis, samsungRet)"
   ]
  },
  {
   "cell_type": "code",
   "execution_count": 35,
   "metadata": {
    "scrolled": true
   },
   "outputs": [
    {
     "data": {
      "text/plain": [
       "[<matplotlib.lines.Line2D at 0x24032048f08>]"
      ]
     },
     "execution_count": 35,
     "metadata": {},
     "output_type": "execute_result"
    },
    {
     "data": {
      "image/png": "[encoded data removed]",
      "text/plain": [
       "<Figure size 432x288 with 1 Axes>"
      ]
     },
     "metadata": {
      "needs_background": "light"
     },
     "output_type": "display_data"
    }
   ],
   "source": [
    "plt.figure()\n",
    "plt.scatter(samsungRet['Mkt-Rf'], samsungRet['종가'])\n",
    "plt.plot([-0.2, 0.2], [-0.2, 0.15] , c='blue')\n",
    "plt.plot([-0.2, 0.2], [-0.2 * w_init + b_init, -0.2 * w_init + b_init], c='y')\n",
    "plt.plot([-0.2, 0.2], [-0.228,0.229], c='red')"
   ]
  },
  {
   "cell_type": "code",
   "execution_count": 36,
   "metadata": {
    "scrolled": true
   },
   "outputs": [
    {
     "data": {
      "text/plain": [
       "[-0.22885651967333054, -0.22885651967333054]"
      ]
     },
     "execution_count": 36,
     "metadata": {},
     "output_type": "execute_result"
    }
   ],
   "source": [
    "[-0.2 * w_init + b_init, -0.2 * w_init + b_init]"
   ]
  },
  {
   "cell_type": "code",
   "execution_count": 23,
   "metadata": {},
   "outputs": [
    {
     "data": {
      "text/plain": [
       "-0.22885651967333054"
      ]
     },
     "execution_count": 23,
     "metadata": {},
     "output_type": "execute_result"
    }
   ],
   "source": [
    "-0.2 * w_init + b_init"
   ]
  },
  {
   "cell_type": "code",
   "execution_count": 24,
   "metadata": {},
   "outputs": [
    {
     "data": {
      "text/plain": [
       "0.22984330156437416"
      ]
     },
     "execution_count": 24,
     "metadata": {},
     "output_type": "execute_result"
    }
   ],
   "source": [
    "0.2* w_init + b_init"
   ]
  },
  {
   "cell_type": "code",
   "execution_count": 27,
   "metadata": {},
   "outputs": [
    {
     "data": {
      "text/plain": [
       "-9521450595.163969"
      ]
     },
     "execution_count": 27,
     "metadata": {},
     "output_type": "execute_result"
    }
   ],
   "source": [
    "b_init"
   ]
  },
  {
   "cell_type": "code",
   "execution_count": 9,
   "metadata": {},
   "outputs": [],
   "source": [
    "kospi = stock.get_market_ohlcv_by_date('20001226','20191231', 'kospi')\n",
    "kospiRet = kospi[['종가']]/100\n",
    "\n",
    "for i in range(1, kospi.shape[0]):\n",
    "    kospiRet['종가'].iloc[i] = (kospi['종가'].iloc[i] - kospi['종가'].iloc[i-1])/kospi['종가'].iloc[i-1]\n"
   ]
  },
  {
   "cell_type": "code",
   "execution_count": 10,
   "metadata": {
    "scrolled": true
   },
   "outputs": [
    {
     "data": {
      "text/html": [
       "<div>\n",
       "<style scoped>\n",
       "    .dataframe tbody tr th:only-of-type {\n",
       "        vertical-align: middle;\n",
       "    }\n",
       "\n",
       "    .dataframe tbody tr th {\n",
       "        vertical-align: top;\n",
       "    }\n",
       "\n",
       "    .dataframe thead th {\n",
       "        text-align: right;\n",
       "    }\n",
       "</style>\n",
       "<table border=\"1\" class=\"dataframe\">\n",
       "  <thead>\n",
       "    <tr style=\"text-align: right;\">\n",
       "      <th></th>\n",
       "      <th>종가</th>\n",
       "    </tr>\n",
       "    <tr>\n",
       "      <th>날짜</th>\n",
       "      <th></th>\n",
       "    </tr>\n",
       "  </thead>\n",
       "  <tbody>\n",
       "    <tr>\n",
       "      <td>2001-01-02</td>\n",
       "      <td>0.032361</td>\n",
       "    </tr>\n",
       "    <tr>\n",
       "      <td>2001-01-03</td>\n",
       "      <td>0.000921</td>\n",
       "    </tr>\n",
       "    <tr>\n",
       "      <td>2001-01-04</td>\n",
       "      <td>0.070172</td>\n",
       "    </tr>\n",
       "    <tr>\n",
       "      <td>2001-01-05</td>\n",
       "      <td>0.040913</td>\n",
       "    </tr>\n",
       "    <tr>\n",
       "      <td>2001-01-08</td>\n",
       "      <td>0.009985</td>\n",
       "    </tr>\n",
       "    <tr>\n",
       "      <td>...</td>\n",
       "      <td>...</td>\n",
       "    </tr>\n",
       "    <tr>\n",
       "      <td>2019-12-23</td>\n",
       "      <td>-0.000213</td>\n",
       "    </tr>\n",
       "    <tr>\n",
       "      <td>2019-12-24</td>\n",
       "      <td>-0.006185</td>\n",
       "    </tr>\n",
       "    <tr>\n",
       "      <td>2019-12-26</td>\n",
       "      <td>0.003584</td>\n",
       "    </tr>\n",
       "    <tr>\n",
       "      <td>2019-12-27</td>\n",
       "      <td>0.002857</td>\n",
       "    </tr>\n",
       "    <tr>\n",
       "      <td>2019-12-30</td>\n",
       "      <td>-0.002967</td>\n",
       "    </tr>\n",
       "  </tbody>\n",
       "</table>\n",
       "<p>4695 rows × 1 columns</p>\n",
       "</div>"
      ],
      "text/plain": [
       "                  종가\n",
       "날짜                  \n",
       "2001-01-02  0.032361\n",
       "2001-01-03  0.000921\n",
       "2001-01-04  0.070172\n",
       "2001-01-05  0.040913\n",
       "2001-01-08  0.009985\n",
       "...              ...\n",
       "2019-12-23 -0.000213\n",
       "2019-12-24 -0.006185\n",
       "2019-12-26  0.003584\n",
       "2019-12-27  0.002857\n",
       "2019-12-30 -0.002967\n",
       "\n",
       "[4695 rows x 1 columns]"
      ]
     },
     "execution_count": 10,
     "metadata": {},
     "output_type": "execute_result"
    }
   ],
   "source": [
    "kospiRet = kospiRet[1:]\n",
    "kospiRet"
   ]
  },
  {
   "cell_type": "code",
   "execution_count": 22,
   "metadata": {},
   "outputs": [
    {
     "data": {
      "text/plain": [
       "array([[1.        , 0.60995946],\n",
       "       [0.60995946, 1.        ]])"
      ]
     },
     "execution_count": 22,
     "metadata": {},
     "output_type": "execute_result"
    }
   ],
   "source": [
    "np.corrcoef(samsungRet['종가'], kospiRet['종가'])"
   ]
  }
 ],
 "metadata": {
  "kernelspec": {
   "display_name": "Python 3",
   "language": "python",
   "name": "python3"
  },
  "language_info": {
   "codemirror_mode": {
    "name": "ipython",
    "version": 3
   },
   "file_extension": ".py",
   "mimetype": "text/x-python",
   "name": "python",
   "nbconvert_exporter": "python",
   "pygments_lexer": "ipython3",
   "version": "3.7.4"
  }
 },
 "nbformat": 4,
 "nbformat_minor": 2
}
