{
 "cells": [
  {
   "cell_type": "code",
   "execution_count": 8,
   "metadata": {},
   "outputs": [],
   "source": [
    "# import csv data from pykrx\n",
    "from pykrx import stock\n",
    "srt = \"20050101\"\n",
    "end = \"20191231\"\n",
    "stockCode_leverage = \"122630\"\n",
    "stockCode_inverse_f = \"252670\"\n",
    "df_lev = stock.get_market_ohlcv_by_date(srt, end, stockCode_leverage)\n",
    "df_inv = stock.get_market_ohlcv_by_date(srt, end, stockCode_inverse_f)"
   ]
  },
  {
   "cell_type": "code",
   "execution_count": 10,
   "metadata": {
    "scrolled": false
   },
   "outputs": [
    {
     "data": {
      "text/html": [
       "<div>\n",
       "<style scoped>\n",
       "    .dataframe tbody tr th:only-of-type {\n",
       "        vertical-align: middle;\n",
       "    }\n",
       "\n",
       "    .dataframe tbody tr th {\n",
       "        vertical-align: top;\n",
       "    }\n",
       "\n",
       "    .dataframe thead th {\n",
       "        text-align: right;\n",
       "    }\n",
       "</style>\n",
       "<table border=\"1\" class=\"dataframe\">\n",
       "  <thead>\n",
       "    <tr style=\"text-align: right;\">\n",
       "      <th></th>\n",
       "      <th>시가</th>\n",
       "      <th>고가</th>\n",
       "      <th>저가</th>\n",
       "      <th>종가</th>\n",
       "      <th>거래량</th>\n",
       "    </tr>\n",
       "    <tr>\n",
       "      <th>날짜</th>\n",
       "      <th></th>\n",
       "      <th></th>\n",
       "      <th></th>\n",
       "      <th></th>\n",
       "      <th></th>\n",
       "    </tr>\n",
       "  </thead>\n",
       "  <tbody>\n",
       "    <tr>\n",
       "      <td>2010-02-22</td>\n",
       "      <td>10010</td>\n",
       "      <td>10275</td>\n",
       "      <td>10010</td>\n",
       "      <td>10165</td>\n",
       "      <td>125001</td>\n",
       "    </tr>\n",
       "    <tr>\n",
       "      <td>2010-02-23</td>\n",
       "      <td>10165</td>\n",
       "      <td>10215</td>\n",
       "      <td>10025</td>\n",
       "      <td>10165</td>\n",
       "      <td>261358</td>\n",
       "    </tr>\n",
       "    <tr>\n",
       "      <td>2010-02-24</td>\n",
       "      <td>10060</td>\n",
       "      <td>10060</td>\n",
       "      <td>9865</td>\n",
       "      <td>9935</td>\n",
       "      <td>465118</td>\n",
       "    </tr>\n",
       "    <tr>\n",
       "      <td>2010-02-25</td>\n",
       "      <td>10050</td>\n",
       "      <td>10050</td>\n",
       "      <td>9545</td>\n",
       "      <td>9605</td>\n",
       "      <td>971853</td>\n",
       "    </tr>\n",
       "    <tr>\n",
       "      <td>2010-02-26</td>\n",
       "      <td>9655</td>\n",
       "      <td>9745</td>\n",
       "      <td>9585</td>\n",
       "      <td>9675</td>\n",
       "      <td>483447</td>\n",
       "    </tr>\n",
       "    <tr>\n",
       "      <td>...</td>\n",
       "      <td>...</td>\n",
       "      <td>...</td>\n",
       "      <td>...</td>\n",
       "      <td>...</td>\n",
       "      <td>...</td>\n",
       "    </tr>\n",
       "    <tr>\n",
       "      <td>2019-12-23</td>\n",
       "      <td>14255</td>\n",
       "      <td>14270</td>\n",
       "      <td>14050</td>\n",
       "      <td>14125</td>\n",
       "      <td>10422755</td>\n",
       "    </tr>\n",
       "    <tr>\n",
       "      <td>2019-12-24</td>\n",
       "      <td>14145</td>\n",
       "      <td>14165</td>\n",
       "      <td>13925</td>\n",
       "      <td>13930</td>\n",
       "      <td>8808411</td>\n",
       "    </tr>\n",
       "    <tr>\n",
       "      <td>2019-12-26</td>\n",
       "      <td>13940</td>\n",
       "      <td>14125</td>\n",
       "      <td>13845</td>\n",
       "      <td>14045</td>\n",
       "      <td>9833293</td>\n",
       "    </tr>\n",
       "    <tr>\n",
       "      <td>2019-12-27</td>\n",
       "      <td>14175</td>\n",
       "      <td>14700</td>\n",
       "      <td>14135</td>\n",
       "      <td>14485</td>\n",
       "      <td>25871608</td>\n",
       "    </tr>\n",
       "    <tr>\n",
       "      <td>2019-12-30</td>\n",
       "      <td>14470</td>\n",
       "      <td>14555</td>\n",
       "      <td>14400</td>\n",
       "      <td>14425</td>\n",
       "      <td>7844724</td>\n",
       "    </tr>\n",
       "  </tbody>\n",
       "</table>\n",
       "<p>2432 rows × 5 columns</p>\n",
       "</div>"
      ],
      "text/plain": [
       "               시가     고가     저가     종가       거래량\n",
       "날짜                                              \n",
       "2010-02-22  10010  10275  10010  10165    125001\n",
       "2010-02-23  10165  10215  10025  10165    261358\n",
       "2010-02-24  10060  10060   9865   9935    465118\n",
       "2010-02-25  10050  10050   9545   9605    971853\n",
       "2010-02-26   9655   9745   9585   9675    483447\n",
       "...           ...    ...    ...    ...       ...\n",
       "2019-12-23  14255  14270  14050  14125  10422755\n",
       "2019-12-24  14145  14165  13925  13930   8808411\n",
       "2019-12-26  13940  14125  13845  14045   9833293\n",
       "2019-12-27  14175  14700  14135  14485  25871608\n",
       "2019-12-30  14470  14555  14400  14425   7844724\n",
       "\n",
       "[2432 rows x 5 columns]"
      ]
     },
     "execution_count": 10,
     "metadata": {},
     "output_type": "execute_result"
    }
   ],
   "source": [
    "#data check\n",
    "df_lev"
   ]
  },
  {
   "cell_type": "code",
   "execution_count": 11,
   "metadata": {},
   "outputs": [
    {
     "data": {
      "text/html": [
       "<div>\n",
       "<style scoped>\n",
       "    .dataframe tbody tr th:only-of-type {\n",
       "        vertical-align: middle;\n",
       "    }\n",
       "\n",
       "    .dataframe tbody tr th {\n",
       "        vertical-align: top;\n",
       "    }\n",
       "\n",
       "    .dataframe thead th {\n",
       "        text-align: right;\n",
       "    }\n",
       "</style>\n",
       "<table border=\"1\" class=\"dataframe\">\n",
       "  <thead>\n",
       "    <tr style=\"text-align: right;\">\n",
       "      <th></th>\n",
       "      <th>시가</th>\n",
       "      <th>고가</th>\n",
       "      <th>저가</th>\n",
       "      <th>종가</th>\n",
       "      <th>거래량</th>\n",
       "    </tr>\n",
       "    <tr>\n",
       "      <th>날짜</th>\n",
       "      <th></th>\n",
       "      <th></th>\n",
       "      <th></th>\n",
       "      <th></th>\n",
       "      <th></th>\n",
       "    </tr>\n",
       "  </thead>\n",
       "  <tbody>\n",
       "    <tr>\n",
       "      <td>2016-09-22</td>\n",
       "      <td>9835</td>\n",
       "      <td>9845</td>\n",
       "      <td>9720</td>\n",
       "      <td>9815</td>\n",
       "      <td>7849515</td>\n",
       "    </tr>\n",
       "    <tr>\n",
       "      <td>2016-09-23</td>\n",
       "      <td>9755</td>\n",
       "      <td>9840</td>\n",
       "      <td>9755</td>\n",
       "      <td>9820</td>\n",
       "      <td>9775392</td>\n",
       "    </tr>\n",
       "    <tr>\n",
       "      <td>2016-09-26</td>\n",
       "      <td>9840</td>\n",
       "      <td>9910</td>\n",
       "      <td>9735</td>\n",
       "      <td>9875</td>\n",
       "      <td>10065403</td>\n",
       "    </tr>\n",
       "    <tr>\n",
       "      <td>2016-09-27</td>\n",
       "      <td>9975</td>\n",
       "      <td>10040</td>\n",
       "      <td>9705</td>\n",
       "      <td>9745</td>\n",
       "      <td>15822705</td>\n",
       "    </tr>\n",
       "    <tr>\n",
       "      <td>2016-09-28</td>\n",
       "      <td>9765</td>\n",
       "      <td>9820</td>\n",
       "      <td>9745</td>\n",
       "      <td>9805</td>\n",
       "      <td>9475753</td>\n",
       "    </tr>\n",
       "    <tr>\n",
       "      <td>...</td>\n",
       "      <td>...</td>\n",
       "      <td>...</td>\n",
       "      <td>...</td>\n",
       "      <td>...</td>\n",
       "      <td>...</td>\n",
       "    </tr>\n",
       "    <tr>\n",
       "      <td>2019-12-23</td>\n",
       "      <td>6190</td>\n",
       "      <td>6285</td>\n",
       "      <td>6190</td>\n",
       "      <td>6245</td>\n",
       "      <td>16905545</td>\n",
       "    </tr>\n",
       "    <tr>\n",
       "      <td>2019-12-24</td>\n",
       "      <td>6230</td>\n",
       "      <td>6340</td>\n",
       "      <td>6230</td>\n",
       "      <td>6335</td>\n",
       "      <td>19492646</td>\n",
       "    </tr>\n",
       "    <tr>\n",
       "      <td>2019-12-26</td>\n",
       "      <td>6330</td>\n",
       "      <td>6375</td>\n",
       "      <td>6290</td>\n",
       "      <td>6295</td>\n",
       "      <td>16231126</td>\n",
       "    </tr>\n",
       "    <tr>\n",
       "      <td>2019-12-27</td>\n",
       "      <td>6215</td>\n",
       "      <td>6255</td>\n",
       "      <td>5985</td>\n",
       "      <td>6090</td>\n",
       "      <td>31811394</td>\n",
       "    </tr>\n",
       "    <tr>\n",
       "      <td>2019-12-30</td>\n",
       "      <td>6080</td>\n",
       "      <td>6125</td>\n",
       "      <td>6055</td>\n",
       "      <td>6115</td>\n",
       "      <td>11515679</td>\n",
       "    </tr>\n",
       "  </tbody>\n",
       "</table>\n",
       "<p>803 rows × 5 columns</p>\n",
       "</div>"
      ],
      "text/plain": [
       "              시가     고가    저가    종가       거래량\n",
       "날짜                                           \n",
       "2016-09-22  9835   9845  9720  9815   7849515\n",
       "2016-09-23  9755   9840  9755  9820   9775392\n",
       "2016-09-26  9840   9910  9735  9875  10065403\n",
       "2016-09-27  9975  10040  9705  9745  15822705\n",
       "2016-09-28  9765   9820  9745  9805   9475753\n",
       "...          ...    ...   ...   ...       ...\n",
       "2019-12-23  6190   6285  6190  6245  16905545\n",
       "2019-12-24  6230   6340  6230  6335  19492646\n",
       "2019-12-26  6330   6375  6290  6295  16231126\n",
       "2019-12-27  6215   6255  5985  6090  31811394\n",
       "2019-12-30  6080   6125  6055  6115  11515679\n",
       "\n",
       "[803 rows x 5 columns]"
      ]
     },
     "execution_count": 11,
     "metadata": {},
     "output_type": "execute_result"
    }
   ],
   "source": [
    "df_inv"
   ]
  },
  {
   "cell_type": "code",
   "execution_count": 12,
   "metadata": {
    "scrolled": false
   },
   "outputs": [],
   "source": [
    "close_lev = df_lev[\"종가\"]\n",
    "close_inv = df_inv[\"종가\"]"
   ]
  },
  {
   "cell_type": "code",
   "execution_count": 156,
   "metadata": {
    "scrolled": true
   },
   "outputs": [
    {
     "data": {
      "text/plain": [
       "array([[ 4300773.32775551, -1562999.46392786],\n",
       "       [-1562999.46392786,   626087.8256513 ]])"
      ]
     },
     "execution_count": 156,
     "metadata": {},
     "output_type": "execute_result"
    }
   ],
   "source": [
    "import numpy as np\n",
    "covmat = np.cov(close_lev[-500:], close_inv[-500:]) # look back window = 500\n",
    "covmat"
   ]
  },
  {
   "cell_type": "code",
   "execution_count": 17,
   "metadata": {
    "scrolled": false
   },
   "outputs": [
    {
     "data": {
      "text/plain": [
       "날짜\n",
       "2017-12-14    17610\n",
       "2017-12-15    17520\n",
       "2017-12-18    17585\n",
       "2017-12-19    17585\n",
       "2017-12-20    17520\n",
       "              ...  \n",
       "2019-12-23    14125\n",
       "2019-12-24    13930\n",
       "2019-12-26    14045\n",
       "2019-12-27    14485\n",
       "2019-12-30    14425\n",
       "Name: 종가, Length: 500, dtype: int32"
      ]
     },
     "execution_count": 17,
     "metadata": {},
     "output_type": "execute_result"
    }
   ],
   "source": [
    "close_lev[-500:]"
   ]
  },
  {
   "cell_type": "code",
   "execution_count": 44,
   "metadata": {},
   "outputs": [
    {
     "data": {
      "text/plain": [
       "array([[ 2.62618373, -0.95441528],\n",
       "       [-0.95441528,  0.38230837]])"
      ]
     },
     "execution_count": 44,
     "metadata": {},
     "output_type": "execute_result"
    }
   ],
   "source": [
    "covmat = np.cov(close_lev[-500:], close_inv[-500:]) / ( np.std(close_lev[-500:]) * np.std(close_inv[-500:]))\n",
    "covmat"
   ]
  },
  {
   "cell_type": "code",
   "execution_count": null,
   "metadata": {},
   "outputs": [],
   "source": [
    "#to do\n",
    "#1. 레버리지 - 인버스 단순 리스크패러티(inverse volatility)의 퍼포먼스\n",
    "#2. 레버리지 - 인버스 공분산 고려한 ERC의 퍼포먼스\n",
    "\n",
    "## to do to do\n",
    "## 1. "
   ]
  },
  {
   "cell_type": "code",
   "execution_count": 159,
   "metadata": {},
   "outputs": [
    {
     "ename": "ValueError",
     "evalue": "shapes (3,) and (2,2) not aligned: 3 (dim 0) != 2 (dim 0)",
     "output_type": "error",
     "traceback": [
      "\u001b[0;31m---------------------------------------------------------------------------\u001b[0m",
      "\u001b[0;31mValueError\u001b[0m                                Traceback (most recent call last)",
      "\u001b[0;32m<ipython-input-159-9fd86424f569>\u001b[0m in \u001b[0;36m<module>\u001b[0;34m\u001b[0m\n\u001b[1;32m      1\u001b[0m \u001b[0mw\u001b[0m \u001b[0;34m=\u001b[0m \u001b[0;34m[\u001b[0m\u001b[0;36m0.5\u001b[0m\u001b[0;34m,\u001b[0m \u001b[0;36m0.5\u001b[0m\u001b[0;34m,\u001b[0m \u001b[0;36m0.3\u001b[0m\u001b[0;34m]\u001b[0m\u001b[0;34m\u001b[0m\u001b[0;34m\u001b[0m\u001b[0m\n\u001b[1;32m      2\u001b[0m \u001b[0mwT\u001b[0m \u001b[0;34m=\u001b[0m \u001b[0mnp\u001b[0m\u001b[0;34m.\u001b[0m\u001b[0mtranspose\u001b[0m\u001b[0;34m(\u001b[0m\u001b[0mw\u001b[0m\u001b[0;34m)\u001b[0m\u001b[0;34m\u001b[0m\u001b[0;34m\u001b[0m\u001b[0m\n\u001b[0;32m----> 3\u001b[0;31m \u001b[0mnp\u001b[0m\u001b[0;34m.\u001b[0m\u001b[0mdot\u001b[0m\u001b[0;34m(\u001b[0m\u001b[0mnp\u001b[0m\u001b[0;34m.\u001b[0m\u001b[0mdot\u001b[0m\u001b[0;34m(\u001b[0m\u001b[0mwT\u001b[0m\u001b[0;34m,\u001b[0m\u001b[0mcovmat\u001b[0m\u001b[0;34m)\u001b[0m\u001b[0;34m,\u001b[0m\u001b[0mw\u001b[0m\u001b[0;34m)\u001b[0m\u001b[0;34m\u001b[0m\u001b[0;34m\u001b[0m\u001b[0m\n\u001b[0m\u001b[1;32m      4\u001b[0m \u001b[0msigma_w\u001b[0m \u001b[0;34m=\u001b[0m \u001b[0mnp\u001b[0m\u001b[0;34m.\u001b[0m\u001b[0mdot\u001b[0m\u001b[0;34m(\u001b[0m\u001b[0mnp\u001b[0m\u001b[0;34m.\u001b[0m\u001b[0mdot\u001b[0m\u001b[0;34m(\u001b[0m\u001b[0mwT\u001b[0m\u001b[0;34m,\u001b[0m\u001b[0mcovmat\u001b[0m\u001b[0;34m)\u001b[0m\u001b[0;34m,\u001b[0m\u001b[0mw\u001b[0m\u001b[0;34m)\u001b[0m\u001b[0;31m# = sigma(w)\u001b[0m\u001b[0;34m\u001b[0m\u001b[0;34m\u001b[0m\u001b[0m\n\u001b[1;32m      5\u001b[0m \u001b[0msigma_w\u001b[0m\u001b[0;34m\u001b[0m\u001b[0;34m\u001b[0m\u001b[0m\n",
      "\u001b[0;32m<__array_function__ internals>\u001b[0m in \u001b[0;36mdot\u001b[0;34m(*args, **kwargs)\u001b[0m\n",
      "\u001b[0;31mValueError\u001b[0m: shapes (3,) and (2,2) not aligned: 3 (dim 0) != 2 (dim 0)"
     ]
    }
   ],
   "source": [
    "w = [0.5, 0.5]\n",
    "wT = np.transpose(w)\n",
    "np.dot(np.dot(wT,covmat),w)\n",
    "sigma_w = np.dot(np.dot(wT,covmat),w)# = sigma(w)\n",
    "sigma_w"
   ]
  },
  {
   "cell_type": "code",
   "execution_count": 82,
   "metadata": {
    "scrolled": false
   },
   "outputs": [
    {
     "data": {
      "text/plain": [
       "array([[ 7, 10],\n",
       "       [15, 22]])"
      ]
     },
     "execution_count": 82,
     "metadata": {},
     "output_type": "execute_result"
    }
   ],
   "source": [
    "a = ([1,2],[3,4])\n",
    "b = ([1,0],[0,1])\n",
    "np.dot(a,a)"
   ]
  },
  {
   "cell_type": "code",
   "execution_count": 81,
   "metadata": {},
   "outputs": [],
   "source": [
    "a = np.asarray(close_lev[-500:])\n",
    "b = np.asarray(close_inv[-500:])\n",
    "cc = np.column_stack([a,b])"
   ]
  },
  {
   "cell_type": "code",
   "execution_count": 148,
   "metadata": {},
   "outputs": [
    {
     "data": {
      "text/plain": [
       "array([0.6803643])"
      ]
     },
     "execution_count": 148,
     "metadata": {},
     "output_type": "execute_result"
    }
   ],
   "source": [
    "import numpy.random as rd\n",
    "#np.round(rd.rand(1),2)\n",
    "rd.rand(1)"
   ]
  },
  {
   "cell_type": "code",
   "execution_count": 138,
   "metadata": {},
   "outputs": [
    {
     "data": {
      "text/plain": [
       "15"
      ]
     },
     "execution_count": 138,
     "metadata": {},
     "output_type": "execute_result"
    }
   ],
   "source": [
    "np.sum([1,2,3,4,5])"
   ]
  },
  {
   "cell_type": "code",
   "execution_count": 145,
   "metadata": {
    "scrolled": true
   },
   "outputs": [
    {
     "ename": "NameError",
     "evalue": "name 'ww' is not defined",
     "output_type": "error",
     "traceback": [
      "\u001b[0;31m---------------------------------------------------------------------------\u001b[0m",
      "\u001b[0;31mNameError\u001b[0m                                 Traceback (most recent call last)",
      "\u001b[0;32m<ipython-input-145-03f6d252c716>\u001b[0m in \u001b[0;36m<module>\u001b[0;34m\u001b[0m\n\u001b[1;32m      1\u001b[0m \u001b[0;32mfor\u001b[0m \u001b[0mi\u001b[0m \u001b[0;32min\u001b[0m \u001b[0mrange\u001b[0m\u001b[0;34m(\u001b[0m\u001b[0;36m0\u001b[0m\u001b[0;34m,\u001b[0m \u001b[0;36m10\u001b[0m\u001b[0;34m)\u001b[0m\u001b[0;34m:\u001b[0m\u001b[0;34m\u001b[0m\u001b[0;34m\u001b[0m\u001b[0m\n\u001b[0;32m----> 2\u001b[0;31m         \u001b[0mww\u001b[0m\u001b[0;34m.\u001b[0m\u001b[0mappend\u001b[0m\u001b[0;34m(\u001b[0m\u001b[0mrd\u001b[0m\u001b[0;34m.\u001b[0m\u001b[0mrand\u001b[0m\u001b[0;34m(\u001b[0m\u001b[0;36m0\u001b[0m\u001b[0;34m,\u001b[0m\u001b[0;36m1\u001b[0m\u001b[0;34m)\u001b[0m\u001b[0;34m)\u001b[0m\u001b[0;34m\u001b[0m\u001b[0;34m\u001b[0m\u001b[0m\n\u001b[0m\u001b[1;32m      3\u001b[0m \u001b[0mww\u001b[0m\u001b[0;34m\u001b[0m\u001b[0;34m\u001b[0m\u001b[0m\n",
      "\u001b[0;31mNameError\u001b[0m: name 'ww' is not defined"
     ]
    }
   ],
   "source": [
    "for i in range(0, 10):\n",
    "        ww.append(rd.rand(0,1))\n",
    "ww"
   ]
  },
  {
   "cell_type": "code",
   "execution_count": 147,
   "metadata": {},
   "outputs": [
    {
     "data": {
      "text/plain": [
       "array([], shape=(0, 1), dtype=float64)"
      ]
     },
     "execution_count": 147,
     "metadata": {},
     "output_type": "execute_result"
    }
   ],
   "source": [
    "rd.rand(0,1)"
   ]
  }
 ],
 "metadata": {
  "kernelspec": {
   "display_name": "Python 3",
   "language": "python",
   "name": "python3"
  },
  "language_info": {
   "codemirror_mode": {
    "name": "ipython",
    "version": 3
   },
   "file_extension": ".py",
   "mimetype": "text/x-python",
   "name": "python",
   "nbconvert_exporter": "python",
   "pygments_lexer": "ipython3",
   "version": "3.7.4"
  }
 },
 "nbformat": 4,
 "nbformat_minor": 2
}
