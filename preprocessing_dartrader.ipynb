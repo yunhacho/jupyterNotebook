{
 "cells": [
  {
   "cell_type": "code",
   "execution_count": 78,
   "metadata": {},
   "outputs": [],
   "source": [
    "#HyperParameters\n",
    "\n",
    "input_dim = 1 #입력하는 feature 개수\n",
    "#time_interval = 8 #minute. n분 마다 n분 누적 신호 발생. 혹은 lstm cell에서 시계열의 갯수\n",
    "min_transaction_amount = 5000000 # 100만원 미만이면 리시버에서 버퍼로 데이터 안보내게끔.\n",
    "n_cell = 32 # LSTM셀의 개수\n",
    "n_labels = 4 #모델의 결과 값 라벨 수 e.g. n=4, 라벨이 강하락, 약하락, 약상승, 강상승 신호 발생.\n",
    "seq_length = 60 # 모델이 참고 할 이전 분봉의 개수. LSTM/RNN에서\n",
    "lr = 0.003 # 학습률\n",
    "keep_prob = 1.0 #dropout rate\n",
    "n_stacked_layers = 1 # 모델의 레이어 개수\n",
    "n_epochs = 3 # 학습횟수. 얼리스타핑 넣을까말까\n",
    "n_batch_size = 32 #학습 배치 사이즈\n",
    "model_path = None"
   ]
  },
  {
   "cell_type": "code",
   "execution_count": 65,
   "metadata": {},
   "outputs": [
    {
     "data": {
      "text/html": [
       "<div>\n",
       "<style scoped>\n",
       "    .dataframe tbody tr th:only-of-type {\n",
       "        vertical-align: middle;\n",
       "    }\n",
       "\n",
       "    .dataframe tbody tr th {\n",
       "        vertical-align: top;\n",
       "    }\n",
       "\n",
       "    .dataframe thead th {\n",
       "        text-align: right;\n",
       "    }\n",
       "</style>\n",
       "<table border=\"1\" class=\"dataframe\">\n",
       "  <thead>\n",
       "    <tr style=\"text-align: right;\">\n",
       "      <th></th>\n",
       "      <th>time</th>\n",
       "      <th>price</th>\n",
       "      <th>amount</th>\n",
       "      <th>state</th>\n",
       "      <th>feature</th>\n",
       "      <th>1분후</th>\n",
       "      <th>label</th>\n",
       "    </tr>\n",
       "  </thead>\n",
       "  <tbody>\n",
       "    <tr>\n",
       "      <td>0</td>\n",
       "      <td>2020-06-04 09:03:34</td>\n",
       "      <td>91200</td>\n",
       "      <td>91200</td>\n",
       "      <td>-1</td>\n",
       "      <td>-8317440000</td>\n",
       "      <td>91000.0</td>\n",
       "      <td>0.997807</td>\n",
       "    </tr>\n",
       "    <tr>\n",
       "      <td>1</td>\n",
       "      <td>2020-06-04 09:03:34</td>\n",
       "      <td>91200</td>\n",
       "      <td>91100</td>\n",
       "      <td>-1</td>\n",
       "      <td>-8308320000</td>\n",
       "      <td>91000.0</td>\n",
       "      <td>0.997807</td>\n",
       "    </tr>\n",
       "    <tr>\n",
       "      <td>2</td>\n",
       "      <td>2020-06-04 09:03:34</td>\n",
       "      <td>91200</td>\n",
       "      <td>91200</td>\n",
       "      <td>-1</td>\n",
       "      <td>-8317440000</td>\n",
       "      <td>91000.0</td>\n",
       "      <td>0.997807</td>\n",
       "    </tr>\n",
       "    <tr>\n",
       "      <td>3</td>\n",
       "      <td>2020-06-04 09:03:34</td>\n",
       "      <td>91200</td>\n",
       "      <td>91100</td>\n",
       "      <td>-1</td>\n",
       "      <td>-8308320000</td>\n",
       "      <td>91000.0</td>\n",
       "      <td>0.997807</td>\n",
       "    </tr>\n",
       "    <tr>\n",
       "      <td>4</td>\n",
       "      <td>2020-06-04 09:03:34</td>\n",
       "      <td>91200</td>\n",
       "      <td>91200</td>\n",
       "      <td>-1</td>\n",
       "      <td>-8317440000</td>\n",
       "      <td>91000.0</td>\n",
       "      <td>0.997807</td>\n",
       "    </tr>\n",
       "    <tr>\n",
       "      <td>...</td>\n",
       "      <td>...</td>\n",
       "      <td>...</td>\n",
       "      <td>...</td>\n",
       "      <td>...</td>\n",
       "      <td>...</td>\n",
       "      <td>...</td>\n",
       "      <td>...</td>\n",
       "    </tr>\n",
       "    <tr>\n",
       "      <td>66576</td>\n",
       "      <td>2020-06-04 15:19:22</td>\n",
       "      <td>87800</td>\n",
       "      <td>87700</td>\n",
       "      <td>-1</td>\n",
       "      <td>-7700060000</td>\n",
       "      <td>NaN</td>\n",
       "      <td>NaN</td>\n",
       "    </tr>\n",
       "    <tr>\n",
       "      <td>66577</td>\n",
       "      <td>2020-06-04 15:19:22</td>\n",
       "      <td>87800</td>\n",
       "      <td>87800</td>\n",
       "      <td>-1</td>\n",
       "      <td>-7708840000</td>\n",
       "      <td>NaN</td>\n",
       "      <td>NaN</td>\n",
       "    </tr>\n",
       "    <tr>\n",
       "      <td>66578</td>\n",
       "      <td>2020-06-04 15:19:22</td>\n",
       "      <td>87800</td>\n",
       "      <td>87700</td>\n",
       "      <td>-1</td>\n",
       "      <td>-7700060000</td>\n",
       "      <td>NaN</td>\n",
       "      <td>NaN</td>\n",
       "    </tr>\n",
       "    <tr>\n",
       "      <td>66579</td>\n",
       "      <td>2020-06-04 15:19:22</td>\n",
       "      <td>87800</td>\n",
       "      <td>87800</td>\n",
       "      <td>-1</td>\n",
       "      <td>-7708840000</td>\n",
       "      <td>NaN</td>\n",
       "      <td>NaN</td>\n",
       "    </tr>\n",
       "    <tr>\n",
       "      <td>66580</td>\n",
       "      <td>2020-06-04 15:19:23</td>\n",
       "      <td>87800</td>\n",
       "      <td>87800</td>\n",
       "      <td>-1</td>\n",
       "      <td>-7708840000</td>\n",
       "      <td>NaN</td>\n",
       "      <td>NaN</td>\n",
       "    </tr>\n",
       "  </tbody>\n",
       "</table>\n",
       "<p>66581 rows × 7 columns</p>\n",
       "</div>"
      ],
      "text/plain": [
       "                     time  price  amount  state     feature      1분후     label\n",
       "0     2020-06-04 09:03:34  91200   91200     -1 -8317440000  91000.0  0.997807\n",
       "1     2020-06-04 09:03:34  91200   91100     -1 -8308320000  91000.0  0.997807\n",
       "2     2020-06-04 09:03:34  91200   91200     -1 -8317440000  91000.0  0.997807\n",
       "3     2020-06-04 09:03:34  91200   91100     -1 -8308320000  91000.0  0.997807\n",
       "4     2020-06-04 09:03:34  91200   91200     -1 -8317440000  91000.0  0.997807\n",
       "...                   ...    ...     ...    ...         ...      ...       ...\n",
       "66576 2020-06-04 15:19:22  87800   87700     -1 -7700060000      NaN       NaN\n",
       "66577 2020-06-04 15:19:22  87800   87800     -1 -7708840000      NaN       NaN\n",
       "66578 2020-06-04 15:19:22  87800   87700     -1 -7700060000      NaN       NaN\n",
       "66579 2020-06-04 15:19:22  87800   87800     -1 -7708840000      NaN       NaN\n",
       "66580 2020-06-04 15:19:23  87800   87800     -1 -7708840000      NaN       NaN\n",
       "\n",
       "[66581 rows x 7 columns]"
      ]
     },
     "execution_count": 65,
     "metadata": {},
     "output_type": "execute_result"
    }
   ],
   "source": [
    "data1"
   ]
  },
  {
   "cell_type": "code",
   "execution_count": 69,
   "metadata": {},
   "outputs": [
    {
     "data": {
      "text/html": [
       "<div>\n",
       "<style scoped>\n",
       "    .dataframe tbody tr th:only-of-type {\n",
       "        vertical-align: middle;\n",
       "    }\n",
       "\n",
       "    .dataframe tbody tr th {\n",
       "        vertical-align: top;\n",
       "    }\n",
       "\n",
       "    .dataframe thead th {\n",
       "        text-align: right;\n",
       "    }\n",
       "</style>\n",
       "<table border=\"1\" class=\"dataframe\">\n",
       "  <thead>\n",
       "    <tr style=\"text-align: right;\">\n",
       "      <th></th>\n",
       "      <th>time</th>\n",
       "      <th>price</th>\n",
       "      <th>amount</th>\n",
       "      <th>state</th>\n",
       "      <th>feature</th>\n",
       "      <th>1분후</th>\n",
       "      <th>label</th>\n",
       "    </tr>\n",
       "  </thead>\n",
       "  <tbody>\n",
       "  </tbody>\n",
       "</table>\n",
       "</div>"
      ],
      "text/plain": [
       "Empty DataFrame\n",
       "Columns: [time, price, amount, state, feature, 1분후, label]\n",
       "Index: []"
      ]
     },
     "execution_count": 69,
     "metadata": {},
     "output_type": "execute_result"
    }
   ],
   "source": [
    "data1[data1['state']==\"1\"]"
   ]
  },
  {
   "cell_type": "code",
   "execution_count": 79,
   "metadata": {},
   "outputs": [
    {
     "name": "stdout",
     "output_type": "stream",
     "text": [
      "66581 66581 66581 66581\n",
      "데이터 샘플의 갯수:  65358\n",
      "시계열의 크기 :  60\n",
      "(65358, 60, 1)\n",
      "라벨의 갯수:  65358\n",
      "(65358, 1)\n"
     ]
    },
    {
     "data": {
      "text/plain": [
       "'print(data1.head(10))\\nbase_dir=\"C:/Users/82107/PycharmProjects/DartProject\"\\nfile_nm=\"PreprocessingData.xlsx\"\\nxlsx_dir=os.path.join(base_dir,file_nm)\\n\\ndata1.to_excel(xlsx_dir)\\n'"
      ]
     },
     "execution_count": 79,
     "metadata": {},
     "output_type": "execute_result"
    }
   ],
   "source": [
    "import pandas as pd\n",
    "import datetime\n",
    "import numpy as np\n",
    "import math\n",
    "#import openpyxl\n",
    "#import os\n",
    "time_lst=[]\n",
    "price_lst=[] #체결가\n",
    "temp_lst=[] # 1: 매수 2:매도\n",
    "amount_lst=[] #체결수량\n",
    "state_lst=[]\n",
    "feature_lst=[]\n",
    "after_price_lst=[]\n",
    "rate_lst=[]\n",
    "label_lst=[]\n",
    "def func1():\n",
    "    file_name=\"20200604000660.txt\"\n",
    "    in_file=open(file_name,\"r\") #file open\n",
    "\n",
    "    in_str=in_file.read() #file read\n",
    "    lst=in_str.split(')') # split\n",
    "    new_lst=[]\n",
    "    for el in lst :\n",
    "        new_lst.append(el.lstrip(', ('))\n",
    "    new_lst=list(filter(None,new_lst))\n",
    "    #########################################리스트에 생성##################3\n",
    "    time_lst=[]\n",
    "    for el in new_lst:\n",
    "        lst2 = el.split(',')\n",
    "        #time=datetime.datetime.strptime(lst2[1].lstrip(\"' \").rstrip(\"' \"),'%H%M%S')\n",
    "        time = lst2[1].lstrip(\"' \").rstrip(\"' \")\n",
    "        if(len(time)<14):\n",
    "            time=time[:8]+'0'+time[8:13]\n",
    "        time = datetime.datetime.strptime(time,\"%Y%m%d%H%M%S\")\n",
    "        time_lst.append(time)  # 시간리스트에 추가\n",
    "        price_lst.append(int(lst2[2]))  # 체결가 리스트에 추가\n",
    "        amount_lst.append(int(lst2[4]))\n",
    "\n",
    "        temp=lst2[3].lstrip(\" '\").rstrip(\" '\")\n",
    "        state=int(temp)\n",
    "        if(state==\"1\") :\n",
    "            state_lst.append(1)\n",
    "        else:\n",
    "            state_lst.append(-1)\n",
    "    print(len(time_lst),len(price_lst),len(state_lst),len(amount_lst))\n",
    "    time_lst = pd.to_datetime(time_lst)\n",
    "    raw_data = {'time': time_lst, 'price': price_lst,'amount':amount_lst,'state':state_lst}\n",
    "    data = pd.DataFrame(raw_data)\n",
    "\n",
    "    in_file.close()\n",
    "    return data\n",
    "data1=func1()\n",
    "#############체결가 X 체결량 X 상태 (피처값)열, 1분후 열 추가########################################\n",
    "for i in range(len(data1)) :\n",
    "    feature=data1.loc[i]['price'] *data1.loc[i]['amount'] * data1.loc[i]['state']\n",
    "    #print(feature)\n",
    "    feature_lst.append(feature)\n",
    "\n",
    "    is_time = data1['time'] == data1.loc[i]['time'] + datetime.timedelta(minutes=1)  # 각 행에대해서 1분 후의 가격이 존재하면 리스트에 추가\n",
    "    temp = data1[is_time].reset_index(drop=True)\n",
    "    if (temp.empty == False):\n",
    "        after_price_lst.append(temp.loc[0]['price'])\n",
    "    else:  # 1분후 값이 존재하지 않는 부분 1분 5초후 or  nan으로 채움\n",
    "        is_time = data1['time'] == data1.loc[i]['time'] + datetime.timedelta(minutes=1, seconds=5)\n",
    "        temp = data1[is_time].reset_index(drop=True)\n",
    "        if (temp.empty == False):\n",
    "            after_price_lst.append(temp.loc[0]['price'])\n",
    "        else:\n",
    "            after_price_lst.append(np.nan)\n",
    "\n",
    "data1['feature']=feature_lst\n",
    "data1['1분후'] = after_price_lst\n",
    "#############상승률 (label)열 추가########################################\n",
    "for i in range(len(data1)):\n",
    "    if(data1.loc[i]['1분후']!=np.nan) :\n",
    "        rate=data1.loc[i]['1분후']/data1.loc[i]['price']\n",
    "    else :\n",
    "        rate=np.nan\n",
    "    rate_lst.append(rate)\n",
    "data1['label']=rate_lst\n",
    "\n",
    "#print(data1.head(10))\n",
    "###################################################임계치 넘는 값,  결측치 아닌값에 대해서만 train set을 df에저장\n",
    "df=data1[abs(data1['feature'])>=min_transaction_amount]\n",
    "df=df.dropna()\n",
    "#print(df.head(20))\n",
    "\n",
    "\n",
    "X_list=df.feature.tolist()\n",
    "label_list=df.label.tolist()\n",
    "#print(len(X_list),len(label_list))\n",
    "\n",
    "#################feature 값 3차원 array로 데이터 변환################\n",
    "\n",
    "sample_num=0\n",
    "feature_lst_3dim=[]\n",
    "for i in range(len(X_list)-seq_length+1) :\n",
    "        temp=X_list[i:i+seq_length] # temp는 1차원 list\n",
    "        arr=np.array([temp]).T # arr는 temp를 배열로 변환후 transpose\n",
    "        arr=arr.tolist() # 다시 리스트로 바꾸어\n",
    "        feature_lst_3dim.append(arr) #최종 리스트에 추가\n",
    "        sample_num=sample_num+1\n",
    "print(\"데이터 샘플의 갯수: \",sample_num)\n",
    "print(\"시계열의 크기 : \",seq_length)\n",
    "X_arr=np.array(feature_lst_3dim) # list를 3차원 array로 변환\n",
    "print(X_arr.shape)\n",
    "#X_arr = feature 가 저장된 3차원 array\n",
    "#################label 값 3차원 array로 데이터 변환################\n",
    "label_len=0\n",
    "label_lst_2dim=[]\n",
    "for i in range(seq_length-1,len(label_list),1):\n",
    "    temp=[]\n",
    "    temp.append(label_list[i])\n",
    "    label_lst_2dim.append(temp)\n",
    "    label_len=label_len+1\n",
    "Y_arr=np.array(label_lst_2dim)\n",
    "print(\"라벨의 갯수: \",label_len)\n",
    "print(Y_arr.shape)\n",
    "#print(Y_arr)\n",
    "# Y_arr = label이 저장된 3차원 array\n",
    "\n",
    "\"\"\"print(data1.head(10))\n",
    "base_dir=\"C:/Users/82107/PycharmProjects/DartProject\"\n",
    "file_nm=\"PreprocessingData.xlsx\"\n",
    "xlsx_dir=os.path.join(base_dir,file_nm)\n",
    "\n",
    "data1.to_excel(xlsx_dir)\n",
    "\"\"\""
   ]
  },
  {
   "cell_type": "code",
   "execution_count": 19,
   "metadata": {},
   "outputs": [
    {
     "data": {
      "text/plain": [
       "(65358, 60, 1)"
      ]
     },
     "execution_count": 19,
     "metadata": {},
     "output_type": "execute_result"
    }
   ],
   "source": [
    "X_arr.shape"
   ]
  },
  {
   "cell_type": "code",
   "execution_count": 80,
   "metadata": {},
   "outputs": [
    {
     "name": "stdout",
     "output_type": "stream",
     "text": [
      "Train on 45750 samples, validate on 19608 samples\n",
      "Epoch 1/3\n",
      "45750/45750 [==============================] - 30s 661us/step - loss: 0.0048 - val_loss: 8.5258e-07\n",
      "Epoch 2/3\n",
      "45750/45750 [==============================] - 30s 651us/step - loss: 4.8364e-06 - val_loss: 8.0011e-07\n",
      "Epoch 3/3\n",
      "45750/45750 [==============================] - 31s 685us/step - loss: 4.8626e-06 - val_loss: 1.0327e-06\n"
     ]
    },
    {
     "ename": "AttributeError",
     "evalue": "'History' object has no attribute 'losses'",
     "output_type": "error",
     "traceback": [
      "\u001b[1;31m---------------------------------------------------------------------------\u001b[0m",
      "\u001b[1;31mAttributeError\u001b[0m                            Traceback (most recent call last)",
      "\u001b[1;32m<ipython-input-80-2a9dd0973b76>\u001b[0m in \u001b[0;36m<module>\u001b[1;34m\u001b[0m\n\u001b[0;32m     25\u001b[0m \u001b[0mmodel\u001b[0m\u001b[1;33m.\u001b[0m\u001b[0msave\u001b[0m\u001b[1;33m(\u001b[0m\u001b[0mmodel_path\u001b[0m\u001b[1;33m)\u001b[0m\u001b[1;33m\u001b[0m\u001b[1;33m\u001b[0m\u001b[0m\n\u001b[0;32m     26\u001b[0m \u001b[1;32mimport\u001b[0m \u001b[0mmatplotlib\u001b[0m\u001b[1;33m.\u001b[0m\u001b[0mpyplot\u001b[0m \u001b[1;32mas\u001b[0m \u001b[0mplt\u001b[0m\u001b[1;33m\u001b[0m\u001b[1;33m\u001b[0m\u001b[0m\n\u001b[1;32m---> 27\u001b[1;33m \u001b[0mplt\u001b[0m\u001b[1;33m.\u001b[0m\u001b[0mplot\u001b[0m\u001b[1;33m(\u001b[0m\u001b[0mhistory\u001b[0m\u001b[1;33m.\u001b[0m\u001b[0mlosses\u001b[0m\u001b[1;33m)\u001b[0m\u001b[1;33m\u001b[0m\u001b[1;33m\u001b[0m\u001b[0m\n\u001b[0m\u001b[0;32m     28\u001b[0m \u001b[0mplt\u001b[0m\u001b[1;33m.\u001b[0m\u001b[0mylabel\u001b[0m\u001b[1;33m(\u001b[0m\u001b[1;34m'loss'\u001b[0m\u001b[1;33m)\u001b[0m\u001b[1;33m\u001b[0m\u001b[1;33m\u001b[0m\u001b[0m\n\u001b[0;32m     29\u001b[0m \u001b[0mplt\u001b[0m\u001b[1;33m.\u001b[0m\u001b[0mxlabel\u001b[0m\u001b[1;33m(\u001b[0m\u001b[1;34m'epoch'\u001b[0m\u001b[1;33m)\u001b[0m\u001b[1;33m\u001b[0m\u001b[1;33m\u001b[0m\u001b[0m\n",
      "\u001b[1;31mAttributeError\u001b[0m: 'History' object has no attribute 'losses'"
     ]
    }
   ],
   "source": [
    "from keras import Sequential\n",
    "from keras.models import load_model\n",
    "from keras.layers import Dense, Activation, LSTM\n",
    "# Model Training & Saving\n",
    "# 모델 생성 및 학습. 결과 저장\n",
    "\n",
    "\"\"\"모델 라벨값은 총 4개. 0,1,2,3 으로 라벨링하고 \n",
    "0(강 하락)에 매도, 1(약 하락), 2(약 상승)에 홀드or관망, 3(강 상승)에 매수\"\"\"\n",
    "\n",
    "from keras import metrics\n",
    "\n",
    "model = Sequential()\n",
    "for i in range(n_stacked_layers):\n",
    "    model.add(LSTM(n_cell, input_shape=(seq_length, input_dim), activation='sigmoid',weights=None))\n",
    "model.add(Dense(1, input_shape=(1,)))\n",
    "\n",
    "model.compile(loss='mse', optimizer='adam')\n",
    "#어떤 loss func, optimizer를 써야할지, 메트릭스를 써야할지 모르겠다. 일단 나중에 생각하기.\n",
    "history = model.fit(x = X_arr, y = Y_arr, epochs = n_epochs, validation_split=0.3)\n",
    "#밸리데이션셋은 이전 단계에서 햇음. 데이터를 트레인 테스트로 8:2로 나눈다음 8을 \n",
    "#5.6 : 2.4로 트레인 : 밸릳 데이터로 나눔.\n",
    "\n",
    "#모델 저장\n",
    "model_path = f\"./model_{datetime.datetime.now().strftime('%m%d_%H%M%S')}.h5\"\n",
    "model.save(model_path)\n",
    "import matplotlib.pyplot as plt\n",
    "plt.plot(history.losses)\n",
    "plt.ylabel('loss')\n",
    "plt.xlabel('epoch')\n",
    "plt.legend(['train'], loc='upper left')\n",
    "plt.show()\n",
    "\n",
    "#model.evaluate()\n",
    "#model.save()"
   ]
  },
  {
   "cell_type": "code",
   "execution_count": 32,
   "metadata": {},
   "outputs": [],
   "source": [
    "_ = model.predict(X_arr)"
   ]
  },
  {
   "cell_type": "code",
   "execution_count": 31,
   "metadata": {},
   "outputs": [
    {
     "data": {
      "text/plain": [
       "array([[0.99671053],\n",
       "       [0.99671053],\n",
       "       [0.99671053],\n",
       "       ...,\n",
       "       [0.99886234],\n",
       "       [0.99886234],\n",
       "       [0.99886234]])"
      ]
     },
     "execution_count": 31,
     "metadata": {},
     "output_type": "execute_result"
    }
   ],
   "source": [
    "Y_arr"
   ]
  },
  {
   "cell_type": "code",
   "execution_count": 58,
   "metadata": {},
   "outputs": [
    {
     "data": {
      "text/plain": [
       "array([[[-8281000000],\n",
       "        [-8271900000],\n",
       "        [-8281000000],\n",
       "        ...,\n",
       "        [-8281000000],\n",
       "        [-8281000000],\n",
       "        [-8281000000]],\n",
       "\n",
       "       [[-8271900000],\n",
       "        [-8281000000],\n",
       "        [-8271900000],\n",
       "        ...,\n",
       "        [-8281000000],\n",
       "        [-8281000000],\n",
       "        [-8271900000]],\n",
       "\n",
       "       [[-8281000000],\n",
       "        [-8271900000],\n",
       "        [-8271900000],\n",
       "        ...,\n",
       "        [-8281000000],\n",
       "        [-8271900000],\n",
       "        [-8271900000]],\n",
       "\n",
       "       ...,\n",
       "\n",
       "       [[-7717620000],\n",
       "        [-7717620000],\n",
       "        [-7726410000],\n",
       "        ...,\n",
       "        [-7717620000],\n",
       "        [-7717620000],\n",
       "        [-7726410000]],\n",
       "\n",
       "       [[-7717620000],\n",
       "        [-7726410000],\n",
       "        [-7717620000],\n",
       "        ...,\n",
       "        [-7717620000],\n",
       "        [-7726410000],\n",
       "        [-7717620000]],\n",
       "\n",
       "       [[-7726410000],\n",
       "        [-7717620000],\n",
       "        [-7726410000],\n",
       "        ...,\n",
       "        [-7726410000],\n",
       "        [-7717620000],\n",
       "        [-7717620000]]], dtype=int64)"
      ]
     },
     "execution_count": 58,
     "metadata": {},
     "output_type": "execute_result"
    }
   ],
   "source": [
    "X_arr[1700:]"
   ]
  },
  {
   "cell_type": "code",
   "execution_count": 45,
   "metadata": {},
   "outputs": [
    {
     "data": {
      "text/plain": [
       "array([[1.0032967 ],\n",
       "       [1.0032967 ],\n",
       "       [1.0032967 ],\n",
       "       ...,\n",
       "       [0.99886234],\n",
       "       [0.99886234],\n",
       "       [0.99886234]])"
      ]
     },
     "execution_count": 45,
     "metadata": {},
     "output_type": "execute_result"
    }
   ],
   "source": [
    "Y_arr[1700:]"
   ]
  },
  {
   "cell_type": "code",
   "execution_count": 25,
   "metadata": {},
   "outputs": [
    {
     "data": {
      "text/plain": [
       "['__class__',\n",
       " '__delattr__',\n",
       " '__dict__',\n",
       " '__dir__',\n",
       " '__doc__',\n",
       " '__eq__',\n",
       " '__format__',\n",
       " '__ge__',\n",
       " '__getattribute__',\n",
       " '__gt__',\n",
       " '__hash__',\n",
       " '__init__',\n",
       " '__init_subclass__',\n",
       " '__le__',\n",
       " '__lt__',\n",
       " '__module__',\n",
       " '__ne__',\n",
       " '__new__',\n",
       " '__reduce__',\n",
       " '__reduce_ex__',\n",
       " '__repr__',\n",
       " '__setattr__',\n",
       " '__sizeof__',\n",
       " '__str__',\n",
       " '__subclasshook__',\n",
       " '__weakref__',\n",
       " 'epoch',\n",
       " 'history',\n",
       " 'model',\n",
       " 'on_batch_begin',\n",
       " 'on_batch_end',\n",
       " 'on_epoch_begin',\n",
       " 'on_epoch_end',\n",
       " 'on_predict_batch_begin',\n",
       " 'on_predict_batch_end',\n",
       " 'on_predict_begin',\n",
       " 'on_predict_end',\n",
       " 'on_test_batch_begin',\n",
       " 'on_test_batch_end',\n",
       " 'on_test_begin',\n",
       " 'on_test_end',\n",
       " 'on_train_batch_begin',\n",
       " 'on_train_batch_end',\n",
       " 'on_train_begin',\n",
       " 'on_train_end',\n",
       " 'params',\n",
       " 'set_model',\n",
       " 'set_params',\n",
       " 'validation_data']"
      ]
     },
     "execution_count": 25,
     "metadata": {},
     "output_type": "execute_result"
    }
   ],
   "source": [
    "dir(history)"
   ]
  },
  {
   "cell_type": "code",
   "execution_count": 84,
   "metadata": {},
   "outputs": [
    {
     "data": {
      "text/plain": [
       "[<matplotlib.lines.Line2D at 0x248a64a65c8>]"
      ]
     },
     "execution_count": 84,
     "metadata": {},
     "output_type": "execute_result"
    },
    {
     "data": {
      "image/png": "[encoded data removed]",
      "text/plain": [
       "<Figure size 432x288 with 1 Axes>"
      ]
     },
     "metadata": {
      "needs_background": "light"
     },
     "output_type": "display_data"
    }
   ],
   "source": [
    "plt.plot(history.history['loss'])\n",
    "plt.plot(history.history['val_loss'])\n"
   ]
  }
 ],
 "metadata": {
  "kernelspec": {
   "display_name": "Python 3",
   "language": "python",
   "name": "python3"
  },
  "language_info": {
   "codemirror_mode": {
    "name": "ipython",
    "version": 3
   },
   "file_extension": ".py",
   "mimetype": "text/x-python",
   "name": "python",
   "nbconvert_exporter": "python",
   "pygments_lexer": "ipython3",
   "version": "3.7.4"
  }
 },
 "nbformat": 4,
 "nbformat_minor": 2
}
