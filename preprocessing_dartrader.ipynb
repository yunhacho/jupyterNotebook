{
 "cells": [
  {
   "cell_type": "code",
   "execution_count": null,
   "metadata": {},
   "outputs": [],
   "source": [
    "#모델 생성 및 학습"
   ]
  },
  {
   "cell_type": "code",
   "execution_count": 50,
   "metadata": {},
   "outputs": [],
   "source": [
    "input_dim = 1 #입력하는 feature 개수\n",
    "min_transaction_amount = 10000000 # 100만원 미만이면 리시버에서 버퍼로 데이터 안보내게끔.\n",
    "n_cell = 32 # LSTM셀의 개수\n",
    "seq_length = 60 # 모델이 참고 할 이전 분봉의 개수. LSTM/RNN에서\n",
    "lr = 0.003 # 학습률\n",
    "keep_prob = 1.0 #dropout rate\n",
    "n_stacked_layers = 1 # 모델의 레이어 개수\n",
    "n_epochs = 5 # 학습횟수. 얼리스타핑 넣을까말까\n",
    "n_batch_size = 32 #학습 배치 사이즈\n",
    "model_path = None"
   ]
  },
  {
   "cell_type": "code",
   "execution_count": 22,
   "metadata": {},
   "outputs": [
    {
     "name": "stdout",
     "output_type": "stream",
     "text": [
      "252662 252662 252662 252662\n",
      "32391 32391\n",
      "데이터 샘플의 갯수:  32332\n",
      "시계열의 크기 :  60\n",
      "(32332, 60, 1)\n",
      "라벨의 갯수:  32332\n",
      "(32332, 1)\n"
     ]
    }
   ],
   "source": [
    "##########오전시간까지 포함된 데이터에 대해서###########\n",
    "#################1분1초 3초 5초에 대한 코드 추가 -> 데이터확인해봐야함\n",
    "import pandas as pd\n",
    "import datetime\n",
    "import numpy as np\n",
    "import math\n",
    "import openpyxl\n",
    "import os\n",
    "time_lst=[]\n",
    "price_lst=[] #체결가\n",
    "temp_lst=[] # 1: 매수 2:매도\n",
    "amount_lst=[] #체결수량\n",
    "state_lst=[]\n",
    "feature_lst=[]\n",
    "after_price_lst=[]\n",
    "rate_lst=[]\n",
    "label_lst=[]\n",
    "\n",
    "def func1():\n",
    "    file_name=\"./rawdata_concat.txt\"\n",
    "    in_file=open(file_name,\"r\") #file open\n",
    "\n",
    "    in_str=in_file.read() #file read\n",
    "    lst=in_str.split(')') # split\n",
    "    new_lst=[]\n",
    "    for el in lst :\n",
    "        new_lst.append(el.lstrip(', ('))\n",
    "    new_lst=list(filter(None,new_lst))\n",
    "    #########################################리스트에 생성##################3\n",
    "    time_lst=[]\n",
    "    for el in new_lst:\n",
    "        lst2 = el.split(',')\n",
    "        #time=datetime.datetime.strptime(lst2[1].lstrip(\"' \").rstrip(\"' \"),'%H%M%S')\n",
    "        time = lst2[1].lstrip(\"' \").rstrip(\"' \")\n",
    "        if(len(time)<14):\n",
    "            time=time[:8]+'0'+time[8:13]\n",
    "        time = datetime.datetime.strptime(time,\"%Y%m%d%H%M%S\")\n",
    "        time_lst.append(time)  # 시간리스트에 추가\n",
    "        price_lst.append(int(lst2[4]))  # 체결가 리스트에 추가\n",
    "        amount_lst.append(int(lst2[8]))\n",
    "\n",
    "        temp=lst2[6].lstrip(\" '\").rstrip(\" '\")\n",
    "        state=int(temp)\n",
    "        if(state==1) :\n",
    "            state_lst.append(1)\n",
    "        else:\n",
    "            state_lst.append(-1)\n",
    "    print(len(time_lst),len(price_lst),len(state_lst),len(amount_lst))\n",
    "    time_lst = pd.to_datetime(time_lst)\n",
    "    raw_data = {'time': time_lst, 'price': price_lst,'amount':amount_lst,'state':state_lst}\n",
    "    data = pd.DataFrame(raw_data)\n",
    "\n",
    "    in_file.close()\n",
    "    return data\n",
    "data1=func1()\n",
    "#############체결가 X 체결량 X 상태 (피처값)열, 1분후 열 추가########################################\n",
    "for i in range(len(data1)) :\n",
    "    feature=data1.loc[i]['price'] *data1.loc[i]['amount'] * data1.loc[i]['state']\n",
    "    #print(feature)\n",
    "    feature_lst.append(feature)\n",
    "\n",
    "    is_time = data1['time'] == data1.loc[i]['time'] + datetime.timedelta(minutes=1)  # 각 행에대해서 1분 후의 가격이 존재하면 리스트에 추가\n",
    "    temp = data1[is_time].reset_index(drop=True)\n",
    "    if (temp.empty == False):\n",
    "        after_price_lst.append(temp.loc[0]['price'])\n",
    "    else:  # 1분후 값이 존재하지 않는 부분 1분 1초후 or  nan으로 채움\n",
    "        is_time = data1['time'] == data1.loc[i]['time'] + datetime.timedelta(minutes=1, seconds=1)\n",
    "        temp = data1[is_time].reset_index(drop=True)\n",
    "        if (temp.empty == False):\n",
    "            after_price_lst.append(temp.loc[0]['price'])\n",
    "        else:\n",
    "            is_time = data1['time'] == data1.loc[i]['time'] + datetime.timedelta(minutes=1, seconds=3)\n",
    "            temp = data1[is_time].reset_index(drop=True)\n",
    "            if (temp.empty == False):\n",
    "                after_price_lst.append(temp.loc[0]['price'])\n",
    "            else:\n",
    "                is_time = data1['time'] == data1.loc[i]['time'] + datetime.timedelta(minutes=1, seconds=5)\n",
    "                temp = data1[is_time].reset_index(drop=True)\n",
    "                if (temp.empty == False):\n",
    "                    after_price_lst.append(temp.loc[0]['price'])\n",
    "                else:\n",
    "                    after_price_lst.append(np.nan)\n",
    "\n",
    "data1['feature']=feature_lst\n",
    "data1['1분후'] = after_price_lst\n",
    "#############상승률 (label)열 추가########################################\n",
    "for i in range(len(data1)):\n",
    "    if(data1.loc[i]['1분후']!=np.nan) :\n",
    "        rate=data1.loc[i]['1분후']/data1.loc[i]['price']\n",
    "    else :\n",
    "        rate=np.nan\n",
    "    rate_lst.append(rate)\n",
    "data1['label']=rate_lst\n",
    "\n",
    "#print(data1.head(10))\n",
    "###################################################임계치 넘는 값,  결측치 아닌값에 대해서만 train set을 df에저장\n",
    "df=data1[abs(data1['feature'])>=min_transaction_amount]\n",
    "df=df.dropna()\n",
    "#print(df.head(20))\n",
    "\n",
    "\n",
    "\n",
    "X_list=df.feature.tolist()\n",
    "label_list=df.label.tolist()\n",
    "print(len(X_list),len(label_list))\n",
    "\n",
    "#################feature 값 3차원 array로 데이터 변환################\n",
    "\n",
    "sample_num=0\n",
    "feature_lst_3dim=[]\n",
    "for i in range(len(X_list)-seq_length+1) :\n",
    "        temp=X_list[i:i+seq_length] # temp는 1차원 list\n",
    "        arr=np.array([temp]).T # arr는 temp를 배열로 변환후 transpose\n",
    "        arr=arr.tolist() # 다시 리스트로 바꾸어\n",
    "        feature_lst_3dim.append(arr) #최종 리스트에 추가\n",
    "        sample_num=sample_num+1\n",
    "print(\"데이터 샘플의 갯수: \",sample_num)\n",
    "print(\"시계열의 크기 : \",seq_length)\n",
    "X_arr=np.array(feature_lst_3dim) # list를 3차원 array로 변환\n",
    "print(X_arr.shape)\n",
    "#X_arr = feature 가 저장된 3차원 array\n",
    "#################label 값 3차원 array로 데이터 변환################\n",
    "label_len=0\n",
    "label_lst_2dim=[]\n",
    "for i in range(seq_length-1,len(label_list),1):\n",
    "    temp=[]\n",
    "    temp.append(label_list[i])\n",
    "    label_lst_2dim.append(temp)\n",
    "    label_len=label_len+1\n",
    "Y_arr=np.array(label_lst_2dim)\n",
    "print(\"라벨의 갯수: \",label_len)\n",
    "print(Y_arr.shape)\n",
    "#print(Y_arr)\n",
    "# Y_arr = label이 저장된 3차원 array\n",
    "\n",
    "\n",
    "base_dir=\"./\"\n",
    "file_nm=\"PreprocessingData.xlsx\"\n",
    "xlsx_dir=os.path.join(base_dir,file_nm)\n",
    "\n",
    "df.to_excel(xlsx_dir)"
   ]
  },
  {
   "cell_type": "code",
   "execution_count": 23,
   "metadata": {},
   "outputs": [
    {
     "data": {
      "text/plain": [
       "(32332, 60, 1)"
      ]
     },
     "execution_count": 23,
     "metadata": {},
     "output_type": "execute_result"
    }
   ],
   "source": [
    "X_arr.shape"
   ]
  },
  {
   "cell_type": "code",
   "execution_count": 116,
   "metadata": {
    "scrolled": true
   },
   "outputs": [
    {
     "name": "stdout",
     "output_type": "stream",
     "text": [
      "Train on 22632 samples, validate on 9700 samples\n",
      "Epoch 1/5\n",
      "22632/22632 [==============================] - 16s 725us/step - loss: 0.4718 - val_loss: 0.4327\n",
      "Epoch 2/5\n",
      "22632/22632 [==============================] - 17s 730us/step - loss: 0.3593 - val_loss: 0.4238\n",
      "Epoch 3/5\n",
      "22632/22632 [==============================] - 17s 741us/step - loss: 0.3583 - val_loss: 0.4221\n",
      "Epoch 4/5\n",
      "22632/22632 [==============================] - 16s 726us/step - loss: 0.3574 - val_loss: 0.4306\n",
      "Epoch 5/5\n",
      "22632/22632 [==============================] - 16s 725us/step - loss: 0.3571 - val_loss: 0.4276\n"
     ]
    }
   ],
   "source": [
    "from keras import Sequential\n",
    "from keras.models import load_model\n",
    "from keras.layers import Dense, Activation, LSTM\n",
    "# Model Training & Saving\n",
    "# 모델 생성 및 학습. 결과 저장\n",
    "\n",
    "from keras import metrics\n",
    "\n",
    "model = Sequential()\n",
    "for i in range(n_stacked_layers):\n",
    "    model.add(LSTM(n_cell, input_shape=(seq_length, input_dim), activation='sigmoid',weights=None))\n",
    "model.add(Dense(1, input_shape=(1,)))\n",
    "loss = 'mae'\n",
    "optimizer='RMSprop'\n",
    "model.compile(loss=loss, optimizer=optimizer)\n",
    "#어떤 loss func, optimizer를 써야할지, 메트릭스를 써야할지 모르겠다. 일단 나중에 생각하기.\n",
    "history = model.fit(x = X_arr, y = Y_arr, epochs = n_epochs, validation_split=0.3)\n",
    "#밸리데이션셋은 이전 단계에서 햇음. 데이터를 트레인 테스트로 8:2로 나눈다음 8을 \n",
    "#5.6 : 2.4로 트레인 : 밸릳 데이터로 나눔.\n",
    "\n",
    "#모델 저장\n",
    "model_path = f\"./model_{loss}_{optimizer}_{datetime.datetime.now().strftime('%H%M%S')}.h5\"\n",
    "model.save(model_path)\n",
    "\n",
    "\n",
    "#model.evaluate()\n",
    "#model.save()"
   ]
  },
  {
   "cell_type": "code",
   "execution_count": 118,
   "metadata": {},
   "outputs": [
    {
     "data": {
      "image/png": "[encoded data removed]",
      "text/plain": [
       "<Figure size 432x288 with 1 Axes>"
      ]
     },
     "metadata": {
      "needs_background": "light"
     },
     "output_type": "display_data"
    }
   ],
   "source": [
    "import matplotlib.pyplot as plt\n",
    "plt.plot(history.history['loss'])\n",
    "plt.plot(history.history['val_loss'])\n",
    "plt.ylabel('loss')\n",
    "plt.xlabel('epoch')\n",
    "plt.legend(['train','val_loss'], loc='upper left')\n",
    "plt.show()"
   ]
  },
  {
   "cell_type": "code",
   "execution_count": 117,
   "metadata": {},
   "outputs": [
    {
     "data": {
      "text/plain": [
       "Text(0.5, 1.0, 'mae_RMSprop')"
      ]
     },
     "execution_count": 117,
     "metadata": {},
     "output_type": "execute_result"
    },
    {
     "data": {
      "image/png": "[encoded data removed]",
      "text/plain": [
       "<Figure size 432x288 with 1 Axes>"
      ]
     },
     "metadata": {
      "needs_background": "light"
     },
     "output_type": "display_data"
    }
   ],
   "source": [
    "\"\"\"MAE + RMSprop\"\"\"\n",
    "#목표오차 : 1e-4(0.0001, 0.01%, 1bp)\n",
    "_ = model.predict(X_arr)\n",
    "gap = _ - Y_arr #학습한 모델의 예측치와 실제 값의 차이\n",
    "plt.plot(gap)\n",
    "plt.title(loss+'_'+optimizer)"
   ]
  },
  {
   "cell_type": "code",
   "execution_count": 114,
   "metadata": {},
   "outputs": [
    {
     "data": {
      "text/plain": [
       "Text(0.5, 1.0, 'mae_adagrad')"
      ]
     },
     "execution_count": 114,
     "metadata": {},
     "output_type": "execute_result"
    },
    {
     "data": {
      "image/png": "[encoded data removed]",
      "text/plain": [
       "<Figure size 432x288 with 1 Axes>"
      ]
     },
     "metadata": {
      "needs_background": "light"
     },
     "output_type": "display_data"
    }
   ],
   "source": [
    "\"\"\"MAE + ADAGRAD\"\"\"\n",
    "#목표오차 : 1e-4(0.0001, 0.01%, 1bp)\n",
    "_ = model.predict(X_arr)\n",
    "gap = _ - Y_arr #학습한 모델의 예측치와 실제 값의 차이\n",
    "plt.plot(gap)\n",
    "plt.title(loss+'_'+optimizer)"
   ]
  },
  {
   "cell_type": "code",
   "execution_count": 106,
   "metadata": {},
   "outputs": [
    {
     "data": {
      "text/plain": [
       "Text(0.5, 1.0, 'mae_adadelta')"
      ]
     },
     "execution_count": 106,
     "metadata": {},
     "output_type": "execute_result"
    },
    {
     "data": {
      "image/png": "[encoded data removed]",
      "text/plain": [
       "<Figure size 432x288 with 1 Axes>"
      ]
     },
     "metadata": {
      "needs_background": "light"
     },
     "output_type": "display_data"
    }
   ],
   "source": [
    "\"\"\"MAE + ADADELTA\"\"\"\n",
    "#목표오차 : 1e-4(0.0001, 0.01%, 1bp)\n",
    "_ = model.predict(X_arr)\n",
    "gap = _ - Y_arr #학습한 모델의 예측치와 실제 값의 차이\n",
    "plt.plot(gap)\n",
    "plt.title(loss+'_'+optimizer)"
   ]
  },
  {
   "cell_type": "code",
   "execution_count": 97,
   "metadata": {},
   "outputs": [
    {
     "data": {
      "text/plain": [
       "array([[-0.60916395],\n",
       "       [-0.60935517],\n",
       "       [-0.6094286 ],\n",
       "       [-0.00693803],\n",
       "       [-0.0069481 ],\n",
       "       [-0.00695192],\n",
       "       [-0.60947134],\n",
       "       [-0.00140738],\n",
       "       [-0.00520652],\n",
       "       [-0.60869749]])"
      ]
     },
     "execution_count": 97,
     "metadata": {},
     "output_type": "execute_result"
    }
   ],
   "source": [
    "gap[20000:20010]"
   ]
  },
  {
   "cell_type": "code",
   "execution_count": 112,
   "metadata": {
    "scrolled": true
   },
   "outputs": [
    {
     "data": {
      "text/plain": [
       "array([[1.60431655],\n",
       "       [1.60431655],\n",
       "       [1.60431655],\n",
       "       [1.00179856],\n",
       "       [1.00179856],\n",
       "       [1.00179856],\n",
       "       [1.60431655],\n",
       "       [1.        ],\n",
       "       [1.00179856],\n",
       "       [1.60431655]])"
      ]
     },
     "execution_count": 112,
     "metadata": {},
     "output_type": "execute_result"
    }
   ],
   "source": [
    "Y_arr[20000:20010]"
   ]
  },
  {
   "cell_type": "code",
   "execution_count": 76,
   "metadata": {},
   "outputs": [
    {
     "data": {
      "text/plain": [
       "array([[0.9949614 ],\n",
       "       [0.9985926 ],\n",
       "       [0.99672234],\n",
       "       [0.99659204],\n",
       "       [0.9985926 ],\n",
       "       [0.99672234],\n",
       "       [0.99582577],\n",
       "       [0.99545807],\n",
       "       [0.99659204],\n",
       "       [0.99561906],\n",
       "       [0.9951526 ],\n",
       "       [0.9985926 ],\n",
       "       [0.99659204],\n",
       "       [0.99561906],\n",
       "       [0.9951526 ],\n",
       "       [0.9949614 ],\n",
       "       [0.9985926 ],\n",
       "       [0.99672234],\n",
       "       [0.99582577],\n",
       "       [0.99545807],\n",
       "       [0.99531704],\n",
       "       [0.9952643 ],\n",
       "       [0.9952448 ],\n",
       "       [0.9952376 ],\n",
       "       [0.99523497],\n",
       "       [0.995234  ],\n",
       "       [0.99523365],\n",
       "       [0.9952335 ],\n",
       "       [0.9952334 ],\n",
       "       [0.99659204],\n",
       "       [0.99561906],\n",
       "       [0.9985926 ],\n",
       "       [0.99672234],\n",
       "       [0.99659204],\n",
       "       [0.99561906],\n",
       "       [0.9951526 ],\n",
       "       [0.9985926 ],\n",
       "       [0.99659204],\n",
       "       [0.99561906],\n",
       "       [0.9951526 ],\n",
       "       [0.9949614 ],\n",
       "       [0.99488795],\n",
       "       [0.99486053],\n",
       "       [0.99485046],\n",
       "       [0.99484664],\n",
       "       [0.9948452 ],\n",
       "       [0.9985926 ],\n",
       "       [0.99659204],\n",
       "       [0.99561906],\n",
       "       [0.9951526 ]], dtype=float32)"
      ]
     },
     "execution_count": 76,
     "metadata": {},
     "output_type": "execute_result"
    }
   ],
   "source": [
    "_[1500:1550]"
   ]
  }
 ],
 "metadata": {
  "kernelspec": {
   "display_name": "Python 3",
   "language": "python",
   "name": "python3"
  },
  "language_info": {
   "codemirror_mode": {
    "name": "ipython",
    "version": 3
   },
   "file_extension": ".py",
   "mimetype": "text/x-python",
   "name": "python",
   "nbconvert_exporter": "python",
   "pygments_lexer": "ipython3",
   "version": "3.7.4"
  }
 },
 "nbformat": 4,
 "nbformat_minor": 2
}
